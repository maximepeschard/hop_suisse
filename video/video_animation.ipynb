{
 "cells": [
  {
   "cell_type": "markdown",
   "metadata": {},
   "source": [
    "# Useful resources\n",
    "\n",
    "http://stackoverflow.com/questions/9401658/matplotlib-animating-a-scatter-plot\n",
    "\n",
    "https://plot.ly/python/streaming-bubbles-tutorial/\n",
    "\n",
    "https://jakevdp.github.io/blog/2012/08/18/matplotlib-animation-tutorial/"
   ]
  },
  {
   "cell_type": "code",
   "execution_count": 3,
   "metadata": {
    "collapsed": false
   },
   "outputs": [],
   "source": [
    "import matplotlib.pyplot as plt\n",
    "import matplotlib.animation as animation\n",
    "import numpy as np\n",
    "import pandas as pd\n",
    "import seaborn as sns"
   ]
  },
  {
   "cell_type": "code",
   "execution_count": 4,
   "metadata": {
    "collapsed": true
   },
   "outputs": [],
   "source": [
    "np.set_printoptions(precision=2)"
   ]
  },
  {
   "cell_type": "code",
   "execution_count": 5,
   "metadata": {
    "collapsed": true
   },
   "outputs": [],
   "source": [
    "df=pd.read_pickle('../datasets/df_userID.pickle')"
   ]
  },
  {
   "cell_type": "code",
   "execution_count": 6,
   "metadata": {
    "collapsed": true
   },
   "outputs": [],
   "source": [
    "df['Age']=df.RaceYear-df.Year"
   ]
  },
  {
   "cell_type": "code",
   "execution_count": 7,
   "metadata": {
    "collapsed": true
   },
   "outputs": [],
   "source": [
    "df=df[df.Age>4]"
   ]
  },
  {
   "cell_type": "code",
   "execution_count": 8,
   "metadata": {
    "collapsed": true
   },
   "outputs": [],
   "source": [
    "df=df[df.Age<100]"
   ]
  },
  {
   "cell_type": "code",
   "execution_count": 9,
   "metadata": {
    "collapsed": true
   },
   "outputs": [],
   "source": [
    "categories=[0,5,10,15.5,25,43]"
   ]
  },
  {
   "cell_type": "code",
   "execution_count": 10,
   "metadata": {
    "collapsed": true
   },
   "outputs": [],
   "source": [
    "mens=df[df.Sex=='M']"
   ]
  },
  {
   "cell_type": "code",
   "execution_count": 11,
   "metadata": {
    "collapsed": true
   },
   "outputs": [],
   "source": [
    "df_categories=[df[(df.Distance>categories[i-1]) &(df.Distance<categories[i])] for i in range(1,len(categories))]"
   ]
  },
  {
   "cell_type": "code",
   "execution_count": 12,
   "metadata": {
    "collapsed": false
   },
   "outputs": [
    {
     "data": {
      "text/plain": [
       "[265021, 312078, 188205, 365711, 159084]"
      ]
     },
     "execution_count": 12,
     "metadata": {},
     "output_type": "execute_result"
    }
   ],
   "source": [
    "[x.shape[0] for x in df_categories]"
   ]
  },
  {
   "cell_type": "code",
   "execution_count": 13,
   "metadata": {
    "collapsed": false,
    "scrolled": false
   },
   "outputs": [],
   "source": [
    "ages=list(range(4,81,4))"
   ]
  },
  {
   "cell_type": "code",
   "execution_count": 14,
   "metadata": {
    "collapsed": true
   },
   "outputs": [],
   "source": [
    "df_categories_age=[[] for i in df_categories]"
   ]
  },
  {
   "cell_type": "code",
   "execution_count": 15,
   "metadata": {
    "collapsed": false
   },
   "outputs": [],
   "source": [
    "for j in range(len(categories)-1):\n",
    "    df_category=df_categories[j]\n",
    "    df_categories_age[j]=[df_category[(df_category.Age>ages[i-1]) &(df_category.Age<ages[i])] for i in range(1,len(ages))]"
   ]
  },
  {
   "cell_type": "code",
   "execution_count": 16,
   "metadata": {
    "collapsed": true
   },
   "outputs": [],
   "source": [
    "df_categories_age_size=[[0 for i in range(len(df_categories_age[0]))] for i in range(len(df_categories_age))]"
   ]
  },
  {
   "cell_type": "code",
   "execution_count": 17,
   "metadata": {
    "collapsed": false
   },
   "outputs": [],
   "source": [
    "for i in range(len(df_categories_age)):\n",
    "    for j in range(len(df_categories_age[0])):\n",
    "        df_categories_age_size[i][j]=df_categories_age[i][j].shape[0]\n",
    "df_categories_age_size=np.array(df_categories_age_size)"
   ]
  },
  {
   "cell_type": "code",
   "execution_count": 18,
   "metadata": {
    "collapsed": false
   },
   "outputs": [
    {
     "data": {
      "text/plain": [
       "array([[51470, 97168, 35913,  3719,  1283,  1600,  1269,   964,  1126,\n",
       "         1398,  1249,  1165,   867,   543,   571,   334,   173,    81,\n",
       "           22],\n",
       "       [   11,   368,  2461, 10017, 13152, 19829, 22938, 23808, 26644,\n",
       "        30681, 26645, 21727, 14599,  9073,  5846,  3326,  1766,   761,\n",
       "          251],\n",
       "       [    0,    36,   669,  3969,  5165,  8241, 11119, 12509, 15317,\n",
       "        21929, 21254, 14740,  9464,  6245,  4612,  2640,  1542,   643,\n",
       "          205],\n",
       "       [    5,   105,   784,  5945, 11224, 20594, 27413, 30666, 35750,\n",
       "        40333, 36520, 27038, 16894,  9984,  5796,  2955,  1370,   469,\n",
       "          133],\n",
       "       [    0,     2,    17,   647,  2500,  5497,  9541, 12457, 15965,\n",
       "        19686, 18329, 14857,  9519,  5489,  2891,  1393,   504,   132,\n",
       "           34]])"
      ]
     },
     "execution_count": 18,
     "metadata": {},
     "output_type": "execute_result"
    }
   ],
   "source": [
    "df_categories_age_size"
   ]
  },
  {
   "cell_type": "code",
   "execution_count": 19,
   "metadata": {
    "collapsed": false
   },
   "outputs": [],
   "source": [
    "df_category_age_usercount=[[y.groupby(y.UserID).count().shape[0] for y in x] for x in df_categories_age]\n",
    "df_age_usercount=np.sum(df_category_age_usercount,axis=0)"
   ]
  },
  {
   "cell_type": "code",
   "execution_count": 20,
   "metadata": {
    "collapsed": false,
    "scrolled": true
   },
   "outputs": [],
   "source": [
    "df_percentage_of_users_per_category=df_category_age_usercount/df_age_usercount"
   ]
  },
  {
   "cell_type": "code",
   "execution_count": 21,
   "metadata": {
    "collapsed": false
   },
   "outputs": [],
   "source": [
    "a=df_categories_age[2][0]"
   ]
  },
  {
   "cell_type": "code",
   "execution_count": 22,
   "metadata": {
    "collapsed": false
   },
   "outputs": [],
   "source": [
    "final_table=[[np.mean(y.groupby(y.UserID).count().Race) for y in x] for x in df_categories_age]"
   ]
  },
  {
   "cell_type": "code",
   "execution_count": 23,
   "metadata": {
    "collapsed": false
   },
   "outputs": [
    {
     "data": {
      "text/plain": [
       "array([[ 1.46,  1.62,  1.53,  1.14,  1.19,  1.21,  1.17,  1.16,  1.22,\n",
       "         1.23,  1.29,  1.28,  1.41,  1.46,  1.5 ,  1.48,  1.59,  1.69,\n",
       "         1.57],\n",
       "       [ 1.  ,  1.26,  1.3 ,  1.42,  1.41,  1.44,  1.46,  1.53,  1.6 ,\n",
       "         1.69,  1.75,  1.82,  1.86,  1.89,  1.95,  2.  ,  2.12,  2.33,\n",
       "         2.09],\n",
       "       [  nan,  1.24,  1.6 ,  1.73,  1.63,  1.62,  1.66,  1.68,  1.76,\n",
       "         1.99,  2.06,  1.92,  1.93,  2.  ,  2.2 ,  2.27,  2.6 ,  2.66,\n",
       "         2.81],\n",
       "       [ 1.  ,  1.36,  1.3 ,  1.29,  1.32,  1.4 ,  1.43,  1.49,  1.57,\n",
       "         1.69,  1.75,  1.79,  1.78,  1.82,  1.83,  1.84,  1.92,  1.91,\n",
       "         1.96],\n",
       "       [  nan,  1.  ,  1.  ,  1.14,  1.21,  1.28,  1.33,  1.36,  1.42,\n",
       "         1.48,  1.5 ,  1.52,  1.55,  1.55,  1.57,  1.6 ,  1.64,  1.59,  1.7 ]])"
      ]
     },
     "execution_count": 23,
     "metadata": {},
     "output_type": "execute_result"
    }
   ],
   "source": [
    "np.array(final_table)"
   ]
  },
  {
   "cell_type": "code",
   "execution_count": 24,
   "metadata": {
    "collapsed": false
   },
   "outputs": [],
   "source": [
    "paces_matrix=[[0 for j in range(len(ages)-1)] for i in range(len(categories)-1)]"
   ]
  },
  {
   "cell_type": "code",
   "execution_count": 25,
   "metadata": {
    "collapsed": false
   },
   "outputs": [],
   "source": [
    "for i in range(len(categories)-1):\n",
    "    for j in range(len(ages)-1):\n",
    "        paces_matrix[i][j]=np.mean(df_categories_age[i][j].Pace)"
   ]
  },
  {
   "cell_type": "code",
   "execution_count": 26,
   "metadata": {
    "collapsed": false
   },
   "outputs": [],
   "source": [
    "np_paces_matrix=np.array(paces_matrix)"
   ]
  },
  {
   "cell_type": "code",
   "execution_count": 27,
   "metadata": {
    "collapsed": true
   },
   "outputs": [],
   "source": [
    "np_paces=np.zeros(np_paces_matrix.shape)"
   ]
  },
  {
   "cell_type": "code",
   "execution_count": 28,
   "metadata": {
    "collapsed": false
   },
   "outputs": [],
   "source": [
    "for i in range(np_paces_matrix.shape[0]):\n",
    "    for j in range(np_paces_matrix.shape[1]):\n",
    "        np_paces[i,j]=np_paces_matrix[i,j].total_seconds()"
   ]
  },
  {
   "cell_type": "code",
   "execution_count": 29,
   "metadata": {
    "collapsed": true
   },
   "outputs": [],
   "source": [
    "def interpolate(matrix,interpolation=10):\n",
    "    return_matrix=np.zeros([matrix.shape[0],(matrix.shape[1]-1)*interpolation+1])\n",
    "    \n",
    "    return_matrix[:,0]=matrix[:,0]\n",
    "    starting_index=0\n",
    "    for j in range(1,matrix.shape[1]):\n",
    "        gradient=(matrix[:,j]-matrix[:,j-1])/interpolation\n",
    "        for i in range(1,interpolation):\n",
    "            return_matrix[:,starting_index+i]=return_matrix[:,starting_index]+i*gradient\n",
    "        return_matrix[:,starting_index+interpolation]=matrix[:,j]\n",
    "        starting_index+=interpolation\n",
    "    return return_matrix"
   ]
  },
  {
   "cell_type": "code",
   "execution_count": 39,
   "metadata": {
    "collapsed": false
   },
   "outputs": [],
   "source": [
    "df_categories_age_size=interpolate(df_categories_age_size[:,1:])"
   ]
  },
  {
   "cell_type": "code",
   "execution_count": 40,
   "metadata": {
    "collapsed": false
   },
   "outputs": [],
   "source": [
    "np_paces=interpolate(np_paces[:,1:])"
   ]
  },
  {
   "cell_type": "code",
   "execution_count": 41,
   "metadata": {
    "collapsed": true
   },
   "outputs": [],
   "source": [
    "df_percentage_of_users_per_category=interpolate(df_percentage_of_users_per_category[:,1:])"
   ]
  },
  {
   "cell_type": "code",
   "execution_count": 42,
   "metadata": {
    "collapsed": false
   },
   "outputs": [
    {
     "data": {
      "text/plain": [
       "(5, 1691)"
      ]
     },
     "execution_count": 42,
     "metadata": {},
     "output_type": "execute_result"
    }
   ],
   "source": [
    "df_percentage_of_users_per_category.shape"
   ]
  },
  {
   "cell_type": "code",
   "execution_count": 43,
   "metadata": {
    "collapsed": false
   },
   "outputs": [
    {
     "data": {
      "text/plain": [
       "(5, 1691)"
      ]
     },
     "execution_count": 43,
     "metadata": {},
     "output_type": "execute_result"
    }
   ],
   "source": [
    "df_categories_age_size.shape"
   ]
  },
  {
   "cell_type": "code",
   "execution_count": 44,
   "metadata": {
    "collapsed": false
   },
   "outputs": [
    {
     "data": {
      "text/plain": [
       "(5, 1691)"
      ]
     },
     "execution_count": 44,
     "metadata": {},
     "output_type": "execute_result"
    }
   ],
   "source": [
    "np_paces.shape"
   ]
  },
  {
   "cell_type": "code",
   "execution_count": 45,
   "metadata": {
    "collapsed": false
   },
   "outputs": [
    {
     "data": {
      "text/plain": [
       "array([[ 287.63,  287.46,  287.29, ...,  461.85,  462.4 ,  462.95],\n",
       "       [ 324.49,  324.3 ,  324.1 , ...,  402.71,  403.  ,  403.29],\n",
       "       [ 343.46,  343.31,  343.15, ...,  399.97,  400.23,  400.5 ],\n",
       "       [ 466.44,  465.1 ,  463.77, ...,  414.62,  414.74,  414.86],\n",
       "       [ 424.44,  424.09,  423.73, ...,  465.99,  465.96,  465.94]])"
      ]
     },
     "execution_count": 45,
     "metadata": {},
     "output_type": "execute_result"
    }
   ],
   "source": [
    "np_paces"
   ]
  },
  {
   "cell_type": "code",
   "execution_count": 46,
   "metadata": {
    "collapsed": true
   },
   "outputs": [],
   "source": [
    "distances_list=['<5km','5km','10km','21.0975km','42.195km']"
   ]
  },
  {
   "cell_type": "code",
   "execution_count": 69,
   "metadata": {
    "collapsed": false
   },
   "outputs": [],
   "source": [
    "class AnimatedScatter(object):\n",
    "    \"\"\"An animated scatter plot using matplotlib.animations.FuncAnimation.\"\"\"\n",
    "    def __init__(self, numpoints=50):\n",
    "        self.numpoints = numpoints\n",
    "        self.stream = self.data_stream()\n",
    "\n",
    "        # Setup the figure and axes...\n",
    "        self.fig, self.ax = plt.subplots()\n",
    "        # Then setup FuncAnimation.\n",
    "        self.ani = animation.FuncAnimation(self.fig, self.update, interval=10, \n",
    "                                           init_func=self.setup_plot, blit=True)\n",
    "\n",
    "    def setup_plot(self):\n",
    "        \"\"\"Initial drawing of the scatter plot.\"\"\"\n",
    "        x,y,s,time_step = next(self.stream)\n",
    "        y = [r for r in y]\n",
    "        x = [i for i in x]\n",
    "#         s = [1000 for i in y]\n",
    "        c = 1\n",
    "#         plt.annotate('ciao',(0.4,300))\n",
    "#         print(y)\n",
    "#         print(s)\n",
    "        self.scat = self.ax.scatter(x, y, s=s, animated=True)\n",
    "        self.ax.axis([0, 1, 250, 500])\n",
    "\n",
    "        # For FuncAnimation's sake, we need to return the artist we'll be using\n",
    "        # Note that it expects a sequence of artists, thus the trailing comma.\n",
    "        return self.scat,\n",
    "\n",
    "    def data_stream(self):\n",
    "        \"\"\"Generate a random walk (brownian motion). Data is scaled to produce\n",
    "        a soft \"flickering\" effect.\"\"\"\n",
    "        x=df_percentage_of_users_per_category\n",
    "        data=np_paces\n",
    "        size=df_categories_age_size\n",
    "        size=np.sqrt(size)*10\n",
    "        \n",
    "        for i in range(1,data.shape[1]):\n",
    "            yield x[:,i],data[:,i],size[:,i],i\n",
    "        \n",
    "        #         data = np.random.random((4, self.numpoints))\n",
    "#         xy = data[:2, :]\n",
    "#         s, c = data[2:, :]\n",
    "#         xy -= 0.5\n",
    "#         xy *= 10\n",
    "#         for i in range(1000):\n",
    "#             xy += 0.03 * (np.random.random((2, self.numpoints)) - 0.5)\n",
    "#             s += 0.05 * (np.random.random(self.numpoints) - 0.5)\n",
    "#             c += 0.02 * (np.random.random(self.numpoints) - 0.5)\n",
    "#             yield data\n",
    "\n",
    "    def update(self, i):\n",
    "        \"\"\"Update the scatter plot.\"\"\"\n",
    "        try:\n",
    "            x,y,s,time_step = next(self.stream)\n",
    "        except:\n",
    "            return self.scat\n",
    "        y = [r for r in y]\n",
    "        x = [i for i in x]\n",
    "#         s = [1000 for i in y]\n",
    "        c = 1\n",
    "#         print(y)\n",
    "#         print(s)\n",
    "        graph=np.row_stack((y,x))\n",
    "        # Set x and y data...\n",
    "        self.scat.set_offsets(graph)\n",
    "        # Set sizes...\n",
    "        self.scat._sizes = s# 300 * abs(data[2])**1.5 + 100\n",
    "\n",
    "        # Set colors..\n",
    "#         self.scat.set_array(data[3])\n",
    "        ann=[]\n",
    "        self.scat =self.ax.scatter(x, y, s=s, animated=True)\n",
    "        ann.append(self.scat)\n",
    "        for i in range(len(x)):\n",
    "            ann.append(plt.annotate(distances_list[i],(x[i]+0.03,y[i]+5),weight='bold',fontname='Helvetica',color='red'))\n",
    "            \n",
    "        \n",
    "        \n",
    "        # We need to return the updated artist for FuncAnimation to draw..\n",
    "        # Note that it expects a sequence of artists, thus the trailing comma.\n",
    "        return ann\n",
    "\n",
    "    def show(self):\n",
    "        plt.show()\n"
   ]
  },
  {
   "cell_type": "code",
   "execution_count": 70,
   "metadata": {
    "collapsed": false,
    "scrolled": true
   },
   "outputs": [],
   "source": [
    "a = AnimatedScatter()\n",
    "\n",
    "a.show()"
   ]
  },
  {
   "cell_type": "markdown",
   "metadata": {},
   "source": [
    "# Old code"
   ]
  },
  {
   "cell_type": "code",
   "execution_count": null,
   "metadata": {
    "collapsed": true
   },
   "outputs": [],
   "source": [
    "class AnimatedScatter(object):\n",
    "    \"\"\"An animated scatter plot using matplotlib.animations.FuncAnimation.\"\"\"\n",
    "    def __init__(self, numpoints=50):\n",
    "        self.numpoints = numpoints\n",
    "        self.stream = self.data_stream()\n",
    "\n",
    "        # Setup the figure and axes...\n",
    "        self.fig, self.ax = plt.subplots()\n",
    "        # Then setup FuncAnimation.\n",
    "        self.ani = animation.FuncAnimation(self.fig, self.update, interval=5, \n",
    "                                           init_func=self.setup_plot, blit=True)\n",
    "\n",
    "    def setup_plot(self):\n",
    "        \"\"\"Initial drawing of the scatter plot.\"\"\"\n",
    "        x, y, s, c = next(self.stream)\n",
    "        self.scat = self.ax.scatter(x, y, c=c, s=s, animated=True)\n",
    "        self.ax.axis([-1, 1, -10, 10])\n",
    "\n",
    "        # For FuncAnimation's sake, we need to return the artist we'll be using\n",
    "        # Note that it expects a sequence of artists, thus the trailing comma.\n",
    "        return self.scat,\n",
    "\n",
    "    def data_stream(self):\n",
    "        \"\"\"Generate a random walk (brownian motion). Data is scaled to produce\n",
    "        a soft \"flickering\" effect.\"\"\"\n",
    "        data=np_paces_matrix\n",
    "        \n",
    "        for i in range(1,data.shape[1]):\n",
    "            yield data[:,i]\n",
    "        \n",
    "        #         data = np.random.random((4, self.numpoints))\n",
    "#         xy = data[:2, :]\n",
    "#         s, c = data[2:, :]\n",
    "#         xy -= 0.5\n",
    "#         xy *= 10\n",
    "#         for i in range(1000):\n",
    "#             xy += 0.03 * (np.random.random((2, self.numpoints)) - 0.5)\n",
    "#             s += 0.05 * (np.random.random(self.numpoints) - 0.5)\n",
    "#             c += 0.02 * (np.random.random(self.numpoints) - 0.5)\n",
    "#             yield data\n",
    "\n",
    "    def update(self, i):\n",
    "        \"\"\"Update the scatter plot.\"\"\"\n",
    "        data = next(self.stream)\n",
    "\n",
    "        # Set x and y data...\n",
    "        self.scat.set_offsets(data[:2, :])\n",
    "        # Set sizes...\n",
    "        self.scat._sizes = 300 * abs(data[2])**1.5 + 100\n",
    "        # Set colors..\n",
    "        self.scat.set_array(data[3])\n",
    "\n",
    "        # We need to return the updated artist for FuncAnimation to draw..\n",
    "        # Note that it expects a sequence of artists, thus the trailing comma.\n",
    "        return self.scat,\n",
    "\n",
    "    def show(self):\n",
    "        plt.show()\n"
   ]
  },
  {
   "cell_type": "code",
   "execution_count": null,
   "metadata": {
    "collapsed": true
   },
   "outputs": [],
   "source": []
  }
 ],
 "metadata": {
  "anaconda-cloud": {},
  "kernelspec": {
   "display_name": "Python [Root]",
   "language": "python",
   "name": "Python [Root]"
  },
  "language_info": {
   "codemirror_mode": {
    "name": "ipython",
    "version": 3
   },
   "file_extension": ".py",
   "mimetype": "text/x-python",
   "name": "python",
   "nbconvert_exporter": "python",
   "pygments_lexer": "ipython3",
   "version": "3.5.2"
  }
 },
 "nbformat": 4,
 "nbformat_minor": 0
}
