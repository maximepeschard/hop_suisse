{
 "cells": [
  {
   "cell_type": "markdown",
   "metadata": {},
   "source": [
    "# Useful resources\n",
    "\n",
    "http://stackoverflow.com/questions/9401658/matplotlib-animating-a-scatter-plot\n",
    "\n",
    "https://plot.ly/python/streaming-bubbles-tutorial/\n",
    "\n",
    "https://jakevdp.github.io/blog/2012/08/18/matplotlib-animation-tutorial/"
   ]
  },
  {
   "cell_type": "code",
   "execution_count": 1,
   "metadata": {
    "collapsed": false
   },
   "outputs": [],
   "source": [
    "import matplotlib.pyplot as plt\n",
    "import matplotlib.animation as animation\n",
    "import numpy as np\n",
    "import pandas as pd\n",
    "import seaborn as sns"
   ]
  },
  {
   "cell_type": "code",
   "execution_count": 2,
   "metadata": {
    "collapsed": true
   },
   "outputs": [],
   "source": [
    "df=pd.read_pickle('../datasets/df_userID.pickle')"
   ]
  },
  {
   "cell_type": "code",
   "execution_count": 3,
   "metadata": {
    "collapsed": true
   },
   "outputs": [],
   "source": [
    "df['Age']=df.RaceYear-df.Year"
   ]
  },
  {
   "cell_type": "code",
   "execution_count": 4,
   "metadata": {
    "collapsed": true
   },
   "outputs": [],
   "source": [
    "df=df[df.Age>4]"
   ]
  },
  {
   "cell_type": "code",
   "execution_count": 5,
   "metadata": {
    "collapsed": true
   },
   "outputs": [],
   "source": [
    "df=df[df.Age<100]"
   ]
  },
  {
   "cell_type": "code",
   "execution_count": 6,
   "metadata": {
    "collapsed": true
   },
   "outputs": [],
   "source": [
    "categories=[0,5,10,15.5,25,43]"
   ]
  },
  {
   "cell_type": "code",
   "execution_count": 7,
   "metadata": {
    "collapsed": true
   },
   "outputs": [],
   "source": [
    "mens=df[df.Sex=='M']"
   ]
  },
  {
   "cell_type": "code",
   "execution_count": 8,
   "metadata": {
    "collapsed": true
   },
   "outputs": [],
   "source": [
    "df_categories=[df[(df.Distance>categories[i-1]) &(df.Distance<categories[i])] for i in range(1,len(categories))]"
   ]
  },
  {
   "cell_type": "code",
   "execution_count": 9,
   "metadata": {
    "collapsed": false
   },
   "outputs": [
    {
     "data": {
      "text/plain": [
       "[265021, 312078, 188205, 365711, 159084]"
      ]
     },
     "execution_count": 9,
     "metadata": {},
     "output_type": "execute_result"
    }
   ],
   "source": [
    "[x.shape[0] for x in df_categories]"
   ]
  },
  {
   "cell_type": "code",
   "execution_count": 10,
   "metadata": {
    "collapsed": false,
    "scrolled": false
   },
   "outputs": [],
   "source": [
    "ages=list(range(4,81,4))"
   ]
  },
  {
   "cell_type": "code",
   "execution_count": 11,
   "metadata": {
    "collapsed": true
   },
   "outputs": [],
   "source": [
    "df_categories_age=[[] for i in df_categories]"
   ]
  },
  {
   "cell_type": "code",
   "execution_count": 12,
   "metadata": {
    "collapsed": false
   },
   "outputs": [],
   "source": [
    "for j in range(len(categories)-1):\n",
    "    df_category=df_categories[j]\n",
    "    df_categories_age[j]=[df_category[(df_category.Age>ages[i-1]) &(df_category.Age<ages[i])] for i in range(1,len(ages))]"
   ]
  },
  {
   "cell_type": "code",
   "execution_count": 13,
   "metadata": {
    "collapsed": false
   },
   "outputs": [
    {
     "name": "stdout",
     "output_type": "stream",
     "text": [
      "5\n",
      "105\n",
      "784\n",
      "5945\n",
      "11224\n",
      "20594\n",
      "27413\n",
      "30666\n",
      "35750\n",
      "40333\n",
      "36520\n",
      "27038\n",
      "16894\n",
      "9984\n",
      "5796\n",
      "2955\n",
      "1370\n",
      "469\n",
      "133\n"
     ]
    }
   ],
   "source": [
    "for i in df_categories_age[3]:\n",
    "    print(i.shape[0])"
   ]
  },
  {
   "cell_type": "code",
   "execution_count": 14,
   "metadata": {
    "collapsed": false
   },
   "outputs": [],
   "source": [
    "paces_matrix=[[0 for j in range(len(ages)-1)] for i in range(len(categories)-1)]"
   ]
  },
  {
   "cell_type": "code",
   "execution_count": 15,
   "metadata": {
    "collapsed": false
   },
   "outputs": [],
   "source": [
    "for i in range(len(categories)-1):\n",
    "    for j in range(len(ages)-1):\n",
    "        paces_matrix[i][j]=np.mean(df_categories_age[i][j].Pace)"
   ]
  },
  {
   "cell_type": "code",
   "execution_count": 16,
   "metadata": {
    "collapsed": false
   },
   "outputs": [],
   "source": [
    "np_paces_matrix=np.array(paces_matrix)"
   ]
  },
  {
   "cell_type": "code",
   "execution_count": 50,
   "metadata": {
    "collapsed": true
   },
   "outputs": [],
   "source": [
    "class AnimatedScatter(object):\n",
    "    \"\"\"An animated scatter plot using matplotlib.animations.FuncAnimation.\"\"\"\n",
    "    def __init__(self, numpoints=50):\n",
    "        self.numpoints = numpoints\n",
    "        self.stream = self.data_stream()\n",
    "\n",
    "        # Setup the figure and axes...\n",
    "        self.fig, self.ax = plt.subplots()\n",
    "        # Then setup FuncAnimation.\n",
    "        self.ani = animation.FuncAnimation(self.fig, self.update, interval=5000, \n",
    "                                           init_func=self.setup_plot, blit=True)\n",
    "\n",
    "    def setup_plot(self):\n",
    "        \"\"\"Initial drawing of the scatter plot.\"\"\"\n",
    "        y = next(self.stream)\n",
    "        y = [r.total_seconds() for r in y]\n",
    "        x = [1 for i in y]\n",
    "        s = [1000 for i in y]\n",
    "        c = 1\n",
    "        print(y)\n",
    "        self.scat = self.ax.scatter(x, y, s=s, animated=True)\n",
    "        self.ax.axis([-100, 100, -500, 1200])\n",
    "\n",
    "        # For FuncAnimation's sake, we need to return the artist we'll be using\n",
    "        # Note that it expects a sequence of artists, thus the trailing comma.\n",
    "        return self.scat,\n",
    "\n",
    "    def data_stream(self):\n",
    "        \"\"\"Generate a random walk (brownian motion). Data is scaled to produce\n",
    "        a soft \"flickering\" effect.\"\"\"\n",
    "        data=np_paces_matrix\n",
    "        \n",
    "        for i in range(1,data.shape[1]):\n",
    "            yield data[:,i]\n",
    "        \n",
    "        #         data = np.random.random((4, self.numpoints))\n",
    "#         xy = data[:2, :]\n",
    "#         s, c = data[2:, :]\n",
    "#         xy -= 0.5\n",
    "#         xy *= 10\n",
    "#         for i in range(1000):\n",
    "#             xy += 0.03 * (np.random.random((2, self.numpoints)) - 0.5)\n",
    "#             s += 0.05 * (np.random.random(self.numpoints) - 0.5)\n",
    "#             c += 0.02 * (np.random.random(self.numpoints) - 0.5)\n",
    "#             yield data\n",
    "\n",
    "    def update(self, i):\n",
    "        \"\"\"Update the scatter plot.\"\"\"\n",
    "        try:\n",
    "            y = next(self.stream)\n",
    "        except:\n",
    "            return self.scat\n",
    "        y = [r.total_seconds() for r in y]\n",
    "        x = [1 for i in y]\n",
    "        s = [1000 for i in y]\n",
    "        c = 1\n",
    "        print(y)\n",
    "        graph=np.row_stack((y,x))\n",
    "        # Set x and y data...\n",
    "        self.scat.set_offsets(graph)\n",
    "        # Set sizes...\n",
    "        self.scat._sizes = s# 300 * abs(data[2])**1.5 + 100\n",
    "\n",
    "        # Set colors..\n",
    "#         self.scat.set_array(data[3])\n",
    "        self.scat =self.ax.scatter(x, y, s=s, animated=True)\n",
    "\n",
    "        # We need to return the updated artist for FuncAnimation to draw..\n",
    "        # Note that it expects a sequence of artists, thus the trailing comma.\n",
    "        return self.scat,\n",
    "\n",
    "    def show(self):\n",
    "        plt.show()\n"
   ]
  },
  {
   "cell_type": "code",
   "execution_count": 40,
   "metadata": {
    "collapsed": true
   },
   "outputs": [],
   "source": [
    "?a.scat.set_offsets"
   ]
  },
  {
   "cell_type": "code",
   "execution_count": 51,
   "metadata": {
    "collapsed": false,
    "scrolled": true
   },
   "outputs": [
    {
     "name": "stdout",
     "output_type": "stream",
     "text": [
      "[289.311903095, 326.44565217300004, 345.0, 479.819047619, 428.0]\n",
      "[272.489906162, 306.90857375, 329.617339312, 346.043367346, 392.41176470500005]\n",
      "[268.47082549000004, 287.19806329200003, 314.88107835700004, 317.11118587000004, 376.629057187]\n",
      "[326.023382696, 290.37887773700004, 295.86911907, 317.281895937, 369.6784]\n",
      "[340.39500000000004, 297.52635029500004, 299.853051814, 321.337816839, 361.156267054]\n",
      "[332.52167060600004, 296.43800680000004, 298.862217825, 322.075110349, 359.555706948]\n",
      "[327.97406639, 294.67284106100004, 298.75401710700004, 321.49155416400004, 359.64325278900003]\n",
      "[325.67495559500003, 294.46517039400004, 301.88228765400004, 321.460503496, 360.835202004]\n",
      "[336.83476394800005, 297.157100485, 300.679511149, 321.99372722000004, 367.251447729]\n",
      "[336.538831064, 300.966447738, 304.230544838, 325.885980284, 375.992689181]\n",
      "[348.92188841200004, 303.414737423, 309.299728629, 331.258303128, 386.430032981]\n"
     ]
    }
   ],
   "source": [
    "a = AnimatedScatter()\n",
    "a.show()"
   ]
  },
  {
   "cell_type": "markdown",
   "metadata": {},
   "source": [
    "# Old code"
   ]
  },
  {
   "cell_type": "code",
   "execution_count": null,
   "metadata": {
    "collapsed": true
   },
   "outputs": [],
   "source": [
    "class AnimatedScatter(object):\n",
    "    \"\"\"An animated scatter plot using matplotlib.animations.FuncAnimation.\"\"\"\n",
    "    def __init__(self, numpoints=50):\n",
    "        self.numpoints = numpoints\n",
    "        self.stream = self.data_stream()\n",
    "\n",
    "        # Setup the figure and axes...\n",
    "        self.fig, self.ax = plt.subplots()\n",
    "        # Then setup FuncAnimation.\n",
    "        self.ani = animation.FuncAnimation(self.fig, self.update, interval=5, \n",
    "                                           init_func=self.setup_plot, blit=True)\n",
    "\n",
    "    def setup_plot(self):\n",
    "        \"\"\"Initial drawing of the scatter plot.\"\"\"\n",
    "        x, y, s, c = next(self.stream)\n",
    "        self.scat = self.ax.scatter(x, y, c=c, s=s, animated=True)\n",
    "        self.ax.axis([-10, 10, -10, 10])\n",
    "\n",
    "        # For FuncAnimation's sake, we need to return the artist we'll be using\n",
    "        # Note that it expects a sequence of artists, thus the trailing comma.\n",
    "        return self.scat,\n",
    "\n",
    "    def data_stream(self):\n",
    "        \"\"\"Generate a random walk (brownian motion). Data is scaled to produce\n",
    "        a soft \"flickering\" effect.\"\"\"\n",
    "        data=np_paces_matrix\n",
    "        \n",
    "        for i in range(1,data.shape[1]):\n",
    "            yield data[:,i]\n",
    "        \n",
    "        #         data = np.random.random((4, self.numpoints))\n",
    "#         xy = data[:2, :]\n",
    "#         s, c = data[2:, :]\n",
    "#         xy -= 0.5\n",
    "#         xy *= 10\n",
    "#         for i in range(1000):\n",
    "#             xy += 0.03 * (np.random.random((2, self.numpoints)) - 0.5)\n",
    "#             s += 0.05 * (np.random.random(self.numpoints) - 0.5)\n",
    "#             c += 0.02 * (np.random.random(self.numpoints) - 0.5)\n",
    "#             yield data\n",
    "\n",
    "    def update(self, i):\n",
    "        \"\"\"Update the scatter plot.\"\"\"\n",
    "        data = next(self.stream)\n",
    "\n",
    "        # Set x and y data...\n",
    "        self.scat.set_offsets(data[:2, :])\n",
    "        # Set sizes...\n",
    "        self.scat._sizes = 300 * abs(data[2])**1.5 + 100\n",
    "        # Set colors..\n",
    "        self.scat.set_array(data[3])\n",
    "\n",
    "        # We need to return the updated artist for FuncAnimation to draw..\n",
    "        # Note that it expects a sequence of artists, thus the trailing comma.\n",
    "        return self.scat,\n",
    "\n",
    "    def show(self):\n",
    "        plt.show()\n"
   ]
  }
 ],
 "metadata": {
  "anaconda-cloud": {},
  "kernelspec": {
   "display_name": "Python [Root]",
   "language": "python",
   "name": "Python [Root]"
  },
  "language_info": {
   "codemirror_mode": {
    "name": "ipython",
    "version": 3
   },
   "file_extension": ".py",
   "mimetype": "text/x-python",
   "name": "python",
   "nbconvert_exporter": "python",
   "pygments_lexer": "ipython3",
   "version": "3.5.2"
  }
 },
 "nbformat": 4,
 "nbformat_minor": 0
}
