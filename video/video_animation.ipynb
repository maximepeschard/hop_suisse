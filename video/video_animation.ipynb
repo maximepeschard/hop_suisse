{
 "cells": [
  {
   "cell_type": "markdown",
   "metadata": {},
   "source": [
    "# Useful resources\n",
    "\n",
    "http://stackoverflow.com/questions/9401658/matplotlib-animating-a-scatter-plot\n",
    "\n",
    "https://plot.ly/python/streaming-bubbles-tutorial/\n",
    "\n",
    "https://jakevdp.github.io/blog/2012/08/18/matplotlib-animation-tutorial/"
   ]
  },
  {
   "cell_type": "code",
   "execution_count": 1,
   "metadata": {
    "collapsed": false
   },
   "outputs": [],
   "source": [
    "import matplotlib.pyplot as plt\n",
    "import matplotlib.animation as animation\n",
    "import numpy as np\n",
    "import pandas as pd\n",
    "import seaborn as sns"
   ]
  },
  {
   "cell_type": "code",
   "execution_count": 2,
   "metadata": {
    "collapsed": true
   },
   "outputs": [],
   "source": [
    "df=pd.read_pickle('../datasets/df_userID.pickle')"
   ]
  },
  {
   "cell_type": "code",
   "execution_count": 3,
   "metadata": {
    "collapsed": true
   },
   "outputs": [],
   "source": [
    "df['Age']=df.RaceYear-df.Year"
   ]
  },
  {
   "cell_type": "code",
   "execution_count": 4,
   "metadata": {
    "collapsed": true
   },
   "outputs": [],
   "source": [
    "df=df[df.Age>4]"
   ]
  },
  {
   "cell_type": "code",
   "execution_count": 5,
   "metadata": {
    "collapsed": true
   },
   "outputs": [],
   "source": [
    "df=df[df.Age<100]"
   ]
  },
  {
   "cell_type": "code",
   "execution_count": 6,
   "metadata": {
    "collapsed": true
   },
   "outputs": [],
   "source": [
    "categories=[0,5,10,15.5,25,43]"
   ]
  },
  {
   "cell_type": "code",
   "execution_count": 7,
   "metadata": {
    "collapsed": true
   },
   "outputs": [],
   "source": [
    "mens=df[df.Sex=='M']"
   ]
  },
  {
   "cell_type": "code",
   "execution_count": 8,
   "metadata": {
    "collapsed": true
   },
   "outputs": [],
   "source": [
    "df_categories=[df[(df.Distance>categories[i-1]) &(df.Distance<categories[i])] for i in range(1,len(categories))]"
   ]
  },
  {
   "cell_type": "code",
   "execution_count": 9,
   "metadata": {
    "collapsed": false
   },
   "outputs": [
    {
     "data": {
      "text/plain": [
       "[265021, 312078, 188205, 365711, 159084]"
      ]
     },
     "execution_count": 9,
     "metadata": {},
     "output_type": "execute_result"
    }
   ],
   "source": [
    "[x.shape[0] for x in df_categories]"
   ]
  },
  {
   "cell_type": "code",
   "execution_count": 10,
   "metadata": {
    "collapsed": false,
    "scrolled": false
   },
   "outputs": [],
   "source": [
    "ages=list(range(4,81,4))"
   ]
  },
  {
   "cell_type": "code",
   "execution_count": 11,
   "metadata": {
    "collapsed": true
   },
   "outputs": [],
   "source": [
    "df_categories_age=[[] for i in df_categories]"
   ]
  },
  {
   "cell_type": "code",
   "execution_count": 12,
   "metadata": {
    "collapsed": false
   },
   "outputs": [],
   "source": [
    "for j in range(len(categories)-1):\n",
    "    df_category=df_categories[j]\n",
    "    df_categories_age[j]=[df_category[(df_category.Age>ages[i-1]) &(df_category.Age<ages[i])] for i in range(1,len(ages))]"
   ]
  },
  {
   "cell_type": "code",
   "execution_count": 91,
   "metadata": {
    "collapsed": true
   },
   "outputs": [],
   "source": [
    "df_categories_age_size=[[0 for i in range(len(df_categories_age[0]))] for i in range(len(df_categories_age))]"
   ]
  },
  {
   "cell_type": "code",
   "execution_count": 92,
   "metadata": {
    "collapsed": false
   },
   "outputs": [],
   "source": [
    "for i in range(len(df_categories_age)):\n",
    "    for j in range(len(df_categories_age[0])):\n",
    "        df_categories_age_size[i][j]=df_categories_age[i][j].shape[0]\n",
    "df_categories_age_size=np.array(df_categories_age_size)"
   ]
  },
  {
   "cell_type": "code",
   "execution_count": 13,
   "metadata": {
    "collapsed": false
   },
   "outputs": [
    {
     "name": "stdout",
     "output_type": "stream",
     "text": [
      "5\n",
      "105\n",
      "784\n",
      "5945\n",
      "11224\n",
      "20594\n",
      "27413\n",
      "30666\n",
      "35750\n",
      "40333\n",
      "36520\n",
      "27038\n",
      "16894\n",
      "9984\n",
      "5796\n",
      "2955\n",
      "1370\n",
      "469\n",
      "133\n"
     ]
    }
   ],
   "source": [
    "for i in df_categories_age[3]:\n",
    "    print(i.shape[0])"
   ]
  },
  {
   "cell_type": "code",
   "execution_count": 93,
   "metadata": {
    "collapsed": false
   },
   "outputs": [],
   "source": [
    "paces_matrix=[[0 for j in range(len(ages)-1)] for i in range(len(categories)-1)]"
   ]
  },
  {
   "cell_type": "code",
   "execution_count": 94,
   "metadata": {
    "collapsed": false
   },
   "outputs": [],
   "source": [
    "for i in range(len(categories)-1):\n",
    "    for j in range(len(ages)-1):\n",
    "        paces_matrix[i][j]=np.mean(df_categories_age[i][j].Pace)"
   ]
  },
  {
   "cell_type": "code",
   "execution_count": 95,
   "metadata": {
    "collapsed": false
   },
   "outputs": [],
   "source": [
    "np_paces_matrix=np.array(paces_matrix)"
   ]
  },
  {
   "cell_type": "code",
   "execution_count": 96,
   "metadata": {
    "collapsed": true
   },
   "outputs": [],
   "source": [
    "np_paces=np.zeros(np_paces_matrix.shape)"
   ]
  },
  {
   "cell_type": "code",
   "execution_count": 97,
   "metadata": {
    "collapsed": false
   },
   "outputs": [],
   "source": [
    "for i in range(np_paces_matrix.shape[0]):\n",
    "    for j in range(np_paces_matrix.shape[1]):\n",
    "        np_paces[i,j]=np_paces_matrix[i,j].total_seconds()"
   ]
  },
  {
   "cell_type": "code",
   "execution_count": 98,
   "metadata": {
    "collapsed": true
   },
   "outputs": [],
   "source": [
    "def interpolate(matrix,interpolation=10):\n",
    "    return_matrix=np.zeros([matrix.shape[0],(matrix.shape[1]-1)*interpolation+1])\n",
    "    \n",
    "    return_matrix[:,0]=matrix[:,0]\n",
    "    starting_index=0\n",
    "    for j in range(1,matrix.shape[1]):\n",
    "        gradient=(matrix[:,j]-matrix[:,j-1])/interpolation\n",
    "        for i in range(1,interpolation):\n",
    "            return_matrix[:,starting_index+i]=return_matrix[:,starting_index]+i*gradient\n",
    "        return_matrix[:,starting_index+interpolation]=matrix[:,j]\n",
    "        starting_index+=interpolation\n",
    "    return return_matrix"
   ]
  },
  {
   "cell_type": "code",
   "execution_count": 110,
   "metadata": {
    "collapsed": false
   },
   "outputs": [],
   "source": [
    "df_categories_age_size=interpolate(df_categories_age_size[:,1:])"
   ]
  },
  {
   "cell_type": "code",
   "execution_count": 111,
   "metadata": {
    "collapsed": false
   },
   "outputs": [],
   "source": [
    "np_paces=interpolate(np_paces[:,1:])"
   ]
  },
  {
   "cell_type": "code",
   "execution_count": 112,
   "metadata": {
    "collapsed": false
   },
   "outputs": [
    {
     "data": {
      "text/plain": [
       "(5, 1691)"
      ]
     },
     "execution_count": 112,
     "metadata": {},
     "output_type": "execute_result"
    }
   ],
   "source": [
    "df_categories_age_size.shape"
   ]
  },
  {
   "cell_type": "code",
   "execution_count": 125,
   "metadata": {
    "collapsed": true
   },
   "outputs": [],
   "source": [
    "class AnimatedScatter(object):\n",
    "    \"\"\"An animated scatter plot using matplotlib.animations.FuncAnimation.\"\"\"\n",
    "    def __init__(self, numpoints=50):\n",
    "        self.numpoints = numpoints\n",
    "        self.stream = self.data_stream()\n",
    "\n",
    "        # Setup the figure and axes...\n",
    "        self.fig, self.ax = plt.subplots()\n",
    "        # Then setup FuncAnimation.\n",
    "        self.ani = animation.FuncAnimation(self.fig, self.update, interval=10, \n",
    "                                           init_func=self.setup_plot, blit=True)\n",
    "\n",
    "    def setup_plot(self):\n",
    "        \"\"\"Initial drawing of the scatter plot.\"\"\"\n",
    "        y,s,time_step = next(self.stream)\n",
    "        y = [r for r in y]\n",
    "        x = [1 for i in y]\n",
    "#         s = [1000 for i in y]\n",
    "        c = 1\n",
    "#         print(y)\n",
    "#         print(s)\n",
    "        self.scat = self.ax.scatter(x, y, s=s, animated=True)\n",
    "        self.ax.axis([-20, 20, 250, 500])\n",
    "\n",
    "        # For FuncAnimation's sake, we need to return the artist we'll be using\n",
    "        # Note that it expects a sequence of artists, thus the trailing comma.\n",
    "        return self.scat,\n",
    "\n",
    "    def data_stream(self):\n",
    "        \"\"\"Generate a random walk (brownian motion). Data is scaled to produce\n",
    "        a soft \"flickering\" effect.\"\"\"\n",
    "        data=np_paces\n",
    "        size=df_categories_age_size\n",
    "        size=np.sqrt(size)*10\n",
    "        \n",
    "        for i in range(1,data.shape[1]):\n",
    "            yield data[:,i],size[:,i],i\n",
    "        \n",
    "        #         data = np.random.random((4, self.numpoints))\n",
    "#         xy = data[:2, :]\n",
    "#         s, c = data[2:, :]\n",
    "#         xy -= 0.5\n",
    "#         xy *= 10\n",
    "#         for i in range(1000):\n",
    "#             xy += 0.03 * (np.random.random((2, self.numpoints)) - 0.5)\n",
    "#             s += 0.05 * (np.random.random(self.numpoints) - 0.5)\n",
    "#             c += 0.02 * (np.random.random(self.numpoints) - 0.5)\n",
    "#             yield data\n",
    "\n",
    "    def update(self, i):\n",
    "        \"\"\"Update the scatter plot.\"\"\"\n",
    "        try:\n",
    "            y,s,time_step = next(self.stream)\n",
    "        except:\n",
    "            return self.scat\n",
    "        y = [r for r in y]\n",
    "        x = [1 for i in y]\n",
    "#         s = [1000 for i in y]\n",
    "        c = 1\n",
    "#         print(y)\n",
    "#         print(s)\n",
    "        graph=np.row_stack((y,x))\n",
    "        # Set x and y data...\n",
    "        self.scat.set_offsets(graph)\n",
    "        # Set sizes...\n",
    "        self.scat._sizes = s# 300 * abs(data[2])**1.5 + 100\n",
    "\n",
    "        # Set colors..\n",
    "#         self.scat.set_array(data[3])\n",
    "        self.scat =self.ax.scatter(x, y, s=s, animated=True)\n",
    "\n",
    "        # We need to return the updated artist for FuncAnimation to draw..\n",
    "        # Note that it expects a sequence of artists, thus the trailing comma.\n",
    "        return self.scat,\n",
    "\n",
    "    def show(self):\n",
    "        plt.show()\n"
   ]
  },
  {
   "cell_type": "code",
   "execution_count": 127,
   "metadata": {
    "collapsed": false,
    "scrolled": true
   },
   "outputs": [],
   "source": [
    "a = AnimatedScatter()\n",
    "a.show()"
   ]
  },
  {
   "cell_type": "markdown",
   "metadata": {},
   "source": [
    "# Old code"
   ]
  },
  {
   "cell_type": "code",
   "execution_count": null,
   "metadata": {
    "collapsed": true
   },
   "outputs": [],
   "source": [
    "class AnimatedScatter(object):\n",
    "    \"\"\"An animated scatter plot using matplotlib.animations.FuncAnimation.\"\"\"\n",
    "    def __init__(self, numpoints=50):\n",
    "        self.numpoints = numpoints\n",
    "        self.stream = self.data_stream()\n",
    "\n",
    "        # Setup the figure and axes...\n",
    "        self.fig, self.ax = plt.subplots()\n",
    "        # Then setup FuncAnimation.\n",
    "        self.ani = animation.FuncAnimation(self.fig, self.update, interval=5, \n",
    "                                           init_func=self.setup_plot, blit=True)\n",
    "\n",
    "    def setup_plot(self):\n",
    "        \"\"\"Initial drawing of the scatter plot.\"\"\"\n",
    "        x, y, s, c = next(self.stream)\n",
    "        self.scat = self.ax.scatter(x, y, c=c, s=s, animated=True)\n",
    "        self.ax.axis([-10, 10, -10, 10])\n",
    "\n",
    "        # For FuncAnimation's sake, we need to return the artist we'll be using\n",
    "        # Note that it expects a sequence of artists, thus the trailing comma.\n",
    "        return self.scat,\n",
    "\n",
    "    def data_stream(self):\n",
    "        \"\"\"Generate a random walk (brownian motion). Data is scaled to produce\n",
    "        a soft \"flickering\" effect.\"\"\"\n",
    "        data=np_paces_matrix\n",
    "        \n",
    "        for i in range(1,data.shape[1]):\n",
    "            yield data[:,i]\n",
    "        \n",
    "        #         data = np.random.random((4, self.numpoints))\n",
    "#         xy = data[:2, :]\n",
    "#         s, c = data[2:, :]\n",
    "#         xy -= 0.5\n",
    "#         xy *= 10\n",
    "#         for i in range(1000):\n",
    "#             xy += 0.03 * (np.random.random((2, self.numpoints)) - 0.5)\n",
    "#             s += 0.05 * (np.random.random(self.numpoints) - 0.5)\n",
    "#             c += 0.02 * (np.random.random(self.numpoints) - 0.5)\n",
    "#             yield data\n",
    "\n",
    "    def update(self, i):\n",
    "        \"\"\"Update the scatter plot.\"\"\"\n",
    "        data = next(self.stream)\n",
    "\n",
    "        # Set x and y data...\n",
    "        self.scat.set_offsets(data[:2, :])\n",
    "        # Set sizes...\n",
    "        self.scat._sizes = 300 * abs(data[2])**1.5 + 100\n",
    "        # Set colors..\n",
    "        self.scat.set_array(data[3])\n",
    "\n",
    "        # We need to return the updated artist for FuncAnimation to draw..\n",
    "        # Note that it expects a sequence of artists, thus the trailing comma.\n",
    "        return self.scat,\n",
    "\n",
    "    def show(self):\n",
    "        plt.show()\n"
   ]
  }
 ],
 "metadata": {
  "anaconda-cloud": {},
  "kernelspec": {
   "display_name": "Python [Root]",
   "language": "python",
   "name": "Python [Root]"
  },
  "language_info": {
   "codemirror_mode": {
    "name": "ipython",
    "version": 3
   },
   "file_extension": ".py",
   "mimetype": "text/x-python",
   "name": "python",
   "nbconvert_exporter": "python",
   "pygments_lexer": "ipython3",
   "version": "3.5.2"
  }
 },
 "nbformat": 4,
 "nbformat_minor": 0
}
