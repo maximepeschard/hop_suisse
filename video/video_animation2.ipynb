{
 "cells": [
  {
   "cell_type": "markdown",
   "metadata": {},
   "source": [
    "# Useful resources\n",
    "\n",
    "http://stackoverflow.com/questions/9401658/matplotlib-animating-a-scatter-plot\n",
    "\n",
    "https://plot.ly/python/streaming-bubbles-tutorial/\n",
    "\n",
    "https://jakevdp.github.io/blog/2012/08/18/matplotlib-animation-tutorial/"
   ]
  },
  {
   "cell_type": "code",
   "execution_count": null,
   "metadata": {
    "collapsed": false
   },
   "outputs": [],
   "source": [
    "import matplotlib.pyplot as plt\n",
    "import matplotlib.animation as animation\n",
    "import numpy as np\n",
    "import pandas as pd\n",
    "import seaborn as sns\n",
    "import time"
   ]
  },
  {
   "cell_type": "code",
   "execution_count": null,
   "metadata": {
    "collapsed": true
   },
   "outputs": [],
   "source": [
    "np.set_printoptions(precision=2)"
   ]
  },
  {
   "cell_type": "code",
   "execution_count": null,
   "metadata": {
    "collapsed": true
   },
   "outputs": [],
   "source": [
    "df=pd.read_pickle('../datasets/df_userID.pickle')"
   ]
  },
  {
   "cell_type": "markdown",
   "metadata": {},
   "source": [
    "### Small operations on the database"
   ]
  },
  {
   "cell_type": "code",
   "execution_count": null,
   "metadata": {
    "collapsed": true
   },
   "outputs": [],
   "source": [
    "df['Age']=df.RaceYear-df.Year"
   ]
  },
  {
   "cell_type": "code",
   "execution_count": null,
   "metadata": {
    "collapsed": true
   },
   "outputs": [],
   "source": [
    "df=df[df.Age>4]"
   ]
  },
  {
   "cell_type": "code",
   "execution_count": null,
   "metadata": {
    "collapsed": true
   },
   "outputs": [],
   "source": [
    "df=df[df.Age<100]"
   ]
  },
  {
   "cell_type": "markdown",
   "metadata": {},
   "source": [
    "### Getting first race for each runner"
   ]
  },
  {
   "cell_type": "code",
   "execution_count": null,
   "metadata": {
    "collapsed": true
   },
   "outputs": [],
   "source": [
    "df['FirstGameYear']=df.RaceYear"
   ]
  },
  {
   "cell_type": "code",
   "execution_count": null,
   "metadata": {
    "collapsed": false
   },
   "outputs": [],
   "source": [
    "users_first_game_df=df.groupby(df.UserID)[['FirstGameYear']].apply(np.min)"
   ]
  },
  {
   "cell_type": "code",
   "execution_count": null,
   "metadata": {
    "collapsed": false
   },
   "outputs": [],
   "source": [
    "users_first_game_df.head()"
   ]
  },
  {
   "cell_type": "code",
   "execution_count": null,
   "metadata": {
    "collapsed": false
   },
   "outputs": [],
   "source": [
    "users_first_game_df.loc['0Berson Jose 1976.0'].FirstGameYear"
   ]
  },
  {
   "cell_type": "code",
   "execution_count": null,
   "metadata": {
    "collapsed": true
   },
   "outputs": [],
   "source": [
    "users_first_game_dict=dict(zip(users_first_game_df.index,users_first_game_df.FirstGameYear))"
   ]
  },
  {
   "cell_type": "code",
   "execution_count": null,
   "metadata": {
    "collapsed": false
   },
   "outputs": [],
   "source": [
    "users_first_game_dict['0Berson Jose 1976.0']"
   ]
  },
  {
   "cell_type": "code",
   "execution_count": null,
   "metadata": {
    "collapsed": false
   },
   "outputs": [],
   "source": [
    "df.FirstGameYear=df.UserID.apply(lambda x: users_first_game_dict[x])"
   ]
  },
  {
   "cell_type": "code",
   "execution_count": null,
   "metadata": {
    "collapsed": false
   },
   "outputs": [],
   "source": [
    "df.RaceYear.value_counts()"
   ]
  },
  {
   "cell_type": "code",
   "execution_count": null,
   "metadata": {
    "collapsed": false,
    "scrolled": true
   },
   "outputs": [],
   "source": [
    "df.FirstGameYear.value_counts()"
   ]
  },
  {
   "cell_type": "markdown",
   "metadata": {},
   "source": [
    "### Getting last race for each runner"
   ]
  },
  {
   "cell_type": "code",
   "execution_count": null,
   "metadata": {
    "collapsed": true
   },
   "outputs": [],
   "source": [
    "df['LastRaceYear']=df.RaceYear"
   ]
  },
  {
   "cell_type": "code",
   "execution_count": null,
   "metadata": {
    "collapsed": false
   },
   "outputs": [],
   "source": [
    "users_last_game_df=df.groupby(df.UserID)[['LastRaceYear']].apply(np.max)"
   ]
  },
  {
   "cell_type": "code",
   "execution_count": null,
   "metadata": {
    "collapsed": true
   },
   "outputs": [],
   "source": [
    "users_last_game_dict=dict(zip(users_last_game_df.index,users_last_game_df.LastRaceYear))"
   ]
  },
  {
   "cell_type": "code",
   "execution_count": null,
   "metadata": {
    "collapsed": false
   },
   "outputs": [],
   "source": [
    "users_last_game_dict['0Berson Jose 1976.0']"
   ]
  },
  {
   "cell_type": "code",
   "execution_count": null,
   "metadata": {
    "collapsed": false
   },
   "outputs": [],
   "source": [
    "df.LastRaceYear=df.UserID.apply(lambda x: users_last_game_dict[x])"
   ]
  },
  {
   "cell_type": "code",
   "execution_count": null,
   "metadata": {
    "collapsed": false
   },
   "outputs": [],
   "source": [
    "df.RaceYear.value_counts()"
   ]
  },
  {
   "cell_type": "code",
   "execution_count": null,
   "metadata": {
    "collapsed": false,
    "scrolled": false
   },
   "outputs": [],
   "source": [
    "df.LastRaceYear.value_counts()"
   ]
  },
  {
   "cell_type": "markdown",
   "metadata": {},
   "source": [
    "### LastRace - FirstRace analysis"
   ]
  },
  {
   "cell_type": "code",
   "execution_count": null,
   "metadata": {
    "collapsed": true
   },
   "outputs": [],
   "source": [
    "df['TotalYears']=df.LastRaceYear-df.FirstGameYear+1"
   ]
  },
  {
   "cell_type": "code",
   "execution_count": null,
   "metadata": {
    "collapsed": false
   },
   "outputs": [],
   "source": [
    "df.TotalYears.value_counts()"
   ]
  },
  {
   "cell_type": "code",
   "execution_count": null,
   "metadata": {
    "collapsed": false
   },
   "outputs": [],
   "source": [
    "df[df.TotalYears==4].FirstGameYear.value_counts()"
   ]
  },
  {
   "cell_type": "markdown",
   "metadata": {},
   "source": [
    "### New entries in category"
   ]
  },
  {
   "cell_type": "code",
   "execution_count": null,
   "metadata": {
    "collapsed": true
   },
   "outputs": [],
   "source": [
    "df['NewEntry']=(df.FirstGameYear==df.RaceYear)"
   ]
  },
  {
   "cell_type": "markdown",
   "metadata": {},
   "source": [
    "# Save data men"
   ]
  },
  {
   "cell_type": "code",
   "execution_count": null,
   "metadata": {
    "collapsed": false,
    "scrolled": true
   },
   "outputs": [],
   "source": [
    "np.save('Data/df_categories_age_size_men.npy',df_categories_age_size_avg)"
   ]
  },
  {
   "cell_type": "code",
   "execution_count": null,
   "metadata": {
    "collapsed": false
   },
   "outputs": [],
   "source": [
    "np.save('Data/np_paces_men.npy',np_paces_avg)"
   ]
  },
  {
   "cell_type": "code",
   "execution_count": null,
   "metadata": {
    "collapsed": false,
    "scrolled": true
   },
   "outputs": [],
   "source": [
    "np.save('Data/df_percentage_of_users_per_category_men.npy',df_percentage_of_users_per_category_avg)"
   ]
  },
  {
   "cell_type": "code",
   "execution_count": null,
   "metadata": {
    "collapsed": false
   },
   "outputs": [],
   "source": [
    "np.save('Data/races_per_year_men.npy',races_per_year_avg)"
   ]
  },
  {
   "cell_type": "code",
   "execution_count": null,
   "metadata": {
    "collapsed": false,
    "scrolled": true
   },
   "outputs": [],
   "source": [
    "np.save('Data/newcomers_men.npy',newcomers_avg)"
   ]
  },
  {
   "cell_type": "markdown",
   "metadata": {},
   "source": [
    "# Save data women"
   ]
  },
  {
   "cell_type": "code",
   "execution_count": null,
   "metadata": {
    "collapsed": false,
    "scrolled": true
   },
   "outputs": [],
   "source": [
    "np.save('Data/df_categories_age_size_women.npy',df_categories_age_size_avg)"
   ]
  },
  {
   "cell_type": "code",
   "execution_count": null,
   "metadata": {
    "collapsed": false
   },
   "outputs": [],
   "source": [
    "np.save('Data/np_paces_women.npy',np_paces_avg)"
   ]
  },
  {
   "cell_type": "code",
   "execution_count": null,
   "metadata": {
    "collapsed": false,
    "scrolled": true
   },
   "outputs": [],
   "source": [
    "np.save('Data/df_percentage_of_users_per_category_women.npy',df_percentage_of_users_per_category_avg)"
   ]
  },
  {
   "cell_type": "code",
   "execution_count": null,
   "metadata": {
    "collapsed": false
   },
   "outputs": [],
   "source": [
    "np.save('Data/races_per_year_women.npy',races_per_year_avg)"
   ]
  },
  {
   "cell_type": "code",
   "execution_count": null,
   "metadata": {
    "collapsed": false,
    "scrolled": true
   },
   "outputs": [],
   "source": [
    "np.save('Data/newcomers_women.npy',newcomers_avg)"
   ]
  },
  {
   "cell_type": "markdown",
   "metadata": {},
   "source": [
    "# Store and load df to save time"
   ]
  },
  {
   "cell_type": "code",
   "execution_count": 68,
   "metadata": {
    "collapsed": false
   },
   "outputs": [],
   "source": [
    "import matplotlib.pyplot as plt\n",
    "import matplotlib.animation as animation\n",
    "import numpy as np\n",
    "import pandas as pd\n",
    "import seaborn as sns\n",
    "import time"
   ]
  },
  {
   "cell_type": "code",
   "execution_count": 69,
   "metadata": {
    "collapsed": true
   },
   "outputs": [],
   "source": [
    "np.set_printoptions(precision=2)"
   ]
  },
  {
   "cell_type": "code",
   "execution_count": 70,
   "metadata": {
    "collapsed": false
   },
   "outputs": [],
   "source": [
    "df=pd.read_pickle('tempdf.pickle')"
   ]
  },
  {
   "cell_type": "code",
   "execution_count": 72,
   "metadata": {
    "collapsed": false
   },
   "outputs": [
    {
     "data": {
      "text/plain": [
       "Nivola Gianpaolo 1966.0          178\n",
       "Zuber Benno 1960.0               157\n",
       "Gerwer Armin 1947.0              147\n",
       "Meyer Dirk 1968.0                143\n",
       "Triantafillou Christos 1968.0    142\n",
       "Gilles Jean-Guy 1947.0           140\n",
       "Mletzkowsky Manfred 1934.0       139\n",
       "Vetter Raphael 1959.0            133\n",
       "Binder Peter 1956.0              128\n",
       "Abgottspon Medard 1942.0         126\n",
       "Ummel Beat 1960.0                125\n",
       "Jost Hansueli 1978.0             124\n",
       "Liembd Kurt 1958.0               124\n",
       "Leserf Gottlieb 1938.0           119\n",
       "Calame Louis 1952.0              119\n",
       "Scarcella Giovanni 1963.0        118\n",
       "Ehrbar Jean-Luc 1957.0           117\n",
       "Fritschi Johann 1937.0           116\n",
       "Buzzi Andreas 1962.0             116\n",
       "Senn Silvia 1959.0               115\n",
       "Von Känel Christoph 1959.0       114\n",
       "Guignard Roland 1957.0           113\n",
       "Bader Renate 1970.0              112\n",
       "Vogel Bruno 1959.0               112\n",
       "Scheiber Kaspar 1939.0           112\n",
       "Plüss Fritz 1965.0               111\n",
       "Eichenberger Romain 1963.0       111\n",
       "Blum Markus 1975.0               110\n",
       "Blättler Beat 1976.0             108\n",
       "Hubschmid Roger 1952.0           108\n",
       "                                ... \n",
       "Goedkoop Thomas 2003.0             1\n",
       "Baranzelli Gino 2002.0             1\n",
       "Gerber Janik 2000.0                1\n",
       "Aeschbach Sebastien 1980.0         1\n",
       "Cudjoe Joshua 1997.0               1\n",
       "Skolka Thomas 1986.0               1\n",
       "Milenovic Stefan 2007.0            1\n",
       "Staffoni Marie-Claude 1966.0       1\n",
       "Hager Pius 1945.0                  1\n",
       "Maël Bonvin 1992.0                 1\n",
       "Vega Fabrizio 1996.0               1\n",
       "Darboux Emmanuel 1992.0            1\n",
       "Montinaro Ursula 1966.0            1\n",
       "Trösch Jasmin 1999.0               1\n",
       "Truffer Emilie 1992.0              1\n",
       "Chaveiro Mikael 1991.0             1\n",
       "Hauser Adina 1995.0                1\n",
       "Di Dio Théo 2001.0                 1\n",
       "Charriere David 1973.0             1\n",
       "Oltramare Alexandre 1969.0         1\n",
       "Winkler Joachim 1968.0             1\n",
       "Bouman-Butter Yvonne 1967.0        1\n",
       "Küng Ramona 1993.0                 1\n",
       "Debrunner Tobias 2005.0            1\n",
       "Maggiulli Valentina 1971.0         1\n",
       "Ackermann Reto 1971.0              1\n",
       "Gruber Astrid 1952.0               1\n",
       "Hoffmann Michael 1993.0            1\n",
       "Perrollaz Tamar 1987.0             1\n",
       "Sallaukaj Albin 2003.0             1\n",
       "Name: UserID, dtype: int64"
      ]
     },
     "execution_count": 72,
     "metadata": {},
     "output_type": "execute_result"
    }
   ],
   "source": [
    "df.UserID.value_counts()"
   ]
  },
  {
   "cell_type": "markdown",
   "metadata": {},
   "source": [
    "### Splitting in length categories"
   ]
  },
  {
   "cell_type": "code",
   "execution_count": null,
   "metadata": {
    "collapsed": true
   },
   "outputs": [],
   "source": [
    "categories=[0,5,10,15.5,25,43]"
   ]
  },
  {
   "cell_type": "code",
   "execution_count": null,
   "metadata": {
    "collapsed": true
   },
   "outputs": [],
   "source": [
    "df=df[df.Sex=='F']"
   ]
  },
  {
   "cell_type": "code",
   "execution_count": null,
   "metadata": {
    "collapsed": true
   },
   "outputs": [],
   "source": [
    "df_categories=[df[(df.Distance>=categories[i-1]) &(df.Distance<categories[i])] for i in range(1,len(categories))]"
   ]
  },
  {
   "cell_type": "code",
   "execution_count": null,
   "metadata": {
    "collapsed": false
   },
   "outputs": [],
   "source": [
    "[x.shape[0] for x in df_categories]"
   ]
  },
  {
   "cell_type": "markdown",
   "metadata": {},
   "source": [
    "### Splitting in age category"
   ]
  },
  {
   "cell_type": "code",
   "execution_count": null,
   "metadata": {
    "collapsed": false,
    "scrolled": false
   },
   "outputs": [],
   "source": [
    "ages=list(range(4,81,1))"
   ]
  },
  {
   "cell_type": "code",
   "execution_count": null,
   "metadata": {
    "collapsed": true
   },
   "outputs": [],
   "source": [
    "df_categories_age=[[] for i in df_categories]"
   ]
  },
  {
   "cell_type": "code",
   "execution_count": null,
   "metadata": {
    "collapsed": true
   },
   "outputs": [],
   "source": [
    "ages_category=[]\n",
    "for i in range(1, len(ages)):\n",
    "    ages_category.append(df[(df.Age>ages[i-1]) &(df.Age<=ages[i])])"
   ]
  },
  {
   "cell_type": "code",
   "execution_count": null,
   "metadata": {
    "collapsed": false
   },
   "outputs": [],
   "source": [
    "for j in range(len(categories)-1):\n",
    "    df_category=df_categories[j]\n",
    "    df_categories_age[j]=[df_category[(df_category.Age>ages[i-1]) &(df_category.Age<=ages[i])] for i in range(1,len(ages))]"
   ]
  },
  {
   "cell_type": "code",
   "execution_count": null,
   "metadata": {
    "collapsed": true
   },
   "outputs": [],
   "source": [
    "df_categories_age_size=[[0 for i in range(len(df_categories_age[0]))] for i in range(len(df_categories_age))]"
   ]
  },
  {
   "cell_type": "code",
   "execution_count": null,
   "metadata": {
    "collapsed": false
   },
   "outputs": [],
   "source": [
    "for i in range(len(df_categories_age)):\n",
    "    for j in range(len(df_categories_age[0])):\n",
    "        df_categories_age_size[i][j]=df_categories_age[i][j].shape[0]\n",
    "df_categories_age_size=np.array(df_categories_age_size)"
   ]
  },
  {
   "cell_type": "code",
   "execution_count": null,
   "metadata": {
    "collapsed": false
   },
   "outputs": [],
   "source": [
    "df_categories_age_size"
   ]
  },
  {
   "cell_type": "code",
   "execution_count": null,
   "metadata": {
    "collapsed": false
   },
   "outputs": [],
   "source": [
    "df_category_age_usercount=[[y.groupby(y.UserID).count().shape[0] for y in x] for x in df_categories_age]\n",
    "df_age_usercount=[x.groupby(x.UserID).count().shape[0] for x in ages_category]"
   ]
  },
  {
   "cell_type": "code",
   "execution_count": null,
   "metadata": {
    "collapsed": false
   },
   "outputs": [],
   "source": [
    "df_age_usercount=np.array(df_age_usercount)"
   ]
  },
  {
   "cell_type": "code",
   "execution_count": null,
   "metadata": {
    "collapsed": false,
    "scrolled": true
   },
   "outputs": [],
   "source": [
    "df_category_age_usercount=np.array(df_category_age_usercount)\n",
    "df_category_age_usercount"
   ]
  },
  {
   "cell_type": "code",
   "execution_count": null,
   "metadata": {
    "collapsed": false,
    "scrolled": true
   },
   "outputs": [],
   "source": [
    "df_percentage_of_users_per_category=df_category_age_usercount/df_age_usercount"
   ]
  },
  {
   "cell_type": "markdown",
   "metadata": {},
   "source": [
    "### Runs per year"
   ]
  },
  {
   "cell_type": "code",
   "execution_count": null,
   "metadata": {
    "collapsed": false,
    "scrolled": true
   },
   "outputs": [],
   "source": [
    "df_categories_age_size"
   ]
  },
  {
   "cell_type": "code",
   "execution_count": null,
   "metadata": {
    "collapsed": true
   },
   "outputs": [],
   "source": [
    "df_races_per_category=[[len(set(race.UserID)) for race in cat] for cat in df_categories_age]\n",
    "df_races_per_category=np.array(df_races_per_category)"
   ]
  },
  {
   "cell_type": "code",
   "execution_count": null,
   "metadata": {
    "collapsed": false
   },
   "outputs": [],
   "source": [
    "races_per_year=df_categories_age_size/df_races_per_category"
   ]
  },
  {
   "cell_type": "code",
   "execution_count": null,
   "metadata": {
    "collapsed": false
   },
   "outputs": [],
   "source": [
    "races_per_year"
   ]
  },
  {
   "cell_type": "markdown",
   "metadata": {},
   "source": [
    "### Getting how many races a runner did"
   ]
  },
  {
   "cell_type": "code",
   "execution_count": null,
   "metadata": {
    "collapsed": false,
    "scrolled": true
   },
   "outputs": [],
   "source": [
    "df_percentage_of_users_per_category"
   ]
  },
  {
   "cell_type": "code",
   "execution_count": null,
   "metadata": {
    "collapsed": false
   },
   "outputs": [],
   "source": [
    "np.sum(df_percentage_of_users_per_category,axis=0)"
   ]
  },
  {
   "cell_type": "code",
   "execution_count": null,
   "metadata": {
    "collapsed": false
   },
   "outputs": [],
   "source": [
    "final_table=[[np.mean(y.groupby(y.UserID).count().Race) for y in x] for x in df_categories_age]"
   ]
  },
  {
   "cell_type": "code",
   "execution_count": null,
   "metadata": {
    "collapsed": false
   },
   "outputs": [],
   "source": [
    "np.array(final_table)"
   ]
  },
  {
   "cell_type": "markdown",
   "metadata": {},
   "source": [
    "### Get percentage of newcomers in each field"
   ]
  },
  {
   "cell_type": "code",
   "execution_count": null,
   "metadata": {
    "collapsed": false
   },
   "outputs": [],
   "source": [
    "newcomers=[[sum(race.NewEntry) for race in cat] for cat in df_categories_age]\n",
    "newcomers=np.array(newcomers)/df_categories_age_size"
   ]
  },
  {
   "cell_type": "code",
   "execution_count": null,
   "metadata": {
    "collapsed": false
   },
   "outputs": [],
   "source": [
    "newcomers"
   ]
  },
  {
   "cell_type": "markdown",
   "metadata": {},
   "source": [
    "### Getting average pace per each category"
   ]
  },
  {
   "cell_type": "code",
   "execution_count": null,
   "metadata": {
    "collapsed": false
   },
   "outputs": [],
   "source": [
    "paces_matrix=[[0 for j in range(len(ages)-1)] for i in range(len(categories)-1)]"
   ]
  },
  {
   "cell_type": "code",
   "execution_count": null,
   "metadata": {
    "collapsed": false
   },
   "outputs": [],
   "source": [
    "for i in range(len(categories)-1):\n",
    "    for j in range(len(ages)-1):\n",
    "        paces_matrix[i][j]=np.mean(df_categories_age[i][j].Pace)"
   ]
  },
  {
   "cell_type": "code",
   "execution_count": null,
   "metadata": {
    "collapsed": false
   },
   "outputs": [],
   "source": [
    "np_paces_matrix=np.array(paces_matrix)"
   ]
  },
  {
   "cell_type": "code",
   "execution_count": null,
   "metadata": {
    "collapsed": true
   },
   "outputs": [],
   "source": [
    "np_paces=np.zeros(np_paces_matrix.shape)"
   ]
  },
  {
   "cell_type": "code",
   "execution_count": null,
   "metadata": {
    "collapsed": false
   },
   "outputs": [],
   "source": [
    "for i in range(np_paces_matrix.shape[0]):\n",
    "    for j in range(np_paces_matrix.shape[1]):\n",
    "        np_paces[i,j]=np_paces_matrix[i,j].total_seconds()"
   ]
  },
  {
   "cell_type": "code",
   "execution_count": null,
   "metadata": {
    "collapsed": true
   },
   "outputs": [],
   "source": [
    "def interpolate(matrix,interpolation=10):\n",
    "    return_matrix=np.zeros([matrix.shape[0],(matrix.shape[1]-1)*interpolation+1])\n",
    "    \n",
    "    return_matrix[:,0]=matrix[:,0]\n",
    "    starting_index=0\n",
    "    for j in range(1,matrix.shape[1]):\n",
    "        gradient=(matrix[:,j]-matrix[:,j-1])/interpolation\n",
    "        for i in range(1,interpolation):\n",
    "            return_matrix[:,starting_index+i]=return_matrix[:,starting_index]+i*gradient\n",
    "        return_matrix[:,starting_index+interpolation]=matrix[:,j]\n",
    "        starting_index+=interpolation\n",
    "    return return_matrix"
   ]
  },
  {
   "cell_type": "code",
   "execution_count": null,
   "metadata": {
    "collapsed": true
   },
   "outputs": [],
   "source": [
    "def average(matrix,neighborhood=400):\n",
    "    print(matrix.shape)\n",
    "    return_list=[]\n",
    "    if matrix.shape[1]<neighborhood:\n",
    "        raise()\n",
    "        \n",
    "    start=0\n",
    "    while start+neighborhood<=matrix.shape[1]:\n",
    "        return_list.append(np.mean(matrix[:,start:start+neighborhood],axis=1))\n",
    "#         print(return_list[0].shape)\n",
    "        start+=1\n",
    "    return_matrix=np.array(return_list)\n",
    "    print(len(return_list))\n",
    "    return_matrix=np.transpose(return_matrix)\n",
    "    return return_matrix"
   ]
  },
  {
   "cell_type": "code",
   "execution_count": null,
   "metadata": {
    "collapsed": false
   },
   "outputs": [],
   "source": [
    "df_categories_age_size=interpolate(df_categories_age_size[:,1:])\n",
    "df_categories_age_size=interpolate(df_categories_age_size[:,1:])"
   ]
  },
  {
   "cell_type": "code",
   "execution_count": null,
   "metadata": {
    "collapsed": false
   },
   "outputs": [],
   "source": [
    "np_paces=interpolate(np_paces[:,1:])\n",
    "np_paces=interpolate(np_paces[:,1:])"
   ]
  },
  {
   "cell_type": "code",
   "execution_count": null,
   "metadata": {
    "collapsed": true
   },
   "outputs": [],
   "source": [
    "df_percentage_of_users_per_category=interpolate(df_percentage_of_users_per_category[:,1:])\n",
    "df_percentage_of_users_per_category=interpolate(df_percentage_of_users_per_category[:,1:])"
   ]
  },
  {
   "cell_type": "code",
   "execution_count": null,
   "metadata": {
    "collapsed": true
   },
   "outputs": [],
   "source": [
    "races_per_year=interpolate(races_per_year[:,1:])\n",
    "races_per_year=interpolate(races_per_year[:,1:])"
   ]
  },
  {
   "cell_type": "code",
   "execution_count": null,
   "metadata": {
    "collapsed": true
   },
   "outputs": [],
   "source": [
    "newcomers=interpolate(newcomers[:,1:])\n",
    "newcomers=interpolate(newcomers[:,1:])"
   ]
  },
  {
   "cell_type": "code",
   "execution_count": null,
   "metadata": {
    "collapsed": false,
    "scrolled": true
   },
   "outputs": [],
   "source": [
    "df_categories_age_size_avg=average(df_categories_age_size)"
   ]
  },
  {
   "cell_type": "code",
   "execution_count": null,
   "metadata": {
    "collapsed": false
   },
   "outputs": [],
   "source": [
    "np_paces_avg=average(np_paces)"
   ]
  },
  {
   "cell_type": "code",
   "execution_count": null,
   "metadata": {
    "collapsed": false
   },
   "outputs": [],
   "source": [
    "df_percentage_of_users_per_category_avg=average(df_percentage_of_users_per_category)"
   ]
  },
  {
   "cell_type": "code",
   "execution_count": null,
   "metadata": {
    "collapsed": false
   },
   "outputs": [],
   "source": [
    "races_per_year_avg=average(races_per_year)"
   ]
  },
  {
   "cell_type": "code",
   "execution_count": null,
   "metadata": {
    "collapsed": false,
    "scrolled": true
   },
   "outputs": [],
   "source": [
    "newcomers_avg=average(newcomers)"
   ]
  },
  {
   "cell_type": "code",
   "execution_count": null,
   "metadata": {
    "collapsed": false
   },
   "outputs": [],
   "source": [
    "df_percentage_of_users_per_category.shape"
   ]
  },
  {
   "cell_type": "code",
   "execution_count": null,
   "metadata": {
    "collapsed": false
   },
   "outputs": [],
   "source": [
    "df_categories_age_size.shape"
   ]
  },
  {
   "cell_type": "code",
   "execution_count": null,
   "metadata": {
    "collapsed": false
   },
   "outputs": [],
   "source": [
    "np_paces.shape"
   ]
  },
  {
   "cell_type": "code",
   "execution_count": null,
   "metadata": {
    "collapsed": false
   },
   "outputs": [],
   "source": [
    "races_per_year.shape"
   ]
  },
  {
   "cell_type": "code",
   "execution_count": null,
   "metadata": {
    "collapsed": false
   },
   "outputs": [],
   "source": [
    "newcomers.shape"
   ]
  },
  {
   "cell_type": "code",
   "execution_count": null,
   "metadata": {
    "collapsed": false
   },
   "outputs": [],
   "source": [
    "ages_interpolate=np.linspace(4,81,df_categories_age_size_avg.shape[1])"
   ]
  },
  {
   "cell_type": "code",
   "execution_count": null,
   "metadata": {
    "collapsed": false
   },
   "outputs": [],
   "source": [
    "ages_interpolate"
   ]
  },
  {
   "cell_type": "code",
   "execution_count": null,
   "metadata": {
    "collapsed": true
   },
   "outputs": [],
   "source": [
    "distances_list=['<5km','5km','10km','21.0975km','42.195km']"
   ]
  },
  {
   "cell_type": "code",
   "execution_count": null,
   "metadata": {
    "collapsed": true
   },
   "outputs": [],
   "source": [
    "correct_orientation=True"
   ]
  },
  {
   "cell_type": "markdown",
   "metadata": {},
   "source": [
    "# Animation from 0"
   ]
  },
  {
   "cell_type": "code",
   "execution_count": 1,
   "metadata": {
    "collapsed": false
   },
   "outputs": [],
   "source": [
    "import matplotlib.pyplot as plt\n",
    "import matplotlib.animation as animation\n",
    "import numpy as np\n",
    "import pandas as pd\n",
    "import seaborn as sns\n",
    "import time"
   ]
  },
  {
   "cell_type": "markdown",
   "metadata": {},
   "source": [
    "### Load data "
   ]
  },
  {
   "cell_type": "code",
   "execution_count": 2,
   "metadata": {
    "collapsed": false,
    "scrolled": true
   },
   "outputs": [],
   "source": [
    "df_categories_age_size_men=np.load('Data/df_categories_age_size_men.npy')"
   ]
  },
  {
   "cell_type": "code",
   "execution_count": 3,
   "metadata": {
    "collapsed": false
   },
   "outputs": [],
   "source": [
    "np_paces_men=np.load('Data/np_paces_men.npy')"
   ]
  },
  {
   "cell_type": "code",
   "execution_count": 4,
   "metadata": {
    "collapsed": false,
    "scrolled": true
   },
   "outputs": [],
   "source": [
    "df_percentage_of_users_per_category_men=np.load('Data/df_percentage_of_users_per_category_men.npy')"
   ]
  },
  {
   "cell_type": "code",
   "execution_count": 5,
   "metadata": {
    "collapsed": false
   },
   "outputs": [],
   "source": [
    "races_per_year_men=np.load('Data/races_per_year_men.npy')"
   ]
  },
  {
   "cell_type": "code",
   "execution_count": 6,
   "metadata": {
    "collapsed": false,
    "scrolled": true
   },
   "outputs": [],
   "source": [
    "newcomers_men=np.load('Data/newcomers_men.npy')"
   ]
  },
  {
   "cell_type": "code",
   "execution_count": null,
   "metadata": {
    "collapsed": true
   },
   "outputs": [],
   "source": []
  },
  {
   "cell_type": "code",
   "execution_count": 7,
   "metadata": {
    "collapsed": false,
    "scrolled": true
   },
   "outputs": [],
   "source": [
    "df_categories_age_size_women=np.load('Data/df_categories_age_size_women.npy')"
   ]
  },
  {
   "cell_type": "code",
   "execution_count": 8,
   "metadata": {
    "collapsed": false
   },
   "outputs": [],
   "source": [
    "np_paces_women=np.load('Data/np_paces_women.npy')"
   ]
  },
  {
   "cell_type": "code",
   "execution_count": 9,
   "metadata": {
    "collapsed": false,
    "scrolled": true
   },
   "outputs": [],
   "source": [
    "df_percentage_of_users_per_category_women=np.load('Data/df_percentage_of_users_per_category_women.npy')"
   ]
  },
  {
   "cell_type": "code",
   "execution_count": 10,
   "metadata": {
    "collapsed": false
   },
   "outputs": [],
   "source": [
    "races_per_year_women=np.load('Data/races_per_year_women.npy')"
   ]
  },
  {
   "cell_type": "code",
   "execution_count": 11,
   "metadata": {
    "collapsed": false,
    "scrolled": true
   },
   "outputs": [],
   "source": [
    "newcomers_women=np.load('Data/newcomers_women.npy')"
   ]
  },
  {
   "cell_type": "code",
   "execution_count": 12,
   "metadata": {
    "collapsed": true
   },
   "outputs": [],
   "source": [
    "ages_interpolate=np.linspace(4,81,df_categories_age_size_men.shape[1])"
   ]
  },
  {
   "cell_type": "code",
   "execution_count": 13,
   "metadata": {
    "collapsed": true
   },
   "outputs": [],
   "source": [
    "distances_list=['<5km','5-9km','10-15km','16-28km','29-45km']"
   ]
  },
  {
   "cell_type": "code",
   "execution_count": 14,
   "metadata": {
    "collapsed": true
   },
   "outputs": [],
   "source": [
    "first_not_nan_men=np.zeros(5)\n",
    "first_not_nan_women=np.zeros(5)"
   ]
  },
  {
   "cell_type": "code",
   "execution_count": 15,
   "metadata": {
    "collapsed": false
   },
   "outputs": [],
   "source": [
    "for i in range(newcomers_men.shape[0]):\n",
    "    line_men=newcomers_men[i,:]\n",
    "    for j,x in enumerate(line_men):\n",
    "        if not np.isnan(x):\n",
    "            first_not_nan_men[i]=j\n",
    "            break\n",
    "            \n",
    "    line_women=newcomers_women[i,:]\n",
    "    for j,x in enumerate(line_women):\n",
    "        if not np.isnan(x):\n",
    "            first_not_nan_women[i]=j\n",
    "            break"
   ]
  },
  {
   "cell_type": "code",
   "execution_count": 16,
   "metadata": {
    "collapsed": false
   },
   "outputs": [
    {
     "data": {
      "text/plain": [
       "array([   0.,    0.,  290.,   90.,  690.])"
      ]
     },
     "execution_count": 16,
     "metadata": {},
     "output_type": "execute_result"
    }
   ],
   "source": [
    "first_not_nan_men"
   ]
  },
  {
   "cell_type": "code",
   "execution_count": 17,
   "metadata": {
    "collapsed": false
   },
   "outputs": [
    {
     "data": {
      "text/plain": [
       "array([   0.,    0.,  290.,    0.,  690.])"
      ]
     },
     "execution_count": 17,
     "metadata": {},
     "output_type": "execute_result"
    }
   ],
   "source": [
    "first_not_nan_women"
   ]
  },
  {
   "cell_type": "markdown",
   "metadata": {},
   "source": [
    "### Animation"
   ]
  },
  {
   "cell_type": "code",
   "execution_count": 18,
   "metadata": {
    "collapsed": true
   },
   "outputs": [],
   "source": [
    "import matplotlib.pyplot as plt\n",
    "import matplotlib.animation as animation\n",
    "import numpy as np"
   ]
  },
  {
   "cell_type": "code",
   "execution_count": 19,
   "metadata": {
    "collapsed": true
   },
   "outputs": [],
   "source": [
    "from matplotlib import rc\n",
    "rc('animation', html='html5')"
   ]
  },
  {
   "cell_type": "code",
   "execution_count": 20,
   "metadata": {
    "collapsed": false
   },
   "outputs": [],
   "source": [
    "validIndices = ~np.isnan(newcomers_women[1,:])"
   ]
  },
  {
   "cell_type": "code",
   "execution_count": 21,
   "metadata": {
    "collapsed": false
   },
   "outputs": [
    {
     "data": {
      "text/plain": [
       "array([ True,  True,  True, ...,  True,  True,  True], dtype=bool)"
      ]
     },
     "execution_count": 21,
     "metadata": {},
     "output_type": "execute_result"
    }
   ],
   "source": [
    "validIndices"
   ]
  },
  {
   "cell_type": "code",
   "execution_count": 22,
   "metadata": {
    "collapsed": false
   },
   "outputs": [
    {
     "data": {
      "text/plain": [
       "array([ 0.55914971,  0.43103867,         nan,  0.63300582,         nan])"
      ]
     },
     "execution_count": 22,
     "metadata": {},
     "output_type": "execute_result"
    }
   ],
   "source": [
    "newcomers_women[:,2]"
   ]
  },
  {
   "cell_type": "code",
   "execution_count": 23,
   "metadata": {
    "collapsed": false
   },
   "outputs": [
    {
     "data": {
      "text/plain": [
       "array([[  2.39473227e+04,   2.39768973e+04,   2.40061570e+04, ...,\n",
       "          4.65140000e+00,   4.63375000e+00,   4.61625000e+00],\n",
       "       [  4.95693750e+01,   5.00181250e+01,   5.04707500e+01, ...,\n",
       "          8.78607000e+01,   8.76200000e+01,   8.73800000e+01],\n",
       "       [  6.95775000e+00,   7.03725000e+00,   7.11770000e+00, ...,\n",
       "          1.00383325e+02,   1.00043750e+02,   9.97062500e+01],\n",
       "       [  1.53120000e+01,   1.53980000e+01,   1.54841000e+01, ...,\n",
       "          4.19980000e+01,   4.18325000e+01,   4.16675000e+01],\n",
       "       [  2.25000000e-03,   2.75000000e-03,   3.30000000e-03, ...,\n",
       "          1.14539000e+01,   1.14012500e+01,   1.13487500e+01]])"
      ]
     },
     "execution_count": 23,
     "metadata": {},
     "output_type": "execute_result"
    }
   ],
   "source": [
    "df_categories_age_size_men"
   ]
  },
  {
   "cell_type": "code",
   "execution_count": 24,
   "metadata": {
    "collapsed": false
   },
   "outputs": [],
   "source": [
    "df_categories_age_size_women=df_categories_age_size_women-df_categories_age_size_men"
   ]
  },
  {
   "cell_type": "code",
   "execution_count": 25,
   "metadata": {
    "collapsed": false
   },
   "outputs": [
    {
     "data": {
      "text/plain": [
       "array([[  5.78476650e+03,   5.79455350e+03,   5.80431470e+03, ...,\n",
       "          2.87890000e+00,   2.87625000e+00,   2.87375000e+00],\n",
       "       [  1.85197500e+01,   1.86852500e+01,   1.88518000e+01, ...,\n",
       "          2.18326500e+01,   2.17775000e+01,   2.17225000e+01],\n",
       "       [  2.58875000e+00,   2.61125000e+00,   2.63375000e+00, ...,\n",
       "          1.76511750e+01,   1.76337500e+01,   1.76162500e+01],\n",
       "       [  3.55750000e-01,   3.54250000e-01,   3.52850000e-01, ...,\n",
       "          5.25002500e+00,   5.25000000e+00,   5.25000000e+00],\n",
       "       [  0.00000000e+00,   0.00000000e+00,   0.00000000e+00, ...,\n",
       "          3.78725000e-01,   3.76250000e-01,   3.73750000e-01]])"
      ]
     },
     "execution_count": 25,
     "metadata": {},
     "output_type": "execute_result"
    }
   ],
   "source": [
    "df_categories_age_size_women"
   ]
  },
  {
   "cell_type": "code",
   "execution_count": 26,
   "metadata": {
    "collapsed": false
   },
   "outputs": [],
   "source": [
    "class AnimatedScatter(object):\n",
    "    \"\"\"An animated scatter plot using matplotlib.animations.FuncAnimation.\"\"\"\n",
    "    def __init__(self, numpoints=50):\n",
    "        self.numpoints = numpoints\n",
    "        self.stream = self.data_stream()\n",
    "\n",
    "        self.fig = plt.figure()\n",
    "\n",
    "        self.fig.patch.set_facecolor('blue')\n",
    "        self.fig.patch.set_alpha(0.7)\n",
    "\n",
    "            \n",
    "        # Setup the figure and axes...\n",
    "        self.ax = self.fig.add_subplot(111)\n",
    "        self.run_annotations=[]\n",
    "        \n",
    "        # xlabels and xticks\n",
    "        plt.xlabel('Percentage of new runners',alpha=0.5,weight='bold',size=16,fontname='Helvetica',color='blue')\n",
    "        plt.xticks(alpha=0.5,weight='bold',size=10,fontname='Helvetica',color='blue')\n",
    "        \n",
    "        # ylabels and yticks\n",
    "        plt.ylabel('Pace (sec/km)',alpha=0.5,weight='bold',size=16,fontname='Helvetica',color='blue')        \n",
    "        plt.yticks(alpha=0.5,weight='bold',size=10,fontname='Helvetica',color='blue')\n",
    "        \n",
    "        # Title\n",
    "        plt.title('Datasport',alpha=0.5,weight='bold',size=25,fontname='Helvetica',color='blue',y=1.02)\n",
    "\n",
    "        plt.grid(color='blue',alpha=0.1)\n",
    "        self.ax.patch.set_facecolor('blue')\n",
    "        self.ax.patch.set_alpha(0.0)\n",
    "        \n",
    "        \n",
    "        self.scatter_men=plt.scatter([],[],s=[])\n",
    "        self.scatter_women=plt.scatter([],[],s=[])\n",
    "\n",
    "        \n",
    "        # Explication\n",
    "        self.tl=self.ax.annotate('',(0.1,470))\n",
    "        self.bl=self.ax.annotate('',(0.1,470))\n",
    "        self.br=self.ax.annotate('',(0.1,470))\n",
    "        self.tr=self.ax.annotate('',(0.1,470))\n",
    "\n",
    "        \n",
    "        # Then setup FuncAnimation.\n",
    "#         self.ani = animation.FuncAnimation(self.fig, self.update, interval=5, \n",
    "#                                            init_func=self.setup_plot, blit=True,\n",
    "#                                           frames=1500,repeat=False)\n",
    "\n",
    "    def setup_plot(self):\n",
    "        \"\"\"Initial drawing of the scatter plot.\"\"\"\n",
    "#         x, y, s, i,c = next(self.stream)\n",
    "#         self.scat = self.ax.scatter(x, y, s=s, animated=True)\n",
    "        self.scat = self.ax.scatter([], [], s=[], animated=True)\n",
    "        self.scat_women = self.ax.scatter([], [], s=[], animated=True)\n",
    "        \n",
    "        self.ax.axis([0.01, 0.999, 201,549])\n",
    "#         self.annotation=self.ax.annotate(4,(0.8,450),alpha=0.5,weight='bold',size=60,fontname='Helvetica',color='blue')\n",
    "#         self.ax.annotate(5,(0.8,450),alpha=0.5,weight='bold',size=60,fontname='Helvetica',color='blue')\n",
    "\n",
    "        # For FuncAnimation's sake, we need to return the artist we'll be using\n",
    "        # Note that it expects a sequence of artists, thus the trailing comma.\n",
    "        return self.scat,\n",
    "\n",
    "    def data_stream(self):\n",
    "        \"\"\"Generate a random walk (brownian motion). Data is scaled to produce\n",
    "        a soft \"flickering\" effect.\"\"\"\n",
    "            \n",
    "        x_men=newcomers_men\n",
    "        data_men=np_paces_men\n",
    "        size_men=df_categories_age_size_men\n",
    "        size_men=size_men**(2/3)*2\n",
    "        \n",
    "        x_women=newcomers_women\n",
    "        data_women=np_paces_women\n",
    "        size_women=df_categories_age_size_women\n",
    "        size_women=size_women**(2/3)*2\n",
    "        \n",
    "        age=ages_interpolate\n",
    "        \n",
    "#         for i in range(100):\n",
    "#             yield 0\n",
    "        print(data_men.shape[1])\n",
    "        for i in range(0,data_men.shape[1]):\n",
    "            if i%100==0:\n",
    "                print(i)\n",
    "#             if not correct_orientation:\n",
    "#                 yield x[:,i],data[:,i],size[:,i],i,age[i]\n",
    "#             else:                \n",
    "            yield x_men[:,i],data_men[:,i],size_men[:,i],x_women[:,i],data_women[:,i],size_women[:,i],i,age[i]\n",
    "\n",
    "\n",
    "    def plot_top_left(self,i,end,duration_animation=20):\n",
    "        if i<0 or i>=end:\n",
    "            return\n",
    "        try:\n",
    "            self.tl.remove()\n",
    "        except:\n",
    "            pass\n",
    "        factor=np.min([1,i/duration_animation,(end-i)/duration_animation])\n",
    "        self.tl=self.ax.annotate('Experienced \\n   and slow',(0.1,470),alpha=0.5*factor,weight='bold',size=20,fontname='Helvetica',color='blue')\n",
    "    \n",
    "    def plot_top_right(self,i,end,duration_animation=20):\n",
    "        if i<0 or i>=end:\n",
    "            return\n",
    "        try:\n",
    "            self.tr.remove()\n",
    "        except:\n",
    "            pass\n",
    "        factor=np.min([1,i/duration_animation,(end-i)/duration_animation])\n",
    "        self.tr=self.ax.annotate('   New and \\nslow runners',(0.67,470),alpha=0.5*factor,weight='bold',size=20,fontname='Helvetica',color='blue')\n",
    "\n",
    "    \n",
    "    def plot_bottom_right(self,i,end,duration_animation=20):\n",
    "        if i<0 or i>=end:\n",
    "            return\n",
    "        try:\n",
    "            self.br.remove()\n",
    "        except:\n",
    "            pass\n",
    "        factor=np.min([1,i/duration_animation,(end-i)/duration_animation])\n",
    "        self.br=self.ax.annotate('   New \\nand fast',(0.73,240),alpha=0.5*factor,weight='bold',size=20,fontname='Helvetica',color='blue')\n",
    "\n",
    "    \n",
    "    def plot_bottom_left(self,i,end,duration_animation=20):\n",
    "        if i<0 or i>=end:\n",
    "            return\n",
    "        try:\n",
    "            self.bl.remove()\n",
    "        except:\n",
    "            pass\n",
    "        factor=np.min([1,i/duration_animation,(end-i)/duration_animation])\n",
    "        self.bl=self.ax.annotate('Experienced \\n   and fast',(0.1,240),alpha=0.5*factor,weight='bold',size=20,fontname='Helvetica',color='blue')\n",
    "\n",
    "    def plot_age(self,i,duration_animation=20):\n",
    "        if i<0:\n",
    "            return\n",
    "        try:\n",
    "            self.age_displayed.remove()\n",
    "        except:\n",
    "            pass\n",
    "        \n",
    "        factor=np.min([1,i/duration_animation])\n",
    "        self.age_displayed=self.ax.annotate('4',(0.75,470),alpha=0.5*factor,weight='bold',size=60,fontname='Helvetica',color='blue')\n",
    "    \n",
    "    def plot_word_age(self,i,end,duration_animation=20):\n",
    "        if i<0 or i>=end:\n",
    "            return\n",
    "        try: \n",
    "            self.age_word.remove()\n",
    "        except:\n",
    "            pass\n",
    "        factor=np.min([1,i/duration_animation,(end-i)/duration_animation])\n",
    "        self.age_word=self.ax.annotate('Age of the \\n runner',(0.7,400),alpha=0.5*factor,weight='bold',size=20,fontname='Helvetica',color='blue')\n",
    "\n",
    "    def plot_sphere_explication(self,i,middle,end,duration_animation=20):\n",
    "        if i<0 or i>=end:\n",
    "            return\n",
    "        try: \n",
    "            self.sphere.remove()\n",
    "        except:\n",
    "            pass\n",
    "        try:\n",
    "            self.sphere_explication1.remove()\n",
    "        except:\n",
    "            pass\n",
    "        try:\n",
    "            self.sphere_explication2.remove()\n",
    "            self.lineup.remove()\n",
    "            self.linedown.remove()\n",
    "            self.linecross.remove()\n",
    "        except:\n",
    "            pass\n",
    "        factor_sphere=np.min([1,i/duration_animation,(end-i)/duration_animation])\n",
    "        self.sphere=plt.scatter([0.4],[320],s=[1000],c=['#3377FF'],alpha=0.8*factor_sphere)\n",
    "        \n",
    "        if i>=0 and i<=middle:\n",
    "            factor1=np.min([1,i/duration_animation,(middle-i)/duration_animation])\n",
    "            self.sphere_explication1=self.ax.annotate('Race',(0.47,315),alpha=0.5*factor1,weight='bold',size=20,fontname='Helvetica',color='blue')\n",
    "        if i>=middle and i<end:\n",
    "            factor2=np.min([1,(i-middle)/duration_animation,(end-i)/duration_animation])\n",
    "            self.sphere_explication2=self.ax.annotate('Size = Number of \\n runners',(0.47,300),alpha=0.5*factor2,weight='bold',size=20,fontname='Helvetica',color='blue')\n",
    "\n",
    "    def plot_balls_legend(self,i,end,duration_animation=20):\n",
    "        if i<0 or i>=end:\n",
    "            return\n",
    "        \n",
    "        try: \n",
    "            self.sphere_legend.remove()\n",
    "        except:\n",
    "            pass\n",
    "        try: \n",
    "            self.sphere_legend_men.remove()\n",
    "        except:\n",
    "            pass\n",
    "        try: \n",
    "            self.sphere_legend_women.remove()\n",
    "        except:\n",
    "            pass\n",
    "        try: \n",
    "            self.sphere_legend_less5.remove()\n",
    "        except:\n",
    "            pass\n",
    "        try: \n",
    "            self.sphere_legend_5.remove()\n",
    "        except:\n",
    "            pass\n",
    "        try: \n",
    "            self.sphere_legend_10.remove()\n",
    "        except:\n",
    "            pass\n",
    "        try: \n",
    "            self.sphere_legend_21.remove()\n",
    "        except:\n",
    "            pass\n",
    "        try: \n",
    "            self.sphere_legend_42.remove()\n",
    "        except:\n",
    "            pass\n",
    "        \n",
    "        factor=np.min([1,i/duration_animation,(end-i)/duration_animation])\n",
    "        \n",
    "        coord_x=[0.1,0.23,0.36,0.49,0.62,0.1,0.23,0.36,0.49,0.62]\n",
    "        coord_y=[400,400,400,400,400,325,325,325,325,325]\n",
    "        colors_old=['#00ff99','#00CCCC','#3377FF','#3333BB','#333366','#FFCCDD','#FF99AA','#FF44DD','#CC11EE','#CC1199']\n",
    "        colors=['#bbdefb','#64b5f6','#2196f3','#1976d2','#0d47a1','#ff99ff','#ff66ff','#ff33ff','#cc33cc','#990099']\n",
    "        self.sphere_legend=plt.scatter(coord_x,coord_y,s=[300],c=colors,alpha=0.8*factor)\n",
    "        \n",
    "        self.sphere_legend_men=self.ax.annotate('Men',(0.68,390),alpha=0.5*factor,weight='bold',size=20,fontname='Helvetica',color='blue')\n",
    "        self.sphere_legend_women=self.ax.annotate('Women',(0.68,315),alpha=0.5*factor,weight='bold',size=20,fontname='Helvetica',color='blue')\n",
    "        self.sphere_legend_less5=self.ax.annotate('<5km',(0.1-0.05,430),alpha=0.5*factor,weight='bold',size=15,fontname='Helvetica',color='blue')\n",
    "        self.sphere_legend_5=self.ax.annotate('5-9\\nkm',(0.23-0.025,430),alpha=0.5*factor,weight='bold',size=15,fontname='Helvetica',color='blue')\n",
    "        self.sphere_legend_10=self.ax.annotate('10-15\\n  km',(0.36-0.05,430),alpha=0.5*factor,weight='bold',size=15,fontname='Helvetica',color='blue')\n",
    "        self.sphere_legend_21=self.ax.annotate('16-28\\n  km',(0.49-0.05,430),alpha=0.5*factor,weight='bold',size=15,fontname='Helvetica',color='blue')\n",
    "        self.sphere_legend_42=self.ax.annotate('29-45\\n  km',(0.62-0.05,430),alpha=0.5*factor,weight='bold',size=15,fontname='Helvetica',color='blue')\n",
    "\n",
    "            \n",
    "    def explication(self,i):\n",
    "        self.plot_top_right(i,1000)\n",
    "        self.plot_bottom_right(i-250,750)\n",
    "        self.plot_bottom_left(i-500,500)\n",
    "        self.plot_top_left(i-750,250)\n",
    "    \n",
    "    def update(self, i):\n",
    "        \"\"\"Update the scatter plot.\"\"\"\n",
    "        if i<100:\n",
    "            return self.scat,\n",
    "        if i>=100 and i<=1100:\n",
    "            if i%100==0:\n",
    "                print(i)\n",
    "            self.explication(i-100)\n",
    "            return self.scat,\n",
    "        try:\n",
    "            self.tl.remove()\n",
    "            self.tr.remove()\n",
    "            self.bl.remove()\n",
    "            self.br.remove()\n",
    "        except:\n",
    "            pass\n",
    "        if i>=1100 and i<=1800:\n",
    "            self.plot_sphere_explication(i-1100,250,500)\n",
    "            return self.scat,\n",
    "        try: \n",
    "            self.sphere.remove()\n",
    "        except:\n",
    "            pass\n",
    "        try:\n",
    "            self.sphere_explication1.remove()\n",
    "        except:\n",
    "            pass\n",
    "        try:\n",
    "            self.sphere_explication2.remove()\n",
    "            self.lineup.remove()\n",
    "            self.linedown.remove()\n",
    "            self.linecross.remove()\n",
    "        except:\n",
    "            pass\n",
    "        \n",
    "        if i>=1800 and i<=2400:\n",
    "            self.plot_balls_legend(i-1900,2400)\n",
    "            return self.scat,\n",
    "        try:\n",
    "            self.sphere_legend.remove()\n",
    "            self.sphere_legend_men.remove()\n",
    "            self.sphere_legend_women.remove()\n",
    "            self.sphere_legend_less5.remove()\n",
    "            self.sphere_legend_5.remove()\n",
    "            self.sphere_legend_10.remove()\n",
    "            self.sphere_legend_21.remove()\n",
    "            self.sphere_legend_42.remove()\n",
    "        except:\n",
    "            pass\n",
    "        if i>=2400 and i<=2800:\n",
    "            self.plot_age(i-2400,250)\n",
    "            self.plot_word_age(i-2500,150)\n",
    "            return self.scat,\n",
    "        try:\n",
    "            self.age_word.remove()\n",
    "        except:\n",
    "            pass\n",
    "        \n",
    "        \n",
    "        x_men,y_men,s_men,x_women,y_women,s_women,i,age = next(self.stream)\n",
    "        # Set x and y data...\n",
    "#         graph_men=np.column_stack((x_men,y_men))\n",
    "#         self.scat.set_offsets(graph_men)\n",
    "        \n",
    "#         graph_women=np.column_stack((x_women,y_women))\n",
    "#         self.scat_women.set_offsets(graph_women)\n",
    "        old_colors_men=['#00ff99','#00CCCC','#3377FF','#3333BB','#333366']\n",
    "        colors_men=['#bbdefb','#64b5f6','#2196f3','#1976d2','#0d47a1']\n",
    "        self.scatter_men.remove()\n",
    "        self.scatter_men=plt.scatter(x_men,y_men,s=s_men,c=colors_men)\n",
    "        \n",
    "        old_colors_women=['#FFCCDD','#FF99AA','#FF44DD','#CC11EE','#CC1199']\n",
    "        colors_women=['#ff99ff','#ff66ff','#ff33ff','#cc33cc','#990099']\n",
    "        self.scatter_women.remove()\n",
    "        self.scatter_women=plt.scatter(x_women,y_women,s=s_women,c=colors_women)\n",
    "        \n",
    "        # We need to return the updated artist for FuncAnimation to draw..\n",
    "        # Note that it expects a sequence of artists, thus the trailing comma.\n",
    "        ann=[]\n",
    "        ann.append(self.scat)\n",
    "        ann.append(self.scat_women)\n",
    "\n",
    "        # Annotation of the run\n",
    "        for j in self.run_annotations:\n",
    "            j.remove()\n",
    "        self.run_annotations=[]\n",
    "        \n",
    "        for j in range(len(x_men)):\n",
    "            first=first_not_nan_men[j]\n",
    "            if i-first<300:\n",
    "                self.run_annotations.append(plt.annotate('Men '+distances_list[j],(x_men[j]+0.03,y_men[j]+5),weight='bold',fontname='Helvetica',color=colors_men[j],alpha=0.8))\n",
    "            if i-first>=300 and i-first<500:\n",
    "                discount=(500-i+first)/300\n",
    "                self.run_annotations.append(plt.annotate('Men '+distances_list[j],(x_men[j]+0.03,y_men[j]+5),weight='bold',fontname='Helvetica',color=colors_men[j],alpha=0.8*discount))\n",
    "            first=first_not_nan_women[j]\n",
    "            if i-first<300:\n",
    "                self.run_annotations.append(plt.annotate('Women '+distances_list[j],(x_women[j]+0.03,y_women[j]-15),weight='bold',fontname='Helvetica',color=colors_women[j],alpha=0.8))\n",
    "            if i-first>=300 and i-first<500:\n",
    "                discount=(500-i+first)/300\n",
    "                self.run_annotations.append(plt.annotate('Women '+distances_list[j],(x_women[j]+0.03,y_women[j]-15),weight='bold',fontname='Helvetica',color=colors_women[j],alpha=0.8*discount))\n",
    "        # Age displayed \n",
    "        try:\n",
    "            self.age_displayed.remove()\n",
    "        except:\n",
    "            pass\n",
    "        self.age_displayed=self.ax.annotate(int(age),(0.75,470),alpha=0.5,weight='bold',size=60,fontname='Helvetica',color='blue')\n",
    "        \n",
    "        self.fig.patch.set_facecolor('blue')\n",
    "        self.fig.patch.set_alpha(0.7)\n",
    "        \n",
    "        return ann\n",
    "\n",
    "    def show(self):\n",
    "        plt.show()"
   ]
  },
  {
   "cell_type": "code",
   "execution_count": null,
   "metadata": {
    "collapsed": false,
    "scrolled": true
   },
   "outputs": [],
   "source": [
    "a=AnimatedScatter()\n"
   ]
  },
  {
   "cell_type": "code",
   "execution_count": 66,
   "metadata": {
    "collapsed": false
   },
   "outputs": [],
   "source": [
    "?plt.arrow()"
   ]
  },
  {
   "cell_type": "code",
   "execution_count": 64,
   "metadata": {
    "collapsed": false
   },
   "outputs": [],
   "source": [
    "plt.axis([-1,2,-1,2])\n",
    "a=plt.arrow(0, 0, 1, 1, edgecolor='white', width=0.05,head_width=0.2,alpha=0.4)\n",
    "a.set_facecolor('b')"
   ]
  },
  {
   "cell_type": "code",
   "execution_count": 65,
   "metadata": {
    "collapsed": false
   },
   "outputs": [
    {
     "data": {
      "image/png": "[encoded data removed]",
      "text/plain": [
       "<matplotlib.figure.Figure at 0x7fa193e1aef0>"
      ]
     },
     "metadata": {},
     "output_type": "display_data"
    }
   ],
   "source": [
    "plt.show()"
   ]
  },
  {
   "cell_type": "code",
   "execution_count": null,
   "metadata": {
    "collapsed": false,
    "scrolled": true
   },
   "outputs": [
    {
     "name": "stdout",
     "output_type": "stream",
     "text": [
      "100\n",
      "200\n",
      "300\n",
      "400\n"
     ]
    }
   ],
   "source": [
    "animation.FuncAnimation(a.fig, a.update, interval=12, \n",
    "                                           init_func=a.setup_plot, blit=True,\n",
    "                                          frames=9780,repeat=False)                                          \n",
    "# frames=9780,repeat=False)"
   ]
  },
  {
   "cell_type": "code",
   "execution_count": null,
   "metadata": {
    "collapsed": false
   },
   "outputs": [],
   "source": [
    "plt.show()"
   ]
  },
  {
   "cell_type": "code",
   "execution_count": null,
   "metadata": {
    "collapsed": true
   },
   "outputs": [],
   "source": []
  },
  {
   "cell_type": "code",
   "execution_count": null,
   "metadata": {
    "collapsed": true
   },
   "outputs": [],
   "source": []
  },
  {
   "cell_type": "code",
   "execution_count": null,
   "metadata": {
    "collapsed": true
   },
   "outputs": [],
   "source": []
  },
  {
   "cell_type": "code",
   "execution_count": null,
   "metadata": {
    "collapsed": true
   },
   "outputs": [],
   "source": []
  },
  {
   "cell_type": "markdown",
   "metadata": {},
   "source": [
    "## New animation"
   ]
  },
  {
   "cell_type": "code",
   "execution_count": null,
   "metadata": {
    "collapsed": true
   },
   "outputs": [],
   "source": [
    "def data_stream():\n",
    "        \"\"\"Generate a random walk (brownian motion). Data is scaled to produce\n",
    "        a soft \"flickering\" effect.\"\"\"\n",
    "        x=newcomers\n",
    "        data=np_paces\n",
    "        size=df_categories_age_size\n",
    "        size=np.sqrt(size)*10\n",
    "        age=ages_interpolate\n",
    "        \n",
    "#         for i in range(100):\n",
    "#             yield 0\n",
    "        \n",
    "        for i in range(1,data.shape[1]):\n",
    "            if not correct_orientation:\n",
    "                yield x[:,i],data[:,i],size[:,i],i,age[i]\n",
    "            else:                \n",
    "                yield data[:,i],x[:,i],size[:,i],i,age[i]"
   ]
  },
  {
   "cell_type": "code",
   "execution_count": null,
   "metadata": {
    "collapsed": false
   },
   "outputs": [],
   "source": [
    "a=data_stream()\n",
    "next(a)"
   ]
  },
  {
   "cell_type": "code",
   "execution_count": null,
   "metadata": {
    "collapsed": true
   },
   "outputs": [],
   "source": [
    "del scat"
   ]
  },
  {
   "cell_type": "code",
   "execution_count": null,
   "metadata": {
    "collapsed": false,
    "scrolled": true
   },
   "outputs": [],
   "source": [
    "# fig = plt.figure()\n",
    "# ax = plt.axes(xlim=(0, 2), ylim=(-2, 2))\n",
    "# line, = ax.plot([], [], lw=2)\n",
    "\n",
    "\n",
    "# Setup the figure and axes...\n",
    "fig, ax = plt.subplots()\n",
    "\n",
    "ds=data_stream()\n",
    "# scat=0\n",
    "\n",
    "# initialization function: plot the background of each frame\n",
    "def init():\n",
    "    \"\"\"Initial drawing of the scatter plot.\"\"\"\n",
    "        \n",
    "    x,y,s,time_step,age = next(ds)\n",
    "    y = [r for r in y]\n",
    "    x = [i for i in x]\n",
    "    c = 1\n",
    "    scat = ax.scatter(x, y, s=s, animated=True)\n",
    "    ax.axis([0, 1.1, 250, 550])\n",
    "    if correct_orientation:\n",
    "        ax.axis([250,550,0, 1.1])\n",
    "        \n",
    "    return scat,\n",
    "\n",
    "# animation function.  This is called sequentially\n",
    "def animate(i):\n",
    "    \"\"\"Update the scatter plot.\"\"\"\n",
    "\n",
    "#     try:\n",
    "    x,y,s,time_step,age = next(ds)\n",
    "#     except:\n",
    "#         return scat\n",
    "    y = [r for r in y]\n",
    "    x = [i for i in x]\n",
    "#         s = [1000 for i in y]\n",
    "    c = 1\n",
    "#         print(y)\n",
    "#         print(s)\n",
    "    scat = ax.scatter(x, y, s=s, animated=True)\n",
    "\n",
    "    graph=np.row_stack((y,x))\n",
    "    # Set x and y data...\n",
    "    scat.set_offsets(graph)\n",
    "    # Set sizes...\n",
    "    scat._sizes = s# 300 * abs(data[2])**1.5 + 100\n",
    "\n",
    "    \n",
    "#     x = np.linspace(0, 2, 1000)\n",
    "#     y = np.sin(2 * np.pi * (x - 0.01 * i))\n",
    "#     line.set_data(x, y)\n",
    "#     return line,\n",
    "\n",
    "# call the animator.  blit=True means only re-draw the parts that have changed.\n",
    "anim = animation.FuncAnimation(fig, animate, init_func=init,\n",
    "                               frames=200, interval=20, blit=True)\n",
    "\n",
    "# save the animation as an mp4.  This requires ffmpeg or mencoder to be\n",
    "# installed.  The extra_args ensure that the x264 codec is used, so that\n",
    "# the video can be embedded in html5.  You may need to adjust this for\n",
    "# your system: for more information, see\n",
    "# http://matplotlib.sourceforge.net/api/animation_api.html\n",
    "anim.save('basic_animation.mp4', fps=30, extra_args=['-vcodec', 'libx264'])\n",
    "\n",
    "plt.show()"
   ]
  },
  {
   "cell_type": "markdown",
   "metadata": {},
   "source": [
    "## Old animation"
   ]
  },
  {
   "cell_type": "code",
   "execution_count": null,
   "metadata": {
    "collapsed": false
   },
   "outputs": [],
   "source": [
    "class AnimatedScatter(object):\n",
    "    \"\"\"An animated scatter plot using matplotlib.animations.FuncAnimation.\"\"\"\n",
    "    def __init__(self, numpoints=50):\n",
    "        self.numpoints = numpoints\n",
    "        self.stream = self.data_stream()\n",
    "\n",
    "        # Setup the figure and axes...\n",
    "        self.fig, self.ax = plt.subplots()\n",
    "        # Then setup FuncAnimation.\n",
    "        self.ani = animation.FuncAnimation(self.fig, self.update, interval=15, \n",
    "                                           init_func=self.setup_plot, blit=True,frames=1000,repeat=False)\n",
    "        self.ani.save('basic_animation.mp4', fps=30, extra_args=['-vcodec', 'libx264'])\n",
    "\n",
    "\n",
    "    def setup_plot(self):\n",
    "        \"\"\"Initial drawing of the scatter plot.\"\"\"\n",
    "        \n",
    "        x,y,s,time_step,age = next(self.stream)\n",
    "        y = [r for r in y]\n",
    "        x = [i for i in x]\n",
    "#         s = [1000 for i in y]\n",
    "        c = 1\n",
    "#         plt.annotate('ciao',(0.4,300))\n",
    "#         print(y)\n",
    "#         print(s)\n",
    "        self.scat = self.ax.scatter(x, y, s=s, animated=True)\n",
    "        self.ax.axis([0, 1.1, 250, 550])\n",
    "        if correct_orientation:\n",
    "            self.ax.axis([250,550,0, 1.1])\n",
    "        # For FuncAnimation's sake, we need to return the artist we'll be using\n",
    "        # Note that it expects a sequence of artists, thus the trailing comma.\n",
    "        return self.scat,\n",
    "\n",
    "    def data_stream(self):\n",
    "        \"\"\"Generate a random walk (brownian motion). Data is scaled to produce\n",
    "        a soft \"flickering\" effect.\"\"\"\n",
    "        x=newcomers\n",
    "        data=np_paces\n",
    "        size=df_categories_age_size\n",
    "        size=np.sqrt(size)*10\n",
    "        age=ages_interpolate\n",
    "        \n",
    "#         for i in range(100):\n",
    "#             yield 0\n",
    "        \n",
    "        for i in range(1,data.shape[1]):\n",
    "            if not correct_orientation:\n",
    "                yield x[:,i],data[:,i],size[:,i],i,age[i]\n",
    "            else:                \n",
    "                yield data[:,i],x[:,i],size[:,i],i,age[i]\n",
    "\n",
    "                \n",
    "        #         data = np.random.random((4, self.numpoints))\n",
    "#         xy = data[:2, :]\n",
    "#         s, c = data[2:, :]\n",
    "#         xy -= 0.5\n",
    "#         xy *= 10\n",
    "#         for i in range(1000):\n",
    "#             xy += 0.03 * (np.random.random((2, self.numpoints)) - 0.5)\n",
    "#             s += 0.05 * (np.random.random(self.numpoints) - 0.5)\n",
    "#             c += 0.02 * (np.random.random(self.numpoints) - 0.5)\n",
    "#             yield data\n",
    "\n",
    "    def update(self, i):\n",
    "        \"\"\"Update the scatter plot.\"\"\"\n",
    "\n",
    "        try:\n",
    "            x,y,s,time_step,age = next(self.stream)\n",
    "        except:\n",
    "            return self.scat\n",
    "        y = [r for r in y]\n",
    "        x = [i for i in x]\n",
    "#         s = [1000 for i in y]\n",
    "        c = 1\n",
    "#         print(y)\n",
    "#         print(s)\n",
    "        graph=np.row_stack((y,x))\n",
    "        # Set x and y data...\n",
    "        self.scat.set_offsets(graph)\n",
    "        # Set sizes...\n",
    "        self.scat._sizes = s# 300 * abs(data[2])**1.5 + 100\n",
    "\n",
    "        # Set colors..\n",
    "#         self.scat.set_array(data[3])\n",
    "        ann=[]\n",
    "        self.scat =self.ax.scatter(x, y, s=s, animated=True)\n",
    "        ann.append(self.scat)\n",
    "        for i in range(len(x)):\n",
    "            if not correct_orientation:\n",
    "                ann.append(plt.annotate(distances_list[i],(x[i]+0.03,y[i]+5),weight='bold',fontname='Helvetica',color='red'))\n",
    "            else:\n",
    "                ann.append(plt.annotate(distances_list[i],(x[i]+5,y[i]+0.03),weight='bold',fontname='Helvetica',color='red'))\n",
    "        if not correct_orientation:\n",
    "            ann.append(plt.annotate(int(age),(0.8,450),alpha=0.5,weight='bold',size=60,fontname='Helvetica',color='blue'))\n",
    "        else:\n",
    "            ann.append(plt.annotate(int(age),(450,0.8),alpha=0.5,weight='bold',size=60,fontname='Helvetica',color='blue'))\n",
    "\n",
    "#         self.ax.invert_yaxis()\n",
    "\n",
    "        # We need to return the updated artist for FuncAnimation to draw..\n",
    "        # Note that it expects a sequence of artists, thus the trailing comma.\n",
    "        return ann\n",
    "\n",
    "    def show(self):\n",
    "        plt.show()\n",
    "\n"
   ]
  },
  {
   "cell_type": "code",
   "execution_count": null,
   "metadata": {
    "collapsed": false,
    "scrolled": true
   },
   "outputs": [],
   "source": [
    "firstTime=True\n",
    "a = AnimatedScatter()\n",
    "\n",
    "# a.show()"
   ]
  }
 ],
 "metadata": {
  "anaconda-cloud": {},
  "kernelspec": {
   "display_name": "Python [default]",
   "language": "python",
   "name": "python3"
  },
  "language_info": {
   "codemirror_mode": {
    "name": "ipython",
    "version": 3
   },
   "file_extension": ".py",
   "mimetype": "text/x-python",
   "name": "python",
   "nbconvert_exporter": "python",
   "pygments_lexer": "ipython3",
   "version": "3.5.2"
  },
  "notify_time": "5"
 },
 "nbformat": 4,
 "nbformat_minor": 0
}
