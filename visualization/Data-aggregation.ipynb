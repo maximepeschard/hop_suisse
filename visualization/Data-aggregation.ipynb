{
 "cells": [
  {
   "cell_type": "markdown",
   "metadata": {},
   "source": [
    "# Data aggreation for future visualization"
   ]
  },
  {
   "cell_type": "markdown",
   "metadata": {},
   "source": [
    "Load data."
   ]
  },
  {
   "cell_type": "code",
   "execution_count": 25,
   "metadata": {
    "collapsed": true
   },
   "outputs": [],
   "source": [
    "import pandas as pd"
   ]
  },
  {
   "cell_type": "code",
   "execution_count": 26,
   "metadata": {
    "collapsed": true
   },
   "outputs": [],
   "source": [
    "df = pd.read_csv('/Users/maximepeschard/Downloads/full_database.csv')"
   ]
  },
  {
   "cell_type": "code",
   "execution_count": 38,
   "metadata": {
    "collapsed": false
   },
   "outputs": [
    {
     "data": {
      "text/plain": [
       "(1281195, 13)"
      ]
     },
     "execution_count": 38,
     "metadata": {},
     "output_type": "execute_result"
    }
   ],
   "source": [
    "df.shape"
   ]
  },
  {
   "cell_type": "code",
   "execution_count": 42,
   "metadata": {
    "collapsed": false
   },
   "outputs": [
    {
     "data": {
      "text/html": [
       "<div>\n",
       "<table border=\"1\" class=\"dataframe\">\n",
       "  <thead>\n",
       "    <tr style=\"text-align: right;\">\n",
       "      <th></th>\n",
       "      <th>Race</th>\n",
       "      <th>Date</th>\n",
       "      <th>Distance</th>\n",
       "      <th>Name</th>\n",
       "      <th>Sex</th>\n",
       "      <th>Year</th>\n",
       "      <th>LivingPlace</th>\n",
       "      <th>Rank</th>\n",
       "      <th>Time</th>\n",
       "      <th>Delay</th>\n",
       "      <th>Pace</th>\n",
       "      <th>len_name</th>\n",
       "      <th>idx</th>\n",
       "    </tr>\n",
       "  </thead>\n",
       "  <tbody>\n",
       "    <tr>\n",
       "      <th>0</th>\n",
       "      <td>Jungfrau-Marathon, Interlaken</td>\n",
       "      <td>sam. 06.09.2003</td>\n",
       "      <td>42.195000</td>\n",
       "      <td>Abächerli Walter</td>\n",
       "      <td>M</td>\n",
       "      <td>1952</td>\n",
       "      <td>Hinwil</td>\n",
       "      <td>47</td>\n",
       "      <td>4:31.56,1</td>\n",
       "      <td>0:53.5,3</td>\n",
       "      <td>0:6.26,0</td>\n",
       "      <td>2</td>\n",
       "      <td>0</td>\n",
       "    </tr>\n",
       "    <tr>\n",
       "      <th>1</th>\n",
       "      <td>Jungfrau-Marathon, Interlaken</td>\n",
       "      <td>sam. 06.09.2003</td>\n",
       "      <td>42.195000</td>\n",
       "      <td>Abbringh Ellen</td>\n",
       "      <td>F</td>\n",
       "      <td>1962</td>\n",
       "      <td>NL-Doorn 3941 EB</td>\n",
       "      <td>91</td>\n",
       "      <td>5:55.9,4</td>\n",
       "      <td>2:12.11,6</td>\n",
       "      <td>0:8.25,0</td>\n",
       "      <td>2</td>\n",
       "      <td>1</td>\n",
       "    </tr>\n",
       "    <tr>\n",
       "      <th>2</th>\n",
       "      <td>Jungfrau-Marathon, Interlaken</td>\n",
       "      <td>sam. 06.09.2003</td>\n",
       "      <td>42.195000</td>\n",
       "      <td>Abegglen Eddy</td>\n",
       "      <td>M</td>\n",
       "      <td>1954</td>\n",
       "      <td>Mürren</td>\n",
       "      <td>424</td>\n",
       "      <td>5:45.21,9</td>\n",
       "      <td>2:20.33,8</td>\n",
       "      <td>0:8.11,0</td>\n",
       "      <td>2</td>\n",
       "      <td>2</td>\n",
       "    </tr>\n",
       "    <tr>\n",
       "      <th>3</th>\n",
       "      <td>Jungfrau-Marathon, Interlaken</td>\n",
       "      <td>sam. 06.09.2003</td>\n",
       "      <td>42.328675</td>\n",
       "      <td>Abosa Emebet</td>\n",
       "      <td>F</td>\n",
       "      <td>1974</td>\n",
       "      <td>Zuoz</td>\n",
       "      <td>1</td>\n",
       "      <td>3:21.46,1</td>\n",
       "      <td>False</td>\n",
       "      <td>0:4.46,0</td>\n",
       "      <td>2</td>\n",
       "      <td>3</td>\n",
       "    </tr>\n",
       "    <tr>\n",
       "      <th>4</th>\n",
       "      <td>Jungfrau-Marathon, Interlaken</td>\n",
       "      <td>sam. 06.09.2003</td>\n",
       "      <td>42.195000</td>\n",
       "      <td>Abplanalp Michel</td>\n",
       "      <td>M</td>\n",
       "      <td>1960</td>\n",
       "      <td>Auvernier</td>\n",
       "      <td>143</td>\n",
       "      <td>4:30.26,9</td>\n",
       "      <td>1:7.35,3</td>\n",
       "      <td>0:6.24,0</td>\n",
       "      <td>2</td>\n",
       "      <td>4</td>\n",
       "    </tr>\n",
       "  </tbody>\n",
       "</table>\n",
       "</div>"
      ],
      "text/plain": [
       "                            Race             Date   Distance  \\\n",
       "0  Jungfrau-Marathon, Interlaken  sam. 06.09.2003  42.195000   \n",
       "1  Jungfrau-Marathon, Interlaken  sam. 06.09.2003  42.195000   \n",
       "2  Jungfrau-Marathon, Interlaken  sam. 06.09.2003  42.195000   \n",
       "3  Jungfrau-Marathon, Interlaken  sam. 06.09.2003  42.328675   \n",
       "4  Jungfrau-Marathon, Interlaken  sam. 06.09.2003  42.195000   \n",
       "\n",
       "                Name Sex  Year        LivingPlace  Rank       Time      Delay  \\\n",
       "0  Abächerli Walter    M  1952             Hinwil    47  4:31.56,1   0:53.5,3   \n",
       "1    Abbringh Ellen    F  1962   NL-Doorn 3941 EB    91   5:55.9,4  2:12.11,6   \n",
       "2     Abegglen Eddy    M  1954             Mürren   424  5:45.21,9  2:20.33,8   \n",
       "3      Abosa Emebet    F  1974               Zuoz     1  3:21.46,1      False   \n",
       "4  Abplanalp Michel    M  1960          Auvernier   143  4:30.26,9   1:7.35,3   \n",
       "\n",
       "       Pace  len_name  idx  \n",
       "0  0:6.26,0         2    0  \n",
       "1  0:8.25,0         2    1  \n",
       "2  0:8.11,0         2    2  \n",
       "3  0:4.46,0         2    3  \n",
       "4  0:6.24,0         2    4  "
      ]
     },
     "execution_count": 42,
     "metadata": {},
     "output_type": "execute_result"
    }
   ],
   "source": [
    "df.head()"
   ]
  },
  {
   "cell_type": "code",
   "execution_count": 44,
   "metadata": {
    "collapsed": false,
    "scrolled": true
   },
   "outputs": [
    {
     "data": {
      "text/plain": [
       "Race           Jungfrau-Marathon, Interlaken\n",
       "Date                         sam. 11.09.2004\n",
       "Distance                              42.195\n",
       "Name                   Tomantschger Gerhard \n",
       "Sex                                        M\n",
       "Year                                    1949\n",
       "LivingPlace                          Bönigen\n",
       "Rank                                      39\n",
       "Time                               4:54.46,1\n",
       "Delay                               1:3.13,7\n",
       "Pace                                0:6.59,0\n",
       "len_name                                   2\n",
       "idx                                     6000\n",
       "Name: 6000, dtype: object"
      ]
     },
     "execution_count": 44,
     "metadata": {},
     "output_type": "execute_result"
    }
   ],
   "source": [
    "df.loc[6000]"
   ]
  },
  {
   "cell_type": "markdown",
   "metadata": {},
   "source": [
    "Set hieriarchical index to export to JSON."
   ]
  },
  {
   "cell_type": "code",
   "execution_count": 48,
   "metadata": {
    "collapsed": false,
    "scrolled": true
   },
   "outputs": [
    {
     "data": {
      "text/html": [
       "<div>\n",
       "<table border=\"1\" class=\"dataframe\">\n",
       "  <thead>\n",
       "    <tr style=\"text-align: right;\">\n",
       "      <th></th>\n",
       "      <th></th>\n",
       "      <th></th>\n",
       "      <th>Distance</th>\n",
       "      <th>Name</th>\n",
       "      <th>Sex</th>\n",
       "      <th>Year</th>\n",
       "      <th>LivingPlace</th>\n",
       "      <th>Rank</th>\n",
       "      <th>Time</th>\n",
       "      <th>Delay</th>\n",
       "      <th>Pace</th>\n",
       "      <th>len_name</th>\n",
       "    </tr>\n",
       "    <tr>\n",
       "      <th>Race</th>\n",
       "      <th>Date</th>\n",
       "      <th>idx</th>\n",
       "      <th></th>\n",
       "      <th></th>\n",
       "      <th></th>\n",
       "      <th></th>\n",
       "      <th></th>\n",
       "      <th></th>\n",
       "      <th></th>\n",
       "      <th></th>\n",
       "      <th></th>\n",
       "      <th></th>\n",
       "    </tr>\n",
       "  </thead>\n",
       "  <tbody>\n",
       "    <tr>\n",
       "      <th rowspan=\"5\" valign=\"top\">Jungfrau-Marathon, Interlaken</th>\n",
       "      <th rowspan=\"5\" valign=\"top\">sam. 06.09.2003</th>\n",
       "      <th>0</th>\n",
       "      <td>42.195000</td>\n",
       "      <td>Abächerli Walter</td>\n",
       "      <td>M</td>\n",
       "      <td>1952</td>\n",
       "      <td>Hinwil</td>\n",
       "      <td>47</td>\n",
       "      <td>4:31.56,1</td>\n",
       "      <td>0:53.5,3</td>\n",
       "      <td>0:6.26,0</td>\n",
       "      <td>2</td>\n",
       "    </tr>\n",
       "    <tr>\n",
       "      <th>1</th>\n",
       "      <td>42.195000</td>\n",
       "      <td>Abbringh Ellen</td>\n",
       "      <td>F</td>\n",
       "      <td>1962</td>\n",
       "      <td>NL-Doorn 3941 EB</td>\n",
       "      <td>91</td>\n",
       "      <td>5:55.9,4</td>\n",
       "      <td>2:12.11,6</td>\n",
       "      <td>0:8.25,0</td>\n",
       "      <td>2</td>\n",
       "    </tr>\n",
       "    <tr>\n",
       "      <th>2</th>\n",
       "      <td>42.195000</td>\n",
       "      <td>Abegglen Eddy</td>\n",
       "      <td>M</td>\n",
       "      <td>1954</td>\n",
       "      <td>Mürren</td>\n",
       "      <td>424</td>\n",
       "      <td>5:45.21,9</td>\n",
       "      <td>2:20.33,8</td>\n",
       "      <td>0:8.11,0</td>\n",
       "      <td>2</td>\n",
       "    </tr>\n",
       "    <tr>\n",
       "      <th>3</th>\n",
       "      <td>42.328675</td>\n",
       "      <td>Abosa Emebet</td>\n",
       "      <td>F</td>\n",
       "      <td>1974</td>\n",
       "      <td>Zuoz</td>\n",
       "      <td>1</td>\n",
       "      <td>3:21.46,1</td>\n",
       "      <td>False</td>\n",
       "      <td>0:4.46,0</td>\n",
       "      <td>2</td>\n",
       "    </tr>\n",
       "    <tr>\n",
       "      <th>4</th>\n",
       "      <td>42.195000</td>\n",
       "      <td>Abplanalp Michel</td>\n",
       "      <td>M</td>\n",
       "      <td>1960</td>\n",
       "      <td>Auvernier</td>\n",
       "      <td>143</td>\n",
       "      <td>4:30.26,9</td>\n",
       "      <td>1:7.35,3</td>\n",
       "      <td>0:6.24,0</td>\n",
       "      <td>2</td>\n",
       "    </tr>\n",
       "  </tbody>\n",
       "</table>\n",
       "</div>"
      ],
      "text/plain": [
       "                                                    Distance  \\\n",
       "Race                          Date            idx              \n",
       "Jungfrau-Marathon, Interlaken sam. 06.09.2003 0    42.195000   \n",
       "                                              1    42.195000   \n",
       "                                              2    42.195000   \n",
       "                                              3    42.328675   \n",
       "                                              4    42.195000   \n",
       "\n",
       "                                                                Name Sex  \\\n",
       "Race                          Date            idx                          \n",
       "Jungfrau-Marathon, Interlaken sam. 06.09.2003 0    Abächerli Walter    M   \n",
       "                                              1      Abbringh Ellen    F   \n",
       "                                              2       Abegglen Eddy    M   \n",
       "                                              3        Abosa Emebet    F   \n",
       "                                              4    Abplanalp Michel    M   \n",
       "\n",
       "                                                   Year        LivingPlace  \\\n",
       "Race                          Date            idx                            \n",
       "Jungfrau-Marathon, Interlaken sam. 06.09.2003 0    1952             Hinwil   \n",
       "                                              1    1962   NL-Doorn 3941 EB   \n",
       "                                              2    1954             Mürren   \n",
       "                                              3    1974               Zuoz   \n",
       "                                              4    1960          Auvernier   \n",
       "\n",
       "                                                   Rank       Time      Delay  \\\n",
       "Race                          Date            idx                               \n",
       "Jungfrau-Marathon, Interlaken sam. 06.09.2003 0      47  4:31.56,1   0:53.5,3   \n",
       "                                              1      91   5:55.9,4  2:12.11,6   \n",
       "                                              2     424  5:45.21,9  2:20.33,8   \n",
       "                                              3       1  3:21.46,1      False   \n",
       "                                              4     143  4:30.26,9   1:7.35,3   \n",
       "\n",
       "                                                       Pace  len_name  \n",
       "Race                          Date            idx                      \n",
       "Jungfrau-Marathon, Interlaken sam. 06.09.2003 0    0:6.26,0         2  \n",
       "                                              1    0:8.25,0         2  \n",
       "                                              2    0:8.11,0         2  \n",
       "                                              3    0:4.46,0         2  \n",
       "                                              4    0:6.24,0         2  "
      ]
     },
     "execution_count": 48,
     "metadata": {},
     "output_type": "execute_result"
    }
   ],
   "source": [
    "df['idx'] = range(df.shape[0])\n",
    "hieriarchical_df = df[:100].set_index(['Race', 'Date', 'idx'])\n",
    "hieriarchical_df.head()"
   ]
  },
  {
   "cell_type": "code",
   "execution_count": 49,
   "metadata": {
    "collapsed": false
   },
   "outputs": [
    {
     "data": {
      "text/plain": [
       "(100, 10)"
      ]
     },
     "execution_count": 49,
     "metadata": {},
     "output_type": "execute_result"
    }
   ],
   "source": [
    "hieriarchical_df.shape"
   ]
  },
  {
   "cell_type": "markdown",
   "metadata": {},
   "source": [
    "Export to JSON."
   ]
  },
  {
   "cell_type": "code",
   "execution_count": 50,
   "metadata": {
    "collapsed": false
   },
   "outputs": [],
   "source": [
    "hieriarchical_df.to_json('races-aggregation.json', orient='index')"
   ]
  },
  {
   "cell_type": "code",
   "execution_count": null,
   "metadata": {
    "collapsed": true
   },
   "outputs": [],
   "source": []
  }
 ],
 "metadata": {
  "kernelspec": {
   "display_name": "Python 3",
   "language": "python",
   "name": "python3"
  },
  "language_info": {
   "codemirror_mode": {
    "name": "ipython",
    "version": 3
   },
   "file_extension": ".py",
   "mimetype": "text/x-python",
   "name": "python",
   "nbconvert_exporter": "python",
   "pygments_lexer": "ipython3",
   "version": "3.5.2"
  }
 },
 "nbformat": 4,
 "nbformat_minor": 1
}
