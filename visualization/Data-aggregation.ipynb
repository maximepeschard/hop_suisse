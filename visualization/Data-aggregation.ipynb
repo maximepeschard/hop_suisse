{
 "cells": [
  {
   "cell_type": "markdown",
   "metadata": {},
   "source": [
    "# Data aggregation for future visualization\n",
    "\n",
    "* [Load data](#Load-data)\n",
    "* [Aggregation by race](#Aggregation-by-race)\n",
    "* [Aggregation by name](#Aggregation-by-name)"
   ]
  },
  {
   "cell_type": "markdown",
   "metadata": {},
   "source": [
    "## Load data"
   ]
  },
  {
   "cell_type": "code",
   "execution_count": 1,
   "metadata": {
    "collapsed": true
   },
   "outputs": [],
   "source": [
    "import pandas as pd"
   ]
  },
  {
   "cell_type": "code",
   "execution_count": 2,
   "metadata": {
    "collapsed": true
   },
   "outputs": [],
   "source": [
    "# Change to full dataset local path\n",
    "df = pd.read_csv('/Users/maximepeschard/Downloads/full_database.csv')"
   ]
  },
  {
   "cell_type": "code",
   "execution_count": 3,
   "metadata": {
    "collapsed": false
   },
   "outputs": [
    {
     "data": {
      "text/plain": [
       "(1281195, 12)"
      ]
     },
     "execution_count": 3,
     "metadata": {},
     "output_type": "execute_result"
    }
   ],
   "source": [
    "df.shape"
   ]
  },
  {
   "cell_type": "code",
   "execution_count": 4,
   "metadata": {
    "collapsed": false,
    "scrolled": false
   },
   "outputs": [
    {
     "data": {
      "text/html": [
       "<div>\n",
       "<table border=\"1\" class=\"dataframe\">\n",
       "  <thead>\n",
       "    <tr style=\"text-align: right;\">\n",
       "      <th></th>\n",
       "      <th>Race</th>\n",
       "      <th>Date</th>\n",
       "      <th>Distance</th>\n",
       "      <th>Name</th>\n",
       "      <th>Sex</th>\n",
       "      <th>Year</th>\n",
       "      <th>LivingPlace</th>\n",
       "      <th>Rank</th>\n",
       "      <th>Time</th>\n",
       "      <th>Delay</th>\n",
       "      <th>Pace</th>\n",
       "      <th>len_name</th>\n",
       "    </tr>\n",
       "  </thead>\n",
       "  <tbody>\n",
       "    <tr>\n",
       "      <th>0</th>\n",
       "      <td>Jungfrau-Marathon, Interlaken</td>\n",
       "      <td>sam. 06.09.2003</td>\n",
       "      <td>42.195000</td>\n",
       "      <td>Abächerli Walter</td>\n",
       "      <td>M</td>\n",
       "      <td>1952</td>\n",
       "      <td>Hinwil</td>\n",
       "      <td>47</td>\n",
       "      <td>4:31.56,1</td>\n",
       "      <td>0:53.5,3</td>\n",
       "      <td>0:6.26,0</td>\n",
       "      <td>2</td>\n",
       "    </tr>\n",
       "    <tr>\n",
       "      <th>1</th>\n",
       "      <td>Jungfrau-Marathon, Interlaken</td>\n",
       "      <td>sam. 06.09.2003</td>\n",
       "      <td>42.195000</td>\n",
       "      <td>Abbringh Ellen</td>\n",
       "      <td>F</td>\n",
       "      <td>1962</td>\n",
       "      <td>NL-Doorn 3941 EB</td>\n",
       "      <td>91</td>\n",
       "      <td>5:55.9,4</td>\n",
       "      <td>2:12.11,6</td>\n",
       "      <td>0:8.25,0</td>\n",
       "      <td>2</td>\n",
       "    </tr>\n",
       "    <tr>\n",
       "      <th>2</th>\n",
       "      <td>Jungfrau-Marathon, Interlaken</td>\n",
       "      <td>sam. 06.09.2003</td>\n",
       "      <td>42.195000</td>\n",
       "      <td>Abegglen Eddy</td>\n",
       "      <td>M</td>\n",
       "      <td>1954</td>\n",
       "      <td>Mürren</td>\n",
       "      <td>424</td>\n",
       "      <td>5:45.21,9</td>\n",
       "      <td>2:20.33,8</td>\n",
       "      <td>0:8.11,0</td>\n",
       "      <td>2</td>\n",
       "    </tr>\n",
       "    <tr>\n",
       "      <th>3</th>\n",
       "      <td>Jungfrau-Marathon, Interlaken</td>\n",
       "      <td>sam. 06.09.2003</td>\n",
       "      <td>42.328675</td>\n",
       "      <td>Abosa Emebet</td>\n",
       "      <td>F</td>\n",
       "      <td>1974</td>\n",
       "      <td>Zuoz</td>\n",
       "      <td>1</td>\n",
       "      <td>3:21.46,1</td>\n",
       "      <td>False</td>\n",
       "      <td>0:4.46,0</td>\n",
       "      <td>2</td>\n",
       "    </tr>\n",
       "    <tr>\n",
       "      <th>4</th>\n",
       "      <td>Jungfrau-Marathon, Interlaken</td>\n",
       "      <td>sam. 06.09.2003</td>\n",
       "      <td>42.195000</td>\n",
       "      <td>Abplanalp Michel</td>\n",
       "      <td>M</td>\n",
       "      <td>1960</td>\n",
       "      <td>Auvernier</td>\n",
       "      <td>143</td>\n",
       "      <td>4:30.26,9</td>\n",
       "      <td>1:7.35,3</td>\n",
       "      <td>0:6.24,0</td>\n",
       "      <td>2</td>\n",
       "    </tr>\n",
       "  </tbody>\n",
       "</table>\n",
       "</div>"
      ],
      "text/plain": [
       "                            Race             Date   Distance  \\\n",
       "0  Jungfrau-Marathon, Interlaken  sam. 06.09.2003  42.195000   \n",
       "1  Jungfrau-Marathon, Interlaken  sam. 06.09.2003  42.195000   \n",
       "2  Jungfrau-Marathon, Interlaken  sam. 06.09.2003  42.195000   \n",
       "3  Jungfrau-Marathon, Interlaken  sam. 06.09.2003  42.328675   \n",
       "4  Jungfrau-Marathon, Interlaken  sam. 06.09.2003  42.195000   \n",
       "\n",
       "                Name Sex  Year        LivingPlace  Rank       Time      Delay  \\\n",
       "0  Abächerli Walter    M  1952             Hinwil    47  4:31.56,1   0:53.5,3   \n",
       "1    Abbringh Ellen    F  1962   NL-Doorn 3941 EB    91   5:55.9,4  2:12.11,6   \n",
       "2     Abegglen Eddy    M  1954             Mürren   424  5:45.21,9  2:20.33,8   \n",
       "3      Abosa Emebet    F  1974               Zuoz     1  3:21.46,1      False   \n",
       "4  Abplanalp Michel    M  1960          Auvernier   143  4:30.26,9   1:7.35,3   \n",
       "\n",
       "       Pace  len_name  \n",
       "0  0:6.26,0         2  \n",
       "1  0:8.25,0         2  \n",
       "2  0:8.11,0         2  \n",
       "3  0:4.46,0         2  \n",
       "4  0:6.24,0         2  "
      ]
     },
     "execution_count": 4,
     "metadata": {},
     "output_type": "execute_result"
    }
   ],
   "source": [
    "df.head()"
   ]
  },
  {
   "cell_type": "markdown",
   "metadata": {},
   "source": [
    "## Convert time string to seconds (ignore further precision)"
   ]
  },
  {
   "cell_type": "code",
   "execution_count": 5,
   "metadata": {
    "collapsed": false
   },
   "outputs": [],
   "source": [
    "def time_to_seconds(x):\n",
    "    # Get hours\n",
    "    split = x.split(':')\n",
    "    hours = int(split[0])\n",
    "    # Get minutes\n",
    "    split = split[1].split('.')\n",
    "    minutes = int(split[0])\n",
    "    # Get seconds\n",
    "    split = split[1].split(',')\n",
    "    seconds = int(split[0])\n",
    "    return hours*3600 + minutes*60 + seconds\n",
    "\n",
    "def seconds_to_time(x):\n",
    "    minutes, seconds = divmod(x, 60)\n",
    "    hours, minutes = divmod(minutes, 60)\n",
    "    return '{}:{}:{}'.format(hours, minutes, seconds)"
   ]
  },
  {
   "cell_type": "code",
   "execution_count": 6,
   "metadata": {
    "collapsed": true
   },
   "outputs": [],
   "source": [
    "df['time'] = df.Time.apply(time_to_seconds)"
   ]
  },
  {
   "cell_type": "markdown",
   "metadata": {},
   "source": [
    "## Add a race+date index"
   ]
  },
  {
   "cell_type": "code",
   "execution_count": 7,
   "metadata": {
    "collapsed": true
   },
   "outputs": [],
   "source": [
    "df['race_index'] = df.Race + ' ; ' + df.Date"
   ]
  },
  {
   "cell_type": "markdown",
   "metadata": {},
   "source": [
    "## Final global dataframe"
   ]
  },
  {
   "cell_type": "code",
   "execution_count": 8,
   "metadata": {
    "collapsed": false,
    "scrolled": true
   },
   "outputs": [
    {
     "data": {
      "text/html": [
       "<div>\n",
       "<table border=\"1\" class=\"dataframe\">\n",
       "  <thead>\n",
       "    <tr style=\"text-align: right;\">\n",
       "      <th></th>\n",
       "      <th>Race</th>\n",
       "      <th>Date</th>\n",
       "      <th>Distance</th>\n",
       "      <th>Name</th>\n",
       "      <th>Sex</th>\n",
       "      <th>Year</th>\n",
       "      <th>LivingPlace</th>\n",
       "      <th>Rank</th>\n",
       "      <th>Time</th>\n",
       "      <th>Delay</th>\n",
       "      <th>Pace</th>\n",
       "      <th>len_name</th>\n",
       "      <th>time</th>\n",
       "      <th>race_index</th>\n",
       "    </tr>\n",
       "  </thead>\n",
       "  <tbody>\n",
       "    <tr>\n",
       "      <th>0</th>\n",
       "      <td>Jungfrau-Marathon, Interlaken</td>\n",
       "      <td>sam. 06.09.2003</td>\n",
       "      <td>42.195000</td>\n",
       "      <td>Abächerli Walter</td>\n",
       "      <td>M</td>\n",
       "      <td>1952</td>\n",
       "      <td>Hinwil</td>\n",
       "      <td>47</td>\n",
       "      <td>4:31.56,1</td>\n",
       "      <td>0:53.5,3</td>\n",
       "      <td>0:6.26,0</td>\n",
       "      <td>2</td>\n",
       "      <td>16316</td>\n",
       "      <td>Jungfrau-Marathon, Interlaken ; sam. 06.09.2003</td>\n",
       "    </tr>\n",
       "    <tr>\n",
       "      <th>1</th>\n",
       "      <td>Jungfrau-Marathon, Interlaken</td>\n",
       "      <td>sam. 06.09.2003</td>\n",
       "      <td>42.195000</td>\n",
       "      <td>Abbringh Ellen</td>\n",
       "      <td>F</td>\n",
       "      <td>1962</td>\n",
       "      <td>NL-Doorn 3941 EB</td>\n",
       "      <td>91</td>\n",
       "      <td>5:55.9,4</td>\n",
       "      <td>2:12.11,6</td>\n",
       "      <td>0:8.25,0</td>\n",
       "      <td>2</td>\n",
       "      <td>21309</td>\n",
       "      <td>Jungfrau-Marathon, Interlaken ; sam. 06.09.2003</td>\n",
       "    </tr>\n",
       "    <tr>\n",
       "      <th>2</th>\n",
       "      <td>Jungfrau-Marathon, Interlaken</td>\n",
       "      <td>sam. 06.09.2003</td>\n",
       "      <td>42.195000</td>\n",
       "      <td>Abegglen Eddy</td>\n",
       "      <td>M</td>\n",
       "      <td>1954</td>\n",
       "      <td>Mürren</td>\n",
       "      <td>424</td>\n",
       "      <td>5:45.21,9</td>\n",
       "      <td>2:20.33,8</td>\n",
       "      <td>0:8.11,0</td>\n",
       "      <td>2</td>\n",
       "      <td>20721</td>\n",
       "      <td>Jungfrau-Marathon, Interlaken ; sam. 06.09.2003</td>\n",
       "    </tr>\n",
       "    <tr>\n",
       "      <th>3</th>\n",
       "      <td>Jungfrau-Marathon, Interlaken</td>\n",
       "      <td>sam. 06.09.2003</td>\n",
       "      <td>42.328675</td>\n",
       "      <td>Abosa Emebet</td>\n",
       "      <td>F</td>\n",
       "      <td>1974</td>\n",
       "      <td>Zuoz</td>\n",
       "      <td>1</td>\n",
       "      <td>3:21.46,1</td>\n",
       "      <td>False</td>\n",
       "      <td>0:4.46,0</td>\n",
       "      <td>2</td>\n",
       "      <td>12106</td>\n",
       "      <td>Jungfrau-Marathon, Interlaken ; sam. 06.09.2003</td>\n",
       "    </tr>\n",
       "    <tr>\n",
       "      <th>4</th>\n",
       "      <td>Jungfrau-Marathon, Interlaken</td>\n",
       "      <td>sam. 06.09.2003</td>\n",
       "      <td>42.195000</td>\n",
       "      <td>Abplanalp Michel</td>\n",
       "      <td>M</td>\n",
       "      <td>1960</td>\n",
       "      <td>Auvernier</td>\n",
       "      <td>143</td>\n",
       "      <td>4:30.26,9</td>\n",
       "      <td>1:7.35,3</td>\n",
       "      <td>0:6.24,0</td>\n",
       "      <td>2</td>\n",
       "      <td>16226</td>\n",
       "      <td>Jungfrau-Marathon, Interlaken ; sam. 06.09.2003</td>\n",
       "    </tr>\n",
       "  </tbody>\n",
       "</table>\n",
       "</div>"
      ],
      "text/plain": [
       "                            Race             Date   Distance  \\\n",
       "0  Jungfrau-Marathon, Interlaken  sam. 06.09.2003  42.195000   \n",
       "1  Jungfrau-Marathon, Interlaken  sam. 06.09.2003  42.195000   \n",
       "2  Jungfrau-Marathon, Interlaken  sam. 06.09.2003  42.195000   \n",
       "3  Jungfrau-Marathon, Interlaken  sam. 06.09.2003  42.328675   \n",
       "4  Jungfrau-Marathon, Interlaken  sam. 06.09.2003  42.195000   \n",
       "\n",
       "                Name Sex  Year        LivingPlace  Rank       Time      Delay  \\\n",
       "0  Abächerli Walter    M  1952             Hinwil    47  4:31.56,1   0:53.5,3   \n",
       "1    Abbringh Ellen    F  1962   NL-Doorn 3941 EB    91   5:55.9,4  2:12.11,6   \n",
       "2     Abegglen Eddy    M  1954             Mürren   424  5:45.21,9  2:20.33,8   \n",
       "3      Abosa Emebet    F  1974               Zuoz     1  3:21.46,1      False   \n",
       "4  Abplanalp Michel    M  1960          Auvernier   143  4:30.26,9   1:7.35,3   \n",
       "\n",
       "       Pace  len_name   time                                       race_index  \n",
       "0  0:6.26,0         2  16316  Jungfrau-Marathon, Interlaken ; sam. 06.09.2003  \n",
       "1  0:8.25,0         2  21309  Jungfrau-Marathon, Interlaken ; sam. 06.09.2003  \n",
       "2  0:8.11,0         2  20721  Jungfrau-Marathon, Interlaken ; sam. 06.09.2003  \n",
       "3  0:4.46,0         2  12106  Jungfrau-Marathon, Interlaken ; sam. 06.09.2003  \n",
       "4  0:6.24,0         2  16226  Jungfrau-Marathon, Interlaken ; sam. 06.09.2003  "
      ]
     },
     "execution_count": 8,
     "metadata": {},
     "output_type": "execute_result"
    }
   ],
   "source": [
    "df.head()"
   ]
  },
  {
   "cell_type": "markdown",
   "metadata": {},
   "source": [
    "# Aggregation by race"
   ]
  },
  {
   "cell_type": "code",
   "execution_count": 9,
   "metadata": {
    "collapsed": false,
    "scrolled": true
   },
   "outputs": [],
   "source": [
    "def keep_first(x):\n",
    "    return x.unique()[0]\n",
    "\n",
    "def str_count(x, s=''):\n",
    "    try:\n",
    "        count = x.value_counts()[s]\n",
    "    except KeyError:\n",
    "        count = 0\n",
    "    return count\n",
    "\n",
    "aggregations = {\n",
    "    'Distance': 'max',\n",
    "    'Name': 'count',\n",
    "    'Sex': {\n",
    "        'M': lambda x: str_count(x, s='M'),\n",
    "        'F': lambda x: str_count(x, s='F')\n",
    "    },\n",
    "    'Year': {\n",
    "        'min_year': 'min', \n",
    "        'max_year': 'max',\n",
    "        'mean_year': 'mean',\n",
    "        'median_year': 'median'\n",
    "    },\n",
    "    'time': {\n",
    "        'min_time': lambda x: seconds_to_time(x.min()),\n",
    "        'max_time': lambda x: seconds_to_time(x.max()),\n",
    "        'mean_time': lambda x: seconds_to_time(x.mean()),\n",
    "        'median_time': lambda x: seconds_to_time(x.median()),\n",
    "    }\n",
    "}\n",
    "\n",
    "# ---- INTERLUDE ----\n",
    "#\n",
    "# Not sure what's best here :\n",
    "# - groupby 'race_index' and export all data in one huge JSON file (choice 1)\n",
    "# - groupby ['Race', 'Date'] and export one JSON file by race name (choice 2)\n",
    "#\n",
    "# Maybe choice 2 is more practical when working with D3 / viz tools...\n",
    "# -------------------\n",
    "\n",
    "races_stats = df.groupby('race_index').agg(aggregations)     # choice 1\n",
    "# races_stats = df.groupby(['Race', 'Date']).agg(aggregations) # choice 2\n",
    "\n",
    "races_stats.columns = races_stats.columns.droplevel(0)"
   ]
  },
  {
   "cell_type": "code",
   "execution_count": 10,
   "metadata": {
    "collapsed": false,
    "scrolled": true
   },
   "outputs": [
    {
     "data": {
      "text/html": [
       "<div>\n",
       "<table border=\"1\" class=\"dataframe\">\n",
       "  <thead>\n",
       "    <tr style=\"text-align: right;\">\n",
       "      <th></th>\n",
       "      <th>max</th>\n",
       "      <th>median_year</th>\n",
       "      <th>mean_year</th>\n",
       "      <th>max_year</th>\n",
       "      <th>min_year</th>\n",
       "      <th>count</th>\n",
       "      <th>median_time</th>\n",
       "      <th>mean_time</th>\n",
       "      <th>min_time</th>\n",
       "      <th>max_time</th>\n",
       "      <th>M</th>\n",
       "      <th>F</th>\n",
       "    </tr>\n",
       "    <tr>\n",
       "      <th>race_index</th>\n",
       "      <th></th>\n",
       "      <th></th>\n",
       "      <th></th>\n",
       "      <th></th>\n",
       "      <th></th>\n",
       "      <th></th>\n",
       "      <th></th>\n",
       "      <th></th>\n",
       "      <th></th>\n",
       "      <th></th>\n",
       "      <th></th>\n",
       "      <th></th>\n",
       "    </tr>\n",
       "  </thead>\n",
       "  <tbody>\n",
       "    <tr>\n",
       "      <th>10km Schweizer Meisterschaften Lyss ; sam. 02.04.2011</th>\n",
       "      <td>10.0</td>\n",
       "      <td>1965.0</td>\n",
       "      <td>1966.012320</td>\n",
       "      <td>1997</td>\n",
       "      <td>1923</td>\n",
       "      <td>487</td>\n",
       "      <td>0.0:42.0:29.0</td>\n",
       "      <td>0.0:43.0:42.61190965092419</td>\n",
       "      <td>0:22:15</td>\n",
       "      <td>1:15:56</td>\n",
       "      <td>357</td>\n",
       "      <td>130</td>\n",
       "    </tr>\n",
       "    <tr>\n",
       "      <th>10km Schweizer Meisterschaften Lyss ; sam. 31.03.2012</th>\n",
       "      <td>10.0</td>\n",
       "      <td>1966.0</td>\n",
       "      <td>1966.777320</td>\n",
       "      <td>1998</td>\n",
       "      <td>1934</td>\n",
       "      <td>485</td>\n",
       "      <td>0.0:41.0:24.0</td>\n",
       "      <td>0.0:42.0:26.39381443298953</td>\n",
       "      <td>0:17:23</td>\n",
       "      <td>1:15:57</td>\n",
       "      <td>370</td>\n",
       "      <td>115</td>\n",
       "    </tr>\n",
       "    <tr>\n",
       "      <th>10km de Payerne ; sam. 27.03.2010</th>\n",
       "      <td>10.0</td>\n",
       "      <td>1971.0</td>\n",
       "      <td>1974.335025</td>\n",
       "      <td>2007</td>\n",
       "      <td>1923</td>\n",
       "      <td>591</td>\n",
       "      <td>0.0:38.0:58.0</td>\n",
       "      <td>0.0:35.0:24.844331641285862</td>\n",
       "      <td>0:1:23</td>\n",
       "      <td>1:28:14</td>\n",
       "      <td>403</td>\n",
       "      <td>188</td>\n",
       "    </tr>\n",
       "    <tr>\n",
       "      <th>10km de Payerne ; sam. 28.03.2009</th>\n",
       "      <td>10.0</td>\n",
       "      <td>1966.0</td>\n",
       "      <td>1964.978261</td>\n",
       "      <td>1995</td>\n",
       "      <td>1923</td>\n",
       "      <td>368</td>\n",
       "      <td>0.0:41.0:18.0</td>\n",
       "      <td>0.0:43.0:15.14673913043498</td>\n",
       "      <td>0:29:55</td>\n",
       "      <td>1:27:13</td>\n",
       "      <td>288</td>\n",
       "      <td>80</td>\n",
       "    </tr>\n",
       "    <tr>\n",
       "      <th>10km, Payerne ; sam. 10.03.2012</th>\n",
       "      <td>10.0</td>\n",
       "      <td>1973.0</td>\n",
       "      <td>1976.005474</td>\n",
       "      <td>2010</td>\n",
       "      <td>1943</td>\n",
       "      <td>548</td>\n",
       "      <td>0.0:42.0:50.0</td>\n",
       "      <td>0.0:38.0:23.193430656934197</td>\n",
       "      <td>0:1:26</td>\n",
       "      <td>1:14:23</td>\n",
       "      <td>408</td>\n",
       "      <td>140</td>\n",
       "    </tr>\n",
       "  </tbody>\n",
       "</table>\n",
       "</div>"
      ],
      "text/plain": [
       "                                                     max  median_year  \\\n",
       "race_index                                                              \n",
       "10km Schweizer Meisterschaften Lyss ; sam. 02.0...  10.0       1965.0   \n",
       "10km Schweizer Meisterschaften Lyss ; sam. 31.0...  10.0       1966.0   \n",
       "10km de Payerne ; sam. 27.03.2010                   10.0       1971.0   \n",
       "10km de Payerne ; sam. 28.03.2009                   10.0       1966.0   \n",
       "10km, Payerne ; sam. 10.03.2012                     10.0       1973.0   \n",
       "\n",
       "                                                      mean_year  max_year  \\\n",
       "race_index                                                                  \n",
       "10km Schweizer Meisterschaften Lyss ; sam. 02.0...  1966.012320      1997   \n",
       "10km Schweizer Meisterschaften Lyss ; sam. 31.0...  1966.777320      1998   \n",
       "10km de Payerne ; sam. 27.03.2010                   1974.335025      2007   \n",
       "10km de Payerne ; sam. 28.03.2009                   1964.978261      1995   \n",
       "10km, Payerne ; sam. 10.03.2012                     1976.005474      2010   \n",
       "\n",
       "                                                    min_year  count  \\\n",
       "race_index                                                            \n",
       "10km Schweizer Meisterschaften Lyss ; sam. 02.0...      1923    487   \n",
       "10km Schweizer Meisterschaften Lyss ; sam. 31.0...      1934    485   \n",
       "10km de Payerne ; sam. 27.03.2010                       1923    591   \n",
       "10km de Payerne ; sam. 28.03.2009                       1923    368   \n",
       "10km, Payerne ; sam. 10.03.2012                         1943    548   \n",
       "\n",
       "                                                      median_time  \\\n",
       "race_index                                                          \n",
       "10km Schweizer Meisterschaften Lyss ; sam. 02.0...  0.0:42.0:29.0   \n",
       "10km Schweizer Meisterschaften Lyss ; sam. 31.0...  0.0:41.0:24.0   \n",
       "10km de Payerne ; sam. 27.03.2010                   0.0:38.0:58.0   \n",
       "10km de Payerne ; sam. 28.03.2009                   0.0:41.0:18.0   \n",
       "10km, Payerne ; sam. 10.03.2012                     0.0:42.0:50.0   \n",
       "\n",
       "                                                                      mean_time  \\\n",
       "race_index                                                                        \n",
       "10km Schweizer Meisterschaften Lyss ; sam. 02.0...   0.0:43.0:42.61190965092419   \n",
       "10km Schweizer Meisterschaften Lyss ; sam. 31.0...   0.0:42.0:26.39381443298953   \n",
       "10km de Payerne ; sam. 27.03.2010                   0.0:35.0:24.844331641285862   \n",
       "10km de Payerne ; sam. 28.03.2009                    0.0:43.0:15.14673913043498   \n",
       "10km, Payerne ; sam. 10.03.2012                     0.0:38.0:23.193430656934197   \n",
       "\n",
       "                                                   min_time max_time    M    F  \n",
       "race_index                                                                      \n",
       "10km Schweizer Meisterschaften Lyss ; sam. 02.0...  0:22:15  1:15:56  357  130  \n",
       "10km Schweizer Meisterschaften Lyss ; sam. 31.0...  0:17:23  1:15:57  370  115  \n",
       "10km de Payerne ; sam. 27.03.2010                    0:1:23  1:28:14  403  188  \n",
       "10km de Payerne ; sam. 28.03.2009                   0:29:55  1:27:13  288   80  \n",
       "10km, Payerne ; sam. 10.03.2012                      0:1:26  1:14:23  408  140  "
      ]
     },
     "execution_count": 10,
     "metadata": {},
     "output_type": "execute_result"
    }
   ],
   "source": [
    "races_stats.head()"
   ]
  },
  {
   "cell_type": "code",
   "execution_count": 11,
   "metadata": {
    "collapsed": false
   },
   "outputs": [
    {
     "data": {
      "text/plain": [
       "'{\"10km Schweizer Meisterschaften Lyss ; sam. 02.04.2011\":{\"max\":10.0,\"median_year\":1965.0,\"mean_year\":1966.0123203285,\"max_year\":1997,\"min_year\":1923,\"count\":487,\"median_time\":\"0.0:42.0:29.0\",\"mean_time\":\"0.0:43.0:42.61190965092419\",\"min_time\":\"0:22:15\",\"max_time\":\"1:15:56\",\"M\":357,\"F\":130},\"10km Schweizer Meisterschaften Lyss ; sam. 31.03.2012\":{\"max\":10.0,\"median_year\":1966.0,\"mean_year\":1966.7773195876,\"max_year\":1998,\"min_year\":1934,\"count\":485,\"median_time\":\"0.0:41.0:24.0\",\"mean_time\":\"0.0:42.0:26.39381443298953\",\"min_time\":\"0:17:23\",\"max_time\":\"1:15:57\",\"M\":370,\"F\":115}}'"
      ]
     },
     "execution_count": 11,
     "metadata": {},
     "output_type": "execute_result"
    }
   ],
   "source": [
    "# Example of JSON export\n",
    "races_stats[:2].to_json(orient='index')"
   ]
  },
  {
   "cell_type": "markdown",
   "metadata": {
    "collapsed": true
   },
   "source": [
    "# Aggregation by name\n",
    "\n",
    "**TO DO ! Beware of the name 'real' duplicates (two different persons with same name (and sometimes same birthyear...)), and the 'false' duplicates (different formatting for the same name, eg. trailing space).**"
   ]
  },
  {
   "cell_type": "code",
   "execution_count": 12,
   "metadata": {
    "collapsed": false
   },
   "outputs": [
    {
     "data": {
      "text/plain": [
       "Schmid Christian     180\n",
       "Meier Thomas         170\n",
       "Müller Martin        160\n",
       "Müller Thomas        155\n",
       "Meier Andreas        136\n",
       "Name: Name, dtype: int64"
      ]
     },
     "execution_count": 12,
     "metadata": {},
     "output_type": "execute_result"
    }
   ],
   "source": [
    "df.Name.value_counts().head()"
   ]
  },
  {
   "cell_type": "code",
   "execution_count": 13,
   "metadata": {
    "collapsed": false
   },
   "outputs": [],
   "source": [
    "name_agg_df = df[df.Name.str.strip() == 'Schmid Christian']"
   ]
  },
  {
   "cell_type": "code",
   "execution_count": 14,
   "metadata": {
    "collapsed": false
   },
   "outputs": [
    {
     "data": {
      "text/html": [
       "<div>\n",
       "<table border=\"1\" class=\"dataframe\">\n",
       "  <thead>\n",
       "    <tr style=\"text-align: right;\">\n",
       "      <th></th>\n",
       "      <th>Race</th>\n",
       "      <th>Date</th>\n",
       "      <th>Distance</th>\n",
       "      <th>Name</th>\n",
       "      <th>Sex</th>\n",
       "      <th>Year</th>\n",
       "      <th>LivingPlace</th>\n",
       "      <th>Rank</th>\n",
       "      <th>Time</th>\n",
       "      <th>Delay</th>\n",
       "      <th>Pace</th>\n",
       "      <th>len_name</th>\n",
       "      <th>time</th>\n",
       "      <th>race_index</th>\n",
       "    </tr>\n",
       "  </thead>\n",
       "  <tbody>\n",
       "    <tr>\n",
       "      <th>2304</th>\n",
       "      <td>Jungfrau-Marathon, Interlaken</td>\n",
       "      <td>sam. 06.09.2003</td>\n",
       "      <td>42.195</td>\n",
       "      <td>Schmid Christian</td>\n",
       "      <td>M</td>\n",
       "      <td>1981</td>\n",
       "      <td>DE-Waldbronn</td>\n",
       "      <td>332</td>\n",
       "      <td>4:38.55,9</td>\n",
       "      <td>1:49.54,3</td>\n",
       "      <td>0:6.36,0</td>\n",
       "      <td>2</td>\n",
       "      <td>16735</td>\n",
       "      <td>Jungfrau-Marathon, Interlaken ; sam. 06.09.2003</td>\n",
       "    </tr>\n",
       "    <tr>\n",
       "      <th>2305</th>\n",
       "      <td>Jungfrau-Marathon, Interlaken</td>\n",
       "      <td>sam. 06.09.2003</td>\n",
       "      <td>42.195</td>\n",
       "      <td>Schmid Christian</td>\n",
       "      <td>M</td>\n",
       "      <td>1967</td>\n",
       "      <td>Berikon</td>\n",
       "      <td>160</td>\n",
       "      <td>4:12.29,0</td>\n",
       "      <td>1:23.27,4</td>\n",
       "      <td>0:5.59,0</td>\n",
       "      <td>2</td>\n",
       "      <td>15149</td>\n",
       "      <td>Jungfrau-Marathon, Interlaken ; sam. 06.09.2003</td>\n",
       "    </tr>\n",
       "    <tr>\n",
       "      <th>2306</th>\n",
       "      <td>Jungfrau-Marathon, Interlaken</td>\n",
       "      <td>sam. 06.09.2003</td>\n",
       "      <td>42.195</td>\n",
       "      <td>Schmid Christian</td>\n",
       "      <td>M</td>\n",
       "      <td>1963</td>\n",
       "      <td>Morrens VD</td>\n",
       "      <td>397</td>\n",
       "      <td>5:15.51,2</td>\n",
       "      <td>1:52.59,6</td>\n",
       "      <td>0:7.29,0</td>\n",
       "      <td>2</td>\n",
       "      <td>18951</td>\n",
       "      <td>Jungfrau-Marathon, Interlaken ; sam. 06.09.2003</td>\n",
       "    </tr>\n",
       "    <tr>\n",
       "      <th>5569</th>\n",
       "      <td>Jungfrau-Marathon, Interlaken</td>\n",
       "      <td>sam. 11.09.2004</td>\n",
       "      <td>42.195</td>\n",
       "      <td>Schmid Christian</td>\n",
       "      <td>M</td>\n",
       "      <td>1967</td>\n",
       "      <td>Berikon</td>\n",
       "      <td>183</td>\n",
       "      <td>4:16.34,4</td>\n",
       "      <td>1:17.3,5</td>\n",
       "      <td>0:6.4,0</td>\n",
       "      <td>2</td>\n",
       "      <td>15394</td>\n",
       "      <td>Jungfrau-Marathon, Interlaken ; sam. 11.09.2004</td>\n",
       "    </tr>\n",
       "    <tr>\n",
       "      <th>9147</th>\n",
       "      <td>Jungfrau-Marathon, Interlaken</td>\n",
       "      <td>sam. 10.09.2005</td>\n",
       "      <td>42.195</td>\n",
       "      <td>Schmid Christian</td>\n",
       "      <td>M</td>\n",
       "      <td>1968</td>\n",
       "      <td>Zürich</td>\n",
       "      <td>270</td>\n",
       "      <td>4:29.35,3</td>\n",
       "      <td>1:30.13,5</td>\n",
       "      <td>0:6.23,0</td>\n",
       "      <td>2</td>\n",
       "      <td>16175</td>\n",
       "      <td>Jungfrau-Marathon, Interlaken ; sam. 10.09.2005</td>\n",
       "    </tr>\n",
       "  </tbody>\n",
       "</table>\n",
       "</div>"
      ],
      "text/plain": [
       "                               Race             Date  Distance  \\\n",
       "2304  Jungfrau-Marathon, Interlaken  sam. 06.09.2003    42.195   \n",
       "2305  Jungfrau-Marathon, Interlaken  sam. 06.09.2003    42.195   \n",
       "2306  Jungfrau-Marathon, Interlaken  sam. 06.09.2003    42.195   \n",
       "5569  Jungfrau-Marathon, Interlaken  sam. 11.09.2004    42.195   \n",
       "9147  Jungfrau-Marathon, Interlaken  sam. 10.09.2005    42.195   \n",
       "\n",
       "                   Name Sex  Year    LivingPlace  Rank       Time      Delay  \\\n",
       "2304  Schmid Christian    M  1981   DE-Waldbronn   332  4:38.55,9  1:49.54,3   \n",
       "2305  Schmid Christian    M  1967        Berikon   160  4:12.29,0  1:23.27,4   \n",
       "2306  Schmid Christian    M  1963     Morrens VD   397  5:15.51,2  1:52.59,6   \n",
       "5569  Schmid Christian    M  1967        Berikon   183  4:16.34,4   1:17.3,5   \n",
       "9147  Schmid Christian    M  1968         Zürich   270  4:29.35,3  1:30.13,5   \n",
       "\n",
       "          Pace  len_name   time  \\\n",
       "2304  0:6.36,0         2  16735   \n",
       "2305  0:5.59,0         2  15149   \n",
       "2306  0:7.29,0         2  18951   \n",
       "5569   0:6.4,0         2  15394   \n",
       "9147  0:6.23,0         2  16175   \n",
       "\n",
       "                                           race_index  \n",
       "2304  Jungfrau-Marathon, Interlaken ; sam. 06.09.2003  \n",
       "2305  Jungfrau-Marathon, Interlaken ; sam. 06.09.2003  \n",
       "2306  Jungfrau-Marathon, Interlaken ; sam. 06.09.2003  \n",
       "5569  Jungfrau-Marathon, Interlaken ; sam. 11.09.2004  \n",
       "9147  Jungfrau-Marathon, Interlaken ; sam. 10.09.2005  "
      ]
     },
     "execution_count": 14,
     "metadata": {},
     "output_type": "execute_result"
    }
   ],
   "source": [
    "name_agg_df.head()"
   ]
  },
  {
   "cell_type": "code",
   "execution_count": null,
   "metadata": {
    "collapsed": true
   },
   "outputs": [],
   "source": []
  }
 ],
 "metadata": {
  "kernelspec": {
   "display_name": "Python 3",
   "language": "python",
   "name": "python3"
  },
  "language_info": {
   "codemirror_mode": {
    "name": "ipython",
    "version": 3
   },
   "file_extension": ".py",
   "mimetype": "text/x-python",
   "name": "python",
   "nbconvert_exporter": "python",
   "pygments_lexer": "ipython3",
   "version": "3.5.2"
  }
 },
 "nbformat": 4,
 "nbformat_minor": 1
}
