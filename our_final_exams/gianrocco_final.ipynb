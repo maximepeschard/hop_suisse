{
 "cells": [
  {
   "cell_type": "markdown",
   "metadata": {
    "run_control": {
     "frozen": false,
     "read_only": false
    },
    "toc": "true"
   },
   "source": [
    "# Table of Contents\n",
    " <p><div class=\"lev1 toc-item\"><a href=\"#Task---1\" data-toc-modified-id=\"Task---1-1\"><span class=\"toc-item-num\">1&nbsp;&nbsp;</span>Task - 1</a></div><div class=\"lev2 toc-item\"><a href=\"#loading-the-data\" data-toc-modified-id=\"loading-the-data-11\"><span class=\"toc-item-num\">1.1&nbsp;&nbsp;</span>loading the data</a></div><div class=\"lev3 toc-item\"><a href=\"#epfl-data\" data-toc-modified-id=\"epfl-data-111\"><span class=\"toc-item-num\">1.1.1&nbsp;&nbsp;</span>epfl data</a></div><div class=\"lev3 toc-item\"><a href=\"#ethz-data\" data-toc-modified-id=\"ethz-data-112\"><span class=\"toc-item-num\">1.1.2&nbsp;&nbsp;</span>ethz data</a></div><div class=\"lev2 toc-item\"><a href=\"#filtering\" data-toc-modified-id=\"filtering-12\"><span class=\"toc-item-num\">1.2&nbsp;&nbsp;</span>filtering</a></div><div class=\"lev3 toc-item\"><a href=\"#comparison-epfl\" data-toc-modified-id=\"comparison-epfl-121\"><span class=\"toc-item-num\">1.2.1&nbsp;&nbsp;</span>comparison epfl</a></div><div class=\"lev3 toc-item\"><a href=\"#comparison-ethz\" data-toc-modified-id=\"comparison-ethz-122\"><span class=\"toc-item-num\">1.2.2&nbsp;&nbsp;</span>comparison ethz</a></div><div class=\"lev1 toc-item\"><a href=\"#Task---2----descriptive-stat---epfl-VS-ethz\" data-toc-modified-id=\"Task---2----descriptive-stat---epfl-VS-ethz-2\"><span class=\"toc-item-num\">2&nbsp;&nbsp;</span>Task - 2 -  descriptive stat - epfl VS ethz</a></div><div class=\"lev2 toc-item\"><a href=\"#analysis-of-favorites\" data-toc-modified-id=\"analysis-of-favorites-21\"><span class=\"toc-item-num\">2.1&nbsp;&nbsp;</span>analysis of favorites</a></div><div class=\"lev3 toc-item\"><a href=\"#total-amount-of-favourites:\" data-toc-modified-id=\"total-amount-of-favourites:-211\"><span class=\"toc-item-num\">2.1.1&nbsp;&nbsp;</span>total amount of favourites:</a></div><div class=\"lev3 toc-item\"><a href=\"#total-distribution-of-favourites:\" data-toc-modified-id=\"total-distribution-of-favourites:-212\"><span class=\"toc-item-num\">2.1.2&nbsp;&nbsp;</span>total distribution of favourites:</a></div><div class=\"lev3 toc-item\"><a href=\"#number-of-favorites,-by-year\" data-toc-modified-id=\"number-of-favorites,-by-year-213\"><span class=\"toc-item-num\">2.1.3&nbsp;&nbsp;</span>number of favorites, by year</a></div><div class=\"lev3 toc-item\"><a href=\"#number-of-favorites,-by-month\" data-toc-modified-id=\"number-of-favorites,-by-month-214\"><span class=\"toc-item-num\">2.1.4&nbsp;&nbsp;</span>number of favorites, by month</a></div><div class=\"lev3 toc-item\"><a href=\"#number-of-favorites,-by-hour\" data-toc-modified-id=\"number-of-favorites,-by-hour-215\"><span class=\"toc-item-num\">2.1.5&nbsp;&nbsp;</span>number of favorites, by hour</a></div><div class=\"lev3 toc-item\"><a href=\"#number-of-favorites,-by-hashtag\" data-toc-modified-id=\"number-of-favorites,-by-hashtag-216\"><span class=\"toc-item-num\">2.1.6&nbsp;&nbsp;</span>number of favorites, by hashtag</a></div><div class=\"lev2 toc-item\"><a href=\"#analysis-of-retweets\" data-toc-modified-id=\"analysis-of-retweets-22\"><span class=\"toc-item-num\">2.2&nbsp;&nbsp;</span>analysis of retweets</a></div><div class=\"lev3 toc-item\"><a href=\"#total-amount-of-retweets:\" data-toc-modified-id=\"total-amount-of-retweets:-221\"><span class=\"toc-item-num\">2.2.1&nbsp;&nbsp;</span>total amount of retweets:</a></div><div class=\"lev3 toc-item\"><a href=\"#total-distribution-of-retweets:\" data-toc-modified-id=\"total-distribution-of-retweets:-222\"><span class=\"toc-item-num\">2.2.2&nbsp;&nbsp;</span>total distribution of retweets:</a></div><div class=\"lev3 toc-item\"><a href=\"#number-of-retweets,-by-year\" data-toc-modified-id=\"number-of-retweets,-by-year-223\"><span class=\"toc-item-num\">2.2.3&nbsp;&nbsp;</span>number of retweets, by year</a></div><div class=\"lev3 toc-item\"><a href=\"#number-of-retweets,-by-month\" data-toc-modified-id=\"number-of-retweets,-by-month-224\"><span class=\"toc-item-num\">2.2.4&nbsp;&nbsp;</span>number of retweets, by month</a></div><div class=\"lev3 toc-item\"><a href=\"#number-of-retweets,-by-hour\" data-toc-modified-id=\"number-of-retweets,-by-hour-225\"><span class=\"toc-item-num\">2.2.5&nbsp;&nbsp;</span>number of retweets, by hour</a></div><div class=\"lev3 toc-item\"><a href=\"#number-of-retweets,-by-hashtag\" data-toc-modified-id=\"number-of-retweets,-by-hashtag-226\"><span class=\"toc-item-num\">2.2.6&nbsp;&nbsp;</span>number of retweets, by hashtag</a></div><div class=\"lev1 toc-item\"><a href=\"#Task---3\" data-toc-modified-id=\"Task---3-3\"><span class=\"toc-item-num\">3&nbsp;&nbsp;</span>Task - 3</a></div><div class=\"lev2 toc-item\"><a href=\"#prepare-features-and-labels\" data-toc-modified-id=\"prepare-features-and-labels-31\"><span class=\"toc-item-num\">3.1&nbsp;&nbsp;</span>prepare features and labels</a></div><div class=\"lev2 toc-item\"><a href=\"#training-model\" data-toc-modified-id=\"training-model-32\"><span class=\"toc-item-num\">3.2&nbsp;&nbsp;</span>training model</a></div><div class=\"lev2 toc-item\"><a href=\"#optimise-hyper-parameters\" data-toc-modified-id=\"optimise-hyper-parameters-33\"><span class=\"toc-item-num\">3.3&nbsp;&nbsp;</span>optimise hyper-parameters</a></div><div class=\"lev3 toc-item\"><a href=\"#plotting-results-of-optimisation\" data-toc-modified-id=\"plotting-results-of-optimisation-331\"><span class=\"toc-item-num\">3.3.1&nbsp;&nbsp;</span>plotting results of optimisation</a></div><div class=\"lev1 toc-item\"><a href=\"#Task---4\" data-toc-modified-id=\"Task---4-4\"><span class=\"toc-item-num\">4&nbsp;&nbsp;</span>Task - 4</a></div>"
   ]
  },
  {
   "cell_type": "code",
   "execution_count": 1,
   "metadata": {
    "collapsed": true,
    "run_control": {
     "frozen": false,
     "read_only": false
    }
   },
   "outputs": [],
   "source": [
    "import pandas as pd\n",
    "import numpy as np\n",
    "\n",
    "import matplotlib.pyplot as plt\n",
    "%matplotlib inline\n",
    "\n",
    "import seaborn as sns\n",
    "sns.set_context('notebook')"
   ]
  },
  {
   "cell_type": "markdown",
   "metadata": {
    "run_control": {
     "frozen": false,
     "read_only": false
    }
   },
   "source": [
    "# Task - 1"
   ]
  },
  {
   "cell_type": "markdown",
   "metadata": {
    "run_control": {
     "frozen": false,
     "read_only": false
    }
   },
   "source": [
    "## loading the data"
   ]
  },
  {
   "cell_type": "markdown",
   "metadata": {
    "run_control": {
     "frozen": false,
     "read_only": false
    }
   },
   "source": [
    "### epfl data"
   ]
  },
  {
   "cell_type": "code",
   "execution_count": 39,
   "metadata": {
    "cell_style": "split",
    "collapsed": false,
    "run_control": {
     "frozen": false,
     "read_only": false
    }
   },
   "outputs": [
    {
     "data": {
      "text/html": [
       "<div>\n",
       "<table border=\"1\" class=\"dataframe\">\n",
       "  <thead>\n",
       "    <tr style=\"text-align: right;\">\n",
       "      <th></th>\n",
       "      <th>contributors</th>\n",
       "      <th>coordinates</th>\n",
       "      <th>created_at</th>\n",
       "      <th>entities</th>\n",
       "      <th>extended_entities</th>\n",
       "      <th>favorite_count</th>\n",
       "      <th>favorited</th>\n",
       "      <th>geo</th>\n",
       "      <th>id</th>\n",
       "      <th>id_str</th>\n",
       "      <th>...</th>\n",
       "      <th>quoted_status</th>\n",
       "      <th>quoted_status_id</th>\n",
       "      <th>quoted_status_id_str</th>\n",
       "      <th>retweet_count</th>\n",
       "      <th>retweeted</th>\n",
       "      <th>retweeted_status</th>\n",
       "      <th>source</th>\n",
       "      <th>text</th>\n",
       "      <th>truncated</th>\n",
       "      <th>user</th>\n",
       "    </tr>\n",
       "  </thead>\n",
       "  <tbody>\n",
       "    <tr>\n",
       "      <th>0</th>\n",
       "      <td>NaN</td>\n",
       "      <td>None</td>\n",
       "      <td>2017-01-26 17:50:03</td>\n",
       "      <td>{'urls': [{'display_url': 'medx.cc/404640914',...</td>\n",
       "      <td>NaN</td>\n",
       "      <td>0</td>\n",
       "      <td>False</td>\n",
       "      <td>None</td>\n",
       "      <td>824675783063048195</td>\n",
       "      <td>824675783063048192</td>\n",
       "      <td>...</td>\n",
       "      <td>NaN</td>\n",
       "      <td>NaN</td>\n",
       "      <td>NaN</td>\n",
       "      <td>5</td>\n",
       "      <td>False</td>\n",
       "      <td>{'lang': 'en', 'in_reply_to_status_id': None, ...</td>\n",
       "      <td>&lt;a href=\"http://bufferapp.com\" rel=\"nofollow\"&gt;...</td>\n",
       "      <td>RT @TechXplore_com: Reptilian robots are spies...</td>\n",
       "      <td>False</td>\n",
       "      <td>{'screen_name': 'EPFL_en', 'lang': 'fr', 'prof...</td>\n",
       "    </tr>\n",
       "    <tr>\n",
       "      <th>1</th>\n",
       "      <td>NaN</td>\n",
       "      <td>None</td>\n",
       "      <td>2017-01-26 16:45:16</td>\n",
       "      <td>{'urls': [{'display_url': 'phy.so/404573150', ...</td>\n",
       "      <td>NaN</td>\n",
       "      <td>0</td>\n",
       "      <td>False</td>\n",
       "      <td>None</td>\n",
       "      <td>824659481678270465</td>\n",
       "      <td>824659481678270464</td>\n",
       "      <td>...</td>\n",
       "      <td>NaN</td>\n",
       "      <td>NaN</td>\n",
       "      <td>NaN</td>\n",
       "      <td>42</td>\n",
       "      <td>False</td>\n",
       "      <td>{'lang': 'en', 'in_reply_to_status_id': None, ...</td>\n",
       "      <td>&lt;a href=\"http://bufferapp.com\" rel=\"nofollow\"&gt;...</td>\n",
       "      <td>RT @physorg_com: Astronomers measure #universe...</td>\n",
       "      <td>False</td>\n",
       "      <td>{'screen_name': 'EPFL_en', 'lang': 'fr', 'prof...</td>\n",
       "    </tr>\n",
       "    <tr>\n",
       "      <th>2</th>\n",
       "      <td>NaN</td>\n",
       "      <td>None</td>\n",
       "      <td>2017-01-26 15:44:53</td>\n",
       "      <td>{'urls': [{'display_url': 'youtu.be/I27onQnB6B...</td>\n",
       "      <td>NaN</td>\n",
       "      <td>0</td>\n",
       "      <td>False</td>\n",
       "      <td>None</td>\n",
       "      <td>824644286486638593</td>\n",
       "      <td>824644286486638592</td>\n",
       "      <td>...</td>\n",
       "      <td>NaN</td>\n",
       "      <td>NaN</td>\n",
       "      <td>NaN</td>\n",
       "      <td>4</td>\n",
       "      <td>False</td>\n",
       "      <td>{'lang': 'en', 'in_reply_to_status_id': None, ...</td>\n",
       "      <td>&lt;a href=\"http://twitter.com\" rel=\"nofollow\"&gt;Tw...</td>\n",
       "      <td>RT @MartinVetterli: Robotic Reptiles by @epfl_...</td>\n",
       "      <td>False</td>\n",
       "      <td>{'screen_name': 'EPFL_en', 'lang': 'fr', 'prof...</td>\n",
       "    </tr>\n",
       "  </tbody>\n",
       "</table>\n",
       "<p>3 rows × 29 columns</p>\n",
       "</div>"
      ],
      "text/plain": [
       "   contributors coordinates          created_at  \\\n",
       "0           NaN        None 2017-01-26 17:50:03   \n",
       "1           NaN        None 2017-01-26 16:45:16   \n",
       "2           NaN        None 2017-01-26 15:44:53   \n",
       "\n",
       "                                            entities extended_entities  \\\n",
       "0  {'urls': [{'display_url': 'medx.cc/404640914',...               NaN   \n",
       "1  {'urls': [{'display_url': 'phy.so/404573150', ...               NaN   \n",
       "2  {'urls': [{'display_url': 'youtu.be/I27onQnB6B...               NaN   \n",
       "\n",
       "   favorite_count favorited   geo                  id              id_str  \\\n",
       "0               0     False  None  824675783063048195  824675783063048192   \n",
       "1               0     False  None  824659481678270465  824659481678270464   \n",
       "2               0     False  None  824644286486638593  824644286486638592   \n",
       "\n",
       "                         ...                         quoted_status  \\\n",
       "0                        ...                                   NaN   \n",
       "1                        ...                                   NaN   \n",
       "2                        ...                                   NaN   \n",
       "\n",
       "   quoted_status_id  quoted_status_id_str  retweet_count  retweeted  \\\n",
       "0               NaN                   NaN              5      False   \n",
       "1               NaN                   NaN             42      False   \n",
       "2               NaN                   NaN              4      False   \n",
       "\n",
       "                                    retweeted_status  \\\n",
       "0  {'lang': 'en', 'in_reply_to_status_id': None, ...   \n",
       "1  {'lang': 'en', 'in_reply_to_status_id': None, ...   \n",
       "2  {'lang': 'en', 'in_reply_to_status_id': None, ...   \n",
       "\n",
       "                                              source  \\\n",
       "0  <a href=\"http://bufferapp.com\" rel=\"nofollow\">...   \n",
       "1  <a href=\"http://bufferapp.com\" rel=\"nofollow\">...   \n",
       "2  <a href=\"http://twitter.com\" rel=\"nofollow\">Tw...   \n",
       "\n",
       "                                                text  truncated  \\\n",
       "0  RT @TechXplore_com: Reptilian robots are spies...      False   \n",
       "1  RT @physorg_com: Astronomers measure #universe...      False   \n",
       "2  RT @MartinVetterli: Robotic Reptiles by @epfl_...      False   \n",
       "\n",
       "                                                user  \n",
       "0  {'screen_name': 'EPFL_en', 'lang': 'fr', 'prof...  \n",
       "1  {'screen_name': 'EPFL_en', 'lang': 'fr', 'prof...  \n",
       "2  {'screen_name': 'EPFL_en', 'lang': 'fr', 'prof...  \n",
       "\n",
       "[3 rows x 29 columns]"
      ]
     },
     "execution_count": 39,
     "metadata": {},
     "output_type": "execute_result"
    }
   ],
   "source": [
    "epfl_df = pd.read_json('epfl_en.json')\n",
    "epfl_df.head(3)"
   ]
  },
  {
   "cell_type": "code",
   "execution_count": 40,
   "metadata": {
    "cell_style": "split",
    "collapsed": false,
    "run_control": {
     "frozen": false,
     "read_only": false
    }
   },
   "outputs": [
    {
     "name": "stdout",
     "output_type": "stream",
     "text": [
      "(3208, 29)\n",
      "contributors                        float64\n",
      "coordinates                          object\n",
      "created_at                   datetime64[ns]\n",
      "entities                             object\n",
      "extended_entities                    object\n",
      "favorite_count                        int64\n",
      "favorited                              bool\n",
      "geo                                  object\n",
      "id                                    int64\n",
      "id_str                                int64\n",
      "in_reply_to_screen_name              object\n",
      "in_reply_to_status_id               float64\n",
      "in_reply_to_status_id_str           float64\n",
      "in_reply_to_user_id                 float64\n",
      "in_reply_to_user_id_str             float64\n",
      "is_quote_status                        bool\n",
      "lang                                 object\n",
      "place                                object\n",
      "possibly_sensitive                  float64\n",
      "quoted_status                        object\n",
      "quoted_status_id                    float64\n",
      "quoted_status_id_str                float64\n",
      "retweet_count                         int64\n",
      "retweeted                              bool\n",
      "retweeted_status                     object\n",
      "source                               object\n",
      "text                                 object\n",
      "truncated                              bool\n",
      "user                                 object\n",
      "dtype: object\n"
     ]
    }
   ],
   "source": [
    "print(epfl_df.shape)\n",
    "print(epfl_df.dtypes)"
   ]
  },
  {
   "cell_type": "markdown",
   "metadata": {
    "run_control": {
     "frozen": false,
     "read_only": false
    }
   },
   "source": [
    "### ethz data"
   ]
  },
  {
   "cell_type": "code",
   "execution_count": 41,
   "metadata": {
    "cell_style": "split",
    "collapsed": false,
    "run_control": {
     "frozen": false,
     "read_only": false
    }
   },
   "outputs": [
    {
     "data": {
      "text/html": [
       "<div>\n",
       "<table border=\"1\" class=\"dataframe\">\n",
       "  <thead>\n",
       "    <tr style=\"text-align: right;\">\n",
       "      <th></th>\n",
       "      <th>contributors</th>\n",
       "      <th>coordinates</th>\n",
       "      <th>created_at</th>\n",
       "      <th>entities</th>\n",
       "      <th>extended_entities</th>\n",
       "      <th>favorite_count</th>\n",
       "      <th>favorited</th>\n",
       "      <th>geo</th>\n",
       "      <th>id</th>\n",
       "      <th>id_str</th>\n",
       "      <th>...</th>\n",
       "      <th>quoted_status</th>\n",
       "      <th>quoted_status_id</th>\n",
       "      <th>quoted_status_id_str</th>\n",
       "      <th>retweet_count</th>\n",
       "      <th>retweeted</th>\n",
       "      <th>retweeted_status</th>\n",
       "      <th>source</th>\n",
       "      <th>text</th>\n",
       "      <th>truncated</th>\n",
       "      <th>user</th>\n",
       "    </tr>\n",
       "  </thead>\n",
       "  <tbody>\n",
       "    <tr>\n",
       "      <th>0</th>\n",
       "      <td>NaN</td>\n",
       "      <td>NaN</td>\n",
       "      <td>2017-01-27 17:00:13</td>\n",
       "      <td>{'urls': [{'display_url': 'ethz.ch/en/news-and...</td>\n",
       "      <td>NaN</td>\n",
       "      <td>1</td>\n",
       "      <td>False</td>\n",
       "      <td>NaN</td>\n",
       "      <td>825025633579212800</td>\n",
       "      <td>825025633579212800</td>\n",
       "      <td>...</td>\n",
       "      <td>NaN</td>\n",
       "      <td>NaN</td>\n",
       "      <td>NaN</td>\n",
       "      <td>0</td>\n",
       "      <td>False</td>\n",
       "      <td>NaN</td>\n",
       "      <td>&lt;a href=\"http://twitter.com\" rel=\"nofollow\"&gt;Tw...</td>\n",
       "      <td>From digitally designing to testing on the slo...</td>\n",
       "      <td>False</td>\n",
       "      <td>{'screen_name': 'ETH_en', 'lang': 'en', 'profi...</td>\n",
       "    </tr>\n",
       "    <tr>\n",
       "      <th>1</th>\n",
       "      <td>NaN</td>\n",
       "      <td>NaN</td>\n",
       "      <td>2017-01-27 14:23:41</td>\n",
       "      <td>{'urls': [{'display_url': 'onlinelibrary.wiley...</td>\n",
       "      <td>NaN</td>\n",
       "      <td>0</td>\n",
       "      <td>False</td>\n",
       "      <td>NaN</td>\n",
       "      <td>824986239543738368</td>\n",
       "      <td>824986239543738368</td>\n",
       "      <td>...</td>\n",
       "      <td>NaN</td>\n",
       "      <td>NaN</td>\n",
       "      <td>NaN</td>\n",
       "      <td>4</td>\n",
       "      <td>False</td>\n",
       "      <td>{'lang': 'en', 'in_reply_to_status_id': None, ...</td>\n",
       "      <td>&lt;a href=\"http://www.falcon.io\" rel=\"nofollow\"&gt;...</td>\n",
       "      <td>RT @materialsviews: Learn more on Microscale #...</td>\n",
       "      <td>False</td>\n",
       "      <td>{'screen_name': 'ETH_en', 'lang': 'en', 'profi...</td>\n",
       "    </tr>\n",
       "    <tr>\n",
       "      <th>2</th>\n",
       "      <td>NaN</td>\n",
       "      <td>NaN</td>\n",
       "      <td>2017-01-26 14:56:07</td>\n",
       "      <td>{'urls': [], 'user_mentions': [{'screen_name':...</td>\n",
       "      <td>NaN</td>\n",
       "      <td>0</td>\n",
       "      <td>False</td>\n",
       "      <td>NaN</td>\n",
       "      <td>824632013990793217</td>\n",
       "      <td>824632013990793216</td>\n",
       "      <td>...</td>\n",
       "      <td>NaN</td>\n",
       "      <td>NaN</td>\n",
       "      <td>NaN</td>\n",
       "      <td>5</td>\n",
       "      <td>False</td>\n",
       "      <td>{'lang': 'en', 'in_reply_to_status_id': None, ...</td>\n",
       "      <td>&lt;a href=\"http://www.falcon.io\" rel=\"nofollow\"&gt;...</td>\n",
       "      <td>RT @LudiciousFest: Severin Klingler, Ph.D. can...</td>\n",
       "      <td>False</td>\n",
       "      <td>{'screen_name': 'ETH_en', 'lang': 'en', 'profi...</td>\n",
       "    </tr>\n",
       "  </tbody>\n",
       "</table>\n",
       "<p>3 rows × 29 columns</p>\n",
       "</div>"
      ],
      "text/plain": [
       "   contributors  coordinates          created_at  \\\n",
       "0           NaN          NaN 2017-01-27 17:00:13   \n",
       "1           NaN          NaN 2017-01-27 14:23:41   \n",
       "2           NaN          NaN 2017-01-26 14:56:07   \n",
       "\n",
       "                                            entities extended_entities  \\\n",
       "0  {'urls': [{'display_url': 'ethz.ch/en/news-and...               NaN   \n",
       "1  {'urls': [{'display_url': 'onlinelibrary.wiley...               NaN   \n",
       "2  {'urls': [], 'user_mentions': [{'screen_name':...               NaN   \n",
       "\n",
       "   favorite_count favorited  geo                  id              id_str  \\\n",
       "0               1     False  NaN  825025633579212800  825025633579212800   \n",
       "1               0     False  NaN  824986239543738368  824986239543738368   \n",
       "2               0     False  NaN  824632013990793217  824632013990793216   \n",
       "\n",
       "                         ...                         quoted_status  \\\n",
       "0                        ...                                   NaN   \n",
       "1                        ...                                   NaN   \n",
       "2                        ...                                   NaN   \n",
       "\n",
       "   quoted_status_id  quoted_status_id_str  retweet_count  retweeted  \\\n",
       "0               NaN                   NaN              0      False   \n",
       "1               NaN                   NaN              4      False   \n",
       "2               NaN                   NaN              5      False   \n",
       "\n",
       "                                    retweeted_status  \\\n",
       "0                                                NaN   \n",
       "1  {'lang': 'en', 'in_reply_to_status_id': None, ...   \n",
       "2  {'lang': 'en', 'in_reply_to_status_id': None, ...   \n",
       "\n",
       "                                              source  \\\n",
       "0  <a href=\"http://twitter.com\" rel=\"nofollow\">Tw...   \n",
       "1  <a href=\"http://www.falcon.io\" rel=\"nofollow\">...   \n",
       "2  <a href=\"http://www.falcon.io\" rel=\"nofollow\">...   \n",
       "\n",
       "                                                text  truncated  \\\n",
       "0  From digitally designing to testing on the slo...      False   \n",
       "1  RT @materialsviews: Learn more on Microscale #...      False   \n",
       "2  RT @LudiciousFest: Severin Klingler, Ph.D. can...      False   \n",
       "\n",
       "                                                user  \n",
       "0  {'screen_name': 'ETH_en', 'lang': 'en', 'profi...  \n",
       "1  {'screen_name': 'ETH_en', 'lang': 'en', 'profi...  \n",
       "2  {'screen_name': 'ETH_en', 'lang': 'en', 'profi...  \n",
       "\n",
       "[3 rows x 29 columns]"
      ]
     },
     "execution_count": 41,
     "metadata": {},
     "output_type": "execute_result"
    }
   ],
   "source": [
    "ethz_df = pd.read_json('eth_en.json')\n",
    "ethz_df.head(3)"
   ]
  },
  {
   "cell_type": "code",
   "execution_count": 42,
   "metadata": {
    "cell_style": "split",
    "collapsed": false,
    "run_control": {
     "frozen": false,
     "read_only": false
    }
   },
   "outputs": [
    {
     "name": "stdout",
     "output_type": "stream",
     "text": [
      "(2101, 29)\n",
      "contributors                        float64\n",
      "coordinates                         float64\n",
      "created_at                   datetime64[ns]\n",
      "entities                             object\n",
      "extended_entities                    object\n",
      "favorite_count                        int64\n",
      "favorited                              bool\n",
      "geo                                 float64\n",
      "id                                    int64\n",
      "id_str                                int64\n",
      "in_reply_to_screen_name              object\n",
      "in_reply_to_status_id               float64\n",
      "in_reply_to_status_id_str           float64\n",
      "in_reply_to_user_id                 float64\n",
      "in_reply_to_user_id_str             float64\n",
      "is_quote_status                        bool\n",
      "lang                                 object\n",
      "place                               float64\n",
      "possibly_sensitive                  float64\n",
      "quoted_status                        object\n",
      "quoted_status_id                    float64\n",
      "quoted_status_id_str                float64\n",
      "retweet_count                         int64\n",
      "retweeted                              bool\n",
      "retweeted_status                     object\n",
      "source                               object\n",
      "text                                 object\n",
      "truncated                              bool\n",
      "user                                 object\n",
      "dtype: object\n"
     ]
    }
   ],
   "source": [
    "print(ethz_df.shape)\n",
    "print(ethz_df.dtypes)"
   ]
  },
  {
   "cell_type": "markdown",
   "metadata": {
    "collapsed": true,
    "run_control": {
     "frozen": false,
     "read_only": false
    }
   },
   "source": [
    "## filtering "
   ]
  },
  {
   "cell_type": "markdown",
   "metadata": {
    "run_control": {
     "frozen": false,
     "read_only": false
    }
   },
   "source": [
    "### comparison epfl"
   ]
  },
  {
   "cell_type": "code",
   "execution_count": 43,
   "metadata": {
    "collapsed": true,
    "run_control": {
     "frozen": false,
     "read_only": false
    }
   },
   "outputs": [],
   "source": [
    "epfl_filtered = epfl_df[epfl_df.id % 10 == 1]"
   ]
  },
  {
   "cell_type": "code",
   "execution_count": 44,
   "metadata": {
    "cell_style": "split",
    "collapsed": false,
    "run_control": {
     "frozen": false,
     "read_only": false
    }
   },
   "outputs": [
    {
     "name": "stdout",
     "output_type": "stream",
     "text": [
      "(125, 29)\n"
     ]
    },
    {
     "data": {
      "text/plain": [
       "contributors                 125\n",
       "coordinates                  125\n",
       "created_at                     0\n",
       "entities                       0\n",
       "extended_entities            109\n",
       "favorite_count                 0\n",
       "favorited                      0\n",
       "geo                          125\n",
       "id                             0\n",
       "id_str                         0\n",
       "in_reply_to_screen_name      118\n",
       "in_reply_to_status_id        120\n",
       "in_reply_to_status_id_str    120\n",
       "in_reply_to_user_id          118\n",
       "in_reply_to_user_id_str      118\n",
       "is_quote_status                0\n",
       "lang                           0\n",
       "place                        124\n",
       "possibly_sensitive            33\n",
       "quoted_status                125\n",
       "quoted_status_id             124\n",
       "quoted_status_id_str         124\n",
       "retweet_count                  0\n",
       "retweeted                      0\n",
       "retweeted_status              98\n",
       "source                         0\n",
       "text                           0\n",
       "truncated                      0\n",
       "user                           0\n",
       "dtype: int64"
      ]
     },
     "execution_count": 44,
     "metadata": {},
     "output_type": "execute_result"
    }
   ],
   "source": [
    "print(epfl_filtered.shape)\n",
    "epfl_filtered.isnull().sum()"
   ]
  },
  {
   "cell_type": "code",
   "execution_count": 45,
   "metadata": {
    "cell_style": "split",
    "collapsed": false,
    "run_control": {
     "frozen": false,
     "read_only": false
    }
   },
   "outputs": [
    {
     "name": "stdout",
     "output_type": "stream",
     "text": [
      "(3208, 29)\n"
     ]
    },
    {
     "data": {
      "text/plain": [
       "contributors                 3208\n",
       "coordinates                  3207\n",
       "created_at                      0\n",
       "entities                        0\n",
       "extended_entities            2698\n",
       "favorite_count                  0\n",
       "favorited                       0\n",
       "geo                          3207\n",
       "id                              0\n",
       "id_str                          0\n",
       "in_reply_to_screen_name      2919\n",
       "in_reply_to_status_id        2976\n",
       "in_reply_to_status_id_str    2976\n",
       "in_reply_to_user_id          2919\n",
       "in_reply_to_user_id_str      2919\n",
       "is_quote_status                 0\n",
       "lang                            0\n",
       "place                        3167\n",
       "possibly_sensitive            880\n",
       "quoted_status                3191\n",
       "quoted_status_id             3176\n",
       "quoted_status_id_str         3176\n",
       "retweet_count                   0\n",
       "retweeted                       0\n",
       "retweeted_status             2441\n",
       "source                          0\n",
       "text                            0\n",
       "truncated                       0\n",
       "user                            0\n",
       "dtype: int64"
      ]
     },
     "execution_count": 45,
     "metadata": {},
     "output_type": "execute_result"
    }
   ],
   "source": [
    "print(epfl_df.shape)\n",
    "epfl_df.isnull().sum()"
   ]
  },
  {
   "cell_type": "code",
   "execution_count": 46,
   "metadata": {
    "collapsed": false,
    "run_control": {
     "frozen": false,
     "read_only": false
    }
   },
   "outputs": [
    {
     "name": "stderr",
     "output_type": "stream",
     "text": [
      "/Library/Frameworks/Python.framework/Versions/3.5/lib/python3.5/site-packages/ipykernel/__main__.py:4: SettingWithCopyWarning: \n",
      "A value is trying to be set on a copy of a slice from a DataFrame\n",
      "\n",
      "See the caveats in the documentation: http://pandas.pydata.org/pandas-docs/stable/indexing.html#indexing-view-versus-copy\n",
      "/Library/Frameworks/Python.framework/Versions/3.5/lib/python3.5/site-packages/ipykernel/__main__.py:7: SettingWithCopyWarning: \n",
      "A value is trying to be set on a copy of a slice from a DataFrame\n",
      "\n",
      "See the caveats in the documentation: http://pandas.pydata.org/pandas-docs/stable/indexing.html#indexing-view-versus-copy\n",
      "/Library/Frameworks/Python.framework/Versions/3.5/lib/python3.5/site-packages/ipykernel/__main__.py:10: SettingWithCopyWarning: \n",
      "A value is trying to be set on a copy of a slice from a DataFrame\n",
      "\n",
      "See the caveats in the documentation: http://pandas.pydata.org/pandas-docs/stable/indexing.html#indexing-view-versus-copy\n",
      "/Library/Frameworks/Python.framework/Versions/3.5/lib/python3.5/site-packages/ipykernel/__main__.py:13: SettingWithCopyWarning: \n",
      "A value is trying to be set on a copy of a slice from a DataFrame\n",
      "\n",
      "See the caveats in the documentation: http://pandas.pydata.org/pandas-docs/stable/indexing.html#indexing-view-versus-copy\n"
     ]
    }
   ],
   "source": [
    "# remove empty feat - all nulls values\n",
    "\n",
    "epfl_df.drop('contributors',axis=1,inplace=True)\n",
    "epfl_filtered.drop('contributors',axis=1,inplace=True)\n",
    "\n",
    "epfl_df.drop( 'coordinates',axis=1,inplace=True)\n",
    "epfl_filtered.drop('coordinates',axis=1,inplace=True)\n",
    "\n",
    "epfl_df.drop( 'geo',axis=1,inplace=True)\n",
    "epfl_filtered.drop('geo',axis=1,inplace=True)\n",
    "\n",
    "epfl_df.drop( ['place',],axis=1,inplace=True)\n",
    "epfl_filtered.drop( ['place',],axis=1,inplace=True)"
   ]
  },
  {
   "cell_type": "markdown",
   "metadata": {
    "run_control": {
     "frozen": false,
     "read_only": false
    }
   },
   "source": [
    "### comparison ethz"
   ]
  },
  {
   "cell_type": "code",
   "execution_count": 14,
   "metadata": {
    "collapsed": true,
    "run_control": {
     "frozen": false,
     "read_only": false
    }
   },
   "outputs": [],
   "source": [
    "ethz_filtered = ethz_df[ethz_df.id % 10 == 1]"
   ]
  },
  {
   "cell_type": "code",
   "execution_count": 22,
   "metadata": {
    "cell_style": "split",
    "collapsed": false,
    "run_control": {
     "frozen": false,
     "read_only": false
    }
   },
   "outputs": [
    {
     "name": "stdout",
     "output_type": "stream",
     "text": [
      "(98, 29)\n"
     ]
    },
    {
     "data": {
      "text/plain": [
       "contributors                 98\n",
       "coordinates                  98\n",
       "created_at                    0\n",
       "entities                      0\n",
       "extended_entities            63\n",
       "favorite_count                0\n",
       "favorited                     0\n",
       "geo                          98\n",
       "id                            0\n",
       "id_str                        0\n",
       "in_reply_to_screen_name      96\n",
       "in_reply_to_status_id        98\n",
       "in_reply_to_status_id_str    98\n",
       "in_reply_to_user_id          96\n",
       "in_reply_to_user_id_str      96\n",
       "is_quote_status               0\n",
       "lang                          0\n",
       "place                        98\n",
       "possibly_sensitive           25\n",
       "quoted_status                97\n",
       "quoted_status_id             97\n",
       "quoted_status_id_str         97\n",
       "retweet_count                 0\n",
       "retweeted                     0\n",
       "retweeted_status             74\n",
       "source                        0\n",
       "text                          0\n",
       "truncated                     0\n",
       "user                          0\n",
       "dtype: int64"
      ]
     },
     "execution_count": 22,
     "metadata": {},
     "output_type": "execute_result"
    }
   ],
   "source": [
    "print(ethz_filtered.shape)\n",
    "ethz_filtered.isnull().sum()"
   ]
  },
  {
   "cell_type": "code",
   "execution_count": 23,
   "metadata": {
    "cell_style": "split",
    "collapsed": false,
    "run_control": {
     "frozen": false,
     "read_only": false
    }
   },
   "outputs": [
    {
     "name": "stdout",
     "output_type": "stream",
     "text": [
      "(2101, 29)\n"
     ]
    },
    {
     "data": {
      "text/plain": [
       "contributors                 2101\n",
       "coordinates                  2101\n",
       "created_at                      0\n",
       "entities                        0\n",
       "extended_entities            1532\n",
       "favorite_count                  0\n",
       "favorited                       0\n",
       "geo                          2101\n",
       "id                              0\n",
       "id_str                          0\n",
       "in_reply_to_screen_name      2057\n",
       "in_reply_to_status_id        2083\n",
       "in_reply_to_status_id_str    2083\n",
       "in_reply_to_user_id          2057\n",
       "in_reply_to_user_id_str      2057\n",
       "is_quote_status                 0\n",
       "lang                            0\n",
       "place                        2101\n",
       "possibly_sensitive            521\n",
       "quoted_status                2021\n",
       "quoted_status_id             2014\n",
       "quoted_status_id_str         2014\n",
       "retweet_count                   0\n",
       "retweeted                       0\n",
       "retweeted_status             1656\n",
       "source                          0\n",
       "text                            0\n",
       "truncated                       0\n",
       "user                            0\n",
       "dtype: int64"
      ]
     },
     "execution_count": 23,
     "metadata": {},
     "output_type": "execute_result"
    }
   ],
   "source": [
    "print(ethz_df.shape)\n",
    "ethz_df.isnull().sum()"
   ]
  },
  {
   "cell_type": "code",
   "execution_count": 33,
   "metadata": {
    "collapsed": false,
    "run_control": {
     "frozen": false,
     "read_only": false
    }
   },
   "outputs": [
    {
     "name": "stderr",
     "output_type": "stream",
     "text": [
      "/Library/Frameworks/Python.framework/Versions/3.5/lib/python3.5/site-packages/ipykernel/__main__.py:3: SettingWithCopyWarning: \n",
      "A value is trying to be set on a copy of a slice from a DataFrame\n",
      "\n",
      "See the caveats in the documentation: http://pandas.pydata.org/pandas-docs/stable/indexing.html#indexing-view-versus-copy\n",
      "  app.launch_new_instance()\n"
     ]
    }
   ],
   "source": [
    "# remove empty feat - all nulls values\n",
    "\n",
    "ethz_df.drop('contributors',axis=1,inplace=True)\n",
    "ethz_filtered.drop('contributors',axis=1,inplace=True)\n",
    "\n",
    "ethz_df.drop( 'coordinates',axis=1,inplace=True)\n",
    "ethz_filtered.drop('coordinates',axis=1,inplace=True)\n",
    "\n",
    "ethz_df.drop( 'geo',axis=1,inplace=True)\n",
    "ethz_filtered.drop('geo',axis=1,inplace=True)\n",
    "\n",
    "ethz_df.drop( ['place',],axis=1,inplace=True)\n",
    "ethz_filtered.drop( ['place',],axis=1,inplace=True)"
   ]
  },
  {
   "cell_type": "markdown",
   "metadata": {
    "run_control": {
     "frozen": false,
     "read_only": false
    }
   },
   "source": [
    "# Task - 2 -  descriptive stat - epfl VS ethz"
   ]
  },
  {
   "cell_type": "markdown",
   "metadata": {
    "run_control": {
     "frozen": false,
     "read_only": false
    }
   },
   "source": [
    "how many tweets?"
   ]
  },
  {
   "cell_type": "code",
   "execution_count": 47,
   "metadata": {
    "cell_style": "split",
    "collapsed": false,
    "run_control": {
     "frozen": false,
     "read_only": false
    }
   },
   "outputs": [
    {
     "data": {
      "text/plain": [
       "3208"
      ]
     },
     "execution_count": 47,
     "metadata": {},
     "output_type": "execute_result"
    }
   ],
   "source": [
    "epfl_df.id.nunique()\n",
    "#   same as n rows --> each row is a tweet "
   ]
  },
  {
   "cell_type": "code",
   "execution_count": 58,
   "metadata": {
    "cell_style": "split",
    "collapsed": false,
    "run_control": {
     "frozen": false,
     "read_only": false
    }
   },
   "outputs": [
    {
     "data": {
      "text/plain": [
       "2101"
      ]
     },
     "execution_count": 58,
     "metadata": {},
     "output_type": "execute_result"
    }
   ],
   "source": [
    "ethz_df.id.nunique()\n",
    "#   same as n rows --> each row is a tweet "
   ]
  },
  {
   "cell_type": "markdown",
   "metadata": {
    "collapsed": true,
    "run_control": {
     "frozen": false,
     "read_only": false
    }
   },
   "source": [
    "## analysis of favorites"
   ]
  },
  {
   "cell_type": "markdown",
   "metadata": {
    "run_control": {
     "frozen": false,
     "read_only": false
    }
   },
   "source": [
    "### total amount of favourites:"
   ]
  },
  {
   "cell_type": "code",
   "execution_count": 87,
   "metadata": {
    "cell_style": "split",
    "collapsed": false,
    "run_control": {
     "frozen": false,
     "read_only": false
    }
   },
   "outputs": [
    {
     "name": "stdout",
     "output_type": "stream",
     "text": [
      "total number of favorites for epfl: 3826\n"
     ]
    }
   ],
   "source": [
    "print('total number of favorites for epfl:',epfl_df.favorite_count.sum())"
   ]
  },
  {
   "cell_type": "code",
   "execution_count": 88,
   "metadata": {
    "cell_style": "split",
    "collapsed": false,
    "run_control": {
     "frozen": false,
     "read_only": false
    }
   },
   "outputs": [
    {
     "name": "stdout",
     "output_type": "stream",
     "text": [
      "total number of favorites for ethz: 3994\n"
     ]
    }
   ],
   "source": [
    "print('total number of favorites for ethz:',ethz_df.favorite_count.sum())"
   ]
  },
  {
   "cell_type": "markdown",
   "metadata": {
    "run_control": {
     "frozen": false,
     "read_only": false
    }
   },
   "source": [
    "### total distribution of favourites:"
   ]
  },
  {
   "cell_type": "code",
   "execution_count": 61,
   "metadata": {
    "cell_style": "split",
    "collapsed": false,
    "run_control": {
     "frozen": false,
     "read_only": false
    }
   },
   "outputs": [
    {
     "data": {
      "image/png": "[encoded data removed]",
      "text/plain": [
       "<matplotlib.figure.Figure at 0x125659080>"
      ]
     },
     "metadata": {},
     "output_type": "display_data"
    }
   ],
   "source": [
    "sns.distplot(epfl_df.favorite_count,kde=False)\n",
    "\n",
    "plt.xscale('log')\n",
    "plt.yscale('log')\n",
    "plt.ylabel('# of tweets')\n",
    "plt.xlabel('number of likes');"
   ]
  },
  {
   "cell_type": "code",
   "execution_count": 62,
   "metadata": {
    "cell_style": "split",
    "collapsed": false,
    "run_control": {
     "frozen": false,
     "read_only": false
    }
   },
   "outputs": [
    {
     "data": {
      "image/png": "[encoded data removed]",
      "text/plain": [
       "<matplotlib.figure.Figure at 0x125c2c240>"
      ]
     },
     "metadata": {},
     "output_type": "display_data"
    }
   ],
   "source": [
    "sns.distplot(ethz_df.favorite_count,kde=False)\n",
    "\n",
    "plt.xscale('log')\n",
    "plt.yscale('log')\n",
    "plt.ylabel('# of tweets')\n",
    "plt.xlabel('number of likes');"
   ]
  },
  {
   "cell_type": "code",
   "execution_count": 126,
   "metadata": {
    "cell_style": "split",
    "collapsed": true,
    "run_control": {
     "frozen": false,
     "read_only": false
    }
   },
   "outputs": [],
   "source": [
    "# for simplicity we create useful features\n",
    "\n",
    "epfl_df['year'] = epfl_df.created_at.dt.year\n",
    "epfl_df['month'] = epfl_df.created_at.dt.month\n",
    "epfl_df['hour'] = epfl_df.created_at.dt.hour"
   ]
  },
  {
   "cell_type": "code",
   "execution_count": 127,
   "metadata": {
    "cell_style": "split",
    "collapsed": true,
    "run_control": {
     "frozen": false,
     "read_only": false
    }
   },
   "outputs": [],
   "source": [
    "# for simplicity we create useful features\n",
    "\n",
    "ethz_df['year'] = ethz_df.created_at.dt.year\n",
    "ethz_df['month'] = ethz_df.created_at.dt.month\n",
    "ethz_df['hour'] = ethz_df.created_at.dt.hour"
   ]
  },
  {
   "cell_type": "markdown",
   "metadata": {
    "run_control": {
     "frozen": false,
     "read_only": false
    }
   },
   "source": [
    "### number of favorites, by year"
   ]
  },
  {
   "cell_type": "code",
   "execution_count": 106,
   "metadata": {
    "cell_style": "split",
    "collapsed": false,
    "run_control": {
     "frozen": false,
     "read_only": false
    }
   },
   "outputs": [
    {
     "data": {
      "image/png": "[encoded data removed]",
      "text/plain": [
       "<matplotlib.figure.Figure at 0x123b5a518>"
      ]
     },
     "metadata": {},
     "output_type": "display_data"
    }
   ],
   "source": [
    "sns.boxplot(data=epfl_df,x='year',y='favorite_count');"
   ]
  },
  {
   "cell_type": "code",
   "execution_count": 108,
   "metadata": {
    "cell_style": "split",
    "collapsed": false,
    "run_control": {
     "frozen": false,
     "read_only": false
    }
   },
   "outputs": [
    {
     "data": {
      "image/png": "[encoded data removed]",
      "text/plain": [
       "<matplotlib.figure.Figure at 0x123a65198>"
      ]
     },
     "metadata": {},
     "output_type": "display_data"
    }
   ],
   "source": [
    "sns.boxplot(data=ethz_df,x='year',y='favorite_count');"
   ]
  },
  {
   "cell_type": "markdown",
   "metadata": {
    "run_control": {
     "frozen": false,
     "read_only": false
    }
   },
   "source": [
    "we can observe a clear increase of favorits in 2016, that decreased in 2017, for both EPF"
   ]
  },
  {
   "cell_type": "markdown",
   "metadata": {
    "run_control": {
     "frozen": false,
     "read_only": false
    }
   },
   "source": [
    "### number of favorites, by month"
   ]
  },
  {
   "cell_type": "code",
   "execution_count": 128,
   "metadata": {
    "cell_style": "split",
    "collapsed": false,
    "run_control": {
     "frozen": false,
     "read_only": false
    }
   },
   "outputs": [
    {
     "data": {
      "image/png": "[encoded data removed]",
      "text/plain": [
       "<matplotlib.figure.Figure at 0x1257b0f98>"
      ]
     },
     "metadata": {},
     "output_type": "display_data"
    }
   ],
   "source": [
    "sns.boxplot(data=epfl_df,x='month',y='favorite_count');"
   ]
  },
  {
   "cell_type": "code",
   "execution_count": 129,
   "metadata": {
    "cell_style": "split",
    "collapsed": false,
    "run_control": {
     "frozen": false,
     "read_only": false
    }
   },
   "outputs": [
    {
     "data": {
      "image/png": "[encoded data removed]",
      "text/plain": [
       "<matplotlib.figure.Figure at 0x114e35e48>"
      ]
     },
     "metadata": {},
     "output_type": "display_data"
    }
   ],
   "source": [
    "sns.boxplot(data=ethz_df,x='month',y='favorite_count');"
   ]
  },
  {
   "cell_type": "markdown",
   "metadata": {
    "run_control": {
     "frozen": false,
     "read_only": false
    }
   },
   "source": [
    "### number of favorites, by hour"
   ]
  },
  {
   "cell_type": "code",
   "execution_count": 141,
   "metadata": {
    "cell_style": "split",
    "collapsed": false,
    "run_control": {
     "frozen": false,
     "read_only": false
    }
   },
   "outputs": [
    {
     "data": {
      "image/png": "[encoded data removed]",
      "text/plain": [
       "<matplotlib.figure.Figure at 0x1264d5f28>"
      ]
     },
     "metadata": {},
     "output_type": "display_data"
    }
   ],
   "source": [
    "sns.boxplot(data=epfl_df,x='hour',y='favorite_count');"
   ]
  },
  {
   "cell_type": "code",
   "execution_count": 118,
   "metadata": {
    "cell_style": "split",
    "collapsed": false,
    "run_control": {
     "frozen": false,
     "read_only": false
    }
   },
   "outputs": [
    {
     "data": {
      "image/png": "[encoded data removed]",
      "text/plain": [
       "<matplotlib.figure.Figure at 0x126f39518>"
      ]
     },
     "metadata": {},
     "output_type": "display_data"
    }
   ],
   "source": [
    "sns.boxplot(data=ethz_df,x='hour',y='favorite_count');"
   ]
  },
  {
   "cell_type": "markdown",
   "metadata": {
    "run_control": {
     "frozen": false,
     "read_only": false
    }
   },
   "source": [
    "CLearly, there is an increase of activity in the middle of the day, for both EPF"
   ]
  },
  {
   "cell_type": "markdown",
   "metadata": {
    "run_control": {
     "frozen": false,
     "read_only": false
    }
   },
   "source": [
    "### number of favorites, by hashtag"
   ]
  },
  {
   "cell_type": "code",
   "execution_count": 188,
   "metadata": {
    "cell_style": "split",
    "collapsed": false,
    "run_control": {
     "frozen": false,
     "read_only": false
    }
   },
   "outputs": [
    {
     "data": {
      "text/plain": [
       "{'hashtags': [],\n",
       " 'symbols': [],\n",
       " 'urls': [{'display_url': 'medx.cc/404640914',\n",
       "   'expanded_url': 'http://medx.cc/404640914',\n",
       "   'indices': [59, 82],\n",
       "   'url': 'https://t.co/lUR4qg0syE'}],\n",
       " 'user_mentions': [{'id': 2471009922,\n",
       "   'id_str': '2471009922',\n",
       "   'indices': [3, 18],\n",
       "   'name': 'TechXplore',\n",
       "   'screen_name': 'TechXplore_com'},\n",
       "  {'id': 104604540,\n",
       "   'id_str': '104604540',\n",
       "   'indices': [83, 91],\n",
       "   'name': 'EPFL',\n",
       "   'screen_name': 'EPFL_en'}]}"
      ]
     },
     "execution_count": 188,
     "metadata": {},
     "output_type": "execute_result"
    }
   ],
   "source": [
    "epfl_df.entities[0]\n",
    "\n",
    "# this is a dictionary!"
   ]
  },
  {
   "cell_type": "code",
   "execution_count": 189,
   "metadata": {
    "cell_style": "split",
    "collapsed": false,
    "run_control": {
     "frozen": false,
     "read_only": false
    }
   },
   "outputs": [
    {
     "data": {
      "text/plain": [
       "{'hashtags': [{'indices': [76, 81], 'text': 'skis'},\n",
       "  {'indices': [101, 113], 'text': 'engineering'}],\n",
       " 'symbols': [],\n",
       " 'urls': [{'display_url': 'ethz.ch/en/news-and-ev…',\n",
       "   'expanded_url': 'https://www.ethz.ch/en/news-and-events/eth-news/news/2017/01/home-made-skis-on-the-slopes.html',\n",
       "   'indices': [115, 138],\n",
       "   'url': 'https://t.co/vx8L5fdTFn'}],\n",
       " 'user_mentions': []}"
      ]
     },
     "execution_count": 189,
     "metadata": {},
     "output_type": "execute_result"
    }
   ],
   "source": [
    "ethz_df.entities[0]\n",
    "\n",
    "# this is a dictionary!"
   ]
  },
  {
   "cell_type": "code",
   "execution_count": 190,
   "metadata": {
    "cell_style": "center",
    "collapsed": false,
    "run_control": {
     "frozen": false,
     "read_only": false
    }
   },
   "outputs": [
    {
     "name": "stdout",
     "output_type": "stream",
     "text": [
      "total number of epfl hashtags: 2473\n"
     ]
    }
   ],
   "source": [
    "# extract all the hashtags field of dictionary \n",
    "hashtags_epfl = [i['hashtags'] for i in epfl_df.entities]\n",
    "\n",
    "# extract all the hashtags from each item \n",
    "\n",
    "hashtags_epfl_list = []\n",
    "\n",
    "for h in hashtags_epfl:\n",
    "    for i in h:\n",
    "        \n",
    "        hashtags_epfl_list.append(i['text'])\n",
    "\n",
    "print('total number of epfl hashtags:',len(hashtags_epfl_list))"
   ]
  },
  {
   "cell_type": "code",
   "execution_count": 191,
   "metadata": {
    "cell_style": "center",
    "collapsed": false,
    "run_control": {
     "frozen": false,
     "read_only": false
    }
   },
   "outputs": [
    {
     "name": "stdout",
     "output_type": "stream",
     "text": [
      "total number of ethz hashtags: 2790\n"
     ]
    }
   ],
   "source": [
    "# extract all the hashtags field of dictionary \n",
    "hashtags_ethz = [i['hashtags'] for i in ethz_df.entities]\n",
    "\n",
    "# extract all the hashtags from each item \n",
    "\n",
    "hashtags_ethz_list = []\n",
    "\n",
    "for h in hashtags_ethz:\n",
    "    for i in h:\n",
    "        \n",
    "        hashtags_ethz_list.append(i['text'])\n",
    "\n",
    "print('total number of ethz hashtags:',len(hashtags_ethz_list))"
   ]
  },
  {
   "cell_type": "markdown",
   "metadata": {
    "collapsed": true,
    "run_control": {
     "frozen": false,
     "read_only": false
    }
   },
   "source": [
    "## analysis of retweets"
   ]
  },
  {
   "cell_type": "markdown",
   "metadata": {
    "run_control": {
     "frozen": false,
     "read_only": false
    }
   },
   "source": [
    "### total amount of retweets:"
   ]
  },
  {
   "cell_type": "code",
   "execution_count": 89,
   "metadata": {
    "cell_style": "split",
    "collapsed": false,
    "run_control": {
     "frozen": false,
     "read_only": false
    }
   },
   "outputs": [
    {
     "name": "stdout",
     "output_type": "stream",
     "text": [
      "total number of favorites for epfl: 19634\n"
     ]
    }
   ],
   "source": [
    "print('total number of favorites for epfl:',epfl_df.retweet_count.sum())"
   ]
  },
  {
   "cell_type": "code",
   "execution_count": 90,
   "metadata": {
    "cell_style": "split",
    "collapsed": false,
    "run_control": {
     "frozen": false,
     "read_only": false
    }
   },
   "outputs": [
    {
     "name": "stdout",
     "output_type": "stream",
     "text": [
      "total number of favorites for ethz: 8342\n"
     ]
    }
   ],
   "source": [
    "print('total number of favorites for ethz:',ethz_df.retweet_count.sum())"
   ]
  },
  {
   "cell_type": "markdown",
   "metadata": {
    "run_control": {
     "frozen": false,
     "read_only": false
    }
   },
   "source": [
    "### total distribution of retweets:"
   ]
  },
  {
   "cell_type": "code",
   "execution_count": 82,
   "metadata": {
    "cell_style": "split",
    "collapsed": false,
    "run_control": {
     "frozen": false,
     "read_only": false
    }
   },
   "outputs": [
    {
     "data": {
      "image/png": "[encoded data removed]",
      "text/plain": [
       "<matplotlib.figure.Figure at 0x1262efe48>"
      ]
     },
     "metadata": {},
     "output_type": "display_data"
    }
   ],
   "source": [
    "sns.distplot(epfl_df.retweet_count,kde=False)\n",
    "\n",
    "# plt.xscale('log')\n",
    "plt.yscale('log')\n",
    "plt.ylabel('# of tweets')\n",
    "plt.xlabel('number of retweets');"
   ]
  },
  {
   "cell_type": "code",
   "execution_count": 86,
   "metadata": {
    "cell_style": "split",
    "collapsed": false,
    "run_control": {
     "frozen": false,
     "read_only": false
    }
   },
   "outputs": [
    {
     "data": {
      "image/png": "[encoded data removed]",
      "text/plain": [
       "<matplotlib.figure.Figure at 0x1267bd5c0>"
      ]
     },
     "metadata": {},
     "output_type": "display_data"
    }
   ],
   "source": [
    "sns.distplot(ethz_df.retweet_count,kde=False)\n",
    "\n",
    "# plt.xscale('log')\n",
    "plt.yscale('log')\n",
    "plt.ylabel('# of tweets')\n",
    "plt.xlabel('number of retweets');"
   ]
  },
  {
   "cell_type": "markdown",
   "metadata": {
    "run_control": {
     "frozen": false,
     "read_only": false
    }
   },
   "source": [
    "### number of retweets, by year"
   ]
  },
  {
   "cell_type": "code",
   "execution_count": 134,
   "metadata": {
    "cell_style": "split",
    "collapsed": false,
    "run_control": {
     "frozen": false,
     "read_only": false
    }
   },
   "outputs": [
    {
     "data": {
      "image/png": "[encoded data removed]",
      "text/plain": [
       "<matplotlib.figure.Figure at 0x1267f6860>"
      ]
     },
     "metadata": {},
     "output_type": "display_data"
    }
   ],
   "source": [
    "sns.boxplot(data=epfl_df,x='year',y='retweet_count');\n",
    "plt.yscale('log');"
   ]
  },
  {
   "cell_type": "code",
   "execution_count": 135,
   "metadata": {
    "cell_style": "split",
    "collapsed": false,
    "run_control": {
     "frozen": false,
     "read_only": false
    }
   },
   "outputs": [
    {
     "data": {
      "image/png": "[encoded data removed]",
      "text/plain": [
       "<matplotlib.figure.Figure at 0x127ad3d68>"
      ]
     },
     "metadata": {},
     "output_type": "display_data"
    }
   ],
   "source": [
    "sns.boxplot(data=ethz_df,x='year',y='retweet_count');\n",
    "plt.yscale('log');"
   ]
  },
  {
   "cell_type": "markdown",
   "metadata": {
    "run_control": {
     "frozen": false,
     "read_only": false
    }
   },
   "source": [
    "we can observe a clear increase of retweets in the last 2 years, for both EPF"
   ]
  },
  {
   "cell_type": "markdown",
   "metadata": {
    "run_control": {
     "frozen": false,
     "read_only": false
    }
   },
   "source": [
    "### number of retweets, by month"
   ]
  },
  {
   "cell_type": "code",
   "execution_count": 136,
   "metadata": {
    "cell_style": "split",
    "collapsed": false,
    "run_control": {
     "frozen": false,
     "read_only": false
    }
   },
   "outputs": [
    {
     "data": {
      "image/png": "[encoded data removed]",
      "text/plain": [
       "<matplotlib.figure.Figure at 0x1250e6a58>"
      ]
     },
     "metadata": {},
     "output_type": "display_data"
    }
   ],
   "source": [
    "sns.boxplot(data=epfl_df,x='month',y='retweet_count');\n",
    "plt.yscale('log');"
   ]
  },
  {
   "cell_type": "code",
   "execution_count": 137,
   "metadata": {
    "cell_style": "split",
    "collapsed": false,
    "run_control": {
     "frozen": false,
     "read_only": false
    }
   },
   "outputs": [
    {
     "data": {
      "image/png": "[encoded data removed]",
      "text/plain": [
       "<matplotlib.figure.Figure at 0x1278610b8>"
      ]
     },
     "metadata": {},
     "output_type": "display_data"
    }
   ],
   "source": [
    "sns.boxplot(data=ethz_df,x='month',y='retweet_count');\n",
    "plt.yscale('log');"
   ]
  },
  {
   "cell_type": "markdown",
   "metadata": {
    "run_control": {
     "frozen": false,
     "read_only": false
    }
   },
   "source": [
    "### number of retweets, by hour"
   ]
  },
  {
   "cell_type": "code",
   "execution_count": 138,
   "metadata": {
    "cell_style": "split",
    "collapsed": false,
    "run_control": {
     "frozen": false,
     "read_only": false
    }
   },
   "outputs": [
    {
     "data": {
      "image/png": "[encoded data removed]",
      "text/plain": [
       "<matplotlib.figure.Figure at 0x126fdaa90>"
      ]
     },
     "metadata": {},
     "output_type": "display_data"
    }
   ],
   "source": [
    "sns.boxplot(data=epfl_df,x='hour',y='retweet_count');\n",
    "plt.yscale('log');"
   ]
  },
  {
   "cell_type": "code",
   "execution_count": 139,
   "metadata": {
    "cell_style": "split",
    "collapsed": false,
    "run_control": {
     "frozen": false,
     "read_only": false
    }
   },
   "outputs": [
    {
     "data": {
      "image/png": "[encoded data removed]",
      "text/plain": [
       "<matplotlib.figure.Figure at 0x1271a52e8>"
      ]
     },
     "metadata": {},
     "output_type": "display_data"
    }
   ],
   "source": [
    "sns.boxplot(data=ethz_df,x='hour',y='retweet_count');\n",
    "plt.yscale('log');"
   ]
  },
  {
   "cell_type": "markdown",
   "metadata": {
    "run_control": {
     "frozen": false,
     "read_only": false
    }
   },
   "source": [
    "For EPFL it's clear the increase of retweets in the middle of the day, while for ETHZ the difference concerns more morning / late afternoon."
   ]
  },
  {
   "cell_type": "markdown",
   "metadata": {
    "run_control": {
     "frozen": false,
     "read_only": false
    }
   },
   "source": [
    "### number of retweets, by hashtag"
   ]
  },
  {
   "cell_type": "code",
   "execution_count": null,
   "metadata": {
    "collapsed": true,
    "run_control": {
     "frozen": false,
     "read_only": false
    }
   },
   "outputs": [],
   "source": []
  },
  {
   "cell_type": "markdown",
   "metadata": {
    "run_control": {
     "frozen": false,
     "read_only": false
    }
   },
   "source": [
    "# Task - 3"
   ]
  },
  {
   "cell_type": "markdown",
   "metadata": {
    "collapsed": true,
    "run_control": {
     "frozen": false,
     "read_only": false
    }
   },
   "source": [
    "giving that we have < 100K samples - as suggested [here](http://scikit-learn.org/stable/_static/ml_map.png) - and that we expect few features to be relevant, we will try [lasso regression](http://scikit-learn.org/stable/modules/generated/sklearn.linear_model.Lasso.html)"
   ]
  },
  {
   "cell_type": "code",
   "execution_count": 193,
   "metadata": {
    "collapsed": true,
    "run_control": {
     "frozen": false,
     "read_only": false
    }
   },
   "outputs": [],
   "source": [
    "from sklearn import linear_model"
   ]
  },
  {
   "cell_type": "markdown",
   "metadata": {
    "run_control": {
     "frozen": false,
     "read_only": false
    }
   },
   "source": [
    "mind that _alpha_ is an hyper-parameter!"
   ]
  },
  {
   "cell_type": "code",
   "execution_count": 194,
   "metadata": {
    "collapsed": true,
    "run_control": {
     "frozen": false,
     "read_only": false
    }
   },
   "outputs": [],
   "source": [
    "clf = linear_model.Lasso(alpha=0.1,normalize=True)"
   ]
  },
  {
   "cell_type": "markdown",
   "metadata": {
    "run_control": {
     "frozen": false,
     "read_only": false
    }
   },
   "source": [
    "## prepare features and labels"
   ]
  },
  {
   "cell_type": "markdown",
   "metadata": {
    "run_control": {
     "frozen": false,
     "read_only": false
    }
   },
   "source": [
    "preparing y"
   ]
  },
  {
   "cell_type": "code",
   "execution_count": 221,
   "metadata": {
    "collapsed": true,
    "run_control": {
     "frozen": false,
     "read_only": false
    }
   },
   "outputs": [],
   "source": [
    "epfl_y = epfl_df.retweet_count"
   ]
  },
  {
   "cell_type": "markdown",
   "metadata": {
    "run_control": {
     "frozen": false,
     "read_only": false
    }
   },
   "source": [
    "prepare categoriacal features"
   ]
  },
  {
   "cell_type": "code",
   "execution_count": 200,
   "metadata": {
    "collapsed": true,
    "run_control": {
     "frozen": false,
     "read_only": false
    }
   },
   "outputs": [],
   "source": [
    "from sklearn import preprocessing\n",
    "le = preprocessing.LabelEncoder()"
   ]
  },
  {
   "cell_type": "code",
   "execution_count": 213,
   "metadata": {
    "collapsed": false,
    "run_control": {
     "frozen": false,
     "read_only": false
    }
   },
   "outputs": [],
   "source": [
    "le.fit(epfl_df.favorited)\n",
    "epfl_df['new_favorited'] = le.transform(epfl_df.favorited)"
   ]
  },
  {
   "cell_type": "markdown",
   "metadata": {
    "run_control": {
     "frozen": false,
     "read_only": false
    }
   },
   "source": [
    "preparing X "
   ]
  },
  {
   "cell_type": "code",
   "execution_count": 233,
   "metadata": {
    "collapsed": false,
    "run_control": {
     "frozen": false,
     "read_only": false
    }
   },
   "outputs": [],
   "source": [
    "# we start with few features we think could be relevant \n",
    "epfl_X = epfl_df[['year','month','retweet_count','favorite_count','new_favorited']]"
   ]
  },
  {
   "cell_type": "code",
   "execution_count": 217,
   "metadata": {
    "cell_style": "split",
    "collapsed": false,
    "run_control": {
     "frozen": false,
     "read_only": false
    }
   },
   "outputs": [],
   "source": [
    "# epfl_df.dtypes"
   ]
  },
  {
   "cell_type": "code",
   "execution_count": 216,
   "metadata": {
    "cell_style": "split",
    "collapsed": false,
    "run_control": {
     "frozen": false,
     "read_only": false
    }
   },
   "outputs": [],
   "source": [
    "# epfl_df.isnull().sum()"
   ]
  },
  {
   "cell_type": "markdown",
   "metadata": {
    "run_control": {
     "frozen": false,
     "read_only": false
    }
   },
   "source": [
    "## training model"
   ]
  },
  {
   "cell_type": "code",
   "execution_count": 234,
   "metadata": {
    "collapsed": false,
    "run_control": {
     "frozen": false,
     "read_only": false
    }
   },
   "outputs": [
    {
     "data": {
      "text/plain": [
       "Lasso(alpha=0.1, copy_X=True, fit_intercept=True, max_iter=1000,\n",
       "   normalize=True, positive=False, precompute=False, random_state=None,\n",
       "   selection='cyclic', tol=0.0001, warm_start=False)"
      ]
     },
     "execution_count": 234,
     "metadata": {},
     "output_type": "execute_result"
    }
   ],
   "source": [
    "clf.fit(epfl_X,epfl_y)"
   ]
  },
  {
   "cell_type": "code",
   "execution_count": 235,
   "metadata": {
    "collapsed": false,
    "run_control": {
     "frozen": false,
     "read_only": false
    }
   },
   "outputs": [
    {
     "name": "stdout",
     "output_type": "stream",
     "text": [
      "coef: [ 0.          0.          0.94966197  0.          0.        ]\n",
      "intercept: 0.308085068243\n",
      "R2 score: 0.997466082644\n"
     ]
    }
   ],
   "source": [
    "print('coef:',clf.coef_)\n",
    "print('intercept:',clf.intercept_)\n",
    "print('R2 score:',clf.score(epfl_X,epfl_y))"
   ]
  },
  {
   "cell_type": "markdown",
   "metadata": {
    "run_control": {
     "frozen": false,
     "read_only": false
    }
   },
   "source": [
    "## optimise hyper-parameters"
   ]
  },
  {
   "cell_type": "code",
   "execution_count": 237,
   "metadata": {
    "collapsed": false,
    "run_control": {
     "frozen": false,
     "read_only": false
    }
   },
   "outputs": [],
   "source": [
    "from sklearn.cross_validation import cross_val_score"
   ]
  },
  {
   "cell_type": "code",
   "execution_count": 238,
   "metadata": {
    "collapsed": false,
    "run_control": {
     "frozen": false,
     "read_only": false
    }
   },
   "outputs": [
    {
     "name": "stderr",
     "output_type": "stream",
     "text": [
      "/Library/Frameworks/Python.framework/Versions/3.5/lib/python3.5/site-packages/sklearn/grid_search.py:43: DeprecationWarning: This module was deprecated in version 0.18 in favor of the model_selection module into which all the refactored classes and functions are moved. This module will be removed in 0.20.\n",
      "  DeprecationWarning)\n"
     ]
    }
   ],
   "source": [
    "from sklearn.grid_search import GridSearchCV"
   ]
  },
  {
   "cell_type": "code",
   "execution_count": 253,
   "metadata": {
    "collapsed": false,
    "run_control": {
     "frozen": false,
     "read_only": false
    }
   },
   "outputs": [],
   "source": [
    "# Grid search params\n",
    "my_alphas = list(np.linspace(0.0, 1.0, num=21))\n",
    "param_grid = dict(alpha=my_alphas)"
   ]
  },
  {
   "cell_type": "code",
   "execution_count": 257,
   "metadata": {
    "collapsed": true,
    "run_control": {
     "frozen": false,
     "read_only": false
    }
   },
   "outputs": [],
   "source": [
    "# instantiate the grid\n",
    "grid = GridSearchCV(clf, param_grid, cv=20, scoring='r2', n_jobs=8)"
   ]
  },
  {
   "cell_type": "code",
   "execution_count": 260,
   "metadata": {
    "collapsed": false,
    "run_control": {
     "frozen": false,
     "read_only": false
    }
   },
   "outputs": [
    {
     "name": "stderr",
     "output_type": "stream",
     "text": [
      "/Library/Frameworks/Python.framework/Versions/3.5/lib/python3.5/site-packages/sklearn/cross_validation.py:1665: UserWarning: With alpha=0, this algorithm does not converge well. You are advised to use the LinearRegression estimator\n",
      "  estimator.fit(X_train, y_train, **fit_params)\n",
      "/Library/Frameworks/Python.framework/Versions/3.5/lib/python3.5/site-packages/sklearn/cross_validation.py:1665: UserWarning: With alpha=0, this algorithm does not converge well. You are advised to use the LinearRegression estimator\n",
      "  estimator.fit(X_train, y_train, **fit_params)\n",
      "/Library/Frameworks/Python.framework/Versions/3.5/lib/python3.5/site-packages/sklearn/linear_model/coordinate_descent.py:470: UserWarning: Coordinate descent with alpha=0 may lead to unexpected results and is discouraged.\n",
      "  positive)\n",
      "/Library/Frameworks/Python.framework/Versions/3.5/lib/python3.5/site-packages/sklearn/linear_model/coordinate_descent.py:470: UserWarning: Coordinate descent with alpha=0 may lead to unexpected results and is discouraged.\n",
      "  positive)\n",
      "/Library/Frameworks/Python.framework/Versions/3.5/lib/python3.5/site-packages/sklearn/cross_validation.py:1665: UserWarning: With alpha=0, this algorithm does not converge well. You are advised to use the LinearRegression estimator\n",
      "  estimator.fit(X_train, y_train, **fit_params)\n",
      "/Library/Frameworks/Python.framework/Versions/3.5/lib/python3.5/site-packages/sklearn/linear_model/coordinate_descent.py:470: UserWarning: Coordinate descent with alpha=0 may lead to unexpected results and is discouraged.\n",
      "  positive)\n",
      "/Library/Frameworks/Python.framework/Versions/3.5/lib/python3.5/site-packages/sklearn/cross_validation.py:1665: UserWarning: With alpha=0, this algorithm does not converge well. You are advised to use the LinearRegression estimator\n",
      "  estimator.fit(X_train, y_train, **fit_params)\n",
      "/Library/Frameworks/Python.framework/Versions/3.5/lib/python3.5/site-packages/sklearn/cross_validation.py:1665: UserWarning: With alpha=0, this algorithm does not converge well. You are advised to use the LinearRegression estimator\n",
      "  estimator.fit(X_train, y_train, **fit_params)\n",
      "/Library/Frameworks/Python.framework/Versions/3.5/lib/python3.5/site-packages/sklearn/cross_validation.py:1665: UserWarning: With alpha=0, this algorithm does not converge well. You are advised to use the LinearRegression estimator\n",
      "  estimator.fit(X_train, y_train, **fit_params)\n",
      "/Library/Frameworks/Python.framework/Versions/3.5/lib/python3.5/site-packages/sklearn/linear_model/coordinate_descent.py:470: UserWarning: Coordinate descent with alpha=0 may lead to unexpected results and is discouraged.\n",
      "  positive)\n",
      "/Library/Frameworks/Python.framework/Versions/3.5/lib/python3.5/site-packages/sklearn/linear_model/coordinate_descent.py:470: UserWarning: Coordinate descent with alpha=0 may lead to unexpected results and is discouraged.\n",
      "  positive)\n",
      "/Library/Frameworks/Python.framework/Versions/3.5/lib/python3.5/site-packages/sklearn/cross_validation.py:1665: UserWarning: With alpha=0, this algorithm does not converge well. You are advised to use the LinearRegression estimator\n",
      "  estimator.fit(X_train, y_train, **fit_params)\n",
      "/Library/Frameworks/Python.framework/Versions/3.5/lib/python3.5/site-packages/sklearn/cross_validation.py:1665: UserWarning: With alpha=0, this algorithm does not converge well. You are advised to use the LinearRegression estimator\n",
      "  estimator.fit(X_train, y_train, **fit_params)\n",
      "/Library/Frameworks/Python.framework/Versions/3.5/lib/python3.5/site-packages/sklearn/linear_model/coordinate_descent.py:470: UserWarning: Coordinate descent with alpha=0 may lead to unexpected results and is discouraged.\n",
      "  positive)\n",
      "/Library/Frameworks/Python.framework/Versions/3.5/lib/python3.5/site-packages/sklearn/cross_validation.py:1665: UserWarning: With alpha=0, this algorithm does not converge well. You are advised to use the LinearRegression estimator\n",
      "  estimator.fit(X_train, y_train, **fit_params)\n",
      "/Library/Frameworks/Python.framework/Versions/3.5/lib/python3.5/site-packages/sklearn/linear_model/coordinate_descent.py:470: UserWarning: Coordinate descent with alpha=0 may lead to unexpected results and is discouraged.\n",
      "  positive)\n",
      "/Library/Frameworks/Python.framework/Versions/3.5/lib/python3.5/site-packages/sklearn/linear_model/coordinate_descent.py:470: UserWarning: Coordinate descent with alpha=0 may lead to unexpected results and is discouraged.\n",
      "  positive)\n",
      "/Library/Frameworks/Python.framework/Versions/3.5/lib/python3.5/site-packages/sklearn/cross_validation.py:1665: UserWarning: With alpha=0, this algorithm does not converge well. You are advised to use the LinearRegression estimator\n",
      "  estimator.fit(X_train, y_train, **fit_params)\n",
      "/Library/Frameworks/Python.framework/Versions/3.5/lib/python3.5/site-packages/sklearn/cross_validation.py:1665: UserWarning: With alpha=0, this algorithm does not converge well. You are advised to use the LinearRegression estimator\n",
      "  estimator.fit(X_train, y_train, **fit_params)\n",
      "/Library/Frameworks/Python.framework/Versions/3.5/lib/python3.5/site-packages/sklearn/cross_validation.py:1665: UserWarning: With alpha=0, this algorithm does not converge well. You are advised to use the LinearRegression estimator\n",
      "  estimator.fit(X_train, y_train, **fit_params)\n",
      "/Library/Frameworks/Python.framework/Versions/3.5/lib/python3.5/site-packages/sklearn/linear_model/coordinate_descent.py:470: UserWarning: Coordinate descent with alpha=0 may lead to unexpected results and is discouraged.\n",
      "  positive)\n",
      "/Library/Frameworks/Python.framework/Versions/3.5/lib/python3.5/site-packages/sklearn/linear_model/coordinate_descent.py:470: UserWarning: Coordinate descent with alpha=0 may lead to unexpected results and is discouraged.\n",
      "  positive)\n",
      "/Library/Frameworks/Python.framework/Versions/3.5/lib/python3.5/site-packages/sklearn/cross_validation.py:1665: UserWarning: With alpha=0, this algorithm does not converge well. You are advised to use the LinearRegression estimator\n",
      "  estimator.fit(X_train, y_train, **fit_params)\n",
      "/Library/Frameworks/Python.framework/Versions/3.5/lib/python3.5/site-packages/sklearn/linear_model/coordinate_descent.py:470: UserWarning: Coordinate descent with alpha=0 may lead to unexpected results and is discouraged.\n",
      "  positive)\n",
      "/Library/Frameworks/Python.framework/Versions/3.5/lib/python3.5/site-packages/sklearn/cross_validation.py:1665: UserWarning: With alpha=0, this algorithm does not converge well. You are advised to use the LinearRegression estimator\n",
      "  estimator.fit(X_train, y_train, **fit_params)\n",
      "/Library/Frameworks/Python.framework/Versions/3.5/lib/python3.5/site-packages/sklearn/linear_model/coordinate_descent.py:470: UserWarning: Coordinate descent with alpha=0 may lead to unexpected results and is discouraged.\n",
      "  positive)\n",
      "/Library/Frameworks/Python.framework/Versions/3.5/lib/python3.5/site-packages/sklearn/linear_model/coordinate_descent.py:470: UserWarning: Coordinate descent with alpha=0 may lead to unexpected results and is discouraged.\n",
      "  positive)\n",
      "/Library/Frameworks/Python.framework/Versions/3.5/lib/python3.5/site-packages/sklearn/linear_model/coordinate_descent.py:470: UserWarning: Coordinate descent with alpha=0 may lead to unexpected results and is discouraged.\n",
      "  positive)\n",
      "/Library/Frameworks/Python.framework/Versions/3.5/lib/python3.5/site-packages/sklearn/cross_validation.py:1665: UserWarning: With alpha=0, this algorithm does not converge well. You are advised to use the LinearRegression estimator\n",
      "  estimator.fit(X_train, y_train, **fit_params)\n",
      "/Library/Frameworks/Python.framework/Versions/3.5/lib/python3.5/site-packages/sklearn/cross_validation.py:1665: UserWarning: With alpha=0, this algorithm does not converge well. You are advised to use the LinearRegression estimator\n",
      "  estimator.fit(X_train, y_train, **fit_params)\n",
      "/Library/Frameworks/Python.framework/Versions/3.5/lib/python3.5/site-packages/sklearn/linear_model/coordinate_descent.py:470: UserWarning: Coordinate descent with alpha=0 may lead to unexpected results and is discouraged.\n",
      "  positive)\n",
      "/Library/Frameworks/Python.framework/Versions/3.5/lib/python3.5/site-packages/sklearn/linear_model/coordinate_descent.py:470: UserWarning: Coordinate descent with alpha=0 may lead to unexpected results and is discouraged.\n",
      "  positive)\n",
      "/Library/Frameworks/Python.framework/Versions/3.5/lib/python3.5/site-packages/sklearn/cross_validation.py:1665: UserWarning: With alpha=0, this algorithm does not converge well. You are advised to use the LinearRegression estimator\n",
      "  estimator.fit(X_train, y_train, **fit_params)\n",
      "/Library/Frameworks/Python.framework/Versions/3.5/lib/python3.5/site-packages/sklearn/linear_model/coordinate_descent.py:470: UserWarning: Coordinate descent with alpha=0 may lead to unexpected results and is discouraged.\n",
      "  positive)\n",
      "/Library/Frameworks/Python.framework/Versions/3.5/lib/python3.5/site-packages/sklearn/cross_validation.py:1665: UserWarning: With alpha=0, this algorithm does not converge well. You are advised to use the LinearRegression estimator\n",
      "  estimator.fit(X_train, y_train, **fit_params)\n",
      "/Library/Frameworks/Python.framework/Versions/3.5/lib/python3.5/site-packages/sklearn/linear_model/coordinate_descent.py:470: UserWarning: Coordinate descent with alpha=0 may lead to unexpected results and is discouraged.\n",
      "  positive)\n",
      "/Library/Frameworks/Python.framework/Versions/3.5/lib/python3.5/site-packages/sklearn/cross_validation.py:1665: UserWarning: With alpha=0, this algorithm does not converge well. You are advised to use the LinearRegression estimator\n",
      "  estimator.fit(X_train, y_train, **fit_params)\n",
      "/Library/Frameworks/Python.framework/Versions/3.5/lib/python3.5/site-packages/sklearn/linear_model/coordinate_descent.py:470: UserWarning: Coordinate descent with alpha=0 may lead to unexpected results and is discouraged.\n",
      "  positive)\n",
      "/Library/Frameworks/Python.framework/Versions/3.5/lib/python3.5/site-packages/sklearn/cross_validation.py:1665: UserWarning: With alpha=0, this algorithm does not converge well. You are advised to use the LinearRegression estimator\n",
      "  estimator.fit(X_train, y_train, **fit_params)\n",
      "/Library/Frameworks/Python.framework/Versions/3.5/lib/python3.5/site-packages/sklearn/linear_model/coordinate_descent.py:470: UserWarning: Coordinate descent with alpha=0 may lead to unexpected results and is discouraged.\n",
      "  positive)\n",
      "/Library/Frameworks/Python.framework/Versions/3.5/lib/python3.5/site-packages/sklearn/grid_search.py:619: UserWarning: With alpha=0, this algorithm does not converge well. You are advised to use the LinearRegression estimator\n",
      "  best_estimator.fit(X, y, **self.fit_params)\n",
      "/Library/Frameworks/Python.framework/Versions/3.5/lib/python3.5/site-packages/sklearn/linear_model/coordinate_descent.py:470: UserWarning: Coordinate descent with alpha=0 may lead to unexpected results and is discouraged.\n",
      "  positive)\n"
     ]
    },
    {
     "data": {
      "text/plain": [
       "GridSearchCV(cv=20, error_score='raise',\n",
       "       estimator=Lasso(alpha=0.1, copy_X=True, fit_intercept=True, max_iter=1000,\n",
       "   normalize=True, positive=False, precompute=False, random_state=None,\n",
       "   selection='cyclic', tol=0.0001, warm_start=False),\n",
       "       fit_params={}, iid=True, n_jobs=8,\n",
       "       param_grid={'alpha': [0.0, 0.050000000000000003, 0.10000000000000001, 0.15000000000000002, 0.20000000000000001, 0.25, 0.30000000000000004, 0.35000000000000003, 0.40000000000000002, 0.45000000000000001, 0.5, 0.55000000000000004, 0.60000000000000009, 0.65000000000000002, 0.70000000000000007, 0.75, 0.80000000000000004, 0.85000000000000009, 0.90000000000000002, 0.95000000000000007, 1.0]},\n",
       "       pre_dispatch='2*n_jobs', refit=True, scoring='r2', verbose=0)"
      ]
     },
     "execution_count": 260,
     "metadata": {},
     "output_type": "execute_result"
    }
   ],
   "source": [
    "# fit the grid with data\n",
    "grid.fit(epfl_X, epfl_y)"
   ]
  },
  {
   "cell_type": "code",
   "execution_count": 262,
   "metadata": {
    "collapsed": false,
    "run_control": {
     "frozen": false,
     "read_only": false
    }
   },
   "outputs": [
    {
     "data": {
      "text/plain": [
       "[mean: 1.00000, std: 0.00000, params: {'alpha': 0.0},\n",
       " mean: 0.99656, std: 0.00623, params: {'alpha': 0.050000000000000003},\n",
       " mean: 0.98625, std: 0.02494, params: {'alpha': 0.10000000000000001},\n",
       " mean: 0.96907, std: 0.05611, params: {'alpha': 0.15000000000000002},\n",
       " mean: 0.94501, std: 0.09975, params: {'alpha': 0.20000000000000001},\n",
       " mean: 0.91407, std: 0.15585, params: {'alpha': 0.25},\n",
       " mean: 0.87644, std: 0.22372, params: {'alpha': 0.30000000000000004},\n",
       " mean: 0.85015, std: 0.23440, params: {'alpha': 0.35000000000000003},\n",
       " mean: 0.81981, std: 0.25193, params: {'alpha': 0.40000000000000002},\n",
       " mean: 0.78542, std: 0.27721, params: {'alpha': 0.45000000000000001},\n",
       " mean: 0.74699, std: 0.31061, params: {'alpha': 0.5},\n",
       " mean: 0.70452, std: 0.35203, params: {'alpha': 0.55000000000000004},\n",
       " mean: 0.65800, std: 0.40114, params: {'alpha': 0.60000000000000009},\n",
       " mean: 0.60743, std: 0.45752, params: {'alpha': 0.65000000000000002},\n",
       " mean: 0.55282, std: 0.52078, params: {'alpha': 0.70000000000000007},\n",
       " mean: 0.49417, std: 0.59058, params: {'alpha': 0.75},\n",
       " mean: 0.43147, std: 0.66667, params: {'alpha': 0.80000000000000004},\n",
       " mean: 0.36472, std: 0.74881, params: {'alpha': 0.85000000000000009},\n",
       " mean: 0.29393, std: 0.83685, params: {'alpha': 0.90000000000000002},\n",
       " mean: 0.21909, std: 0.93066, params: {'alpha': 0.95000000000000007},\n",
       " mean: 0.14021, std: 1.03013, params: {'alpha': 1.0}]"
      ]
     },
     "execution_count": 262,
     "metadata": {},
     "output_type": "execute_result"
    }
   ],
   "source": [
    "grid.grid_scores_"
   ]
  },
  {
   "cell_type": "code",
   "execution_count": 263,
   "metadata": {
    "collapsed": false,
    "run_control": {
     "frozen": false,
     "read_only": false
    }
   },
   "outputs": [
    {
     "name": "stdout",
     "output_type": "stream",
     "text": [
      "best score: 0.9999999438120335\n"
     ]
    }
   ],
   "source": [
    "print('best score:',grid.best_score_)"
   ]
  },
  {
   "cell_type": "markdown",
   "metadata": {
    "run_control": {
     "frozen": false,
     "read_only": false
    }
   },
   "source": [
    "### plotting results of optimisation "
   ]
  },
  {
   "cell_type": "code",
   "execution_count": 297,
   "metadata": {
    "collapsed": true,
    "run_control": {
     "frozen": false,
     "read_only": false
    }
   },
   "outputs": [],
   "source": [
    "alphas = [d[0]['alpha'] for d in grid.grid_scores_]\n",
    "mean_scores = [d[1] for d in grid.grid_scores_]"
   ]
  },
  {
   "cell_type": "code",
   "execution_count": 300,
   "metadata": {
    "collapsed": false,
    "run_control": {
     "frozen": false,
     "read_only": false
    }
   },
   "outputs": [
    {
     "data": {
      "image/png": "[encoded data removed]",
      "text/plain": [
       "<matplotlib.figure.Figure at 0x1264cf710>"
      ]
     },
     "metadata": {},
     "output_type": "display_data"
    }
   ],
   "source": [
    "plt.plot(alphas, mean_scores, '.')\n",
    "plt.xlabel('alphas',size=16)\n",
    "plt.ylabel('mean R2',size=16);"
   ]
  },
  {
   "cell_type": "markdown",
   "metadata": {
    "run_control": {
     "frozen": false,
     "read_only": false
    }
   },
   "source": [
    "# Task - 4"
   ]
  },
  {
   "cell_type": "code",
   "execution_count": null,
   "metadata": {
    "collapsed": true,
    "run_control": {
     "frozen": false,
     "read_only": false
    }
   },
   "outputs": [],
   "source": []
  },
  {
   "cell_type": "code",
   "execution_count": null,
   "metadata": {
    "collapsed": true,
    "run_control": {
     "frozen": false,
     "read_only": false
    }
   },
   "outputs": [],
   "source": []
  }
 ],
 "metadata": {
  "kernelspec": {
   "display_name": "Python 3",
   "language": "python",
   "name": "python3"
  },
  "language_info": {
   "codemirror_mode": {
    "name": "ipython",
    "version": 3
   },
   "file_extension": ".py",
   "mimetype": "text/x-python",
   "name": "python",
   "nbconvert_exporter": "python",
   "pygments_lexer": "ipython3",
   "version": "3.5.2"
  },
  "toc": {
   "colors": {
    "hover_highlight": "#DAA520",
    "running_highlight": "#FF0000",
    "selected_highlight": "#FFD700"
   },
   "moveMenuLeft": true,
   "nav_menu": {
    "height": "153px",
    "width": "252px"
   },
   "navigate_menu": true,
   "number_sections": false,
   "sideBar": false,
   "threshold": 4,
   "toc_cell": true,
   "toc_position": {
    "height": "454px",
    "left": "828px",
    "right": "20px",
    "top": "44px",
    "width": "239px"
   },
   "toc_section_display": "none",
   "toc_window_display": true
  }
 },
 "nbformat": 4,
 "nbformat_minor": 2
}
