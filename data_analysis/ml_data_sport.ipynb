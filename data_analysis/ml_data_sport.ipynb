{
 "cells": [
  {
   "cell_type": "markdown",
   "metadata": {},
   "source": [
    "# Appliying machine learning to Datasport dataset"
   ]
  },
  {
   "cell_type": "markdown",
   "metadata": {},
   "source": [
    "In this notebook we present:\n",
    "\n",
    "* [exploratory statistics](#Exploratory-statistics)\n",
    "* [Machine Learning-driven analysis](#ML-driven-analysis) on runners' performances "
   ]
  },
  {
   "cell_type": "code",
   "execution_count": 1,
   "metadata": {
    "collapsed": true
   },
   "outputs": [],
   "source": [
    "import pandas as pd\n",
    "import numpy as np\n",
    "\n",
    "import matplotlib.pyplot as plt\n",
    "%matplotlib inline\n",
    "\n",
    "import datetime\n",
    "from scipy import stats\n",
    "\n",
    "import seaborn as sns\n",
    "sns.set_context('notebook')\n",
    "%config InlineBackend.figure_format = 'retina'"
   ]
  },
  {
   "cell_type": "code",
   "execution_count": 4,
   "metadata": {
    "collapsed": true
   },
   "outputs": [],
   "source": [
    "from sklearn.ensemble import RandomForestClassifier\n",
    "from sklearn.model_selection import GridSearchCV"
   ]
  },
  {
   "cell_type": "markdown",
   "metadata": {
    "collapsed": true
   },
   "source": [
    "## Exploratory statistics"
   ]
  },
  {
   "cell_type": "code",
   "execution_count": 3,
   "metadata": {
    "collapsed": true
   },
   "outputs": [],
   "source": [
    "full_ds = pd.read_csv('../../full_database.csv')"
   ]
  },
  {
   "cell_type": "code",
   "execution_count": 4,
   "metadata": {
    "collapsed": false
   },
   "outputs": [
    {
     "data": {
      "text/html": [
       "<div>\n",
       "<table border=\"1\" class=\"dataframe\">\n",
       "  <thead>\n",
       "    <tr style=\"text-align: right;\">\n",
       "      <th></th>\n",
       "      <th>Race</th>\n",
       "      <th>Date</th>\n",
       "      <th>Distance</th>\n",
       "      <th>Name</th>\n",
       "      <th>Sex</th>\n",
       "      <th>Year</th>\n",
       "      <th>LivingPlace</th>\n",
       "      <th>Rank</th>\n",
       "      <th>Time</th>\n",
       "      <th>Delay</th>\n",
       "      <th>Pace</th>\n",
       "      <th>len_name</th>\n",
       "    </tr>\n",
       "  </thead>\n",
       "  <tbody>\n",
       "    <tr>\n",
       "      <th>0</th>\n",
       "      <td>Jungfrau-Marathon, Interlaken</td>\n",
       "      <td>sam. 06.09.2003</td>\n",
       "      <td>42.195</td>\n",
       "      <td>Abächerli Walter</td>\n",
       "      <td>M</td>\n",
       "      <td>1952</td>\n",
       "      <td>Hinwil</td>\n",
       "      <td>47</td>\n",
       "      <td>4:31.56,1</td>\n",
       "      <td>0:53.5,3</td>\n",
       "      <td>0:6.26,0</td>\n",
       "      <td>2</td>\n",
       "    </tr>\n",
       "    <tr>\n",
       "      <th>1</th>\n",
       "      <td>Jungfrau-Marathon, Interlaken</td>\n",
       "      <td>sam. 06.09.2003</td>\n",
       "      <td>42.195</td>\n",
       "      <td>Abbringh Ellen</td>\n",
       "      <td>F</td>\n",
       "      <td>1962</td>\n",
       "      <td>NL-Doorn 3941 EB</td>\n",
       "      <td>91</td>\n",
       "      <td>5:55.9,4</td>\n",
       "      <td>2:12.11,6</td>\n",
       "      <td>0:8.25,0</td>\n",
       "      <td>2</td>\n",
       "    </tr>\n",
       "    <tr>\n",
       "      <th>2</th>\n",
       "      <td>Jungfrau-Marathon, Interlaken</td>\n",
       "      <td>sam. 06.09.2003</td>\n",
       "      <td>42.195</td>\n",
       "      <td>Abegglen Eddy</td>\n",
       "      <td>M</td>\n",
       "      <td>1954</td>\n",
       "      <td>Mürren</td>\n",
       "      <td>424</td>\n",
       "      <td>5:45.21,9</td>\n",
       "      <td>2:20.33,8</td>\n",
       "      <td>0:8.11,0</td>\n",
       "      <td>2</td>\n",
       "    </tr>\n",
       "  </tbody>\n",
       "</table>\n",
       "</div>"
      ],
      "text/plain": [
       "                            Race             Date  Distance  \\\n",
       "0  Jungfrau-Marathon, Interlaken  sam. 06.09.2003    42.195   \n",
       "1  Jungfrau-Marathon, Interlaken  sam. 06.09.2003    42.195   \n",
       "2  Jungfrau-Marathon, Interlaken  sam. 06.09.2003    42.195   \n",
       "\n",
       "                Name Sex  Year        LivingPlace  Rank       Time      Delay  \\\n",
       "0  Abächerli Walter    M  1952             Hinwil    47  4:31.56,1   0:53.5,3   \n",
       "1    Abbringh Ellen    F  1962   NL-Doorn 3941 EB    91   5:55.9,4  2:12.11,6   \n",
       "2     Abegglen Eddy    M  1954             Mürren   424  5:45.21,9  2:20.33,8   \n",
       "\n",
       "       Pace  len_name  \n",
       "0  0:6.26,0         2  \n",
       "1  0:8.25,0         2  \n",
       "2  0:8.11,0         2  "
      ]
     },
     "execution_count": 4,
     "metadata": {},
     "output_type": "execute_result"
    }
   ],
   "source": [
    "full_ds.head(3)"
   ]
  },
  {
   "cell_type": "code",
   "execution_count": null,
   "metadata": {
    "collapsed": true
   },
   "outputs": [],
   "source": []
  },
  {
   "cell_type": "markdown",
   "metadata": {},
   "source": [
    "## ML-driven analysis"
   ]
  },
  {
   "cell_type": "code",
   "execution_count": null,
   "metadata": {
    "collapsed": true
   },
   "outputs": [],
   "source": []
  }
 ],
 "metadata": {
  "kernelspec": {
   "display_name": "Python 3",
   "language": "python",
   "name": "python3"
  },
  "language_info": {
   "codemirror_mode": {
    "name": "ipython",
    "version": 3
   },
   "file_extension": ".py",
   "mimetype": "text/x-python",
   "name": "python",
   "nbconvert_exporter": "python",
   "pygments_lexer": "ipython3",
   "version": "3.5.2"
  }
 },
 "nbformat": 4,
 "nbformat_minor": 0
}
