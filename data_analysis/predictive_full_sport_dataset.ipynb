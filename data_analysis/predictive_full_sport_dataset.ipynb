{
 "cells": [
  {
   "cell_type": "code",
   "execution_count": 1,
   "metadata": {
    "collapsed": false,
    "run_control": {
     "frozen": false,
     "read_only": false
    }
   },
   "outputs": [
    {
     "data": {
      "text/html": [
       "<style>\n",
       ".lev1 {margin-left: 80px}\n",
       ".lev2 {margin-left: 100px}\n",
       ".lev3 {margin-left: 120px}\n",
       ".lev4 {margin-left: 140px}\n",
       ".lev5 {margin-left: 160px}\n",
       ".lev6 {margin-left: 180px}\n",
       "</style>"
      ],
      "text/plain": [
       "<IPython.core.display.HTML object>"
      ]
     },
     "execution_count": 1,
     "metadata": {},
     "output_type": "execute_result"
    }
   ],
   "source": [
    "from IPython.display import HTML\n",
    "\n",
    "HTML(\"\"\"<style>\n",
    ".lev1 {margin-left: 80px}\n",
    ".lev2 {margin-left: 100px}\n",
    ".lev3 {margin-left: 120px}\n",
    ".lev4 {margin-left: 140px}\n",
    ".lev5 {margin-left: 160px}\n",
    ".lev6 {margin-left: 180px}\n",
    "</style>\"\"\")"
   ]
  },
  {
   "cell_type": "markdown",
   "metadata": {
    "run_control": {
     "frozen": false,
     "read_only": false
    },
    "toc": "true"
   },
   "source": [
    "# Table of Contents\n",
    " <p>"
   ]
  },
  {
   "cell_type": "markdown",
   "metadata": {
    "run_control": {
     "frozen": false,
     "read_only": false
    }
   },
   "source": [
    "<center>\n",
    "\n",
    "<big><b>\n",
    " Predictive Statistics on the full Datasport dataset\n",
    "</b></big>\n",
    "\n",
    "</center>"
   ]
  },
  {
   "cell_type": "markdown",
   "metadata": {
    "collapsed": true,
    "run_control": {
     "frozen": false,
     "read_only": false
    }
   },
   "source": [
    "This article on \n",
    "[fivethirtyeight](http://fivethirtyeight.com/features/tell-us-two-things-and-well-tell-you-how-fast-youd-run-a-marathon/) \n",
    "summarises the results of a recent \n",
    "[study](https://bmcsportsscimedrehabil.biomedcentral.com/articles/10.1186/s13102-016-0052-y).\n",
    "The authors improved a long-standing prective model from \n",
    "[1981](http://www.runscore.com/coursemeasurement/Articles/ARHE.pdf),\n",
    "that estimates the performance (min) of an athlete on the next race, based the distance and performance on the previous one."
   ]
  },
  {
   "cell_type": "code",
   "execution_count": 1,
   "metadata": {
    "collapsed": true,
    "run_control": {
     "frozen": false,
     "read_only": false
    }
   },
   "outputs": [],
   "source": [
    "import pandas as pd\n",
    "import numpy as np\n",
    "\n",
    "import matplotlib.pyplot as plt\n",
    "%matplotlib inline\n",
    "\n",
    "import datetime\n",
    "from scipy import stats\n",
    "\n",
    "import seaborn as sns\n",
    "sns.set_context('notebook')\n",
    "%config InlineBackend.figure_format = 'retina'\n",
    "\n",
    "import powerlaw "
   ]
  },
  {
   "cell_type": "code",
   "execution_count": 2,
   "metadata": {
    "collapsed": true
   },
   "outputs": [],
   "source": [
    "full_df = pd.read_pickle('../../df_userID.pickle')"
   ]
  },
  {
   "cell_type": "code",
   "execution_count": 3,
   "metadata": {
    "collapsed": false
   },
   "outputs": [
    {
     "data": {
      "text/html": [
       "<div>\n",
       "<table border=\"1\" class=\"dataframe\">\n",
       "  <thead>\n",
       "    <tr style=\"text-align: right;\">\n",
       "      <th></th>\n",
       "      <th>Race</th>\n",
       "      <th>Date</th>\n",
       "      <th>RaceYear</th>\n",
       "      <th>RaceMonth</th>\n",
       "      <th>Category</th>\n",
       "      <th>Distance</th>\n",
       "      <th>Name</th>\n",
       "      <th>Sex</th>\n",
       "      <th>Year</th>\n",
       "      <th>LivingPlace</th>\n",
       "      <th>Rank</th>\n",
       "      <th>Time</th>\n",
       "      <th>Pace</th>\n",
       "      <th>Place</th>\n",
       "      <th>MinTemp</th>\n",
       "      <th>MaxTemp</th>\n",
       "      <th>Weather</th>\n",
       "      <th>RaceID</th>\n",
       "      <th>UserID</th>\n",
       "    </tr>\n",
       "  </thead>\n",
       "  <tbody>\n",
       "    <tr>\n",
       "      <th>0</th>\n",
       "      <td>Kerzerslauf</td>\n",
       "      <td>sam. 18.03.2000</td>\n",
       "      <td>2000</td>\n",
       "      <td>3</td>\n",
       "      <td>M20</td>\n",
       "      <td>15.0</td>\n",
       "      <td>Abgottspon Peter</td>\n",
       "      <td>M</td>\n",
       "      <td>1974.0</td>\n",
       "      <td>Zermatt</td>\n",
       "      <td>233</td>\n",
       "      <td>01:02:25</td>\n",
       "      <td>00:04:09</td>\n",
       "      <td>Kerzers</td>\n",
       "      <td>NaN</td>\n",
       "      <td>NaN</td>\n",
       "      <td>NaN</td>\n",
       "      <td>http://services.datasport.com/2000/lauf/kerzers</td>\n",
       "      <td>Abgottspon Peter 1974.0</td>\n",
       "    </tr>\n",
       "    <tr>\n",
       "      <th>1</th>\n",
       "      <td>Kerzerslauf</td>\n",
       "      <td>sam. 18.03.2000</td>\n",
       "      <td>2000</td>\n",
       "      <td>3</td>\n",
       "      <td>M35</td>\n",
       "      <td>15.0</td>\n",
       "      <td>Abplanalp Michael</td>\n",
       "      <td>M</td>\n",
       "      <td>1964.0</td>\n",
       "      <td>Bern</td>\n",
       "      <td>32</td>\n",
       "      <td>00:55:11.700000</td>\n",
       "      <td>00:03:40</td>\n",
       "      <td>Kerzers</td>\n",
       "      <td>NaN</td>\n",
       "      <td>NaN</td>\n",
       "      <td>NaN</td>\n",
       "      <td>http://services.datasport.com/2000/lauf/kerzers</td>\n",
       "      <td>Abplanalp Michael 1964.0</td>\n",
       "    </tr>\n",
       "    <tr>\n",
       "      <th>2</th>\n",
       "      <td>Kerzerslauf</td>\n",
       "      <td>sam. 18.03.2000</td>\n",
       "      <td>2000</td>\n",
       "      <td>3</td>\n",
       "      <td>M50</td>\n",
       "      <td>15.0</td>\n",
       "      <td>Abt Werner</td>\n",
       "      <td>M</td>\n",
       "      <td>1947.0</td>\n",
       "      <td>Spiez</td>\n",
       "      <td>155</td>\n",
       "      <td>01:12:42.900000</td>\n",
       "      <td>00:04:50</td>\n",
       "      <td>Kerzers</td>\n",
       "      <td>NaN</td>\n",
       "      <td>NaN</td>\n",
       "      <td>NaN</td>\n",
       "      <td>http://services.datasport.com/2000/lauf/kerzers</td>\n",
       "      <td>Abt Werner 1947.0</td>\n",
       "    </tr>\n",
       "    <tr>\n",
       "      <th>3</th>\n",
       "      <td>Kerzerslauf</td>\n",
       "      <td>sam. 18.03.2000</td>\n",
       "      <td>2000</td>\n",
       "      <td>3</td>\n",
       "      <td>F45</td>\n",
       "      <td>15.0</td>\n",
       "      <td>Ackermann Antoinette</td>\n",
       "      <td>F</td>\n",
       "      <td>1953.0</td>\n",
       "      <td>Alterswil</td>\n",
       "      <td>48</td>\n",
       "      <td>01:22:36.700000</td>\n",
       "      <td>00:05:30</td>\n",
       "      <td>Kerzers</td>\n",
       "      <td>NaN</td>\n",
       "      <td>NaN</td>\n",
       "      <td>NaN</td>\n",
       "      <td>http://services.datasport.com/2000/lauf/kerzers</td>\n",
       "      <td>Ackermann Antoinette 1953.0</td>\n",
       "    </tr>\n",
       "    <tr>\n",
       "      <th>4</th>\n",
       "      <td>Kerzerslauf</td>\n",
       "      <td>sam. 18.03.2000</td>\n",
       "      <td>2000</td>\n",
       "      <td>3</td>\n",
       "      <td>F50</td>\n",
       "      <td>15.0</td>\n",
       "      <td>Ackermann Hedy</td>\n",
       "      <td>F</td>\n",
       "      <td>1946.0</td>\n",
       "      <td>Alterswil</td>\n",
       "      <td>42</td>\n",
       "      <td>01:23:29.300000</td>\n",
       "      <td>00:05:33</td>\n",
       "      <td>Kerzers</td>\n",
       "      <td>NaN</td>\n",
       "      <td>NaN</td>\n",
       "      <td>NaN</td>\n",
       "      <td>http://services.datasport.com/2000/lauf/kerzers</td>\n",
       "      <td>Ackermann Hedy 1946.0</td>\n",
       "    </tr>\n",
       "  </tbody>\n",
       "</table>\n",
       "</div>"
      ],
      "text/plain": [
       "          Race             Date  RaceYear  RaceMonth Category  Distance  \\\n",
       "0  Kerzerslauf  sam. 18.03.2000      2000          3      M20      15.0   \n",
       "1  Kerzerslauf  sam. 18.03.2000      2000          3      M35      15.0   \n",
       "2  Kerzerslauf  sam. 18.03.2000      2000          3      M50      15.0   \n",
       "3  Kerzerslauf  sam. 18.03.2000      2000          3      F45      15.0   \n",
       "4  Kerzerslauf  sam. 18.03.2000      2000          3      F50      15.0   \n",
       "\n",
       "                   Name Sex    Year LivingPlace  Rank            Time  \\\n",
       "0      Abgottspon Peter   M  1974.0     Zermatt   233        01:02:25   \n",
       "1     Abplanalp Michael   M  1964.0        Bern    32 00:55:11.700000   \n",
       "2            Abt Werner   M  1947.0       Spiez   155 01:12:42.900000   \n",
       "3  Ackermann Antoinette   F  1953.0   Alterswil    48 01:22:36.700000   \n",
       "4        Ackermann Hedy   F  1946.0   Alterswil    42 01:23:29.300000   \n",
       "\n",
       "      Pace    Place  MinTemp  MaxTemp Weather  \\\n",
       "0 00:04:09  Kerzers      NaN      NaN     NaN   \n",
       "1 00:03:40  Kerzers      NaN      NaN     NaN   \n",
       "2 00:04:50  Kerzers      NaN      NaN     NaN   \n",
       "3 00:05:30  Kerzers      NaN      NaN     NaN   \n",
       "4 00:05:33  Kerzers      NaN      NaN     NaN   \n",
       "\n",
       "                                            RaceID  \\\n",
       "0  http://services.datasport.com/2000/lauf/kerzers   \n",
       "1  http://services.datasport.com/2000/lauf/kerzers   \n",
       "2  http://services.datasport.com/2000/lauf/kerzers   \n",
       "3  http://services.datasport.com/2000/lauf/kerzers   \n",
       "4  http://services.datasport.com/2000/lauf/kerzers   \n",
       "\n",
       "                        UserID  \n",
       "0      Abgottspon Peter 1974.0  \n",
       "1     Abplanalp Michael 1964.0  \n",
       "2            Abt Werner 1947.0  \n",
       "3  Ackermann Antoinette 1953.0  \n",
       "4        Ackermann Hedy 1946.0  "
      ]
     },
     "execution_count": 3,
     "metadata": {},
     "output_type": "execute_result"
    }
   ],
   "source": [
    "full_df.head()"
   ]
  }
 ],
 "metadata": {
  "kernelspec": {
   "display_name": "Python 3",
   "language": "python",
   "name": "python3"
  },
  "language_info": {
   "codemirror_mode": {
    "name": "ipython",
    "version": 3
   },
   "file_extension": ".py",
   "mimetype": "text/x-python",
   "name": "python",
   "nbconvert_exporter": "python",
   "pygments_lexer": "ipython3",
   "version": "3.5.2"
  },
  "latex_envs": {
   "LaTeX_envs_menu_present": true,
   "bibliofile": "biblio.bib",
   "cite_by": "apalike",
   "current_citInitial": 1,
   "eqLabelWithNumbers": true,
   "eqNumInitial": 1,
   "labels_anchors": false,
   "latex_user_defs": false,
   "report_style_numbering": false,
   "user_envs_cfg": false
  },
  "toc": {
   "colors": {
    "hover_highlight": "#DAA520",
    "running_highlight": "#FF0000",
    "selected_highlight": "#FFD700"
   },
   "moveMenuLeft": true,
   "nav_menu": {
    "height": "12px",
    "width": "252px"
   },
   "navigate_menu": true,
   "number_sections": false,
   "sideBar": true,
   "threshold": 4,
   "toc_cell": true,
   "toc_position": {
    "height": "543px",
    "left": "0px",
    "right": "auto",
    "top": "129px",
    "width": "212px"
   },
   "toc_section_display": "block",
   "toc_window_display": false
  }
 },
 "nbformat": 4,
 "nbformat_minor": 2
}
