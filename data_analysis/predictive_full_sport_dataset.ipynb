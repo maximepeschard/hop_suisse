{
 "cells": [
  {
   "cell_type": "code",
   "execution_count": 1,
   "metadata": {
    "collapsed": false,
    "run_control": {
     "frozen": false,
     "read_only": false
    }
   },
   "outputs": [
    {
     "data": {
      "text/html": [
       "<style>\n",
       ".lev1 {margin-left: 80px}\n",
       ".lev2 {margin-left: 100px}\n",
       ".lev3 {margin-left: 120px}\n",
       ".lev4 {margin-left: 140px}\n",
       ".lev5 {margin-left: 160px}\n",
       ".lev6 {margin-left: 180px}\n",
       "</style>"
      ],
      "text/plain": [
       "<IPython.core.display.HTML object>"
      ]
     },
     "execution_count": 1,
     "metadata": {},
     "output_type": "execute_result"
    }
   ],
   "source": [
    "from IPython.display import HTML\n",
    "\n",
    "HTML(\"\"\"<style>\n",
    ".lev1 {margin-left: 80px}\n",
    ".lev2 {margin-left: 100px}\n",
    ".lev3 {margin-left: 120px}\n",
    ".lev4 {margin-left: 140px}\n",
    ".lev5 {margin-left: 160px}\n",
    ".lev6 {margin-left: 180px}\n",
    "</style>\"\"\")"
   ]
  },
  {
   "cell_type": "markdown",
   "metadata": {
    "run_control": {
     "frozen": false,
     "read_only": false
    },
    "toc": "true"
   },
   "source": [
    "# Table of Contents\n",
    " <p><div class=\"lev2 toc-item\"><a href=\"#Loading-and-cleaning-the-full-dataset:\" data-toc-modified-id=\"Loading-and-cleaning-the-full-dataset:-01\"><span class=\"toc-item-num\">0.1&nbsp;&nbsp;</span>Loading and cleaning the <em>full dataset</em>:</a></div><div class=\"lev2 toc-item\"><a href=\"#Preparing-the-time-series\" data-toc-modified-id=\"Preparing-the-time-series-02\"><span class=\"toc-item-num\">0.2&nbsp;&nbsp;</span>Preparing the time-series</a></div>"
   ]
  },
  {
   "cell_type": "markdown",
   "metadata": {
    "run_control": {
     "frozen": false,
     "read_only": false
    }
   },
   "source": [
    "<center>\n",
    "\n",
    "<big><b>\n",
    " Predictive Statistics on the full Datasport dataset\n",
    "</b></big>\n",
    "\n",
    "</center>"
   ]
  },
  {
   "cell_type": "markdown",
   "metadata": {
    "collapsed": true,
    "run_control": {
     "frozen": false,
     "read_only": false
    }
   },
   "source": [
    "This article on \n",
    "[fivethirtyeight](http://fivethirtyeight.com/features/tell-us-two-things-and-well-tell-you-how-fast-youd-run-a-marathon/) \n",
    "summarises the results of a recent \n",
    "[study](https://bmcsportsscimedrehabil.biomedcentral.com/articles/10.1186/s13102-016-0052-y).\n",
    "The authors improved a long-standing prective model from \n",
    "[1981](http://www.runscore.com/coursemeasurement/Articles/ARHE.pdf),\n",
    "that estimates the performance (min) of an athlete on the next race, based the distance and performance on the previous one."
   ]
  },
  {
   "cell_type": "code",
   "execution_count": 1,
   "metadata": {
    "collapsed": true,
    "run_control": {
     "frozen": false,
     "read_only": false
    }
   },
   "outputs": [],
   "source": [
    "import pandas as pd\n",
    "import numpy as np\n",
    "\n",
    "import matplotlib.pyplot as plt\n",
    "%matplotlib inline\n",
    "\n",
    "import datetime\n",
    "from scipy import stats\n",
    "\n",
    "import seaborn as sns\n",
    "sns.set_context('notebook')\n",
    "%config InlineBackend.figure_format = 'retina'\n",
    "\n",
    "import powerlaw "
   ]
  },
  {
   "cell_type": "markdown",
   "metadata": {},
   "source": [
    "## Loading and cleaning the _full dataset_:"
   ]
  },
  {
   "cell_type": "code",
   "execution_count": 11,
   "metadata": {
    "collapsed": false
   },
   "outputs": [
    {
     "data": {
      "text/html": [
       "<div>\n",
       "<table border=\"1\" class=\"dataframe\">\n",
       "  <thead>\n",
       "    <tr style=\"text-align: right;\">\n",
       "      <th></th>\n",
       "      <th>Race</th>\n",
       "      <th>Date</th>\n",
       "      <th>Distance</th>\n",
       "      <th>Sex</th>\n",
       "      <th>Year</th>\n",
       "      <th>Time</th>\n",
       "      <th>Pace</th>\n",
       "      <th>UserID</th>\n",
       "    </tr>\n",
       "  </thead>\n",
       "  <tbody>\n",
       "    <tr>\n",
       "      <th>0</th>\n",
       "      <td>Kerzerslauf</td>\n",
       "      <td>sam. 18.03.2000</td>\n",
       "      <td>15.0</td>\n",
       "      <td>M</td>\n",
       "      <td>1974.0</td>\n",
       "      <td>01:02:25</td>\n",
       "      <td>00:04:09</td>\n",
       "      <td>Abgottspon Peter 1974.0</td>\n",
       "    </tr>\n",
       "    <tr>\n",
       "      <th>1</th>\n",
       "      <td>Kerzerslauf</td>\n",
       "      <td>sam. 18.03.2000</td>\n",
       "      <td>15.0</td>\n",
       "      <td>M</td>\n",
       "      <td>1964.0</td>\n",
       "      <td>00:55:11.700000</td>\n",
       "      <td>00:03:40</td>\n",
       "      <td>Abplanalp Michael 1964.0</td>\n",
       "    </tr>\n",
       "    <tr>\n",
       "      <th>2</th>\n",
       "      <td>Kerzerslauf</td>\n",
       "      <td>sam. 18.03.2000</td>\n",
       "      <td>15.0</td>\n",
       "      <td>M</td>\n",
       "      <td>1947.0</td>\n",
       "      <td>01:12:42.900000</td>\n",
       "      <td>00:04:50</td>\n",
       "      <td>Abt Werner 1947.0</td>\n",
       "    </tr>\n",
       "  </tbody>\n",
       "</table>\n",
       "</div>"
      ],
      "text/plain": [
       "          Race             Date  Distance Sex    Year            Time  \\\n",
       "0  Kerzerslauf  sam. 18.03.2000      15.0   M  1974.0        01:02:25   \n",
       "1  Kerzerslauf  sam. 18.03.2000      15.0   M  1964.0 00:55:11.700000   \n",
       "2  Kerzerslauf  sam. 18.03.2000      15.0   M  1947.0 01:12:42.900000   \n",
       "\n",
       "      Pace                    UserID  \n",
       "0 00:04:09   Abgottspon Peter 1974.0  \n",
       "1 00:03:40  Abplanalp Michael 1964.0  \n",
       "2 00:04:50         Abt Werner 1947.0  "
      ]
     },
     "execution_count": 11,
     "metadata": {},
     "output_type": "execute_result"
    }
   ],
   "source": [
    "full_df = pd.read_pickle('../../df_userID.pickle')\n",
    "\n",
    "#  removing useless features\n",
    "full_df.drop(['MinTemp','MaxTemp','Weather',\n",
    "              'LivingPlace','Rank','Category','Name',\n",
    "              'RaceYear','RaceMonth','RaceID','Place'],axis=1,inplace=True)\n",
    "\n",
    "full_df.head(3)"
   ]
  },
  {
   "cell_type": "markdown",
   "metadata": {},
   "source": [
    "## Preparing the time-series"
   ]
  },
  {
   "cell_type": "code",
   "execution_count": 16,
   "metadata": {
    "collapsed": false
   },
   "outputs": [],
   "source": [
    "users_by_activity = full_df.UserID.value_counts()"
   ]
  },
  {
   "cell_type": "markdown",
   "metadata": {},
   "source": [
    "Select runners with __more than 10 races__:"
   ]
  },
  {
   "cell_type": "code",
   "execution_count": 46,
   "metadata": {
    "collapsed": false
   },
   "outputs": [
    {
     "name": "stdout",
     "output_type": "stream",
     "text": [
      "number of runners with more than races: 27494 - 5.17 % of total\n"
     ]
    }
   ],
   "source": [
    "active_users  = users_by_activity[users_by_activity.values>10]\n",
    "\n",
    "print('number of runners with more than races:',len(active_users),'-',\n",
    "      round(len(active_users)/len(users_by_activity)*100,2),'% of total')"
   ]
  },
  {
   "cell_type": "code",
   "execution_count": null,
   "metadata": {
    "collapsed": true
   },
   "outputs": [],
   "source": [
    "# user_grouped = full_df.groupby('UserID',as_index=False)"
   ]
  },
  {
   "cell_type": "code",
   "execution_count": null,
   "metadata": {
    "collapsed": true
   },
   "outputs": [],
   "source": []
  },
  {
   "cell_type": "code",
   "execution_count": null,
   "metadata": {
    "collapsed": true
   },
   "outputs": [],
   "source": []
  },
  {
   "cell_type": "code",
   "execution_count": null,
   "metadata": {
    "collapsed": true
   },
   "outputs": [],
   "source": []
  },
  {
   "cell_type": "code",
   "execution_count": null,
   "metadata": {
    "collapsed": true
   },
   "outputs": [],
   "source": []
  },
  {
   "cell_type": "code",
   "execution_count": null,
   "metadata": {
    "collapsed": true
   },
   "outputs": [],
   "source": []
  }
 ],
 "metadata": {
  "kernelspec": {
   "display_name": "Python 3",
   "language": "python",
   "name": "python3"
  },
  "language_info": {
   "codemirror_mode": {
    "name": "ipython",
    "version": 3
   },
   "file_extension": ".py",
   "mimetype": "text/x-python",
   "name": "python",
   "nbconvert_exporter": "python",
   "pygments_lexer": "ipython3",
   "version": "3.5.2"
  },
  "latex_envs": {
   "LaTeX_envs_menu_present": true,
   "bibliofile": "biblio.bib",
   "cite_by": "apalike",
   "current_citInitial": 1,
   "eqLabelWithNumbers": true,
   "eqNumInitial": 1,
   "labels_anchors": false,
   "latex_user_defs": false,
   "report_style_numbering": false,
   "user_envs_cfg": false
  },
  "toc": {
   "colors": {
    "hover_highlight": "#DAA520",
    "running_highlight": "#FF0000",
    "selected_highlight": "#FFD700"
   },
   "moveMenuLeft": true,
   "nav_menu": {
    "height": "12px",
    "width": "252px"
   },
   "navigate_menu": true,
   "number_sections": false,
   "sideBar": true,
   "threshold": 4,
   "toc_cell": true,
   "toc_position": {
    "height": "543px",
    "left": "0px",
    "right": "auto",
    "top": "129px",
    "width": "212px"
   },
   "toc_section_display": "block",
   "toc_window_display": false
  }
 },
 "nbformat": 4,
 "nbformat_minor": 2
}
