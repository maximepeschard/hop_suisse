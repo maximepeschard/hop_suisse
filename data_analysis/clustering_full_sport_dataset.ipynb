{
 "cells": [
  {
   "cell_type": "code",
   "execution_count": 1,
   "metadata": {
    "collapsed": false,
    "run_control": {
     "frozen": false,
     "read_only": false
    }
   },
   "outputs": [
    {
     "data": {
      "text/html": [
       "<style>\n",
       ".lev1 {margin-left: 80px}\n",
       ".lev2 {margin-left: 100px}\n",
       ".lev3 {margin-left: 120px}\n",
       ".lev4 {margin-left: 140px}\n",
       ".lev5 {margin-left: 160px}\n",
       ".lev6 {margin-left: 180px}\n",
       "</style>"
      ],
      "text/plain": [
       "<IPython.core.display.HTML object>"
      ]
     },
     "execution_count": 1,
     "metadata": {},
     "output_type": "execute_result"
    }
   ],
   "source": [
    "from IPython.display import HTML\n",
    "\n",
    "HTML(\"\"\"<style>\n",
    ".lev1 {margin-left: 80px}\n",
    ".lev2 {margin-left: 100px}\n",
    ".lev3 {margin-left: 120px}\n",
    ".lev4 {margin-left: 140px}\n",
    ".lev5 {margin-left: 160px}\n",
    ".lev6 {margin-left: 180px}\n",
    "</style>\"\"\")"
   ]
  },
  {
   "cell_type": "markdown",
   "metadata": {
    "run_control": {
     "frozen": false,
     "read_only": false
    },
    "toc": "true"
   },
   "source": [
    "# Table of Contents\n",
    " <p><div class=\"lev1 toc-item\"><a href=\"#Preparing-the-data\" data-toc-modified-id=\"Preparing-the-data-1\"><span class=\"toc-item-num\">1&nbsp;&nbsp;</span>Preparing the data</a></div><div class=\"lev2 toc-item\"><a href=\"#Loading-and-cleaning-the-full-dataset:\" data-toc-modified-id=\"Loading-and-cleaning-the-full-dataset:-11\"><span class=\"toc-item-num\">1.1&nbsp;&nbsp;</span>Loading and cleaning the full dataset:</a></div><div class=\"lev2 toc-item\"><a href=\"#Preparing-the-time-series\" data-toc-modified-id=\"Preparing-the-time-series-12\"><span class=\"toc-item-num\">1.2&nbsp;&nbsp;</span>Preparing the time-series</a></div><div class=\"lev1 toc-item\"><a href=\"#Clustering-time-series\" data-toc-modified-id=\"Clustering-time-series-2\"><span class=\"toc-item-num\">2&nbsp;&nbsp;</span>Clustering time-series</a></div><div class=\"lev2 toc-item\"><a href=\"#K-nn-+-DTW\" data-toc-modified-id=\"K-nn-+-DTW-21\"><span class=\"toc-item-num\">2.1&nbsp;&nbsp;</span>K-nn + DTW</a></div>"
   ]
  },
  {
   "cell_type": "markdown",
   "metadata": {},
   "source": [
    "<center><big><b>\n",
    " Clustering professional/non-professional on the full Datasport dataset\n",
    "</b></big></center>"
   ]
  },
  {
   "cell_type": "markdown",
   "metadata": {},
   "source": [
    "<center>\n",
    "In this notebook we will also use <i> unsupervised </i> learning techniques to try to distinguish \n",
    "<i> professional runner, from non-professional ones. </i>   \n",
    "\n",
    "More generally, we look for any signature of such distinction that could come from  the features present in our dataset.\n",
    "</center>"
   ]
  },
  {
   "cell_type": "code",
   "execution_count": 1,
   "metadata": {
    "collapsed": true,
    "run_control": {
     "frozen": false,
     "read_only": false
    }
   },
   "outputs": [],
   "source": [
    "import pandas as pd\n",
    "import numpy as np\n",
    "\n",
    "import matplotlib.pyplot as plt\n",
    "%matplotlib inline\n",
    "\n",
    "import datetime\n",
    "from scipy import stats\n",
    "\n",
    "import seaborn as sns\n",
    "sns.set_context('notebook')\n",
    "%config InlineBackend.figure_format = 'retina'\n",
    "\n",
    "import powerlaw "
   ]
  },
  {
   "cell_type": "markdown",
   "metadata": {
    "run_control": {
     "frozen": false,
     "read_only": false
    }
   },
   "source": [
    "# Preparing the data"
   ]
  },
  {
   "cell_type": "markdown",
   "metadata": {
    "run_control": {
     "frozen": false,
     "read_only": false
    }
   },
   "source": [
    "## Loading and cleaning the full dataset:"
   ]
  },
  {
   "cell_type": "code",
   "execution_count": 10,
   "metadata": {
    "collapsed": false,
    "run_control": {
     "frozen": false,
     "read_only": false
    }
   },
   "outputs": [],
   "source": [
    "full_df = pd.read_pickle('../../df_userID.pickle')\n",
    "\n",
    "#  removing useless features\n",
    "full_df.drop(['MinTemp','MaxTemp','Weather',\n",
    "              'LivingPlace','Rank','Category','Name',\n",
    "              'RaceMonth','RaceID','Place'],axis=1,inplace=True)"
   ]
  },
  {
   "cell_type": "markdown",
   "metadata": {
    "run_control": {
     "frozen": false,
     "read_only": false
    }
   },
   "source": [
    "global data transformations:"
   ]
  },
  {
   "cell_type": "code",
   "execution_count": 11,
   "metadata": {
    "collapsed": false,
    "run_control": {
     "frozen": false,
     "read_only": false
    }
   },
   "outputs": [],
   "source": [
    "# in order to plot age (@time of the event!) instead of year of birth\n",
    "full_df['age'] = full_df.RaceYear - full_df.Year\n",
    "\n",
    "# RaceYear and Year were needed only to compute the runner's age  AT THE year of the events \n",
    "full_df.drop('Year',axis=1,inplace=True)\n",
    "full_df.drop('RaceYear',axis=1,inplace=True)\n",
    "\n",
    "# Round `Distance` feature:\n",
    "full_df.Distance = full_df.Distance.round()\n",
    "full_df.Distance = full_df.Distance.astype('int')\n",
    "\n",
    "# transform timedelta in minutes!\n",
    "full_df.Time = full_df.Time.astype('timedelta64[m]')\n",
    "\n",
    "# transform Pace timedelta in minutes - mind that numbers are  in decimal and NOT in Sexagesimal!\n",
    "full_df.Pace = round(full_df.Pace.astype('timedelta64[s]')/60.0,2)\n",
    "\n",
    "# these 2 are actually the same event!\n",
    "full_df.Race = full_df.Race.apply(\n",
    "    lambda x: 'Lucerne Marathon, Luzern' if x == 'SwissCityMarathon - Lucerne, Luzern' else x\n",
    ")"
   ]
  },
  {
   "cell_type": "code",
   "execution_count": 12,
   "metadata": {
    "collapsed": false,
    "run_control": {
     "frozen": false,
     "read_only": false
    }
   },
   "outputs": [
    {
     "data": {
      "text/html": [
       "<div>\n",
       "<table border=\"1\" class=\"dataframe\">\n",
       "  <thead>\n",
       "    <tr style=\"text-align: right;\">\n",
       "      <th></th>\n",
       "      <th>Race</th>\n",
       "      <th>Date</th>\n",
       "      <th>Distance</th>\n",
       "      <th>Sex</th>\n",
       "      <th>Time</th>\n",
       "      <th>Pace</th>\n",
       "      <th>UserID</th>\n",
       "      <th>age</th>\n",
       "    </tr>\n",
       "  </thead>\n",
       "  <tbody>\n",
       "    <tr>\n",
       "      <th>0</th>\n",
       "      <td>Kerzerslauf</td>\n",
       "      <td>sam. 18.03.2000</td>\n",
       "      <td>15</td>\n",
       "      <td>M</td>\n",
       "      <td>62.0</td>\n",
       "      <td>4.15</td>\n",
       "      <td>Abgottspon Peter 1974.0</td>\n",
       "      <td>26.0</td>\n",
       "    </tr>\n",
       "    <tr>\n",
       "      <th>1</th>\n",
       "      <td>Kerzerslauf</td>\n",
       "      <td>sam. 18.03.2000</td>\n",
       "      <td>15</td>\n",
       "      <td>M</td>\n",
       "      <td>55.0</td>\n",
       "      <td>3.67</td>\n",
       "      <td>Abplanalp Michael 1964.0</td>\n",
       "      <td>36.0</td>\n",
       "    </tr>\n",
       "    <tr>\n",
       "      <th>2</th>\n",
       "      <td>Kerzerslauf</td>\n",
       "      <td>sam. 18.03.2000</td>\n",
       "      <td>15</td>\n",
       "      <td>M</td>\n",
       "      <td>72.0</td>\n",
       "      <td>4.83</td>\n",
       "      <td>Abt Werner 1947.0</td>\n",
       "      <td>53.0</td>\n",
       "    </tr>\n",
       "    <tr>\n",
       "      <th>3</th>\n",
       "      <td>Kerzerslauf</td>\n",
       "      <td>sam. 18.03.2000</td>\n",
       "      <td>15</td>\n",
       "      <td>F</td>\n",
       "      <td>82.0</td>\n",
       "      <td>5.50</td>\n",
       "      <td>Ackermann Antoinette 1953.0</td>\n",
       "      <td>47.0</td>\n",
       "    </tr>\n",
       "    <tr>\n",
       "      <th>4</th>\n",
       "      <td>Kerzerslauf</td>\n",
       "      <td>sam. 18.03.2000</td>\n",
       "      <td>15</td>\n",
       "      <td>F</td>\n",
       "      <td>83.0</td>\n",
       "      <td>5.55</td>\n",
       "      <td>Ackermann Hedy 1946.0</td>\n",
       "      <td>54.0</td>\n",
       "    </tr>\n",
       "  </tbody>\n",
       "</table>\n",
       "</div>"
      ],
      "text/plain": [
       "          Race             Date  Distance Sex  Time  Pace  \\\n",
       "0  Kerzerslauf  sam. 18.03.2000        15   M  62.0  4.15   \n",
       "1  Kerzerslauf  sam. 18.03.2000        15   M  55.0  3.67   \n",
       "2  Kerzerslauf  sam. 18.03.2000        15   M  72.0  4.83   \n",
       "3  Kerzerslauf  sam. 18.03.2000        15   F  82.0  5.50   \n",
       "4  Kerzerslauf  sam. 18.03.2000        15   F  83.0  5.55   \n",
       "\n",
       "                        UserID   age  \n",
       "0      Abgottspon Peter 1974.0  26.0  \n",
       "1     Abplanalp Michael 1964.0  36.0  \n",
       "2            Abt Werner 1947.0  53.0  \n",
       "3  Ackermann Antoinette 1953.0  47.0  \n",
       "4        Ackermann Hedy 1946.0  54.0  "
      ]
     },
     "execution_count": 12,
     "metadata": {},
     "output_type": "execute_result"
    }
   ],
   "source": [
    "full_df.head()"
   ]
  },
  {
   "cell_type": "markdown",
   "metadata": {
    "run_control": {
     "frozen": false,
     "read_only": false
    }
   },
   "source": [
    "## Preparing the time-series"
   ]
  },
  {
   "cell_type": "code",
   "execution_count": 16,
   "metadata": {
    "collapsed": false,
    "run_control": {
     "frozen": false,
     "read_only": false
    }
   },
   "outputs": [
    {
     "name": "stdout",
     "output_type": "stream",
     "text": [
      "remember we have 531426  unique runners\n"
     ]
    }
   ],
   "source": [
    "print('remember we have',full_df.UserID.nunique(),' unique runners')"
   ]
  },
  {
   "cell_type": "markdown",
   "metadata": {
    "run_control": {
     "frozen": false,
     "read_only": false
    }
   },
   "source": [
    "we the __broad distribution__ of the events/runner, that we saw in other notebooks:"
   ]
  },
  {
   "cell_type": "code",
   "execution_count": 19,
   "metadata": {
    "collapsed": false,
    "run_control": {
     "frozen": false,
     "read_only": false
    }
   },
   "outputs": [
    {
     "data": {
      "image/png": "[encoded data removed]",
      "text/plain": [
       "<matplotlib.figure.Figure at 0x15e9be940>"
      ]
     },
     "metadata": {
      "image/png": {
       "height": 349,
       "width": 504
      }
     },
     "output_type": "display_data"
    }
   ],
   "source": [
    "plt.loglog(full_df.UserID.value_counts().value_counts(),marker='.',linestyle='')\n",
    "\n",
    "plt.xscale('log')\n",
    "plt.yscale('log')\n",
    "plt.xlabel('number of events/runner',size=16)\n",
    "plt.ylabel('number of runners',size=16);"
   ]
  },
  {
   "cell_type": "markdown",
   "metadata": {
    "run_control": {
     "frozen": false,
     "read_only": false
    }
   },
   "source": [
    "Select runners with __more than $\\tau$ races__:"
   ]
  },
  {
   "cell_type": "code",
   "execution_count": 20,
   "metadata": {
    "collapsed": false,
    "run_control": {
     "frozen": false,
     "read_only": false
    }
   },
   "outputs": [
    {
     "name": "stdout",
     "output_type": "stream",
     "text": [
      "number of runners with more than 10 races: 27494 - 5.17 % of total\n"
     ]
    }
   ],
   "source": [
    "# here we can set the LOWER cut-off we want \n",
    "tau = 10\n",
    "\n",
    "users_by_activity = full_df.UserID.value_counts()\n",
    "active_users = users_by_activity[users_by_activity.values > tau]\n",
    "\n",
    "print('number of runners with more than',tau,'races:',\n",
    "      len(active_users), '-',\n",
    "      round(len(active_users) / len(users_by_activity) * 100, 2), '% of total')"
   ]
  },
  {
   "cell_type": "code",
   "execution_count": null,
   "metadata": {
    "collapsed": true,
    "run_control": {
     "frozen": false,
     "read_only": false
    }
   },
   "outputs": [],
   "source": []
  },
  {
   "cell_type": "code",
   "execution_count": null,
   "metadata": {
    "collapsed": true,
    "run_control": {
     "frozen": false,
     "read_only": false
    }
   },
   "outputs": [],
   "source": []
  },
  {
   "cell_type": "markdown",
   "metadata": {
    "collapsed": true,
    "run_control": {
     "frozen": false,
     "read_only": false
    }
   },
   "source": [
    "# Clustering time-series"
   ]
  },
  {
   "cell_type": "markdown",
   "metadata": {
    "run_control": {
     "frozen": false,
     "read_only": false
    }
   },
   "source": [
    "## K-nn + DTW"
   ]
  },
  {
   "cell_type": "markdown",
   "metadata": {
    "collapsed": true,
    "run_control": {
     "frozen": false,
     "read_only": false
    }
   },
   "source": [
    "How do we tackle this problem - in python ?   \n",
    "The 2nd answer in [this post](http://stats.stackexchange.com/questions/66027/time-series-classification-very-poor-results)\n",
    "on cross-validated mention to type of approaches.    \n",
    "The first one, based on k-NN algorithm combined with DTW is described \n",
    "in [this](https://github.com/alexminnaar/time-series-classification-and-clustering) and \n",
    "[this other](https://github.com/markdregan/K-Nearest-Neighbors-with-Dynamic-Time-Warping) github repo."
   ]
  },
  {
   "cell_type": "code",
   "execution_count": null,
   "metadata": {
    "collapsed": true,
    "run_control": {
     "frozen": false,
     "read_only": false
    }
   },
   "outputs": [],
   "source": []
  },
  {
   "cell_type": "code",
   "execution_count": null,
   "metadata": {
    "collapsed": true,
    "run_control": {
     "frozen": false,
     "read_only": false
    }
   },
   "outputs": [],
   "source": []
  },
  {
   "cell_type": "code",
   "execution_count": null,
   "metadata": {
    "collapsed": true,
    "run_control": {
     "frozen": false,
     "read_only": false
    }
   },
   "outputs": [],
   "source": []
  }
 ],
 "metadata": {
  "kernelspec": {
   "display_name": "Python 3",
   "language": "python",
   "name": "python3"
  },
  "language_info": {
   "codemirror_mode": {
    "name": "ipython",
    "version": 3
   },
   "file_extension": ".py",
   "mimetype": "text/x-python",
   "name": "python",
   "nbconvert_exporter": "python",
   "pygments_lexer": "ipython3",
   "version": "3.5.2"
  },
  "latex_envs": {
   "LaTeX_envs_menu_present": true,
   "bibliofile": "biblio.bib",
   "cite_by": "apalike",
   "current_citInitial": 1,
   "eqLabelWithNumbers": true,
   "eqNumInitial": 1,
   "labels_anchors": false,
   "latex_user_defs": false,
   "report_style_numbering": false,
   "user_envs_cfg": false
  },
  "toc": {
   "colors": {
    "hover_highlight": "#DAA520",
    "running_highlight": "#FF0000",
    "selected_highlight": "#FFD700"
   },
   "moveMenuLeft": true,
   "nav_menu": {
    "height": "12px",
    "width": "252px"
   },
   "navigate_menu": true,
   "number_sections": false,
   "sideBar": false,
   "threshold": 4,
   "toc_cell": true,
   "toc_position": {
    "height": "186px",
    "left": "931px",
    "right": "auto",
    "top": "32px",
    "width": "194px"
   },
   "toc_section_display": "block",
   "toc_window_display": true
  }
 },
 "nbformat": 4,
 "nbformat_minor": 2
}
