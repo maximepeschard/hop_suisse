{
 "cells": [
  {
   "cell_type": "markdown",
   "metadata": {
    "run_control": {
     "frozen": false,
     "read_only": false
    },
    "toc": "true"
   },
   "source": [
    "# Table of Contents\n",
    " <p><div class=\"lev1 toc-item\"><a href=\"#Set-up\" data-toc-modified-id=\"Set-up-1\"><span class=\"toc-item-num\">1&nbsp;&nbsp;</span>Set up</a></div><div class=\"lev3 toc-item\"><a href=\"#Figure-1\" data-toc-modified-id=\"Figure-1-101\"><span class=\"toc-item-num\">1.0.1&nbsp;&nbsp;</span>Figure 1</a></div><div class=\"lev1 toc-item\"><a href=\"#Introduction\" data-toc-modified-id=\"Introduction-2\"><span class=\"toc-item-num\">2&nbsp;&nbsp;</span>Introduction</a></div><div class=\"lev1 toc-item\"><a href=\"#Basic-Methods\" data-toc-modified-id=\"Basic-Methods-3\"><span class=\"toc-item-num\">3&nbsp;&nbsp;</span>Basic Methods</a></div><div class=\"lev2 toc-item\"><a href=\"#Visualization\" data-toc-modified-id=\"Visualization-31\"><span class=\"toc-item-num\">3.1&nbsp;&nbsp;</span>Visualization</a></div><div class=\"lev3 toc-item\"><a href=\"#PDF-Linear-vs-Logarithmic-Bins\" data-toc-modified-id=\"PDF-Linear-vs-Logarithmic-Bins-311\"><span class=\"toc-item-num\">3.1.1&nbsp;&nbsp;</span>PDF Linear vs Logarithmic Bins</a></div><div class=\"lev3 toc-item\"><a href=\"#Figure-2\" data-toc-modified-id=\"Figure-2-312\"><span class=\"toc-item-num\">3.1.2&nbsp;&nbsp;</span>Figure 2</a></div><div class=\"lev2 toc-item\"><a href=\"#Identifying-the-Scaling-Range\" data-toc-modified-id=\"Identifying-the-Scaling-Range-32\"><span class=\"toc-item-num\">3.2&nbsp;&nbsp;</span>Identifying the Scaling Range</a></div><div class=\"lev3 toc-item\"><a href=\"#Figure-3\" data-toc-modified-id=\"Figure-3-321\"><span class=\"toc-item-num\">3.2.1&nbsp;&nbsp;</span>Figure 3</a></div><div class=\"lev2 toc-item\"><a href=\"#Continuous-vs.-Discrete-Data\" data-toc-modified-id=\"Continuous-vs.-Discrete-Data-33\"><span class=\"toc-item-num\">3.3&nbsp;&nbsp;</span>Continuous vs. Discrete Data</a></div><div class=\"lev1 toc-item\"><a href=\"#Comparing-Candidate-Distributions\" data-toc-modified-id=\"Comparing-Candidate-Distributions-4\"><span class=\"toc-item-num\">4&nbsp;&nbsp;</span>Comparing Candidate Distributions</a></div><div class=\"lev2 toc-item\"><a href=\"#Generative-Mechanisms\" data-toc-modified-id=\"Generative-Mechanisms-41\"><span class=\"toc-item-num\">4.1&nbsp;&nbsp;</span>Generative Mechanisms</a></div><div class=\"lev3 toc-item\"><a href=\"#Figure-4\" data-toc-modified-id=\"Figure-4-411\"><span class=\"toc-item-num\">4.1.1&nbsp;&nbsp;</span>Figure 4</a></div><div class=\"lev1 toc-item\"><a href=\"#Creating-Simulated-Data\" data-toc-modified-id=\"Creating-Simulated-Data-5\"><span class=\"toc-item-num\">5&nbsp;&nbsp;</span>Creating Simulated Data</a></div><div class=\"lev1 toc-item\"><a href=\"#Advanced-Considerations\" data-toc-modified-id=\"Advanced-Considerations-6\"><span class=\"toc-item-num\">6&nbsp;&nbsp;</span>Advanced Considerations</a></div><div class=\"lev2 toc-item\"><a href=\"#Discrete-Distribution-Calculation-and-Estimation\" data-toc-modified-id=\"Discrete-Distribution-Calculation-and-Estimation-61\"><span class=\"toc-item-num\">6.1&nbsp;&nbsp;</span>Discrete Distribution Calculation and Estimation</a></div><div class=\"lev2 toc-item\"><a href=\"#Nested-Distributions\" data-toc-modified-id=\"Nested-Distributions-62\"><span class=\"toc-item-num\">6.2&nbsp;&nbsp;</span>Nested Distributions</a></div><div class=\"lev2 toc-item\"><a href=\"#Restricted-Parameter-Range\" data-toc-modified-id=\"Restricted-Parameter-Range-63\"><span class=\"toc-item-num\">6.3&nbsp;&nbsp;</span>Restricted Parameter Range</a></div><div class=\"lev2 toc-item\"><a href=\"#Multiple-Possible-Fits\" data-toc-modified-id=\"Multiple-Possible-Fits-64\"><span class=\"toc-item-num\">6.4&nbsp;&nbsp;</span>Multiple Possible Fits</a></div><div class=\"lev3 toc-item\"><a href=\"#Figure-5\" data-toc-modified-id=\"Figure-5-641\"><span class=\"toc-item-num\">6.4.1&nbsp;&nbsp;</span>Figure 5</a></div><div class=\"lev2 toc-item\"><a href=\"#No-Possible-Fits\" data-toc-modified-id=\"No-Possible-Fits-65\"><span class=\"toc-item-num\">6.5&nbsp;&nbsp;</span>No Possible Fits</a></div><div class=\"lev2 toc-item\"><a href=\"#Selecting-xmin-with-Other-Distance-Metrics\" data-toc-modified-id=\"Selecting-xmin-with-Other-Distance-Metrics-66\"><span class=\"toc-item-num\">6.6&nbsp;&nbsp;</span>Selecting x<sub>min</sub> with Other Distance Metrics</a></div><div class=\"lev1 toc-item\"><a href=\"#Supporting-Information\" data-toc-modified-id=\"Supporting-Information-7\"><span class=\"toc-item-num\">7&nbsp;&nbsp;</span>Supporting Information</a></div>"
   ]
  },
  {
   "cell_type": "markdown",
   "metadata": {
    "run_control": {
     "frozen": false,
     "read_only": false
    }
   },
   "source": [
    "# Set up "
   ]
  },
  {
   "cell_type": "code",
   "execution_count": 1,
   "metadata": {
    "collapsed": false,
    "run_control": {
     "frozen": false,
     "read_only": false
    }
   },
   "outputs": [],
   "source": [
    "import pylab\n",
    "# pylab.rcParams['xtick.major.pad']='8'\n",
    "# pylab.rcParams['ytick.major.pad']='8'\n",
    "#pylab.rcParams['font.sans-serif']='Arial'\n",
    "\n",
    "from matplotlib import rc\n",
    "rc('font', family='sans-serif')\n",
    "rc('font', size=10.0)\n",
    "rc('text', usetex=False)\n",
    "\n",
    "\n",
    "from matplotlib.font_manager import FontProperties\n",
    "\n",
    "panel_label_font = FontProperties().copy()\n",
    "panel_label_font.set_weight(\"bold\")\n",
    "panel_label_font.set_size(12.0)\n",
    "panel_label_font.set_family(\"sans-serif\")"
   ]
  },
  {
   "cell_type": "code",
   "execution_count": 2,
   "metadata": {
    "collapsed": true,
    "run_control": {
     "frozen": false,
     "read_only": false
    }
   },
   "outputs": [],
   "source": [
    "# gianrocco's module\n",
    "%matplotlib inline\n",
    "%config InlineBackend.figure_format = 'retina'"
   ]
  },
  {
   "cell_type": "code",
   "execution_count": 3,
   "metadata": {
    "collapsed": false,
    "run_control": {
     "frozen": false,
     "read_only": false
    }
   },
   "outputs": [],
   "source": [
    "from os import listdir\n",
    "files = listdir('.')\n",
    "if 'blackouts.txt' not in files:\n",
    "    import urllib\n",
    "    urllib.request.urlretrieve('https://raw.github.com/jeffalstott/powerlaw/master/manuscript/blackouts.txt', 'blackouts.txt')\n",
    "if 'words.txt' not in files:\n",
    "    import urllib\n",
    "    urllib.request.urlretrieve('https://raw.github.com/jeffalstott/powerlaw/master/manuscript/words.txt', 'words.txt')\n",
    "if 'worm.txt' not in files:\n",
    "    import urllib\n",
    "    urllib.request.urlretrieve('https://raw.github.com/jeffalstott/powerlaw/master/manuscript/worm.txt', 'worm.txt')"
   ]
  },
  {
   "cell_type": "code",
   "execution_count": 4,
   "metadata": {
    "collapsed": false,
    "run_control": {
     "frozen": false,
     "read_only": false
    }
   },
   "outputs": [],
   "source": [
    "from numpy import genfromtxt\n",
    "blackouts = genfromtxt('blackouts.txt')#/10**3\n",
    "words = genfromtxt('words.txt')\n",
    "worm = genfromtxt('worm.txt')\n",
    "worm = worm[worm>0]"
   ]
  },
  {
   "cell_type": "markdown",
   "metadata": {
    "run_control": {
     "frozen": false,
     "read_only": false
    }
   },
   "source": [
    "### Figure 1"
   ]
  },
  {
   "cell_type": "code",
   "execution_count": 5,
   "metadata": {
    "collapsed": false,
    "run_control": {
     "frozen": false,
     "read_only": false
    }
   },
   "outputs": [],
   "source": [
    "def plot_basics(data, data_inst, fig, units):\n",
    "    from powerlaw import plot_pdf, Fit, pdf\n",
    "    annotate_coord = (-.4, .95)\n",
    "    ax1 = fig.add_subplot(n_graphs,n_data,data_inst)\n",
    "    x, y = pdf(data, linear_bins=True)\n",
    "    ind = y>0\n",
    "    y = y[ind]\n",
    "    x = x[:-1]\n",
    "    x = x[ind]\n",
    "    ax1.scatter(x, y, color='r', s=.5)\n",
    "    plot_pdf(data[data>0], ax=ax1, color='b', linewidth=2)\n",
    "    from pylab import setp\n",
    "    setp( ax1.get_xticklabels(), visible=False)\n",
    "\n",
    "    if data_inst==1:\n",
    "        ax1.annotate(\"A\", annotate_coord, xycoords=\"axes fraction\", fontproperties=panel_label_font)\n",
    "\n",
    "    \n",
    "    from mpl_toolkits.axes_grid.inset_locator import inset_axes\n",
    "    ax1in = inset_axes(ax1, width = \"30%\", height = \"30%\", loc=3)\n",
    "    ax1in.hist(data, normed=True, color='b')\n",
    "    ax1in.set_xticks([])\n",
    "    ax1in.set_yticks([])\n",
    "\n",
    "    \n",
    "    ax2 = fig.add_subplot(n_graphs,n_data,n_data+data_inst, sharex=ax1)\n",
    "    plot_pdf(data, ax=ax2, color='b', linewidth=2)\n",
    "    fit = Fit(data, xmin=1, discrete=True)\n",
    "    fit.power_law.plot_pdf(ax=ax2, linestyle=':', color='g')\n",
    "    p = fit.power_law.pdf()\n",
    "\n",
    "    ax2.set_xlim(ax1.get_xlim())\n",
    "    \n",
    "    fit = Fit(data, discrete=True)\n",
    "    fit.power_law.plot_pdf(ax=ax2, linestyle='--', color='g')\n",
    "    from pylab import setp\n",
    "    setp( ax2.get_xticklabels(), visible=False)\n",
    "\n",
    "    if data_inst==1:\n",
    "       ax2.annotate(\"B\", annotate_coord, xycoords=\"axes fraction\", fontproperties=panel_label_font)        \n",
    "       ax2.set_ylabel(u\"p(X)\")# (10^n)\")\n",
    "        \n",
    "    ax3 = fig.add_subplot(n_graphs,n_data,n_data*2+data_inst)#, sharex=ax1)#, sharey=ax2)\n",
    "    fit.power_law.plot_pdf(ax=ax3, linestyle='--', color='g')\n",
    "    fit.exponential.plot_pdf(ax=ax3, linestyle='--', color='r')\n",
    "    fit.plot_pdf(ax=ax3, color='b', linewidth=2)\n",
    "    \n",
    "    ax3.set_ylim(ax2.get_ylim())\n",
    "    ax3.set_xlim(ax1.get_xlim())\n",
    "    \n",
    "    if data_inst==1:\n",
    "        ax3.annotate(\"C\", annotate_coord, xycoords=\"axes fraction\", fontproperties=panel_label_font)\n",
    "\n",
    "    ax3.set_xlabel(units)"
   ]
  },
  {
   "cell_type": "code",
   "execution_count": 6,
   "metadata": {
    "collapsed": false,
    "run_control": {
     "frozen": false,
     "read_only": false
    }
   },
   "outputs": [
    {
     "ename": "NameError",
     "evalue": "name 'figure' is not defined",
     "output_type": "error",
     "traceback": [
      "\u001b[0;31m---------------------------------------------------------------------------\u001b[0m",
      "\u001b[0;31mNameError\u001b[0m                                 Traceback (most recent call last)",
      "\u001b[0;32m<ipython-input-6-e01a2249a169>\u001b[0m in \u001b[0;36m<module>\u001b[0;34m()\u001b[0m\n\u001b[1;32m      1\u001b[0m \u001b[0mn_data\u001b[0m \u001b[0;34m=\u001b[0m \u001b[0;36m3\u001b[0m\u001b[0;34m\u001b[0m\u001b[0m\n\u001b[1;32m      2\u001b[0m \u001b[0mn_graphs\u001b[0m \u001b[0;34m=\u001b[0m \u001b[0;36m4\u001b[0m\u001b[0;34m\u001b[0m\u001b[0m\n\u001b[0;32m----> 3\u001b[0;31m \u001b[0mf\u001b[0m \u001b[0;34m=\u001b[0m \u001b[0mfigure\u001b[0m\u001b[0;34m(\u001b[0m\u001b[0mfigsize\u001b[0m\u001b[0;34m=\u001b[0m\u001b[0;34m(\u001b[0m\u001b[0;36m8\u001b[0m\u001b[0;34m,\u001b[0m\u001b[0;36m11\u001b[0m\u001b[0;34m)\u001b[0m\u001b[0;34m)\u001b[0m\u001b[0;34m\u001b[0m\u001b[0m\n\u001b[0m\u001b[1;32m      4\u001b[0m \u001b[0;34m\u001b[0m\u001b[0m\n\u001b[1;32m      5\u001b[0m \u001b[0mdata\u001b[0m \u001b[0;34m=\u001b[0m \u001b[0mwords\u001b[0m\u001b[0;34m\u001b[0m\u001b[0m\n",
      "\u001b[0;31mNameError\u001b[0m: name 'figure' is not defined"
     ]
    }
   ],
   "source": [
    "n_data = 3\n",
    "n_graphs = 4\n",
    "f = figure(figsize=(8,11))\n",
    "\n",
    "data = words\n",
    "data_inst = 1\n",
    "units = 'Word Frequency'\n",
    "plot_basics(data, data_inst, f, units)\n",
    "\n",
    "data_inst = 2\n",
    "#data = city\n",
    "#units = 'City Population'\n",
    "data = worm\n",
    "units = 'Neuron Connections'\n",
    "plot_basics(data, data_inst, f, units)\n",
    "\n",
    "data = blackouts\n",
    "data_inst = 3\n",
    "units = 'Population Affected\\nby Blackouts'\n",
    "plot_basics(data, data_inst, f, units)\n",
    "\n",
    "f.subplots_adjust(left=None, bottom=None, right=None, top=None, wspace=.3, hspace=.2)\n",
    "figname = 'FigWorkflow'\n",
    "f.savefig(figname+'.eps', bbox_inches='tight')\n",
    "#f.savefig(figname+'.tiff', bbox_inches='tight', dpi=300)"
   ]
  },
  {
   "cell_type": "code",
   "execution_count": 9,
   "metadata": {
    "collapsed": false,
    "run_control": {
     "frozen": false,
     "read_only": false
    }
   },
   "outputs": [],
   "source": [
    "blackouts = blackouts/10**3"
   ]
  },
  {
   "cell_type": "markdown",
   "metadata": {
    "run_control": {
     "frozen": false,
     "read_only": false
    }
   },
   "source": [
    "# Introduction"
   ]
  },
  {
   "cell_type": "code",
   "execution_count": 7,
   "metadata": {
    "collapsed": false,
    "run_control": {
     "frozen": false,
     "read_only": false
    }
   },
   "outputs": [
    {
     "name": "stdout",
     "output_type": "stream",
     "text": [
      "2.27263721983\n",
      "0.165683253723\n"
     ]
    },
    {
     "name": "stderr",
     "output_type": "stream",
     "text": [
      "Calculating best minimal value for power law fit\n",
      "/Library/Frameworks/Python.framework/Versions/3.5/lib/python3.5/site-packages/powerlaw.py:692: RuntimeWarning: invalid value encountered in true_divide\n",
      "  (Theoretical_CDF * (1 - Theoretical_CDF))\n"
     ]
    }
   ],
   "source": [
    "data = blackouts\n",
    "####\n",
    "import powerlaw\n",
    "fit = powerlaw.Fit(data)\n",
    "print(fit.power_law.alpha)\n",
    "print(fit.power_law.sigma)\n",
    "# fit.distribution_compare('power_law', 'exponential')"
   ]
  },
  {
   "cell_type": "markdown",
   "metadata": {
    "run_control": {
     "frozen": false,
     "read_only": false
    }
   },
   "source": [
    "# Basic Methods"
   ]
  },
  {
   "cell_type": "markdown",
   "metadata": {
    "run_control": {
     "frozen": false,
     "read_only": false
    }
   },
   "source": [
    "## Visualization"
   ]
  },
  {
   "cell_type": "markdown",
   "metadata": {
    "run_control": {
     "frozen": false,
     "read_only": false
    }
   },
   "source": [
    "### PDF Linear vs Logarithmic Bins"
   ]
  },
  {
   "cell_type": "code",
   "execution_count": 8,
   "metadata": {
    "collapsed": false,
    "run_control": {
     "frozen": false,
     "read_only": false
    }
   },
   "outputs": [
    {
     "data": {
      "image/png": "[encoded data removed]",
      "text/plain": [
       "<matplotlib.figure.Figure at 0x101b678d0>"
      ]
     },
     "metadata": {
      "image/png": {
       "height": 266,
       "width": 395
      }
     },
     "output_type": "display_data"
    }
   ],
   "source": [
    "data = words\n",
    "####\n",
    "figPDF = powerlaw.plot_pdf(data, color='b')\n",
    "powerlaw.plot_pdf(data, linear_bins=True, color='r', ax=figPDF)\n",
    "####\n",
    "figPDF.set_ylabel(\"p(X)\")\n",
    "figPDF.set_xlabel(r\"Word Frequency\")\n",
    "figname = 'FigPDF'\n",
    "# savefig(figname+'.eps', bbox_inches='tight')\n",
    "#savefig(figname+'.tiff', bbox_inches='tight', dpi=300)"
   ]
  },
  {
   "cell_type": "markdown",
   "metadata": {
    "run_control": {
     "frozen": false,
     "read_only": false
    }
   },
   "source": [
    "### Figure 2"
   ]
  },
  {
   "cell_type": "code",
   "execution_count": 9,
   "metadata": {
    "collapsed": false
   },
   "outputs": [
    {
     "name": "stderr",
     "output_type": "stream",
     "text": [
      "Calculating best minimal value for power law fit\n",
      "/Library/Frameworks/Python.framework/Versions/3.5/lib/python3.5/site-packages/powerlaw.py:692: RuntimeWarning: invalid value encountered in true_divide\n",
      "  (Theoretical_CDF * (1 - Theoretical_CDF))\n"
     ]
    }
   ],
   "source": [
    "data = words\n",
    "fit = powerlaw.Fit(data, discrete=True)\n",
    "####"
   ]
  },
  {
   "cell_type": "code",
   "execution_count": 12,
   "metadata": {
    "collapsed": false,
    "run_control": {
     "frozen": false,
     "read_only": false
    }
   },
   "outputs": [
    {
     "data": {
      "text/plain": [
       "<matplotlib.axes._subplots.AxesSubplot at 0x108539e80>"
      ]
     },
     "execution_count": 12,
     "metadata": {},
     "output_type": "execute_result"
    },
    {
     "data": {
      "image/png": "[encoded data removed]",
      "text/plain": [
       "<matplotlib.figure.Figure at 0x1097ec3c8>"
      ]
     },
     "metadata": {
      "image/png": {
       "height": 251,
       "width": 381
      }
     },
     "output_type": "display_data"
    }
   ],
   "source": [
    "figCCDF = fit.plot_pdf(color='b', linewidth=2)\n",
    "fit.power_law.plot_pdf(color='b', linestyle='--', ax=figCCDF)\n",
    "\n",
    "\n",
    "# fit.plot_ccdf(color='r', linewidth=2, ax=figCCDF)\n",
    "# fit.power_law.plot_ccdf(color='r', linestyle='--', ax=figCCDF)\n",
    "\n",
    "####\n",
    "# figCCDF.set_ylabel(u\"p(X),  p(X≥x)\")\n",
    "# figCCDF.set_xlabel(r\"Word Frequency\")\n",
    "\n",
    "# figname = 'FigCCDF'\n",
    "# savefig(figname+'.eps', bbox_inches='tight')\n",
    "#savefig(figname+'.tiff', bbox_inches='tight', dpi=300)"
   ]
  },
  {
   "cell_type": "code",
   "execution_count": 13,
   "metadata": {
    "collapsed": false,
    "run_control": {
     "frozen": false,
     "read_only": false
    }
   },
   "outputs": [
    {
     "name": "stderr",
     "output_type": "stream",
     "text": [
      "Calculating best minimal value for power law fit\n",
      "/Library/Frameworks/Python.framework/Versions/3.5/lib/python3.5/site-packages/powerlaw.py:692: RuntimeWarning: invalid value encountered in true_divide\n",
      "  (Theoretical_CDF * (1 - Theoretical_CDF))\n"
     ]
    }
   ],
   "source": [
    "data = blackouts\n",
    "fit = powerlaw.Fit(data)\n",
    "###\n",
    "x, y = fit.cdf()\n",
    "bin_edges, probability = fit.pdf()\n",
    "y = fit.lognormal.cdf(data=[300,350])\n",
    "y = fit.lognormal.pdf()"
   ]
  },
  {
   "cell_type": "markdown",
   "metadata": {
    "run_control": {
     "frozen": false,
     "read_only": false
    }
   },
   "source": [
    "## Identifying the Scaling Range"
   ]
  },
  {
   "cell_type": "code",
   "execution_count": 14,
   "metadata": {
    "collapsed": false,
    "run_control": {
     "frozen": false,
     "read_only": false
    }
   },
   "outputs": [
    {
     "name": "stdout",
     "output_type": "stream",
     "text": [
      "230.0\n",
      "False\n",
      "2.27263721983\n",
      "0.0606737962944\n",
      "1.0\n",
      "True\n",
      "1.22017659337\n",
      "0.376015048504\n"
     ]
    },
    {
     "name": "stderr",
     "output_type": "stream",
     "text": [
      "Calculating best minimal value for power law fit\n",
      "/Library/Frameworks/Python.framework/Versions/3.5/lib/python3.5/site-packages/powerlaw.py:692: RuntimeWarning: invalid value encountered in true_divide\n",
      "  (Theoretical_CDF * (1 - Theoretical_CDF))\n"
     ]
    }
   ],
   "source": [
    "data = blackouts\n",
    "####\n",
    "import powerlaw\n",
    "fit = powerlaw.Fit(data)\n",
    "print(fit.xmin)\n",
    "print(fit.fixed_xmin)\n",
    "print(fit.alpha)\n",
    "print(fit.D)\n",
    "\n",
    "fit = powerlaw.Fit(data, xmin=1.0)\n",
    "print(fit.xmin)\n",
    "print(fit.fixed_xmin)\n",
    "print(fit.alpha)\n",
    "print(fit.D)"
   ]
  },
  {
   "cell_type": "code",
   "execution_count": 18,
   "metadata": {
    "collapsed": false,
    "run_control": {
     "frozen": false,
     "read_only": false
    }
   },
   "outputs": [
    {
     "name": "stderr",
     "output_type": "stream",
     "text": [
      "Calculating best minimal value for power law fit\n",
      "/Library/Frameworks/Python.framework/Versions/3.5/lib/python3.5/site-packages/powerlaw.py:692: RuntimeWarning: invalid value encountered in true_divide\n",
      "  (Theoretical_CDF * (1 - Theoretical_CDF))\n"
     ]
    },
    {
     "data": {
      "text/plain": [
       "272.0"
      ]
     },
     "execution_count": 18,
     "metadata": {},
     "output_type": "execute_result"
    }
   ],
   "source": [
    "data = blackouts\n",
    "####\n",
    "fit = powerlaw.Fit(data, xmin=(250.0, 300.0))\n",
    "fit.fixed_xmin\n",
    "fit.given_xmin\n",
    "fit.xmin"
   ]
  },
  {
   "cell_type": "code",
   "execution_count": 19,
   "metadata": {
    "collapsed": false,
    "run_control": {
     "frozen": false,
     "read_only": false
    }
   },
   "outputs": [
    {
     "name": "stderr",
     "output_type": "stream",
     "text": [
      "Calculating best minimal value for power law fit\n",
      "/Library/Frameworks/Python.framework/Versions/3.5/lib/python3.5/site-packages/powerlaw.py:692: RuntimeWarning: invalid value encountered in true_divide\n",
      "  (Theoretical_CDF * (1 - Theoretical_CDF))\n",
      "Calculating best minimal value for power law fit\n"
     ]
    },
    {
     "data": {
      "text/plain": [
       "True"
      ]
     },
     "execution_count": 19,
     "metadata": {},
     "output_type": "execute_result"
    }
   ],
   "source": [
    "data = blackouts\n",
    "fit = powerlaw.Fit(data)\n",
    "####\n",
    "fit = powerlaw.Fit(data, xmax=10000.0)\n",
    "fit.xmax\n",
    "fit.fixed_xmax"
   ]
  },
  {
   "cell_type": "markdown",
   "metadata": {
    "run_control": {
     "frozen": false,
     "read_only": false
    }
   },
   "source": [
    "### Figure 3"
   ]
  },
  {
   "cell_type": "code",
   "execution_count": 21,
   "metadata": {
    "collapsed": false,
    "run_control": {
     "frozen": false,
     "read_only": false
    }
   },
   "outputs": [
    {
     "name": "stderr",
     "output_type": "stream",
     "text": [
      "Calculating best minimal value for power law fit\n",
      "/Library/Frameworks/Python.framework/Versions/3.5/lib/python3.5/site-packages/powerlaw.py:692: RuntimeWarning: invalid value encountered in true_divide\n",
      "  (Theoretical_CDF * (1 - Theoretical_CDF))\n",
      "Calculating best minimal value for power law fit\n",
      "/Library/Frameworks/Python.framework/Versions/3.5/lib/python3.5/site-packages/powerlaw.py:1177: RuntimeWarning: divide by zero encountered in double_scalars\n",
      "  C = 1.0/C\n",
      "/Library/Frameworks/Python.framework/Versions/3.5/lib/python3.5/site-packages/scipy/optimize/optimize.py:528: RuntimeWarning: invalid value encountered in subtract\n",
      "  numpy.max(numpy.abs(fsim[0] - fsim[1:])) <= fatol):\n",
      "/Library/Frameworks/Python.framework/Versions/3.5/lib/python3.5/site-packages/powerlaw.py:692: RuntimeWarning: divide by zero encountered in true_divide\n",
      "  (Theoretical_CDF * (1 - Theoretical_CDF))\n",
      "/Library/Frameworks/Python.framework/Versions/3.5/lib/python3.5/site-packages/powerlaw.py:822: RuntimeWarning: invalid value encountered in multiply\n",
      "  likelihoods = f*C\n"
     ]
    },
    {
     "data": {
      "image/png": "[encoded data removed]",
      "text/plain": [
       "<matplotlib.figure.Figure at 0x10b3f7a58>"
      ]
     },
     "metadata": {
      "image/png": {
       "height": 265,
       "width": 394
      }
     },
     "output_type": "display_data"
    }
   ],
   "source": [
    "data = words\n",
    "#FigCCDFmax = powerlaw.plot_ccdf(data, linewidth=3)\n",
    "fit = powerlaw.Fit(data, discrete=True, xmax=None)\n",
    "FigCCDFmax = fit.plot_ccdf(color='b', label=r\"Empirical, no $x_{max}$\")\n",
    "fit.power_law.plot_ccdf(color='b', linestyle='--', ax=FigCCDFmax, label=r\"Fit, no $x_{max}$\")\n",
    "fit = powerlaw.Fit(data, discrete=True, xmax=1000)\n",
    "fit.plot_ccdf(color='r', label=r\"Empirical, $x_{max}=1000$\")\n",
    "fit.power_law.plot_ccdf(color='r', linestyle='--', ax=FigCCDFmax, label=r\"Fit, $x_{max}=1000$\")\n",
    "#x, y = powerlaw.ccdf(data, xmax=max(data))\n",
    "#fig1.plot(x,y)\n",
    "####\n",
    "#FigCCDFmax.set_ylabel(r\"$p(X\\geq x)$\")\n",
    "FigCCDFmax.set_ylabel(u\"p(X≥x)\")\n",
    "FigCCDFmax.set_xlabel(r\"Word Frequency\")\n",
    "handles, labels = FigCCDFmax.get_legend_handles_labels()\n",
    "leg = FigCCDFmax.legend(handles, labels, loc=3)\n",
    "leg.draw_frame(False)\n",
    "\n",
    "figname = 'FigCCDFmax'\n",
    "# savefig(figname+'.eps', bbox_inches='tight')\n",
    "#savefig(figname+'.tiff', bbox_inches='tight', dpi=300)"
   ]
  },
  {
   "cell_type": "markdown",
   "metadata": {
    "run_control": {
     "frozen": false,
     "read_only": false
    }
   },
   "source": [
    "## Continuous vs. Discrete Data"
   ]
  },
  {
   "cell_type": "code",
   "execution_count": 22,
   "metadata": {
    "collapsed": false,
    "run_control": {
     "frozen": false,
     "read_only": false
    }
   },
   "outputs": [
    {
     "name": "stderr",
     "output_type": "stream",
     "text": [
      "Calculating best minimal value for power law fit\n",
      "/Library/Frameworks/Python.framework/Versions/3.5/lib/python3.5/site-packages/powerlaw.py:692: RuntimeWarning: invalid value encountered in true_divide\n",
      "  (Theoretical_CDF * (1 - Theoretical_CDF))\n"
     ]
    },
    {
     "data": {
      "text/plain": [
       "True"
      ]
     },
     "execution_count": 22,
     "metadata": {},
     "output_type": "execute_result"
    }
   ],
   "source": [
    "data = blackouts\n",
    "fit = powerlaw.Fit(data)\n",
    "####\n",
    "fit = powerlaw.Fit(data, xmin=230.0)\n",
    "fit.discrete\n",
    "fit = powerlaw.Fit(data, xmin=230.0, discrete=True)\n",
    "fit.discrete "
   ]
  },
  {
   "cell_type": "markdown",
   "metadata": {
    "run_control": {
     "frozen": false,
     "read_only": false
    }
   },
   "source": [
    "# Comparing Candidate Distributions"
   ]
  },
  {
   "cell_type": "code",
   "execution_count": 23,
   "metadata": {
    "collapsed": false,
    "run_control": {
     "frozen": false,
     "read_only": false
    }
   },
   "outputs": [
    {
     "name": "stderr",
     "output_type": "stream",
     "text": [
      "Calculating best minimal value for power law fit\n",
      "/Library/Frameworks/Python.framework/Versions/3.5/lib/python3.5/site-packages/powerlaw.py:692: RuntimeWarning: invalid value encountered in true_divide\n",
      "  (Theoretical_CDF * (1 - Theoretical_CDF))\n"
     ]
    },
    {
     "data": {
      "text/plain": [
       "True"
      ]
     },
     "execution_count": 23,
     "metadata": {},
     "output_type": "execute_result"
    }
   ],
   "source": [
    "data = blackouts\n",
    "fit = powerlaw.Fit(data)\n",
    "####\n",
    "fit.power_law\n",
    "fit.power_law.alpha\n",
    "fit.power_law.parameter1\n",
    "fit.power_law.parameter1_name\n",
    "fit.lognormal.mu\n",
    "fit.lognormal.parameter1_name\n",
    "fit.lognormal.parameter2_name\n",
    "fit.lognormal.parameter3_name == None"
   ]
  },
  {
   "cell_type": "code",
   "execution_count": 25,
   "metadata": {
    "collapsed": false,
    "run_control": {
     "frozen": false,
     "read_only": false
    }
   },
   "outputs": [
    {
     "name": "stdout",
     "output_type": "stream",
     "text": [
      "1.43148048496 0.152292556044\n"
     ]
    },
    {
     "name": "stderr",
     "output_type": "stream",
     "text": [
      "Calculating best minimal value for power law fit\n",
      "/Library/Frameworks/Python.framework/Versions/3.5/lib/python3.5/site-packages/powerlaw.py:692: RuntimeWarning: invalid value encountered in true_divide\n",
      "  (Theoretical_CDF * (1 - Theoretical_CDF))\n"
     ]
    }
   ],
   "source": [
    "data = blackouts\n",
    "####\n",
    "fit = powerlaw.Fit(data)\n",
    "R, p = fit.distribution_compare('power_law', 'exponential', normalized_ratio=True)\n",
    "print(R, p)"
   ]
  },
  {
   "cell_type": "markdown",
   "metadata": {
    "run_control": {
     "frozen": false,
     "read_only": false
    }
   },
   "source": [
    "## Generative Mechanisms"
   ]
  },
  {
   "cell_type": "code",
   "execution_count": 26,
   "metadata": {
    "collapsed": false,
    "run_control": {
     "frozen": false,
     "read_only": false
    }
   },
   "outputs": [
    {
     "name": "stderr",
     "output_type": "stream",
     "text": [
      "Calculating best minimal value for power law fit\n",
      "/Library/Frameworks/Python.framework/Versions/3.5/lib/python3.5/site-packages/powerlaw.py:692: RuntimeWarning: invalid value encountered in true_divide\n",
      "  (Theoretical_CDF * (1 - Theoretical_CDF))\n",
      "/Library/Frameworks/Python.framework/Versions/3.5/lib/python3.5/site-packages/powerlaw.py:692: RuntimeWarning: divide by zero encountered in true_divide\n",
      "  (Theoretical_CDF * (1 - Theoretical_CDF))\n",
      "Assuming nested distributions\n"
     ]
    },
    {
     "data": {
      "text/plain": [
       "(-0.070651754953475088, 0.70698857057674624)"
      ]
     },
     "execution_count": 26,
     "metadata": {},
     "output_type": "execute_result"
    }
   ],
   "source": [
    "data = worm\n",
    "fit = powerlaw.Fit(data, discrete=True)\n",
    "####\n",
    "fit.distribution_compare('power_law', 'exponential')\n",
    "fit.distribution_compare('power_law', 'truncated_power_law')"
   ]
  },
  {
   "cell_type": "code",
   "execution_count": 20,
   "metadata": {
    "collapsed": false,
    "run_control": {
     "frozen": false,
     "read_only": false
    }
   },
   "outputs": [
    {
     "name": "stdout",
     "output_type": "stream",
     "text": [
      "Calculating best minimal value for power law fit\n",
      "Assuming nested distributions\n"
     ]
    },
    {
     "data": {
      "text/plain": [
       "(-0.070651754953295454, 0.70698857057710152)"
      ]
     },
     "execution_count": 20,
     "metadata": {},
     "output_type": "execute_result"
    }
   ],
   "source": [
    "data = worm\n",
    "fit = powerlaw.Fit(data, discrete=True)\n",
    "####\n",
    "fit.distribution_compare('power_law', 'exponential')\n",
    "fit.distribution_compare('power_law', 'truncated_power_law')"
   ]
  },
  {
   "cell_type": "code",
   "execution_count": 28,
   "metadata": {
    "collapsed": false,
    "run_control": {
     "frozen": false,
     "read_only": false
    }
   },
   "outputs": [
    {
     "name": "stderr",
     "output_type": "stream",
     "text": [
      "Calculating best minimal value for power law fit\n",
      "/Library/Frameworks/Python.framework/Versions/3.5/lib/python3.5/site-packages/powerlaw.py:692: RuntimeWarning: invalid value encountered in true_divide\n",
      "  (Theoretical_CDF * (1 - Theoretical_CDF))\n",
      "/Library/Frameworks/Python.framework/Versions/3.5/lib/python3.5/site-packages/powerlaw.py:692: RuntimeWarning: divide by zero encountered in true_divide\n",
      "  (Theoretical_CDF * (1 - Theoretical_CDF))\n",
      "Assuming nested distributions\n"
     ]
    },
    {
     "name": "stdout",
     "output_type": "stream",
     "text": [
      "(9.1359147187769985, 6.485614241379581e-20)\n",
      "(-0.91712308337398118, 0.17562683168695525)\n"
     ]
    }
   ],
   "source": [
    "data = words\n",
    "fit = powerlaw.Fit(data, discrete=True)\n",
    "####\n",
    "print(fit.distribution_compare('power_law', 'exponential', normalized_ratio=True)) \n",
    "print(fit.distribution_compare('power_law', 'truncated_power_law'))"
   ]
  },
  {
   "cell_type": "code",
   "execution_count": 30,
   "metadata": {
    "collapsed": false,
    "run_control": {
     "frozen": false,
     "read_only": false
    }
   },
   "outputs": [
    {
     "name": "stdout",
     "output_type": "stream",
     "text": [
      "(-0.91712308337398118, 0.17562683168695525)\n"
     ]
    },
    {
     "name": "stderr",
     "output_type": "stream",
     "text": [
      "Assuming nested distributions\n"
     ]
    }
   ],
   "source": [
    "print(fit.distribution_compare('power_law', 'truncated_power_law'))"
   ]
  },
  {
   "cell_type": "markdown",
   "metadata": {
    "run_control": {
     "frozen": false,
     "read_only": false
    }
   },
   "source": [
    "### Figure 4"
   ]
  },
  {
   "cell_type": "code",
   "execution_count": 32,
   "metadata": {
    "collapsed": false,
    "run_control": {
     "frozen": false,
     "read_only": false
    }
   },
   "outputs": [
    {
     "name": "stderr",
     "output_type": "stream",
     "text": [
      "Calculating best minimal value for power law fit\n",
      "/Library/Frameworks/Python.framework/Versions/3.5/lib/python3.5/site-packages/powerlaw.py:692: RuntimeWarning: invalid value encountered in true_divide\n",
      "  (Theoretical_CDF * (1 - Theoretical_CDF))\n"
     ]
    },
    {
     "data": {
      "image/png": "[encoded data removed]",
      "text/plain": [
       "<matplotlib.figure.Figure at 0x10bf1bcf8>"
      ]
     },
     "metadata": {
      "image/png": {
       "height": 265,
       "width": 394
      }
     },
     "output_type": "display_data"
    }
   ],
   "source": [
    "data = words\n",
    "fit = powerlaw.Fit(data, discrete=True)\n",
    "####\n",
    "fit.distribution_compare('power_law', 'lognormal')\n",
    "fig = fit.plot_ccdf(linewidth=3, label='Empirical Data')\n",
    "fit.power_law.plot_ccdf(ax=fig, color='r', linestyle='--', label='Power law fit')\n",
    "fit.lognormal.plot_ccdf(ax=fig, color='g', linestyle='--', label='Lognormal fit')\n",
    "####\n",
    "fig.set_ylabel(u\"p(X≥x)\")\n",
    "fig.set_xlabel(\"Word Frequency\")\n",
    "handles, labels = fig.get_legend_handles_labels()\n",
    "fig.legend(handles, labels, loc=3)\n",
    "\n",
    "figname = 'FigLognormal'\n",
    "# savefig(figname+'.eps', bbox_inches='tight')\n",
    "#savefig(figname+'.tiff', bbox_inches='tight', dpi=300)"
   ]
  },
  {
   "cell_type": "markdown",
   "metadata": {
    "run_control": {
     "frozen": false,
     "read_only": false
    }
   },
   "source": [
    "# Creating Simulated Data"
   ]
  },
  {
   "cell_type": "code",
   "execution_count": 33,
   "metadata": {
    "collapsed": false,
    "run_control": {
     "frozen": false,
     "read_only": false
    }
   },
   "outputs": [
    {
     "name": "stderr",
     "output_type": "stream",
     "text": [
      "Calculating best minimal value for power law fit\n",
      "/Library/Frameworks/Python.framework/Versions/3.5/lib/python3.5/site-packages/powerlaw.py:692: RuntimeWarning: invalid value encountered in true_divide\n",
      "  (Theoretical_CDF * (1 - Theoretical_CDF))\n"
     ]
    }
   ],
   "source": [
    "empirical_data = blackouts\n",
    "####\n",
    "fit = powerlaw.Fit(empirical_data)\n",
    "simulated_data = fit.power_law.generate_random(10000)\n",
    "\n",
    "theoretical_distribution = powerlaw.Power_Law(xmin=5.0, parameters=[2.5])\n",
    "simulated_data = theoretical_distribution.generate_random(10000)"
   ]
  },
  {
   "cell_type": "code",
   "execution_count": 34,
   "metadata": {
    "collapsed": false,
    "run_control": {
     "frozen": false,
     "read_only": false
    }
   },
   "outputs": [
    {
     "name": "stderr",
     "output_type": "stream",
     "text": [
      "Calculating best minimal value for power law fit\n",
      "/Library/Frameworks/Python.framework/Versions/3.5/lib/python3.5/site-packages/powerlaw.py:692: RuntimeWarning: invalid value encountered in true_divide\n",
      "  (Theoretical_CDF * (1 - Theoretical_CDF))\n"
     ]
    },
    {
     "data": {
      "text/plain": [
       "(6.3369010057502191, 2.5186446052253952)"
      ]
     },
     "execution_count": 34,
     "metadata": {},
     "output_type": "execute_result"
    }
   ],
   "source": [
    "theoretical_distribution = powerlaw.Power_Law(xmin=5.0, parameters=[2.5])\n",
    "simulated_data = theoretical_distribution.generate_random(10000)\n",
    "####\n",
    "fit = powerlaw.Fit(simulated_data)\n",
    "fit.power_law.xmin, fit.power_law.alpha"
   ]
  },
  {
   "cell_type": "code",
   "execution_count": 35,
   "metadata": {
    "collapsed": false,
    "run_control": {
     "frozen": false,
     "read_only": false
    }
   },
   "outputs": [
    {
     "data": {
      "image/png": "[encoded data removed]",
      "text/plain": [
       "<matplotlib.figure.Figure at 0x10bea1c18>"
      ]
     },
     "metadata": {
      "image/png": {
       "height": 251,
       "width": 381
      }
     },
     "output_type": "display_data"
    }
   ],
   "source": [
    "powerlaw.plot_pdf(simulated_data,linewidth=3)\n",
    "fit.power_law.plot_pdf(simulated_data,linestyle='--',color='r');"
   ]
  },
  {
   "cell_type": "markdown",
   "metadata": {
    "run_control": {
     "frozen": false,
     "read_only": false
    }
   },
   "source": [
    "# Advanced Considerations"
   ]
  },
  {
   "cell_type": "markdown",
   "metadata": {
    "run_control": {
     "frozen": false,
     "read_only": false
    }
   },
   "source": [
    "## Discrete Distribution Calculation and Estimation"
   ]
  },
  {
   "cell_type": "code",
   "execution_count": 27,
   "metadata": {
    "collapsed": false,
    "run_control": {
     "frozen": false,
     "read_only": false
    }
   },
   "outputs": [
    {
     "name": "stdout",
     "output_type": "stream",
     "text": [
      "Calculating best minimal value for power law fit\n",
      "Calculating best minimal value for power law fit\n"
     ]
    },
    {
     "data": {
      "text/plain": [
       "False"
      ]
     },
     "execution_count": 27,
     "metadata": {},
     "output_type": "execute_result"
    }
   ],
   "source": [
    "data = blackouts\n",
    "####\n",
    "fit = powerlaw.Fit(data, discrete=True, estimate_discrete=True)\n",
    "fit.power_law.alpha\n",
    "fit.power_law.estimate_discrete\n",
    "fit = powerlaw.Fit(data, discrete=True, estimate_discrete=False)\n",
    "fit.power_law.alpha\n",
    "fit.power_law.estimate_discrete"
   ]
  },
  {
   "cell_type": "code",
   "execution_count": 28,
   "metadata": {
    "collapsed": false,
    "run_control": {
     "frozen": false,
     "read_only": false
    }
   },
   "outputs": [
    {
     "data": {
      "text/plain": [
       "0.39905257607693184"
      ]
     },
     "execution_count": 28,
     "metadata": {},
     "output_type": "execute_result"
    }
   ],
   "source": [
    "data = blackouts\n",
    "####\n",
    "fit = powerlaw.Fit(data, discrete=True, xmin=230.0, xmax=9000, discrete_approximation='xmax')\n",
    "fit.lognormal.mu\n",
    "fit = powerlaw.Fit(data, discrete_approximation=100000, xmin=230.0, discrete=True)\n",
    "fit.lognormal.mu\n",
    "fit = powerlaw.Fit(data, discrete_approximation='round', xmin=230.0, discrete=True)\n",
    "fit.lognormal.mu"
   ]
  },
  {
   "cell_type": "code",
   "execution_count": 29,
   "metadata": {
    "collapsed": false,
    "run_control": {
     "frozen": false,
     "read_only": false
    }
   },
   "outputs": [],
   "source": [
    "theoretical_distribution = powerlaw.Power_Law(xmin=5.0, parameters=[2.5], discrete=True)\n",
    "simulated_data = theoretical_distribution.generate_random(10000, estimate_discrete=True)"
   ]
  },
  {
   "cell_type": "code",
   "execution_count": 30,
   "metadata": {
    "collapsed": false,
    "run_control": {
     "frozen": false,
     "read_only": false
    }
   },
   "outputs": [
    {
     "name": "stdout",
     "output_type": "stream",
     "text": [
      "Calculating best minimal value for power law fit\n"
     ]
    }
   ],
   "source": [
    "empirical_data = blackouts\n",
    "####\n",
    "theoretical_distributionibution = powerlaw.Power_Law(xmin=5.0, parameters=[2.5], discrete=True, estimate_discrete=False)\n",
    "simulated_data = theoretical_distribution.generate_random(10000)\n",
    "\n",
    "fit = powerlaw.Fit(empirical_data, discrete=True, estimate_discrete=True)\n",
    "simulated_data = fit.power_law.generate_random(10000)"
   ]
  },
  {
   "cell_type": "markdown",
   "metadata": {
    "run_control": {
     "frozen": false,
     "read_only": false
    }
   },
   "source": [
    "## Nested Distributions"
   ]
  },
  {
   "cell_type": "code",
   "execution_count": 31,
   "metadata": {
    "collapsed": false,
    "run_control": {
     "frozen": false,
     "read_only": false
    }
   },
   "outputs": [
    {
     "name": "stdout",
     "output_type": "stream",
     "text": [
      "Calculating best minimal value for power law fit\n",
      "Assuming nested distributions\n",
      "Assuming nested distributions\n"
     ]
    },
    {
     "data": {
      "text/plain": [
       "(-13.018342321459157, 3.3499122220614908e-07)"
      ]
     },
     "execution_count": 31,
     "metadata": {},
     "output_type": "execute_result"
    }
   ],
   "source": [
    "data = blackouts\n",
    "fit = powerlaw.Fit(data)\n",
    "####\n",
    "fit.distribution_compare('power_law', 'truncated_power_law')\n",
    "fit.distribution_compare('exponential', 'stretched_exponential')"
   ]
  },
  {
   "cell_type": "markdown",
   "metadata": {
    "run_control": {
     "frozen": false,
     "read_only": false
    }
   },
   "source": [
    "## Restricted Parameter Range"
   ]
  },
  {
   "cell_type": "code",
   "execution_count": 32,
   "metadata": {
    "collapsed": false,
    "run_control": {
     "frozen": false,
     "read_only": false
    }
   },
   "outputs": [
    {
     "name": "stdout",
     "output_type": "stream",
     "text": [
      "Calculating best minimal value for power law fit\n",
      "Calculating best minimal value for power law fit\n"
     ]
    },
    {
     "data": {
      "text/plain": [
       "(1.7831398653341155, 0.063521030949327109, 50.0)"
      ]
     },
     "execution_count": 32,
     "metadata": {},
     "output_type": "execute_result"
    }
   ],
   "source": [
    "data = blackouts\n",
    "####\n",
    "fit = powerlaw.Fit(data)\n",
    "fit.power_law.alpha, fit.power_law.sigma, fit.xmin\n",
    "\n",
    "fit = powerlaw.Fit(data, sigma_threshold=.1)\n",
    "fit.power_law.alpha, fit.power_law.sigma, fit.xmin"
   ]
  },
  {
   "cell_type": "code",
   "execution_count": 33,
   "metadata": {
    "collapsed": false,
    "run_control": {
     "frozen": false,
     "read_only": false
    }
   },
   "outputs": [
    {
     "name": "stdout",
     "output_type": "stream",
     "text": [
      "Calculating best minimal value for power law fit\n"
     ]
    },
    {
     "data": {
      "text/plain": [
       "(2.3000107113942141, 0.17069976919260452, 234.0)"
      ]
     },
     "execution_count": 33,
     "metadata": {},
     "output_type": "execute_result"
    }
   ],
   "source": [
    "parameter_range = {'alpha': [2.3, None], 'sigma': [None, .2]}\n",
    "fit = powerlaw.Fit(data, parameter_range=parameter_range)\n",
    "fit.power_law.alpha, fit.power_law.sigma, fit.xmin"
   ]
  },
  {
   "cell_type": "code",
   "execution_count": 34,
   "metadata": {
    "collapsed": false,
    "run_control": {
     "frozen": false,
     "read_only": false
    }
   },
   "outputs": [
    {
     "name": "stdout",
     "output_type": "stream",
     "text": [
      "Calculating best minimal value for power law fit\n"
     ]
    },
    {
     "data": {
      "text/plain": [
       "(1.8833765811180314, 0.094168259953067143, 124.0)"
      ]
     },
     "execution_count": 34,
     "metadata": {},
     "output_type": "execute_result"
    }
   ],
   "source": [
    "parameter_range = lambda(self): self.sigma/self.alpha < .05\n",
    "fit = powerlaw.Fit(data, parameter_range=parameter_range)\n",
    "fit.power_law.alpha, fit.power_law.sigma, fit.xmin"
   ]
  },
  {
   "cell_type": "markdown",
   "metadata": {
    "run_control": {
     "frozen": false,
     "read_only": false
    }
   },
   "source": [
    "## Multiple Possible Fits"
   ]
  },
  {
   "cell_type": "markdown",
   "metadata": {
    "run_control": {
     "frozen": false,
     "read_only": false
    }
   },
   "source": [
    "### Figure 5"
   ]
  },
  {
   "cell_type": "code",
   "execution_count": 35,
   "metadata": {
    "collapsed": false,
    "run_control": {
     "frozen": false,
     "read_only": false
    }
   },
   "outputs": [
    {
     "name": "stdout",
     "output_type": "stream",
     "text": [
      "Calculating best minimal value for power law fit\n",
      "50.0 0.0998297854528 1.78313986533\n",
      "Calculating best minimal value for power law fit\n",
      "230.0 0.0606737962944 2.27263721983\n"
     ]
    },
    {
     "data": {
      "image/png": "[encoded data removed]",
      "text/plain": [
       "<matplotlib.figure.Figure at 0x9a6f590>"
      ]
     },
     "metadata": {},
     "output_type": "display_data"
    }
   ],
   "source": [
    "data = blackouts\n",
    "fit = powerlaw.Fit(data, sigma_threshold=.1)\n",
    "print fit.xmin, fit.D, fit.alpha\n",
    "fit = powerlaw.Fit(data)\n",
    "print fit.xmin, fit.D, fit.alpha\n",
    "####\n",
    "from matplotlib.pylab import plot\n",
    "plot(fit.xmins, fit.Ds, label=r'$D$')\n",
    "plot(fit.xmins, fit.sigmas, label=r'$\\sigma$', linestyle='--')\n",
    "plot(fit.xmins, fit.sigmas/fit.alphas, label=r'$\\sigma /\\alpha$', linestyle='--')\n",
    "####\n",
    "ylim(0, .4)\n",
    "legend(loc=4)\n",
    "xlabel(r'$x_{min}$')\n",
    "ylabel(r'$D,\\sigma,\\alpha$')\n",
    "\n",
    "figname = 'FigD'\n",
    "savefig(figname+'.eps', bbox_inches='tight')\n",
    "#savefig(figname+'.tiff', bbox_inches='tight', dpi=300)"
   ]
  },
  {
   "cell_type": "markdown",
   "metadata": {
    "run_control": {
     "frozen": false,
     "read_only": false
    }
   },
   "source": [
    "## No Possible Fits"
   ]
  },
  {
   "cell_type": "code",
   "execution_count": 36,
   "metadata": {
    "collapsed": false,
    "run_control": {
     "frozen": false,
     "read_only": false
    }
   },
   "outputs": [
    {
     "name": "stdout",
     "output_type": "stream",
     "text": [
      "Calculating best minimal value for power law fit\n",
      "No valid fits found.\n"
     ]
    },
    {
     "data": {
      "text/plain": [
       "(2.2726372198302882, 0.16568325372336856, 230.0, True)"
      ]
     },
     "execution_count": 36,
     "metadata": {},
     "output_type": "execute_result"
    }
   ],
   "source": [
    "data = blackouts\n",
    "####\n",
    "fit = powerlaw.Fit(data, sigma_threshold=.001)\n",
    "fit.power_law.alpha, fit.power_law.sigma, fit.xmin, fit.noise_flag"
   ]
  },
  {
   "cell_type": "code",
   "execution_count": 37,
   "metadata": {
    "collapsed": false,
    "run_control": {
     "frozen": false,
     "read_only": false
    }
   },
   "outputs": [
    {
     "name": "stdout",
     "output_type": "stream",
     "text": [
      "No valid fits found.\n"
     ]
    },
    {
     "data": {
      "text/plain": [
       "(10.500000000422041, 5.1423189016918585, False)"
      ]
     },
     "execution_count": 37,
     "metadata": {},
     "output_type": "execute_result"
    }
   ],
   "source": [
    "fit.lognormal.mu, fit.lognormal.sigma\n",
    "range_dict = {'mu': [10.5, None]}\n",
    "fit.lognormal.parameter_range(range_dict)\n",
    "fit.lognormal.mu, fit.lognormal.sigma, fit.lognormal.noise_flag\n",
    "\n",
    "initial_parameters = (12, .7)\n",
    "fit.lognormal.parameter_range(range_dict, initial_parameters)\n",
    "fit.lognormal.mu, fit.lognormal.sigma, fit.lognormal.noise_flag"
   ]
  },
  {
   "cell_type": "markdown",
   "metadata": {
    "run_control": {
     "frozen": false,
     "read_only": false
    }
   },
   "source": [
    "## Selecting x<sub>min</sub> with Other Distance Metrics"
   ]
  },
  {
   "cell_type": "code",
   "execution_count": 38,
   "metadata": {
    "collapsed": false,
    "run_control": {
     "frozen": false,
     "read_only": false
    }
   },
   "outputs": [
    {
     "name": "stdout",
     "output_type": "stream",
     "text": [
      "Calculating best minimal value for power law fit\n",
      "230.0 2.27263721983 0.0606737962944\n",
      "Calculating best minimal value for power law fit\n",
      "219.0 2.21822784881 0.0921084614746\n",
      "Calculating best minimal value for power law fit\n",
      "230.0 2.27263721983 0.265613512591\n"
     ]
    }
   ],
   "source": [
    "data = blackouts\n",
    "####\n",
    "fit = powerlaw.Fit(data, xmin_distance='D')\n",
    "print fit.xmin, fit.power_law.alpha, fit.D\n",
    "fit = powerlaw.Fit(data, xmin_distance='V')\n",
    "print fit.xmin, fit.power_law.alpha, fit.V\n",
    "fit = powerlaw.Fit(data, xmin_distance='Asquare')\n",
    "print fit.xmin, fit.power_law.alpha, fit.Asquare"
   ]
  },
  {
   "cell_type": "markdown",
   "metadata": {
    "run_control": {
     "frozen": false,
     "read_only": false
    }
   },
   "source": [
    "# Supporting Information"
   ]
  },
  {
   "cell_type": "code",
   "execution_count": 39,
   "metadata": {
    "collapsed": false,
    "run_control": {
     "frozen": false,
     "read_only": false
    }
   },
   "outputs": [],
   "source": [
    "from numpy import logspace\n",
    "from scipy.stats import variation\n",
    "import pandas as pd\n",
    "\n",
    "def validate(xmin, alpha, discrete='continuous', n_data=10000, n_trials=1):\n",
    "    \n",
    "    if n_trials>1:\n",
    "        return array([validate(xmin, alpha, discrete=discrete, n_data=n_data, n_trials=1) for trial in arange(n_trials)]).T\n",
    "        \n",
    "    if discrete=='continuous':\n",
    "        discrete = False\n",
    "        estimate_discrete = False\n",
    "    elif discrete == 'discrete':\n",
    "        discrete = True\n",
    "        estimate_discrete = False\n",
    "    elif discrete == 'discrete_estimate':\n",
    "        discrete = True\n",
    "        estimate_discrete = True\n",
    "\n",
    "    theoretical_distribution = powerlaw.Power_Law(xmin=xmin, parameters=[alpha], discrete=discrete)\n",
    "    simulated_data = theoretical_distribution.generate_random(n_data, estimate_discrete=estimate_discrete)\n",
    "    fit = powerlaw.Fit(simulated_data, discrete=discrete, estimate_discrete=estimate_discrete)\n",
    "    return fit.xmin, fit.alpha"
   ]
  },
  {
   "cell_type": "code",
   "execution_count": 40,
   "metadata": {
    "collapsed": false,
    "run_control": {
     "frozen": false,
     "read_only": false
    }
   },
   "outputs": [],
   "source": [
    "n_trials = 10\n",
    "n_data = 10000\n",
    "theoretical_xmins = unique(floor(logspace(0.0,2.0,num=20)))\n",
    "theoretical_alphas = array([1.5,2.0,2.5,3.0,3.5])\n",
    "distribution_types = ['continuous','discrete']\n",
    "\n",
    "filename = 'powerlaw_validation_%itrials_%idata.h5'%(int(n_trials),int(n_data))\n",
    "\n",
    "from os import listdir\n",
    "files = listdir('.')\n",
    "if filename in files:\n",
    "    df = pd.read_hdf(filename,'df')\n",
    "else:\n",
    "    print(\"Calculating validation fits on %i synthetic datasets of %i data points each. \"\n",
    "          \"Could take a long time.\")%(n_trials*len(theoretical_alphas)*len(theoretical_xmins)*len(distribution_types), n_data) \n",
    "\n",
    "    ind = [(d,a,x) for d in distribution_types for a in theoretical_alphas for x in theoretical_xmins]\n",
    "    ind = pd.MultiIndex.from_tuples(ind, names=['type', 'alpha','xmin'])\n",
    "    df = pd.DataFrame(columns=['alpha_mean', 'alpha_sd', 'xmin_mean', 'xmin_sd'], index=ind)\n",
    "    \n",
    "    i = 0\n",
    "    for dt, alpha, xmin in ind:\n",
    "        i += 1\n",
    "        print(i)\n",
    "        data = validate(xmin, alpha, discrete=dt, n_data=n_data, n_trials=n_trials)\n",
    "        df.ix[dt,alpha,xmin] = (mean(data[1]), std(data[1]), mean(data[0]), std(data[0]))\n",
    "\n",
    "    df.to_hdf(filename,'df')"
   ]
  },
  {
   "cell_type": "code",
   "execution_count": 41,
   "metadata": {
    "collapsed": false,
    "run_control": {
     "frozen": false,
     "read_only": false
    }
   },
   "outputs": [
    {
     "data": {
      "image/png": "[encoded data removed]",
      "text/plain": [
       "<matplotlib.figure.Figure at 0xa3a9350>"
      ]
     },
     "metadata": {},
     "output_type": "display_data"
    }
   ],
   "source": [
    "subplot(2,2,1)\n",
    "for a in theoretical_alphas:\n",
    "    y_vals = df.ix['continuous', a]['alpha_mean'].astype('float')\n",
    "    error = df.ix['continuous', a]['alpha_sd'].astype('float')\n",
    "\n",
    "    plot(theoretical_xmins, y_vals, label=a)\n",
    "    fill_between(theoretical_xmins, y_vals-error, y_vals+error, alpha=.1)\n",
    "\n",
    "xscale('log')\n",
    "#xlabel(r\"$x_{min}$\")\n",
    "ylabel(r\"Fitted $\\alpha$\")\n",
    "yticks(theoretical_alphas)\n",
    "setp(gca().get_xticklabels(), visible=False)\n",
    "title(\"Continuous\")\n",
    "\n",
    "#########\n",
    "subplot(2,2,2)\n",
    "for a in theoretical_alphas:\n",
    "    y_vals = df.ix['discrete', a]['alpha_mean'].astype('float')\n",
    "    error = df.ix['discrete', a]['alpha_sd'].astype('float')\n",
    "\n",
    "    plot(theoretical_xmins, y_vals, label=a)\n",
    "    fill_between(theoretical_xmins, y_vals-error, y_vals+error, alpha=.1)\n",
    "\n",
    "xscale('log')\n",
    "#xlabel(r\"$x_{min}$\")\n",
    "#ylabel(r\"Fitted $\\alpha$\")\n",
    "setp(gca().get_xticklabels(), visible=False)\n",
    "setp(gca().get_yticklabels(), visible=False)\n",
    "title(\"Discrete\")\n",
    "\n",
    "########\n",
    "subplot(2,2,3)\n",
    "for a in theoretical_alphas:\n",
    "    y_vals = df.ix['continuous', a]['xmin_mean'].astype('float')\n",
    "    error = df.ix['continuous', a]['xmin_sd'].astype('float')\n",
    "    up = y_vals+error\n",
    "    down = y_vals-error\n",
    "    ind = down<theoretical_xmins\n",
    "    down[ind] = theoretical_xmins[ind]\n",
    "    \n",
    "    plot(theoretical_xmins, y_vals, label=a)\n",
    "    fill_between(theoretical_xmins, down, up, alpha=.1)\n",
    "\n",
    "xlim(xmin=1)\n",
    "ylim(ymin=1)\n",
    "plot(xlim(),xlim(),linestyle='--', color='k')\n",
    "xscale('log')\n",
    "yscale('log')\n",
    "xlabel(r\"$x_{min}$ of Data\")\n",
    "ylabel(r\"Fitted $x_{min}$\")\n",
    "\n",
    "\n",
    "########\n",
    "legend_refs = []\n",
    "########\n",
    "subplot(2,2,4,sharey=gca())\n",
    "for a in theoretical_alphas:\n",
    "    y_vals = df.ix['discrete', a]['xmin_mean'].astype('float')\n",
    "    error = df.ix['discrete', a]['xmin_sd'].astype('float')\n",
    "    up = y_vals+error\n",
    "    down = y_vals-error\n",
    "    ind = down<theoretical_xmins\n",
    "    down[ind] = theoretical_xmins[ind]\n",
    "\n",
    "    line = plot(theoretical_xmins, y_vals, label=a)\n",
    "    legend_refs += line\n",
    "    fill_between(theoretical_xmins, down, up, alpha=.1)\n",
    "\n",
    "xlim(xmin=1)\n",
    "ylim(ymin=1)\n",
    "plot(xlim(),xlim(),linestyle='--', color='k')\n",
    "xscale('log')\n",
    "yscale('log')\n",
    "xlabel(r\"$x_{min}$ of Data\")\n",
    "#ylabel(r\"Fitted $x_{min}$\")\n",
    "setp(gca().get_yticklabels(), visible=False)\n",
    "\n",
    "\n",
    "#######\n",
    "#figlegend(legend_refs[::-1], theoretical_alphas[::-1],'center right', title=r'$\\alpha$ of Data')\n",
    "subplots_adjust(wspace=.15, hspace=.1)\n",
    "legend( legend_refs[::-1], theoretical_alphas[::-1], loc = 'center right', bbox_to_anchor = (.1,0,1,1),\n",
    "            bbox_transform = plt.gcf().transFigure, title=r'$\\alpha$ of Data' )\n",
    "savefig('Fig_powerlaw_validation_%itrials_%idata.pdf'%(int(n_trials),int(n_data)), bbox_inches='tight')\n",
    "savefig('Fig_powerlaw_validation_%itrials_%idata.tiff'%(int(n_trials),int(n_data)), bbox_inches='tight', dpi=300)"
   ]
  }
 ],
 "metadata": {
  "kernelspec": {
   "display_name": "Python 3",
   "language": "python",
   "name": "python3"
  },
  "language_info": {
   "codemirror_mode": {
    "name": "ipython",
    "version": 3
   },
   "file_extension": ".py",
   "mimetype": "text/x-python",
   "name": "python",
   "nbconvert_exporter": "python",
   "pygments_lexer": "ipython3",
   "version": "3.5.2"
  },
  "toc": {
   "colors": {
    "hover_highlight": "#DAA520",
    "running_highlight": "#FF0000",
    "selected_highlight": "#FFD700"
   },
   "moveMenuLeft": true,
   "nav_menu": {
    "height": "417px",
    "width": "252px"
   },
   "navigate_menu": true,
   "number_sections": false,
   "sideBar": true,
   "threshold": 4,
   "toc_cell": true,
   "toc_position": {
    "height": "543px",
    "left": "0px",
    "right": "auto",
    "top": "106px",
    "width": "212px"
   },
   "toc_section_display": "block",
   "toc_window_display": true
  }
 },
 "nbformat": 4,
 "nbformat_minor": 0
}
