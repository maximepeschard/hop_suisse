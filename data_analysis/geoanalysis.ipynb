{
 "cells": [
  {
   "cell_type": "markdown",
   "metadata": {},
   "source": [
    "# Load librariers and dataset"
   ]
  },
  {
   "cell_type": "code",
   "execution_count": 1,
   "metadata": {
    "collapsed": true
   },
   "outputs": [],
   "source": [
    "import pandas as pd\n",
    "import matplotlib.pyplot as plt\n",
    "%matplotlib inline\n",
    "import seaborn as sns\n",
    "import numpy as np"
   ]
  },
  {
   "cell_type": "code",
   "execution_count": 2,
   "metadata": {
    "collapsed": false
   },
   "outputs": [
    {
     "data": {
      "text/plain": [
       "Index(['Race', 'Date', 'RaceYear', 'RaceMonth', 'Category', 'Distance', 'Name',\n",
       "       'Sex', 'Year', 'LivingPlace', 'Rank', 'Time', 'Pace', 'Place',\n",
       "       'MinTemp', 'MaxTemp', 'Weather', 'RaceID', 'UserID'],\n",
       "      dtype='object')"
      ]
     },
     "execution_count": 2,
     "metadata": {},
     "output_type": "execute_result"
    }
   ],
   "source": [
    "data = pd.read_pickle('df_userID.pickle')\n",
    "data.columns"
   ]
  },
  {
   "cell_type": "markdown",
   "metadata": {},
   "source": [
    "# Geographical analysis\n",
    "\n",
    "In this section we want to find if there are statistically remarkable differences in terms of performance between runners from different Cantons. At first we have then to link each provenience city (saved as 'LivingPlace' in the dataset) to its own Canton. We will consider only the major Swiss cities in this analysis. The reader can refer to the following [web page](http://official-swiss-national-languages.all-about-switzerland.info/names-swiss-villages-towns-languages.html). This approximate procedure allows us to map roughly the 40% of the whole dataset, as we will verify. The geographical information is saved in an excel file named 'swisscities.xlsx'."
   ]
  },
  {
   "cell_type": "code",
   "execution_count": 3,
   "metadata": {
    "collapsed": false
   },
   "outputs": [],
   "source": [
    "cities = pd.read_excel('swisscities.xlsx')\n",
    "cities = cities[['Village / Town','Canton']]\n",
    "cities['City']=cities['Village / Town']\n",
    "del cities['Village / Town']"
   ]
  },
  {
   "cell_type": "code",
   "execution_count": 4,
   "metadata": {
    "collapsed": false
   },
   "outputs": [
    {
     "data": {
      "text/html": [
       "<div>\n",
       "<table border=\"1\" class=\"dataframe\">\n",
       "  <thead>\n",
       "    <tr style=\"text-align: right;\">\n",
       "      <th></th>\n",
       "      <th>Canton</th>\n",
       "      <th>City</th>\n",
       "    </tr>\n",
       "  </thead>\n",
       "  <tbody>\n",
       "    <tr>\n",
       "      <th>0</th>\n",
       "      <td>TG</td>\n",
       "      <td>Aadorf</td>\n",
       "    </tr>\n",
       "    <tr>\n",
       "      <th>1</th>\n",
       "      <td>AG</td>\n",
       "      <td>Aarau</td>\n",
       "    </tr>\n",
       "    <tr>\n",
       "      <th>2</th>\n",
       "      <td>BE</td>\n",
       "      <td>Aarberg</td>\n",
       "    </tr>\n",
       "    <tr>\n",
       "      <th>3</th>\n",
       "      <td>AG</td>\n",
       "      <td>Aarburg</td>\n",
       "    </tr>\n",
       "    <tr>\n",
       "      <th>4</th>\n",
       "      <td>BE</td>\n",
       "      <td>Aarwangen</td>\n",
       "    </tr>\n",
       "  </tbody>\n",
       "</table>\n",
       "</div>"
      ],
      "text/plain": [
       "  Canton       City\n",
       "0     TG     Aadorf\n",
       "1     AG      Aarau\n",
       "2     BE    Aarberg\n",
       "3     AG    Aarburg\n",
       "4     BE  Aarwangen"
      ]
     },
     "execution_count": 4,
     "metadata": {},
     "output_type": "execute_result"
    }
   ],
   "source": [
    "cities.head()"
   ]
  },
  {
   "cell_type": "markdown",
   "metadata": {},
   "source": [
    "We extract all the living places in the dataset:"
   ]
  },
  {
   "cell_type": "code",
   "execution_count": 5,
   "metadata": {
    "collapsed": false
   },
   "outputs": [],
   "source": [
    "provenience = data.LivingPlace.unique()"
   ]
  },
  {
   "cell_type": "markdown",
   "metadata": {},
   "source": [
    "Then we map each city to its own Canton, whenever it is possible; otherwise we set the corresponding Canton to 'nan' (null value)."
   ]
  },
  {
   "cell_type": "code",
   "execution_count": 27,
   "metadata": {
    "collapsed": false
   },
   "outputs": [],
   "source": [
    "general_mapping = {}\n",
    "for city in provenience:\n",
    "    if city in list(cities.City):\n",
    "        general_mapping[city] = list(cities[cities.City==city].Canton)[0]\n",
    "    else:\n",
    "        general_mapping[city]='nan'"
   ]
  },
  {
   "cell_type": "code",
   "execution_count": 28,
   "metadata": {
    "collapsed": false
   },
   "outputs": [],
   "source": [
    "canton = []\n",
    "for i in data.index:\n",
    "    canton.append(general_mapping[data.loc[i].LivingPlace])\n",
    "canton = pd.Series(data=canton,index=data.index)\n",
    "data['LivingCanton']=canton"
   ]
  },
  {
   "cell_type": "code",
   "execution_count": 29,
   "metadata": {
    "collapsed": false
   },
   "outputs": [
    {
     "data": {
      "text/html": [
       "<div>\n",
       "<table border=\"1\" class=\"dataframe\">\n",
       "  <thead>\n",
       "    <tr style=\"text-align: right;\">\n",
       "      <th></th>\n",
       "      <th>Race</th>\n",
       "      <th>Date</th>\n",
       "      <th>RaceYear</th>\n",
       "      <th>RaceMonth</th>\n",
       "      <th>Category</th>\n",
       "      <th>Distance</th>\n",
       "      <th>Name</th>\n",
       "      <th>Sex</th>\n",
       "      <th>Year</th>\n",
       "      <th>LivingPlace</th>\n",
       "      <th>Rank</th>\n",
       "      <th>Time</th>\n",
       "      <th>Pace</th>\n",
       "      <th>Place</th>\n",
       "      <th>MinTemp</th>\n",
       "      <th>MaxTemp</th>\n",
       "      <th>Weather</th>\n",
       "      <th>RaceID</th>\n",
       "      <th>UserID</th>\n",
       "      <th>LivingCanton</th>\n",
       "    </tr>\n",
       "  </thead>\n",
       "  <tbody>\n",
       "    <tr>\n",
       "      <th>0</th>\n",
       "      <td>Kerzerslauf</td>\n",
       "      <td>sam. 18.03.2000</td>\n",
       "      <td>2000</td>\n",
       "      <td>3</td>\n",
       "      <td>M20</td>\n",
       "      <td>15.0</td>\n",
       "      <td>Abgottspon Peter</td>\n",
       "      <td>M</td>\n",
       "      <td>1974.0</td>\n",
       "      <td>Zermatt</td>\n",
       "      <td>233</td>\n",
       "      <td>01:02:25</td>\n",
       "      <td>00:04:09</td>\n",
       "      <td>Kerzers</td>\n",
       "      <td>NaN</td>\n",
       "      <td>NaN</td>\n",
       "      <td>NaN</td>\n",
       "      <td>http://services.datasport.com/2000/lauf/kerzers</td>\n",
       "      <td>Abgottspon Peter 1974.0</td>\n",
       "      <td>VS</td>\n",
       "    </tr>\n",
       "    <tr>\n",
       "      <th>1</th>\n",
       "      <td>Kerzerslauf</td>\n",
       "      <td>sam. 18.03.2000</td>\n",
       "      <td>2000</td>\n",
       "      <td>3</td>\n",
       "      <td>M35</td>\n",
       "      <td>15.0</td>\n",
       "      <td>Abplanalp Michael</td>\n",
       "      <td>M</td>\n",
       "      <td>1964.0</td>\n",
       "      <td>Bern</td>\n",
       "      <td>32</td>\n",
       "      <td>00:55:11.700000</td>\n",
       "      <td>00:03:40</td>\n",
       "      <td>Kerzers</td>\n",
       "      <td>NaN</td>\n",
       "      <td>NaN</td>\n",
       "      <td>NaN</td>\n",
       "      <td>http://services.datasport.com/2000/lauf/kerzers</td>\n",
       "      <td>Abplanalp Michael 1964.0</td>\n",
       "      <td>BE</td>\n",
       "    </tr>\n",
       "    <tr>\n",
       "      <th>2</th>\n",
       "      <td>Kerzerslauf</td>\n",
       "      <td>sam. 18.03.2000</td>\n",
       "      <td>2000</td>\n",
       "      <td>3</td>\n",
       "      <td>M50</td>\n",
       "      <td>15.0</td>\n",
       "      <td>Abt Werner</td>\n",
       "      <td>M</td>\n",
       "      <td>1947.0</td>\n",
       "      <td>Spiez</td>\n",
       "      <td>155</td>\n",
       "      <td>01:12:42.900000</td>\n",
       "      <td>00:04:50</td>\n",
       "      <td>Kerzers</td>\n",
       "      <td>NaN</td>\n",
       "      <td>NaN</td>\n",
       "      <td>NaN</td>\n",
       "      <td>http://services.datasport.com/2000/lauf/kerzers</td>\n",
       "      <td>Abt Werner 1947.0</td>\n",
       "      <td>nan</td>\n",
       "    </tr>\n",
       "    <tr>\n",
       "      <th>3</th>\n",
       "      <td>Kerzerslauf</td>\n",
       "      <td>sam. 18.03.2000</td>\n",
       "      <td>2000</td>\n",
       "      <td>3</td>\n",
       "      <td>F45</td>\n",
       "      <td>15.0</td>\n",
       "      <td>Ackermann Antoinette</td>\n",
       "      <td>F</td>\n",
       "      <td>1953.0</td>\n",
       "      <td>Alterswil</td>\n",
       "      <td>48</td>\n",
       "      <td>01:22:36.700000</td>\n",
       "      <td>00:05:30</td>\n",
       "      <td>Kerzers</td>\n",
       "      <td>NaN</td>\n",
       "      <td>NaN</td>\n",
       "      <td>NaN</td>\n",
       "      <td>http://services.datasport.com/2000/lauf/kerzers</td>\n",
       "      <td>Ackermann Antoinette 1953.0</td>\n",
       "      <td>FR</td>\n",
       "    </tr>\n",
       "    <tr>\n",
       "      <th>4</th>\n",
       "      <td>Kerzerslauf</td>\n",
       "      <td>sam. 18.03.2000</td>\n",
       "      <td>2000</td>\n",
       "      <td>3</td>\n",
       "      <td>F50</td>\n",
       "      <td>15.0</td>\n",
       "      <td>Ackermann Hedy</td>\n",
       "      <td>F</td>\n",
       "      <td>1946.0</td>\n",
       "      <td>Alterswil</td>\n",
       "      <td>42</td>\n",
       "      <td>01:23:29.300000</td>\n",
       "      <td>00:05:33</td>\n",
       "      <td>Kerzers</td>\n",
       "      <td>NaN</td>\n",
       "      <td>NaN</td>\n",
       "      <td>NaN</td>\n",
       "      <td>http://services.datasport.com/2000/lauf/kerzers</td>\n",
       "      <td>Ackermann Hedy 1946.0</td>\n",
       "      <td>FR</td>\n",
       "    </tr>\n",
       "  </tbody>\n",
       "</table>\n",
       "</div>"
      ],
      "text/plain": [
       "          Race             Date  RaceYear  RaceMonth Category  Distance  \\\n",
       "0  Kerzerslauf  sam. 18.03.2000      2000          3      M20      15.0   \n",
       "1  Kerzerslauf  sam. 18.03.2000      2000          3      M35      15.0   \n",
       "2  Kerzerslauf  sam. 18.03.2000      2000          3      M50      15.0   \n",
       "3  Kerzerslauf  sam. 18.03.2000      2000          3      F45      15.0   \n",
       "4  Kerzerslauf  sam. 18.03.2000      2000          3      F50      15.0   \n",
       "\n",
       "                   Name Sex    Year LivingPlace  Rank            Time  \\\n",
       "0      Abgottspon Peter   M  1974.0     Zermatt   233        01:02:25   \n",
       "1     Abplanalp Michael   M  1964.0        Bern    32 00:55:11.700000   \n",
       "2            Abt Werner   M  1947.0       Spiez   155 01:12:42.900000   \n",
       "3  Ackermann Antoinette   F  1953.0   Alterswil    48 01:22:36.700000   \n",
       "4        Ackermann Hedy   F  1946.0   Alterswil    42 01:23:29.300000   \n",
       "\n",
       "      Pace    Place  MinTemp  MaxTemp Weather  \\\n",
       "0 00:04:09  Kerzers      NaN      NaN     NaN   \n",
       "1 00:03:40  Kerzers      NaN      NaN     NaN   \n",
       "2 00:04:50  Kerzers      NaN      NaN     NaN   \n",
       "3 00:05:30  Kerzers      NaN      NaN     NaN   \n",
       "4 00:05:33  Kerzers      NaN      NaN     NaN   \n",
       "\n",
       "                                            RaceID  \\\n",
       "0  http://services.datasport.com/2000/lauf/kerzers   \n",
       "1  http://services.datasport.com/2000/lauf/kerzers   \n",
       "2  http://services.datasport.com/2000/lauf/kerzers   \n",
       "3  http://services.datasport.com/2000/lauf/kerzers   \n",
       "4  http://services.datasport.com/2000/lauf/kerzers   \n",
       "\n",
       "                        UserID LivingCanton  \n",
       "0      Abgottspon Peter 1974.0           VS  \n",
       "1     Abplanalp Michael 1964.0           BE  \n",
       "2            Abt Werner 1947.0          nan  \n",
       "3  Ackermann Antoinette 1953.0           FR  \n",
       "4        Ackermann Hedy 1946.0           FR  "
      ]
     },
     "execution_count": 29,
     "metadata": {},
     "output_type": "execute_result"
    }
   ],
   "source": [
    "data.head()"
   ]
  },
  {
   "cell_type": "code",
   "execution_count": 30,
   "metadata": {
    "collapsed": true
   },
   "outputs": [],
   "source": [
    "geodata = data[data.LivingCanton!='nan']"
   ]
  },
  {
   "cell_type": "markdown",
   "metadata": {},
   "source": [
    "From now on work on the mapped dataset"
   ]
  },
  {
   "cell_type": "code",
   "execution_count": 31,
   "metadata": {
    "collapsed": false
   },
   "outputs": [],
   "source": [
    "# unique identifier for runners in any year\n",
    "geodata = geodata.drop_duplicates(['UserID','RaceYear'])"
   ]
  },
  {
   "cell_type": "code",
   "execution_count": 8,
   "metadata": {
    "collapsed": false
   },
   "outputs": [],
   "source": [
    "cantons_per_year = {}\n",
    "for year in range(np.min(geodata.RaceYear),np.max(geodata.RaceYear)+1):\n",
    "    cantons_per_year[year]=geodata[geodata.RaceYear==year].LivingCanton.value_counts()"
   ]
  },
  {
   "cell_type": "code",
   "execution_count": 9,
   "metadata": {
    "collapsed": false
   },
   "outputs": [
    {
     "data": {
      "text/plain": [
       "[<matplotlib.lines.Line2D at 0x2348d470>]"
      ]
     },
     "execution_count": 9,
     "metadata": {},
     "output_type": "execute_result"
    },
    {
     "data": {
      "image/png": "[encoded data removed]",
      "text/plain": [
       "<matplotlib.figure.Figure at 0x2348fb38>"
      ]
     },
     "metadata": {},
     "output_type": "display_data"
    }
   ],
   "source": [
    "particip = []\n",
    "years = range(np.min(geodata.RaceYear),np.max(geodata.RaceYear)+1)\n",
    "for year in years:\n",
    "    particip.append(cantons_per_year[year].sum())\n",
    "plt.plot(years,particip,marker='o')"
   ]
  },
  {
   "cell_type": "code",
   "execution_count": 10,
   "metadata": {
    "collapsed": false
   },
   "outputs": [
    {
     "data": {
      "text/plain": [
       "array(['VS', 'BE', 'FR', 'JU', 'AG', 'VD', 'SO', 'LU', 'ZG', 'NE', 'ZH',\n",
       "       'BL', 'TG', 'BS', 'TI', 'GE', 'GR', 'SH', 'AR', 'SG', 'AI', 'UR',\n",
       "       'SZ', 'GL', 'NW', 'OW', 'BE/NE'], dtype=object)"
      ]
     },
     "execution_count": 10,
     "metadata": {},
     "output_type": "execute_result"
    }
   ],
   "source": [
    "cantons = geodata.LivingCanton.unique()\n",
    "cantons = cantons[cantons!='nan']\n",
    "cantons"
   ]
  },
  {
   "cell_type": "code",
   "execution_count": 11,
   "metadata": {
    "collapsed": false
   },
   "outputs": [
    {
     "data": {
      "text/html": [
       "<div>\n",
       "<table border=\"1\" class=\"dataframe\">\n",
       "  <thead>\n",
       "    <tr style=\"text-align: right;\">\n",
       "      <th></th>\n",
       "      <th>2000</th>\n",
       "      <th>2001</th>\n",
       "      <th>2002</th>\n",
       "      <th>2003</th>\n",
       "      <th>2004</th>\n",
       "      <th>2005</th>\n",
       "      <th>2006</th>\n",
       "      <th>2007</th>\n",
       "      <th>2008</th>\n",
       "      <th>2009</th>\n",
       "      <th>2010</th>\n",
       "      <th>2011</th>\n",
       "      <th>2012</th>\n",
       "      <th>2013</th>\n",
       "      <th>2014</th>\n",
       "      <th>2015</th>\n",
       "    </tr>\n",
       "  </thead>\n",
       "  <tbody>\n",
       "    <tr>\n",
       "      <th>VS</th>\n",
       "      <td>1088</td>\n",
       "      <td>2799</td>\n",
       "      <td>2625</td>\n",
       "      <td>3257</td>\n",
       "      <td>3640</td>\n",
       "      <td>3629</td>\n",
       "      <td>4130</td>\n",
       "      <td>4426</td>\n",
       "      <td>4812</td>\n",
       "      <td>5003</td>\n",
       "      <td>4772</td>\n",
       "      <td>5497</td>\n",
       "      <td>5720</td>\n",
       "      <td>5304</td>\n",
       "      <td>5795</td>\n",
       "      <td>5665</td>\n",
       "    </tr>\n",
       "    <tr>\n",
       "      <th>BE</th>\n",
       "      <td>564</td>\n",
       "      <td>931</td>\n",
       "      <td>1404</td>\n",
       "      <td>1685</td>\n",
       "      <td>1903</td>\n",
       "      <td>2206</td>\n",
       "      <td>2408</td>\n",
       "      <td>2248</td>\n",
       "      <td>2191</td>\n",
       "      <td>2498</td>\n",
       "      <td>2472</td>\n",
       "      <td>2496</td>\n",
       "      <td>2611</td>\n",
       "      <td>2690</td>\n",
       "      <td>2981</td>\n",
       "      <td>2794</td>\n",
       "    </tr>\n",
       "    <tr>\n",
       "      <th>FR</th>\n",
       "      <td>168</td>\n",
       "      <td>659</td>\n",
       "      <td>737</td>\n",
       "      <td>973</td>\n",
       "      <td>563</td>\n",
       "      <td>639</td>\n",
       "      <td>778</td>\n",
       "      <td>1542</td>\n",
       "      <td>1450</td>\n",
       "      <td>1725</td>\n",
       "      <td>1994</td>\n",
       "      <td>2371</td>\n",
       "      <td>2653</td>\n",
       "      <td>2976</td>\n",
       "      <td>3142</td>\n",
       "      <td>3290</td>\n",
       "    </tr>\n",
       "    <tr>\n",
       "      <th>JU</th>\n",
       "      <td>146</td>\n",
       "      <td>1151</td>\n",
       "      <td>1532</td>\n",
       "      <td>3336</td>\n",
       "      <td>3691</td>\n",
       "      <td>3708</td>\n",
       "      <td>4589</td>\n",
       "      <td>4674</td>\n",
       "      <td>4896</td>\n",
       "      <td>5431</td>\n",
       "      <td>4091</td>\n",
       "      <td>4619</td>\n",
       "      <td>4963</td>\n",
       "      <td>4717</td>\n",
       "      <td>5141</td>\n",
       "      <td>3145</td>\n",
       "    </tr>\n",
       "    <tr>\n",
       "      <th>AG</th>\n",
       "      <td>139</td>\n",
       "      <td>687</td>\n",
       "      <td>789</td>\n",
       "      <td>1061</td>\n",
       "      <td>1149</td>\n",
       "      <td>1396</td>\n",
       "      <td>1371</td>\n",
       "      <td>1453</td>\n",
       "      <td>1200</td>\n",
       "      <td>1391</td>\n",
       "      <td>1302</td>\n",
       "      <td>1414</td>\n",
       "      <td>2199</td>\n",
       "      <td>2172</td>\n",
       "      <td>2303</td>\n",
       "      <td>1854</td>\n",
       "    </tr>\n",
       "    <tr>\n",
       "      <th>VD</th>\n",
       "      <td>139</td>\n",
       "      <td>383</td>\n",
       "      <td>508</td>\n",
       "      <td>803</td>\n",
       "      <td>1036</td>\n",
       "      <td>1619</td>\n",
       "      <td>1602</td>\n",
       "      <td>1383</td>\n",
       "      <td>1452</td>\n",
       "      <td>1504</td>\n",
       "      <td>1164</td>\n",
       "      <td>1218</td>\n",
       "      <td>1172</td>\n",
       "      <td>1146</td>\n",
       "      <td>1179</td>\n",
       "      <td>915</td>\n",
       "    </tr>\n",
       "    <tr>\n",
       "      <th>SO</th>\n",
       "      <td>137</td>\n",
       "      <td>927</td>\n",
       "      <td>1664</td>\n",
       "      <td>2189</td>\n",
       "      <td>1090</td>\n",
       "      <td>1762</td>\n",
       "      <td>3334</td>\n",
       "      <td>3358</td>\n",
       "      <td>2591</td>\n",
       "      <td>6118</td>\n",
       "      <td>6750</td>\n",
       "      <td>7132</td>\n",
       "      <td>7155</td>\n",
       "      <td>8527</td>\n",
       "      <td>9952</td>\n",
       "      <td>9687</td>\n",
       "    </tr>\n",
       "    <tr>\n",
       "      <th>LU</th>\n",
       "      <td>122</td>\n",
       "      <td>545</td>\n",
       "      <td>826</td>\n",
       "      <td>1092</td>\n",
       "      <td>1080</td>\n",
       "      <td>944</td>\n",
       "      <td>1384</td>\n",
       "      <td>1385</td>\n",
       "      <td>1488</td>\n",
       "      <td>2163</td>\n",
       "      <td>2211</td>\n",
       "      <td>2046</td>\n",
       "      <td>2104</td>\n",
       "      <td>2262</td>\n",
       "      <td>2216</td>\n",
       "      <td>1665</td>\n",
       "    </tr>\n",
       "    <tr>\n",
       "      <th>ZG</th>\n",
       "      <td>79</td>\n",
       "      <td>305</td>\n",
       "      <td>295</td>\n",
       "      <td>415</td>\n",
       "      <td>452</td>\n",
       "      <td>483</td>\n",
       "      <td>497</td>\n",
       "      <td>520</td>\n",
       "      <td>581</td>\n",
       "      <td>651</td>\n",
       "      <td>714</td>\n",
       "      <td>766</td>\n",
       "      <td>879</td>\n",
       "      <td>830</td>\n",
       "      <td>883</td>\n",
       "      <td>584</td>\n",
       "    </tr>\n",
       "    <tr>\n",
       "      <th>NE</th>\n",
       "      <td>75</td>\n",
       "      <td>137</td>\n",
       "      <td>192</td>\n",
       "      <td>192</td>\n",
       "      <td>184</td>\n",
       "      <td>175</td>\n",
       "      <td>227</td>\n",
       "      <td>241</td>\n",
       "      <td>298</td>\n",
       "      <td>380</td>\n",
       "      <td>333</td>\n",
       "      <td>328</td>\n",
       "      <td>284</td>\n",
       "      <td>206</td>\n",
       "      <td>260</td>\n",
       "      <td>213</td>\n",
       "    </tr>\n",
       "    <tr>\n",
       "      <th>ZH</th>\n",
       "      <td>62</td>\n",
       "      <td>153</td>\n",
       "      <td>177</td>\n",
       "      <td>238</td>\n",
       "      <td>108</td>\n",
       "      <td>169</td>\n",
       "      <td>426</td>\n",
       "      <td>251</td>\n",
       "      <td>481</td>\n",
       "      <td>523</td>\n",
       "      <td>919</td>\n",
       "      <td>866</td>\n",
       "      <td>977</td>\n",
       "      <td>1040</td>\n",
       "      <td>475</td>\n",
       "      <td>479</td>\n",
       "    </tr>\n",
       "    <tr>\n",
       "      <th>BL</th>\n",
       "      <td>45</td>\n",
       "      <td>146</td>\n",
       "      <td>273</td>\n",
       "      <td>232</td>\n",
       "      <td>274</td>\n",
       "      <td>390</td>\n",
       "      <td>390</td>\n",
       "      <td>391</td>\n",
       "      <td>404</td>\n",
       "      <td>481</td>\n",
       "      <td>530</td>\n",
       "      <td>528</td>\n",
       "      <td>566</td>\n",
       "      <td>649</td>\n",
       "      <td>653</td>\n",
       "      <td>463</td>\n",
       "    </tr>\n",
       "    <tr>\n",
       "      <th>TG</th>\n",
       "      <td>45</td>\n",
       "      <td>533</td>\n",
       "      <td>671</td>\n",
       "      <td>837</td>\n",
       "      <td>966</td>\n",
       "      <td>1210</td>\n",
       "      <td>1220</td>\n",
       "      <td>1149</td>\n",
       "      <td>1061</td>\n",
       "      <td>1304</td>\n",
       "      <td>1246</td>\n",
       "      <td>1498</td>\n",
       "      <td>2659</td>\n",
       "      <td>2621</td>\n",
       "      <td>3020</td>\n",
       "      <td>2328</td>\n",
       "    </tr>\n",
       "    <tr>\n",
       "      <th>BS</th>\n",
       "      <td>33</td>\n",
       "      <td>113</td>\n",
       "      <td>118</td>\n",
       "      <td>111</td>\n",
       "      <td>78</td>\n",
       "      <td>115</td>\n",
       "      <td>110</td>\n",
       "      <td>170</td>\n",
       "      <td>419</td>\n",
       "      <td>872</td>\n",
       "      <td>1023</td>\n",
       "      <td>1085</td>\n",
       "      <td>1130</td>\n",
       "      <td>1170</td>\n",
       "      <td>1399</td>\n",
       "      <td>1445</td>\n",
       "    </tr>\n",
       "    <tr>\n",
       "      <th>TI</th>\n",
       "      <td>29</td>\n",
       "      <td>307</td>\n",
       "      <td>400</td>\n",
       "      <td>545</td>\n",
       "      <td>691</td>\n",
       "      <td>714</td>\n",
       "      <td>783</td>\n",
       "      <td>753</td>\n",
       "      <td>762</td>\n",
       "      <td>851</td>\n",
       "      <td>681</td>\n",
       "      <td>648</td>\n",
       "      <td>627</td>\n",
       "      <td>605</td>\n",
       "      <td>659</td>\n",
       "      <td>605</td>\n",
       "    </tr>\n",
       "    <tr>\n",
       "      <th>GE</th>\n",
       "      <td>28</td>\n",
       "      <td>365</td>\n",
       "      <td>2791</td>\n",
       "      <td>2902</td>\n",
       "      <td>501</td>\n",
       "      <td>2939</td>\n",
       "      <td>3104</td>\n",
       "      <td>3156</td>\n",
       "      <td>3155</td>\n",
       "      <td>4711</td>\n",
       "      <td>4622</td>\n",
       "      <td>5437</td>\n",
       "      <td>5928</td>\n",
       "      <td>6081</td>\n",
       "      <td>6486</td>\n",
       "      <td>7069</td>\n",
       "    </tr>\n",
       "    <tr>\n",
       "      <th>GR</th>\n",
       "      <td>27</td>\n",
       "      <td>187</td>\n",
       "      <td>303</td>\n",
       "      <td>477</td>\n",
       "      <td>425</td>\n",
       "      <td>526</td>\n",
       "      <td>696</td>\n",
       "      <td>665</td>\n",
       "      <td>567</td>\n",
       "      <td>1026</td>\n",
       "      <td>878</td>\n",
       "      <td>991</td>\n",
       "      <td>1022</td>\n",
       "      <td>1190</td>\n",
       "      <td>1147</td>\n",
       "      <td>1132</td>\n",
       "    </tr>\n",
       "    <tr>\n",
       "      <th>SH</th>\n",
       "      <td>25</td>\n",
       "      <td>89</td>\n",
       "      <td>111</td>\n",
       "      <td>188</td>\n",
       "      <td>234</td>\n",
       "      <td>243</td>\n",
       "      <td>308</td>\n",
       "      <td>298</td>\n",
       "      <td>335</td>\n",
       "      <td>332</td>\n",
       "      <td>333</td>\n",
       "      <td>365</td>\n",
       "      <td>383</td>\n",
       "      <td>375</td>\n",
       "      <td>366</td>\n",
       "      <td>302</td>\n",
       "    </tr>\n",
       "    <tr>\n",
       "      <th>AR</th>\n",
       "      <td>21</td>\n",
       "      <td>85</td>\n",
       "      <td>82</td>\n",
       "      <td>91</td>\n",
       "      <td>48</td>\n",
       "      <td>67</td>\n",
       "      <td>84</td>\n",
       "      <td>105</td>\n",
       "      <td>138</td>\n",
       "      <td>148</td>\n",
       "      <td>164</td>\n",
       "      <td>202</td>\n",
       "      <td>239</td>\n",
       "      <td>262</td>\n",
       "      <td>311</td>\n",
       "      <td>346</td>\n",
       "    </tr>\n",
       "    <tr>\n",
       "      <th>SG</th>\n",
       "      <td>17</td>\n",
       "      <td>42</td>\n",
       "      <td>55</td>\n",
       "      <td>51</td>\n",
       "      <td>80</td>\n",
       "      <td>86</td>\n",
       "      <td>106</td>\n",
       "      <td>111</td>\n",
       "      <td>94</td>\n",
       "      <td>106</td>\n",
       "      <td>134</td>\n",
       "      <td>91</td>\n",
       "      <td>93</td>\n",
       "      <td>86</td>\n",
       "      <td>83</td>\n",
       "      <td>78</td>\n",
       "    </tr>\n",
       "    <tr>\n",
       "      <th>AI</th>\n",
       "      <td>12</td>\n",
       "      <td>52</td>\n",
       "      <td>65</td>\n",
       "      <td>86</td>\n",
       "      <td>104</td>\n",
       "      <td>95</td>\n",
       "      <td>125</td>\n",
       "      <td>118</td>\n",
       "      <td>148</td>\n",
       "      <td>177</td>\n",
       "      <td>179</td>\n",
       "      <td>176</td>\n",
       "      <td>162</td>\n",
       "      <td>187</td>\n",
       "      <td>159</td>\n",
       "      <td>151</td>\n",
       "    </tr>\n",
       "    <tr>\n",
       "      <th>UR</th>\n",
       "      <td>6</td>\n",
       "      <td>36</td>\n",
       "      <td>73</td>\n",
       "      <td>104</td>\n",
       "      <td>102</td>\n",
       "      <td>79</td>\n",
       "      <td>119</td>\n",
       "      <td>112</td>\n",
       "      <td>115</td>\n",
       "      <td>191</td>\n",
       "      <td>172</td>\n",
       "      <td>183</td>\n",
       "      <td>171</td>\n",
       "      <td>212</td>\n",
       "      <td>213</td>\n",
       "      <td>208</td>\n",
       "    </tr>\n",
       "    <tr>\n",
       "      <th>SZ</th>\n",
       "      <td>6</td>\n",
       "      <td>24</td>\n",
       "      <td>19</td>\n",
       "      <td>20</td>\n",
       "      <td>49</td>\n",
       "      <td>72</td>\n",
       "      <td>77</td>\n",
       "      <td>66</td>\n",
       "      <td>73</td>\n",
       "      <td>57</td>\n",
       "      <td>61</td>\n",
       "      <td>65</td>\n",
       "      <td>62</td>\n",
       "      <td>46</td>\n",
       "      <td>42</td>\n",
       "      <td>46</td>\n",
       "    </tr>\n",
       "    <tr>\n",
       "      <th>GL</th>\n",
       "      <td>5</td>\n",
       "      <td>17</td>\n",
       "      <td>31</td>\n",
       "      <td>40</td>\n",
       "      <td>39</td>\n",
       "      <td>42</td>\n",
       "      <td>59</td>\n",
       "      <td>59</td>\n",
       "      <td>82</td>\n",
       "      <td>83</td>\n",
       "      <td>81</td>\n",
       "      <td>80</td>\n",
       "      <td>81</td>\n",
       "      <td>89</td>\n",
       "      <td>88</td>\n",
       "      <td>86</td>\n",
       "    </tr>\n",
       "    <tr>\n",
       "      <th>NW</th>\n",
       "      <td>3</td>\n",
       "      <td>6</td>\n",
       "      <td>10</td>\n",
       "      <td>19</td>\n",
       "      <td>26</td>\n",
       "      <td>63</td>\n",
       "      <td>63</td>\n",
       "      <td>55</td>\n",
       "      <td>57</td>\n",
       "      <td>45</td>\n",
       "      <td>39</td>\n",
       "      <td>31</td>\n",
       "      <td>31</td>\n",
       "      <td>29</td>\n",
       "      <td>28</td>\n",
       "      <td>41</td>\n",
       "    </tr>\n",
       "    <tr>\n",
       "      <th>OW</th>\n",
       "      <td>1</td>\n",
       "      <td>18</td>\n",
       "      <td>20</td>\n",
       "      <td>28</td>\n",
       "      <td>25</td>\n",
       "      <td>21</td>\n",
       "      <td>26</td>\n",
       "      <td>23</td>\n",
       "      <td>21</td>\n",
       "      <td>43</td>\n",
       "      <td>42</td>\n",
       "      <td>47</td>\n",
       "      <td>52</td>\n",
       "      <td>40</td>\n",
       "      <td>41</td>\n",
       "      <td>46</td>\n",
       "    </tr>\n",
       "  </tbody>\n",
       "</table>\n",
       "</div>"
      ],
      "text/plain": [
       "    2000  2001  2002  2003  2004  2005  2006  2007  2008  2009  2010  2011  \\\n",
       "VS  1088  2799  2625  3257  3640  3629  4130  4426  4812  5003  4772  5497   \n",
       "BE   564   931  1404  1685  1903  2206  2408  2248  2191  2498  2472  2496   \n",
       "FR   168   659   737   973   563   639   778  1542  1450  1725  1994  2371   \n",
       "JU   146  1151  1532  3336  3691  3708  4589  4674  4896  5431  4091  4619   \n",
       "AG   139   687   789  1061  1149  1396  1371  1453  1200  1391  1302  1414   \n",
       "VD   139   383   508   803  1036  1619  1602  1383  1452  1504  1164  1218   \n",
       "SO   137   927  1664  2189  1090  1762  3334  3358  2591  6118  6750  7132   \n",
       "LU   122   545   826  1092  1080   944  1384  1385  1488  2163  2211  2046   \n",
       "ZG    79   305   295   415   452   483   497   520   581   651   714   766   \n",
       "NE    75   137   192   192   184   175   227   241   298   380   333   328   \n",
       "ZH    62   153   177   238   108   169   426   251   481   523   919   866   \n",
       "BL    45   146   273   232   274   390   390   391   404   481   530   528   \n",
       "TG    45   533   671   837   966  1210  1220  1149  1061  1304  1246  1498   \n",
       "BS    33   113   118   111    78   115   110   170   419   872  1023  1085   \n",
       "TI    29   307   400   545   691   714   783   753   762   851   681   648   \n",
       "GE    28   365  2791  2902   501  2939  3104  3156  3155  4711  4622  5437   \n",
       "GR    27   187   303   477   425   526   696   665   567  1026   878   991   \n",
       "SH    25    89   111   188   234   243   308   298   335   332   333   365   \n",
       "AR    21    85    82    91    48    67    84   105   138   148   164   202   \n",
       "SG    17    42    55    51    80    86   106   111    94   106   134    91   \n",
       "AI    12    52    65    86   104    95   125   118   148   177   179   176   \n",
       "UR     6    36    73   104   102    79   119   112   115   191   172   183   \n",
       "SZ     6    24    19    20    49    72    77    66    73    57    61    65   \n",
       "GL     5    17    31    40    39    42    59    59    82    83    81    80   \n",
       "NW     3     6    10    19    26    63    63    55    57    45    39    31   \n",
       "OW     1    18    20    28    25    21    26    23    21    43    42    47   \n",
       "\n",
       "    2012  2013  2014  2015  \n",
       "VS  5720  5304  5795  5665  \n",
       "BE  2611  2690  2981  2794  \n",
       "FR  2653  2976  3142  3290  \n",
       "JU  4963  4717  5141  3145  \n",
       "AG  2199  2172  2303  1854  \n",
       "VD  1172  1146  1179   915  \n",
       "SO  7155  8527  9952  9687  \n",
       "LU  2104  2262  2216  1665  \n",
       "ZG   879   830   883   584  \n",
       "NE   284   206   260   213  \n",
       "ZH   977  1040   475   479  \n",
       "BL   566   649   653   463  \n",
       "TG  2659  2621  3020  2328  \n",
       "BS  1130  1170  1399  1445  \n",
       "TI   627   605   659   605  \n",
       "GE  5928  6081  6486  7069  \n",
       "GR  1022  1190  1147  1132  \n",
       "SH   383   375   366   302  \n",
       "AR   239   262   311   346  \n",
       "SG    93    86    83    78  \n",
       "AI   162   187   159   151  \n",
       "UR   171   212   213   208  \n",
       "SZ    62    46    42    46  \n",
       "GL    81    89    88    86  \n",
       "NW    31    29    28    41  \n",
       "OW    52    40    41    46  "
      ]
     },
     "execution_count": 11,
     "metadata": {},
     "output_type": "execute_result"
    }
   ],
   "source": [
    "time_evolution = pd.DataFrame()\n",
    "for year in years:\n",
    "    if 'BE/NE' in cantons_per_year[year].index:\n",
    "        cantons_per_year[year]['BE']+=cantons_per_year[year]['BE/NE']\n",
    "    time_evolution[year]=cantons_per_year[year]\n",
    "cantons = cantons[cantons!='BE/NE']\n",
    "time_evolution = time_evolution.set_index(cantons)\n",
    "time_evolution"
   ]
  },
  {
   "cell_type": "code",
   "execution_count": 43,
   "metadata": {
    "collapsed": true
   },
   "outputs": [],
   "source": [
    "time_evolution.to_csv('time_evol_per_canton.csv',encoding='latin1')"
   ]
  },
  {
   "cell_type": "markdown",
   "metadata": {},
   "source": [
    "# Plots"
   ]
  },
  {
   "cell_type": "code",
   "execution_count": 12,
   "metadata": {
    "collapsed": false
   },
   "outputs": [
    {
     "data": {
      "text/plain": [
       "<matplotlib.text.Text at 0x8f573c8>"
      ]
     },
     "execution_count": 12,
     "metadata": {},
     "output_type": "execute_result"
    },
    {
     "data": {
      "image/png": "[encoded data removed]",
      "text/plain": [
       "<matplotlib.figure.Figure at 0x8f499b0>"
      ]
     },
     "metadata": {},
     "output_type": "display_data"
    }
   ],
   "source": [
    "time_evolution = pd.read_csv('time_evol_per_canton.csv',encoding='latin1')\n",
    "time_evolution = time_evolution.rename(columns={'Unnamed: 0' : 'canton'})\n",
    "time_evolution = time_evolution.set_index('canton')\n",
    "for i in time_evolution.index:\n",
    "    plt.plot(time_evolution.loc[i],marker='None',label=str(i))\n",
    "plt.legend()\n",
    "plt.title('Participants from each Canton in time')\n",
    "plt.xlabel('year')\n",
    "plt.ylabel('runners')"
   ]
  },
  {
   "cell_type": "code",
   "execution_count": 45,
   "metadata": {
    "collapsed": false
   },
   "outputs": [],
   "source": [
    "# population density per canton\n",
    "canton_population = pd.read_excel('canton_population.xlsx')\n",
    "canton_population = canton_population[['Canton','Population','Area']]\n",
    "canton_population = canton_population.set_index('Canton')"
   ]
  },
  {
   "cell_type": "code",
   "execution_count": 46,
   "metadata": {
    "collapsed": false
   },
   "outputs": [
    {
     "data": {
      "text/plain": [
       "<matplotlib.text.Text at 0x423a46d8>"
      ]
     },
     "execution_count": 46,
     "metadata": {},
     "output_type": "execute_result"
    },
    {
     "data": {
      "image/png": "[encoded data removed]",
      "text/plain": [
       "<matplotlib.figure.Figure at 0x3e291a20>"
      ]
     },
     "metadata": {},
     "output_type": "display_data"
    }
   ],
   "source": [
    "for i in time_evolution.index:\n",
    "    plt.plot(time_evolution.loc[i]/canton_population.loc[i].Population,marker='None',label=str(i))\n",
    "plt.legend()\n",
    "plt.title('Participants/Population from each Canton in time')\n",
    "plt.xlabel('year')\n",
    "plt.ylabel('runners/inhabitants')"
   ]
  },
  {
   "cell_type": "code",
   "execution_count": 47,
   "metadata": {
    "collapsed": false
   },
   "outputs": [
    {
     "data": {
      "text/plain": [
       "<matplotlib.text.Text at 0x4284f5c0>"
      ]
     },
     "execution_count": 47,
     "metadata": {},
     "output_type": "execute_result"
    },
    {
     "data": {
      "image/png": "[encoded data removed]",
      "text/plain": [
       "<matplotlib.figure.Figure at 0x427fd2b0>"
      ]
     },
     "metadata": {},
     "output_type": "display_data"
    }
   ],
   "source": [
    "for i in time_evolution.index:\n",
    "    plt.plot(time_evolution.loc[i]/canton_population.loc[i].Area,marker='None',label=str(i))\n",
    "plt.legend()\n",
    "plt.title('Participants/Surface[km^2] from each Canton in time')\n",
    "plt.xlabel('year')\n",
    "plt.ylabel('runners/km^2')"
   ]
  },
  {
   "cell_type": "code",
   "execution_count": 48,
   "metadata": {
    "collapsed": false
   },
   "outputs": [],
   "source": [
    "from bokeh.plotting import figure, output_file, show\n",
    "# output to static HTML file\n",
    "output_file(\"line.html\")\n",
    "\n",
    "p = figure(title = 'Number of participants vs time', plot_width=400, plot_height=400)\n",
    "p.title.align = \"center\"\n",
    "p.title.text_font_size = \"16px\"\n",
    "p.xaxis[0].axis_label = 'year'\n",
    "p.yaxis[0].axis_label = 'runners'\n",
    "p.xaxis[0].axis_label_text_font_size = '14px'\n",
    "p.yaxis[0].axis_label_text_font_size = '14px'\n",
    "\n",
    "# add a circle renderer with a size, color, and alpha\n",
    "p.line(years, particip, color=\"navy\", line_width=1.5)\n",
    "p.circle(years, particip, size=10, color=\"navy\", alpha=0.5)\n",
    "\n",
    "# show the results\n",
    "show(p)"
   ]
  },
  {
   "cell_type": "code",
   "execution_count": 62,
   "metadata": {
    "collapsed": false
   },
   "outputs": [],
   "source": [
    "colors = ['blue','red','green','orange','navy','chartreuse','darkmagenta','darkgoldenrod','darkslategrey','royalblue']\n",
    "\n",
    "# output to static HTML file\n",
    "output_file(\"plot.html\")\n",
    "\n",
    "years = range(2000,2016)\n",
    "p = figure(title = 'Runners from some Cantons vs time', plot_width=600, plot_height=600)\n",
    "p.title.align = \"center\"\n",
    "p.title.text_font_size = \"18px\"\n",
    "p.xaxis[0].axis_label = 'year'\n",
    "p.yaxis[0].axis_label = 'runners'\n",
    "p.xaxis[0].axis_label_text_font_size = '16px'\n",
    "p.yaxis[0].axis_label_text_font_size = '16px'\n",
    "subindex = ['SO','BE','VD','VS','ZH','GE','TI','FR']\n",
    "for k in range(len(subindex)):\n",
    "    i = subindex[k]\n",
    "    p.line(years, time_evolution.loc[i], legend = i, color=colors[k], line_width=2)\n",
    "    p.circle(years, time_evolution.loc[i], size=7, color=colors[k])\n",
    "p.legend.location = \"top_left\"\n",
    "p.legend.label_text_font_size = '16px'\n",
    "show(p)"
   ]
  },
  {
   "cell_type": "code",
   "execution_count": 65,
   "metadata": {
    "collapsed": false
   },
   "outputs": [],
   "source": [
    "from bokeh.models import Label\n",
    "output_file(\"plot.html\")\n",
    "p2 = figure(title = 'Ratio runners / Canton population vs time', plot_width=600, plot_height=600)\n",
    "p2.title.align = \"center\"\n",
    "p2.title.text_font_size = \"18px\"\n",
    "p2.xaxis[0].axis_label = 'year'\n",
    "p2.yaxis[0].axis_label = 'runners/population'\n",
    "p2.xaxis[0].axis_label_text_font_size = '16px'\n",
    "p2.yaxis[0].axis_label_text_font_size = '16px'\n",
    "subindex = ['JU','SO','VD','VS','FR','BE','GE','ZH']\n",
    "for k in range(len(subindex)):\n",
    "    i = subindex[k]\n",
    "    p2.line(years, time_evolution.loc[i]/canton_population.loc[i].Population, legend = i, color=colors[k], line_width=2)\n",
    "    p2.circle(years, time_evolution.loc[i]/canton_population.loc[i].Population, size=7, color=colors[k])\n",
    "p2.legend.location = \"top_left\"\n",
    "p2.legend.label_text_font_size = '16px'\n",
    "# show the results\n",
    "show(p2)"
   ]
  },
  {
   "cell_type": "markdown",
   "metadata": {},
   "source": [
    "Influence of geography on performance: ANOVA analysis. Define groups:\n",
    "- Jura: Jura, Neuchatel, Schaffhausen, Solothurn, Basel (Stadt, Land)\n",
    "- Plateau: Zurich, Vaud, Fribourg, Aargau, Thurgau, Geneva, Appenzel\n",
    "- Alps: remaining"
   ]
  },
  {
   "cell_type": "code",
   "execution_count": 13,
   "metadata": {
    "collapsed": false
   },
   "outputs": [],
   "source": [
    "jura = ['JU','SH','NE','SO','BS','BL']\n",
    "plateau = ['ZH','VD','FR','GE','AG','TH','AI','AR']\n",
    "alps = list((set(cantons).difference(set(jura).union(set(plateau)))).union({'BE/NE'}))"
   ]
  },
  {
   "cell_type": "code",
   "execution_count": 14,
   "metadata": {
    "collapsed": false
   },
   "outputs": [],
   "source": [
    "geo = {}\n",
    "for k in jura:\n",
    "    geo[k]='Jura'\n",
    "for k in plateau:\n",
    "    geo[k]='plateau'\n",
    "for k in alps:\n",
    "    geo[k]='Alps'"
   ]
  },
  {
   "cell_type": "code",
   "execution_count": 32,
   "metadata": {
    "collapsed": false
   },
   "outputs": [],
   "source": [
    "geoarea = []\n",
    "for k in geodata.index:\n",
    "    geoarea.append(geo[geodata.loc[k].LivingCanton])\n",
    "geodata['geoarea']=geoarea"
   ]
  },
  {
   "cell_type": "markdown",
   "metadata": {},
   "source": [
    "Results with this splitting:"
   ]
  },
  {
   "cell_type": "code",
   "execution_count": 33,
   "metadata": {
    "collapsed": false
   },
   "outputs": [
    {
     "data": {
      "text/plain": [
       "plateau    252551\n",
       "Alps       158520\n",
       "Jura        64915\n",
       "Name: geoarea, dtype: int64"
      ]
     },
     "execution_count": 33,
     "metadata": {},
     "output_type": "execute_result"
    }
   ],
   "source": [
    "geodata.geoarea.value_counts()"
   ]
  },
  {
   "cell_type": "markdown",
   "metadata": {},
   "source": [
    "Focus on female marathon:"
   ]
  },
  {
   "cell_type": "code",
   "execution_count": 34,
   "metadata": {
    "collapsed": false
   },
   "outputs": [],
   "source": [
    "df = geodata[(geodata.Sex=='F') &  (geodata.Distance>=30.0) & (geodata.Distance<=60.0)]"
   ]
  },
  {
   "cell_type": "code",
   "execution_count": 35,
   "metadata": {
    "collapsed": false
   },
   "outputs": [
    {
     "name": "stdout",
     "output_type": "stream",
     "text": [
      "Overall mean: 0 days 04:27:02.464601\n",
      "Jura mean: 0 days 04:34:26.996542\n",
      "Plateau mean: 0 days 04:23:20.568621\n",
      "Alps mean: 0 days 04:28:06.699503\n"
     ]
    }
   ],
   "source": [
    "print('Overall mean: '+str(np.mean(df.Time)))\n",
    "print('Jura mean: '+str(np.mean(df[df.geoarea=='Jura'].Time)))\n",
    "print('Plateau mean: '+str(np.mean(df[df.geoarea=='plateau'].Time)))\n",
    "print('Alps mean: '+str(np.mean(df[df.geoarea=='Alps'].Time)))"
   ]
  },
  {
   "cell_type": "markdown",
   "metadata": {},
   "source": [
    "Cantonal differences:"
   ]
  },
  {
   "cell_type": "code",
   "execution_count": 47,
   "metadata": {
    "collapsed": false
   },
   "outputs": [
    {
     "name": "stderr",
     "output_type": "stream",
     "text": [
      "C:\\Users\\Utente\\Anaconda3\\lib\\site-packages\\pandas\\core\\generic.py:2701: SettingWithCopyWarning: \n",
      "A value is trying to be set on a copy of a slice from a DataFrame.\n",
      "Try using .loc[row_indexer,col_indexer] = value instead\n",
      "\n",
      "See the caveats in the documentation: http://pandas.pydata.org/pandas-docs/stable/indexing.html#indexing-view-versus-copy\n",
      "  self[name] = value\n"
     ]
    }
   ],
   "source": [
    "from bokeh.charts import BoxPlot, output_file, show\n",
    "from bokeh.plotting import figure, output_file, show\n",
    "\n",
    "df = geodata[(geodata.Sex=='F') &  (geodata.Distance>=30.0) & (geodata.Distance<=60.0)]\n",
    "\n",
    "colors = {}\n",
    "colors['Jura']='orange'\n",
    "colors['plateau']='green'\n",
    "colors['Alps']='royalblue'\n",
    "df.Time = df.Time.apply(lambda x: x.total_seconds()/60)\n",
    "geodata['color']=geodata.geoarea.apply(lambda y: colors[y])\n",
    "agg = df[['Time','LivingCanton','geoarea','color']]\n",
    "agg = agg.rename(columns={'Time':'mean time [minutes]','LivingCanton':'Canton'})\n",
    "p = BoxPlot(agg, values='mean time [minutes]', label='Canton', outliers=False,legend=False,\n",
    "            color='color',marker='square',title='mean time boxplot for female marathon (30-60 km)')\n",
    "p.title.align = \"center\"\n",
    "p.title.text_font_size = \"18px\"\n",
    "p.xaxis[0].axis_label = 'Canton'\n",
    "p.yaxis[0].axis_label = 'mean time [minutes]'\n",
    "p.xaxis[0].axis_label_text_font_size = '16px'\n",
    "p.yaxis[0].axis_label_text_font_size = '16px'\n",
    "\n",
    "output_file(\"boxplot.html\")\n",
    "\n",
    "show(p)"
   ]
  },
  {
   "cell_type": "markdown",
   "metadata": {},
   "source": [
    "ANOVA on test case (female marathon); in one case verify NORMALITY and HOMOSCHEDASTICITY"
   ]
  },
  {
   "cell_type": "code",
   "execution_count": 51,
   "metadata": {
    "collapsed": false
   },
   "outputs": [],
   "source": [
    "import scipy.stats as stats\n",
    "samples = []\n",
    "for k in cantons:\n",
    "    samples.append(df.Time[df.LivingCanton==k])"
   ]
  },
  {
   "cell_type": "code",
   "execution_count": 79,
   "metadata": {
    "collapsed": false
   },
   "outputs": [],
   "source": [
    "p_values = {}\n",
    "for i in range(len(cantons)):\n",
    "    for j in range(i,len(cantons)):\n",
    "        p_values[(i,j)]=stats.f_oneway(samples[i],samples[j])[1]"
   ]
  },
  {
   "cell_type": "code",
   "execution_count": 95,
   "metadata": {
    "collapsed": false
   },
   "outputs": [],
   "source": [
    "P_VALUES = pd.DataFrame()\n",
    "for j in range(len(cantons)):\n",
    "    col = []\n",
    "    for i in range(0,j):\n",
    "        p = p_values[(i,j)]\n",
    "        col.append(p)\n",
    "    col.append(1.0)\n",
    "    for i in range(j+1,len(cantons)):\n",
    "        p = p_values[(j,i)]\n",
    "        col.append(p)\n",
    "    col = pd.Series(data=col,index=cantons)\n",
    "    P_VALUES[cantons[j]]=col"
   ]
  },
  {
   "cell_type": "code",
   "execution_count": 103,
   "metadata": {
    "collapsed": false
   },
   "outputs": [
    {
     "data": {
      "text/plain": [
       "VS    1.571369e-35\n",
       "BE    1.148305e-79\n",
       "FR    2.538429e-31\n",
       "JU    2.417235e-08\n",
       "AG    6.083820e-58\n",
       "VD    1.253204e-39\n",
       "SO    6.042504e-39\n",
       "LU    8.601627e-41\n",
       "ZG    1.141646e-36\n",
       "NE    2.682169e-22\n",
       "ZH    1.630739e-65\n",
       "BL    1.692601e-45\n",
       "TG    2.337923e-30\n",
       "BS    4.471792e-43\n",
       "TI    1.000000e+00\n",
       "GE    3.071914e-22\n",
       "GR    7.407669e-34\n",
       "SH    1.707209e-21\n",
       "AR    2.807191e-07\n",
       "SG    2.601286e-45\n",
       "AI    1.596361e-16\n",
       "UR    3.551039e-08\n",
       "SZ    2.370251e-13\n",
       "GL    1.363021e-11\n",
       "NW    2.282852e-14\n",
       "OW    1.736230e-19\n",
       "Name: TI, dtype: float64"
      ]
     },
     "execution_count": 103,
     "metadata": {},
     "output_type": "execute_result"
    }
   ],
   "source": [
    "P_VALUES.loc['TI']"
   ]
  },
  {
   "cell_type": "markdown",
   "metadata": {},
   "source": [
    "Check hypotheses in one random case"
   ]
  },
  {
   "cell_type": "code",
   "execution_count": 138,
   "metadata": {
    "collapsed": false
   },
   "outputs": [],
   "source": [
    "output_file(\"heteroschedasticity.html\")\n",
    "\n",
    "Nc = 1\n",
    "sample = samples[Nc]\n",
    "p = figure(title = 'Heteroschedasticity hypothesis for Canton '+str(cantons[Nc]), plot_width=400, plot_height=400)\n",
    "p.title.align = \"center\"\n",
    "p.title.text_font_size = \"16px\"\n",
    "p.xaxis[0].axis_label = 'index'\n",
    "p.yaxis[0].axis_label = 'residuals'\n",
    "p.xaxis[0].axis_label_text_font_size = '14px'\n",
    "p.yaxis[0].axis_label_text_font_size = '14px'\n",
    "\n",
    "# add a circle renderer with a size, color, and alpha\n",
    "p.line(x=[0,len(sample)],y=[0,0],line_width=2,line_dash=[3,3],color='red')\n",
    "p.circle(range(0,len(sample)), sample-np.mean(sample), size=5, color=\"navy\", alpha=0.5)\n",
    "\n",
    "# show the results\n",
    "show(p)"
   ]
  },
  {
   "cell_type": "code",
   "execution_count": 155,
   "metadata": {
    "collapsed": false
   },
   "outputs": [],
   "source": [
    "# normality hypothesis: Gaussian distribution, Shapiro-Wilk test\n",
    "import math\n",
    "\n",
    "Nc = 14\n",
    "sample = samples[Nc]\n",
    "shapirowilk = stats.shapiro(sample)[1]\n",
    "\n",
    "# add a circle renderer with a size, color, and alpha\n",
    "from bokeh.charts import Histogram, output_file, show\n",
    "\n",
    "df = pd.DataFrame({'time':sample})\n",
    "p = Histogram(df,values='time',color='navy',bins=30,\n",
    "              title='Time PDF for Canton ' +str(cantons[Nc]),\n",
    "              density=True,legend='top_right')\n",
    "p.title.align = \"center\"\n",
    "p.title.text_font_size = \"18px\"\n",
    "p.xaxis[0].axis_label = 'time [minutes]'\n",
    "p.yaxis[0].axis_label = 'density'\n",
    "p.xaxis[0].axis_label_text_font_size = '16px'\n",
    "p.yaxis[0].axis_label_text_font_size = '16px'\n",
    "m = np.mean(sample)\n",
    "sigma = np.std(sample)\n",
    "def gaussian(y,m,sigma):\n",
    "    return 1/math.sqrt(2*math.pi*sigma*sigma)*math.exp(-(y-m)*(y-m)/2/(sigma*sigma))\n",
    "yy = np.arange(np.min(sample), np.max(sample), 0.1)\n",
    "gg = []\n",
    "for k in range(len(yy)):\n",
    "    gg.append(gaussian(yy[k],m,sigma))\n",
    "p.line(list(yy),gg,line_width=2,color='red',legend='Gaussian')\n",
    "\n",
    "output_file(\"histogram_bins.html\")\n",
    "\n",
    "show(p)"
   ]
  }
 ],
 "metadata": {
  "anaconda-cloud": {},
  "kernelspec": {
   "display_name": "Python [Root]",
   "language": "python",
   "name": "Python [Root]"
  },
  "language_info": {
   "codemirror_mode": {
    "name": "ipython",
    "version": 3
   },
   "file_extension": ".py",
   "mimetype": "text/x-python",
   "name": "python",
   "nbconvert_exporter": "python",
   "pygments_lexer": "ipython3",
   "version": "3.5.2"
  }
 },
 "nbformat": 4,
 "nbformat_minor": 0
}
