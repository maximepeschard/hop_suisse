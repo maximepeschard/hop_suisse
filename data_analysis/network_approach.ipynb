{
 "cells": [
  {
   "cell_type": "code",
   "execution_count": 2,
   "metadata": {
    "collapsed": false,
    "run_control": {
     "frozen": false,
     "read_only": false
    }
   },
   "outputs": [
    {
     "data": {
      "text/html": [
       "<style>\n",
       ".lev1 {margin-left: 80px}\n",
       ".lev2 {margin-left: 100px}\n",
       ".lev3 {margin-left: 120px}\n",
       ".lev4 {margin-left: 140px}\n",
       ".lev5 {margin-left: 160px}\n",
       ".lev6 {margin-left: 180px}\n",
       "</style>"
      ],
      "text/plain": [
       "<IPython.core.display.HTML object>"
      ]
     },
     "execution_count": 2,
     "metadata": {},
     "output_type": "execute_result"
    }
   ],
   "source": [
    "from IPython.display import HTML\n",
    "\n",
    "HTML(\"\"\"<style>\n",
    ".lev1 {margin-left: 80px}\n",
    ".lev2 {margin-left: 100px}\n",
    ".lev3 {margin-left: 120px}\n",
    ".lev4 {margin-left: 140px}\n",
    ".lev5 {margin-left: 160px}\n",
    ".lev6 {margin-left: 180px}\n",
    "</style>\"\"\")"
   ]
  },
  {
   "cell_type": "markdown",
   "metadata": {
    "run_control": {
     "frozen": false,
     "read_only": false
    },
    "toc": "true"
   },
   "source": [
    "# Table of Contents\n",
    " <p><div class=\"lev1 toc-item\"><a href=\"#Build-the-network\" data-toc-modified-id=\"Build-the-network-1\"><span class=\"toc-item-num\">1&nbsp;&nbsp;</span>Build the network</a></div><div class=\"lev2 toc-item\"><a href=\"#Loading-and-cleaning-the-full-dataset\" data-toc-modified-id=\"Loading-and-cleaning-the-full-dataset-11\"><span class=\"toc-item-num\">1.1&nbsp;&nbsp;</span>Loading and cleaning the full dataset</a></div><div class=\"lev3 toc-item\"><a href=\"#Methodological-note\" data-toc-modified-id=\"Methodological-note-111\"><span class=\"toc-item-num\">1.1.1&nbsp;&nbsp;</span>Methodological note</a></div><div class=\"lev2 toc-item\"><a href=\"#Build-the-graph\" data-toc-modified-id=\"Build-the-graph-12\"><span class=\"toc-item-num\">1.2&nbsp;&nbsp;</span>Build the graph</a></div><div class=\"lev2 toc-item\"><a href=\"#Draw-the-graph\" data-toc-modified-id=\"Draw-the-graph-13\"><span class=\"toc-item-num\">1.3&nbsp;&nbsp;</span>Draw the graph</a></div><div class=\"lev1 toc-item\"><a href=\"#Network-statistics\" data-toc-modified-id=\"Network-statistics-2\"><span class=\"toc-item-num\">2&nbsp;&nbsp;</span>Network statistics</a></div>"
   ]
  },
  {
   "cell_type": "markdown",
   "metadata": {
    "collapsed": true,
    "run_control": {
     "frozen": false,
     "read_only": false
    }
   },
   "source": [
    "<center>\n",
    "<big><b>\n",
    "\n",
    "Runner's Network analysis on full dataset \n",
    "\n",
    "</b></big>\n",
    "</center>"
   ]
  },
  {
   "cell_type": "code",
   "execution_count": 21,
   "metadata": {
    "collapsed": true,
    "run_control": {
     "frozen": false,
     "read_only": false
    }
   },
   "outputs": [],
   "source": [
    "import pandas as pd\n",
    "import numpy as np\n",
    "\n",
    "import matplotlib.pyplot as plt\n",
    "%matplotlib inline\n",
    "\n",
    "import datetime\n",
    "from scipy import stats\n",
    "\n",
    "import seaborn as sns\n",
    "sns.set_context('notebook')\n",
    "%config InlineBackend.figure_format = 'retina'\n",
    "\n",
    "import powerlaw \n",
    "import networkx as nx"
   ]
  },
  {
   "cell_type": "markdown",
   "metadata": {
    "run_control": {
     "frozen": false,
     "read_only": false
    }
   },
   "source": [
    "# Build the network \n",
    "\n",
    "We construct the runners' network where the _vertex are runners_ and links' weight are the __number of events the participate together__."
   ]
  },
  {
   "cell_type": "markdown",
   "metadata": {
    "run_control": {
     "frozen": false,
     "read_only": false
    }
   },
   "source": [
    "## Loading and cleaning the full dataset"
   ]
  },
  {
   "cell_type": "code",
   "execution_count": 22,
   "metadata": {
    "collapsed": false,
    "run_control": {
     "frozen": false,
     "read_only": false
    }
   },
   "outputs": [
    {
     "data": {
      "text/html": [
       "<div>\n",
       "<table border=\"1\" class=\"dataframe\">\n",
       "  <thead>\n",
       "    <tr style=\"text-align: right;\">\n",
       "      <th></th>\n",
       "      <th>Race</th>\n",
       "      <th>Date</th>\n",
       "      <th>RaceYear</th>\n",
       "      <th>RaceMonth</th>\n",
       "      <th>Category</th>\n",
       "      <th>Distance</th>\n",
       "      <th>Name</th>\n",
       "      <th>Sex</th>\n",
       "      <th>Year</th>\n",
       "      <th>LivingPlace</th>\n",
       "      <th>Rank</th>\n",
       "      <th>Time</th>\n",
       "      <th>Pace</th>\n",
       "      <th>Place</th>\n",
       "      <th>MinTemp</th>\n",
       "      <th>MaxTemp</th>\n",
       "      <th>Weather</th>\n",
       "      <th>RaceID</th>\n",
       "      <th>UserID</th>\n",
       "    </tr>\n",
       "  </thead>\n",
       "  <tbody>\n",
       "    <tr>\n",
       "      <th>0</th>\n",
       "      <td>Kerzerslauf</td>\n",
       "      <td>sam. 18.03.2000</td>\n",
       "      <td>2000</td>\n",
       "      <td>3</td>\n",
       "      <td>M20</td>\n",
       "      <td>15.0</td>\n",
       "      <td>Abgottspon Peter</td>\n",
       "      <td>M</td>\n",
       "      <td>1974.0</td>\n",
       "      <td>Zermatt</td>\n",
       "      <td>233</td>\n",
       "      <td>01:02:25</td>\n",
       "      <td>00:04:09</td>\n",
       "      <td>Kerzers</td>\n",
       "      <td>NaN</td>\n",
       "      <td>NaN</td>\n",
       "      <td>NaN</td>\n",
       "      <td>http://services.datasport.com/2000/lauf/kerzers</td>\n",
       "      <td>Abgottspon Peter 1974.0</td>\n",
       "    </tr>\n",
       "    <tr>\n",
       "      <th>1</th>\n",
       "      <td>Kerzerslauf</td>\n",
       "      <td>sam. 18.03.2000</td>\n",
       "      <td>2000</td>\n",
       "      <td>3</td>\n",
       "      <td>M35</td>\n",
       "      <td>15.0</td>\n",
       "      <td>Abplanalp Michael</td>\n",
       "      <td>M</td>\n",
       "      <td>1964.0</td>\n",
       "      <td>Bern</td>\n",
       "      <td>32</td>\n",
       "      <td>00:55:11.700000</td>\n",
       "      <td>00:03:40</td>\n",
       "      <td>Kerzers</td>\n",
       "      <td>NaN</td>\n",
       "      <td>NaN</td>\n",
       "      <td>NaN</td>\n",
       "      <td>http://services.datasport.com/2000/lauf/kerzers</td>\n",
       "      <td>Abplanalp Michael 1964.0</td>\n",
       "    </tr>\n",
       "    <tr>\n",
       "      <th>2</th>\n",
       "      <td>Kerzerslauf</td>\n",
       "      <td>sam. 18.03.2000</td>\n",
       "      <td>2000</td>\n",
       "      <td>3</td>\n",
       "      <td>M50</td>\n",
       "      <td>15.0</td>\n",
       "      <td>Abt Werner</td>\n",
       "      <td>M</td>\n",
       "      <td>1947.0</td>\n",
       "      <td>Spiez</td>\n",
       "      <td>155</td>\n",
       "      <td>01:12:42.900000</td>\n",
       "      <td>00:04:50</td>\n",
       "      <td>Kerzers</td>\n",
       "      <td>NaN</td>\n",
       "      <td>NaN</td>\n",
       "      <td>NaN</td>\n",
       "      <td>http://services.datasport.com/2000/lauf/kerzers</td>\n",
       "      <td>Abt Werner 1947.0</td>\n",
       "    </tr>\n",
       "  </tbody>\n",
       "</table>\n",
       "</div>"
      ],
      "text/plain": [
       "          Race             Date  RaceYear  RaceMonth Category  Distance  \\\n",
       "0  Kerzerslauf  sam. 18.03.2000      2000          3      M20      15.0   \n",
       "1  Kerzerslauf  sam. 18.03.2000      2000          3      M35      15.0   \n",
       "2  Kerzerslauf  sam. 18.03.2000      2000          3      M50      15.0   \n",
       "\n",
       "                Name Sex    Year LivingPlace  Rank            Time     Pace  \\\n",
       "0   Abgottspon Peter   M  1974.0     Zermatt   233        01:02:25 00:04:09   \n",
       "1  Abplanalp Michael   M  1964.0        Bern    32 00:55:11.700000 00:03:40   \n",
       "2         Abt Werner   M  1947.0       Spiez   155 01:12:42.900000 00:04:50   \n",
       "\n",
       "     Place  MinTemp  MaxTemp Weather  \\\n",
       "0  Kerzers      NaN      NaN     NaN   \n",
       "1  Kerzers      NaN      NaN     NaN   \n",
       "2  Kerzers      NaN      NaN     NaN   \n",
       "\n",
       "                                            RaceID                    UserID  \n",
       "0  http://services.datasport.com/2000/lauf/kerzers   Abgottspon Peter 1974.0  \n",
       "1  http://services.datasport.com/2000/lauf/kerzers  Abplanalp Michael 1964.0  \n",
       "2  http://services.datasport.com/2000/lauf/kerzers         Abt Werner 1947.0  "
      ]
     },
     "execution_count": 22,
     "metadata": {},
     "output_type": "execute_result"
    }
   ],
   "source": [
    "full_df = pd.read_pickle('../../df_userID.pickle')\n",
    "full_df.head(3)"
   ]
  },
  {
   "cell_type": "markdown",
   "metadata": {
    "run_control": {
     "frozen": false,
     "read_only": false
    }
   },
   "source": [
    "### Methodological note\n",
    "\n",
    "Even if there are few athelets that run more competition the same day, we assume we can neglet the case in which more than 1 runner does that, such that the links weights are not affected.   \n",
    "With this assumption we can keep only the `RaceId`, as it's string that contraing already the _name and date_ of the race."
   ]
  },
  {
   "cell_type": "markdown",
   "metadata": {
    "run_control": {
     "frozen": false,
     "read_only": false
    }
   },
   "source": [
    "Removing useless features"
   ]
  },
  {
   "cell_type": "code",
   "execution_count": 23,
   "metadata": {
    "collapsed": false,
    "run_control": {
     "frozen": false,
     "read_only": false
    }
   },
   "outputs": [
    {
     "data": {
      "text/html": [
       "<div>\n",
       "<table border=\"1\" class=\"dataframe\">\n",
       "  <thead>\n",
       "    <tr style=\"text-align: right;\">\n",
       "      <th></th>\n",
       "      <th>Distance</th>\n",
       "      <th>Sex</th>\n",
       "      <th>Year</th>\n",
       "      <th>Time</th>\n",
       "      <th>Pace</th>\n",
       "      <th>RaceID</th>\n",
       "      <th>UserID</th>\n",
       "    </tr>\n",
       "  </thead>\n",
       "  <tbody>\n",
       "    <tr>\n",
       "      <th>0</th>\n",
       "      <td>15.0</td>\n",
       "      <td>M</td>\n",
       "      <td>1974.0</td>\n",
       "      <td>01:02:25</td>\n",
       "      <td>00:04:09</td>\n",
       "      <td>http://services.datasport.com/2000/lauf/kerzers</td>\n",
       "      <td>Abgottspon Peter 1974.0</td>\n",
       "    </tr>\n",
       "    <tr>\n",
       "      <th>1</th>\n",
       "      <td>15.0</td>\n",
       "      <td>M</td>\n",
       "      <td>1964.0</td>\n",
       "      <td>00:55:11.700000</td>\n",
       "      <td>00:03:40</td>\n",
       "      <td>http://services.datasport.com/2000/lauf/kerzers</td>\n",
       "      <td>Abplanalp Michael 1964.0</td>\n",
       "    </tr>\n",
       "    <tr>\n",
       "      <th>2</th>\n",
       "      <td>15.0</td>\n",
       "      <td>M</td>\n",
       "      <td>1947.0</td>\n",
       "      <td>01:12:42.900000</td>\n",
       "      <td>00:04:50</td>\n",
       "      <td>http://services.datasport.com/2000/lauf/kerzers</td>\n",
       "      <td>Abt Werner 1947.0</td>\n",
       "    </tr>\n",
       "  </tbody>\n",
       "</table>\n",
       "</div>"
      ],
      "text/plain": [
       "   Distance Sex    Year            Time     Pace  \\\n",
       "0      15.0   M  1974.0        01:02:25 00:04:09   \n",
       "1      15.0   M  1964.0 00:55:11.700000 00:03:40   \n",
       "2      15.0   M  1947.0 01:12:42.900000 00:04:50   \n",
       "\n",
       "                                            RaceID                    UserID  \n",
       "0  http://services.datasport.com/2000/lauf/kerzers   Abgottspon Peter 1974.0  \n",
       "1  http://services.datasport.com/2000/lauf/kerzers  Abplanalp Michael 1964.0  \n",
       "2  http://services.datasport.com/2000/lauf/kerzers         Abt Werner 1947.0  "
      ]
     },
     "execution_count": 23,
     "metadata": {},
     "output_type": "execute_result"
    }
   ],
   "source": [
    "full_df.drop(['MinTemp','MaxTemp','Weather',\n",
    "              'LivingPlace','Rank','Category','Name',\n",
    "              'Race','Date','RaceYear','RaceMonth','Place'],axis=1,inplace=True)\n",
    "full_df.head(3)"
   ]
  },
  {
   "cell_type": "markdown",
   "metadata": {
    "run_control": {
     "frozen": false,
     "read_only": false
    }
   },
   "source": [
    "## Build the graph"
   ]
  },
  {
   "cell_type": "code",
   "execution_count": 28,
   "metadata": {
    "collapsed": false,
    "run_control": {
     "frozen": false,
     "read_only": false
    }
   },
   "outputs": [
    {
     "name": "stdout",
     "output_type": "stream",
     "text": [
      "number of vertices: 531426\n"
     ]
    }
   ],
   "source": [
    "num_nodes = full_df.UserID.nunique()\n",
    "print('number of vertices:',num_nodes)"
   ]
  },
  {
   "cell_type": "code",
   "execution_count": 83,
   "metadata": {
    "collapsed": true,
    "run_control": {
     "frozen": false,
     "read_only": false
    }
   },
   "outputs": [],
   "source": [
    "import itertools as itt"
   ]
  },
  {
   "cell_type": "markdown",
   "metadata": {},
   "source": [
    "Define graph and add __nodes__:"
   ]
  },
  {
   "cell_type": "code",
   "execution_count": 174,
   "metadata": {
    "collapsed": false,
    "run_control": {
     "frozen": false,
     "read_only": false
    }
   },
   "outputs": [],
   "source": [
    "runner_graph = nx.Graph() # define graph\n",
    "runner_graph.add_nodes_from(nodes_dict.keys()) # add nodes"
   ]
  },
  {
   "cell_type": "markdown",
   "metadata": {
    "run_control": {
     "frozen": false,
     "read_only": false
    }
   },
   "source": [
    "make a dictionary for nodes' names/index:"
   ]
  },
  {
   "cell_type": "code",
   "execution_count": 175,
   "metadata": {
    "collapsed": false
   },
   "outputs": [],
   "source": [
    "nodes_dict = dict.fromkeys(full_df.UserID.unique()[:100])\n",
    "\n",
    "for n,item in enumerate(nodes_dict.items()):\n",
    "    nodes_dict[item[0]] = n"
   ]
  },
  {
   "cell_type": "markdown",
   "metadata": {},
   "source": [
    "add __edges__:"
   ]
  },
  {
   "cell_type": "code",
   "execution_count": null,
   "metadata": {
    "collapsed": false,
    "run_control": {
     "frozen": false,
     "read_only": false
    }
   },
   "outputs": [],
   "source": [
    "%%time\n",
    "# my_adj_mat = np.empty([num_nodes,num_nodes])\n",
    "\n",
    "for c in itt.combinations(nodes_dict.keys(),2):\n",
    "        \n",
    "    c0_races = full_df[full_df.UserID==c[0]].RaceID.unique()\n",
    "    c1_races = full_df[full_df.UserID==c[1]].RaceID.unique()\n",
    "    n_shared_race = len(set(c0_races) & set(c1_races))\n",
    "#     print('# shared rances between',c[0],c[1],'=',n_shared_race)\n",
    "    \n",
    "    if n_shared_race!=0:\n",
    "#         nodes_dict[c[0]].update({c[1]: {'weight':n_shared_race}})\n",
    "\n",
    "        runner_graph.add_edge(c[0],c[1],weight = n_shared_race)"
   ]
  },
  {
   "cell_type": "markdown",
   "metadata": {
    "collapsed": true,
    "run_control": {
     "frozen": false,
     "read_only": false
    }
   },
   "source": [
    "## Draw the graph"
   ]
  },
  {
   "cell_type": "code",
   "execution_count": 173,
   "metadata": {
    "collapsed": false,
    "run_control": {
     "frozen": false,
     "read_only": false
    }
   },
   "outputs": [
    {
     "name": "stderr",
     "output_type": "stream",
     "text": [
      "/Library/Frameworks/Python.framework/Versions/3.5/lib/python3.5/site-packages/networkx/drawing/nx_pylab.py:126: MatplotlibDeprecationWarning: pyplot.hold is deprecated.\n",
      "    Future behavior will be consistent with the long-time default:\n",
      "    plot commands add elements without first clearing the\n",
      "    Axes and/or Figure.\n",
      "  b = plt.ishold()\n",
      "/Library/Frameworks/Python.framework/Versions/3.5/lib/python3.5/site-packages/networkx/drawing/nx_pylab.py:138: MatplotlibDeprecationWarning: pyplot.hold is deprecated.\n",
      "    Future behavior will be consistent with the long-time default:\n",
      "    plot commands add elements without first clearing the\n",
      "    Axes and/or Figure.\n",
      "  plt.hold(b)\n",
      "/Library/Frameworks/Python.framework/Versions/3.5/lib/python3.5/site-packages/matplotlib/__init__.py:917: UserWarning: axes.hold is deprecated. Please remove it from your matplotlibrc and/or style files.\n",
      "  warnings.warn(self.msg_depr_set % key)\n",
      "/Library/Frameworks/Python.framework/Versions/3.5/lib/python3.5/site-packages/matplotlib/rcsetup.py:152: UserWarning: axes.hold is deprecated, will be removed in 3.0\n",
      "  warnings.warn(\"axes.hold is deprecated, will be removed in 3.0\")\n"
     ]
    },
    {
     "data": {
      "image/png": "[encoded data removed]",
      "text/plain": [
       "<matplotlib.figure.Figure at 0x18ffa49b0>"
      ]
     },
     "metadata": {
      "image/png": {
       "height": 426,
       "width": 611
      }
     },
     "output_type": "display_data"
    }
   ],
   "source": [
    "nx.draw_spring(runner_graph,node_size=3)"
   ]
  },
  {
   "cell_type": "code",
   "execution_count": null,
   "metadata": {
    "collapsed": true,
    "run_control": {
     "frozen": false,
     "read_only": false
    }
   },
   "outputs": [],
   "source": []
  },
  {
   "cell_type": "markdown",
   "metadata": {
    "run_control": {
     "frozen": false,
     "read_only": false
    }
   },
   "source": [
    "# Network statistics "
   ]
  },
  {
   "cell_type": "code",
   "execution_count": null,
   "metadata": {
    "collapsed": true,
    "run_control": {
     "frozen": false,
     "read_only": false
    }
   },
   "outputs": [],
   "source": []
  }
 ],
 "metadata": {
  "kernelspec": {
   "display_name": "Python 3",
   "language": "python",
   "name": "python3"
  },
  "language_info": {
   "codemirror_mode": {
    "name": "ipython",
    "version": 3
   },
   "file_extension": ".py",
   "mimetype": "text/x-python",
   "name": "python",
   "nbconvert_exporter": "python",
   "pygments_lexer": "ipython3",
   "version": "3.5.2"
  },
  "toc": {
   "colors": {
    "hover_highlight": "#DAA520",
    "running_highlight": "#FF0000",
    "selected_highlight": "#FFD700"
   },
   "moveMenuLeft": true,
   "nav_menu": {
    "height": "12px",
    "width": "252px"
   },
   "navigate_menu": true,
   "number_sections": false,
   "sideBar": false,
   "threshold": 4,
   "toc_cell": true,
   "toc_position": {
    "height": "159px",
    "left": "918px",
    "right": "20px",
    "top": "94px",
    "width": "222px"
   },
   "toc_section_display": "block",
   "toc_window_display": true
  }
 },
 "nbformat": 4,
 "nbformat_minor": 2
}
