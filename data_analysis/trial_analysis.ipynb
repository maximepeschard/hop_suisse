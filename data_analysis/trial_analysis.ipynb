{
 "cells": [
  {
   "cell_type": "code",
   "execution_count": 1,
   "metadata": {
    "collapsed": true
   },
   "outputs": [],
   "source": [
    "import pandas as pd\n",
    "import numpy as np\n",
    "\n",
    "import matplotlib.pyplot as plt\n",
    "%matplotlib inline\n",
    "\n",
    "import seaborn as sns\n",
    "sns.set_context('notebook')"
   ]
  },
  {
   "cell_type": "code",
   "execution_count": 49,
   "metadata": {
    "collapsed": false
   },
   "outputs": [
    {
     "data": {
      "text/html": [
       "<div>\n",
       "<table border=\"1\" class=\"dataframe\">\n",
       "  <thead>\n",
       "    <tr style=\"text-align: right;\">\n",
       "      <th></th>\n",
       "      <th>Unnamed: 0</th>\n",
       "      <th>cat</th>\n",
       "      <th>sex</th>\n",
       "      <th>rang</th>\n",
       "      <th>nom</th>\n",
       "      <th>an</th>\n",
       "      <th>lieu</th>\n",
       "      <th>temps</th>\n",
       "      <th>retard</th>\n",
       "      <th>pace</th>\n",
       "    </tr>\n",
       "  </thead>\n",
       "  <tbody>\n",
       "    <tr>\n",
       "      <th>0</th>\n",
       "      <td>0</td>\n",
       "      <td>21</td>\n",
       "      <td>M</td>\n",
       "      <td>147</td>\n",
       "      <td>Abaidia Jilani</td>\n",
       "      <td>1966</td>\n",
       "      <td>St-Légier-La Chiésaz</td>\n",
       "      <td>1:45.28,4</td>\n",
       "      <td>25.56,8</td>\n",
       "      <td>4.59</td>\n",
       "    </tr>\n",
       "    <tr>\n",
       "      <th>1</th>\n",
       "      <td>1</td>\n",
       "      <td>21</td>\n",
       "      <td>F</td>\n",
       "      <td>81</td>\n",
       "      <td>Abaidia Sandrine</td>\n",
       "      <td>1972</td>\n",
       "      <td>St-Légier</td>\n",
       "      <td>1:49.40,8</td>\n",
       "      <td>24.09,5</td>\n",
       "      <td>5.11</td>\n",
       "    </tr>\n",
       "    <tr>\n",
       "      <th>2</th>\n",
       "      <td>2</td>\n",
       "      <td>False</td>\n",
       "      <td>F</td>\n",
       "      <td>33</td>\n",
       "      <td>Abaidia Selma</td>\n",
       "      <td>2006</td>\n",
       "      <td>St-Légier-La Chiésaz</td>\n",
       "      <td>7.12,2</td>\n",
       "      <td>1.36,3</td>\n",
       "      <td>4.48</td>\n",
       "    </tr>\n",
       "    <tr>\n",
       "      <th>3</th>\n",
       "      <td>3</td>\n",
       "      <td>21</td>\n",
       "      <td>M</td>\n",
       "      <td>103</td>\n",
       "      <td>Abb Jochen</td>\n",
       "      <td>1948</td>\n",
       "      <td>Ernen</td>\n",
       "      <td>2:50.40,7</td>\n",
       "      <td>1:21.28,7</td>\n",
       "      <td>8.05</td>\n",
       "    </tr>\n",
       "    <tr>\n",
       "      <th>4</th>\n",
       "      <td>4</td>\n",
       "      <td>10</td>\n",
       "      <td>M</td>\n",
       "      <td>426</td>\n",
       "      <td>Abbas Dhia</td>\n",
       "      <td>1961</td>\n",
       "      <td>Lausanne</td>\n",
       "      <td>1:13.04,1</td>\n",
       "      <td>38.13,0</td>\n",
       "      <td>7.18</td>\n",
       "    </tr>\n",
       "  </tbody>\n",
       "</table>\n",
       "</div>"
      ],
      "text/plain": [
       "   Unnamed: 0    cat sex  rang               nom    an                  lieu  \\\n",
       "0           0     21   M   147    Abaidia Jilani  1966  St-Légier-La Chiésaz   \n",
       "1           1     21   F    81  Abaidia Sandrine  1972             St-Légier   \n",
       "2           2  False   F    33     Abaidia Selma  2006  St-Légier-La Chiésaz   \n",
       "3           3     21   M   103        Abb Jochen  1948                 Ernen   \n",
       "4           4     10   M   426        Abbas Dhia  1961              Lausanne   \n",
       "\n",
       "       temps     retard  pace  \n",
       "0  1:45.28,4    25.56,8  4.59  \n",
       "1  1:49.40,8    24.09,5  5.11  \n",
       "2     7.12,2     1.36,3  4.48  \n",
       "3  2:50.40,7  1:21.28,7  8.05  \n",
       "4  1:13.04,1    38.13,0  7.18  "
      ]
     },
     "execution_count": 49,
     "metadata": {},
     "output_type": "execute_result"
    }
   ],
   "source": [
    "data = pd.read_csv('lausanne_marathon_2016.csv')\n",
    "data.head()"
   ]
  },
  {
   "cell_type": "markdown",
   "metadata": {},
   "source": [
    "## Stats on age\n",
    "\n",
    "**Ideas**:\n",
    "- statistical tests for men and women age over time:\n",
    "    1. variance analysis (F test in normal case)\n",
    "    2. mean analysis (T-test/ Welch test)\n",
    "    3. plot with p-value and some critical thresholds (0.2,0.1,0.05,0.01)\n",
    "- interactive plot of age distribution over time for men and women"
   ]
  },
  {
   "cell_type": "markdown",
   "metadata": {},
   "source": [
    "Take a look at the age distribution of the whole population:"
   ]
  },
  {
   "cell_type": "code",
   "execution_count": 4,
   "metadata": {
    "collapsed": false
   },
   "outputs": [],
   "source": [
    "age = 2016-data.an.astype(int)"
   ]
  },
  {
   "cell_type": "code",
   "execution_count": 5,
   "metadata": {
    "collapsed": false
   },
   "outputs": [
    {
     "data": {
      "image/png": "[encoded data removed]",
      "text/plain": [
       "<matplotlib.figure.Figure at 0xba1fba8>"
      ]
     },
     "metadata": {},
     "output_type": "display_data"
    }
   ],
   "source": [
    "# get age of participants and plot its distribution\n",
    "plt.subplot(1,2,1)\n",
    "plt.hist(age,bins=20)\n",
    "plt.gca().set_xlabel('age')\n",
    "plt.gca().set_ylabel('count')\n",
    "plt.gcf().set_size_inches(16,6)"
   ]
  },
  {
   "cell_type": "markdown",
   "metadata": {},
   "source": [
    "Now compare the age distribution for women and men:"
   ]
  },
  {
   "cell_type": "code",
   "execution_count": 6,
   "metadata": {
    "collapsed": false
   },
   "outputs": [
    {
     "data": {
      "text/plain": [
       "<matplotlib.legend.Legend at 0xb10b550>"
      ]
     },
     "execution_count": 6,
     "metadata": {},
     "output_type": "execute_result"
    },
    {
     "data": {
      "image/png": "[encoded data removed]",
      "text/plain": [
       "<matplotlib.figure.Figure at 0xaf89780>"
      ]
     },
     "metadata": {},
     "output_type": "display_data"
    }
   ],
   "source": [
    "age_women = 2016 - data[data.sex=='F'].an.astype(int)\n",
    "age_men = 2016 - data[data.sex=='M'].an.astype(int)\n",
    "plt.hist(age_men,edgecolor='blue',fill=False,linewidth=2,label='men',bins=20)\n",
    "plt.hist(age_women,edgecolor='red',fill=False,linewidth=2,label='women',bins=20)\n",
    "plt.xlabel('age')\n",
    "plt.ylabel('count')\n",
    "plt.gca().set_xlim([0,90])\n",
    "plt.gcf().set_size_inches(16,6)\n",
    "plt.legend()"
   ]
  },
  {
   "cell_type": "markdown",
   "metadata": {
    "collapsed": false
   },
   "source": [
    "Clean data from 'False' (walk, kids running):"
   ]
  },
  {
   "cell_type": "code",
   "execution_count": 7,
   "metadata": {
    "collapsed": false
   },
   "outputs": [],
   "source": [
    "del data['Unnamed: 0']\n",
    "data = data[data.cat != 'False']"
   ]
  },
  {
   "cell_type": "code",
   "execution_count": 8,
   "metadata": {
    "collapsed": false
   },
   "outputs": [
    {
     "data": {
      "text/plain": [
       "<matplotlib.legend.Legend at 0xaf475c0>"
      ]
     },
     "execution_count": 8,
     "metadata": {},
     "output_type": "execute_result"
    },
    {
     "data": {
      "image/png": "[encoded data removed]",
      "text/plain": [
       "<matplotlib.figure.Figure at 0xaf7de80>"
      ]
     },
     "metadata": {},
     "output_type": "display_data"
    }
   ],
   "source": [
    "age_women = 2016 - data[data.sex=='F'].an.astype(int)\n",
    "age_men = 2016 - data[data.sex=='M'].an.astype(int)\n",
    "plt.hist(age_men,edgecolor='blue',fill=False,linewidth=2,label='men',bins=20)\n",
    "plt.hist(age_women,edgecolor='red',fill=False,linewidth=2,label='women',bins=20)\n",
    "plt.xlabel('age')\n",
    "plt.ylabel('count')\n",
    "plt.gca().set_xlim([20,90])\n",
    "plt.gcf().set_size_inches(16,6)\n",
    "plt.legend()"
   ]
  },
  {
   "cell_type": "markdown",
   "metadata": {},
   "source": [
    "Sex-based statistical tests by category:"
   ]
  },
  {
   "cell_type": "code",
   "execution_count": 9,
   "metadata": {
    "collapsed": false
   },
   "outputs": [
    {
     "data": {
      "text/html": [
       "<div>\n",
       "<table border=\"1\" class=\"dataframe\">\n",
       "  <thead>\n",
       "    <tr style=\"text-align: right;\">\n",
       "      <th></th>\n",
       "      <th>KS p-value</th>\n",
       "      <th>KS stat</th>\n",
       "      <th>KW p-value</th>\n",
       "      <th>KW stat</th>\n",
       "    </tr>\n",
       "    <tr>\n",
       "      <th>category</th>\n",
       "      <th></th>\n",
       "      <th></th>\n",
       "      <th></th>\n",
       "      <th></th>\n",
       "    </tr>\n",
       "  </thead>\n",
       "  <tbody>\n",
       "    <tr>\n",
       "      <th>global</th>\n",
       "      <td>1.010906e-40</td>\n",
       "      <td>0.134037</td>\n",
       "      <td>6.411120e-62</td>\n",
       "      <td>275.726303</td>\n",
       "    </tr>\n",
       "    <tr>\n",
       "      <th>10</th>\n",
       "      <td>3.487088e-23</td>\n",
       "      <td>0.142575</td>\n",
       "      <td>3.143475e-35</td>\n",
       "      <td>153.392881</td>\n",
       "    </tr>\n",
       "    <tr>\n",
       "      <th>21</th>\n",
       "      <td>2.448399e-08</td>\n",
       "      <td>0.096879</td>\n",
       "      <td>1.339886e-11</td>\n",
       "      <td>45.755268</td>\n",
       "    </tr>\n",
       "    <tr>\n",
       "      <th>42</th>\n",
       "      <td>8.376947e-04</td>\n",
       "      <td>0.144672</td>\n",
       "      <td>6.268202e-05</td>\n",
       "      <td>16.019844</td>\n",
       "    </tr>\n",
       "  </tbody>\n",
       "</table>\n",
       "</div>"
      ],
      "text/plain": [
       "            KS p-value   KS stat    KW p-value     KW stat\n",
       "category                                                  \n",
       "global    1.010906e-40  0.134037  6.411120e-62  275.726303\n",
       "10        3.487088e-23  0.142575  3.143475e-35  153.392881\n",
       "21        2.448399e-08  0.096879  1.339886e-11   45.755268\n",
       "42        8.376947e-04  0.144672  6.268202e-05   16.019844"
      ]
     },
     "execution_count": 9,
     "metadata": {},
     "output_type": "execute_result"
    }
   ],
   "source": [
    "from scipy import stats\n",
    "ks_stats = []\n",
    "ks_pvalues = []\n",
    "kw_stats = []\n",
    "kw_pvalues = []\n",
    "kstest = stats.ks_2samp(2016-data[data.sex=='M'].an.astype(int),2016-data[data.sex=='F'].an.astype(int))\n",
    "ks_stats.append(kstest[0])\n",
    "ks_pvalues.append(kstest[1])\n",
    "kwtest = stats.mstats.kruskalwallis(2016-data[data.sex=='M'].an.astype(int),2016-data[data.sex=='F'].an.astype(int))\n",
    "kw_stats.append(kwtest[0])\n",
    "kw_pvalues.append(kwtest[1])\n",
    "\n",
    "for i in ['10','21','42']:\n",
    "    subdata = data[data.cat==i]\n",
    "    kstest = stats.ks_2samp(2016-subdata[subdata.sex=='M'].an.astype(int),2016-subdata[subdata.sex=='F'].an.astype(int))\n",
    "    ks_stats.append(kstest[0])\n",
    "    ks_pvalues.append(kstest[1])\n",
    "    kwtest = stats.mstats.kruskalwallis(2016-subdata[subdata.sex=='M'].an.astype(int),2016-subdata[subdata.sex=='F'].an.astype(int))\n",
    "    kw_stats.append(kwtest[0])\n",
    "    kw_pvalues.append(kwtest[1])\n",
    "\n",
    "test = {'KS stat' : pd.Series(ks_stats), 'KS p-value' : pd.Series(ks_pvalues), 'category' : pd.Series(['global','10','21','42']), 'KW stat' : pd.Series(kw_stats), 'KW p-value' : pd.Series(kw_pvalues)}\n",
    "test_result = pd.DataFrame(test)\n",
    "test_result = test_result.set_index('category')\n",
    "test_result"
   ]
  },
  {
   "cell_type": "code",
   "execution_count": 10,
   "metadata": {
    "collapsed": false
   },
   "outputs": [
    {
     "data": {
      "text/plain": [
       "Index(['Lausanne', 'Genève', 'Pully', 'Epalinges', 'Morges', 'Vevey', 'Zürich',\n",
       "       'Le Mont-sur-Lausanne', 'Nyon', 'Ecublens VD',\n",
       "       ...\n",
       "       'Bonaduz', 'F-Villemomble', 'B-Neupré', 'F-Eysines', 'F-Carrouge VD',\n",
       "       'I-Canegrate (MI)', 'F-Cuvat', 'F-Jonzier Epagny', 'F-Metz',\n",
       "       'Rehetobel'],\n",
       "      dtype='object', length=1990)"
      ]
     },
     "execution_count": 10,
     "metadata": {},
     "output_type": "execute_result"
    }
   ],
   "source": [
    "data.lieu.value_counts().index"
   ]
  },
  {
   "cell_type": "code",
   "execution_count": 42,
   "metadata": {
    "collapsed": false
   },
   "outputs": [],
   "source": [
    "# get the list of Swiss cities from Wikipedia and parse their population\n",
    "\n",
    "import requests\n",
    "r = requests.get('https://en.wikipedia.org/wiki/List_of_cities_in_Switzerland')\n",
    "pop = pd.read_html(r.text)\n",
    "pop = pop[2]\n",
    "pop = list(pop[4])\n",
    "pop = pop[2:len(pop)]\n",
    "\n",
    "def clearString(string):\n",
    "    nans = [' ',',','?']\n",
    "    newstring = []\n",
    "    k = 0\n",
    "    while (k < len(string)):\n",
    "        if((string[k] in nans)==False):\n",
    "            newstring.append(string[k])\n",
    "        k = k+1\n",
    "    newstring = ''.join(newstring)\n",
    "    return newstring\n",
    "\n",
    "population = []\n",
    "for city in pop:\n",
    "    population.append(int((clearString(city))))"
   ]
  },
  {
   "cell_type": "markdown",
   "metadata": {},
   "source": [
    "Plot the distribution of the Swiss cities population:"
   ]
  },
  {
   "cell_type": "code",
   "execution_count": 48,
   "metadata": {
    "collapsed": false
   },
   "outputs": [
    {
     "name": "stderr",
     "output_type": "stream",
     "text": [
      "C:\\Users\\Utente\\Anaconda3\\lib\\site-packages\\statsmodels\\nonparametric\\kdetools.py:20: VisibleDeprecationWarning: using a non-integer number instead of an integer will result in an error in the future\n",
      "  y = X[:m/2+1] + np.r_[0,X[m/2+1:],0]*1j\n"
     ]
    },
    {
     "data": {
      "text/plain": [
       "[None, None]"
      ]
     },
     "execution_count": 48,
     "metadata": {},
     "output_type": "execute_result"
    },
    {
     "data": {
      "image/png": "[encoded data removed]",
      "text/plain": [
       "<matplotlib.figure.Figure at 0xdcc0fd0>"
      ]
     },
     "metadata": {},
     "output_type": "display_data"
    }
   ],
   "source": [
    "ax = sns.distplot(population)\n",
    "ax.set(xscale='log',yscale='log')"
   ]
  },
  {
   "cell_type": "markdown",
   "metadata": {},
   "source": [
    "**Observations**:\n",
    "- number of corridors per city: it can be *scale-invariant*, assuming that the sport attitude is uniform across the population; a **power law** can then be compatible with this hypothesis;\n",
    "- population of Swiss cities: it does not follow a power law on the whole range; maybe there is a scaling-invariant trend for populations between 1e4 and ~8e4. \n",
    "\n",
    "Let us have a look at the number of runners coming from each Swiss city in the dataset. We observe that:\n",
    "- **Lausanne** has a population of 129902 citizens and has born 2043 runners (ratio: 1.5%);\n",
    "- **Zurich** has a population of 378884 citizens and has born only 133 runners (ratio: 0.035%), just above **Mont-sur-Lausanne** (129 runners out of 5347).\n",
    "The distribution of the runners across the cities is then not trivially related to the Swiss cities population's, because otherwise there would be some proportionality. Probably the other factor which comes into play is the ***distance*** of the runner's origin city from the place where the competition takes place (indeed Zurich is much more far away from Lausanne than for example Pully of Vevey, which are much less populated). One could try to suppose a sort of **gravitational relationship**, where the number of runners from each city is the 'product' of the *mass* (populations) and the *inverse squared distance*, up to a universal multiplicative constant $\\gamma$:\n",
    "$$N_{runners} \\sim \\gamma \\frac{P_{origin}P_{place}}{d^2}$$\n",
    "See for instance [this page](https://en.wikipedia.org/wiki/Demographic_gravitation).\n",
    "\n",
    "Moreover, the population distribution does not seem scaling-invariant. This is because the demographical processes may lead to the formation of bigger clusters which break the proportionality rule. According to a power law $X~P(\\lambda)$, we would have indeed:\n",
    "\n",
    "$$P_1 = P(k < x < k+\\delta)=k^{1-\\lambda}-(k+\\delta)^{1-\\lambda}$$\n",
    "\n",
    "$$P_M = P(Mk < x < M(k+\\delta))=M^{1-\\lambda}[k^{1-\\lambda}-(k+\\delta)^{1-\\lambda}]$$\n",
    "\n",
    "$$\\frac{P_M}{P_1}=M^{1-\\lambda}$$\n",
    "\n",
    "If one takes a look at the population distribution across cities, some problems arise for very high values of population, because there are some outliers (big urban conglomerations) which do not follow the decay factor prescribed by a power law, much more than what a simple random disturbance could generate. One could try to apply a power law only in a certain population range."
   ]
  },
  {
   "cell_type": "code",
   "execution_count": 62,
   "metadata": {
    "collapsed": false
   },
   "outputs": [
    {
     "data": {
      "text/plain": [
       "0.0003510309223931335"
      ]
     },
     "execution_count": 62,
     "metadata": {},
     "output_type": "execute_result"
    }
   ],
   "source": [
    "133/378884"
   ]
  },
  {
   "cell_type": "code",
   "execution_count": 60,
   "metadata": {
    "collapsed": false
   },
   "outputs": [
    {
     "data": {
      "text/plain": [
       "Lausanne                 2043\n",
       "Genève                    503\n",
       "Pully                     312\n",
       "Epalinges                 184\n",
       "Morges                    156\n",
       "Vevey                     139\n",
       "Zürich                    133\n",
       "Le Mont-sur-Lausanne      129\n",
       "Ecublens VD               121\n",
       "Nyon                      116\n",
       "Lutry                     107\n",
       "Renens VD                 105\n",
       "La Tour-de-Peilz           93\n",
       "Bern                       88\n",
       "Yverdon-les-Bains          84\n",
       "Bussigny                   82\n",
       "Fribourg                   82\n",
       "Prilly                     77\n",
       "Crissier                   76\n",
       "Neuchâtel                  74\n",
       "Cheseaux-sur-Lausanne      72\n",
       "Préverenges                66\n",
       "Gland                      60\n",
       "Echallens                  59\n",
       "St-Légier                  57\n",
       "St-Sulpice VD              56\n",
       "Chavannes-près-Renens      56\n",
       "St-Prex                    54\n",
       "F-Paris                    54\n",
       "Leysin                     53\n",
       "                         ... \n",
       "F-Cognin                    1\n",
       "Vers chez les blancs        1\n",
       "I-Parma (PR)                1\n",
       "F-St Martin le Vinoux       1\n",
       "NL-Wassenaar                1\n",
       "PL-Boleslawiec              1\n",
       "Ausserberg                  1\n",
       "D-Walldorf                  1\n",
       "F-St Blaise du Buis         1\n",
       "F-Seine Port                1\n",
       "Oberwangen b. Bern          1\n",
       "F-Saint-Genis Pouilly       1\n",
       "Cugnasco                    1\n",
       "Nuvilly                     1\n",
       "Chavannes-le-Chêne          1\n",
       "Gals                        1\n",
       "J-Setagaya-Ku Tokyo         1\n",
       "F-Tassin la Demi Lune       1\n",
       "CRO-Zapresic                1\n",
       "Combremont-le-Petit         1\n",
       "N-Snaroya                   1\n",
       "Wädenswil                   1\n",
       "Grandvillard                1\n",
       "F-Le Thillot                1\n",
       "Bargen BE                   1\n",
       "F-Montperreux               1\n",
       "S-Huddinge                  1\n",
       "Presinge                    1\n",
       "GB-Burgess Hill             1\n",
       "F-Jouhe                     1\n",
       "Name: lieu, dtype: int64"
      ]
     },
     "execution_count": 60,
     "metadata": {},
     "output_type": "execute_result"
    }
   ],
   "source": [
    "data.lieu.value_counts()"
   ]
  },
  {
   "cell_type": "code",
   "execution_count": 59,
   "metadata": {
    "collapsed": false
   },
   "outputs": [
    {
     "data": {
      "image/png": "[encoded data removed]",
      "text/plain": [
       "<matplotlib.figure.Figure at 0xbccb358>"
      ]
     },
     "metadata": {},
     "output_type": "display_data"
    }
   ],
   "source": [
    "x = data.lieu.value_counts().value_counts().index\n",
    "y = data.lieu.value_counts().value_counts()[x]\n",
    "plt.scatter(x,y)\n",
    "plt.gca().set_xscale('log')\n",
    "plt.gca().set_yscale('log')"
   ]
  }
 ],
 "metadata": {
  "anaconda-cloud": {},
  "kernelspec": {
   "display_name": "Python [Root]",
   "language": "python",
   "name": "Python [Root]"
  },
  "language_info": {
   "codemirror_mode": {
    "name": "ipython",
    "version": 3
   },
   "file_extension": ".py",
   "mimetype": "text/x-python",
   "name": "python",
   "nbconvert_exporter": "python",
   "pygments_lexer": "ipython3",
   "version": "3.5.2"
  }
 },
 "nbformat": 4,
 "nbformat_minor": 0
}
