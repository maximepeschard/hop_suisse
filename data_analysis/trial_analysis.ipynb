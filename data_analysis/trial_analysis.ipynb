{
 "cells": [
  {
   "cell_type": "code",
   "execution_count": 1,
   "metadata": {
    "collapsed": true
   },
   "outputs": [],
   "source": [
    "import pandas as pd\n",
    "import numpy as np\n",
    "\n",
    "import matplotlib.pyplot as plt\n",
    "%matplotlib inline\n",
    "\n",
    "import seaborn as sns\n",
    "sns.set_context('notebook')"
   ]
  },
  {
   "cell_type": "markdown",
   "metadata": {},
   "source": [
    "# Here we focus only on data from Lausanne marathon 2016 "
   ]
  },
  {
   "cell_type": "code",
   "execution_count": 2,
   "metadata": {
    "collapsed": false
   },
   "outputs": [
    {
     "data": {
      "text/html": [
       "<div>\n",
       "<table border=\"1\" class=\"dataframe\">\n",
       "  <thead>\n",
       "    <tr style=\"text-align: right;\">\n",
       "      <th></th>\n",
       "      <th>nom</th>\n",
       "      <th>nat</th>\n",
       "      <th>an</th>\n",
       "      <th>lieu</th>\n",
       "      <th>temps</th>\n",
       "      <th>cat/rang</th>\n",
       "    </tr>\n",
       "  </thead>\n",
       "  <tbody>\n",
       "    <tr>\n",
       "      <th>0</th>\n",
       "      <td>Bekele-Clerc Alemitu</td>\n",
       "      <td>BEL</td>\n",
       "      <td>1976</td>\n",
       "      <td>Bern</td>\n",
       "      <td>2:42.41,0</td>\n",
       "      <td>42-D40</td>\n",
       "    </tr>\n",
       "    <tr>\n",
       "      <th>1</th>\n",
       "      <td>Yerly Laurence</td>\n",
       "      <td>SUI</td>\n",
       "      <td>1972</td>\n",
       "      <td>Cernier</td>\n",
       "      <td>2:51.45,8</td>\n",
       "      <td>42-D40</td>\n",
       "    </tr>\n",
       "    <tr>\n",
       "      <th>2</th>\n",
       "      <td>Vrajic Marija</td>\n",
       "      <td>CRO</td>\n",
       "      <td>1976</td>\n",
       "      <td>CRO-Zagreb</td>\n",
       "      <td>Maksimir</td>\n",
       "      <td>42-D40</td>\n",
       "    </tr>\n",
       "    <tr>\n",
       "      <th>3</th>\n",
       "      <td>Morall Zelah</td>\n",
       "      <td>SUI</td>\n",
       "      <td>1969</td>\n",
       "      <td>GB-Penzance</td>\n",
       "      <td>2:53.43,2</td>\n",
       "      <td>42-D40</td>\n",
       "    </tr>\n",
       "    <tr>\n",
       "      <th>4</th>\n",
       "      <td>Annen-Lamard Sandra</td>\n",
       "      <td>SUI</td>\n",
       "      <td>1977</td>\n",
       "      <td>Ecublens</td>\n",
       "      <td>-----</td>\n",
       "      <td>42-D30</td>\n",
       "    </tr>\n",
       "  </tbody>\n",
       "</table>\n",
       "</div>"
      ],
      "text/plain": [
       "                         nom  nat    an         lieu      temps cat/rang\n",
       "0  Bekele-Clerc Alemitu       BEL  1976         Bern  2:42.41,0   42-D40\n",
       "1  Yerly Laurence             SUI  1972      Cernier  2:51.45,8   42-D40\n",
       "2  Vrajic Marija              CRO  1976   CRO-Zagreb   Maksimir   42-D40\n",
       "3  Morall Zelah               SUI  1969  GB-Penzance  2:53.43,2   42-D40\n",
       "4  Annen-Lamard Sandra        SUI  1977     Ecublens      -----   42-D30"
      ]
     },
     "execution_count": 2,
     "metadata": {},
     "output_type": "execute_result"
    }
   ],
   "source": [
    "data = pd.read_pickle('../datasets/trial_dataset')\n",
    "data.head()"
   ]
  },
  {
   "cell_type": "markdown",
   "metadata": {},
   "source": [
    "## Stats on age\n",
    "\n",
    "**Ideas**:\n",
    "- statistical tests for men and women age over time:\n",
    "    1. variance analysis (F test in normal case)\n",
    "    2. mean analysis (T-test/ Welch test)\n",
    "    3. plot with p-value and some critical thresholds (0.2,0.1,0.05,0.01)\n",
    "- interactive plot of age distribution over time for men and women"
   ]
  },
  {
   "cell_type": "code",
   "execution_count": 84,
   "metadata": {
    "collapsed": false
   },
   "outputs": [
    {
     "data": {
      "text/plain": [
       "<matplotlib.text.Text at 0x126bcc88>"
      ]
     },
     "execution_count": 84,
     "metadata": {},
     "output_type": "execute_result"
    },
    {
     "data": {
      "image/png": "[encoded data removed]",
      "text/plain": [
       "<matplotlib.figure.Figure at 0x113bf780>"
      ]
     },
     "metadata": {},
     "output_type": "display_data"
    }
   ],
   "source": [
    "# get age of participants and plot its distribution\n",
    "age = 2016 - data.an.value_counts().index.astype(int)\n",
    "plt.subplot(1,2,1)\n",
    "plt.hist(age,color='lightblue')\n",
    "plt.xlabel('age')\n",
    "plt.ylabel('count')\n",
    "plt.subplot(1,2,2)\n",
    "plt.boxplot(age,vert=False)\n",
    "plt.xlabel('age')"
   ]
  },
  {
   "cell_type": "markdown",
   "metadata": {},
   "source": [
    "# Merged dataset from Lausanne Marathon\n",
    "\n",
    "Import merged dataset of 2016 Lausanne Marathon:"
   ]
  },
  {
   "cell_type": "code",
   "execution_count": 3,
   "metadata": {
    "collapsed": false
   },
   "outputs": [
    {
     "data": {
      "text/html": [
       "<div>\n",
       "<table border=\"1\" class=\"dataframe\">\n",
       "  <thead>\n",
       "    <tr style=\"text-align: right;\">\n",
       "      <th></th>\n",
       "      <th>cat</th>\n",
       "      <th>sex</th>\n",
       "      <th>rang</th>\n",
       "      <th>nom</th>\n",
       "      <th>an</th>\n",
       "      <th>lieu</th>\n",
       "      <th>temps</th>\n",
       "      <th>retard</th>\n",
       "    </tr>\n",
       "  </thead>\n",
       "  <tbody>\n",
       "    <tr>\n",
       "      <th>0</th>\n",
       "      <td>21</td>\n",
       "      <td>M</td>\n",
       "      <td>147</td>\n",
       "      <td>Abaidia Jilani</td>\n",
       "      <td>1966</td>\n",
       "      <td>St-Légier-La Chiésaz</td>\n",
       "      <td>1:45.28,4</td>\n",
       "      <td>25.56,8</td>\n",
       "    </tr>\n",
       "    <tr>\n",
       "      <th>1</th>\n",
       "      <td>21</td>\n",
       "      <td>F</td>\n",
       "      <td>81</td>\n",
       "      <td>Abaidia Sandrine</td>\n",
       "      <td>1972</td>\n",
       "      <td>St-Légier</td>\n",
       "      <td>1:49.40,8</td>\n",
       "      <td>24.09,5</td>\n",
       "    </tr>\n",
       "    <tr>\n",
       "      <th>2</th>\n",
       "      <td>21</td>\n",
       "      <td>M</td>\n",
       "      <td>103</td>\n",
       "      <td>Abb Jochen</td>\n",
       "      <td>1948</td>\n",
       "      <td>Ernen</td>\n",
       "      <td>2:50.40,7</td>\n",
       "      <td>1:21.28,7</td>\n",
       "    </tr>\n",
       "    <tr>\n",
       "      <th>3</th>\n",
       "      <td>10</td>\n",
       "      <td>M</td>\n",
       "      <td>426</td>\n",
       "      <td>Abbas Dhia</td>\n",
       "      <td>1961</td>\n",
       "      <td>Lausanne</td>\n",
       "      <td>1:13.04,1</td>\n",
       "      <td>38.13,0</td>\n",
       "    </tr>\n",
       "    <tr>\n",
       "      <th>4</th>\n",
       "      <td>21</td>\n",
       "      <td>M</td>\n",
       "      <td>640</td>\n",
       "      <td>Abbet Florian</td>\n",
       "      <td>1982</td>\n",
       "      <td>Pully</td>\n",
       "      <td>1:56.01,7</td>\n",
       "      <td>47.33,8</td>\n",
       "    </tr>\n",
       "    <tr>\n",
       "      <th>5</th>\n",
       "      <td>10</td>\n",
       "      <td>F</td>\n",
       "      <td>517</td>\n",
       "      <td>Abdala Maria Lucia</td>\n",
       "      <td>1979</td>\n",
       "      <td>Lausanne</td>\n",
       "      <td>1:01.30,8</td>\n",
       "      <td>27.09,1</td>\n",
       "    </tr>\n",
       "    <tr>\n",
       "      <th>6</th>\n",
       "      <td>10</td>\n",
       "      <td>M</td>\n",
       "      <td>152</td>\n",
       "      <td>Abdela Esa</td>\n",
       "      <td>1992</td>\n",
       "      <td>Pully</td>\n",
       "      <td>42.44,1</td>\n",
       "      <td>14.26,0</td>\n",
       "    </tr>\n",
       "    <tr>\n",
       "      <th>7</th>\n",
       "      <td>21</td>\n",
       "      <td>M</td>\n",
       "      <td>67</td>\n",
       "      <td>Abdelaziem Ahmed Ramy Bac</td>\n",
       "      <td>1992</td>\n",
       "      <td>Lausanne</td>\n",
       "      <td>1:29.06,1</td>\n",
       "      <td>20.32,9</td>\n",
       "    </tr>\n",
       "    <tr>\n",
       "      <th>8</th>\n",
       "      <td>42</td>\n",
       "      <td>M</td>\n",
       "      <td>38</td>\n",
       "      <td>Abderhalden Matthias</td>\n",
       "      <td>1983</td>\n",
       "      <td>Chavannes-près-Renens</td>\n",
       "      <td>3:08.43,6</td>\n",
       "      <td>51.37,4</td>\n",
       "    </tr>\n",
       "    <tr>\n",
       "      <th>9</th>\n",
       "      <td>21</td>\n",
       "      <td>M</td>\n",
       "      <td>3</td>\n",
       "      <td>Abdesmed Mohamed</td>\n",
       "      <td>1956</td>\n",
       "      <td>F-Amiens</td>\n",
       "      <td>1:33.24,8</td>\n",
       "      <td>4.12,8</td>\n",
       "    </tr>\n",
       "  </tbody>\n",
       "</table>\n",
       "</div>"
      ],
      "text/plain": [
       "  cat sex rang                        nom    an                   lieu  \\\n",
       "0  21   M  147             Abaidia Jilani  1966   St-Légier-La Chiésaz   \n",
       "1  21   F   81           Abaidia Sandrine  1972              St-Légier   \n",
       "2  21   M  103                 Abb Jochen  1948                  Ernen   \n",
       "3  10   M  426                 Abbas Dhia  1961               Lausanne   \n",
       "4  21   M  640              Abbet Florian  1982                  Pully   \n",
       "5  10   F  517         Abdala Maria Lucia  1979               Lausanne   \n",
       "6  10   M  152                 Abdela Esa  1992                  Pully   \n",
       "7  21   M   67  Abdelaziem Ahmed Ramy Bac  1992               Lausanne   \n",
       "8  42   M   38       Abderhalden Matthias  1983  Chavannes-près-Renens   \n",
       "9  21   M    3           Abdesmed Mohamed  1956               F-Amiens   \n",
       "\n",
       "       temps     retard  \n",
       "0  1:45.28,4    25.56,8  \n",
       "1  1:49.40,8    24.09,5  \n",
       "2  2:50.40,7  1:21.28,7  \n",
       "3  1:13.04,1    38.13,0  \n",
       "4  1:56.01,7    47.33,8  \n",
       "5  1:01.30,8    27.09,1  \n",
       "6    42.44,1    14.26,0  \n",
       "7  1:29.06,1    20.32,9  \n",
       "8  3:08.43,6    51.37,4  \n",
       "9  1:33.24,8     4.12,8  "
      ]
     },
     "execution_count": 3,
     "metadata": {},
     "output_type": "execute_result"
    }
   ],
   "source": [
    "data = pd.read_pickle('lausanne.pickle')\n",
    "data.head(10)"
   ]
  },
  {
   "cell_type": "markdown",
   "metadata": {},
   "source": [
    "Take a look at the age distribution of the whole population:"
   ]
  },
  {
   "cell_type": "code",
   "execution_count": 20,
   "metadata": {
    "collapsed": false
   },
   "outputs": [],
   "source": [
    "age = 2016-data.an.astype(int)"
   ]
  },
  {
   "cell_type": "code",
   "execution_count": 35,
   "metadata": {
    "collapsed": false
   },
   "outputs": [
    {
     "data": {
      "image/png": "[encoded data removed]",
      "text/plain": [
       "<matplotlib.figure.Figure at 0xbf07978>"
      ]
     },
     "metadata": {},
     "output_type": "display_data"
    }
   ],
   "source": [
    "# get age of participants and plot its distribution\n",
    "plt.subplot(1,2,1)\n",
    "plt.hist(age,bins=20)\n",
    "plt.gca().set_xlabel('age')\n",
    "plt.gca().set_ylabel('count')\n",
    "plt.gcf().set_size_inches(16,6)"
   ]
  },
  {
   "cell_type": "markdown",
   "metadata": {},
   "source": [
    "Now compare the age distribution for women and men:"
   ]
  },
  {
   "cell_type": "code",
   "execution_count": 39,
   "metadata": {
    "collapsed": false
   },
   "outputs": [
    {
     "data": {
      "image/png": "[encoded data removed]",
      "text/plain": [
       "<matplotlib.figure.Figure at 0xb3909b0>"
      ]
     },
     "metadata": {},
     "output_type": "display_data"
    }
   ],
   "source": [
    "age_women = 2016 - data[data.sex=='F'].an.astype(int)\n",
    "age_men = 2016 - data[data.sex=='M'].an.astype(int)\n",
    "plt.subplot(3,2,1)\n",
    "plt.hist(age_women,color='lightblue')\n",
    "plt.xlabel('WOMEN age')\n",
    "plt.ylabel('WOMEN count')\n",
    "plt.subplot(3,2,5)\n",
    "plt.hist(age_men,color='darkblue')\n",
    "plt.xlabel('MEN age')\n",
    "plt.ylabel('MEN count')\n",
    "plt.subplot(3,2,2)\n",
    "fig1 = sns.boxplot(age_women)\n",
    "fig1.set(xlabel='WOMEN age')\n",
    "plt.gcf().set_size_inches(10,4)\n",
    "plt.subplot(3,2,6)\n",
    "fig2 = sns.boxplot(age_men)\n",
    "fig2.set(xlabel='MEN age')\n",
    "plt.gcf().set_size_inches(10,4)"
   ]
  }
 ],
 "metadata": {
  "anaconda-cloud": {},
  "kernelspec": {
   "display_name": "Python [Root]",
   "language": "python",
   "name": "Python [Root]"
  },
  "language_info": {
   "codemirror_mode": {
    "name": "ipython",
    "version": 3
   },
   "file_extension": ".py",
   "mimetype": "text/x-python",
   "name": "python",
   "nbconvert_exporter": "python",
   "pygments_lexer": "ipython3",
   "version": "3.5.2"
  }
 },
 "nbformat": 4,
 "nbformat_minor": 0
}
