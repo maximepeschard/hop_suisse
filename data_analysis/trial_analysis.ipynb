{
 "cells": [
  {
   "cell_type": "code",
   "execution_count": 1,
   "metadata": {
    "collapsed": true
   },
   "outputs": [],
   "source": [
    "import pandas as pd\n",
    "import numpy as np\n",
    "\n",
    "import matplotlib.pyplot as plt\n",
    "%matplotlib inline\n",
    "\n",
    "import seaborn as sns\n",
    "sns.set_context('notebook')"
   ]
  },
  {
   "cell_type": "markdown",
   "metadata": {},
   "source": [
    "# Here we focus only on data from Lausanne marathon 2016 "
   ]
  },
  {
   "cell_type": "code",
   "execution_count": 2,
   "metadata": {
    "collapsed": false
   },
   "outputs": [
    {
     "data": {
      "text/html": [
       "<div>\n",
       "<table border=\"1\" class=\"dataframe\">\n",
       "  <thead>\n",
       "    <tr style=\"text-align: right;\">\n",
       "      <th></th>\n",
       "      <th>nom</th>\n",
       "      <th>nat</th>\n",
       "      <th>an</th>\n",
       "      <th>lieu</th>\n",
       "      <th>temps</th>\n",
       "      <th>cat/rang</th>\n",
       "    </tr>\n",
       "  </thead>\n",
       "  <tbody>\n",
       "    <tr>\n",
       "      <th>0</th>\n",
       "      <td>Bekele-Clerc Alemitu</td>\n",
       "      <td>BEL</td>\n",
       "      <td>1976</td>\n",
       "      <td>Bern</td>\n",
       "      <td>2:42.41,0</td>\n",
       "      <td>42-D40</td>\n",
       "    </tr>\n",
       "    <tr>\n",
       "      <th>1</th>\n",
       "      <td>Yerly Laurence</td>\n",
       "      <td>SUI</td>\n",
       "      <td>1972</td>\n",
       "      <td>Cernier</td>\n",
       "      <td>2:51.45,8</td>\n",
       "      <td>42-D40</td>\n",
       "    </tr>\n",
       "    <tr>\n",
       "      <th>2</th>\n",
       "      <td>Vrajic Marija</td>\n",
       "      <td>CRO</td>\n",
       "      <td>1976</td>\n",
       "      <td>CRO-Zagreb</td>\n",
       "      <td>Maksimir</td>\n",
       "      <td>42-D40</td>\n",
       "    </tr>\n",
       "    <tr>\n",
       "      <th>3</th>\n",
       "      <td>Morall Zelah</td>\n",
       "      <td>SUI</td>\n",
       "      <td>1969</td>\n",
       "      <td>GB-Penzance</td>\n",
       "      <td>2:53.43,2</td>\n",
       "      <td>42-D40</td>\n",
       "    </tr>\n",
       "    <tr>\n",
       "      <th>4</th>\n",
       "      <td>Annen-Lamard Sandra</td>\n",
       "      <td>SUI</td>\n",
       "      <td>1977</td>\n",
       "      <td>Ecublens</td>\n",
       "      <td>-----</td>\n",
       "      <td>42-D30</td>\n",
       "    </tr>\n",
       "  </tbody>\n",
       "</table>\n",
       "</div>"
      ],
      "text/plain": [
       "                         nom  nat    an         lieu      temps cat/rang\n",
       "0  Bekele-Clerc Alemitu       BEL  1976         Bern  2:42.41,0   42-D40\n",
       "1  Yerly Laurence             SUI  1972      Cernier  2:51.45,8   42-D40\n",
       "2  Vrajic Marija              CRO  1976   CRO-Zagreb   Maksimir   42-D40\n",
       "3  Morall Zelah               SUI  1969  GB-Penzance  2:53.43,2   42-D40\n",
       "4  Annen-Lamard Sandra        SUI  1977     Ecublens      -----   42-D30"
      ]
     },
     "execution_count": 2,
     "metadata": {},
     "output_type": "execute_result"
    }
   ],
   "source": [
    "data = pd.read_pickle('../datasets/trial_dataset')\n",
    "data.head()"
   ]
  },
  {
   "cell_type": "code",
   "execution_count": 33,
   "metadata": {
    "collapsed": false
   },
   "outputs": [
    {
     "data": {
      "text/plain": [
       "<h3><a href=\".\">Lausanne Marathon 2016</a> - Marathon Hommes Overall</h3>"
      ]
     },
     "execution_count": 33,
     "metadata": {},
     "output_type": "execute_result"
    }
   ],
   "source": [
    "import requests as req\n",
    "from bs4 import BeautifulSoup as bs\n",
    "url = 'https://services.datasport.com/2016/lauf/lamara/rang091-001.htm'\n",
    "r = req.get(url)\n",
    "s = bs(r.text,'lxml')\n",
    "s.find('h3')"
   ]
  },
  {
   "cell_type": "markdown",
   "metadata": {},
   "source": [
    "## Stats on age\n",
    "\n",
    "**Ideas**:\n",
    "- statistical tests for men and women age over time:\n",
    "    1. variance analysis (F test in normal case)\n",
    "    2. mean analysis (T-test/ Welch test)\n",
    "    3. plot with p-value and some critical thresholds (0.2,0.1,0.05,0.01)\n",
    "- interactive plot of age distribution over time for men and women"
   ]
  },
  {
   "cell_type": "code",
   "execution_count": 84,
   "metadata": {
    "collapsed": false
   },
   "outputs": [
    {
     "data": {
      "text/plain": [
       "<matplotlib.text.Text at 0x126bcc88>"
      ]
     },
     "execution_count": 84,
     "metadata": {},
     "output_type": "execute_result"
    },
    {
     "data": {
      "image/png": "[encoded data removed]",
      "text/plain": [
       "<matplotlib.figure.Figure at 0x113bf780>"
      ]
     },
     "metadata": {},
     "output_type": "display_data"
    }
   ],
   "source": [
    "# get age of participants and plot its distribution\n",
    "age = 2016 - data.an.value_counts().index.astype(int)\n",
    "plt.subplot(1,2,1)\n",
    "plt.hist(age,color='lightblue')\n",
    "plt.xlabel('age')\n",
    "plt.ylabel('count')\n",
    "plt.subplot(1,2,2)\n",
    "plt.boxplot(age,vert=False)\n",
    "plt.xlabel('age')"
   ]
  },
  {
   "cell_type": "markdown",
   "metadata": {},
   "source": [
    "## Stats on original country \n",
    "**Ideas**:\n",
    "- interactive plot with nationality distribution over time"
   ]
  },
  {
   "cell_type": "code",
   "execution_count": 91,
   "metadata": {
    "collapsed": false
   },
   "outputs": [
    {
     "data": {
      "text/plain": [
       "<matplotlib.axes._subplots.AxesSubplot at 0x14198a20>"
      ]
     },
     "execution_count": 91,
     "metadata": {},
     "output_type": "execute_result"
    },
    {
     "data": {
      "image/png": "[encoded data removed]",
      "text/plain": [
       "<matplotlib.figure.Figure at 0x141a8160>"
      ]
     },
     "metadata": {},
     "output_type": "display_data"
    }
   ],
   "source": [
    "sns.countplot(y=data.nat)"
   ]
  },
  {
   "cell_type": "markdown",
   "metadata": {},
   "source": [
    "## Stats on race time"
   ]
  },
  {
   "cell_type": "code",
   "execution_count": 30,
   "metadata": {
    "collapsed": false
   },
   "outputs": [
    {
     "data": {
      "text/plain": [
       "<matplotlib.axes._subplots.AxesSubplot at 0x11ba6ce48>"
      ]
     },
     "execution_count": 30,
     "metadata": {},
     "output_type": "execute_result"
    },
    {
     "data": {
      "image/png": "[encoded data removed]",
      "text/plain": [
       "<matplotlib.figure.Figure at 0x11b76e940>"
      ]
     },
     "metadata": {},
     "output_type": "display_data"
    }
   ],
   "source": [
    "# sns.distplot(men_10km.temps,kde=False) \n",
    "# issues -->  due to the presence of strings --> due to issues on parsing!!"
   ]
  }
 ],
 "metadata": {
  "anaconda-cloud": {},
  "kernelspec": {
   "display_name": "Python [Root]",
   "language": "python",
   "name": "Python [Root]"
  },
  "language_info": {
   "codemirror_mode": {
    "name": "ipython",
    "version": 3
   },
   "file_extension": ".py",
   "mimetype": "text/x-python",
   "name": "python",
   "nbconvert_exporter": "python",
   "pygments_lexer": "ipython3",
   "version": "3.5.2"
  }
 },
 "nbformat": 4,
 "nbformat_minor": 0
}
