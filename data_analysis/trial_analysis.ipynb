{
 "cells": [
  {
   "cell_type": "code",
   "execution_count": 1,
   "metadata": {
    "collapsed": true
   },
   "outputs": [],
   "source": [
    "import pandas as pd\n",
    "import numpy as np\n",
    "\n",
    "import matplotlib.pyplot as plt\n",
    "%matplotlib inline\n",
    "\n",
    "import seaborn as sns\n",
    "sns.set_context('notebook')"
   ]
  },
  {
   "cell_type": "markdown",
   "metadata": {},
   "source": [
    "# Here we focus only on data from Lausanne marathon 2016 "
   ]
  },
  {
   "cell_type": "code",
   "execution_count": 2,
   "metadata": {
    "collapsed": false
   },
   "outputs": [
    {
     "data": {
      "text/html": [
       "<div>\n",
       "<table border=\"1\" class=\"dataframe\">\n",
       "  <thead>\n",
       "    <tr style=\"text-align: right;\">\n",
       "      <th></th>\n",
       "      <th>nom</th>\n",
       "      <th>nat</th>\n",
       "      <th>an</th>\n",
       "      <th>lieu</th>\n",
       "      <th>temps</th>\n",
       "      <th>cat/rang</th>\n",
       "    </tr>\n",
       "  </thead>\n",
       "  <tbody>\n",
       "    <tr>\n",
       "      <th>0</th>\n",
       "      <td>Bekele-Clerc Alemitu</td>\n",
       "      <td>BEL</td>\n",
       "      <td>1976</td>\n",
       "      <td>Bern</td>\n",
       "      <td>2:42.41,0</td>\n",
       "      <td>42-D40</td>\n",
       "    </tr>\n",
       "    <tr>\n",
       "      <th>1</th>\n",
       "      <td>Yerly Laurence</td>\n",
       "      <td>SUI</td>\n",
       "      <td>1972</td>\n",
       "      <td>Cernier</td>\n",
       "      <td>2:51.45,8</td>\n",
       "      <td>42-D40</td>\n",
       "    </tr>\n",
       "    <tr>\n",
       "      <th>2</th>\n",
       "      <td>Vrajic Marija</td>\n",
       "      <td>CRO</td>\n",
       "      <td>1976</td>\n",
       "      <td>CRO-Zagreb</td>\n",
       "      <td>Maksimir</td>\n",
       "      <td>42-D40</td>\n",
       "    </tr>\n",
       "    <tr>\n",
       "      <th>3</th>\n",
       "      <td>Morall Zelah</td>\n",
       "      <td>SUI</td>\n",
       "      <td>1969</td>\n",
       "      <td>GB-Penzance</td>\n",
       "      <td>2:53.43,2</td>\n",
       "      <td>42-D40</td>\n",
       "    </tr>\n",
       "    <tr>\n",
       "      <th>4</th>\n",
       "      <td>Annen-Lamard Sandra</td>\n",
       "      <td>SUI</td>\n",
       "      <td>1977</td>\n",
       "      <td>Ecublens</td>\n",
       "      <td>-----</td>\n",
       "      <td>42-D30</td>\n",
       "    </tr>\n",
       "  </tbody>\n",
       "</table>\n",
       "</div>"
      ],
      "text/plain": [
       "                         nom  nat    an         lieu      temps cat/rang\n",
       "0  Bekele-Clerc Alemitu       BEL  1976         Bern  2:42.41,0   42-D40\n",
       "1  Yerly Laurence             SUI  1972      Cernier  2:51.45,8   42-D40\n",
       "2  Vrajic Marija              CRO  1976   CRO-Zagreb   Maksimir   42-D40\n",
       "3  Morall Zelah               SUI  1969  GB-Penzance  2:53.43,2   42-D40\n",
       "4  Annen-Lamard Sandra        SUI  1977     Ecublens      -----   42-D30"
      ]
     },
     "execution_count": 2,
     "metadata": {},
     "output_type": "execute_result"
    }
   ],
   "source": [
    "data = pd.read_pickle('../datasets/trial_dataset')\n",
    "data.head()"
   ]
  },
  {
   "cell_type": "markdown",
   "metadata": {},
   "source": [
    "## Stats on age\n",
    "\n",
    "**Ideas**:\n",
    "- statistical tests for men and women age over time:\n",
    "    1. variance analysis (F test in normal case)\n",
    "    2. mean analysis (T-test/ Welch test)\n",
    "    3. plot with p-value and some critical thresholds (0.2,0.1,0.05,0.01)\n",
    "- interactive plot of age distribution over time for men and women"
   ]
  },
  {
   "cell_type": "code",
   "execution_count": 84,
   "metadata": {
    "collapsed": false
   },
   "outputs": [
    {
     "data": {
      "text/plain": [
       "<matplotlib.text.Text at 0x126bcc88>"
      ]
     },
     "execution_count": 84,
     "metadata": {},
     "output_type": "execute_result"
    },
    {
     "data": {
      "image/png": "[encoded data removed]",
      "text/plain": [
       "<matplotlib.figure.Figure at 0x113bf780>"
      ]
     },
     "metadata": {},
     "output_type": "display_data"
    }
   ],
   "source": [
    "# get age of participants and plot its distribution\n",
    "age = 2016 - data.an.value_counts().index.astype(int)\n",
    "plt.subplot(1,2,1)\n",
    "plt.hist(age,color='lightblue')\n",
    "plt.xlabel('age')\n",
    "plt.ylabel('count')\n",
    "plt.subplot(1,2,2)\n",
    "plt.boxplot(age,vert=False)\n",
    "plt.xlabel('age')"
   ]
  },
  {
   "cell_type": "markdown",
   "metadata": {},
   "source": [
    "# Merged dataset from Lausanne Marathon\n",
    "\n",
    "Import merged dataset of 2016 Lausanne Marathon:"
   ]
  },
  {
   "cell_type": "code",
   "execution_count": 15,
   "metadata": {
    "collapsed": false
   },
   "outputs": [
    {
     "data": {
      "text/html": [
       "<div>\n",
       "<table border=\"1\" class=\"dataframe\">\n",
       "  <thead>\n",
       "    <tr style=\"text-align: right;\">\n",
       "      <th></th>\n",
       "      <th>cat</th>\n",
       "      <th>sex</th>\n",
       "      <th>rang</th>\n",
       "      <th>nom</th>\n",
       "      <th>an</th>\n",
       "      <th>lieu</th>\n",
       "      <th>temps</th>\n",
       "      <th>retard</th>\n",
       "    </tr>\n",
       "  </thead>\n",
       "  <tbody>\n",
       "    <tr>\n",
       "      <th>0</th>\n",
       "      <td>21</td>\n",
       "      <td>M</td>\n",
       "      <td>147</td>\n",
       "      <td>Abaidia Jilani</td>\n",
       "      <td>1966</td>\n",
       "      <td>St-Légier-La Chiésaz</td>\n",
       "      <td>1:45.28,4</td>\n",
       "      <td>25.56,8</td>\n",
       "    </tr>\n",
       "    <tr>\n",
       "      <th>1</th>\n",
       "      <td>21</td>\n",
       "      <td>F</td>\n",
       "      <td>81</td>\n",
       "      <td>Abaidia Sandrine</td>\n",
       "      <td>1972</td>\n",
       "      <td>St-Légier</td>\n",
       "      <td>1:49.40,8</td>\n",
       "      <td>24.09,5</td>\n",
       "    </tr>\n",
       "    <tr>\n",
       "      <th>2</th>\n",
       "      <td>21</td>\n",
       "      <td>M</td>\n",
       "      <td>103</td>\n",
       "      <td>Abb Jochen</td>\n",
       "      <td>1948</td>\n",
       "      <td>Ernen</td>\n",
       "      <td>2:50.40,7</td>\n",
       "      <td>1:21.28,7</td>\n",
       "    </tr>\n",
       "    <tr>\n",
       "      <th>3</th>\n",
       "      <td>10</td>\n",
       "      <td>M</td>\n",
       "      <td>426</td>\n",
       "      <td>Abbas Dhia</td>\n",
       "      <td>1961</td>\n",
       "      <td>Lausanne</td>\n",
       "      <td>1:13.04,1</td>\n",
       "      <td>38.13,0</td>\n",
       "    </tr>\n",
       "    <tr>\n",
       "      <th>4</th>\n",
       "      <td>21</td>\n",
       "      <td>M</td>\n",
       "      <td>640</td>\n",
       "      <td>Abbet Florian</td>\n",
       "      <td>1982</td>\n",
       "      <td>Pully</td>\n",
       "      <td>1:56.01,7</td>\n",
       "      <td>47.33,8</td>\n",
       "    </tr>\n",
       "    <tr>\n",
       "      <th>5</th>\n",
       "      <td>10</td>\n",
       "      <td>F</td>\n",
       "      <td>517</td>\n",
       "      <td>Abdala Maria Lucia</td>\n",
       "      <td>1979</td>\n",
       "      <td>Lausanne</td>\n",
       "      <td>1:01.30,8</td>\n",
       "      <td>27.09,1</td>\n",
       "    </tr>\n",
       "    <tr>\n",
       "      <th>6</th>\n",
       "      <td>10</td>\n",
       "      <td>M</td>\n",
       "      <td>152</td>\n",
       "      <td>Abdela Esa</td>\n",
       "      <td>1992</td>\n",
       "      <td>Pully</td>\n",
       "      <td>42.44,1</td>\n",
       "      <td>14.26,0</td>\n",
       "    </tr>\n",
       "    <tr>\n",
       "      <th>7</th>\n",
       "      <td>21</td>\n",
       "      <td>M</td>\n",
       "      <td>67</td>\n",
       "      <td>Abdelaziem Ahmed Ramy Bac</td>\n",
       "      <td>1992</td>\n",
       "      <td>Lausanne</td>\n",
       "      <td>1:29.06,1</td>\n",
       "      <td>20.32,9</td>\n",
       "    </tr>\n",
       "    <tr>\n",
       "      <th>8</th>\n",
       "      <td>42</td>\n",
       "      <td>M</td>\n",
       "      <td>38</td>\n",
       "      <td>Abderhalden Matthias</td>\n",
       "      <td>1983</td>\n",
       "      <td>Chavannes-près-Renens</td>\n",
       "      <td>3:08.43,6</td>\n",
       "      <td>51.37,4</td>\n",
       "    </tr>\n",
       "    <tr>\n",
       "      <th>9</th>\n",
       "      <td>21</td>\n",
       "      <td>M</td>\n",
       "      <td>3</td>\n",
       "      <td>Abdesmed Mohamed</td>\n",
       "      <td>1956</td>\n",
       "      <td>F-Amiens</td>\n",
       "      <td>1:33.24,8</td>\n",
       "      <td>4.12,8</td>\n",
       "    </tr>\n",
       "  </tbody>\n",
       "</table>\n",
       "</div>"
      ],
      "text/plain": [
       "  cat sex rang                        nom    an                   lieu  \\\n",
       "0  21   M  147             Abaidia Jilani  1966   St-Légier-La Chiésaz   \n",
       "1  21   F   81           Abaidia Sandrine  1972              St-Légier   \n",
       "2  21   M  103                 Abb Jochen  1948                  Ernen   \n",
       "3  10   M  426                 Abbas Dhia  1961               Lausanne   \n",
       "4  21   M  640              Abbet Florian  1982                  Pully   \n",
       "5  10   F  517         Abdala Maria Lucia  1979               Lausanne   \n",
       "6  10   M  152                 Abdela Esa  1992                  Pully   \n",
       "7  21   M   67  Abdelaziem Ahmed Ramy Bac  1992               Lausanne   \n",
       "8  42   M   38       Abderhalden Matthias  1983  Chavannes-près-Renens   \n",
       "9  21   M    3           Abdesmed Mohamed  1956               F-Amiens   \n",
       "\n",
       "       temps     retard  \n",
       "0  1:45.28,4    25.56,8  \n",
       "1  1:49.40,8    24.09,5  \n",
       "2  2:50.40,7  1:21.28,7  \n",
       "3  1:13.04,1    38.13,0  \n",
       "4  1:56.01,7    47.33,8  \n",
       "5  1:01.30,8    27.09,1  \n",
       "6    42.44,1    14.26,0  \n",
       "7  1:29.06,1    20.32,9  \n",
       "8  3:08.43,6    51.37,4  \n",
       "9  1:33.24,8     4.12,8  "
      ]
     },
     "execution_count": 15,
     "metadata": {},
     "output_type": "execute_result"
    }
   ],
   "source": [
    "data = pd.read_pickle('lausanne.pickle')\n",
    "data.head(10)"
   ]
  },
  {
   "cell_type": "markdown",
   "metadata": {},
   "source": [
    "Take a look at the age distribution of the whole population:"
   ]
  },
  {
   "cell_type": "code",
   "execution_count": 61,
   "metadata": {
    "collapsed": false
   },
   "outputs": [
    {
     "data": {
      "text/plain": [
       "28    381\n",
       "37    347\n",
       "29    343\n",
       "31    343\n",
       "33    338\n",
       "27    336\n",
       "36    336\n",
       "42    336\n",
       "30    330\n",
       "32    326\n",
       "34    326\n",
       "35    321\n",
       "39    316\n",
       "44    307\n",
       "43    305\n",
       "26    303\n",
       "41    296\n",
       "38    290\n",
       "40    278\n",
       "45    277\n",
       "46    274\n",
       "25    264\n",
       "47    252\n",
       "48    252\n",
       "24    250\n",
       "50    246\n",
       "23    237\n",
       "51    230\n",
       "49    221\n",
       "22    197\n",
       "     ... \n",
       "20    125\n",
       "19    116\n",
       "17    108\n",
       "58    104\n",
       "18    102\n",
       "16     81\n",
       "59     81\n",
       "60     80\n",
       "62     58\n",
       "15     55\n",
       "61     51\n",
       "65     39\n",
       "14     37\n",
       "64     35\n",
       "63     33\n",
       "66     31\n",
       "69     23\n",
       "67     20\n",
       "70     20\n",
       "71     17\n",
       "68     14\n",
       "72     13\n",
       "73      9\n",
       "74      9\n",
       "76      4\n",
       "75      4\n",
       "78      3\n",
       "82      2\n",
       "79      1\n",
       "80      1\n",
       "Name: an, dtype: int64"
      ]
     },
     "execution_count": 61,
     "metadata": {},
     "output_type": "execute_result"
    }
   ],
   "source": [
    "age = data.an.value_counts()\n",
    "age.index = 2016-age.index.astype(int)"
   ]
  },
  {
   "cell_type": "code",
   "execution_count": 67,
   "metadata": {
    "collapsed": false
   },
   "outputs": [
    {
     "ename": "KeyError",
     "evalue": "0",
     "output_type": "error",
     "traceback": [
      "\u001b[1;31m---------------------------------------------------------------------------\u001b[0m",
      "\u001b[1;31mKeyError\u001b[0m                                  Traceback (most recent call last)",
      "\u001b[1;32m<ipython-input-67-bf1205ec5e5a>\u001b[0m in \u001b[0;36m<module>\u001b[1;34m()\u001b[0m\n\u001b[0;32m      5\u001b[0m \u001b[0mplt\u001b[0m\u001b[1;33m.\u001b[0m\u001b[0mylabel\u001b[0m\u001b[1;33m(\u001b[0m\u001b[1;34m'count'\u001b[0m\u001b[1;33m)\u001b[0m\u001b[1;33m\u001b[0m\u001b[0m\n\u001b[0;32m      6\u001b[0m \u001b[0mplt\u001b[0m\u001b[1;33m.\u001b[0m\u001b[0msubplot\u001b[0m\u001b[1;33m(\u001b[0m\u001b[1;36m1\u001b[0m\u001b[1;33m,\u001b[0m\u001b[1;36m2\u001b[0m\u001b[1;33m,\u001b[0m\u001b[1;36m2\u001b[0m\u001b[1;33m)\u001b[0m\u001b[1;33m\u001b[0m\u001b[0m\n\u001b[1;32m----> 7\u001b[1;33m \u001b[0mplt\u001b[0m\u001b[1;33m.\u001b[0m\u001b[0mboxplot\u001b[0m\u001b[1;33m(\u001b[0m\u001b[0mage\u001b[0m\u001b[1;33m,\u001b[0m\u001b[0mvert\u001b[0m\u001b[1;33m=\u001b[0m\u001b[1;32mFalse\u001b[0m\u001b[1;33m)\u001b[0m\u001b[1;33m\u001b[0m\u001b[0m\n\u001b[0m\u001b[0;32m      8\u001b[0m \u001b[0mplt\u001b[0m\u001b[1;33m.\u001b[0m\u001b[0mxlabel\u001b[0m\u001b[1;33m(\u001b[0m\u001b[1;34m'age'\u001b[0m\u001b[1;33m)\u001b[0m\u001b[1;33m\u001b[0m\u001b[0m\n",
      "\u001b[1;32mC:\\Users\\Utente\\Anaconda3\\lib\\site-packages\\matplotlib\\pyplot.py\u001b[0m in \u001b[0;36mboxplot\u001b[1;34m(x, notch, sym, vert, whis, positions, widths, patch_artist, bootstrap, usermedians, conf_intervals, meanline, showmeans, showcaps, showbox, showfliers, boxprops, labels, flierprops, medianprops, meanprops, capprops, whiskerprops, manage_xticks, hold, data)\u001b[0m\n\u001b[0;32m   2708\u001b[0m                          \u001b[0mmeanprops\u001b[0m\u001b[1;33m=\u001b[0m\u001b[0mmeanprops\u001b[0m\u001b[1;33m,\u001b[0m \u001b[0mcapprops\u001b[0m\u001b[1;33m=\u001b[0m\u001b[0mcapprops\u001b[0m\u001b[1;33m,\u001b[0m\u001b[1;33m\u001b[0m\u001b[0m\n\u001b[0;32m   2709\u001b[0m                          \u001b[0mwhiskerprops\u001b[0m\u001b[1;33m=\u001b[0m\u001b[0mwhiskerprops\u001b[0m\u001b[1;33m,\u001b[0m\u001b[1;33m\u001b[0m\u001b[0m\n\u001b[1;32m-> 2710\u001b[1;33m                          manage_xticks=manage_xticks, data=data)\n\u001b[0m\u001b[0;32m   2711\u001b[0m     \u001b[1;32mfinally\u001b[0m\u001b[1;33m:\u001b[0m\u001b[1;33m\u001b[0m\u001b[0m\n\u001b[0;32m   2712\u001b[0m         \u001b[0max\u001b[0m\u001b[1;33m.\u001b[0m\u001b[0mhold\u001b[0m\u001b[1;33m(\u001b[0m\u001b[0mwashold\u001b[0m\u001b[1;33m)\u001b[0m\u001b[1;33m\u001b[0m\u001b[0m\n",
      "\u001b[1;32mC:\\Users\\Utente\\Anaconda3\\lib\\site-packages\\matplotlib\\__init__.py\u001b[0m in \u001b[0;36minner\u001b[1;34m(ax, *args, **kwargs)\u001b[0m\n\u001b[0;32m   1809\u001b[0m                     warnings.warn(msg % (label_namer, func.__name__),\n\u001b[0;32m   1810\u001b[0m                                   RuntimeWarning, stacklevel=2)\n\u001b[1;32m-> 1811\u001b[1;33m             \u001b[1;32mreturn\u001b[0m \u001b[0mfunc\u001b[0m\u001b[1;33m(\u001b[0m\u001b[0max\u001b[0m\u001b[1;33m,\u001b[0m \u001b[1;33m*\u001b[0m\u001b[0margs\u001b[0m\u001b[1;33m,\u001b[0m \u001b[1;33m**\u001b[0m\u001b[0mkwargs\u001b[0m\u001b[1;33m)\u001b[0m\u001b[1;33m\u001b[0m\u001b[0m\n\u001b[0m\u001b[0;32m   1812\u001b[0m         \u001b[0mpre_doc\u001b[0m \u001b[1;33m=\u001b[0m \u001b[0minner\u001b[0m\u001b[1;33m.\u001b[0m\u001b[0m__doc__\u001b[0m\u001b[1;33m\u001b[0m\u001b[0m\n\u001b[0;32m   1813\u001b[0m         \u001b[1;32mif\u001b[0m \u001b[0mpre_doc\u001b[0m \u001b[1;32mis\u001b[0m \u001b[1;32mNone\u001b[0m\u001b[1;33m:\u001b[0m\u001b[1;33m\u001b[0m\u001b[0m\n",
      "\u001b[1;32mC:\\Users\\Utente\\Anaconda3\\lib\\site-packages\\matplotlib\\axes\\_axes.py\u001b[0m in \u001b[0;36mboxplot\u001b[1;34m(self, x, notch, sym, vert, whis, positions, widths, patch_artist, bootstrap, usermedians, conf_intervals, meanline, showmeans, showcaps, showbox, showfliers, boxprops, labels, flierprops, medianprops, meanprops, capprops, whiskerprops, manage_xticks)\u001b[0m\n\u001b[0;32m   3210\u001b[0m             \u001b[0mbootstrap\u001b[0m \u001b[1;33m=\u001b[0m \u001b[0mrcParams\u001b[0m\u001b[1;33m[\u001b[0m\u001b[1;34m'boxplot.bootstrap'\u001b[0m\u001b[1;33m]\u001b[0m\u001b[1;33m\u001b[0m\u001b[0m\n\u001b[0;32m   3211\u001b[0m         bxpstats = cbook.boxplot_stats(x, whis=whis, bootstrap=bootstrap,\n\u001b[1;32m-> 3212\u001b[1;33m                                        labels=labels)\n\u001b[0m\u001b[0;32m   3213\u001b[0m         \u001b[1;32mif\u001b[0m \u001b[0mnotch\u001b[0m \u001b[1;32mis\u001b[0m \u001b[1;32mNone\u001b[0m\u001b[1;33m:\u001b[0m\u001b[1;33m\u001b[0m\u001b[0m\n\u001b[0;32m   3214\u001b[0m             \u001b[0mnotch\u001b[0m \u001b[1;33m=\u001b[0m \u001b[0mrcParams\u001b[0m\u001b[1;33m[\u001b[0m\u001b[1;34m'boxplot.notch'\u001b[0m\u001b[1;33m]\u001b[0m\u001b[1;33m\u001b[0m\u001b[0m\n",
      "\u001b[1;32mC:\\Users\\Utente\\Anaconda3\\lib\\site-packages\\matplotlib\\cbook.py\u001b[0m in \u001b[0;36mboxplot_stats\u001b[1;34m(X, whis, bootstrap, labels)\u001b[0m\n\u001b[0;32m   1978\u001b[0m \u001b[1;33m\u001b[0m\u001b[0m\n\u001b[0;32m   1979\u001b[0m     \u001b[1;31m# convert X to a list of lists\u001b[0m\u001b[1;33m\u001b[0m\u001b[1;33m\u001b[0m\u001b[0m\n\u001b[1;32m-> 1980\u001b[1;33m     \u001b[0mX\u001b[0m \u001b[1;33m=\u001b[0m \u001b[0m_reshape_2D\u001b[0m\u001b[1;33m(\u001b[0m\u001b[0mX\u001b[0m\u001b[1;33m)\u001b[0m\u001b[1;33m\u001b[0m\u001b[0m\n\u001b[0m\u001b[0;32m   1981\u001b[0m \u001b[1;33m\u001b[0m\u001b[0m\n\u001b[0;32m   1982\u001b[0m     \u001b[0mncols\u001b[0m \u001b[1;33m=\u001b[0m \u001b[0mlen\u001b[0m\u001b[1;33m(\u001b[0m\u001b[0mX\u001b[0m\u001b[1;33m)\u001b[0m\u001b[1;33m\u001b[0m\u001b[0m\n",
      "\u001b[1;32mC:\\Users\\Utente\\Anaconda3\\lib\\site-packages\\matplotlib\\cbook.py\u001b[0m in \u001b[0;36m_reshape_2D\u001b[1;34m(X)\u001b[0m\n\u001b[0;32m   2226\u001b[0m         \u001b[1;31m# one item\u001b[0m\u001b[1;33m\u001b[0m\u001b[1;33m\u001b[0m\u001b[0m\n\u001b[0;32m   2227\u001b[0m         \u001b[1;32mif\u001b[0m \u001b[0mlen\u001b[0m\u001b[1;33m(\u001b[0m\u001b[0mX\u001b[0m\u001b[1;33m.\u001b[0m\u001b[0mshape\u001b[0m\u001b[1;33m)\u001b[0m \u001b[1;33m==\u001b[0m \u001b[1;36m1\u001b[0m\u001b[1;33m:\u001b[0m\u001b[1;33m\u001b[0m\u001b[0m\n\u001b[1;32m-> 2228\u001b[1;33m             \u001b[1;32mif\u001b[0m \u001b[0mhasattr\u001b[0m\u001b[1;33m(\u001b[0m\u001b[0mX\u001b[0m\u001b[1;33m[\u001b[0m\u001b[1;36m0\u001b[0m\u001b[1;33m]\u001b[0m\u001b[1;33m,\u001b[0m \u001b[1;34m'shape'\u001b[0m\u001b[1;33m)\u001b[0m\u001b[1;33m:\u001b[0m\u001b[1;33m\u001b[0m\u001b[0m\n\u001b[0m\u001b[0;32m   2229\u001b[0m                 \u001b[0mX\u001b[0m \u001b[1;33m=\u001b[0m \u001b[0mlist\u001b[0m\u001b[1;33m(\u001b[0m\u001b[0mX\u001b[0m\u001b[1;33m)\u001b[0m\u001b[1;33m\u001b[0m\u001b[0m\n\u001b[0;32m   2230\u001b[0m             \u001b[1;32melse\u001b[0m\u001b[1;33m:\u001b[0m\u001b[1;33m\u001b[0m\u001b[0m\n",
      "\u001b[1;32mC:\\Users\\Utente\\Anaconda3\\lib\\site-packages\\pandas\\core\\series.py\u001b[0m in \u001b[0;36m__getitem__\u001b[1;34m(self, key)\u001b[0m\n\u001b[0;32m    581\u001b[0m         \u001b[0mkey\u001b[0m \u001b[1;33m=\u001b[0m \u001b[0mcom\u001b[0m\u001b[1;33m.\u001b[0m\u001b[0m_apply_if_callable\u001b[0m\u001b[1;33m(\u001b[0m\u001b[0mkey\u001b[0m\u001b[1;33m,\u001b[0m \u001b[0mself\u001b[0m\u001b[1;33m)\u001b[0m\u001b[1;33m\u001b[0m\u001b[0m\n\u001b[0;32m    582\u001b[0m         \u001b[1;32mtry\u001b[0m\u001b[1;33m:\u001b[0m\u001b[1;33m\u001b[0m\u001b[0m\n\u001b[1;32m--> 583\u001b[1;33m             \u001b[0mresult\u001b[0m \u001b[1;33m=\u001b[0m \u001b[0mself\u001b[0m\u001b[1;33m.\u001b[0m\u001b[0mindex\u001b[0m\u001b[1;33m.\u001b[0m\u001b[0mget_value\u001b[0m\u001b[1;33m(\u001b[0m\u001b[0mself\u001b[0m\u001b[1;33m,\u001b[0m \u001b[0mkey\u001b[0m\u001b[1;33m)\u001b[0m\u001b[1;33m\u001b[0m\u001b[0m\n\u001b[0m\u001b[0;32m    584\u001b[0m \u001b[1;33m\u001b[0m\u001b[0m\n\u001b[0;32m    585\u001b[0m             \u001b[1;32mif\u001b[0m \u001b[1;32mnot\u001b[0m \u001b[0mlib\u001b[0m\u001b[1;33m.\u001b[0m\u001b[0misscalar\u001b[0m\u001b[1;33m(\u001b[0m\u001b[0mresult\u001b[0m\u001b[1;33m)\u001b[0m\u001b[1;33m:\u001b[0m\u001b[1;33m\u001b[0m\u001b[0m\n",
      "\u001b[1;32mC:\\Users\\Utente\\Anaconda3\\lib\\site-packages\\pandas\\indexes\\base.py\u001b[0m in \u001b[0;36mget_value\u001b[1;34m(self, series, key)\u001b[0m\n\u001b[0;32m   1978\u001b[0m         \u001b[1;32mtry\u001b[0m\u001b[1;33m:\u001b[0m\u001b[1;33m\u001b[0m\u001b[0m\n\u001b[0;32m   1979\u001b[0m             return self._engine.get_value(s, k,\n\u001b[1;32m-> 1980\u001b[1;33m                                           tz=getattr(series.dtype, 'tz', None))\n\u001b[0m\u001b[0;32m   1981\u001b[0m         \u001b[1;32mexcept\u001b[0m \u001b[0mKeyError\u001b[0m \u001b[1;32mas\u001b[0m \u001b[0me1\u001b[0m\u001b[1;33m:\u001b[0m\u001b[1;33m\u001b[0m\u001b[0m\n\u001b[0;32m   1982\u001b[0m             \u001b[1;32mif\u001b[0m \u001b[0mlen\u001b[0m\u001b[1;33m(\u001b[0m\u001b[0mself\u001b[0m\u001b[1;33m)\u001b[0m \u001b[1;33m>\u001b[0m \u001b[1;36m0\u001b[0m \u001b[1;32mand\u001b[0m \u001b[0mself\u001b[0m\u001b[1;33m.\u001b[0m\u001b[0minferred_type\u001b[0m \u001b[1;32min\u001b[0m \u001b[1;33m[\u001b[0m\u001b[1;34m'integer'\u001b[0m\u001b[1;33m,\u001b[0m \u001b[1;34m'boolean'\u001b[0m\u001b[1;33m]\u001b[0m\u001b[1;33m:\u001b[0m\u001b[1;33m\u001b[0m\u001b[0m\n",
      "\u001b[1;32mpandas\\index.pyx\u001b[0m in \u001b[0;36mpandas.index.IndexEngine.get_value (pandas\\index.c:3332)\u001b[1;34m()\u001b[0m\n",
      "\u001b[1;32mpandas\\index.pyx\u001b[0m in \u001b[0;36mpandas.index.IndexEngine.get_value (pandas\\index.c:3035)\u001b[1;34m()\u001b[0m\n",
      "\u001b[1;32mpandas\\index.pyx\u001b[0m in \u001b[0;36mpandas.index.IndexEngine.get_loc (pandas\\index.c:4018)\u001b[1;34m()\u001b[0m\n",
      "\u001b[1;32mpandas\\hashtable.pyx\u001b[0m in \u001b[0;36mpandas.hashtable.Int64HashTable.get_item (pandas\\hashtable.c:6610)\u001b[1;34m()\u001b[0m\n",
      "\u001b[1;32mpandas\\hashtable.pyx\u001b[0m in \u001b[0;36mpandas.hashtable.Int64HashTable.get_item (pandas\\hashtable.c:6554)\u001b[1;34m()\u001b[0m\n",
      "\u001b[1;31mKeyError\u001b[0m: 0"
     ]
    },
    {
     "data": {
      "image/png": "[encoded data removed]",
      "text/plain": [
       "<matplotlib.figure.Figure at 0x1044a0f0>"
      ]
     },
     "metadata": {},
     "output_type": "display_data"
    }
   ],
   "source": [
    "# get age of participants and plot its distribution\n",
    "plt.subplot(1,2,1)\n",
    "plt.hist(age,color='lightblue')\n",
    "plt.xlabel('age')\n",
    "plt.ylabel('count')\n",
    "plt.subplot(1,2,2)\n",
    "plt.boxplot(age,vert=False)\n",
    "plt.xlabel('age')"
   ]
  },
  {
   "cell_type": "markdown",
   "metadata": {},
   "source": [
    "Now compare the age distribution for women and men:"
   ]
  },
  {
   "cell_type": "code",
   "execution_count": 41,
   "metadata": {
    "collapsed": false
   },
   "outputs": [
    {
     "name": "stderr",
     "output_type": "stream",
     "text": [
      "C:\\Users\\Utente\\Anaconda3\\lib\\site-packages\\seaborn\\categorical.py:2171: UserWarning: The boxplot API has been changed. Attempting to adjust your arguments for the new API (which might not work). Please update your code. See the version 0.6 release notes for more info.\n",
      "  warnings.warn(msg, UserWarning)\n"
     ]
    },
    {
     "data": {
      "text/plain": [
       "[<matplotlib.text.Text at 0xfe30898>]"
      ]
     },
     "execution_count": 41,
     "metadata": {},
     "output_type": "execute_result"
    },
    {
     "data": {
      "image/png": "[encoded data removed]",
      "text/plain": [
       "<matplotlib.figure.Figure at 0xe9c35c0>"
      ]
     },
     "metadata": {},
     "output_type": "display_data"
    }
   ],
   "source": [
    "age_women = 2016 - data[data.sex=='F'].an.value_counts().index.astype(int)\n",
    "age_men = 2016 - data[data.sex=='M'].an.value_counts().index.astype(int)\n",
    "plt.subplot(3,2,1)\n",
    "plt.hist(age_women,color='lightblue')\n",
    "plt.xlabel('WOMEN age')\n",
    "plt.ylabel('WOMEN count')\n",
    "plt.subplot(3,2,5)\n",
    "plt.hist(age_men,color='darkblue')\n",
    "plt.xlabel('MEN age')\n",
    "plt.ylabel('MEN count')\n",
    "plt.subplot(3,2,2)\n",
    "fig1 = sns.boxplot(age_women,vert=False)\n",
    "fig1.set(xlabel='WOMEN age')\n",
    "plt.subplot(3,2,6)\n",
    "fig2 = sns.boxplot(age_men,vert=False)\n",
    "fig2.set(xlabel='MEN age')"
   ]
  },
  {
   "cell_type": "code",
   "execution_count": 39,
   "metadata": {
    "collapsed": false
   },
   "outputs": [
    {
     "data": {
      "text/plain": [
       "Int64Index([28, 27, 29, 26, 23, 32, 24, 31, 30, 37, 35, 25, 36, 33, 42, 39, 34,\n",
       "            44, 41, 22, 45, 38, 40, 43, 46, 48, 51, 50, 47, 21, 49, 20, 52, 53,\n",
       "            19, 18, 57, 55, 54, 17, 58, 56, 16, 60, 15, 61, 14, 59, 66, 62, 65,\n",
       "            63, 69, 64, 70, 67, 71, 72, 74, 73, 79, 76, 68, 82, 75],\n",
       "           dtype='int64')"
      ]
     },
     "execution_count": 39,
     "metadata": {},
     "output_type": "execute_result"
    }
   ],
   "source": []
  }
 ],
 "metadata": {
  "anaconda-cloud": {},
  "kernelspec": {
   "display_name": "Python [Root]",
   "language": "python",
   "name": "Python [Root]"
  },
  "language_info": {
   "codemirror_mode": {
    "name": "ipython",
    "version": 3
   },
   "file_extension": ".py",
   "mimetype": "text/x-python",
   "name": "python",
   "nbconvert_exporter": "python",
   "pygments_lexer": "ipython3",
   "version": "3.5.2"
  }
 },
 "nbformat": 4,
 "nbformat_minor": 0
}
