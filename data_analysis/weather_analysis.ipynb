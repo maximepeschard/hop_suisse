{
 "cells": [
  {
   "cell_type": "code",
   "execution_count": 1,
   "metadata": {
    "collapsed": true
   },
   "outputs": [],
   "source": [
    "import pandas as pd\n",
    "import numpy as np\n",
    "\n",
    "import matplotlib.pyplot as plt\n",
    "%matplotlib inline\n",
    "\n",
    "import datetime\n",
    "from scipy import stats\n",
    "\n",
    "import seaborn as sns\n",
    "sns.set_context('notebook')\n",
    "%config InlineBackend.figure_format = 'retina'"
   ]
  },
  {
   "cell_type": "code",
   "execution_count": 2,
   "metadata": {
    "collapsed": false
   },
   "outputs": [],
   "source": [
    "a=pd.read_csv('../parsing/full_database.csv')"
   ]
  },
  {
   "cell_type": "code",
   "execution_count": 3,
   "metadata": {
    "collapsed": false
   },
   "outputs": [],
   "source": [
    "del a['len_name']"
   ]
  },
  {
   "cell_type": "code",
   "execution_count": 4,
   "metadata": {
    "collapsed": false
   },
   "outputs": [
    {
     "data": {
      "text/html": [
       "<div>\n",
       "<table border=\"1\" class=\"dataframe\">\n",
       "  <thead>\n",
       "    <tr style=\"text-align: right;\">\n",
       "      <th></th>\n",
       "      <th>Race</th>\n",
       "      <th>Date</th>\n",
       "      <th>Distance</th>\n",
       "      <th>Name</th>\n",
       "      <th>Sex</th>\n",
       "      <th>Year</th>\n",
       "      <th>LivingPlace</th>\n",
       "      <th>Rank</th>\n",
       "      <th>Time</th>\n",
       "      <th>Delay</th>\n",
       "      <th>Pace</th>\n",
       "    </tr>\n",
       "  </thead>\n",
       "  <tbody>\n",
       "    <tr>\n",
       "      <th>0</th>\n",
       "      <td>Jungfrau-Marathon, Interlaken</td>\n",
       "      <td>sam. 06.09.2003</td>\n",
       "      <td>42.195</td>\n",
       "      <td>Abächerli Walter</td>\n",
       "      <td>M</td>\n",
       "      <td>1952</td>\n",
       "      <td>Hinwil</td>\n",
       "      <td>47</td>\n",
       "      <td>4:31.56,1</td>\n",
       "      <td>0:53.5,3</td>\n",
       "      <td>0:6.26,0</td>\n",
       "    </tr>\n",
       "    <tr>\n",
       "      <th>1</th>\n",
       "      <td>Jungfrau-Marathon, Interlaken</td>\n",
       "      <td>sam. 06.09.2003</td>\n",
       "      <td>42.195</td>\n",
       "      <td>Abbringh Ellen</td>\n",
       "      <td>F</td>\n",
       "      <td>1962</td>\n",
       "      <td>NL-Doorn 3941 EB</td>\n",
       "      <td>91</td>\n",
       "      <td>5:55.9,4</td>\n",
       "      <td>2:12.11,6</td>\n",
       "      <td>0:8.25,0</td>\n",
       "    </tr>\n",
       "  </tbody>\n",
       "</table>\n",
       "</div>"
      ],
      "text/plain": [
       "                            Race             Date  Distance  \\\n",
       "0  Jungfrau-Marathon, Interlaken  sam. 06.09.2003    42.195   \n",
       "1  Jungfrau-Marathon, Interlaken  sam. 06.09.2003    42.195   \n",
       "\n",
       "                Name Sex  Year        LivingPlace  Rank       Time      Delay  \\\n",
       "0  Abächerli Walter    M  1952             Hinwil    47  4:31.56,1   0:53.5,3   \n",
       "1    Abbringh Ellen    F  1962   NL-Doorn 3941 EB    91   5:55.9,4  2:12.11,6   \n",
       "\n",
       "       Pace  \n",
       "0  0:6.26,0  \n",
       "1  0:8.25,0  "
      ]
     },
     "execution_count": 4,
     "metadata": {},
     "output_type": "execute_result"
    }
   ],
   "source": [
    "a.head(2)"
   ]
  },
  {
   "cell_type": "code",
   "execution_count": 5,
   "metadata": {
    "collapsed": true
   },
   "outputs": [],
   "source": [
    "weather_db=pd.read_csv('../datasets/races-information-weather.csv')\n",
    "del weather_db['Unnamed: 0']\n",
    "del weather_db['Unnamed: 0.1']"
   ]
  },
  {
   "cell_type": "code",
   "execution_count": 6,
   "metadata": {
    "collapsed": false
   },
   "outputs": [
    {
     "data": {
      "text/html": [
       "<div>\n",
       "<table border=\"1\" class=\"dataframe\">\n",
       "  <thead>\n",
       "    <tr style=\"text-align: right;\">\n",
       "      <th></th>\n",
       "      <th>Date</th>\n",
       "      <th>Name</th>\n",
       "      <th>Place</th>\n",
       "      <th>URL</th>\n",
       "      <th>min_temp</th>\n",
       "      <th>max_temp</th>\n",
       "      <th>uv_index</th>\n",
       "      <th>weather_desc</th>\n",
       "    </tr>\n",
       "  </thead>\n",
       "  <tbody>\n",
       "    <tr>\n",
       "      <th>0</th>\n",
       "      <td>sam. 27.03.1999</td>\n",
       "      <td>Männedörfler Waldlauf</td>\n",
       "      <td>Männedorf</td>\n",
       "      <td>http://services.datasport.com/1999/zkb/maennedorf</td>\n",
       "      <td>NaN</td>\n",
       "      <td>NaN</td>\n",
       "      <td>NaN</td>\n",
       "      <td>NaN</td>\n",
       "    </tr>\n",
       "    <tr>\n",
       "      <th>1</th>\n",
       "      <td>sam. 20.03.1999</td>\n",
       "      <td>Kerzerslauf</td>\n",
       "      <td>Kerzers</td>\n",
       "      <td>http://services.datasport.com/1999/lauf/kerzers</td>\n",
       "      <td>NaN</td>\n",
       "      <td>NaN</td>\n",
       "      <td>NaN</td>\n",
       "      <td>NaN</td>\n",
       "    </tr>\n",
       "  </tbody>\n",
       "</table>\n",
       "</div>"
      ],
      "text/plain": [
       "              Date                   Name      Place  \\\n",
       "0  sam. 27.03.1999  Männedörfler Waldlauf  Männedorf   \n",
       "1  sam. 20.03.1999            Kerzerslauf    Kerzers   \n",
       "\n",
       "                                                 URL  min_temp  max_temp  \\\n",
       "0  http://services.datasport.com/1999/zkb/maennedorf       NaN       NaN   \n",
       "1    http://services.datasport.com/1999/lauf/kerzers       NaN       NaN   \n",
       "\n",
       "   uv_index weather_desc  \n",
       "0       NaN          NaN  \n",
       "1       NaN          NaN  "
      ]
     },
     "execution_count": 6,
     "metadata": {},
     "output_type": "execute_result"
    }
   ],
   "source": [
    "weather_db.head(2)"
   ]
  },
  {
   "cell_type": "code",
   "execution_count": 7,
   "metadata": {
    "collapsed": false
   },
   "outputs": [],
   "source": [
    "gr=a.groupby([a.Date,a.Race])"
   ]
  },
  {
   "cell_type": "code",
   "execution_count": 8,
   "metadata": {
    "collapsed": true
   },
   "outputs": [],
   "source": [
    "def merge_weather_info(x):\n",
    "    race=x.iloc[0].Race\n",
    "    date=x.iloc[0].Date\n",
    "    date2=date[:15]\n",
    "    weather=weather_db[(weather_db.Name==race) & (weather_db.Date==date2)].iloc[0]\n",
    "    x['Date']=date2\n",
    "    x['Place']=weather.Place\n",
    "    x['MinTemp']=weather.min_temp\n",
    "    x['MaxTemp']=weather.max_temp\n",
    "    x['Weather']=weather.weather_desc\n",
    "    x['RaceID']=weather.URL\n",
    "    \n",
    "    return x"
   ]
  },
  {
   "cell_type": "code",
   "execution_count": 9,
   "metadata": {
    "collapsed": false
   },
   "outputs": [],
   "source": [
    "full_df=gr.apply(merge_weather_info)"
   ]
  },
  {
   "cell_type": "code",
   "execution_count": 10,
   "metadata": {
    "collapsed": true
   },
   "outputs": [],
   "source": [
    "full_df=full_df.dropna()"
   ]
  },
  {
   "cell_type": "code",
   "execution_count": 11,
   "metadata": {
    "collapsed": false,
    "scrolled": true
   },
   "outputs": [
    {
     "data": {
      "text/plain": [
       "(1103009, 16)"
      ]
     },
     "execution_count": 11,
     "metadata": {},
     "output_type": "execute_result"
    }
   ],
   "source": [
    "full_df.shape"
   ]
  },
  {
   "cell_type": "code",
   "execution_count": 12,
   "metadata": {
    "collapsed": false
   },
   "outputs": [
    {
     "data": {
      "text/html": [
       "<div>\n",
       "<table border=\"1\" class=\"dataframe\">\n",
       "  <thead>\n",
       "    <tr style=\"text-align: right;\">\n",
       "      <th></th>\n",
       "      <th>Race</th>\n",
       "      <th>Date</th>\n",
       "      <th>Distance</th>\n",
       "      <th>Name</th>\n",
       "      <th>Sex</th>\n",
       "      <th>Year</th>\n",
       "      <th>LivingPlace</th>\n",
       "      <th>Rank</th>\n",
       "      <th>Time</th>\n",
       "      <th>Delay</th>\n",
       "      <th>Pace</th>\n",
       "      <th>Place</th>\n",
       "      <th>MinTemp</th>\n",
       "      <th>MaxTemp</th>\n",
       "      <th>Weather</th>\n",
       "      <th>RaceID</th>\n",
       "    </tr>\n",
       "  </thead>\n",
       "  <tbody>\n",
       "    <tr>\n",
       "      <th>165242</th>\n",
       "      <td>Zermatt Marathon, Zermatt</td>\n",
       "      <td>sam. 05.07.2008</td>\n",
       "      <td>42.195</td>\n",
       "      <td>Abgottspon Helmut</td>\n",
       "      <td>M</td>\n",
       "      <td>1962</td>\n",
       "      <td>Staldenried</td>\n",
       "      <td>165</td>\n",
       "      <td>6:10.37,2</td>\n",
       "      <td>2:32.19,2</td>\n",
       "      <td>0:8.47,0</td>\n",
       "      <td>Zermatt</td>\n",
       "      <td>8.0</td>\n",
       "      <td>20.0</td>\n",
       "      <td>Partly cloudy</td>\n",
       "      <td>http://services.datasport.com/2008/lauf/zermat...</td>\n",
       "    </tr>\n",
       "    <tr>\n",
       "      <th>165243</th>\n",
       "      <td>Zermatt Marathon, Zermatt</td>\n",
       "      <td>sam. 05.07.2008</td>\n",
       "      <td>42.195</td>\n",
       "      <td>Abgottspon Julia</td>\n",
       "      <td>F</td>\n",
       "      <td>1950</td>\n",
       "      <td>Gwatt (Thun)</td>\n",
       "      <td>5</td>\n",
       "      <td>5:34.8,2</td>\n",
       "      <td>0:38.30,9</td>\n",
       "      <td>0:7.55,0</td>\n",
       "      <td>Zermatt</td>\n",
       "      <td>8.0</td>\n",
       "      <td>20.0</td>\n",
       "      <td>Partly cloudy</td>\n",
       "      <td>http://services.datasport.com/2008/lauf/zermat...</td>\n",
       "    </tr>\n",
       "    <tr>\n",
       "      <th>165244</th>\n",
       "      <td>Zermatt Marathon, Zermatt</td>\n",
       "      <td>sam. 05.07.2008</td>\n",
       "      <td>42.195</td>\n",
       "      <td>Abgottspon Medard</td>\n",
       "      <td>M</td>\n",
       "      <td>1942</td>\n",
       "      <td>Visp</td>\n",
       "      <td>2</td>\n",
       "      <td>5:13.54,7</td>\n",
       "      <td>0:27.3,3</td>\n",
       "      <td>0:7.26,0</td>\n",
       "      <td>Zermatt</td>\n",
       "      <td>8.0</td>\n",
       "      <td>20.0</td>\n",
       "      <td>Partly cloudy</td>\n",
       "      <td>http://services.datasport.com/2008/lauf/zermat...</td>\n",
       "    </tr>\n",
       "    <tr>\n",
       "      <th>165245</th>\n",
       "      <td>Zermatt Marathon, Zermatt</td>\n",
       "      <td>sam. 05.07.2008</td>\n",
       "      <td>42.195</td>\n",
       "      <td>Achterberg Nico</td>\n",
       "      <td>M</td>\n",
       "      <td>1957</td>\n",
       "      <td>NL-Veenendaal</td>\n",
       "      <td>80</td>\n",
       "      <td>5:38.35,0</td>\n",
       "      <td>2:3.9,3</td>\n",
       "      <td>0:8.1,0</td>\n",
       "      <td>Zermatt</td>\n",
       "      <td>8.0</td>\n",
       "      <td>20.0</td>\n",
       "      <td>Partly cloudy</td>\n",
       "      <td>http://services.datasport.com/2008/lauf/zermat...</td>\n",
       "    </tr>\n",
       "    <tr>\n",
       "      <th>165246</th>\n",
       "      <td>Zermatt Marathon, Zermatt</td>\n",
       "      <td>sam. 05.07.2008</td>\n",
       "      <td>42.195</td>\n",
       "      <td>Ackeret Peter</td>\n",
       "      <td>M</td>\n",
       "      <td>1957</td>\n",
       "      <td>Deitingen</td>\n",
       "      <td>11</td>\n",
       "      <td>4:26.3,5</td>\n",
       "      <td>0:50.37,8</td>\n",
       "      <td>0:6.18,0</td>\n",
       "      <td>Zermatt</td>\n",
       "      <td>8.0</td>\n",
       "      <td>20.0</td>\n",
       "      <td>Partly cloudy</td>\n",
       "      <td>http://services.datasport.com/2008/lauf/zermat...</td>\n",
       "    </tr>\n",
       "  </tbody>\n",
       "</table>\n",
       "</div>"
      ],
      "text/plain": [
       "                             Race             Date  Distance  \\\n",
       "165242  Zermatt Marathon, Zermatt  sam. 05.07.2008    42.195   \n",
       "165243  Zermatt Marathon, Zermatt  sam. 05.07.2008    42.195   \n",
       "165244  Zermatt Marathon, Zermatt  sam. 05.07.2008    42.195   \n",
       "165245  Zermatt Marathon, Zermatt  sam. 05.07.2008    42.195   \n",
       "165246  Zermatt Marathon, Zermatt  sam. 05.07.2008    42.195   \n",
       "\n",
       "                      Name Sex  Year     LivingPlace  Rank       Time  \\\n",
       "165242  Abgottspon Helmut    M  1962     Staldenried   165  6:10.37,2   \n",
       "165243   Abgottspon Julia    F  1950    Gwatt (Thun)     5   5:34.8,2   \n",
       "165244  Abgottspon Medard    M  1942            Visp     2  5:13.54,7   \n",
       "165245    Achterberg Nico    M  1957   NL-Veenendaal    80  5:38.35,0   \n",
       "165246      Ackeret Peter    M  1957       Deitingen    11   4:26.3,5   \n",
       "\n",
       "            Delay      Pace    Place  MinTemp  MaxTemp        Weather  \\\n",
       "165242  2:32.19,2  0:8.47,0  Zermatt      8.0     20.0  Partly cloudy   \n",
       "165243  0:38.30,9  0:7.55,0  Zermatt      8.0     20.0  Partly cloudy   \n",
       "165244   0:27.3,3  0:7.26,0  Zermatt      8.0     20.0  Partly cloudy   \n",
       "165245    2:3.9,3   0:8.1,0  Zermatt      8.0     20.0  Partly cloudy   \n",
       "165246  0:50.37,8  0:6.18,0  Zermatt      8.0     20.0  Partly cloudy   \n",
       "\n",
       "                                                   RaceID  \n",
       "165242  http://services.datasport.com/2008/lauf/zermat...  \n",
       "165243  http://services.datasport.com/2008/lauf/zermat...  \n",
       "165244  http://services.datasport.com/2008/lauf/zermat...  \n",
       "165245  http://services.datasport.com/2008/lauf/zermat...  \n",
       "165246  http://services.datasport.com/2008/lauf/zermat...  "
      ]
     },
     "execution_count": 12,
     "metadata": {},
     "output_type": "execute_result"
    }
   ],
   "source": [
    "full_df.head(5)"
   ]
  },
  {
   "cell_type": "markdown",
   "metadata": {},
   "source": [
    "# Parse times and select only meaningful features"
   ]
  },
  {
   "cell_type": "code",
   "execution_count": 13,
   "metadata": {
    "collapsed": false
   },
   "outputs": [],
   "source": [
    "base=datetime.datetime.strptime('0:0.0,0','%H:%M.%S,%f')"
   ]
  },
  {
   "cell_type": "code",
   "execution_count": 14,
   "metadata": {
    "collapsed": false
   },
   "outputs": [],
   "source": [
    "full_df['Pace'] = (pd.to_datetime(full_df.Pace, format='%H:%M.%S,%f')-base)"
   ]
  },
  {
   "cell_type": "code",
   "execution_count": 15,
   "metadata": {
    "collapsed": false
   },
   "outputs": [
    {
     "data": {
      "text/plain": [
       "(1103009, 16)"
      ]
     },
     "execution_count": 15,
     "metadata": {},
     "output_type": "execute_result"
    }
   ],
   "source": [
    "full_df.shape"
   ]
  },
  {
   "cell_type": "code",
   "execution_count": 19,
   "metadata": {
    "collapsed": true
   },
   "outputs": [],
   "source": [
    "full_df=full_df[full_df.Distance<45]"
   ]
  },
  {
   "cell_type": "code",
   "execution_count": 20,
   "metadata": {
    "collapsed": false
   },
   "outputs": [
    {
     "data": {
      "text/plain": [
       "42.416259459459461"
      ]
     },
     "execution_count": 20,
     "metadata": {},
     "output_type": "execute_result"
    }
   ],
   "source": [
    "max(full_df.Distance)"
   ]
  },
  {
   "cell_type": "code",
   "execution_count": 21,
   "metadata": {
    "collapsed": false
   },
   "outputs": [
    {
     "data": {
      "text/plain": [
       "(1096394, 16)"
      ]
     },
     "execution_count": 21,
     "metadata": {},
     "output_type": "execute_result"
    }
   ],
   "source": [
    "full_df.shape"
   ]
  },
  {
   "cell_type": "code",
   "execution_count": 23,
   "metadata": {
    "collapsed": false
   },
   "outputs": [],
   "source": [
    "full_df['Time'] = (pd.to_datetime(full_df.Time, format='%H:%M.%S,%f')-base)"
   ]
  },
  {
   "cell_type": "code",
   "execution_count": 25,
   "metadata": {
    "collapsed": true
   },
   "outputs": [],
   "source": [
    "del full_df['Rank']\n",
    "del full_df['Delay']"
   ]
  },
  {
   "cell_type": "code",
   "execution_count": 26,
   "metadata": {
    "collapsed": false,
    "scrolled": true
   },
   "outputs": [
    {
     "data": {
      "text/html": [
       "<div>\n",
       "<table border=\"1\" class=\"dataframe\">\n",
       "  <thead>\n",
       "    <tr style=\"text-align: right;\">\n",
       "      <th></th>\n",
       "      <th>Race</th>\n",
       "      <th>Date</th>\n",
       "      <th>Distance</th>\n",
       "      <th>Name</th>\n",
       "      <th>Sex</th>\n",
       "      <th>Year</th>\n",
       "      <th>LivingPlace</th>\n",
       "      <th>Time</th>\n",
       "      <th>Pace</th>\n",
       "      <th>Place</th>\n",
       "      <th>MinTemp</th>\n",
       "      <th>MaxTemp</th>\n",
       "      <th>Weather</th>\n",
       "      <th>RaceID</th>\n",
       "    </tr>\n",
       "  </thead>\n",
       "  <tbody>\n",
       "    <tr>\n",
       "      <th>165242</th>\n",
       "      <td>Zermatt Marathon, Zermatt</td>\n",
       "      <td>sam. 05.07.2008</td>\n",
       "      <td>42.195</td>\n",
       "      <td>Abgottspon Helmut</td>\n",
       "      <td>M</td>\n",
       "      <td>1962</td>\n",
       "      <td>Staldenried</td>\n",
       "      <td>06:10:37.200000</td>\n",
       "      <td>00:08:47</td>\n",
       "      <td>Zermatt</td>\n",
       "      <td>8.0</td>\n",
       "      <td>20.0</td>\n",
       "      <td>Partly cloudy</td>\n",
       "      <td>http://services.datasport.com/2008/lauf/zermat...</td>\n",
       "    </tr>\n",
       "    <tr>\n",
       "      <th>165243</th>\n",
       "      <td>Zermatt Marathon, Zermatt</td>\n",
       "      <td>sam. 05.07.2008</td>\n",
       "      <td>42.195</td>\n",
       "      <td>Abgottspon Julia</td>\n",
       "      <td>F</td>\n",
       "      <td>1950</td>\n",
       "      <td>Gwatt (Thun)</td>\n",
       "      <td>05:34:08.200000</td>\n",
       "      <td>00:07:55</td>\n",
       "      <td>Zermatt</td>\n",
       "      <td>8.0</td>\n",
       "      <td>20.0</td>\n",
       "      <td>Partly cloudy</td>\n",
       "      <td>http://services.datasport.com/2008/lauf/zermat...</td>\n",
       "    </tr>\n",
       "    <tr>\n",
       "      <th>165244</th>\n",
       "      <td>Zermatt Marathon, Zermatt</td>\n",
       "      <td>sam. 05.07.2008</td>\n",
       "      <td>42.195</td>\n",
       "      <td>Abgottspon Medard</td>\n",
       "      <td>M</td>\n",
       "      <td>1942</td>\n",
       "      <td>Visp</td>\n",
       "      <td>05:13:54.700000</td>\n",
       "      <td>00:07:26</td>\n",
       "      <td>Zermatt</td>\n",
       "      <td>8.0</td>\n",
       "      <td>20.0</td>\n",
       "      <td>Partly cloudy</td>\n",
       "      <td>http://services.datasport.com/2008/lauf/zermat...</td>\n",
       "    </tr>\n",
       "  </tbody>\n",
       "</table>\n",
       "</div>"
      ],
      "text/plain": [
       "                             Race             Date  Distance  \\\n",
       "165242  Zermatt Marathon, Zermatt  sam. 05.07.2008    42.195   \n",
       "165243  Zermatt Marathon, Zermatt  sam. 05.07.2008    42.195   \n",
       "165244  Zermatt Marathon, Zermatt  sam. 05.07.2008    42.195   \n",
       "\n",
       "                      Name Sex  Year    LivingPlace            Time     Pace  \\\n",
       "165242  Abgottspon Helmut    M  1962    Staldenried 06:10:37.200000 00:08:47   \n",
       "165243   Abgottspon Julia    F  1950   Gwatt (Thun) 05:34:08.200000 00:07:55   \n",
       "165244  Abgottspon Medard    M  1942           Visp 05:13:54.700000 00:07:26   \n",
       "\n",
       "          Place  MinTemp  MaxTemp        Weather  \\\n",
       "165242  Zermatt      8.0     20.0  Partly cloudy   \n",
       "165243  Zermatt      8.0     20.0  Partly cloudy   \n",
       "165244  Zermatt      8.0     20.0  Partly cloudy   \n",
       "\n",
       "                                                   RaceID  \n",
       "165242  http://services.datasport.com/2008/lauf/zermat...  \n",
       "165243  http://services.datasport.com/2008/lauf/zermat...  \n",
       "165244  http://services.datasport.com/2008/lauf/zermat...  "
      ]
     },
     "execution_count": 26,
     "metadata": {},
     "output_type": "execute_result"
    }
   ],
   "source": [
    "full_df.head(3)"
   ]
  },
  {
   "cell_type": "markdown",
   "metadata": {},
   "source": [
    "# Categorize better weather"
   ]
  },
  {
   "cell_type": "code",
   "execution_count": 41,
   "metadata": {
    "collapsed": false
   },
   "outputs": [
    {
     "data": {
      "text/plain": [
       "Index(['Partly cloudy', 'Clear', 'Sunny', 'Mist', 'Patchy rain possible',\n",
       "       'Cloudy', 'Light rain', 'Light rain shower', 'Moderate rain',\n",
       "       'Overcast', 'Fog', 'Moderate or heavy rain shower',\n",
       "       'Moderate rain at times', 'Light drizzle', 'Light snow',\n",
       "       'Patchy light drizzle', 'Moderate snow', 'Patchy light rain',\n",
       "       'Patchy light rain with thunder', 'Freezing fog', 'Heavy snow',\n",
       "       'Heavy rain', 'Moderate or heavy rain with thunder',\n",
       "       'Moderate or heavy sleet', 'Patchy moderate snow',\n",
       "       'Heavy rain at times', 'Light sleet',\n",
       "       'Moderate or heavy snow with thunder'],\n",
       "      dtype='object')"
      ]
     },
     "execution_count": 41,
     "metadata": {},
     "output_type": "execute_result"
    }
   ],
   "source": [
    "full_df.Weather.value_counts().index"
   ]
  },
  {
   "cell_type": "markdown",
   "metadata": {},
   "source": [
    "1 -> good weather\n",
    "0 -> bad weather"
   ]
  },
  {
   "cell_type": "code",
   "execution_count": 42,
   "metadata": {
    "collapsed": true
   },
   "outputs": [],
   "source": [
    "dict_favorable_weather={'Partly cloudy':1, 'Clear':1, 'Sunny':1, 'Mist':0, 'Patchy rain possible':1,\n",
    "       'Cloudy':1, 'Light rain':0, 'Light rain shower':0, 'Moderate rain':0,\n",
    "       'Overcast':1, 'Fog':0, 'Moderate or heavy rain shower':0,\n",
    "       'Moderate rain at times':1, 'Light drizzle':0, 'Light snow':0,\n",
    "       'Patchy light drizzle':0, 'Moderate snow':0, 'Patchy light rain':0,\n",
    "       'Patchy light rain with thunder':0, 'Freezing fog':0, 'Heavy snow':0,\n",
    "       'Heavy rain':0, 'Moderate or heavy rain with thunder':0,\n",
    "       'Moderate or heavy sleet':0, 'Patchy moderate snow':0,\n",
    "       'Heavy rain at times':0, 'Light sleet':0,\n",
    "       'Moderate or heavy snow with thunder':0}"
   ]
  },
  {
   "cell_type": "code",
   "execution_count": 44,
   "metadata": {
    "collapsed": true
   },
   "outputs": [],
   "source": [
    "def categorize_weather(x):\n",
    "    return dict_favorable_weather[x]"
   ]
  },
  {
   "cell_type": "code",
   "execution_count": 46,
   "metadata": {
    "collapsed": false
   },
   "outputs": [],
   "source": [
    "full_df.Weather=full_df.Weather.apply(categorize_weather)"
   ]
  },
  {
   "cell_type": "markdown",
   "metadata": {},
   "source": [
    "# Analysis of men"
   ]
  },
  {
   "cell_type": "code",
   "execution_count": 48,
   "metadata": {
    "collapsed": true
   },
   "outputs": [],
   "source": [
    "men_full_df=full_df[full_df.Sex=='M']"
   ]
  },
  {
   "cell_type": "code",
   "execution_count": 49,
   "metadata": {
    "collapsed": true
   },
   "outputs": [],
   "source": [
    "men_marathon=men_full_df[men_full_df.Distance==42.195]"
   ]
  },
  {
   "cell_type": "code",
   "execution_count": 50,
   "metadata": {
    "collapsed": false
   },
   "outputs": [
    {
     "data": {
      "text/plain": [
       "(53604, 14)"
      ]
     },
     "execution_count": 50,
     "metadata": {},
     "output_type": "execute_result"
    }
   ],
   "source": [
    "men_marathon.shape"
   ]
  },
  {
   "cell_type": "code",
   "execution_count": 51,
   "metadata": {
    "collapsed": false
   },
   "outputs": [
    {
     "data": {
      "text/html": [
       "<div>\n",
       "<table border=\"1\" class=\"dataframe\">\n",
       "  <thead>\n",
       "    <tr style=\"text-align: right;\">\n",
       "      <th></th>\n",
       "      <th>Race</th>\n",
       "      <th>Date</th>\n",
       "      <th>Distance</th>\n",
       "      <th>Name</th>\n",
       "      <th>Sex</th>\n",
       "      <th>Year</th>\n",
       "      <th>LivingPlace</th>\n",
       "      <th>Time</th>\n",
       "      <th>Pace</th>\n",
       "      <th>Place</th>\n",
       "      <th>MinTemp</th>\n",
       "      <th>MaxTemp</th>\n",
       "      <th>Weather</th>\n",
       "      <th>RaceID</th>\n",
       "    </tr>\n",
       "  </thead>\n",
       "  <tbody>\n",
       "    <tr>\n",
       "      <th>165242</th>\n",
       "      <td>Zermatt Marathon, Zermatt</td>\n",
       "      <td>sam. 05.07.2008</td>\n",
       "      <td>42.195</td>\n",
       "      <td>Abgottspon Helmut</td>\n",
       "      <td>M</td>\n",
       "      <td>1962</td>\n",
       "      <td>Staldenried</td>\n",
       "      <td>06:10:37.200000</td>\n",
       "      <td>00:08:47</td>\n",
       "      <td>Zermatt</td>\n",
       "      <td>8.0</td>\n",
       "      <td>20.0</td>\n",
       "      <td>1</td>\n",
       "      <td>http://services.datasport.com/2008/lauf/zermat...</td>\n",
       "    </tr>\n",
       "    <tr>\n",
       "      <th>165244</th>\n",
       "      <td>Zermatt Marathon, Zermatt</td>\n",
       "      <td>sam. 05.07.2008</td>\n",
       "      <td>42.195</td>\n",
       "      <td>Abgottspon Medard</td>\n",
       "      <td>M</td>\n",
       "      <td>1942</td>\n",
       "      <td>Visp</td>\n",
       "      <td>05:13:54.700000</td>\n",
       "      <td>00:07:26</td>\n",
       "      <td>Zermatt</td>\n",
       "      <td>8.0</td>\n",
       "      <td>20.0</td>\n",
       "      <td>1</td>\n",
       "      <td>http://services.datasport.com/2008/lauf/zermat...</td>\n",
       "    </tr>\n",
       "    <tr>\n",
       "      <th>165245</th>\n",
       "      <td>Zermatt Marathon, Zermatt</td>\n",
       "      <td>sam. 05.07.2008</td>\n",
       "      <td>42.195</td>\n",
       "      <td>Achterberg Nico</td>\n",
       "      <td>M</td>\n",
       "      <td>1957</td>\n",
       "      <td>NL-Veenendaal</td>\n",
       "      <td>05:38:35</td>\n",
       "      <td>00:08:01</td>\n",
       "      <td>Zermatt</td>\n",
       "      <td>8.0</td>\n",
       "      <td>20.0</td>\n",
       "      <td>1</td>\n",
       "      <td>http://services.datasport.com/2008/lauf/zermat...</td>\n",
       "    </tr>\n",
       "  </tbody>\n",
       "</table>\n",
       "</div>"
      ],
      "text/plain": [
       "                             Race             Date  Distance  \\\n",
       "165242  Zermatt Marathon, Zermatt  sam. 05.07.2008    42.195   \n",
       "165244  Zermatt Marathon, Zermatt  sam. 05.07.2008    42.195   \n",
       "165245  Zermatt Marathon, Zermatt  sam. 05.07.2008    42.195   \n",
       "\n",
       "                      Name Sex  Year     LivingPlace            Time     Pace  \\\n",
       "165242  Abgottspon Helmut    M  1962     Staldenried 06:10:37.200000 00:08:47   \n",
       "165244  Abgottspon Medard    M  1942            Visp 05:13:54.700000 00:07:26   \n",
       "165245    Achterberg Nico    M  1957   NL-Veenendaal        05:38:35 00:08:01   \n",
       "\n",
       "          Place  MinTemp  MaxTemp  Weather  \\\n",
       "165242  Zermatt      8.0     20.0        1   \n",
       "165244  Zermatt      8.0     20.0        1   \n",
       "165245  Zermatt      8.0     20.0        1   \n",
       "\n",
       "                                                   RaceID  \n",
       "165242  http://services.datasport.com/2008/lauf/zermat...  \n",
       "165244  http://services.datasport.com/2008/lauf/zermat...  \n",
       "165245  http://services.datasport.com/2008/lauf/zermat...  "
      ]
     },
     "execution_count": 51,
     "metadata": {},
     "output_type": "execute_result"
    }
   ],
   "source": [
    "men_marathon.head(3)"
   ]
  },
  {
   "cell_type": "code",
   "execution_count": 78,
   "metadata": {
    "collapsed": true
   },
   "outputs": [],
   "source": [
    "def add_mean_std_race(x):\n",
    "    x['MeanRace']=np.mean(x.Time)\n",
    "    x['StdRace']=np.std(x.Time)/np.sqrt(x.shape[0])\n",
    "    return x"
   ]
  },
  {
   "cell_type": "code",
   "execution_count": 79,
   "metadata": {
    "collapsed": false
   },
   "outputs": [],
   "source": [
    "men_marathon=men_marathon.groupby(men_marathon.RaceID).apply(add_mean_std_race)"
   ]
  },
  {
   "cell_type": "code",
   "execution_count": 80,
   "metadata": {
    "collapsed": false
   },
   "outputs": [],
   "source": [
    "men_marathon_means=men_marathon.groupby(men_marathon.RaceID).first()"
   ]
  },
  {
   "cell_type": "code",
   "execution_count": 81,
   "metadata": {
    "collapsed": false
   },
   "outputs": [
    {
     "data": {
      "text/html": [
       "<div>\n",
       "<table border=\"1\" class=\"dataframe\">\n",
       "  <thead>\n",
       "    <tr style=\"text-align: right;\">\n",
       "      <th></th>\n",
       "      <th>Race</th>\n",
       "      <th>Date</th>\n",
       "      <th>Distance</th>\n",
       "      <th>Name</th>\n",
       "      <th>Sex</th>\n",
       "      <th>Year</th>\n",
       "      <th>LivingPlace</th>\n",
       "      <th>Time</th>\n",
       "      <th>Pace</th>\n",
       "      <th>Place</th>\n",
       "      <th>MinTemp</th>\n",
       "      <th>MaxTemp</th>\n",
       "      <th>Weather</th>\n",
       "      <th>MeanRace</th>\n",
       "      <th>StdRace</th>\n",
       "    </tr>\n",
       "    <tr>\n",
       "      <th>RaceID</th>\n",
       "      <th></th>\n",
       "      <th></th>\n",
       "      <th></th>\n",
       "      <th></th>\n",
       "      <th></th>\n",
       "      <th></th>\n",
       "      <th></th>\n",
       "      <th></th>\n",
       "      <th></th>\n",
       "      <th></th>\n",
       "      <th></th>\n",
       "      <th></th>\n",
       "      <th></th>\n",
       "      <th></th>\n",
       "      <th></th>\n",
       "    </tr>\n",
       "  </thead>\n",
       "  <tbody>\n",
       "    <tr>\n",
       "      <th>http://services.datasport.com/2008/lauf/jungfrau</th>\n",
       "      <td>Jungfrau-Marathon, Interlaken</td>\n",
       "      <td>sam. 06.09.2008</td>\n",
       "      <td>42.195</td>\n",
       "      <td>Abächerli Walter</td>\n",
       "      <td>M</td>\n",
       "      <td>1952</td>\n",
       "      <td>Hinwil</td>\n",
       "      <td>04:57:05.200000</td>\n",
       "      <td>00:07:02</td>\n",
       "      <td>Interlaken</td>\n",
       "      <td>12.0</td>\n",
       "      <td>16.0</td>\n",
       "      <td>1</td>\n",
       "      <td>05:14:00.868006</td>\n",
       "      <td>00:00:42.743138</td>\n",
       "    </tr>\n",
       "  </tbody>\n",
       "</table>\n",
       "</div>"
      ],
      "text/plain": [
       "                                                                           Race  \\\n",
       "RaceID                                                                            \n",
       "http://services.datasport.com/2008/lauf/jungfrau  Jungfrau-Marathon, Interlaken   \n",
       "\n",
       "                                                             Date  Distance  \\\n",
       "RaceID                                                                        \n",
       "http://services.datasport.com/2008/lauf/jungfrau  sam. 06.09.2008    42.195   \n",
       "\n",
       "                                                               Name Sex  Year  \\\n",
       "RaceID                                                                          \n",
       "http://services.datasport.com/2008/lauf/jungfrau  Abächerli Walter    M  1952   \n",
       "\n",
       "                                                 LivingPlace            Time  \\\n",
       "RaceID                                                                         \n",
       "http://services.datasport.com/2008/lauf/jungfrau      Hinwil 04:57:05.200000   \n",
       "\n",
       "                                                     Pace       Place  \\\n",
       "RaceID                                                                  \n",
       "http://services.datasport.com/2008/lauf/jungfrau 00:07:02  Interlaken   \n",
       "\n",
       "                                                  MinTemp  MaxTemp  Weather  \\\n",
       "RaceID                                                                        \n",
       "http://services.datasport.com/2008/lauf/jungfrau     12.0     16.0        1   \n",
       "\n",
       "                                                        MeanRace  \\\n",
       "RaceID                                                             \n",
       "http://services.datasport.com/2008/lauf/jungfrau 05:14:00.868006   \n",
       "\n",
       "                                                         StdRace  \n",
       "RaceID                                                            \n",
       "http://services.datasport.com/2008/lauf/jungfrau 00:00:42.743138  "
      ]
     },
     "execution_count": 81,
     "metadata": {},
     "output_type": "execute_result"
    }
   ],
   "source": [
    "men_marathon_means.head(1)"
   ]
  },
  {
   "cell_type": "code",
   "execution_count": 82,
   "metadata": {
    "collapsed": true
   },
   "outputs": [],
   "source": [
    "men_marathon_means=men_marathon_means[['Race','Date','Distance','MinTemp','MaxTemp','Weather','MeanRace','StdRace']]"
   ]
  },
  {
   "cell_type": "code",
   "execution_count": 83,
   "metadata": {
    "collapsed": false
   },
   "outputs": [],
   "source": [
    "men_marathon_means['AvgTemp']=(men_marathon_means.MinTemp+men_marathon_means.MaxTemp)/2"
   ]
  },
  {
   "cell_type": "code",
   "execution_count": 84,
   "metadata": {
    "collapsed": true
   },
   "outputs": [],
   "source": [
    "men_marathon_means=men_marathon_means[['Race','Date','Distance','Weather','AvgTemp','MeanRace','StdRace']]"
   ]
  },
  {
   "cell_type": "code",
   "execution_count": 85,
   "metadata": {
    "collapsed": false
   },
   "outputs": [
    {
     "data": {
      "text/html": [
       "<div>\n",
       "<table border=\"1\" class=\"dataframe\">\n",
       "  <thead>\n",
       "    <tr style=\"text-align: right;\">\n",
       "      <th></th>\n",
       "      <th>Race</th>\n",
       "      <th>Date</th>\n",
       "      <th>Distance</th>\n",
       "      <th>Weather</th>\n",
       "      <th>AvgTemp</th>\n",
       "      <th>MeanRace</th>\n",
       "      <th>StdRace</th>\n",
       "    </tr>\n",
       "    <tr>\n",
       "      <th>RaceID</th>\n",
       "      <th></th>\n",
       "      <th></th>\n",
       "      <th></th>\n",
       "      <th></th>\n",
       "      <th></th>\n",
       "      <th></th>\n",
       "      <th></th>\n",
       "    </tr>\n",
       "  </thead>\n",
       "  <tbody>\n",
       "    <tr>\n",
       "      <th>http://services.datasport.com/2008/lauf/jungfrau</th>\n",
       "      <td>Jungfrau-Marathon, Interlaken</td>\n",
       "      <td>sam. 06.09.2008</td>\n",
       "      <td>42.195</td>\n",
       "      <td>1</td>\n",
       "      <td>14.0</td>\n",
       "      <td>05:14:00.868006</td>\n",
       "      <td>00:00:42.743138</td>\n",
       "    </tr>\n",
       "    <tr>\n",
       "      <th>http://services.datasport.com/2008/lauf/tenero</th>\n",
       "      <td>Maratona Ticino, Tenero</td>\n",
       "      <td>dim. 09.11.2008</td>\n",
       "      <td>42.195</td>\n",
       "      <td>1</td>\n",
       "      <td>4.5</td>\n",
       "      <td>03:41:43.842028</td>\n",
       "      <td>00:04:13.968175</td>\n",
       "    </tr>\n",
       "    <tr>\n",
       "      <th>http://services.datasport.com/2008/lauf/zermattmarathon</th>\n",
       "      <td>Zermatt Marathon, Zermatt</td>\n",
       "      <td>sam. 05.07.2008</td>\n",
       "      <td>42.195</td>\n",
       "      <td>1</td>\n",
       "      <td>14.0</td>\n",
       "      <td>05:20:34.918863</td>\n",
       "      <td>00:01:33.758564</td>\n",
       "    </tr>\n",
       "    <tr>\n",
       "      <th>http://services.datasport.com/2008/waffenlauf/frauenfelder</th>\n",
       "      <td>Frauenfelder</td>\n",
       "      <td>dim. 16.11.2008</td>\n",
       "      <td>42.195</td>\n",
       "      <td>1</td>\n",
       "      <td>4.0</td>\n",
       "      <td>04:12:17.644525</td>\n",
       "      <td>00:02:37.133417</td>\n",
       "    </tr>\n",
       "    <tr>\n",
       "      <th>http://services.datasport.com/2009/lauf/biel</th>\n",
       "      <td>Bieler Lauftage, Biel/Bienne</td>\n",
       "      <td>ven. 12.06.2009</td>\n",
       "      <td>42.195</td>\n",
       "      <td>1</td>\n",
       "      <td>16.0</td>\n",
       "      <td>04:24:31.801000</td>\n",
       "      <td>00:04:53.952692</td>\n",
       "    </tr>\n",
       "  </tbody>\n",
       "</table>\n",
       "</div>"
      ],
      "text/plain": [
       "                                                                             Race  \\\n",
       "RaceID                                                                              \n",
       "http://services.datasport.com/2008/lauf/jungfrau    Jungfrau-Marathon, Interlaken   \n",
       "http://services.datasport.com/2008/lauf/tenero            Maratona Ticino, Tenero   \n",
       "http://services.datasport.com/2008/lauf/zermatt...      Zermatt Marathon, Zermatt   \n",
       "http://services.datasport.com/2008/waffenlauf/f...                   Frauenfelder   \n",
       "http://services.datasport.com/2009/lauf/biel         Bieler Lauftage, Biel/Bienne   \n",
       "\n",
       "                                                               Date  Distance  \\\n",
       "RaceID                                                                          \n",
       "http://services.datasport.com/2008/lauf/jungfrau    sam. 06.09.2008    42.195   \n",
       "http://services.datasport.com/2008/lauf/tenero      dim. 09.11.2008    42.195   \n",
       "http://services.datasport.com/2008/lauf/zermatt...  sam. 05.07.2008    42.195   \n",
       "http://services.datasport.com/2008/waffenlauf/f...  dim. 16.11.2008    42.195   \n",
       "http://services.datasport.com/2009/lauf/biel        ven. 12.06.2009    42.195   \n",
       "\n",
       "                                                    Weather  AvgTemp  \\\n",
       "RaceID                                                                 \n",
       "http://services.datasport.com/2008/lauf/jungfrau          1     14.0   \n",
       "http://services.datasport.com/2008/lauf/tenero            1      4.5   \n",
       "http://services.datasport.com/2008/lauf/zermatt...        1     14.0   \n",
       "http://services.datasport.com/2008/waffenlauf/f...        1      4.0   \n",
       "http://services.datasport.com/2009/lauf/biel              1     16.0   \n",
       "\n",
       "                                                          MeanRace  \\\n",
       "RaceID                                                               \n",
       "http://services.datasport.com/2008/lauf/jungfrau   05:14:00.868006   \n",
       "http://services.datasport.com/2008/lauf/tenero     03:41:43.842028   \n",
       "http://services.datasport.com/2008/lauf/zermatt... 05:20:34.918863   \n",
       "http://services.datasport.com/2008/waffenlauf/f... 04:12:17.644525   \n",
       "http://services.datasport.com/2009/lauf/biel       04:24:31.801000   \n",
       "\n",
       "                                                           StdRace  \n",
       "RaceID                                                              \n",
       "http://services.datasport.com/2008/lauf/jungfrau   00:00:42.743138  \n",
       "http://services.datasport.com/2008/lauf/tenero     00:04:13.968175  \n",
       "http://services.datasport.com/2008/lauf/zermatt... 00:01:33.758564  \n",
       "http://services.datasport.com/2008/waffenlauf/f... 00:02:37.133417  \n",
       "http://services.datasport.com/2009/lauf/biel       00:04:53.952692  "
      ]
     },
     "execution_count": 85,
     "metadata": {},
     "output_type": "execute_result"
    }
   ],
   "source": [
    "men_marathon_means.head(5)"
   ]
  },
  {
   "cell_type": "code",
   "execution_count": null,
   "metadata": {
    "collapsed": false
   },
   "outputs": [],
   "source": [
    "men_marathon_means.Weather.value_counts()"
   ]
  },
  {
   "cell_type": "code",
   "execution_count": null,
   "metadata": {
    "collapsed": false
   },
   "outputs": [],
   "source": [
    "gr_means=men_marathon_means.groupby(men_marathon_means.Race)"
   ]
  },
  {
   "cell_type": "code",
   "execution_count": null,
   "metadata": {
    "collapsed": false
   },
   "outputs": [],
   "source": [
    "for i,a in gr_means:\n",
    "    print(a)"
   ]
  },
  {
   "cell_type": "code",
   "execution_count": null,
   "metadata": {
    "collapsed": true
   },
   "outputs": [],
   "source": []
  }
 ],
 "metadata": {
  "anaconda-cloud": {},
  "kernelspec": {
   "display_name": "Python [Root]",
   "language": "python",
   "name": "Python [Root]"
  },
  "language_info": {
   "codemirror_mode": {
    "name": "ipython",
    "version": 3
   },
   "file_extension": ".py",
   "mimetype": "text/x-python",
   "name": "python",
   "nbconvert_exporter": "python",
   "pygments_lexer": "ipython3",
   "version": "3.5.2"
  }
 },
 "nbformat": 4,
 "nbformat_minor": 0
}
