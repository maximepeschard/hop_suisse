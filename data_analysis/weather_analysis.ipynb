{
 "cells": [
  {
   "cell_type": "code",
   "execution_count": 1,
   "metadata": {
    "collapsed": true
   },
   "outputs": [],
   "source": [
    "import pandas as pd\n",
    "import numpy as np\n",
    "\n",
    "import matplotlib.pyplot as plt\n",
    "%matplotlib inline\n",
    "\n",
    "import datetime\n",
    "from scipy import stats\n",
    "\n",
    "import seaborn as sns\n",
    "sns.set_context('notebook')\n",
    "%config InlineBackend.figure_format = 'retina'"
   ]
  },
  {
   "cell_type": "code",
   "execution_count": 2,
   "metadata": {
    "collapsed": false
   },
   "outputs": [],
   "source": [
    "full_df=pd.read_pickle('../datasets/df_userID.pickle')"
   ]
  },
  {
   "cell_type": "code",
   "execution_count": 4,
   "metadata": {
    "collapsed": false
   },
   "outputs": [
    {
     "data": {
      "text/plain": [
       "2015    16780\n",
       "2014    13392\n",
       "2013    12344\n",
       "2009    10164\n",
       "2012    10012\n",
       "2011     9937\n",
       "2010     8998\n",
       "2006     6046\n",
       "2007     4911\n",
       "2004     2026\n",
       "2005     1940\n",
       "2003     1938\n",
       "2002      117\n",
       "2001       94\n",
       "2000       84\n",
       "Name: RaceYear, dtype: int64"
      ]
     },
     "execution_count": 4,
     "metadata": {},
     "output_type": "execute_result"
    }
   ],
   "source": [
    "full_df[full_df.Race=='20km de Lausanne'].RaceYear.value_counts()"
   ]
  },
  {
   "cell_type": "code",
   "execution_count": 5,
   "metadata": {
    "collapsed": false
   },
   "outputs": [],
   "source": [
    "full_df=full_df[full_df.Weather.notnull()]"
   ]
  },
  {
   "cell_type": "code",
   "execution_count": 7,
   "metadata": {
    "collapsed": false
   },
   "outputs": [
    {
     "data": {
      "text/plain": [
       "18.0    33493\n",
       "19.0    25778\n",
       "7.0     12344\n",
       "24.0    10012\n",
       "Name: MaxTemp, dtype: int64"
      ]
     },
     "execution_count": 7,
     "metadata": {},
     "output_type": "execute_result"
    }
   ],
   "source": [
    "full_df[full_df.Race=='20km de Lausanne'].MaxTemp.value_counts()"
   ]
  },
  {
   "cell_type": "code",
   "execution_count": null,
   "metadata": {
    "collapsed": false,
    "scrolled": true
   },
   "outputs": [],
   "source": [
    "full_df.head()"
   ]
  },
  {
   "cell_type": "code",
   "execution_count": null,
   "metadata": {
    "collapsed": true
   },
   "outputs": [],
   "source": [
    "full_df.Race=full_df.Race.apply(lambda x: 'Lucerne Marathon, Luzern' if x=='SwissCityMarathon - Lucerne, Luzern' else x)"
   ]
  },
  {
   "cell_type": "markdown",
   "metadata": {},
   "source": [
    "# Categorize weather"
   ]
  },
  {
   "cell_type": "code",
   "execution_count": null,
   "metadata": {
    "collapsed": false
   },
   "outputs": [],
   "source": [
    "full_df.Weather.value_counts().index"
   ]
  },
  {
   "cell_type": "markdown",
   "metadata": {},
   "source": [
    "2 -> Sunny\n",
    "1 -> Cloudy\n",
    "0 -> bad weather"
   ]
  },
  {
   "cell_type": "code",
   "execution_count": null,
   "metadata": {
    "collapsed": true
   },
   "outputs": [],
   "source": [
    "dict_favorable_weather={'Partly cloudy':1, 'Clear':2, 'Sunny':2, 'Mist':0, 'Patchy rain possible':1,\n",
    "       'Cloudy':1, 'Light rain':0, 'Light rain shower':0, 'Moderate rain':0,\n",
    "       'Overcast':1, 'Fog':0, 'Moderate or heavy rain shower':0,\n",
    "       'Moderate rain at times':1, 'Light drizzle':0, 'Light snow':0,\n",
    "       'Patchy light drizzle':0, 'Moderate snow':0, 'Patchy light rain':0,\n",
    "       'Patchy light rain with thunder':0, 'Freezing fog':0, 'Heavy snow':0,\n",
    "       'Heavy rain':0, 'Moderate or heavy rain with thunder':0,\n",
    "       'Moderate or heavy sleet':0, 'Patchy moderate snow':0,\n",
    "       'Heavy rain at times':0, 'Light sleet':0,\n",
    "       'Moderate or heavy snow with thunder':0}"
   ]
  },
  {
   "cell_type": "code",
   "execution_count": null,
   "metadata": {
    "collapsed": true
   },
   "outputs": [],
   "source": [
    "def categorize_weather(x):\n",
    "    return dict_favorable_weather[x]"
   ]
  },
  {
   "cell_type": "code",
   "execution_count": null,
   "metadata": {
    "collapsed": false
   },
   "outputs": [],
   "source": [
    "full_df.Weather=full_df.Weather.apply(categorize_weather)"
   ]
  },
  {
   "cell_type": "markdown",
   "metadata": {},
   "source": [
    "# Races with a lot of years"
   ]
  },
  {
   "cell_type": "code",
   "execution_count": null,
   "metadata": {
    "collapsed": true
   },
   "outputs": [],
   "source": [
    "distance_to_analyse=21.0975"
   ]
  },
  {
   "cell_type": "code",
   "execution_count": null,
   "metadata": {
    "collapsed": true
   },
   "outputs": [],
   "source": [
    "good_distances=full_df[(full_df.Distance==distance_to_analyse)]# | (full_df.Distance==21.0975) | (full_df.Distance==42.195)]"
   ]
  },
  {
   "cell_type": "code",
   "execution_count": null,
   "metadata": {
    "collapsed": false
   },
   "outputs": [],
   "source": [
    "a=good_distances.groupby([good_distances.Race,good_distances.RaceYear]).count().reset_index()"
   ]
  },
  {
   "cell_type": "code",
   "execution_count": null,
   "metadata": {
    "collapsed": false,
    "scrolled": true
   },
   "outputs": [],
   "source": [
    "a=a[['Race','RaceYear','Date']]\n",
    "a=a.rename(columns={'Date':'Runners'})\n",
    "a['Years']=1"
   ]
  },
  {
   "cell_type": "code",
   "execution_count": null,
   "metadata": {
    "collapsed": false
   },
   "outputs": [],
   "source": [
    "race_stats=a.groupby(a.Race).sum()"
   ]
  },
  {
   "cell_type": "code",
   "execution_count": null,
   "metadata": {
    "collapsed": false,
    "scrolled": false
   },
   "outputs": [],
   "source": [
    "race_stats"
   ]
  },
  {
   "cell_type": "code",
   "execution_count": null,
   "metadata": {
    "collapsed": false
   },
   "outputs": [],
   "source": [
    "race_stats=race_stats[race_stats.Years>5]\n",
    "race_stats['RunnersPerYear']=race_stats.Runners/race_stats.Years\n",
    "race_stats=race_stats[race_stats.RunnersPerYear>500]\n",
    "race_stats"
   ]
  },
  {
   "cell_type": "code",
   "execution_count": null,
   "metadata": {
    "collapsed": false
   },
   "outputs": [],
   "source": [
    "good_games=race_stats.index\n",
    "good_games"
   ]
  },
  {
   "cell_type": "markdown",
   "metadata": {},
   "source": [
    "# Example with a distance"
   ]
  },
  {
   "cell_type": "code",
   "execution_count": null,
   "metadata": {
    "collapsed": true
   },
   "outputs": [],
   "source": [
    "reduced_df=full_df[full_df.Race.isin(good_games)]"
   ]
  },
  {
   "cell_type": "code",
   "execution_count": null,
   "metadata": {
    "collapsed": false
   },
   "outputs": [],
   "source": [
    "reduced_df.shape"
   ]
  },
  {
   "cell_type": "code",
   "execution_count": null,
   "metadata": {
    "collapsed": false
   },
   "outputs": [],
   "source": [
    "reduced_df.RaceYear.value_counts()"
   ]
  },
  {
   "cell_type": "code",
   "execution_count": null,
   "metadata": {
    "collapsed": false,
    "scrolled": true
   },
   "outputs": [],
   "source": [
    "km10=reduced_df[reduced_df.Distance==distance_to_analyse]"
   ]
  },
  {
   "cell_type": "code",
   "execution_count": null,
   "metadata": {
    "collapsed": false
   },
   "outputs": [],
   "source": [
    "km10.Race.value_counts()"
   ]
  },
  {
   "cell_type": "code",
   "execution_count": null,
   "metadata": {
    "collapsed": false
   },
   "outputs": [],
   "source": [
    "km10.columns"
   ]
  },
  {
   "cell_type": "code",
   "execution_count": null,
   "metadata": {
    "collapsed": true
   },
   "outputs": [],
   "source": [
    "km10=km10[['Race', 'Date', 'RaceYear', 'RaceMonth', 'Category', 'Distance',\n",
    "       'Sex', 'Time', 'Pace',\n",
    "       'MinTemp', 'MaxTemp', 'Weather', 'RaceID', 'UserID']]"
   ]
  },
  {
   "cell_type": "code",
   "execution_count": null,
   "metadata": {
    "collapsed": true
   },
   "outputs": [],
   "source": [
    "def add_mean_std_race(x):\n",
    "    x['MeanRace']=np.mean(x.Time)\n",
    "    x['StdRace']=np.std(x.Time)/np.sqrt(x.shape[0])\n",
    "    x['Count']=x.shape[0]\n",
    "    return x"
   ]
  },
  {
   "cell_type": "code",
   "execution_count": null,
   "metadata": {
    "collapsed": true
   },
   "outputs": [],
   "source": [
    "def add_mean_multiple_years(x):\n",
    "    x['MeanMultipleYears']=np.mean(x.Time)\n",
    "    return x"
   ]
  },
  {
   "cell_type": "code",
   "execution_count": null,
   "metadata": {
    "collapsed": false
   },
   "outputs": [],
   "source": [
    "km10=km10.groupby(km10.RaceID).apply(add_mean_std_race)\n",
    "km10=km10.groupby(km10.Race).apply(add_mean_multiple_years)\n",
    "km10=km10[km10.Sex=='M']"
   ]
  },
  {
   "cell_type": "code",
   "execution_count": null,
   "metadata": {
    "collapsed": true
   },
   "outputs": [],
   "source": [
    "km10['DiffFromGlobalMean']=km10.MeanRace-km10.MeanMultipleYears\n",
    "km10.DiffFromGlobalMean=km10.DiffFromGlobalMean.apply(lambda x: x.total_seconds())"
   ]
  },
  {
   "cell_type": "code",
   "execution_count": null,
   "metadata": {
    "collapsed": true
   },
   "outputs": [],
   "source": [
    "km10['AvgTemp']=(km10.MinTemp+km10.MaxTemp)/2"
   ]
  },
  {
   "cell_type": "code",
   "execution_count": null,
   "metadata": {
    "collapsed": false
   },
   "outputs": [],
   "source": [
    "km10"
   ]
  },
  {
   "cell_type": "code",
   "execution_count": null,
   "metadata": {
    "collapsed": false
   },
   "outputs": [],
   "source": [
    "km10.columns"
   ]
  },
  {
   "cell_type": "code",
   "execution_count": null,
   "metadata": {
    "collapsed": false
   },
   "outputs": [],
   "source": [
    "del final_data"
   ]
  },
  {
   "cell_type": "code",
   "execution_count": null,
   "metadata": {
    "collapsed": false,
    "scrolled": true
   },
   "outputs": [],
   "source": [
    "final_data=km10.groupby(km10.RaceID).first().reset_index()\n",
    "final_data=final_data[['Race', 'RaceYear','Distance',\n",
    "       'Weather', 'AvgTemp', 'DiffFromGlobalMean',\n",
    "       'MeanRace', 'MeanMultipleYears',\n",
    "        'StdRace', 'Count', 'MinTemp', 'MaxTemp','RaceID' ]]\n",
    "final_data['CatWeather']=final_data.Weather.apply(lambda x: dict_favorable_weather[x])\n",
    "final_data"
   ]
  },
  {
   "cell_type": "code",
   "execution_count": null,
   "metadata": {
    "collapsed": false,
    "scrolled": true
   },
   "outputs": [],
   "source": [
    "final_data"
   ]
  },
  {
   "cell_type": "code",
   "execution_count": null,
   "metadata": {
    "collapsed": false,
    "scrolled": false
   },
   "outputs": [],
   "source": [
    "final_data.groupby(final_data.Race).first()"
   ]
  },
  {
   "cell_type": "code",
   "execution_count": null,
   "metadata": {
    "collapsed": false,
    "scrolled": false
   },
   "outputs": [],
   "source": [
    "np.corrcoef(final_data.MinTemp,final_data.DiffFromGlobalMean)"
   ]
  },
  {
   "cell_type": "code",
   "execution_count": null,
   "metadata": {
    "collapsed": true
   },
   "outputs": [],
   "source": [
    "sns.p"
   ]
  },
  {
   "cell_type": "code",
   "execution_count": null,
   "metadata": {
    "collapsed": false,
    "scrolled": false
   },
   "outputs": [],
   "source": [
    "compact=km10.groupby(km10.Race).first()\n",
    "compact=compact[['Distance','MeanRace']]\n",
    "compact"
   ]
  },
  {
   "cell_type": "code",
   "execution_count": null,
   "metadata": {
    "collapsed": false,
    "scrolled": true
   },
   "outputs": [],
   "source": [
    "full_df.Race.value_counts()"
   ]
  },
  {
   "cell_type": "code",
   "execution_count": null,
   "metadata": {
    "collapsed": false
   },
   "outputs": [],
   "source": [
    "full_df[full_df.Race=='Course de l\\'Escalade, Genève'].Distance.value_counts()"
   ]
  },
  {
   "cell_type": "code",
   "execution_count": null,
   "metadata": {
    "collapsed": false
   },
   "outputs": [],
   "source": [
    "full_df[full_df.notnull()].RaceYear.value_counts()"
   ]
  },
  {
   "cell_type": "code",
   "execution_count": null,
   "metadata": {
    "collapsed": false
   },
   "outputs": [],
   "source": [
    "full_df[full_df.Race=='20km de Lausanne'].RaceYear.value_counts()"
   ]
  }
 ],
 "metadata": {
  "anaconda-cloud": {},
  "kernelspec": {
   "display_name": "Python [Root]",
   "language": "python",
   "name": "Python [Root]"
  },
  "language_info": {
   "codemirror_mode": {
    "name": "ipython",
    "version": 3
   },
   "file_extension": ".py",
   "mimetype": "text/x-python",
   "name": "python",
   "nbconvert_exporter": "python",
   "pygments_lexer": "ipython3",
   "version": "3.5.2"
  }
 },
 "nbformat": 4,
 "nbformat_minor": 0
}
