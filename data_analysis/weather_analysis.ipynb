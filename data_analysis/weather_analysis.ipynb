{
 "cells": [
  {
   "cell_type": "code",
   "execution_count": 1,
   "metadata": {
    "collapsed": true
   },
   "outputs": [],
   "source": [
    "import pandas as pd\n",
    "import numpy as np\n",
    "\n",
    "import matplotlib.pyplot as plt\n",
    "%matplotlib inline\n",
    "\n",
    "import datetime\n",
    "from scipy import stats\n",
    "\n",
    "import seaborn as sns\n",
    "sns.set_context('notebook')\n",
    "%config InlineBackend.figure_format = 'retina'"
   ]
  },
  {
   "cell_type": "code",
   "execution_count": 2,
   "metadata": {
    "collapsed": false
   },
   "outputs": [],
   "source": [
    "full_df=pd.read_pickle('../datasets/df_userID.pickle')"
   ]
  },
  {
   "cell_type": "code",
   "execution_count": 4,
   "metadata": {
    "collapsed": false
   },
   "outputs": [
    {
     "data": {
      "text/plain": [
       "2015    16780\n",
       "2014    13392\n",
       "2013    12344\n",
       "2009    10164\n",
       "2012    10012\n",
       "2011     9937\n",
       "2010     8998\n",
       "2006     6046\n",
       "2007     4911\n",
       "2004     2026\n",
       "2005     1940\n",
       "2003     1938\n",
       "2002      117\n",
       "2001       94\n",
       "2000       84\n",
       "Name: RaceYear, dtype: int64"
      ]
     },
     "execution_count": 4,
     "metadata": {},
     "output_type": "execute_result"
    }
   ],
   "source": [
    "full_df[full_df.Race=='20km de Lausanne'].RaceYear.value_counts()"
   ]
  },
  {
   "cell_type": "code",
   "execution_count": 5,
   "metadata": {
    "collapsed": false
   },
   "outputs": [],
   "source": [
    "full_df=full_df[full_df.Weather.notnull()]"
   ]
  },
  {
   "cell_type": "code",
   "execution_count": 7,
   "metadata": {
    "collapsed": false
   },
   "outputs": [
    {
     "data": {
      "text/plain": [
       "18.0    33493\n",
       "19.0    25778\n",
       "7.0     12344\n",
       "24.0    10012\n",
       "Name: MaxTemp, dtype: int64"
      ]
     },
     "execution_count": 7,
     "metadata": {},
     "output_type": "execute_result"
    }
   ],
   "source": [
    "full_df[full_df.Race=='20km de Lausanne'].MaxTemp.value_counts()"
   ]
  },
  {
   "cell_type": "code",
   "execution_count": 4,
   "metadata": {
    "collapsed": false,
    "scrolled": true
   },
   "outputs": [
    {
     "data": {
      "text/html": [
       "<div>\n",
       "<table border=\"1\" class=\"dataframe\">\n",
       "  <thead>\n",
       "    <tr style=\"text-align: right;\">\n",
       "      <th></th>\n",
       "      <th>Race</th>\n",
       "      <th>Date</th>\n",
       "      <th>RaceYear</th>\n",
       "      <th>RaceMonth</th>\n",
       "      <th>Category</th>\n",
       "      <th>Distance</th>\n",
       "      <th>Name</th>\n",
       "      <th>Sex</th>\n",
       "      <th>Year</th>\n",
       "      <th>LivingPlace</th>\n",
       "      <th>Rank</th>\n",
       "      <th>Time</th>\n",
       "      <th>Pace</th>\n",
       "      <th>Place</th>\n",
       "      <th>MinTemp</th>\n",
       "      <th>MaxTemp</th>\n",
       "      <th>Weather</th>\n",
       "      <th>RaceID</th>\n",
       "      <th>UserID</th>\n",
       "    </tr>\n",
       "  </thead>\n",
       "  <tbody>\n",
       "    <tr>\n",
       "      <th>0</th>\n",
       "      <td>Kerzerslauf</td>\n",
       "      <td>sam. 18.03.2000</td>\n",
       "      <td>2000</td>\n",
       "      <td>3</td>\n",
       "      <td>M20</td>\n",
       "      <td>15.0</td>\n",
       "      <td>Abgottspon Peter</td>\n",
       "      <td>M</td>\n",
       "      <td>1974.0</td>\n",
       "      <td>Zermatt</td>\n",
       "      <td>233</td>\n",
       "      <td>01:02:25</td>\n",
       "      <td>00:04:09</td>\n",
       "      <td>Kerzers</td>\n",
       "      <td>NaN</td>\n",
       "      <td>NaN</td>\n",
       "      <td>NaN</td>\n",
       "      <td>http://services.datasport.com/2000/lauf/kerzers</td>\n",
       "      <td>Abgottspon Peter 1974.0</td>\n",
       "    </tr>\n",
       "    <tr>\n",
       "      <th>1</th>\n",
       "      <td>Kerzerslauf</td>\n",
       "      <td>sam. 18.03.2000</td>\n",
       "      <td>2000</td>\n",
       "      <td>3</td>\n",
       "      <td>M35</td>\n",
       "      <td>15.0</td>\n",
       "      <td>Abplanalp Michael</td>\n",
       "      <td>M</td>\n",
       "      <td>1964.0</td>\n",
       "      <td>Bern</td>\n",
       "      <td>32</td>\n",
       "      <td>00:55:11.700000</td>\n",
       "      <td>00:03:40</td>\n",
       "      <td>Kerzers</td>\n",
       "      <td>NaN</td>\n",
       "      <td>NaN</td>\n",
       "      <td>NaN</td>\n",
       "      <td>http://services.datasport.com/2000/lauf/kerzers</td>\n",
       "      <td>Abplanalp Michael 1964.0</td>\n",
       "    </tr>\n",
       "    <tr>\n",
       "      <th>2</th>\n",
       "      <td>Kerzerslauf</td>\n",
       "      <td>sam. 18.03.2000</td>\n",
       "      <td>2000</td>\n",
       "      <td>3</td>\n",
       "      <td>M50</td>\n",
       "      <td>15.0</td>\n",
       "      <td>Abt Werner</td>\n",
       "      <td>M</td>\n",
       "      <td>1947.0</td>\n",
       "      <td>Spiez</td>\n",
       "      <td>155</td>\n",
       "      <td>01:12:42.900000</td>\n",
       "      <td>00:04:50</td>\n",
       "      <td>Kerzers</td>\n",
       "      <td>NaN</td>\n",
       "      <td>NaN</td>\n",
       "      <td>NaN</td>\n",
       "      <td>http://services.datasport.com/2000/lauf/kerzers</td>\n",
       "      <td>Abt Werner 1947.0</td>\n",
       "    </tr>\n",
       "    <tr>\n",
       "      <th>3</th>\n",
       "      <td>Kerzerslauf</td>\n",
       "      <td>sam. 18.03.2000</td>\n",
       "      <td>2000</td>\n",
       "      <td>3</td>\n",
       "      <td>F45</td>\n",
       "      <td>15.0</td>\n",
       "      <td>Ackermann Antoinette</td>\n",
       "      <td>F</td>\n",
       "      <td>1953.0</td>\n",
       "      <td>Alterswil</td>\n",
       "      <td>48</td>\n",
       "      <td>01:22:36.700000</td>\n",
       "      <td>00:05:30</td>\n",
       "      <td>Kerzers</td>\n",
       "      <td>NaN</td>\n",
       "      <td>NaN</td>\n",
       "      <td>NaN</td>\n",
       "      <td>http://services.datasport.com/2000/lauf/kerzers</td>\n",
       "      <td>Ackermann Antoinette 1953.0</td>\n",
       "    </tr>\n",
       "    <tr>\n",
       "      <th>4</th>\n",
       "      <td>Kerzerslauf</td>\n",
       "      <td>sam. 18.03.2000</td>\n",
       "      <td>2000</td>\n",
       "      <td>3</td>\n",
       "      <td>F50</td>\n",
       "      <td>15.0</td>\n",
       "      <td>Ackermann Hedy</td>\n",
       "      <td>F</td>\n",
       "      <td>1946.0</td>\n",
       "      <td>Alterswil</td>\n",
       "      <td>42</td>\n",
       "      <td>01:23:29.300000</td>\n",
       "      <td>00:05:33</td>\n",
       "      <td>Kerzers</td>\n",
       "      <td>NaN</td>\n",
       "      <td>NaN</td>\n",
       "      <td>NaN</td>\n",
       "      <td>http://services.datasport.com/2000/lauf/kerzers</td>\n",
       "      <td>Ackermann Hedy 1946.0</td>\n",
       "    </tr>\n",
       "    <tr>\n",
       "      <th>5</th>\n",
       "      <td>Kerzerslauf</td>\n",
       "      <td>sam. 18.03.2000</td>\n",
       "      <td>2000</td>\n",
       "      <td>3</td>\n",
       "      <td>M40</td>\n",
       "      <td>15.0</td>\n",
       "      <td>Ackermann Meinrad</td>\n",
       "      <td>M</td>\n",
       "      <td>1956.0</td>\n",
       "      <td>La Joux</td>\n",
       "      <td>35</td>\n",
       "      <td>00:56:53.100000</td>\n",
       "      <td>00:03:47</td>\n",
       "      <td>Kerzers</td>\n",
       "      <td>NaN</td>\n",
       "      <td>NaN</td>\n",
       "      <td>NaN</td>\n",
       "      <td>http://services.datasport.com/2000/lauf/kerzers</td>\n",
       "      <td>Ackermann Meinrad 1956.0</td>\n",
       "    </tr>\n",
       "    <tr>\n",
       "      <th>6</th>\n",
       "      <td>Kerzerslauf</td>\n",
       "      <td>sam. 18.03.2000</td>\n",
       "      <td>2000</td>\n",
       "      <td>3</td>\n",
       "      <td>M35</td>\n",
       "      <td>15.0</td>\n",
       "      <td>Adamina Bruno</td>\n",
       "      <td>M</td>\n",
       "      <td>1962.0</td>\n",
       "      <td>Bern</td>\n",
       "      <td>26</td>\n",
       "      <td>00:54:41.700000</td>\n",
       "      <td>00:03:38</td>\n",
       "      <td>Kerzers</td>\n",
       "      <td>NaN</td>\n",
       "      <td>NaN</td>\n",
       "      <td>NaN</td>\n",
       "      <td>http://services.datasport.com/2000/lauf/kerzers</td>\n",
       "      <td>Adamina Bruno 1962.0</td>\n",
       "    </tr>\n",
       "    <tr>\n",
       "      <th>7</th>\n",
       "      <td>Kerzerslauf</td>\n",
       "      <td>sam. 18.03.2000</td>\n",
       "      <td>2000</td>\n",
       "      <td>3</td>\n",
       "      <td>M35</td>\n",
       "      <td>15.0</td>\n",
       "      <td>Adatte Michel</td>\n",
       "      <td>M</td>\n",
       "      <td>1964.0</td>\n",
       "      <td>Asuel</td>\n",
       "      <td>48</td>\n",
       "      <td>00:56:36.600000</td>\n",
       "      <td>00:03:46</td>\n",
       "      <td>Kerzers</td>\n",
       "      <td>NaN</td>\n",
       "      <td>NaN</td>\n",
       "      <td>NaN</td>\n",
       "      <td>http://services.datasport.com/2000/lauf/kerzers</td>\n",
       "      <td>Adatte Michel 1964.0</td>\n",
       "    </tr>\n",
       "    <tr>\n",
       "      <th>8</th>\n",
       "      <td>Kerzerslauf</td>\n",
       "      <td>sam. 18.03.2000</td>\n",
       "      <td>2000</td>\n",
       "      <td>3</td>\n",
       "      <td>M20</td>\n",
       "      <td>15.0</td>\n",
       "      <td>Adesris Yeshaneh</td>\n",
       "      <td>M</td>\n",
       "      <td>1973.0</td>\n",
       "      <td>ETH Aethiopien</td>\n",
       "      <td>23</td>\n",
       "      <td>00:49:27.300000</td>\n",
       "      <td>00:03:17</td>\n",
       "      <td>Kerzers</td>\n",
       "      <td>NaN</td>\n",
       "      <td>NaN</td>\n",
       "      <td>NaN</td>\n",
       "      <td>http://services.datasport.com/2000/lauf/kerzers</td>\n",
       "      <td>Adesris Yeshaneh 1973.0</td>\n",
       "    </tr>\n",
       "    <tr>\n",
       "      <th>9</th>\n",
       "      <td>Kerzerslauf</td>\n",
       "      <td>sam. 18.03.2000</td>\n",
       "      <td>2000</td>\n",
       "      <td>3</td>\n",
       "      <td>M50</td>\n",
       "      <td>15.0</td>\n",
       "      <td>Adler Hanspeter</td>\n",
       "      <td>M</td>\n",
       "      <td>1949.0</td>\n",
       "      <td>Koblenz</td>\n",
       "      <td>33</td>\n",
       "      <td>01:02:23</td>\n",
       "      <td>00:04:09</td>\n",
       "      <td>Kerzers</td>\n",
       "      <td>NaN</td>\n",
       "      <td>NaN</td>\n",
       "      <td>NaN</td>\n",
       "      <td>http://services.datasport.com/2000/lauf/kerzers</td>\n",
       "      <td>Adler Hanspeter 1949.0</td>\n",
       "    </tr>\n",
       "  </tbody>\n",
       "</table>\n",
       "</div>"
      ],
      "text/plain": [
       "          Race             Date  RaceYear  RaceMonth Category  Distance  \\\n",
       "0  Kerzerslauf  sam. 18.03.2000      2000          3      M20      15.0   \n",
       "1  Kerzerslauf  sam. 18.03.2000      2000          3      M35      15.0   \n",
       "2  Kerzerslauf  sam. 18.03.2000      2000          3      M50      15.0   \n",
       "3  Kerzerslauf  sam. 18.03.2000      2000          3      F45      15.0   \n",
       "4  Kerzerslauf  sam. 18.03.2000      2000          3      F50      15.0   \n",
       "5  Kerzerslauf  sam. 18.03.2000      2000          3      M40      15.0   \n",
       "6  Kerzerslauf  sam. 18.03.2000      2000          3      M35      15.0   \n",
       "7  Kerzerslauf  sam. 18.03.2000      2000          3      M35      15.0   \n",
       "8  Kerzerslauf  sam. 18.03.2000      2000          3      M20      15.0   \n",
       "9  Kerzerslauf  sam. 18.03.2000      2000          3      M50      15.0   \n",
       "\n",
       "                   Name Sex    Year     LivingPlace  Rank            Time  \\\n",
       "0      Abgottspon Peter   M  1974.0         Zermatt   233        01:02:25   \n",
       "1     Abplanalp Michael   M  1964.0            Bern    32 00:55:11.700000   \n",
       "2            Abt Werner   M  1947.0           Spiez   155 01:12:42.900000   \n",
       "3  Ackermann Antoinette   F  1953.0       Alterswil    48 01:22:36.700000   \n",
       "4        Ackermann Hedy   F  1946.0       Alterswil    42 01:23:29.300000   \n",
       "5     Ackermann Meinrad   M  1956.0         La Joux    35 00:56:53.100000   \n",
       "6         Adamina Bruno   M  1962.0            Bern    26 00:54:41.700000   \n",
       "7         Adatte Michel   M  1964.0           Asuel    48 00:56:36.600000   \n",
       "8      Adesris Yeshaneh   M  1973.0  ETH Aethiopien    23 00:49:27.300000   \n",
       "9       Adler Hanspeter   M  1949.0         Koblenz    33        01:02:23   \n",
       "\n",
       "      Pace    Place  MinTemp  MaxTemp Weather  \\\n",
       "0 00:04:09  Kerzers      NaN      NaN     NaN   \n",
       "1 00:03:40  Kerzers      NaN      NaN     NaN   \n",
       "2 00:04:50  Kerzers      NaN      NaN     NaN   \n",
       "3 00:05:30  Kerzers      NaN      NaN     NaN   \n",
       "4 00:05:33  Kerzers      NaN      NaN     NaN   \n",
       "5 00:03:47  Kerzers      NaN      NaN     NaN   \n",
       "6 00:03:38  Kerzers      NaN      NaN     NaN   \n",
       "7 00:03:46  Kerzers      NaN      NaN     NaN   \n",
       "8 00:03:17  Kerzers      NaN      NaN     NaN   \n",
       "9 00:04:09  Kerzers      NaN      NaN     NaN   \n",
       "\n",
       "                                            RaceID  \\\n",
       "0  http://services.datasport.com/2000/lauf/kerzers   \n",
       "1  http://services.datasport.com/2000/lauf/kerzers   \n",
       "2  http://services.datasport.com/2000/lauf/kerzers   \n",
       "3  http://services.datasport.com/2000/lauf/kerzers   \n",
       "4  http://services.datasport.com/2000/lauf/kerzers   \n",
       "5  http://services.datasport.com/2000/lauf/kerzers   \n",
       "6  http://services.datasport.com/2000/lauf/kerzers   \n",
       "7  http://services.datasport.com/2000/lauf/kerzers   \n",
       "8  http://services.datasport.com/2000/lauf/kerzers   \n",
       "9  http://services.datasport.com/2000/lauf/kerzers   \n",
       "\n",
       "                        UserID  \n",
       "0      Abgottspon Peter 1974.0  \n",
       "1     Abplanalp Michael 1964.0  \n",
       "2            Abt Werner 1947.0  \n",
       "3  Ackermann Antoinette 1953.0  \n",
       "4        Ackermann Hedy 1946.0  \n",
       "5     Ackermann Meinrad 1956.0  \n",
       "6         Adamina Bruno 1962.0  \n",
       "7         Adatte Michel 1964.0  \n",
       "8      Adesris Yeshaneh 1973.0  \n",
       "9       Adler Hanspeter 1949.0  "
      ]
     },
     "execution_count": 4,
     "metadata": {},
     "output_type": "execute_result"
    }
   ],
   "source": [
    "full_df.head(10)"
   ]
  },
  {
   "cell_type": "code",
   "execution_count": 10,
   "metadata": {
    "collapsed": false
   },
   "outputs": [],
   "source": [
    "a=len(set(full_df.Name))"
   ]
  },
  {
   "cell_type": "code",
   "execution_count": 11,
   "metadata": {
    "collapsed": false
   },
   "outputs": [],
   "source": [
    "b=len(set(full_df.UserID))"
   ]
  },
  {
   "cell_type": "code",
   "execution_count": 13,
   "metadata": {
    "collapsed": false
   },
   "outputs": [
    {
     "data": {
      "text/plain": [
       "0.13944797154306812"
      ]
     },
     "execution_count": 13,
     "metadata": {},
     "output_type": "execute_result"
    }
   ],
   "source": [
    "(b-a)/a"
   ]
  },
  {
   "cell_type": "code",
   "execution_count": 14,
   "metadata": {
    "collapsed": false
   },
   "outputs": [
    {
     "data": {
      "text/plain": [
       "0.35"
      ]
     },
     "execution_count": 14,
     "metadata": {},
     "output_type": "execute_result"
    }
   ],
   "source": [
    "14/40"
   ]
  },
  {
   "cell_type": "code",
   "execution_count": null,
   "metadata": {
    "collapsed": true
   },
   "outputs": [],
   "source": [
    "full_df.Race=full_df.Race.apply(lambda x: 'Lucerne Marathon, Luzern' if x=='SwissCityMarathon - Lucerne, Luzern' else x)"
   ]
  },
  {
   "cell_type": "markdown",
   "metadata": {},
   "source": [
    "# Categorize weather"
   ]
  },
  {
   "cell_type": "code",
   "execution_count": null,
   "metadata": {
    "collapsed": false
   },
   "outputs": [],
   "source": [
    "full_df.Weather.value_counts().index"
   ]
  },
  {
   "cell_type": "markdown",
   "metadata": {},
   "source": [
    "2 -> Sunny\n",
    "1 -> Cloudy\n",
    "0 -> bad weather"
   ]
  },
  {
   "cell_type": "code",
   "execution_count": null,
   "metadata": {
    "collapsed": true
   },
   "outputs": [],
   "source": [
    "dict_favorable_weather={'Partly cloudy':1, 'Clear':2, 'Sunny':2, 'Mist':0, 'Patchy rain possible':1,\n",
    "       'Cloudy':1, 'Light rain':0, 'Light rain shower':0, 'Moderate rain':0,\n",
    "       'Overcast':1, 'Fog':0, 'Moderate or heavy rain shower':0,\n",
    "       'Moderate rain at times':1, 'Light drizzle':0, 'Light snow':0,\n",
    "       'Patchy light drizzle':0, 'Moderate snow':0, 'Patchy light rain':0,\n",
    "       'Patchy light rain with thunder':0, 'Freezing fog':0, 'Heavy snow':0,\n",
    "       'Heavy rain':0, 'Moderate or heavy rain with thunder':0,\n",
    "       'Moderate or heavy sleet':0, 'Patchy moderate snow':0,\n",
    "       'Heavy rain at times':0, 'Light sleet':0,\n",
    "       'Moderate or heavy snow with thunder':0}"
   ]
  },
  {
   "cell_type": "code",
   "execution_count": null,
   "metadata": {
    "collapsed": true
   },
   "outputs": [],
   "source": [
    "def categorize_weather(x):\n",
    "    return dict_favorable_weather[x]"
   ]
  },
  {
   "cell_type": "code",
   "execution_count": null,
   "metadata": {
    "collapsed": false
   },
   "outputs": [],
   "source": [
    "full_df.Weather=full_df.Weather.apply(categorize_weather)"
   ]
  },
  {
   "cell_type": "markdown",
   "metadata": {},
   "source": [
    "# Races with a lot of years"
   ]
  },
  {
   "cell_type": "code",
   "execution_count": null,
   "metadata": {
    "collapsed": true
   },
   "outputs": [],
   "source": [
    "distance_to_analyse=21.0975"
   ]
  },
  {
   "cell_type": "code",
   "execution_count": null,
   "metadata": {
    "collapsed": true
   },
   "outputs": [],
   "source": [
    "good_distances=full_df[(full_df.Distance==distance_to_analyse)]# | (full_df.Distance==21.0975) | (full_df.Distance==42.195)]"
   ]
  },
  {
   "cell_type": "code",
   "execution_count": null,
   "metadata": {
    "collapsed": false
   },
   "outputs": [],
   "source": [
    "a=good_distances.groupby([good_distances.Race,good_distances.RaceYear]).count().reset_index()"
   ]
  },
  {
   "cell_type": "code",
   "execution_count": null,
   "metadata": {
    "collapsed": false,
    "scrolled": true
   },
   "outputs": [],
   "source": [
    "a=a[['Race','RaceYear','Date']]\n",
    "a=a.rename(columns={'Date':'Runners'})\n",
    "a['Years']=1"
   ]
  },
  {
   "cell_type": "code",
   "execution_count": null,
   "metadata": {
    "collapsed": false
   },
   "outputs": [],
   "source": [
    "race_stats=a.groupby(a.Race).sum()"
   ]
  },
  {
   "cell_type": "code",
   "execution_count": null,
   "metadata": {
    "collapsed": false,
    "scrolled": false
   },
   "outputs": [],
   "source": [
    "race_stats"
   ]
  },
  {
   "cell_type": "code",
   "execution_count": null,
   "metadata": {
    "collapsed": false
   },
   "outputs": [],
   "source": [
    "race_stats=race_stats[race_stats.Years>5]\n",
    "race_stats['RunnersPerYear']=race_stats.Runners/race_stats.Years\n",
    "race_stats=race_stats[race_stats.RunnersPerYear>500]\n",
    "race_stats"
   ]
  },
  {
   "cell_type": "code",
   "execution_count": null,
   "metadata": {
    "collapsed": false
   },
   "outputs": [],
   "source": [
    "good_games=race_stats.index\n",
    "good_games"
   ]
  },
  {
   "cell_type": "markdown",
   "metadata": {},
   "source": [
    "# Example with a distance"
   ]
  },
  {
   "cell_type": "code",
   "execution_count": null,
   "metadata": {
    "collapsed": true
   },
   "outputs": [],
   "source": [
    "reduced_df=full_df[full_df.Race.isin(good_games)]"
   ]
  },
  {
   "cell_type": "code",
   "execution_count": null,
   "metadata": {
    "collapsed": false
   },
   "outputs": [],
   "source": [
    "reduced_df.shape"
   ]
  },
  {
   "cell_type": "code",
   "execution_count": null,
   "metadata": {
    "collapsed": false
   },
   "outputs": [],
   "source": [
    "reduced_df.RaceYear.value_counts()"
   ]
  },
  {
   "cell_type": "code",
   "execution_count": null,
   "metadata": {
    "collapsed": false,
    "scrolled": true
   },
   "outputs": [],
   "source": [
    "km10=reduced_df[reduced_df.Distance==distance_to_analyse]"
   ]
  },
  {
   "cell_type": "code",
   "execution_count": null,
   "metadata": {
    "collapsed": false
   },
   "outputs": [],
   "source": [
    "km10.Race.value_counts()"
   ]
  },
  {
   "cell_type": "code",
   "execution_count": null,
   "metadata": {
    "collapsed": false
   },
   "outputs": [],
   "source": [
    "km10.columns"
   ]
  },
  {
   "cell_type": "code",
   "execution_count": null,
   "metadata": {
    "collapsed": true
   },
   "outputs": [],
   "source": [
    "km10=km10[['Race', 'Date', 'RaceYear', 'RaceMonth', 'Category', 'Distance',\n",
    "       'Sex', 'Time', 'Pace',\n",
    "       'MinTemp', 'MaxTemp', 'Weather', 'RaceID', 'UserID']]"
   ]
  },
  {
   "cell_type": "code",
   "execution_count": null,
   "metadata": {
    "collapsed": true
   },
   "outputs": [],
   "source": [
    "def add_mean_std_race(x):\n",
    "    x['MeanRace']=np.mean(x.Time)\n",
    "    x['StdRace']=np.std(x.Time)/np.sqrt(x.shape[0])\n",
    "    x['Count']=x.shape[0]\n",
    "    return x"
   ]
  },
  {
   "cell_type": "code",
   "execution_count": null,
   "metadata": {
    "collapsed": true
   },
   "outputs": [],
   "source": [
    "def add_mean_multiple_years(x):\n",
    "    x['MeanMultipleYears']=np.mean(x.Time)\n",
    "    return x"
   ]
  },
  {
   "cell_type": "code",
   "execution_count": null,
   "metadata": {
    "collapsed": false
   },
   "outputs": [],
   "source": [
    "km10=km10.groupby(km10.RaceID).apply(add_mean_std_race)\n",
    "km10=km10.groupby(km10.Race).apply(add_mean_multiple_years)\n",
    "km10=km10[km10.Sex=='M']"
   ]
  },
  {
   "cell_type": "code",
   "execution_count": null,
   "metadata": {
    "collapsed": true
   },
   "outputs": [],
   "source": [
    "km10['DiffFromGlobalMean']=km10.MeanRace-km10.MeanMultipleYears\n",
    "km10.DiffFromGlobalMean=km10.DiffFromGlobalMean.apply(lambda x: x.total_seconds())"
   ]
  },
  {
   "cell_type": "code",
   "execution_count": null,
   "metadata": {
    "collapsed": true
   },
   "outputs": [],
   "source": [
    "km10['AvgTemp']=(km10.MinTemp+km10.MaxTemp)/2"
   ]
  },
  {
   "cell_type": "code",
   "execution_count": null,
   "metadata": {
    "collapsed": false
   },
   "outputs": [],
   "source": [
    "km10"
   ]
  },
  {
   "cell_type": "code",
   "execution_count": null,
   "metadata": {
    "collapsed": false
   },
   "outputs": [],
   "source": [
    "km10.columns"
   ]
  },
  {
   "cell_type": "code",
   "execution_count": null,
   "metadata": {
    "collapsed": false
   },
   "outputs": [],
   "source": [
    "del final_data"
   ]
  },
  {
   "cell_type": "code",
   "execution_count": null,
   "metadata": {
    "collapsed": false,
    "scrolled": true
   },
   "outputs": [],
   "source": [
    "final_data=km10.groupby(km10.RaceID).first().reset_index()\n",
    "final_data=final_data[['Race', 'RaceYear','Distance',\n",
    "       'Weather', 'AvgTemp', 'DiffFromGlobalMean',\n",
    "       'MeanRace', 'MeanMultipleYears',\n",
    "        'StdRace', 'Count', 'MinTemp', 'MaxTemp','RaceID' ]]\n",
    "final_data['CatWeather']=final_data.Weather.apply(lambda x: dict_favorable_weather[x])\n",
    "final_data"
   ]
  },
  {
   "cell_type": "code",
   "execution_count": null,
   "metadata": {
    "collapsed": false,
    "scrolled": true
   },
   "outputs": [],
   "source": [
    "final_data"
   ]
  },
  {
   "cell_type": "code",
   "execution_count": null,
   "metadata": {
    "collapsed": false,
    "scrolled": false
   },
   "outputs": [],
   "source": [
    "final_data.groupby(final_data.Race).first()"
   ]
  },
  {
   "cell_type": "code",
   "execution_count": null,
   "metadata": {
    "collapsed": false,
    "scrolled": false
   },
   "outputs": [],
   "source": [
    "np.corrcoef(final_data.MinTemp,final_data.DiffFromGlobalMean)"
   ]
  },
  {
   "cell_type": "code",
   "execution_count": null,
   "metadata": {
    "collapsed": true
   },
   "outputs": [],
   "source": [
    "sns.p"
   ]
  },
  {
   "cell_type": "code",
   "execution_count": null,
   "metadata": {
    "collapsed": false,
    "scrolled": false
   },
   "outputs": [],
   "source": [
    "compact=km10.groupby(km10.Race).first()\n",
    "compact=compact[['Distance','MeanRace']]\n",
    "compact"
   ]
  },
  {
   "cell_type": "code",
   "execution_count": null,
   "metadata": {
    "collapsed": false,
    "scrolled": true
   },
   "outputs": [],
   "source": [
    "full_df.Race.value_counts()"
   ]
  },
  {
   "cell_type": "code",
   "execution_count": null,
   "metadata": {
    "collapsed": false
   },
   "outputs": [],
   "source": [
    "full_df[full_df.Race=='Course de l\\'Escalade, Genève'].Distance.value_counts()"
   ]
  },
  {
   "cell_type": "code",
   "execution_count": null,
   "metadata": {
    "collapsed": false
   },
   "outputs": [],
   "source": [
    "full_df[full_df.notnull()].RaceYear.value_counts()"
   ]
  },
  {
   "cell_type": "code",
   "execution_count": null,
   "metadata": {
    "collapsed": false
   },
   "outputs": [],
   "source": [
    "full_df[full_df.Race=='20km de Lausanne'].RaceYear.value_counts()"
   ]
  }
 ],
 "metadata": {
  "anaconda-cloud": {},
  "kernelspec": {
   "display_name": "Python 3",
   "language": "python",
   "name": "python3"
  },
  "language_info": {
   "codemirror_mode": {
    "name": "ipython",
    "version": 3
   },
   "file_extension": ".py",
   "mimetype": "text/x-python",
   "name": "python",
   "nbconvert_exporter": "python",
   "pygments_lexer": "ipython3",
   "version": "3.6.0"
  }
 },
 "nbformat": 4,
 "nbformat_minor": 0
}
