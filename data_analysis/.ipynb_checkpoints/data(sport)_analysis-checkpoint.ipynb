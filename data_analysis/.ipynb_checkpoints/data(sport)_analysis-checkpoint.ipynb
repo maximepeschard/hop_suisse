{
 "cells": [
  {
   "cell_type": "code",
   "execution_count": 1,
   "metadata": {
    "collapsed": true
   },
   "outputs": [],
   "source": [
    "import pandas as pd\n",
    "import numpy as np\n",
    "\n",
    "import matplotlib.pyplot as plt\n",
    "%matplotlib inline\n",
    "\n",
    "from scipy import stats\n",
    "\n",
    "import seaborn as sns\n",
    "sns.set_context('notebook')"
   ]
  },
  {
   "cell_type": "markdown",
   "metadata": {},
   "source": [
    "# Here we focus only on data from Lausanne marathon 2016 "
   ]
  },
  {
   "cell_type": "code",
   "execution_count": 2,
   "metadata": {
    "collapsed": false
   },
   "outputs": [
    {
     "name": "stdout",
     "output_type": "stream",
     "text": [
      "(12059, 7)\n"
     ]
    },
    {
     "data": {
      "text/html": [
       "<div>\n",
       "<table border=\"1\" class=\"dataframe\">\n",
       "  <thead>\n",
       "    <tr style=\"text-align: right;\">\n",
       "      <th></th>\n",
       "      <th>cat</th>\n",
       "      <th>sex</th>\n",
       "      <th>nom</th>\n",
       "      <th>an</th>\n",
       "      <th>lieu</th>\n",
       "      <th>temps</th>\n",
       "      <th>pace</th>\n",
       "    </tr>\n",
       "  </thead>\n",
       "  <tbody>\n",
       "    <tr>\n",
       "      <th>0</th>\n",
       "      <td>21</td>\n",
       "      <td>M</td>\n",
       "      <td>Abaidia Jilani</td>\n",
       "      <td>1966</td>\n",
       "      <td>St-Légier-La Chiésaz</td>\n",
       "      <td>1:45.28,4</td>\n",
       "      <td>4.59</td>\n",
       "    </tr>\n",
       "    <tr>\n",
       "      <th>1</th>\n",
       "      <td>21</td>\n",
       "      <td>F</td>\n",
       "      <td>Abaidia Sandrine</td>\n",
       "      <td>1972</td>\n",
       "      <td>St-Légier</td>\n",
       "      <td>1:49.40,8</td>\n",
       "      <td>5.11</td>\n",
       "    </tr>\n",
       "    <tr>\n",
       "      <th>2</th>\n",
       "      <td>False</td>\n",
       "      <td>F</td>\n",
       "      <td>Abaidia Selma</td>\n",
       "      <td>2006</td>\n",
       "      <td>St-Légier-La Chiésaz</td>\n",
       "      <td>7.12,2</td>\n",
       "      <td>4.48</td>\n",
       "    </tr>\n",
       "    <tr>\n",
       "      <th>3</th>\n",
       "      <td>21</td>\n",
       "      <td>M</td>\n",
       "      <td>Abb Jochen</td>\n",
       "      <td>1948</td>\n",
       "      <td>Ernen</td>\n",
       "      <td>2:50.40,7</td>\n",
       "      <td>8.05</td>\n",
       "    </tr>\n",
       "    <tr>\n",
       "      <th>4</th>\n",
       "      <td>10</td>\n",
       "      <td>M</td>\n",
       "      <td>Abbas Dhia</td>\n",
       "      <td>1961</td>\n",
       "      <td>Lausanne</td>\n",
       "      <td>1:13.04,1</td>\n",
       "      <td>7.18</td>\n",
       "    </tr>\n",
       "  </tbody>\n",
       "</table>\n",
       "</div>"
      ],
      "text/plain": [
       "     cat sex               nom    an                  lieu      temps  pace\n",
       "0     21   M    Abaidia Jilani  1966  St-Légier-La Chiésaz  1:45.28,4  4.59\n",
       "1     21   F  Abaidia Sandrine  1972             St-Légier  1:49.40,8  5.11\n",
       "2  False   F     Abaidia Selma  2006  St-Légier-La Chiésaz     7.12,2  4.48\n",
       "3     21   M        Abb Jochen  1948                 Ernen  2:50.40,7  8.05\n",
       "4     10   M        Abbas Dhia  1961              Lausanne  1:13.04,1  7.18"
      ]
     },
     "execution_count": 2,
     "metadata": {},
     "output_type": "execute_result"
    }
   ],
   "source": [
    "trial_dataset = pd.read_csv('../datasets/lausanne_marathon_2016_stefano.csv')\n",
    "trial_dataset = trial_dataset.drop('Unnamed: 0',axis=1)\n",
    "\n",
    "# remove useless features\n",
    "trial_dataset.drop('rang',axis=1,inplace=True)\n",
    "trial_dataset.drop('retard',axis=1,inplace=True)\n",
    "\n",
    "# we can re-insert the False, if we get the walk cat\n",
    "# trial_dataset.drop('pace',axis=1,inplace=True) \n",
    "\n",
    "print(trial_dataset.shape)\n",
    "trial_dataset.head()"
   ]
  },
  {
   "cell_type": "markdown",
   "metadata": {},
   "source": [
    "Printing info on __important runners__ ( :) ):"
   ]
  },
  {
   "cell_type": "code",
   "execution_count": 3,
   "metadata": {
    "collapsed": false
   },
   "outputs": [
    {
     "data": {
      "text/html": [
       "<div>\n",
       "<table border=\"1\" class=\"dataframe\">\n",
       "  <thead>\n",
       "    <tr style=\"text-align: right;\">\n",
       "      <th></th>\n",
       "      <th>cat</th>\n",
       "      <th>sex</th>\n",
       "      <th>nom</th>\n",
       "      <th>an</th>\n",
       "      <th>lieu</th>\n",
       "      <th>temps</th>\n",
       "    </tr>\n",
       "  </thead>\n",
       "  <tbody>\n",
       "    <tr>\n",
       "      <th>6409</th>\n",
       "      <td>10</td>\n",
       "      <td>M</td>\n",
       "      <td>Lazzari Gianrocco</td>\n",
       "      <td>1988</td>\n",
       "      <td>Ecublens VD</td>\n",
       "      <td>42.59,1</td>\n",
       "    </tr>\n",
       "  </tbody>\n",
       "</table>\n",
       "</div>"
      ],
      "text/plain": [
       "     cat sex                nom    an         lieu    temps\n",
       "6409  10   M  Lazzari Gianrocco  1988  Ecublens VD  42.59,1"
      ]
     },
     "execution_count": 3,
     "metadata": {},
     "output_type": "execute_result"
    }
   ],
   "source": [
    "trial_dataset.loc[trial_dataset.nom=='Lazzari Gianrocco',:]"
   ]
  },
  {
   "cell_type": "markdown",
   "metadata": {},
   "source": [
    "Counting `False` values and remove them:"
   ]
  },
  {
   "cell_type": "code",
   "execution_count": 4,
   "metadata": {
    "collapsed": false
   },
   "outputs": [
    {
     "data": {
      "text/plain": [
       "(11247, 6)"
      ]
     },
     "execution_count": 4,
     "metadata": {},
     "output_type": "execute_result"
    }
   ],
   "source": [
    "sum(trial_dataset.cat=='False')\n",
    "trial_dataset = trial_dataset[trial_dataset.cat!='False']\n",
    "\n",
    "trial_dataset.shape"
   ]
  },
  {
   "cell_type": "markdown",
   "metadata": {},
   "source": [
    "There are NO null values:"
   ]
  },
  {
   "cell_type": "code",
   "execution_count": 5,
   "metadata": {
    "collapsed": false
   },
   "outputs": [
    {
     "data": {
      "text/plain": [
       "cat      0\n",
       "sex      0\n",
       "nom      0\n",
       "an       0\n",
       "lieu     0\n",
       "temps    0\n",
       "dtype: int64"
      ]
     },
     "execution_count": 5,
     "metadata": {},
     "output_type": "execute_result"
    }
   ],
   "source": [
    "trial_dataset.isnull().sum()"
   ]
  },
  {
   "cell_type": "markdown",
   "metadata": {},
   "source": [
    "#### Mind that the rows are not __unique__, for each runner (runner's name):"
   ]
  },
  {
   "cell_type": "code",
   "execution_count": 3,
   "metadata": {
    "collapsed": false
   },
   "outputs": [
    {
     "data": {
      "text/plain": [
       "False"
      ]
     },
     "execution_count": 3,
     "metadata": {},
     "output_type": "execute_result"
    }
   ],
   "source": [
    "len(trial_dataset.nom.unique())==trial_dataset.shape[0]"
   ]
  },
  {
   "cell_type": "markdown",
   "metadata": {},
   "source": [
    "Therefore we compute the distribution of rows/runner:"
   ]
  },
  {
   "cell_type": "code",
   "execution_count": 10,
   "metadata": {
    "collapsed": false
   },
   "outputs": [
    {
     "data": {
      "text/plain": [
       "1    11980\n",
       "2       38\n",
       "3        1\n",
       "Name: nom, dtype: int64"
      ]
     },
     "execution_count": 10,
     "metadata": {},
     "output_type": "execute_result"
    }
   ],
   "source": [
    "trial_dataset.nom.value_counts().value_counts()"
   ]
  },
  {
   "cell_type": "markdown",
   "metadata": {},
   "source": [
    "...and it seems there are 38 runners, with 2 rows and _even_ 1 runner with 3 rows: "
   ]
  },
  {
   "cell_type": "code",
   "execution_count": 3,
   "metadata": {
    "collapsed": false
   },
   "outputs": [
    {
     "name": "stdout",
     "output_type": "stream",
     "text": [
      "Allaz Vincent\n",
      "Bach Philippe\n",
      "Demont Christophe\n",
      "Di Rosa Giuseppe\n",
      "Dutruy Simon\n",
      "Favre Guillaume\n",
      "Favre Pauline\n",
      "Ferreira Fernanda\n",
      "Ferri Fabio\n",
      "Fournier Pierre\n",
      "Gay Julien\n",
      "Genoud Patrick\n",
      "Gerber Patrick\n",
      "Gerber Thomas\n",
      "Graf Stéphanie\n",
      "Guignard Romain\n",
      "Jalloh Ibrahim\n",
      "Jaquier Philippe\n",
      "Keller Christian\n",
      "Lemay Virginie\n",
      "Lizner Petr\n",
      "Longchamp Philippe\n",
      "Michel Julien\n",
      "Michel Patrick\n",
      "Nyanduga Nzumbe\n",
      "Pittet Nicolas\n",
      "Pittet Olivier\n",
      "Ribeiro Antonio\n",
      "Robert Vincent\n",
      "Rochat Daniel\n",
      "Schneeberger Christian\n",
      "Schwab Philippe\n",
      "Tabone Vincent\n",
      "Trolliet Camille\n",
      "Uldry Marc\n",
      "Verdier Thomas\n",
      "Vouilloz Cédric\n",
      "Weber Julien\n",
      "Weber Nicolas\n"
     ]
    }
   ],
   "source": [
    "for r in trial_dataset.nom.unique():\n",
    "    \n",
    "    if (sum(trial_dataset.nom==r)!=1):\n",
    "        \n",
    "        print(r)"
   ]
  },
  {
   "cell_type": "markdown",
   "metadata": {},
   "source": [
    "here is an example:"
   ]
  },
  {
   "cell_type": "code",
   "execution_count": 4,
   "metadata": {
    "collapsed": false
   },
   "outputs": [
    {
     "data": {
      "text/html": [
       "<div>\n",
       "<table border=\"1\" class=\"dataframe\">\n",
       "  <thead>\n",
       "    <tr style=\"text-align: right;\">\n",
       "      <th></th>\n",
       "      <th>cat</th>\n",
       "      <th>sex</th>\n",
       "      <th>nom</th>\n",
       "      <th>an</th>\n",
       "      <th>lieu</th>\n",
       "      <th>temps</th>\n",
       "      <th>pace</th>\n",
       "    </tr>\n",
       "  </thead>\n",
       "  <tbody>\n",
       "    <tr>\n",
       "      <th>159</th>\n",
       "      <td>10</td>\n",
       "      <td>M</td>\n",
       "      <td>Allaz Vincent</td>\n",
       "      <td>1972</td>\n",
       "      <td>Epalinges</td>\n",
       "      <td>45.35,3</td>\n",
       "      <td>4.33</td>\n",
       "    </tr>\n",
       "    <tr>\n",
       "      <th>160</th>\n",
       "      <td>42</td>\n",
       "      <td>M</td>\n",
       "      <td>Allaz Vincent</td>\n",
       "      <td>1988</td>\n",
       "      <td>Villars-le-Terroir</td>\n",
       "      <td>3:31.40,5</td>\n",
       "      <td>5.00</td>\n",
       "    </tr>\n",
       "  </tbody>\n",
       "</table>\n",
       "</div>"
      ],
      "text/plain": [
       "    cat sex            nom    an                lieu      temps  pace\n",
       "159  10   M  Allaz Vincent  1972           Epalinges    45.35,3  4.33\n",
       "160  42   M  Allaz Vincent  1988  Villars-le-Terroir  3:31.40,5  5.00"
      ]
     },
     "execution_count": 4,
     "metadata": {},
     "output_type": "execute_result"
    }
   ],
   "source": [
    "trial_dataset[trial_dataset.nom=='Allaz Vincent']"
   ]
  },
  {
   "cell_type": "markdown",
   "metadata": {},
   "source": [
    "__(name,age)__ is NOT unique descriptor:"
   ]
  },
  {
   "cell_type": "code",
   "execution_count": 5,
   "metadata": {
    "collapsed": false
   },
   "outputs": [
    {
     "name": "stdout",
     "output_type": "stream",
     "text": [
      "Fournier Pierre\n",
      "Gay Julien\n",
      "Jalloh Ibrahim\n",
      "Lemay Virginie\n",
      "Michel Patrick\n",
      "Nyanduga Nzumbe\n"
     ]
    }
   ],
   "source": [
    "for r in trial_dataset.nom.unique():\n",
    "    \n",
    "    if ( (sum(trial_dataset.nom==r)!=1) and\n",
    "        (len(trial_dataset[trial_dataset.nom==r].an.unique())==1) ):\n",
    "        \n",
    "        print(r)"
   ]
  },
  {
   "cell_type": "markdown",
   "metadata": {},
   "source": [
    "... _five_ runner have the __same__ name __and__ age:"
   ]
  },
  {
   "cell_type": "code",
   "execution_count": 9,
   "metadata": {
    "collapsed": false
   },
   "outputs": [
    {
     "data": {
      "text/html": [
       "<div>\n",
       "<table border=\"1\" class=\"dataframe\">\n",
       "  <thead>\n",
       "    <tr style=\"text-align: right;\">\n",
       "      <th></th>\n",
       "      <th>cat</th>\n",
       "      <th>sex</th>\n",
       "      <th>nom</th>\n",
       "      <th>an</th>\n",
       "      <th>lieu</th>\n",
       "      <th>temps</th>\n",
       "      <th>pace</th>\n",
       "    </tr>\n",
       "  </thead>\n",
       "  <tbody>\n",
       "    <tr>\n",
       "      <th>7547</th>\n",
       "      <td>21</td>\n",
       "      <td>M</td>\n",
       "      <td>Michel Patrick</td>\n",
       "      <td>1983</td>\n",
       "      <td>La Chaux-de-Fonds</td>\n",
       "      <td>1:56.19,9</td>\n",
       "      <td>5.30</td>\n",
       "    </tr>\n",
       "    <tr>\n",
       "      <th>7548</th>\n",
       "      <td>10</td>\n",
       "      <td>M</td>\n",
       "      <td>Michel Patrick</td>\n",
       "      <td>1983</td>\n",
       "      <td>Bulle</td>\n",
       "      <td>1:06.08,5</td>\n",
       "      <td>6.36</td>\n",
       "    </tr>\n",
       "  </tbody>\n",
       "</table>\n",
       "</div>"
      ],
      "text/plain": [
       "     cat sex             nom    an               lieu      temps  pace\n",
       "7547  21   M  Michel Patrick  1983  La Chaux-de-Fonds  1:56.19,9  5.30\n",
       "7548  10   M  Michel Patrick  1983              Bulle  1:06.08,5  6.36"
      ]
     },
     "execution_count": 9,
     "metadata": {},
     "output_type": "execute_result"
    }
   ],
   "source": [
    "trial_dataset[trial_dataset.nom=='Michel Patrick']"
   ]
  },
  {
   "cell_type": "markdown",
   "metadata": {},
   "source": [
    "__(name,cat)__ is NOT a unique descriptor:"
   ]
  },
  {
   "cell_type": "code",
   "execution_count": 10,
   "metadata": {
    "collapsed": false
   },
   "outputs": [
    {
     "name": "stdout",
     "output_type": "stream",
     "text": [
      "Di Rosa Giuseppe\n",
      "Favre Pauline\n",
      "Genoud Patrick\n",
      "Gerber Thomas\n",
      "Graf Stéphanie\n",
      "Guignard Romain\n",
      "Jaquier Philippe\n",
      "Lizner Petr\n",
      "Pittet Olivier\n",
      "Ribeiro Antonio\n",
      "Schwab Philippe\n",
      "Verdier Thomas\n",
      "Weber Julien\n",
      "Weber Nicolas\n"
     ]
    }
   ],
   "source": [
    "for r in trial_dataset.nom.unique():\n",
    "    \n",
    "    if ( (sum(trial_dataset.nom==r)!=1) and\n",
    "        (len(trial_dataset[trial_dataset.nom==r].cat.unique())==1) ):\n",
    "        \n",
    "        print(r)"
   ]
  },
  {
   "cell_type": "markdown",
   "metadata": {},
   "source": [
    "example:"
   ]
  },
  {
   "cell_type": "code",
   "execution_count": 11,
   "metadata": {
    "collapsed": false
   },
   "outputs": [
    {
     "data": {
      "text/html": [
       "<div>\n",
       "<table border=\"1\" class=\"dataframe\">\n",
       "  <thead>\n",
       "    <tr style=\"text-align: right;\">\n",
       "      <th></th>\n",
       "      <th>cat</th>\n",
       "      <th>sex</th>\n",
       "      <th>nom</th>\n",
       "      <th>an</th>\n",
       "      <th>lieu</th>\n",
       "      <th>temps</th>\n",
       "      <th>pace</th>\n",
       "    </tr>\n",
       "  </thead>\n",
       "  <tbody>\n",
       "    <tr>\n",
       "      <th>8858</th>\n",
       "      <td>10</td>\n",
       "      <td>M</td>\n",
       "      <td>Pittet Olivier</td>\n",
       "      <td>1967</td>\n",
       "      <td>Cheseaux-sur-Lausanne</td>\n",
       "      <td>51.20,9</td>\n",
       "      <td>5.08</td>\n",
       "    </tr>\n",
       "    <tr>\n",
       "      <th>8859</th>\n",
       "      <td>10</td>\n",
       "      <td>False</td>\n",
       "      <td>Pittet Olivier</td>\n",
       "      <td>1999</td>\n",
       "      <td>Vufflens-la-Ville</td>\n",
       "      <td>51.13,5</td>\n",
       "      <td>5.07</td>\n",
       "    </tr>\n",
       "  </tbody>\n",
       "</table>\n",
       "</div>"
      ],
      "text/plain": [
       "     cat    sex             nom    an                   lieu    temps  pace\n",
       "8858  10      M  Pittet Olivier  1967  Cheseaux-sur-Lausanne  51.20,9  5.08\n",
       "8859  10  False  Pittet Olivier  1999      Vufflens-la-Ville  51.13,5  5.07"
      ]
     },
     "execution_count": 11,
     "metadata": {},
     "output_type": "execute_result"
    }
   ],
   "source": [
    "trial_dataset[trial_dataset.nom=='Pittet Olivier']"
   ]
  },
  {
   "cell_type": "markdown",
   "metadata": {},
   "source": [
    "__(name,age,cat)__ is  a unique descriptor!!:"
   ]
  },
  {
   "cell_type": "code",
   "execution_count": 12,
   "metadata": {
    "collapsed": true
   },
   "outputs": [],
   "source": [
    "for r in trial_dataset.nom.unique():\n",
    "    \n",
    "    if ( (sum(trial_dataset.nom==r)!=1) and\n",
    "        (len(trial_dataset[trial_dataset.nom==r].cat.unique())==1) and\n",
    "        (len(trial_dataset[trial_dataset.nom==r].an.unique())==1) ):\n",
    "        \n",
    "        print(r)"
   ]
  },
  {
   "cell_type": "markdown",
   "metadata": {},
   "source": [
    "## Stats on age"
   ]
  },
  {
   "cell_type": "markdown",
   "metadata": {},
   "source": [
    "Preparing data:"
   ]
  },
  {
   "cell_type": "code",
   "execution_count": 6,
   "metadata": {
    "collapsed": false
   },
   "outputs": [],
   "source": [
    "# Prepare distribution of _all_ runners' age:\n",
    "age_female_10 = 2016 - trial_dataset[(trial_dataset.sex=='F') & (trial_dataset.cat=='10')].an\n",
    "age_male_10 = 2016 - trial_dataset[(trial_dataset.sex=='M') & (trial_dataset.cat=='10')].an\n",
    "\n",
    "age_female_21 = 2016 - trial_dataset[(trial_dataset.sex=='F') & (trial_dataset.cat=='21')].an\n",
    "age_male_21 = 2016 - trial_dataset[(trial_dataset.sex=='M') & (trial_dataset.cat=='21')].an\n",
    "\n",
    "age_female_42 = 2016 - trial_dataset[(trial_dataset.sex=='F') & (trial_dataset.cat=='42')].an\n",
    "age_male_42 = 2016 - trial_dataset[(trial_dataset.sex=='M') & (trial_dataset.cat=='42')].an"
   ]
  },
  {
   "cell_type": "markdown",
   "metadata": {},
   "source": [
    "###  Women age distribution, by race:"
   ]
  },
  {
   "cell_type": "code",
   "execution_count": 7,
   "metadata": {
    "collapsed": false
   },
   "outputs": [
    {
     "data": {
      "text/plain": [
       "<matplotlib.legend.Legend at 0x1176b6898>"
      ]
     },
     "execution_count": 7,
     "metadata": {},
     "output_type": "execute_result"
    },
    {
     "data": {
      "image/png": "[encoded data removed]",
      "text/plain": [
       "<matplotlib.figure.Figure at 0x1176e1470>"
      ]
     },
     "metadata": {},
     "output_type": "display_data"
    }
   ],
   "source": [
    "plt.plot(age_female_10.value_counts(),marker='.',linestyle='',label = 'women 10')\n",
    "plt.plot(age_female_21.value_counts(),marker='.',linestyle='',label = 'women 21')\n",
    "plt.plot(age_female_42.value_counts(),marker='.',linestyle='',label = 'women 42')\n",
    "\n",
    "plt.xlabel('runner\\'s age')\n",
    "plt.ylabel('number of runners')\n",
    "plt.legend()"
   ]
  },
  {
   "cell_type": "markdown",
   "metadata": {},
   "source": [
    "#### Statistical test on women's age, by category:"
   ]
  },
  {
   "cell_type": "code",
   "execution_count": 8,
   "metadata": {
    "collapsed": false
   },
   "outputs": [
    {
     "data": {
      "text/plain": [
       "Ks_2sampResult(statistic=0.069158670333121799, pvalue=0.00025867599203266173)"
      ]
     },
     "execution_count": 8,
     "metadata": {},
     "output_type": "execute_result"
    }
   ],
   "source": [
    "stats.ks_2samp(age_female_21,age_female_10)"
   ]
  },
  {
   "cell_type": "code",
   "execution_count": 9,
   "metadata": {
    "collapsed": false
   },
   "outputs": [
    {
     "data": {
      "text/plain": [
       "Ks_2sampResult(statistic=0.082361950140389606, pvalue=0.14421995770930032)"
      ]
     },
     "execution_count": 9,
     "metadata": {},
     "output_type": "execute_result"
    }
   ],
   "source": [
    "stats.ks_2samp(age_female_42,age_female_21)"
   ]
  },
  {
   "cell_type": "code",
   "execution_count": 10,
   "metadata": {
    "collapsed": false
   },
   "outputs": [
    {
     "data": {
      "text/plain": [
       "Ks_2sampResult(statistic=0.13244659796146291, pvalue=0.0014767471293253094)"
      ]
     },
     "execution_count": 10,
     "metadata": {},
     "output_type": "execute_result"
    }
   ],
   "source": [
    "stats.ks_2samp(age_female_42,age_female_10)"
   ]
  },
  {
   "cell_type": "markdown",
   "metadata": {},
   "source": [
    "###  Men age distribution, by race:"
   ]
  },
  {
   "cell_type": "code",
   "execution_count": 11,
   "metadata": {
    "collapsed": false
   },
   "outputs": [
    {
     "data": {
      "text/plain": [
       "<matplotlib.legend.Legend at 0x119f7bd68>"
      ]
     },
     "execution_count": 11,
     "metadata": {},
     "output_type": "execute_result"
    },
    {
     "data": {
      "image/png": "[encoded data removed]",
      "text/plain": [
       "<matplotlib.figure.Figure at 0x116dfb240>"
      ]
     },
     "metadata": {},
     "output_type": "display_data"
    }
   ],
   "source": [
    "plt.plot(age_male_10.value_counts(),marker='.',linestyle='',label = 'men 10')\n",
    "plt.plot(age_male_21.value_counts(),marker='.',linestyle='',label = 'men 21')\n",
    "plt.plot(age_male_42.value_counts(),marker='.',linestyle='',label = 'men 42')\n",
    "\n",
    "plt.xlabel('runner\\'s age')\n",
    "plt.ylabel('number of runners')\n",
    "plt.legend()"
   ]
  },
  {
   "cell_type": "markdown",
   "metadata": {},
   "source": [
    "#### Statistical test on men's age, by category:"
   ]
  },
  {
   "cell_type": "code",
   "execution_count": 12,
   "metadata": {
    "collapsed": false
   },
   "outputs": [
    {
     "data": {
      "text/plain": [
       "Ks_2sampResult(statistic=0.032486447956996067, pvalue=0.11434962823975953)"
      ]
     },
     "execution_count": 12,
     "metadata": {},
     "output_type": "execute_result"
    }
   ],
   "source": [
    "stats.ks_2samp(age_male_21,age_male_10)"
   ]
  },
  {
   "cell_type": "code",
   "execution_count": 13,
   "metadata": {
    "collapsed": false
   },
   "outputs": [
    {
     "data": {
      "text/plain": [
       "Ks_2sampResult(statistic=0.11752974790668802, pvalue=5.5649755760621104e-10)"
      ]
     },
     "execution_count": 13,
     "metadata": {},
     "output_type": "execute_result"
    }
   ],
   "source": [
    "stats.ks_2samp(age_male_42,age_male_21)"
   ]
  },
  {
   "cell_type": "code",
   "execution_count": 14,
   "metadata": {
    "collapsed": false
   },
   "outputs": [
    {
     "data": {
      "text/plain": [
       "Ks_2sampResult(statistic=0.11826437956082847, pvalue=9.1469336246093692e-10)"
      ]
     },
     "execution_count": 14,
     "metadata": {},
     "output_type": "execute_result"
    }
   ],
   "source": [
    "stats.ks_2samp(age_male_42,age_male_10)"
   ]
  },
  {
   "cell_type": "markdown",
   "metadata": {},
   "source": [
    "## Stats on race VS sex"
   ]
  },
  {
   "cell_type": "code",
   "execution_count": null,
   "metadata": {
    "collapsed": false
   },
   "outputs": [],
   "source": []
  },
  {
   "cell_type": "markdown",
   "metadata": {},
   "source": [
    "## Stats on original country "
   ]
  },
  {
   "cell_type": "code",
   "execution_count": 14,
   "metadata": {
    "collapsed": false
   },
   "outputs": [],
   "source": [
    "# sns.countplot(y=trial_dataset.nat)\n",
    "# plt.ylabel('country of origin')\n",
    "# plt.xlabel('number of runners')"
   ]
  },
  {
   "cell_type": "markdown",
   "metadata": {},
   "source": [
    "## Stats on town of residency"
   ]
  },
  {
   "cell_type": "code",
   "execution_count": 15,
   "metadata": {
    "collapsed": false
   },
   "outputs": [
    {
     "data": {
      "text/plain": [
       "<matplotlib.text.Text at 0x116dfbb00>"
      ]
     },
     "execution_count": 15,
     "metadata": {},
     "output_type": "execute_result"
    },
    {
     "data": {
      "image/png": "[encoded data removed]",
      "text/plain": [
       "<matplotlib.figure.Figure at 0x1176e1518>"
      ]
     },
     "metadata": {},
     "output_type": "display_data"
    }
   ],
   "source": [
    "lieu_distr = trial_dataset.lieu.value_counts().value_counts()\n",
    "\n",
    "plt.loglog(lieu_distr,marker='.',linestyle='')\n",
    "plt.xlabel('number of runners, per town')\n",
    "plt.ylabel('number of towns')"
   ]
  },
  {
   "cell_type": "markdown",
   "metadata": {},
   "source": [
    "## Stats on race time"
   ]
  },
  {
   "cell_type": "code",
   "execution_count": 100,
   "metadata": {
    "collapsed": false
   },
   "outputs": [
    {
     "data": {
      "text/plain": [
       "'1:45.28,4'"
      ]
     },
     "execution_count": 100,
     "metadata": {},
     "output_type": "execute_result"
    }
   ],
   "source": [
    "trial_dataset.temps[0]"
   ]
  },
  {
   "cell_type": "code",
   "execution_count": 126,
   "metadata": {
    "collapsed": false
   },
   "outputs": [
    {
     "ename": "TypeError",
     "evalue": "ufunc add cannot use operands with types dtype('<M8[ns]') and dtype('<M8[ns]')",
     "output_type": "error",
     "traceback": [
      "\u001b[0;31m---------------------------------------------------------------------------\u001b[0m",
      "\u001b[0;31mTypeError\u001b[0m                                 Traceback (most recent call last)",
      "\u001b[0;32m<ipython-input-126-2c9718217083>\u001b[0m in \u001b[0;36m<module>\u001b[0;34m()\u001b[0m\n\u001b[1;32m      7\u001b[0m \u001b[0;31m# times_42_male.hist()\u001b[0m\u001b[0;34m\u001b[0m\u001b[0;34m\u001b[0m\u001b[0m\n\u001b[1;32m      8\u001b[0m \u001b[0;34m\u001b[0m\u001b[0m\n\u001b[0;32m----> 9\u001b[0;31m \u001b[0msns\u001b[0m\u001b[0;34m.\u001b[0m\u001b[0mboxplot\u001b[0m\u001b[0;34m(\u001b[0m\u001b[0mtimes_42_male\u001b[0m\u001b[0;34m)\u001b[0m \u001b[0;31m#,label='men')\u001b[0m\u001b[0;34m\u001b[0m\u001b[0m\n\u001b[0m\u001b[1;32m     10\u001b[0m \u001b[0;31m# sns.distplot(times_42_female,label='female')\u001b[0m\u001b[0;34m\u001b[0m\u001b[0;34m\u001b[0m\u001b[0m\n\u001b[1;32m     11\u001b[0m \u001b[0;34m\u001b[0m\u001b[0m\n",
      "\u001b[0;32m/Users/lazzari/anaconda/envs/py3k/lib/python3.5/site-packages/seaborn/categorical.py\u001b[0m in \u001b[0;36mboxplot\u001b[0;34m(x, y, hue, data, order, hue_order, orient, color, palette, saturation, width, fliersize, linewidth, whis, notch, ax, **kwargs)\u001b[0m\n\u001b[1;32m   2179\u001b[0m     \u001b[0mkwargs\u001b[0m\u001b[0;34m.\u001b[0m\u001b[0mupdate\u001b[0m\u001b[0;34m(\u001b[0m\u001b[0mdict\u001b[0m\u001b[0;34m(\u001b[0m\u001b[0mwhis\u001b[0m\u001b[0;34m=\u001b[0m\u001b[0mwhis\u001b[0m\u001b[0;34m,\u001b[0m \u001b[0mnotch\u001b[0m\u001b[0;34m=\u001b[0m\u001b[0mnotch\u001b[0m\u001b[0;34m)\u001b[0m\u001b[0;34m)\u001b[0m\u001b[0;34m\u001b[0m\u001b[0m\n\u001b[1;32m   2180\u001b[0m \u001b[0;34m\u001b[0m\u001b[0m\n\u001b[0;32m-> 2181\u001b[0;31m     \u001b[0mplotter\u001b[0m\u001b[0;34m.\u001b[0m\u001b[0mplot\u001b[0m\u001b[0;34m(\u001b[0m\u001b[0max\u001b[0m\u001b[0;34m,\u001b[0m \u001b[0mkwargs\u001b[0m\u001b[0;34m)\u001b[0m\u001b[0;34m\u001b[0m\u001b[0m\n\u001b[0m\u001b[1;32m   2182\u001b[0m     \u001b[0;32mreturn\u001b[0m \u001b[0max\u001b[0m\u001b[0;34m\u001b[0m\u001b[0m\n\u001b[1;32m   2183\u001b[0m \u001b[0;34m\u001b[0m\u001b[0m\n",
      "\u001b[0;32m/Users/lazzari/anaconda/envs/py3k/lib/python3.5/site-packages/seaborn/categorical.py\u001b[0m in \u001b[0;36mplot\u001b[0;34m(self, ax, boxplot_kws)\u001b[0m\n\u001b[1;32m    526\u001b[0m     \u001b[0;32mdef\u001b[0m \u001b[0mplot\u001b[0m\u001b[0;34m(\u001b[0m\u001b[0mself\u001b[0m\u001b[0;34m,\u001b[0m \u001b[0max\u001b[0m\u001b[0;34m,\u001b[0m \u001b[0mboxplot_kws\u001b[0m\u001b[0;34m)\u001b[0m\u001b[0;34m:\u001b[0m\u001b[0;34m\u001b[0m\u001b[0m\n\u001b[1;32m    527\u001b[0m         \u001b[0;34m\"\"\"Make the plot.\"\"\"\u001b[0m\u001b[0;34m\u001b[0m\u001b[0m\n\u001b[0;32m--> 528\u001b[0;31m         \u001b[0mself\u001b[0m\u001b[0;34m.\u001b[0m\u001b[0mdraw_boxplot\u001b[0m\u001b[0;34m(\u001b[0m\u001b[0max\u001b[0m\u001b[0;34m,\u001b[0m \u001b[0mboxplot_kws\u001b[0m\u001b[0;34m)\u001b[0m\u001b[0;34m\u001b[0m\u001b[0m\n\u001b[0m\u001b[1;32m    529\u001b[0m         \u001b[0mself\u001b[0m\u001b[0;34m.\u001b[0m\u001b[0mannotate_axes\u001b[0m\u001b[0;34m(\u001b[0m\u001b[0max\u001b[0m\u001b[0;34m)\u001b[0m\u001b[0;34m\u001b[0m\u001b[0m\n\u001b[1;32m    530\u001b[0m         \u001b[0;32mif\u001b[0m \u001b[0mself\u001b[0m\u001b[0;34m.\u001b[0m\u001b[0morient\u001b[0m \u001b[0;34m==\u001b[0m \u001b[0;34m\"h\"\u001b[0m\u001b[0;34m:\u001b[0m\u001b[0;34m\u001b[0m\u001b[0m\n",
      "\u001b[0;32m/Users/lazzari/anaconda/envs/py3k/lib/python3.5/site-packages/seaborn/categorical.py\u001b[0m in \u001b[0;36mdraw_boxplot\u001b[0;34m(self, ax, kws)\u001b[0m\n\u001b[1;32m    463\u001b[0m                                          \u001b[0mpositions\u001b[0m\u001b[0;34m=\u001b[0m\u001b[0;34m[\u001b[0m\u001b[0mi\u001b[0m\u001b[0;34m]\u001b[0m\u001b[0;34m,\u001b[0m\u001b[0;34m\u001b[0m\u001b[0m\n\u001b[1;32m    464\u001b[0m                                          \u001b[0mwidths\u001b[0m\u001b[0;34m=\u001b[0m\u001b[0mself\u001b[0m\u001b[0;34m.\u001b[0m\u001b[0mwidth\u001b[0m\u001b[0;34m,\u001b[0m\u001b[0;34m\u001b[0m\u001b[0m\n\u001b[0;32m--> 465\u001b[0;31m                                          **kws)\n\u001b[0m\u001b[1;32m    466\u001b[0m                 \u001b[0mcolor\u001b[0m \u001b[0;34m=\u001b[0m \u001b[0mself\u001b[0m\u001b[0;34m.\u001b[0m\u001b[0mcolors\u001b[0m\u001b[0;34m[\u001b[0m\u001b[0mi\u001b[0m\u001b[0;34m]\u001b[0m\u001b[0;34m\u001b[0m\u001b[0m\n\u001b[1;32m    467\u001b[0m                 \u001b[0mself\u001b[0m\u001b[0;34m.\u001b[0m\u001b[0mrestyle_boxplot\u001b[0m\u001b[0;34m(\u001b[0m\u001b[0martist_dict\u001b[0m\u001b[0;34m,\u001b[0m \u001b[0mcolor\u001b[0m\u001b[0;34m,\u001b[0m \u001b[0mprops\u001b[0m\u001b[0;34m)\u001b[0m\u001b[0;34m\u001b[0m\u001b[0m\n",
      "\u001b[0;32m/Users/lazzari/anaconda/envs/py3k/lib/python3.5/site-packages/matplotlib/__init__.py\u001b[0m in \u001b[0;36minner\u001b[0;34m(ax, *args, **kwargs)\u001b[0m\n\u001b[1;32m   1817\u001b[0m                     warnings.warn(msg % (label_namer, func.__name__),\n\u001b[1;32m   1818\u001b[0m                                   RuntimeWarning, stacklevel=2)\n\u001b[0;32m-> 1819\u001b[0;31m             \u001b[0;32mreturn\u001b[0m \u001b[0mfunc\u001b[0m\u001b[0;34m(\u001b[0m\u001b[0max\u001b[0m\u001b[0;34m,\u001b[0m \u001b[0;34m*\u001b[0m\u001b[0margs\u001b[0m\u001b[0;34m,\u001b[0m \u001b[0;34m**\u001b[0m\u001b[0mkwargs\u001b[0m\u001b[0;34m)\u001b[0m\u001b[0;34m\u001b[0m\u001b[0m\n\u001b[0m\u001b[1;32m   1820\u001b[0m         \u001b[0mpre_doc\u001b[0m \u001b[0;34m=\u001b[0m \u001b[0minner\u001b[0m\u001b[0;34m.\u001b[0m\u001b[0m__doc__\u001b[0m\u001b[0;34m\u001b[0m\u001b[0m\n\u001b[1;32m   1821\u001b[0m         \u001b[0;32mif\u001b[0m \u001b[0mpre_doc\u001b[0m \u001b[0;32mis\u001b[0m \u001b[0;32mNone\u001b[0m\u001b[0;34m:\u001b[0m\u001b[0;34m\u001b[0m\u001b[0m\n",
      "\u001b[0;32m/Users/lazzari/anaconda/envs/py3k/lib/python3.5/site-packages/matplotlib/axes/_axes.py\u001b[0m in \u001b[0;36mboxplot\u001b[0;34m(self, x, notch, sym, vert, whis, positions, widths, patch_artist, bootstrap, usermedians, conf_intervals, meanline, showmeans, showcaps, showbox, showfliers, boxprops, labels, flierprops, medianprops, meanprops, capprops, whiskerprops, manage_xticks, autorange)\u001b[0m\n\u001b[1;32m   3172\u001b[0m             \u001b[0mbootstrap\u001b[0m \u001b[0;34m=\u001b[0m \u001b[0mrcParams\u001b[0m\u001b[0;34m[\u001b[0m\u001b[0;34m'boxplot.bootstrap'\u001b[0m\u001b[0;34m]\u001b[0m\u001b[0;34m\u001b[0m\u001b[0m\n\u001b[1;32m   3173\u001b[0m         bxpstats = cbook.boxplot_stats(x, whis=whis, bootstrap=bootstrap,\n\u001b[0;32m-> 3174\u001b[0;31m                                        labels=labels, autorange=autorange)\n\u001b[0m\u001b[1;32m   3175\u001b[0m         \u001b[0;32mif\u001b[0m \u001b[0mnotch\u001b[0m \u001b[0;32mis\u001b[0m \u001b[0;32mNone\u001b[0m\u001b[0;34m:\u001b[0m\u001b[0;34m\u001b[0m\u001b[0m\n\u001b[1;32m   3176\u001b[0m             \u001b[0mnotch\u001b[0m \u001b[0;34m=\u001b[0m \u001b[0mrcParams\u001b[0m\u001b[0;34m[\u001b[0m\u001b[0;34m'boxplot.notch'\u001b[0m\u001b[0;34m]\u001b[0m\u001b[0;34m\u001b[0m\u001b[0m\n",
      "\u001b[0;32m/Users/lazzari/anaconda/envs/py3k/lib/python3.5/site-packages/matplotlib/cbook.py\u001b[0m in \u001b[0;36mboxplot_stats\u001b[0;34m(X, whis, bootstrap, labels, autorange)\u001b[0m\n\u001b[1;32m   2036\u001b[0m \u001b[0;34m\u001b[0m\u001b[0m\n\u001b[1;32m   2037\u001b[0m         \u001b[0;31m# arithmetic mean\u001b[0m\u001b[0;34m\u001b[0m\u001b[0;34m\u001b[0m\u001b[0m\n\u001b[0;32m-> 2038\u001b[0;31m         \u001b[0mstats\u001b[0m\u001b[0;34m[\u001b[0m\u001b[0;34m'mean'\u001b[0m\u001b[0;34m]\u001b[0m \u001b[0;34m=\u001b[0m \u001b[0mnp\u001b[0m\u001b[0;34m.\u001b[0m\u001b[0mmean\u001b[0m\u001b[0;34m(\u001b[0m\u001b[0mx\u001b[0m\u001b[0;34m)\u001b[0m\u001b[0;34m\u001b[0m\u001b[0m\n\u001b[0m\u001b[1;32m   2039\u001b[0m \u001b[0;34m\u001b[0m\u001b[0m\n\u001b[1;32m   2040\u001b[0m         \u001b[0;31m# medians and quartiles\u001b[0m\u001b[0;34m\u001b[0m\u001b[0;34m\u001b[0m\u001b[0m\n",
      "\u001b[0;32m/Users/lazzari/anaconda/envs/py3k/lib/python3.5/site-packages/numpy/core/fromnumeric.py\u001b[0m in \u001b[0;36mmean\u001b[0;34m(a, axis, dtype, out, keepdims)\u001b[0m\n\u001b[1;32m   2883\u001b[0m \u001b[0;34m\u001b[0m\u001b[0m\n\u001b[1;32m   2884\u001b[0m     return _methods._mean(a, axis=axis, dtype=dtype,\n\u001b[0;32m-> 2885\u001b[0;31m                           out=out, keepdims=keepdims)\n\u001b[0m\u001b[1;32m   2886\u001b[0m \u001b[0;34m\u001b[0m\u001b[0m\n\u001b[1;32m   2887\u001b[0m \u001b[0;34m\u001b[0m\u001b[0m\n",
      "\u001b[0;32m/Users/lazzari/anaconda/envs/py3k/lib/python3.5/site-packages/numpy/core/_methods.py\u001b[0m in \u001b[0;36m_mean\u001b[0;34m(a, axis, dtype, out, keepdims)\u001b[0m\n\u001b[1;32m     63\u001b[0m         \u001b[0mdtype\u001b[0m \u001b[0;34m=\u001b[0m \u001b[0mmu\u001b[0m\u001b[0;34m.\u001b[0m\u001b[0mdtype\u001b[0m\u001b[0;34m(\u001b[0m\u001b[0;34m'f8'\u001b[0m\u001b[0;34m)\u001b[0m\u001b[0;34m\u001b[0m\u001b[0m\n\u001b[1;32m     64\u001b[0m \u001b[0;34m\u001b[0m\u001b[0m\n\u001b[0;32m---> 65\u001b[0;31m     \u001b[0mret\u001b[0m \u001b[0;34m=\u001b[0m \u001b[0mumr_sum\u001b[0m\u001b[0;34m(\u001b[0m\u001b[0marr\u001b[0m\u001b[0;34m,\u001b[0m \u001b[0maxis\u001b[0m\u001b[0;34m,\u001b[0m \u001b[0mdtype\u001b[0m\u001b[0;34m,\u001b[0m \u001b[0mout\u001b[0m\u001b[0;34m,\u001b[0m \u001b[0mkeepdims\u001b[0m\u001b[0;34m)\u001b[0m\u001b[0;34m\u001b[0m\u001b[0m\n\u001b[0m\u001b[1;32m     66\u001b[0m     \u001b[0;32mif\u001b[0m \u001b[0misinstance\u001b[0m\u001b[0;34m(\u001b[0m\u001b[0mret\u001b[0m\u001b[0;34m,\u001b[0m \u001b[0mmu\u001b[0m\u001b[0;34m.\u001b[0m\u001b[0mndarray\u001b[0m\u001b[0;34m)\u001b[0m\u001b[0;34m:\u001b[0m\u001b[0;34m\u001b[0m\u001b[0m\n\u001b[1;32m     67\u001b[0m         ret = um.true_divide(\n",
      "\u001b[0;31mTypeError\u001b[0m: ufunc add cannot use operands with types dtype('<M8[ns]') and dtype('<M8[ns]')"
     ]
    },
    {
     "data": {
      "image/png": "[encoded data removed]",
      "text/plain": [
       "<matplotlib.figure.Figure at 0x11cdb25f8>"
      ]
     },
     "metadata": {},
     "output_type": "display_data"
    }
   ],
   "source": [
    "# sns.distplot(trial_dataset.temps,kde=False)\n",
    "# times_42_male = pd.to_datetime(trial_dataset[(trial_dataset.cat=='42') & (trial_dataset.sex=='M')].temps,format='%H:%M.%S,%f')\n",
    "# times_42_female = pd.to_datetime(trial_dataset[(trial_dataset.cat=='42') & (trial_dataset.sex=='M')].temps,format='%H:%M.%S,%f')\n",
    "\n",
    "times_42_male = pd.to_datetime(trial_dataset[trial_dataset.cat=='42'].temps,format='%H:%M.%S,%f')\n",
    "\n",
    "times_42_male.hist()\n",
    "\n",
    "# seaborn not working...-.-!!!\n",
    "# sns.boxplot(times_42_male) #,label='men')\n",
    "# sns.distplot(times_42_female,label='female')\n",
    "\n",
    "plt.xticks(rotation=30)\n",
    "\n",
    "plt.xlabel('time')\n",
    "plt.ylabel('number of runners')"
   ]
  },
  {
   "cell_type": "markdown",
   "metadata": {},
   "source": [
    "# OLD CODE "
   ]
  },
  {
   "cell_type": "code",
   "execution_count": 53,
   "metadata": {
    "collapsed": true
   },
   "outputs": [],
   "source": [
    "# sns.distplot(trial_dataset[trial_dataset.sex=='F'].an,kde=False,\n",
    "#             hist_kws={\"histtype\": \"step\", \"linewidth\": 2},label = 'women')\n",
    "# sns.distplot(trial_dataset[trial_dataset.sex=='M'].an,kde=False,\n",
    "#             hist_kws={\"histtype\": \"step\", \"linewidth\": 2},label = 'men')\n"
   ]
  }
 ],
 "metadata": {
  "kernelspec": {
   "display_name": "Python 3",
   "language": "python",
   "name": "python3"
  },
  "language_info": {
   "codemirror_mode": {
    "name": "ipython",
    "version": 3
   },
   "file_extension": ".py",
   "mimetype": "text/x-python",
   "name": "python",
   "nbconvert_exporter": "python",
   "pygments_lexer": "ipython3",
   "version": "3.5.2"
  }
 },
 "nbformat": 4,
 "nbformat_minor": 0
}
