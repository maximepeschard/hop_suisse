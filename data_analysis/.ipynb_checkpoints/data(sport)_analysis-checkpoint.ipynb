{
 "cells": [
  {
   "cell_type": "code",
   "execution_count": null,
   "metadata": {
    "collapsed": true
   },
   "outputs": [],
   "source": [
    "import pandas as pd\n",
    "import numpy as np\n",
    "\n",
    "import matplotlib.pyplot as plt\n",
    "%matplotlib inline\n",
    "\n",
    "import seaborn as sns\n",
    "sns.set_context('notebook')"
   ]
  },
  {
   "cell_type": "markdown",
   "metadata": {},
   "source": [
    "# Here we focus only on data from Lausanne marathon 2016 "
   ]
  },
  {
   "cell_type": "code",
   "execution_count": 2,
   "metadata": {
    "collapsed": false
   },
   "outputs": [
    {
     "name": "stdout",
     "output_type": "stream",
     "text": [
      "(220, 6)\n"
     ]
    },
    {
     "data": {
      "text/html": [
       "<div>\n",
       "<table border=\"1\" class=\"dataframe\">\n",
       "  <thead>\n",
       "    <tr style=\"text-align: right;\">\n",
       "      <th></th>\n",
       "      <th>nom</th>\n",
       "      <th>nat</th>\n",
       "      <th>an</th>\n",
       "      <th>lieu</th>\n",
       "      <th>temps</th>\n",
       "      <th>cat/rang</th>\n",
       "    </tr>\n",
       "  </thead>\n",
       "  <tbody>\n",
       "    <tr>\n",
       "      <th>0</th>\n",
       "      <td>Bekele-Clerc Alemitu</td>\n",
       "      <td>BEL</td>\n",
       "      <td>1976</td>\n",
       "      <td>Bern</td>\n",
       "      <td>2:42.41,0</td>\n",
       "      <td>42-D40</td>\n",
       "    </tr>\n",
       "    <tr>\n",
       "      <th>1</th>\n",
       "      <td>Yerly Laurence</td>\n",
       "      <td>SUI</td>\n",
       "      <td>1972</td>\n",
       "      <td>Cernier</td>\n",
       "      <td>2:51.45,8</td>\n",
       "      <td>42-D40</td>\n",
       "    </tr>\n",
       "    <tr>\n",
       "      <th>2</th>\n",
       "      <td>Vrajic Marija</td>\n",
       "      <td>CRO</td>\n",
       "      <td>1976</td>\n",
       "      <td>CRO-Zagreb</td>\n",
       "      <td>Maksimir</td>\n",
       "      <td>42-D40</td>\n",
       "    </tr>\n",
       "    <tr>\n",
       "      <th>3</th>\n",
       "      <td>Morall Zelah</td>\n",
       "      <td>SUI</td>\n",
       "      <td>1969</td>\n",
       "      <td>GB-Penzance</td>\n",
       "      <td>2:53.43,2</td>\n",
       "      <td>42-D40</td>\n",
       "    </tr>\n",
       "    <tr>\n",
       "      <th>4</th>\n",
       "      <td>Annen-Lamard Sandra</td>\n",
       "      <td>SUI</td>\n",
       "      <td>1977</td>\n",
       "      <td>Ecublens</td>\n",
       "      <td>-----</td>\n",
       "      <td>42-D30</td>\n",
       "    </tr>\n",
       "  </tbody>\n",
       "</table>\n",
       "</div>"
      ],
      "text/plain": [
       "                         nom  nat    an         lieu      temps cat/rang\n",
       "0  Bekele-Clerc Alemitu       BEL  1976         Bern  2:42.41,0   42-D40\n",
       "1  Yerly Laurence             SUI  1972      Cernier  2:51.45,8   42-D40\n",
       "2  Vrajic Marija              CRO  1976   CRO-Zagreb   Maksimir   42-D40\n",
       "3  Morall Zelah               SUI  1969  GB-Penzance  2:53.43,2   42-D40\n",
       "4  Annen-Lamard Sandra        SUI  1977     Ecublens      -----   42-D30"
      ]
     },
     "execution_count": 2,
     "metadata": {},
     "output_type": "execute_result"
    }
   ],
   "source": [
    "trial_dataset = pd.read_pickle('../datasets/trial_dataset')\n",
    "print(trial_dataset.shape)\n",
    "trial_dataset.head()"
   ]
  },
  {
   "cell_type": "markdown",
   "metadata": {},
   "source": [
    "## Stats on age"
   ]
  },
  {
   "cell_type": "code",
   "execution_count": 33,
   "metadata": {
    "collapsed": false
   },
   "outputs": [
    {
     "data": {
      "text/plain": [
       "<matplotlib.text.Text at 0x11a3b9358>"
      ]
     },
     "execution_count": 33,
     "metadata": {},
     "output_type": "execute_result"
    },
    {
     "data": {
      "image/png": "[encoded data removed]",
      "text/plain": [
       "<matplotlib.figure.Figure at 0x11a3637f0>"
      ]
     },
     "metadata": {},
     "output_type": "display_data"
    }
   ],
   "source": [
    "age_counts = (2016 - trial_dataset.an.astype(np.int16)).value_counts()\n",
    "\n",
    "plt.plot(age_counts,marker='.',linestyle='')\n",
    "plt.xlabel('runner\\'s age')\n",
    "plt.ylabel('number of runners')"
   ]
  },
  {
   "cell_type": "markdown",
   "metadata": {},
   "source": [
    "## Stats on original country "
   ]
  },
  {
   "cell_type": "code",
   "execution_count": null,
   "metadata": {
    "collapsed": false
   },
   "outputs": [],
   "source": [
    "sns.countplot(y=trial_dataset.nat)"
   ]
  },
  {
   "cell_type": "markdown",
   "metadata": {},
   "source": [
    "## Stats on town of residency"
   ]
  },
  {
   "cell_type": "code",
   "execution_count": null,
   "metadata": {
    "collapsed": false
   },
   "outputs": [],
   "source": [
    "lieu_distr = trial_dataset.lieu.value_counts().value_counts()\n",
    "\n",
    "# plt.plot(lieu_distr,marker='.',linestyle='')\n",
    "plt.loglog(lieu_distr,marker='.',linestyle='')\n",
    "plt.xlabel('number of runners, per town')\n",
    "plt.ylabel('number of towns')"
   ]
  },
  {
   "cell_type": "markdown",
   "metadata": {},
   "source": [
    "## Stats on race time"
   ]
  },
  {
   "cell_type": "code",
   "execution_count": null,
   "metadata": {
    "collapsed": false
   },
   "outputs": [],
   "source": [
    "# issues -->  due to the presence of strings --> due to issues on parsing!!\n",
    "\n",
    "# sns.distplot(trial_dataset.temps,kde=False) "
   ]
  }
 ],
 "metadata": {
  "kernelspec": {
   "display_name": "Python 3",
   "language": "python",
   "name": "python3"
  },
  "language_info": {
   "codemirror_mode": {
    "name": "ipython",
    "version": 3
   },
   "file_extension": ".py",
   "mimetype": "text/x-python",
   "name": "python",
   "nbconvert_exporter": "python",
   "pygments_lexer": "ipython3",
   "version": "3.5.2"
  }
 },
 "nbformat": 4,
 "nbformat_minor": 0
}
