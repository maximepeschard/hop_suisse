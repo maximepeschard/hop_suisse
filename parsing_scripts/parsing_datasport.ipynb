{
 "cells": [
  {
   "cell_type": "markdown",
   "metadata": {},
   "source": [
    "# 02 - Data from the Web\n",
    "\n",
    "Contents :\n",
    "* [0. Preliminary analysis and observations](#0.-Preliminary-analysis-and-observations)\n",
    "* [1. Bachelor duration](#1.-Bachelor-duration)\n",
    "* [2. Master duration](#2.-Master-duration)"
   ]
  },
  {
   "cell_type": "markdown",
   "metadata": {},
   "source": [
    "We use postman to understand the parameters used by the url request, asked for the exercise.\n",
    "\n",
    "(However, notice that there are equivalent tools for other browser - for instance, for firefox:\n",
    "http://stackoverflow.com/questions/28997326/postman-addons-like-in-firefox)"
   ]
  },
  {
   "cell_type": "code",
   "execution_count": 2,
   "metadata": {
    "collapsed": true
   },
   "outputs": [],
   "source": [
    "# important modules for this HW\n",
    "import bs4 # doc: https://www.crummy.com/software/BeautifulSoup/bs4/doc/\n",
    "import requests as rq \n",
    "\n",
    "\n",
    "# previous useful modules\n",
    "%matplotlib inline\n",
    "import pandas as pd\n",
    "import numpy as np\n",
    "import matplotlib.pyplot as plt\n",
    "import seaborn as sns\n",
    "sns.set_context('notebook')"
   ]
  },
  {
   "cell_type": "markdown",
   "metadata": {},
   "source": [
    "## 0. Preliminary analysis and observations\n",
    "\n",
    "For all the information and data we want to retrieve, the main access is the form located at this URL : http://isa.epfl.ch/imoniteur_ISAP/%21gedpublicreports.htm?ww_i_reportmodel=133685247.\n",
    "\n",
    "A first visit to this page with *Postman Interceptor* activated shows that this page is actually built from several parts loaded by scripts. Among those parts, we are particularly interested by the one that contains the form itself (*ie.* the select menus). The source for this part is obtained by fetching content from this URL : http://isa.epfl.ch/imoniteur_ISAP/!GEDPUBLICREPORTS.filter?ww_i_reportModel=133685247.\n",
    "So, to get all the parameters programmatically, one can get this HTML code using the *requests* module and scrape it with *BeautifulSoup*."
   ]
  },
  {
   "cell_type": "code",
   "execution_count": 3,
   "metadata": {
    "collapsed": false
   },
   "outputs": [],
   "source": [
    "form_source = rq.get(\"http://isa.epfl.ch/imoniteur_ISAP/!GEDPUBLICREPORTS.filter?ww_i_reportModel=133685247\")\n",
    "form_soup = bs4.BeautifulSoup(form_source.text, \"html.parser\")"
   ]
  },
  {
   "cell_type": "markdown",
   "metadata": {},
   "source": [
    "We can take a look at the \"pretiffied\" HTML code. The most relevant parts are all the `input` and `select` tags."
   ]
  },
  {
   "cell_type": "code",
   "execution_count": 4,
   "metadata": {
    "collapsed": false
   },
   "outputs": [],
   "source": [
    "# print(form_soup.prettify())"
   ]
  },
  {
   "cell_type": "markdown",
   "metadata": {},
   "source": [
    "Let's get all the `select` menus of the page, using the `find_all` method of *BeautifulSoup* which allows to search for all tags of a certain type."
   ]
  },
  {
   "cell_type": "code",
   "execution_count": 5,
   "metadata": {
    "collapsed": false
   },
   "outputs": [
    {
     "name": "stdout",
     "output_type": "stream",
     "text": [
      "4\n"
     ]
    }
   ],
   "source": [
    "selectors = form_soup.find_all('select')\n",
    "print(len(selectors))"
   ]
  },
  {
   "cell_type": "markdown",
   "metadata": {},
   "source": [
    "Most importantly, we can find out what each tag is about by printing the its `name` attribute :"
   ]
  },
  {
   "cell_type": "code",
   "execution_count": 6,
   "metadata": {
    "collapsed": false
   },
   "outputs": [
    {
     "name": "stdout",
     "output_type": "stream",
     "text": [
      "Select n°0 : ww_x_UNITE_ACAD\n",
      "Select n°1 : ww_x_PERIODE_ACAD\n",
      "Select n°2 : ww_x_PERIODE_PEDAGO\n",
      "Select n°3 : ww_x_HIVERETE\n"
     ]
    }
   ],
   "source": [
    "for num, s in enumerate(selectors):\n",
    "    print(\"Select n°{} : {}\".format(num, s.attrs['name'])) # wild french appears..."
   ]
  },
  {
   "cell_type": "markdown",
   "metadata": {},
   "source": [
    "So :\n",
    "* the first select is about the academic unit\n",
    "* the second select is about the academic year\n",
    "* the third select is about the academic level\n",
    "* the fourth select is about the semester (fall or spring)\n",
    "\n",
    "Going deeper into the HTML code, we can get all the possible choices for each select tag by searching for inner `option` tags. The content or body of those tags is the human readable description. Each choice is mapped to a number by its `value` attribute."
   ]
  },
  {
   "cell_type": "code",
   "execution_count": 7,
   "metadata": {
    "collapsed": false
   },
   "outputs": [
    {
     "name": "stdout",
     "output_type": "stream",
     "text": [
      "ww_x_UNITE_ACAD:\n",
      "-  [null]\n",
      "- Architecture [942293]\n",
      "- Chimie et génie chimique [246696]\n",
      "- Cours de mathématiques spéciales [943282]\n",
      "- EME (EPFL Middle East) [637841336]\n",
      "- Génie civil [942623]\n",
      "- Génie mécanique [944263]\n",
      "- Génie électrique et électronique  [943936]\n",
      "- Humanités digitales [2054839157]\n",
      "- Informatique [249847]\n",
      "- Ingénierie financière [120623110]\n",
      "- Management de la technologie [946882]\n",
      "- Mathématiques [944590]\n",
      "- Microtechnique [945244]\n",
      "- Physique [945571]\n",
      "- Science et génie des matériaux [944917]\n",
      "- Sciences et ingénierie de l'environnement [942953]\n",
      "- Sciences et technologies du vivant [945901]\n",
      "- Section FCUE [1574548993]\n",
      "- Systèmes de communication [946228]\n",
      "ww_x_PERIODE_ACAD:\n",
      "-  [null]\n",
      "- 2016-2017 [355925344]\n",
      "- 2015-2016 [213638028]\n",
      "- 2014-2015 [213637922]\n",
      "- 2013-2014 [213637754]\n",
      "- 2012-2013 [123456101]\n",
      "- 2011-2012 [123455150]\n",
      "- 2010-2011 [39486325]\n",
      "- 2009-2010 [978195]\n",
      "- 2008-2009 [978187]\n",
      "- 2007-2008 [978181]\n",
      "ww_x_PERIODE_PEDAGO:\n",
      "-  [null]\n",
      "- Bachelor semestre 1 [249108]\n",
      "- Bachelor semestre 2 [249114]\n",
      "- Bachelor semestre 3 [942155]\n",
      "- Bachelor semestre 4 [942163]\n",
      "- Bachelor semestre 5 [942120]\n",
      "- Bachelor semestre 5b [2226768]\n",
      "- Bachelor semestre 6 [942175]\n",
      "- Bachelor semestre 6b [2226785]\n",
      "- Master semestre 1 [2230106]\n",
      "- Master semestre 2 [942192]\n",
      "- Master semestre 3 [2230128]\n",
      "- Master semestre 4 [2230140]\n",
      "- Mineur semestre 1 [2335667]\n",
      "- Mineur semestre 2 [2335676]\n",
      "- Mise à niveau [2063602308]\n",
      "- Projet Master automne [249127]\n",
      "- Projet Master printemps [3781783]\n",
      "- Semestre automne [953159]\n",
      "- Semestre printemps [2754553]\n",
      "- Stage automne 3ème année [953137]\n",
      "- Stage automne 4ème année [2226616]\n",
      "- Stage printemps 3ème année [983606]\n",
      "- Stage printemps 4ème année [2226626]\n",
      "- Stage printemps master [2227132]\n",
      "ww_x_HIVERETE:\n",
      "-  [null]\n",
      "- Semestre d'automne [2936286]\n",
      "- Semestre de printemps [2936295]\n"
     ]
    }
   ],
   "source": [
    "for s in selectors:\n",
    "    options = s.find_all('option')\n",
    "    options_desc_values = [(o.text, o.attrs['value']) for o in options]\n",
    "    print(s.attrs['name'] + ':')\n",
    "    for (d,v) in options_desc_values:\n",
    "        print(\"- {} [{}]\".format(d,v)) # more french"
   ]
  },
  {
   "cell_type": "markdown",
   "metadata": {},
   "source": [
    "The presence of (`''`, `null`) tuples comes from the \"empty\" (no choice selected) select tags when we load the page. Also, let's remember that we will focus exclusively on the academic unit \"Informatique\". We'll get back to that later.\n",
    "\n",
    "Finally, we can try to actually send a request (manually) to get some data. *Postman* helps us to identify the URL scheme used for this :\n",
    "* for HTML result, the URL has the following structure :\n",
    "\n",
    "```\n",
    "http://isa.epfl.ch/imoniteur_ISAP/!GEDPUBLICREPORTS.html?ww_x_GPS=2021043255&ww_i_reportModel=133685247&ww_i_reportModelXsl=133685270&ww_x_UNITE_ACAD=249847&ww_x_PERIODE_ACAD=355925344&ww_x_PERIODE_PEDAGO=249108&ww_x_HIVERETE=2936286\n",
    "```\n",
    "\n",
    "* for XLS result, the URL has the following structure :\n",
    "\n",
    "```\n",
    "http://isa.epfl.ch/imoniteur_ISAP/!GEDPUBLICREPORTS.XLS?ww_x_GPS=2021043255&ww_i_reportModel=133685247&ww_i_reportModelXsl=133685271&ww_x_UNITE_ACAD=249847&ww_x_PERIODE_ACAD=355925344&ww_x_PERIODE_PEDAGO=249108&ww_x_HIVERETE=2936286\n",
    "```\n",
    "\n",
    "Thus, the only difference between the two is the `.html` or `.XLS` part, which makes sense. Assuming we put \"good\" parameters inside the `< ... >`, each request will therefore encoded by this type of URL :\n",
    "\n",
    "```\n",
    "http://isa.epfl.ch/imoniteur_ISAP/!GEDPUBLICREPORTS.<format>?ww_x_GPS=2021043255&ww_i_reportModel=133685247&ww_i_reportModelXsl=<format code>&ww_x_UNITE_ACAD=<unit code>&ww_x_PERIODE_ACAD=<year code>&ww_x_PERIODE_PEDAGO=<level code>&ww_x_HIVERETE=<semester code>\n",
    "```"
   ]
  },
  {
   "cell_type": "markdown",
   "metadata": {},
   "source": [
    "## Let's get some data"
   ]
  },
  {
   "cell_type": "markdown",
   "metadata": {},
   "source": [
    "Based on what we've explained before, and since the data structure is consistent, we can now start collecting some data from IS-Academia in a pandas DataFrame."
   ]
  },
  {
   "cell_type": "code",
   "execution_count": 8,
   "metadata": {
    "collapsed": true
   },
   "outputs": [],
   "source": [
    "base_url = \"http://isa.epfl.ch/imoniteur_ISAP/!GEDPUBLICREPORTS.html?\"\n",
    "params_dict = {\n",
    "    'ww_x_GPS': 2021043255,\n",
    "    'ww_i_reportModel': 133685247,\n",
    "    'ww_i_reportModelXsl': 133685270,\n",
    "    'ww_x_UNITE_ACAD': 249847,\n",
    "    'ww_x_PERIODE_ACAD': 355925344,\n",
    "    'ww_x_PERIODE_PEDAGO': 249108,\n",
    "    'ww_x_HIVERETE':2936286\n",
    "}"
   ]
  },
  {
   "cell_type": "code",
   "execution_count": 9,
   "metadata": {
    "collapsed": false
   },
   "outputs": [],
   "source": [
    "# Get raw HTML response\n",
    "result_html = rq.get(base_url,params=params_dict)\n",
    "\n",
    "# Use BeautifulSoup and extract the first (and only) HTML table\n",
    "result_soup = bs4.BeautifulSoup(result_html.text, \"lxml\")\n",
    "result_table = result_soup.find_all('table')[0]\n",
    "\n",
    "# print(result_table.prettify())"
   ]
  },
  {
   "cell_type": "code",
   "execution_count": 10,
   "metadata": {
    "collapsed": false
   },
   "outputs": [
    {
     "data": {
      "text/html": [
       "<div>\n",
       "<table border=\"1\" class=\"dataframe\">\n",
       "  <thead>\n",
       "    <tr style=\"text-align: right;\">\n",
       "      <th></th>\n",
       "      <th>0</th>\n",
       "      <th>1</th>\n",
       "      <th>2</th>\n",
       "      <th>3</th>\n",
       "      <th>4</th>\n",
       "      <th>5</th>\n",
       "      <th>6</th>\n",
       "      <th>7</th>\n",
       "      <th>8</th>\n",
       "      <th>9</th>\n",
       "      <th>10</th>\n",
       "      <th>11</th>\n",
       "    </tr>\n",
       "  </thead>\n",
       "  <tbody>\n",
       "    <tr>\n",
       "      <th>0</th>\n",
       "      <td>Informatique, 2016-2017, Bachelor semestre 1  ...</td>\n",
       "      <td>NaN</td>\n",
       "      <td>NaN</td>\n",
       "      <td>NaN</td>\n",
       "      <td>NaN</td>\n",
       "      <td>NaN</td>\n",
       "      <td>NaN</td>\n",
       "      <td>NaN</td>\n",
       "      <td>NaN</td>\n",
       "      <td>NaN</td>\n",
       "      <td>NaN</td>\n",
       "      <td>NaN</td>\n",
       "    </tr>\n",
       "    <tr>\n",
       "      <th>1</th>\n",
       "      <td>Civilité</td>\n",
       "      <td>Nom Prénom</td>\n",
       "      <td>Orientation Bachelor</td>\n",
       "      <td>Orientation Master</td>\n",
       "      <td>Spécialisation</td>\n",
       "      <td>Filière opt.</td>\n",
       "      <td>Mineur</td>\n",
       "      <td>Statut</td>\n",
       "      <td>Type Echange</td>\n",
       "      <td>Ecole Echange</td>\n",
       "      <td>No Sciper</td>\n",
       "      <td>NaN</td>\n",
       "    </tr>\n",
       "    <tr>\n",
       "      <th>2</th>\n",
       "      <td>Monsieur</td>\n",
       "      <td>Abbey Alexandre</td>\n",
       "      <td>NaN</td>\n",
       "      <td>NaN</td>\n",
       "      <td>NaN</td>\n",
       "      <td>NaN</td>\n",
       "      <td>NaN</td>\n",
       "      <td>Présent</td>\n",
       "      <td>NaN</td>\n",
       "      <td>NaN</td>\n",
       "      <td>235688</td>\n",
       "      <td>NaN</td>\n",
       "    </tr>\n",
       "    <tr>\n",
       "      <th>3</th>\n",
       "      <td>Monsieur</td>\n",
       "      <td>Ahn Seongho</td>\n",
       "      <td>NaN</td>\n",
       "      <td>NaN</td>\n",
       "      <td>NaN</td>\n",
       "      <td>NaN</td>\n",
       "      <td>NaN</td>\n",
       "      <td>Présent</td>\n",
       "      <td>NaN</td>\n",
       "      <td>NaN</td>\n",
       "      <td>274015</td>\n",
       "      <td>NaN</td>\n",
       "    </tr>\n",
       "    <tr>\n",
       "      <th>4</th>\n",
       "      <td>Madame</td>\n",
       "      <td>Alemanno Sara</td>\n",
       "      <td>NaN</td>\n",
       "      <td>NaN</td>\n",
       "      <td>NaN</td>\n",
       "      <td>NaN</td>\n",
       "      <td>NaN</td>\n",
       "      <td>Présent</td>\n",
       "      <td>NaN</td>\n",
       "      <td>NaN</td>\n",
       "      <td>268410</td>\n",
       "      <td>NaN</td>\n",
       "    </tr>\n",
       "  </tbody>\n",
       "</table>\n",
       "</div>"
      ],
      "text/plain": [
       "                                                  0                1   \\\n",
       "0  Informatique, 2016-2017, Bachelor semestre 1  ...              NaN   \n",
       "1                                           Civilité       Nom Prénom   \n",
       "2                                           Monsieur  Abbey Alexandre   \n",
       "3                                           Monsieur      Ahn Seongho   \n",
       "4                                             Madame    Alemanno Sara   \n",
       "\n",
       "                     2                   3               4             5   \\\n",
       "0                   NaN                 NaN             NaN           NaN   \n",
       "1  Orientation Bachelor  Orientation Master  Spécialisation  Filière opt.   \n",
       "2                   NaN                 NaN             NaN           NaN   \n",
       "3                   NaN                 NaN             NaN           NaN   \n",
       "4                   NaN                 NaN             NaN           NaN   \n",
       "\n",
       "       6        7             8              9          10  11  \n",
       "0     NaN      NaN           NaN            NaN        NaN NaN  \n",
       "1  Mineur   Statut  Type Echange  Ecole Echange  No Sciper NaN  \n",
       "2     NaN  Présent           NaN            NaN     235688 NaN  \n",
       "3     NaN  Présent           NaN            NaN     274015 NaN  \n",
       "4     NaN  Présent           NaN            NaN     268410 NaN  "
      ]
     },
     "execution_count": 10,
     "metadata": {},
     "output_type": "execute_result"
    }
   ],
   "source": [
    "df = pd.read_html(result_table.decode())[0]\n",
    "df.head()"
   ]
  },
  {
   "cell_type": "code",
   "execution_count": 11,
   "metadata": {
    "collapsed": false
   },
   "outputs": [
    {
     "data": {
      "text/html": [
       "<div>\n",
       "<table border=\"1\" class=\"dataframe\">\n",
       "  <thead>\n",
       "    <tr style=\"text-align: right;\">\n",
       "      <th></th>\n",
       "      <th>gender</th>\n",
       "      <th>full_name</th>\n",
       "      <th>specialization</th>\n",
       "      <th>minor</th>\n",
       "      <th>status</th>\n",
       "      <th>sciper</th>\n",
       "    </tr>\n",
       "    <tr>\n",
       "      <th>sciper</th>\n",
       "      <th></th>\n",
       "      <th></th>\n",
       "      <th></th>\n",
       "      <th></th>\n",
       "      <th></th>\n",
       "      <th></th>\n",
       "    </tr>\n",
       "  </thead>\n",
       "  <tbody>\n",
       "    <tr>\n",
       "      <th>235688</th>\n",
       "      <td>male</td>\n",
       "      <td>Abbey Alexandre</td>\n",
       "      <td>NaN</td>\n",
       "      <td>NaN</td>\n",
       "      <td>Présent</td>\n",
       "      <td>235688</td>\n",
       "    </tr>\n",
       "    <tr>\n",
       "      <th>274015</th>\n",
       "      <td>male</td>\n",
       "      <td>Ahn Seongho</td>\n",
       "      <td>NaN</td>\n",
       "      <td>NaN</td>\n",
       "      <td>Présent</td>\n",
       "      <td>274015</td>\n",
       "    </tr>\n",
       "    <tr>\n",
       "      <th>268410</th>\n",
       "      <td>female</td>\n",
       "      <td>Alemanno Sara</td>\n",
       "      <td>NaN</td>\n",
       "      <td>NaN</td>\n",
       "      <td>Présent</td>\n",
       "      <td>268410</td>\n",
       "    </tr>\n",
       "    <tr>\n",
       "      <th>271464</th>\n",
       "      <td>male</td>\n",
       "      <td>Althaus Luca</td>\n",
       "      <td>NaN</td>\n",
       "      <td>NaN</td>\n",
       "      <td>Présent</td>\n",
       "      <td>271464</td>\n",
       "    </tr>\n",
       "    <tr>\n",
       "      <th>274518</th>\n",
       "      <td>male</td>\n",
       "      <td>Assi Karim</td>\n",
       "      <td>NaN</td>\n",
       "      <td>NaN</td>\n",
       "      <td>Présent</td>\n",
       "      <td>274518</td>\n",
       "    </tr>\n",
       "  </tbody>\n",
       "</table>\n",
       "</div>"
      ],
      "text/plain": [
       "        gender        full_name specialization minor   status  sciper\n",
       "sciper                                                               \n",
       "235688    male  Abbey Alexandre            NaN   NaN  Présent  235688\n",
       "274015    male      Ahn Seongho            NaN   NaN  Présent  274015\n",
       "268410  female    Alemanno Sara            NaN   NaN  Présent  268410\n",
       "271464    male     Althaus Luca            NaN   NaN  Présent  271464\n",
       "274518    male       Assi Karim            NaN   NaN  Présent  274518"
      ]
     },
     "execution_count": 11,
     "metadata": {},
     "output_type": "execute_result"
    }
   ],
   "source": [
    "df.columns = df.loc[1]                # use row 2 as column names\n",
    "df = df.drop([0, 1])                  # drop useless first rows\n",
    "df = df.drop([np.nan], axis=1)        # drop useless nan column\n",
    "df.index = df['No Sciper']            # use sciper column as index\n",
    "\n",
    "# Drop some columns\n",
    "df = df.drop(['Orientation Bachelor', 'Orientation Master', 'Filière opt.', 'Type Echange', 'Ecole Echange'], axis=1)\n",
    "\n",
    "# Do some renaming\n",
    "df.index.name = 'sciper'\n",
    "df.columns = ['gender', 'full_name', 'specialization', 'minor', 'status', 'sciper']\n",
    "\n",
    "# Map gender to more standard names\n",
    "dict_gender = {'Monsieur': 'male','Madame': 'female'}\n",
    "df.gender.replace(dict_gender, inplace=True)\n",
    "df.head()"
   ]
  },
  {
   "cell_type": "markdown",
   "metadata": {},
   "source": [
    "## Some tools\n",
    "\n",
    "We can define a helper function which, given a base URL and a dictionary of parameters, will fetch the data and fill a DataFrame with it."
   ]
  },
  {
   "cell_type": "code",
   "execution_count": 12,
   "metadata": {
    "collapsed": false
   },
   "outputs": [],
   "source": [
    "def get_data(base_url, params_dict):\n",
    "    \"\"\"Get data from IS-Academia in a pandas DataFrame\"\"\"\n",
    "    \n",
    "    # Same sequence of operations of above, with a check if the result_table is empty\n",
    "    \n",
    "    result_html = rq.get(base_url,params=params_dict)\n",
    "    result_soup = bs4.BeautifulSoup(result_html.text, \"lxml\")\n",
    "    result_table = result_soup.find_all('table')[0]\n",
    "    \n",
    "    if (result_table.text == ''):\n",
    "        # Return empty dataframe\n",
    "        df = pd.DataFrame()\n",
    "    else:\n",
    "        # Build a DataFrame containing the data, with SCIPER as index\n",
    "        df = pd.read_html(result_table.decode())[0]\n",
    "        try:\n",
    "            df.columns = df.loc[1]                # use 2nd row as column names\n",
    "            df = df.drop([0, 1])                  # drop useless first rows\n",
    "            df = df.drop([np.nan], axis=1)        # drop useless nan column\n",
    "            df.index = df['No Sciper']            # use sciper column as index\n",
    "        \n",
    "            # Drop some columns\n",
    "            df = df.drop(['Orientation Bachelor', 'Orientation Master', 'Filière opt.', 'Type Echange', 'Ecole Echange'], axis=1)\n",
    "            # Do some renaming\n",
    "            df.index.name = 'sciper'\n",
    "            df.columns = ['gender', 'full_name', 'specialization', 'minor', 'status', 'sciper']\n",
    "            # Map gender to more standard names\n",
    "            dict_gender = {'Monsieur': 'male','Madame': 'female'}\n",
    "            df.gender.replace(dict_gender, inplace=True)\n",
    "        except:\n",
    "            df = pd.DataFrame()\n",
    "    \n",
    "    return df"
   ]
  },
  {
   "cell_type": "markdown",
   "metadata": {},
   "source": [
    "The following lines test this function with hardcoded values :"
   ]
  },
  {
   "cell_type": "code",
   "execution_count": 13,
   "metadata": {
    "collapsed": false,
    "scrolled": true
   },
   "outputs": [
    {
     "data": {
      "text/html": [
       "<div>\n",
       "<table border=\"1\" class=\"dataframe\">\n",
       "  <thead>\n",
       "    <tr style=\"text-align: right;\">\n",
       "      <th></th>\n",
       "      <th>gender</th>\n",
       "      <th>full_name</th>\n",
       "      <th>specialization</th>\n",
       "      <th>minor</th>\n",
       "      <th>status</th>\n",
       "      <th>sciper</th>\n",
       "    </tr>\n",
       "    <tr>\n",
       "      <th>sciper</th>\n",
       "      <th></th>\n",
       "      <th></th>\n",
       "      <th></th>\n",
       "      <th></th>\n",
       "      <th></th>\n",
       "      <th></th>\n",
       "    </tr>\n",
       "  </thead>\n",
       "  <tbody>\n",
       "    <tr>\n",
       "      <th>235688</th>\n",
       "      <td>male</td>\n",
       "      <td>Abbey Alexandre</td>\n",
       "      <td>NaN</td>\n",
       "      <td>NaN</td>\n",
       "      <td>Présent</td>\n",
       "      <td>235688</td>\n",
       "    </tr>\n",
       "    <tr>\n",
       "      <th>274015</th>\n",
       "      <td>male</td>\n",
       "      <td>Ahn Seongho</td>\n",
       "      <td>NaN</td>\n",
       "      <td>NaN</td>\n",
       "      <td>Présent</td>\n",
       "      <td>274015</td>\n",
       "    </tr>\n",
       "    <tr>\n",
       "      <th>268410</th>\n",
       "      <td>female</td>\n",
       "      <td>Alemanno Sara</td>\n",
       "      <td>NaN</td>\n",
       "      <td>NaN</td>\n",
       "      <td>Présent</td>\n",
       "      <td>268410</td>\n",
       "    </tr>\n",
       "    <tr>\n",
       "      <th>271464</th>\n",
       "      <td>male</td>\n",
       "      <td>Althaus Luca</td>\n",
       "      <td>NaN</td>\n",
       "      <td>NaN</td>\n",
       "      <td>Présent</td>\n",
       "      <td>271464</td>\n",
       "    </tr>\n",
       "    <tr>\n",
       "      <th>274518</th>\n",
       "      <td>male</td>\n",
       "      <td>Assi Karim</td>\n",
       "      <td>NaN</td>\n",
       "      <td>NaN</td>\n",
       "      <td>Présent</td>\n",
       "      <td>274518</td>\n",
       "    </tr>\n",
       "  </tbody>\n",
       "</table>\n",
       "</div>"
      ],
      "text/plain": [
       "        gender        full_name specialization minor   status  sciper\n",
       "sciper                                                               \n",
       "235688    male  Abbey Alexandre            NaN   NaN  Présent  235688\n",
       "274015    male      Ahn Seongho            NaN   NaN  Présent  274015\n",
       "268410  female    Alemanno Sara            NaN   NaN  Présent  268410\n",
       "271464    male     Althaus Luca            NaN   NaN  Présent  271464\n",
       "274518    male       Assi Karim            NaN   NaN  Présent  274518"
      ]
     },
     "execution_count": 13,
     "metadata": {},
     "output_type": "execute_result"
    }
   ],
   "source": [
    "base_url = \"http://isa.epfl.ch/imoniteur_ISAP/!GEDPUBLICREPORTS.html?\"\n",
    "params_dict = {\n",
    "    'ww_x_GPS': 2021043255,\n",
    "    'ww_i_reportModel': 133685247,\n",
    "    'ww_i_reportModelXsl': 133685270,\n",
    "    'ww_x_UNITE_ACAD': 249847,\n",
    "    'ww_x_PERIODE_ACAD': 355925344,\n",
    "    'ww_x_PERIODE_PEDAGO': 249108,\n",
    "    'ww_x_HIVERETE':2936286\n",
    "}\n",
    "\n",
    "get_data(base_url, params_dict).head()"
   ]
  },
  {
   "cell_type": "markdown",
   "metadata": {},
   "source": [
    "Finally let's get all the possible values in a cleaner way and keep them in variables that we will use throughout this notebook."
   ]
  },
  {
   "cell_type": "code",
   "execution_count": 14,
   "metadata": {
    "collapsed": false,
    "scrolled": false
   },
   "outputs": [
    {
     "data": {
      "text/plain": [
       "{'2007-2008': 978181,\n",
       " '2008-2009': 978187,\n",
       " '2009-2010': 978195,\n",
       " '2010-2011': 39486325,\n",
       " '2011-2012': 123455150,\n",
       " '2012-2013': 123456101,\n",
       " '2013-2014': 213637754,\n",
       " '2014-2015': 213637922,\n",
       " '2015-2016': 213638028,\n",
       " '2016-2017': 355925344}"
      ]
     },
     "execution_count": 14,
     "metadata": {},
     "output_type": "execute_result"
    }
   ],
   "source": [
    "acad_period = {}\n",
    "level = {}\n",
    "semester = {}\n",
    "acad_unit = {}\n",
    "\n",
    "for s in selectors:\n",
    "    options = s.find_all('option')\n",
    "    options_desc_values = [(o.text, o.attrs['value']) for o in options]\n",
    "    s_name = s.attrs['name']\n",
    "    choices = {d: int(v) for (d,v) in options_desc_values if d!=''}\n",
    "    \n",
    "    if s_name == 'ww_x_PERIODE_ACAD':\n",
    "        acad_period = choices\n",
    "    elif s_name == 'ww_x_PERIODE_PEDAGO':\n",
    "        level = choices\n",
    "    elif s_name == 'ww_x_HIVERETE':\n",
    "        for (d,v) in options_desc_values:\n",
    "            if 'automne' in d:\n",
    "                semester['automne'] = int(v)\n",
    "            elif 'printemps' in d:\n",
    "                semester['printemps'] =int(v)\n",
    "    elif s_name == 'ww_x_UNITE_ACAD':\n",
    "        acad_unit = choices\n",
    "\n",
    "# Example of result\n",
    "acad_period"
   ]
  },
  {
   "cell_type": "markdown",
   "metadata": {},
   "source": [
    "## 1. Bachelor duration\n",
    "\n",
    "### Store data locally\n",
    "\n",
    "First, we can get all the data about bachelor once and for all, and store it locally using `pickle`. This way, we can work on local data and not kill the IS-Academia servers. The local files are named after the parameters combinations, for example `2007-2008-bachelor-semetre-2-automne`."
   ]
  },
  {
   "cell_type": "code",
   "execution_count": 15,
   "metadata": {
    "collapsed": false
   },
   "outputs": [
    {
     "name": "stdout",
     "output_type": "stream",
     "text": [
      "Using existing '.local-data' directory\n"
     ]
    }
   ],
   "source": [
    "# Get bachelor data for every year and store it if it's not empty\n",
    "import os\n",
    "local_dir = '.local-data'\n",
    "try:\n",
    "    os.mkdir(local_dir)\n",
    "except FileExistsError:\n",
    "    # directory exists\n",
    "    print(\"Using existing '\" + local_dir + \"' directory\")"
   ]
  },
  {
   "cell_type": "code",
   "execution_count": 15,
   "metadata": {
    "collapsed": false
   },
   "outputs": [],
   "source": [
    "# Fixed values\n",
    "params_dict = {\n",
    "    'ww_x_GPS': -1,\n",
    "    'ww_i_reportModel': 133685247,\n",
    "    'ww_i_reportModelXsl': 133685270,\n",
    "    'ww_x_UNITE_ACAD': acad_unit['Informatique']\n",
    "}\n",
    "\n",
    "# Iterate over all the varying params and keep only data for bachelors\n",
    "for year_key, year_value in acad_period.items():\n",
    "    for level_key, level_value in level.items():\n",
    "        for semester_key, semester_value in semester.items():\n",
    "            if 'bachelor' in level_key.lower():\n",
    "                params_dict['ww_x_PERIODE_ACAD'] = year_value\n",
    "                params_dict['ww_x_PERIODE_PEDAGO'] = level_value\n",
    "                params_dict['ww_x_HIVERETE'] = semester_value\n",
    "                \n",
    "                df = get_data(base_url, params_dict)\n",
    "                if not df.empty:\n",
    "                    # Persist dataframe locally with pickle\n",
    "                    filename = year_key + '-' + level_key.replace(' ', '-').lower() + '-' + semester_key\n",
    "                    df.to_pickle(local_dir + '/' + filename)"
   ]
  },
  {
   "cell_type": "code",
   "execution_count": 16,
   "metadata": {
    "collapsed": false
   },
   "outputs": [
    {
     "name": "stdout",
     "output_type": "stream",
     "text": [
      "60\n"
     ]
    }
   ],
   "source": [
    "# the previous cell should download 60 files!, as you can check with this command:\n",
    "print(len([name for name in os.listdir(local_dir)]))"
   ]
  },
  {
   "cell_type": "markdown",
   "metadata": {},
   "source": [
    "We want to remark that there is no data for _ 'Bachelor semestre 5b':2226768_ and _'Bachelor semestre 6b':2226785_  (as we named the files with the names of html parameters, you can simply check it from the file names) "
   ]
  },
  {
   "cell_type": "markdown",
   "metadata": {},
   "source": [
    "We hereby show an example of dataframe laoded from the files previously download:"
   ]
  },
  {
   "cell_type": "code",
   "execution_count": 17,
   "metadata": {
    "collapsed": false,
    "scrolled": false
   },
   "outputs": [
    {
     "data": {
      "text/html": [
       "<div>\n",
       "<table border=\"1\" class=\"dataframe\">\n",
       "  <thead>\n",
       "    <tr style=\"text-align: right;\">\n",
       "      <th></th>\n",
       "      <th>gender</th>\n",
       "      <th>full_name</th>\n",
       "      <th>specialization</th>\n",
       "      <th>minor</th>\n",
       "      <th>status</th>\n",
       "      <th>sciper</th>\n",
       "    </tr>\n",
       "    <tr>\n",
       "      <th>sciper</th>\n",
       "      <th></th>\n",
       "      <th></th>\n",
       "      <th></th>\n",
       "      <th></th>\n",
       "      <th></th>\n",
       "      <th></th>\n",
       "    </tr>\n",
       "  </thead>\n",
       "  <tbody>\n",
       "    <tr>\n",
       "      <th>170220</th>\n",
       "      <td>male</td>\n",
       "      <td>Barras Florian</td>\n",
       "      <td>NaN</td>\n",
       "      <td>NaN</td>\n",
       "      <td>Présent</td>\n",
       "      <td>170220</td>\n",
       "    </tr>\n",
       "    <tr>\n",
       "      <th>166701</th>\n",
       "      <td>male</td>\n",
       "      <td>Beuret Thibaut</td>\n",
       "      <td>NaN</td>\n",
       "      <td>NaN</td>\n",
       "      <td>Présent</td>\n",
       "      <td>166701</td>\n",
       "    </tr>\n",
       "    <tr>\n",
       "      <th>161279</th>\n",
       "      <td>male</td>\n",
       "      <td>Biollay Jean Isaac Jamal Pachacutec</td>\n",
       "      <td>NaN</td>\n",
       "      <td>NaN</td>\n",
       "      <td>Présent</td>\n",
       "      <td>161279</td>\n",
       "    </tr>\n",
       "    <tr>\n",
       "      <th>166344</th>\n",
       "      <td>male</td>\n",
       "      <td>Blatter Jérémy</td>\n",
       "      <td>NaN</td>\n",
       "      <td>NaN</td>\n",
       "      <td>Présent</td>\n",
       "      <td>166344</td>\n",
       "    </tr>\n",
       "    <tr>\n",
       "      <th>161634</th>\n",
       "      <td>male</td>\n",
       "      <td>Boksanyi Michael</td>\n",
       "      <td>NaN</td>\n",
       "      <td>NaN</td>\n",
       "      <td>Présent</td>\n",
       "      <td>161634</td>\n",
       "    </tr>\n",
       "  </tbody>\n",
       "</table>\n",
       "</div>"
      ],
      "text/plain": [
       "       gender                            full_name specialization minor  \\\n",
       "sciper                                                                    \n",
       "170220   male                       Barras Florian            NaN   NaN   \n",
       "166701   male                       Beuret Thibaut            NaN   NaN   \n",
       "161279   male  Biollay Jean Isaac Jamal Pachacutec            NaN   NaN   \n",
       "166344   male                       Blatter Jérémy            NaN   NaN   \n",
       "161634   male                     Boksanyi Michael            NaN   NaN   \n",
       "\n",
       "         status  sciper  \n",
       "sciper                   \n",
       "170220  Présent  170220  \n",
       "166701  Présent  166701  \n",
       "161279  Présent  161279  \n",
       "166344  Présent  166344  \n",
       "161634  Présent  161634  "
      ]
     },
     "execution_count": 17,
     "metadata": {},
     "output_type": "execute_result"
    }
   ],
   "source": [
    "df_example = pd.read_pickle(local_dir + '/2007-2008-bachelor-semestre-6-printemps')\n",
    "df_example.head()"
   ]
  },
  {
   "cell_type": "markdown",
   "metadata": {},
   "source": [
    "### Get data about bachelor students\n",
    "\n",
    "We load data about bachelor students in several dataframes, that we will concatenate by 'level' after."
   ]
  },
  {
   "cell_type": "code",
   "execution_count": 18,
   "metadata": {
    "collapsed": false,
    "scrolled": true
   },
   "outputs": [],
   "source": [
    "# Get data about all bachelor semesters\n",
    "ba = ['bachelor-semestre-{}'.format(i+1) for i in range(6)]\n",
    "ba_dfs = {ba[i]:{} for i in range(6)}\n",
    "\n",
    "for year_key, year_value in acad_period.items():\n",
    "    for file in os.listdir(local_dir):\n",
    "        for i in range(6):\n",
    "            if (year_key in file) and (ba[i] in file):\n",
    "                # Read pickle file\n",
    "                df = pd.read_pickle(local_dir + '/' + file)\n",
    "                df['ba{}'.format(i+1)] = year_key\n",
    "                ba_dfs[ba[i]][year_key] = df"
   ]
  },
  {
   "cell_type": "code",
   "execution_count": 19,
   "metadata": {
    "collapsed": false,
    "scrolled": true
   },
   "outputs": [],
   "source": [
    "# Concatenate all bachelor-i together, for all i\n",
    "ba_dfs_concat = {ba[i]:pd.concat(ba_dfs[ba[i]].values(), axis=0) for i in range(6)}"
   ]
  },
  {
   "cell_type": "markdown",
   "metadata": {},
   "source": [
    "Mind that, on the one hand, there is one _sciper_ per _student_, as expected (as a check, you can compare below the num. of unique values for _sciper_ and _full name_):"
   ]
  },
  {
   "cell_type": "code",
   "execution_count": 20,
   "metadata": {
    "collapsed": false
   },
   "outputs": [
    {
     "data": {
      "text/html": [
       "<div>\n",
       "<table border=\"1\" class=\"dataframe\">\n",
       "  <thead>\n",
       "    <tr style=\"text-align: right;\">\n",
       "      <th></th>\n",
       "      <th>gender</th>\n",
       "      <th>full_name</th>\n",
       "      <th>specialization</th>\n",
       "      <th>minor</th>\n",
       "      <th>status</th>\n",
       "      <th>sciper</th>\n",
       "      <th>ba1</th>\n",
       "    </tr>\n",
       "  </thead>\n",
       "  <tbody>\n",
       "    <tr>\n",
       "      <th>count</th>\n",
       "      <td>1720</td>\n",
       "      <td>1720</td>\n",
       "      <td>0.0</td>\n",
       "      <td>0.0</td>\n",
       "      <td>1720</td>\n",
       "      <td>1720</td>\n",
       "      <td>1720</td>\n",
       "    </tr>\n",
       "    <tr>\n",
       "      <th>unique</th>\n",
       "      <td>2</td>\n",
       "      <td>1324</td>\n",
       "      <td>0.0</td>\n",
       "      <td>0.0</td>\n",
       "      <td>3</td>\n",
       "      <td>1324</td>\n",
       "      <td>10</td>\n",
       "    </tr>\n",
       "    <tr>\n",
       "      <th>top</th>\n",
       "      <td>male</td>\n",
       "      <td>Barraud Laurent François Michaël</td>\n",
       "      <td>NaN</td>\n",
       "      <td>NaN</td>\n",
       "      <td>Présent</td>\n",
       "      <td>250473</td>\n",
       "      <td>2014-2015</td>\n",
       "    </tr>\n",
       "    <tr>\n",
       "      <th>freq</th>\n",
       "      <td>1558</td>\n",
       "      <td>3</td>\n",
       "      <td>NaN</td>\n",
       "      <td>NaN</td>\n",
       "      <td>1714</td>\n",
       "      <td>3</td>\n",
       "      <td>242</td>\n",
       "    </tr>\n",
       "  </tbody>\n",
       "</table>\n",
       "</div>"
      ],
      "text/plain": [
       "       gender                         full_name  specialization  minor  \\\n",
       "count    1720                              1720             0.0    0.0   \n",
       "unique      2                              1324             0.0    0.0   \n",
       "top      male  Barraud Laurent François Michaël             NaN    NaN   \n",
       "freq     1558                                 3             NaN    NaN   \n",
       "\n",
       "         status  sciper        ba1  \n",
       "count      1720    1720       1720  \n",
       "unique        3    1324         10  \n",
       "top     Présent  250473  2014-2015  \n",
       "freq       1714       3        242  "
      ]
     },
     "execution_count": 20,
     "metadata": {},
     "output_type": "execute_result"
    }
   ],
   "source": [
    "ba_dfs_concat['bachelor-semestre-1'].describe()"
   ]
  },
  {
   "cell_type": "code",
   "execution_count": 21,
   "metadata": {
    "collapsed": false
   },
   "outputs": [
    {
     "data": {
      "text/html": [
       "<div>\n",
       "<table border=\"1\" class=\"dataframe\">\n",
       "  <thead>\n",
       "    <tr style=\"text-align: right;\">\n",
       "      <th></th>\n",
       "      <th>gender</th>\n",
       "      <th>full_name</th>\n",
       "      <th>specialization</th>\n",
       "      <th>minor</th>\n",
       "      <th>status</th>\n",
       "      <th>sciper</th>\n",
       "      <th>ba6</th>\n",
       "    </tr>\n",
       "  </thead>\n",
       "  <tbody>\n",
       "    <tr>\n",
       "      <th>count</th>\n",
       "      <td>664</td>\n",
       "      <td>664</td>\n",
       "      <td>0.0</td>\n",
       "      <td>0.0</td>\n",
       "      <td>664</td>\n",
       "      <td>664</td>\n",
       "      <td>664</td>\n",
       "    </tr>\n",
       "    <tr>\n",
       "      <th>unique</th>\n",
       "      <td>2</td>\n",
       "      <td>516</td>\n",
       "      <td>0.0</td>\n",
       "      <td>0.0</td>\n",
       "      <td>3</td>\n",
       "      <td>516</td>\n",
       "      <td>10</td>\n",
       "    </tr>\n",
       "    <tr>\n",
       "      <th>top</th>\n",
       "      <td>male</td>\n",
       "      <td>Aiulfi Loris Sandro</td>\n",
       "      <td>NaN</td>\n",
       "      <td>NaN</td>\n",
       "      <td>Présent</td>\n",
       "      <td>202293</td>\n",
       "      <td>2014-2015</td>\n",
       "    </tr>\n",
       "    <tr>\n",
       "      <th>freq</th>\n",
       "      <td>621</td>\n",
       "      <td>3</td>\n",
       "      <td>NaN</td>\n",
       "      <td>NaN</td>\n",
       "      <td>530</td>\n",
       "      <td>3</td>\n",
       "      <td>116</td>\n",
       "    </tr>\n",
       "  </tbody>\n",
       "</table>\n",
       "</div>"
      ],
      "text/plain": [
       "       gender            full_name  specialization  minor   status  sciper  \\\n",
       "count     664                  664             0.0    0.0      664     664   \n",
       "unique      2                  516             0.0    0.0        3     516   \n",
       "top      male  Aiulfi Loris Sandro             NaN    NaN  Présent  202293   \n",
       "freq      621                    3             NaN    NaN      530       3   \n",
       "\n",
       "              ba6  \n",
       "count         664  \n",
       "unique         10  \n",
       "top     2014-2015  \n",
       "freq          116  "
      ]
     },
     "execution_count": 21,
     "metadata": {},
     "output_type": "execute_result"
    }
   ],
   "source": [
    "ba_dfs_concat['bachelor-semestre-6'].describe()"
   ]
  },
  {
   "cell_type": "markdown",
   "metadata": {},
   "source": [
    "...on the other, there are repetitions (find below, the distribution of times ba1 / ba6 has been repetead):"
   ]
  },
  {
   "cell_type": "code",
   "execution_count": 22,
   "metadata": {
    "collapsed": false
   },
   "outputs": [
    {
     "data": {
      "text/plain": [
       "<matplotlib.text.Text at 0x10ed45470>"
      ]
     },
     "execution_count": 22,
     "metadata": {},
     "output_type": "execute_result"
    },
    {
     "data": {
      "image/png": "[encoded data removed]",
      "text/plain": [
       "<matplotlib.figure.Figure at 0x10f00a128>"
      ]
     },
     "metadata": {},
     "output_type": "display_data"
    }
   ],
   "source": [
    "sns.distplot(ba_dfs_concat['bachelor-semestre-1'].sciper.value_counts(),kde=False,axlabel='num. of repetition/unique sciper (student)')\n",
    "plt.ylabel('num. of students')"
   ]
  },
  {
   "cell_type": "code",
   "execution_count": 23,
   "metadata": {
    "collapsed": false,
    "scrolled": true
   },
   "outputs": [
    {
     "data": {
      "text/plain": [
       "<matplotlib.text.Text at 0x10ef21668>"
      ]
     },
     "execution_count": 23,
     "metadata": {},
     "output_type": "execute_result"
    },
    {
     "data": {
      "image/png": "[encoded data removed]",
      "text/plain": [
       "<matplotlib.figure.Figure at 0x10ed460b8>"
      ]
     },
     "metadata": {},
     "output_type": "display_data"
    }
   ],
   "source": [
    "sns.distplot(ba_dfs_concat['bachelor-semestre-6'].sciper.value_counts(),kde=False,axlabel='num. of repetition/unique sciper (student)')\n",
    "plt.ylabel('num. of students')"
   ]
  },
  {
   "cell_type": "markdown",
   "metadata": {},
   "source": [
    "The next step is to count how many times each student appear in each level, that is count the number of times a student has done a semester."
   ]
  },
  {
   "cell_type": "code",
   "execution_count": 24,
   "metadata": {
    "collapsed": true
   },
   "outputs": [],
   "source": [
    "count_ba = {}\n",
    "for i in range(6):\n",
    "    count_ba[ba[i]] = pd.DataFrame(ba_dfs_concat[ba[i]].groupby('sciper',as_index=False).size(), columns=['count_ba{}'.format(i+1)])\n",
    "    count_ba[ba[i]]['sciper'] = count_ba[ba[i]].index"
   ]
  },
  {
   "cell_type": "markdown",
   "metadata": {},
   "source": [
    "Then, we can put all the data we have in a single dataframe that we will use to compute the results and the stats."
   ]
  },
  {
   "cell_type": "code",
   "execution_count": 25,
   "metadata": {
    "collapsed": false
   },
   "outputs": [
    {
     "data": {
      "text/html": [
       "<div>\n",
       "<table border=\"1\" class=\"dataframe\">\n",
       "  <thead>\n",
       "    <tr style=\"text-align: right;\">\n",
       "      <th></th>\n",
       "      <th>gender</th>\n",
       "      <th>full_name</th>\n",
       "      <th>specialization</th>\n",
       "      <th>minor</th>\n",
       "      <th>status</th>\n",
       "      <th>sciper</th>\n",
       "      <th>ba1</th>\n",
       "      <th>ba2</th>\n",
       "      <th>ba3</th>\n",
       "      <th>ba4</th>\n",
       "      <th>ba5</th>\n",
       "      <th>ba6</th>\n",
       "      <th>count_ba1</th>\n",
       "      <th>count_ba2</th>\n",
       "      <th>count_ba3</th>\n",
       "      <th>count_ba4</th>\n",
       "      <th>count_ba5</th>\n",
       "      <th>count_ba6</th>\n",
       "    </tr>\n",
       "  </thead>\n",
       "  <tbody>\n",
       "    <tr>\n",
       "      <th>0</th>\n",
       "      <td>male</td>\n",
       "      <td>Ahluwalia Samit</td>\n",
       "      <td>NaN</td>\n",
       "      <td>NaN</td>\n",
       "      <td>Présent</td>\n",
       "      <td>184228</td>\n",
       "      <td>2008-2009</td>\n",
       "      <td>2008-2009</td>\n",
       "      <td>NaN</td>\n",
       "      <td>NaN</td>\n",
       "      <td>NaN</td>\n",
       "      <td>NaN</td>\n",
       "      <td>1.0</td>\n",
       "      <td>1.0</td>\n",
       "      <td>0.0</td>\n",
       "      <td>0.0</td>\n",
       "      <td>0.0</td>\n",
       "      <td>0.0</td>\n",
       "    </tr>\n",
       "    <tr>\n",
       "      <th>1</th>\n",
       "      <td>male</td>\n",
       "      <td>Amiet Nils</td>\n",
       "      <td>NaN</td>\n",
       "      <td>NaN</td>\n",
       "      <td>Présent</td>\n",
       "      <td>179383</td>\n",
       "      <td>2008-2009</td>\n",
       "      <td>2008-2009</td>\n",
       "      <td>2009-2010</td>\n",
       "      <td>2009-2010</td>\n",
       "      <td>2010-2011</td>\n",
       "      <td>NaN</td>\n",
       "      <td>1.0</td>\n",
       "      <td>1.0</td>\n",
       "      <td>1.0</td>\n",
       "      <td>1.0</td>\n",
       "      <td>1.0</td>\n",
       "      <td>0.0</td>\n",
       "    </tr>\n",
       "    <tr>\n",
       "      <th>2</th>\n",
       "      <td>male</td>\n",
       "      <td>Andenmatten Alexandre</td>\n",
       "      <td>NaN</td>\n",
       "      <td>NaN</td>\n",
       "      <td>Présent</td>\n",
       "      <td>186836</td>\n",
       "      <td>2008-2009</td>\n",
       "      <td>NaN</td>\n",
       "      <td>NaN</td>\n",
       "      <td>NaN</td>\n",
       "      <td>NaN</td>\n",
       "      <td>NaN</td>\n",
       "      <td>1.0</td>\n",
       "      <td>0.0</td>\n",
       "      <td>0.0</td>\n",
       "      <td>0.0</td>\n",
       "      <td>0.0</td>\n",
       "      <td>0.0</td>\n",
       "    </tr>\n",
       "    <tr>\n",
       "      <th>3</th>\n",
       "      <td>male</td>\n",
       "      <td>Arnfred Jonas</td>\n",
       "      <td>NaN</td>\n",
       "      <td>NaN</td>\n",
       "      <td>Présent</td>\n",
       "      <td>184772</td>\n",
       "      <td>2008-2009</td>\n",
       "      <td>2008-2009</td>\n",
       "      <td>2009-2010</td>\n",
       "      <td>2009-2010</td>\n",
       "      <td>NaN</td>\n",
       "      <td>NaN</td>\n",
       "      <td>1.0</td>\n",
       "      <td>1.0</td>\n",
       "      <td>1.0</td>\n",
       "      <td>1.0</td>\n",
       "      <td>1.0</td>\n",
       "      <td>1.0</td>\n",
       "    </tr>\n",
       "    <tr>\n",
       "      <th>5</th>\n",
       "      <td>male</td>\n",
       "      <td>Badila Constantin-Tudor</td>\n",
       "      <td>NaN</td>\n",
       "      <td>NaN</td>\n",
       "      <td>Présent</td>\n",
       "      <td>187235</td>\n",
       "      <td>2008-2009</td>\n",
       "      <td>NaN</td>\n",
       "      <td>NaN</td>\n",
       "      <td>NaN</td>\n",
       "      <td>NaN</td>\n",
       "      <td>NaN</td>\n",
       "      <td>1.0</td>\n",
       "      <td>0.0</td>\n",
       "      <td>0.0</td>\n",
       "      <td>0.0</td>\n",
       "      <td>0.0</td>\n",
       "      <td>0.0</td>\n",
       "    </tr>\n",
       "  </tbody>\n",
       "</table>\n",
       "</div>"
      ],
      "text/plain": [
       "  gender                full_name specialization minor   status  sciper  \\\n",
       "0   male          Ahluwalia Samit            NaN   NaN  Présent  184228   \n",
       "1   male               Amiet Nils            NaN   NaN  Présent  179383   \n",
       "2   male    Andenmatten Alexandre            NaN   NaN  Présent  186836   \n",
       "3   male            Arnfred Jonas            NaN   NaN  Présent  184772   \n",
       "5   male  Badila Constantin-Tudor            NaN   NaN  Présent  187235   \n",
       "\n",
       "         ba1        ba2        ba3        ba4        ba5  ba6  count_ba1  \\\n",
       "0  2008-2009  2008-2009        NaN        NaN        NaN  NaN        1.0   \n",
       "1  2008-2009  2008-2009  2009-2010  2009-2010  2010-2011  NaN        1.0   \n",
       "2  2008-2009        NaN        NaN        NaN        NaN  NaN        1.0   \n",
       "3  2008-2009  2008-2009  2009-2010  2009-2010        NaN  NaN        1.0   \n",
       "5  2008-2009        NaN        NaN        NaN        NaN  NaN        1.0   \n",
       "\n",
       "   count_ba2  count_ba3  count_ba4  count_ba5  count_ba6  \n",
       "0        1.0        0.0        0.0        0.0        0.0  \n",
       "1        1.0        1.0        1.0        1.0        0.0  \n",
       "2        0.0        0.0        0.0        0.0        0.0  \n",
       "3        1.0        1.0        1.0        1.0        1.0  \n",
       "5        0.0        0.0        0.0        0.0        0.0  "
      ]
     },
     "execution_count": 25,
     "metadata": {},
     "output_type": "execute_result"
    }
   ],
   "source": [
    "bachelor_df = pd.merge(ba_dfs_concat[ba[0]], ba_dfs_concat[ba[1]], how='outer')\n",
    "bachelor_df = pd.merge(bachelor_df, ba_dfs_concat[ba[2]], how='outer')\n",
    "bachelor_df = pd.merge(bachelor_df, ba_dfs_concat[ba[3]], how='outer')\n",
    "bachelor_df = pd.merge(bachelor_df, ba_dfs_concat[ba[4]], how='outer')\n",
    "bachelor_df = pd.merge(bachelor_df, ba_dfs_concat[ba[5]], how='outer')\n",
    "\n",
    "for i in range(6):\n",
    "    bachelor_df = pd.merge(bachelor_df, count_ba[ba[i]], how='outer')\n",
    "    bachelor_df['count_ba{}'.format(i+1)] = bachelor_df['count_ba{}'.format(i+1)].fillna(value=0)\n",
    "\n",
    "bachelor_df = bachelor_df.drop_duplicates(['sciper'])\n",
    "bachelor_df.head()"
   ]
  },
  {
   "cell_type": "markdown",
   "metadata": {},
   "source": [
    "To compute the duration of the bachelor, we define a compute_duration function that takes the names of the columns containing the 'counts' as a parameter, and compute the duration in months. Then, we apply this function to our dataframe."
   ]
  },
  {
   "cell_type": "code",
   "execution_count": 22,
   "metadata": {
    "collapsed": true
   },
   "outputs": [],
   "source": [
    "def compute_duration(x, columns):\n",
    "    return sum([x[c] for c in columns]) * 6"
   ]
  },
  {
   "cell_type": "code",
   "execution_count": 27,
   "metadata": {
    "collapsed": false
   },
   "outputs": [
    {
     "data": {
      "text/html": [
       "<div>\n",
       "<table border=\"1\" class=\"dataframe\">\n",
       "  <thead>\n",
       "    <tr style=\"text-align: right;\">\n",
       "      <th></th>\n",
       "      <th>gender</th>\n",
       "      <th>full_name</th>\n",
       "      <th>specialization</th>\n",
       "      <th>minor</th>\n",
       "      <th>status</th>\n",
       "      <th>sciper</th>\n",
       "      <th>ba1</th>\n",
       "      <th>ba2</th>\n",
       "      <th>ba3</th>\n",
       "      <th>ba4</th>\n",
       "      <th>ba5</th>\n",
       "      <th>ba6</th>\n",
       "      <th>count_ba1</th>\n",
       "      <th>count_ba2</th>\n",
       "      <th>count_ba3</th>\n",
       "      <th>count_ba4</th>\n",
       "      <th>count_ba5</th>\n",
       "      <th>count_ba6</th>\n",
       "      <th>duration</th>\n",
       "    </tr>\n",
       "  </thead>\n",
       "  <tbody>\n",
       "    <tr>\n",
       "      <th>0</th>\n",
       "      <td>male</td>\n",
       "      <td>Ahluwalia Samit</td>\n",
       "      <td>NaN</td>\n",
       "      <td>NaN</td>\n",
       "      <td>Présent</td>\n",
       "      <td>184228</td>\n",
       "      <td>2008-2009</td>\n",
       "      <td>2008-2009</td>\n",
       "      <td>NaN</td>\n",
       "      <td>NaN</td>\n",
       "      <td>NaN</td>\n",
       "      <td>NaN</td>\n",
       "      <td>1.0</td>\n",
       "      <td>1.0</td>\n",
       "      <td>0.0</td>\n",
       "      <td>0.0</td>\n",
       "      <td>0.0</td>\n",
       "      <td>0.0</td>\n",
       "      <td>12.0</td>\n",
       "    </tr>\n",
       "    <tr>\n",
       "      <th>1</th>\n",
       "      <td>male</td>\n",
       "      <td>Amiet Nils</td>\n",
       "      <td>NaN</td>\n",
       "      <td>NaN</td>\n",
       "      <td>Présent</td>\n",
       "      <td>179383</td>\n",
       "      <td>2008-2009</td>\n",
       "      <td>2008-2009</td>\n",
       "      <td>2009-2010</td>\n",
       "      <td>2009-2010</td>\n",
       "      <td>2010-2011</td>\n",
       "      <td>NaN</td>\n",
       "      <td>1.0</td>\n",
       "      <td>1.0</td>\n",
       "      <td>1.0</td>\n",
       "      <td>1.0</td>\n",
       "      <td>1.0</td>\n",
       "      <td>0.0</td>\n",
       "      <td>30.0</td>\n",
       "    </tr>\n",
       "    <tr>\n",
       "      <th>2</th>\n",
       "      <td>male</td>\n",
       "      <td>Andenmatten Alexandre</td>\n",
       "      <td>NaN</td>\n",
       "      <td>NaN</td>\n",
       "      <td>Présent</td>\n",
       "      <td>186836</td>\n",
       "      <td>2008-2009</td>\n",
       "      <td>NaN</td>\n",
       "      <td>NaN</td>\n",
       "      <td>NaN</td>\n",
       "      <td>NaN</td>\n",
       "      <td>NaN</td>\n",
       "      <td>1.0</td>\n",
       "      <td>0.0</td>\n",
       "      <td>0.0</td>\n",
       "      <td>0.0</td>\n",
       "      <td>0.0</td>\n",
       "      <td>0.0</td>\n",
       "      <td>6.0</td>\n",
       "    </tr>\n",
       "    <tr>\n",
       "      <th>3</th>\n",
       "      <td>male</td>\n",
       "      <td>Arnfred Jonas</td>\n",
       "      <td>NaN</td>\n",
       "      <td>NaN</td>\n",
       "      <td>Présent</td>\n",
       "      <td>184772</td>\n",
       "      <td>2008-2009</td>\n",
       "      <td>2008-2009</td>\n",
       "      <td>2009-2010</td>\n",
       "      <td>2009-2010</td>\n",
       "      <td>NaN</td>\n",
       "      <td>NaN</td>\n",
       "      <td>1.0</td>\n",
       "      <td>1.0</td>\n",
       "      <td>1.0</td>\n",
       "      <td>1.0</td>\n",
       "      <td>1.0</td>\n",
       "      <td>1.0</td>\n",
       "      <td>36.0</td>\n",
       "    </tr>\n",
       "    <tr>\n",
       "      <th>5</th>\n",
       "      <td>male</td>\n",
       "      <td>Badila Constantin-Tudor</td>\n",
       "      <td>NaN</td>\n",
       "      <td>NaN</td>\n",
       "      <td>Présent</td>\n",
       "      <td>187235</td>\n",
       "      <td>2008-2009</td>\n",
       "      <td>NaN</td>\n",
       "      <td>NaN</td>\n",
       "      <td>NaN</td>\n",
       "      <td>NaN</td>\n",
       "      <td>NaN</td>\n",
       "      <td>1.0</td>\n",
       "      <td>0.0</td>\n",
       "      <td>0.0</td>\n",
       "      <td>0.0</td>\n",
       "      <td>0.0</td>\n",
       "      <td>0.0</td>\n",
       "      <td>6.0</td>\n",
       "    </tr>\n",
       "  </tbody>\n",
       "</table>\n",
       "</div>"
      ],
      "text/plain": [
       "  gender                full_name specialization minor   status  sciper  \\\n",
       "0   male          Ahluwalia Samit            NaN   NaN  Présent  184228   \n",
       "1   male               Amiet Nils            NaN   NaN  Présent  179383   \n",
       "2   male    Andenmatten Alexandre            NaN   NaN  Présent  186836   \n",
       "3   male            Arnfred Jonas            NaN   NaN  Présent  184772   \n",
       "5   male  Badila Constantin-Tudor            NaN   NaN  Présent  187235   \n",
       "\n",
       "         ba1        ba2        ba3        ba4        ba5  ba6  count_ba1  \\\n",
       "0  2008-2009  2008-2009        NaN        NaN        NaN  NaN        1.0   \n",
       "1  2008-2009  2008-2009  2009-2010  2009-2010  2010-2011  NaN        1.0   \n",
       "2  2008-2009        NaN        NaN        NaN        NaN  NaN        1.0   \n",
       "3  2008-2009  2008-2009  2009-2010  2009-2010        NaN  NaN        1.0   \n",
       "5  2008-2009        NaN        NaN        NaN        NaN  NaN        1.0   \n",
       "\n",
       "   count_ba2  count_ba3  count_ba4  count_ba5  count_ba6  duration  \n",
       "0        1.0        0.0        0.0        0.0        0.0      12.0  \n",
       "1        1.0        1.0        1.0        1.0        0.0      30.0  \n",
       "2        0.0        0.0        0.0        0.0        0.0       6.0  \n",
       "3        1.0        1.0        1.0        1.0        1.0      36.0  \n",
       "5        0.0        0.0        0.0        0.0        0.0       6.0  "
      ]
     },
     "execution_count": 27,
     "metadata": {},
     "output_type": "execute_result"
    }
   ],
   "source": [
    "columns = ['count_ba{}'.format(i+1) for i in range(6)]\n",
    "bachelor_df['duration'] = bachelor_df.apply(compute_duration, axis=1, args=(columns,))\n",
    "bachelor_df.head()"
   ]
  },
  {
   "cell_type": "markdown",
   "metadata": {},
   "source": [
    "Finally, we filter the results to keep only the students who have entries for both bachelor semester 1 and semester 6."
   ]
  },
  {
   "cell_type": "code",
   "execution_count": 28,
   "metadata": {
    "collapsed": false
   },
   "outputs": [
    {
     "data": {
      "text/html": [
       "<div>\n",
       "<table border=\"1\" class=\"dataframe\">\n",
       "  <thead>\n",
       "    <tr style=\"text-align: right;\">\n",
       "      <th></th>\n",
       "      <th>gender</th>\n",
       "      <th>full_name</th>\n",
       "      <th>specialization</th>\n",
       "      <th>minor</th>\n",
       "      <th>status</th>\n",
       "      <th>sciper</th>\n",
       "      <th>ba1</th>\n",
       "      <th>ba2</th>\n",
       "      <th>ba3</th>\n",
       "      <th>ba4</th>\n",
       "      <th>ba5</th>\n",
       "      <th>ba6</th>\n",
       "      <th>count_ba1</th>\n",
       "      <th>count_ba2</th>\n",
       "      <th>count_ba3</th>\n",
       "      <th>count_ba4</th>\n",
       "      <th>count_ba5</th>\n",
       "      <th>count_ba6</th>\n",
       "      <th>duration</th>\n",
       "    </tr>\n",
       "  </thead>\n",
       "  <tbody>\n",
       "    <tr>\n",
       "      <th>3</th>\n",
       "      <td>male</td>\n",
       "      <td>Arnfred Jonas</td>\n",
       "      <td>NaN</td>\n",
       "      <td>NaN</td>\n",
       "      <td>Présent</td>\n",
       "      <td>184772</td>\n",
       "      <td>2008-2009</td>\n",
       "      <td>2008-2009</td>\n",
       "      <td>2009-2010</td>\n",
       "      <td>2009-2010</td>\n",
       "      <td>NaN</td>\n",
       "      <td>NaN</td>\n",
       "      <td>1.0</td>\n",
       "      <td>1.0</td>\n",
       "      <td>1.0</td>\n",
       "      <td>1.0</td>\n",
       "      <td>1.0</td>\n",
       "      <td>1.0</td>\n",
       "      <td>36.0</td>\n",
       "    </tr>\n",
       "    <tr>\n",
       "      <th>6</th>\n",
       "      <td>male</td>\n",
       "      <td>Bougacha Malik</td>\n",
       "      <td>NaN</td>\n",
       "      <td>NaN</td>\n",
       "      <td>Présent</td>\n",
       "      <td>186264</td>\n",
       "      <td>2008-2009</td>\n",
       "      <td>2008-2009</td>\n",
       "      <td>2010-2011</td>\n",
       "      <td>2010-2011</td>\n",
       "      <td>2013-2014</td>\n",
       "      <td>2012-2013</td>\n",
       "      <td>2.0</td>\n",
       "      <td>2.0</td>\n",
       "      <td>1.0</td>\n",
       "      <td>1.0</td>\n",
       "      <td>3.0</td>\n",
       "      <td>2.0</td>\n",
       "      <td>66.0</td>\n",
       "    </tr>\n",
       "    <tr>\n",
       "      <th>30</th>\n",
       "      <td>male</td>\n",
       "      <td>Bourgeois Jérémy</td>\n",
       "      <td>NaN</td>\n",
       "      <td>NaN</td>\n",
       "      <td>Présent</td>\n",
       "      <td>185949</td>\n",
       "      <td>2008-2009</td>\n",
       "      <td>2008-2009</td>\n",
       "      <td>2009-2010</td>\n",
       "      <td>2009-2010</td>\n",
       "      <td>2010-2011</td>\n",
       "      <td>2010-2011</td>\n",
       "      <td>1.0</td>\n",
       "      <td>1.0</td>\n",
       "      <td>1.0</td>\n",
       "      <td>1.0</td>\n",
       "      <td>1.0</td>\n",
       "      <td>1.0</td>\n",
       "      <td>36.0</td>\n",
       "    </tr>\n",
       "    <tr>\n",
       "      <th>31</th>\n",
       "      <td>male</td>\n",
       "      <td>Bourqui Marc</td>\n",
       "      <td>NaN</td>\n",
       "      <td>NaN</td>\n",
       "      <td>Présent</td>\n",
       "      <td>184264</td>\n",
       "      <td>2008-2009</td>\n",
       "      <td>2008-2009</td>\n",
       "      <td>2010-2011</td>\n",
       "      <td>2010-2011</td>\n",
       "      <td>2012-2013</td>\n",
       "      <td>2012-2013</td>\n",
       "      <td>2.0</td>\n",
       "      <td>2.0</td>\n",
       "      <td>1.0</td>\n",
       "      <td>1.0</td>\n",
       "      <td>2.0</td>\n",
       "      <td>2.0</td>\n",
       "      <td>60.0</td>\n",
       "    </tr>\n",
       "    <tr>\n",
       "      <th>47</th>\n",
       "      <td>male</td>\n",
       "      <td>Bruchez Lionel</td>\n",
       "      <td>NaN</td>\n",
       "      <td>NaN</td>\n",
       "      <td>Présent</td>\n",
       "      <td>186825</td>\n",
       "      <td>2008-2009</td>\n",
       "      <td>2008-2009</td>\n",
       "      <td>2009-2010</td>\n",
       "      <td>2009-2010</td>\n",
       "      <td>2011-2012</td>\n",
       "      <td>2010-2011</td>\n",
       "      <td>1.0</td>\n",
       "      <td>1.0</td>\n",
       "      <td>1.0</td>\n",
       "      <td>1.0</td>\n",
       "      <td>2.0</td>\n",
       "      <td>1.0</td>\n",
       "      <td>42.0</td>\n",
       "    </tr>\n",
       "  </tbody>\n",
       "</table>\n",
       "</div>"
      ],
      "text/plain": [
       "   gender         full_name specialization minor   status  sciper        ba1  \\\n",
       "3    male     Arnfred Jonas            NaN   NaN  Présent  184772  2008-2009   \n",
       "6    male    Bougacha Malik            NaN   NaN  Présent  186264  2008-2009   \n",
       "30   male  Bourgeois Jérémy            NaN   NaN  Présent  185949  2008-2009   \n",
       "31   male      Bourqui Marc            NaN   NaN  Présent  184264  2008-2009   \n",
       "47   male    Bruchez Lionel            NaN   NaN  Présent  186825  2008-2009   \n",
       "\n",
       "          ba2        ba3        ba4        ba5        ba6  count_ba1  \\\n",
       "3   2008-2009  2009-2010  2009-2010        NaN        NaN        1.0   \n",
       "6   2008-2009  2010-2011  2010-2011  2013-2014  2012-2013        2.0   \n",
       "30  2008-2009  2009-2010  2009-2010  2010-2011  2010-2011        1.0   \n",
       "31  2008-2009  2010-2011  2010-2011  2012-2013  2012-2013        2.0   \n",
       "47  2008-2009  2009-2010  2009-2010  2011-2012  2010-2011        1.0   \n",
       "\n",
       "    count_ba2  count_ba3  count_ba4  count_ba5  count_ba6  duration  \n",
       "3         1.0        1.0        1.0        1.0        1.0      36.0  \n",
       "6         2.0        1.0        1.0        3.0        2.0      66.0  \n",
       "30        1.0        1.0        1.0        1.0        1.0      36.0  \n",
       "31        2.0        1.0        1.0        2.0        2.0      60.0  \n",
       "47        1.0        1.0        1.0        2.0        1.0      42.0  "
      ]
     },
     "execution_count": 28,
     "metadata": {},
     "output_type": "execute_result"
    }
   ],
   "source": [
    "# Keep only students with entries for both BA1 and BA6\n",
    "bachelor_df_filtered = bachelor_df[(bachelor_df.count_ba1>0) & (bachelor_df.count_ba6>0)]\n",
    "bachelor_df_filtered.head()"
   ]
  },
  {
   "cell_type": "markdown",
   "metadata": {},
   "source": [
    "Here we plot a pychart of the duration, for all students (with both ba1 and ba6):"
   ]
  },
  {
   "cell_type": "code",
   "execution_count": 29,
   "metadata": {
    "collapsed": false,
    "scrolled": false
   },
   "outputs": [
    {
     "data": {
      "text/plain": [
       "<matplotlib.text.Text at 0x10eaa5668>"
      ]
     },
     "execution_count": 29,
     "metadata": {},
     "output_type": "execute_result"
    },
    {
     "data": {
      "image/png": "[encoded data removed]",
      "text/plain": [
       "<matplotlib.figure.Figure at 0x10f0f9518>"
      ]
     },
     "metadata": {},
     "output_type": "display_data"
    }
   ],
   "source": [
    "counts = bachelor_df_filtered.duration.value_counts()\n",
    "counts.plot(kind='pie', labels=counts.values)\n",
    "plt.legend(labels=counts.index)\n",
    "plt.axis('equal')\n",
    "plt.title('Duration of Bachelor in months')"
   ]
  },
  {
   "cell_type": "markdown",
   "metadata": {},
   "source": [
    "### Some stats\n",
    "\n",
    "Now we can have stats about bachelor duration for _all selected_ students:"
   ]
  },
  {
   "cell_type": "code",
   "execution_count": 30,
   "metadata": {
    "collapsed": false
   },
   "outputs": [
    {
     "data": {
      "text/plain": [
       "count    397.000000\n",
       "mean      42.498741\n",
       "std        9.146569\n",
       "min       24.000000\n",
       "25%       36.000000\n",
       "50%       36.000000\n",
       "75%       48.000000\n",
       "max       72.000000\n",
       "Name: duration, dtype: float64"
      ]
     },
     "execution_count": 30,
     "metadata": {},
     "output_type": "execute_result"
    }
   ],
   "source": [
    "bachelor_df_filtered.duration.describe()"
   ]
  },
  {
   "cell_type": "markdown",
   "metadata": {},
   "source": [
    "and the same statistics, by gender:"
   ]
  },
  {
   "cell_type": "code",
   "execution_count": 31,
   "metadata": {
    "collapsed": false
   },
   "outputs": [
    {
     "data": {
      "text/plain": [
       "count    368.000000\n",
       "mean      42.635870\n",
       "std        9.221348\n",
       "min       24.000000\n",
       "25%       36.000000\n",
       "50%       36.000000\n",
       "75%       48.000000\n",
       "max       72.000000\n",
       "Name: duration, dtype: float64"
      ]
     },
     "execution_count": 31,
     "metadata": {},
     "output_type": "execute_result"
    }
   ],
   "source": [
    "bachelor_df_filtered[bachelor_df_filtered.gender=='male'].duration.describe()"
   ]
  },
  {
   "cell_type": "code",
   "execution_count": 32,
   "metadata": {
    "collapsed": false,
    "scrolled": true
   },
   "outputs": [
    {
     "data": {
      "text/plain": [
       "count    29.000000\n",
       "mean     40.758621\n",
       "std       8.078433\n",
       "min      36.000000\n",
       "25%      36.000000\n",
       "50%      36.000000\n",
       "75%      48.000000\n",
       "max      66.000000\n",
       "Name: duration, dtype: float64"
      ]
     },
     "execution_count": 32,
     "metadata": {},
     "output_type": "execute_result"
    }
   ],
   "source": [
    "bachelor_df_filtered[bachelor_df_filtered.gender=='female'].duration.describe()"
   ]
  },
  {
   "cell_type": "markdown",
   "metadata": {},
   "source": [
    "From the simple comparison shown above, we see that the two distributions have the same median (36 months)."
   ]
  },
  {
   "cell_type": "markdown",
   "metadata": {},
   "source": [
    "Here we plot the duration distributions, by gender (as you can see, they don't look gaussian):"
   ]
  },
  {
   "cell_type": "code",
   "execution_count": 33,
   "metadata": {
    "collapsed": false
   },
   "outputs": [
    {
     "data": {
      "text/plain": [
       "<matplotlib.legend.Legend at 0x10ec0a9e8>"
      ]
     },
     "execution_count": 33,
     "metadata": {},
     "output_type": "execute_result"
    },
    {
     "data": {
      "image/png": "[encoded data removed]",
      "text/plain": [
       "<matplotlib.figure.Figure at 0x10efa2048>"
      ]
     },
     "metadata": {},
     "output_type": "display_data"
    }
   ],
   "source": [
    "sns.distplot(bachelor_df_filtered.duration[bachelor_df_filtered.gender=='male'],bins=10,\n",
    "             kde=False,axlabel='months needed to get to ba6',label='boys')\n",
    "sns.distplot(bachelor_df_filtered.duration[bachelor_df_filtered.gender=='female'],bins=10,\n",
    "             kde=False,axlabel='months needed to get to ba6',label='girls')\n",
    "plt.legend()"
   ]
  },
  {
   "cell_type": "markdown",
   "metadata": {},
   "source": [
    "Here we estimate the _non-gaussianity_ with the kurtosis (kurtosis of Gaussian distribution is equal to 0):"
   ]
  },
  {
   "cell_type": "code",
   "execution_count": 34,
   "metadata": {
    "collapsed": true
   },
   "outputs": [],
   "source": [
    "import scipy.stats as stats"
   ]
  },
  {
   "cell_type": "code",
   "execution_count": 35,
   "metadata": {
    "collapsed": true
   },
   "outputs": [],
   "source": [
    "duration_male = bachelor_df_filtered[bachelor_df_filtered.gender=='male'].duration\n",
    "duration_female = bachelor_df_filtered[bachelor_df_filtered.gender=='female'].duration"
   ]
  },
  {
   "cell_type": "code",
   "execution_count": 36,
   "metadata": {
    "collapsed": false
   },
   "outputs": [
    {
     "name": "stdout",
     "output_type": "stream",
     "text": [
      "1.5111464732986768\n",
      "0.9149707477894959\n"
     ]
    }
   ],
   "source": [
    "print(stats.kurtosis(duration_female))\n",
    "print(stats.kurtosis(duration_male))"
   ]
  },
  {
   "cell_type": "markdown",
   "metadata": {},
   "source": [
    "### Statistical test(s)"
   ]
  },
  {
   "cell_type": "markdown",
   "metadata": {},
   "source": [
    "As the distributions above are not gaussian, we choose the KS test, to compare them:"
   ]
  },
  {
   "cell_type": "code",
   "execution_count": 37,
   "metadata": {
    "collapsed": false
   },
   "outputs": [
    {
     "data": {
      "text/plain": [
       "Ks_2sampResult(statistic=0.13530734632683661, pvalue=0.67665439629670598)"
      ]
     },
     "execution_count": 37,
     "metadata": {},
     "output_type": "execute_result"
    }
   ],
   "source": [
    "stats.ks_2samp(duration_male, duration_female)"
   ]
  },
  {
   "cell_type": "markdown",
   "metadata": {},
   "source": [
    "As the p-value of this test is > 0.01, we keep the null hypothesis, namely the samples are likely to come from the same distribution."
   ]
  },
  {
   "cell_type": "markdown",
   "metadata": {},
   "source": [
    "In order to be sure that this is not an artifact of the specific test used, we try another similar test. KS test is _not very sensitive to tails of the  distributions_ (http://stats.stackexchange.com/questions/201434/2-sample-kolmogorov-smirnov-vs-anderson-darling-vs-cramer-von-mises) and therefore we check the statistical significance also with the Anderson test (https://en.wikipedia.org/wiki/Anderson%E2%80%93Darling_test):"
   ]
  },
  {
   "cell_type": "code",
   "execution_count": 38,
   "metadata": {
    "collapsed": false
   },
   "outputs": [
    {
     "data": {
      "text/plain": [
       "Anderson_ksampResult(statistic=0.44883751041503511, critical_values=array([ 0.325,  1.226,  1.961,  2.718,  3.752]), significance_level=0.21937273587968528)"
      ]
     },
     "execution_count": 38,
     "metadata": {},
     "output_type": "execute_result"
    }
   ],
   "source": [
    "stats.anderson_ksamp([duration_female,duration_male])"
   ]
  },
  {
   "cell_type": "markdown",
   "metadata": {},
   "source": [
    "Also AD test (p-value > 0.01) _supports_ the KS conclusion: the two samples are likely to come from the same distribution."
   ]
  },
  {
   "cell_type": "markdown",
   "metadata": {},
   "source": [
    "## 2. Master duration\n",
    "\n",
    "In this part, we want to do the same kind of computation for master students."
   ]
  },
  {
   "cell_type": "code",
   "execution_count": 16,
   "metadata": {
    "collapsed": false
   },
   "outputs": [
    {
     "name": "stdout",
     "output_type": "stream",
     "text": [
      "Using existing '.local-data' directory\n"
     ]
    }
   ],
   "source": [
    "try:\n",
    "    os.mkdir(local_dir)\n",
    "except FileExistsError:\n",
    "    # directory exists\n",
    "    print(\"Using existing '\" + local_dir + \"' directory\")"
   ]
  },
  {
   "cell_type": "markdown",
   "metadata": {},
   "source": [
    "First we get the data :"
   ]
  },
  {
   "cell_type": "code",
   "execution_count": 40,
   "metadata": {
    "collapsed": false
   },
   "outputs": [],
   "source": [
    "# Fixed values\n",
    "params_dict = {\n",
    "    'ww_x_GPS': -1,\n",
    "    'ww_i_reportModel': 133685247,\n",
    "    'ww_i_reportModelXsl': 133685270,\n",
    "    'ww_x_UNITE_ACAD': acad_unit['Informatique']\n",
    "}\n",
    "\n",
    "# Iterate over all the varying params and keep only data for bachelors\n",
    "for year_key, year_value in acad_period.items():\n",
    "    for level_key, level_value in level.items():\n",
    "        for semester_key, semester_value in semester.items():\n",
    "            if 'master' in level_key.lower():\n",
    "                params_dict['ww_x_PERIODE_ACAD'] = year_value\n",
    "                params_dict['ww_x_PERIODE_PEDAGO'] = level_value\n",
    "                params_dict['ww_x_HIVERETE'] = semester_value\n",
    "                \n",
    "                df = get_data(base_url, params_dict)\n",
    "                if not df.empty:\n",
    "                    # Persist dataframe locally with pickle\n",
    "                    filename = year_key + '-' + level_key.replace(' ', '-').lower() + '-' + semester_key\n",
    "                    df.to_pickle(local_dir + '/' + filename)"
   ]
  },
  {
   "cell_type": "code",
   "execution_count": 17,
   "metadata": {
    "collapsed": false
   },
   "outputs": [],
   "source": [
    "ma1_dfs, ma2_dfs, ma3_dfs, projma_dfs = {}, {}, {}, {}\n",
    "ma1 = 'master-semestre-1'\n",
    "ma2 = 'master-semestre-2'\n",
    "ma3 = 'master-semestre-3'\n",
    "projma = 'projet-master'\n",
    "\n",
    "# For each academic year, get data about masters 1-2-3 and projet master\n",
    "for year_key, year_value in acad_period.items():\n",
    "    for file in os.listdir(local_dir):\n",
    "        \n",
    "        # Read the data and put where it belongs\n",
    "        if (year_key in file) and (ma1 in file):\n",
    "            df = pd.read_pickle(local_dir + '/' + file)\n",
    "            df['ma1'] = year_key\n",
    "            ma1_dfs[year_key] = df\n",
    "            \n",
    "        if (year_key in file) and (ma2 in file): \n",
    "            df = pd.read_pickle(local_dir + '/' + file)\n",
    "            df['ma2'] = year_key\n",
    "            ma2_dfs[year_key] = df\n",
    "            \n",
    "        if (year_key in file) and (ma3 in file): \n",
    "            df = pd.read_pickle(local_dir + '/' + file)\n",
    "            df['ma3'] = year_key\n",
    "            ma3_dfs[year_key] = df\n",
    "            \n",
    "        if (year_key in file) and (projma in file): \n",
    "            df = pd.read_pickle(local_dir + '/' + file)\n",
    "            df['projma'] = year_key\n",
    "            projma_dfs[year_key] = df"
   ]
  },
  {
   "cell_type": "markdown",
   "metadata": {},
   "source": [
    "Then, we concatenate dataframes by academic level :"
   ]
  },
  {
   "cell_type": "code",
   "execution_count": 18,
   "metadata": {
    "collapsed": false
   },
   "outputs": [],
   "source": [
    "# Concatenate all 'MA{i}' or 'Projet MA' together\n",
    "ma1_df_concat = pd.concat(ma1_dfs.values(), axis=0)\n",
    "ma2_df_concat = pd.concat(ma2_dfs.values(), axis=0)\n",
    "ma3_df_concat = pd.concat(ma3_dfs.values(), axis=0)\n",
    "projma_df_concat = pd.concat(projma_dfs.values(), axis=0)"
   ]
  },
  {
   "cell_type": "markdown",
   "metadata": {},
   "source": [
    "Now we can count how many times each student has done each semester :"
   ]
  },
  {
   "cell_type": "code",
   "execution_count": 19,
   "metadata": {
    "collapsed": true
   },
   "outputs": [],
   "source": [
    "count_ma1 = pd.DataFrame(ma1_df_concat.groupby('sciper',as_index=False).size(), columns=['count_ma1'])\n",
    "count_ma1['sciper'] = count_ma1.index\n",
    "count_ma2 = pd.DataFrame(ma2_df_concat.groupby('sciper',as_index=False).size(), columns=['count_ma2'])\n",
    "count_ma2['sciper'] = count_ma2.index\n",
    "count_ma3 = pd.DataFrame(ma3_df_concat.groupby('sciper',as_index=False).size(), columns=['count_ma3'])\n",
    "count_ma3['sciper'] = count_ma3.index\n",
    "count_projma = pd.DataFrame(projma_df_concat.groupby('sciper',as_index=False).size(), columns=['count_projma'])\n",
    "count_projma['sciper'] = count_projma.index"
   ]
  },
  {
   "cell_type": "markdown",
   "metadata": {},
   "source": [
    "Finally we build a big dataframe with all the info in it :"
   ]
  },
  {
   "cell_type": "code",
   "execution_count": 36,
   "metadata": {
    "collapsed": false
   },
   "outputs": [
    {
     "data": {
      "text/html": [
       "<div>\n",
       "<table border=\"1\" class=\"dataframe\">\n",
       "  <thead>\n",
       "    <tr style=\"text-align: right;\">\n",
       "      <th></th>\n",
       "      <th>gender</th>\n",
       "      <th>full_name</th>\n",
       "      <th>specialization</th>\n",
       "      <th>minor</th>\n",
       "      <th>status</th>\n",
       "      <th>sciper</th>\n",
       "      <th>ma1</th>\n",
       "      <th>ma2</th>\n",
       "      <th>ma3</th>\n",
       "      <th>projma</th>\n",
       "      <th>count_ma1</th>\n",
       "      <th>count_ma2</th>\n",
       "      <th>count_ma3</th>\n",
       "      <th>count_projma</th>\n",
       "    </tr>\n",
       "  </thead>\n",
       "  <tbody>\n",
       "    <tr>\n",
       "      <th>1</th>\n",
       "      <td>female</td>\n",
       "      <td>Abbadi Hajar</td>\n",
       "      <td>NaN</td>\n",
       "      <td>Mineur en Management, technologie et entrepren...</td>\n",
       "      <td>Présent</td>\n",
       "      <td>238067</td>\n",
       "      <td>NaN</td>\n",
       "      <td>2013-2014</td>\n",
       "      <td>2014-2015</td>\n",
       "      <td>NaN</td>\n",
       "      <td>1.0</td>\n",
       "      <td>1.0</td>\n",
       "      <td>1.0</td>\n",
       "      <td>0.0</td>\n",
       "    </tr>\n",
       "    <tr>\n",
       "      <th>3</th>\n",
       "      <td>male</td>\n",
       "      <td>Ahmed Fayzan</td>\n",
       "      <td>NaN</td>\n",
       "      <td>Mineur en Neuroprosthétiques</td>\n",
       "      <td>Présent</td>\n",
       "      <td>235799</td>\n",
       "      <td>NaN</td>\n",
       "      <td>2013-2014</td>\n",
       "      <td>2014-2015</td>\n",
       "      <td>NaN</td>\n",
       "      <td>1.0</td>\n",
       "      <td>1.0</td>\n",
       "      <td>1.0</td>\n",
       "      <td>0.0</td>\n",
       "    </tr>\n",
       "    <tr>\n",
       "      <th>5</th>\n",
       "      <td>male</td>\n",
       "      <td>Angel Axel</td>\n",
       "      <td>NaN</td>\n",
       "      <td>NaN</td>\n",
       "      <td>Stage</td>\n",
       "      <td>201284</td>\n",
       "      <td>NaN</td>\n",
       "      <td>NaN</td>\n",
       "      <td>2014-2015</td>\n",
       "      <td>NaN</td>\n",
       "      <td>1.0</td>\n",
       "      <td>1.0</td>\n",
       "      <td>1.0</td>\n",
       "      <td>0.0</td>\n",
       "    </tr>\n",
       "    <tr>\n",
       "      <th>7</th>\n",
       "      <td>female</td>\n",
       "      <td>Antic Jelena</td>\n",
       "      <td>NaN</td>\n",
       "      <td>NaN</td>\n",
       "      <td>Stage</td>\n",
       "      <td>233437</td>\n",
       "      <td>NaN</td>\n",
       "      <td>NaN</td>\n",
       "      <td>2014-2015</td>\n",
       "      <td>NaN</td>\n",
       "      <td>1.0</td>\n",
       "      <td>1.0</td>\n",
       "      <td>1.0</td>\n",
       "      <td>0.0</td>\n",
       "    </tr>\n",
       "    <tr>\n",
       "      <th>11</th>\n",
       "      <td>male</td>\n",
       "      <td>Antognini Marco</td>\n",
       "      <td>Foundations of Software</td>\n",
       "      <td>NaN</td>\n",
       "      <td>Présent</td>\n",
       "      <td>194182</td>\n",
       "      <td>NaN</td>\n",
       "      <td>2015-2016</td>\n",
       "      <td>2015-2016</td>\n",
       "      <td>2016-2017</td>\n",
       "      <td>2.0</td>\n",
       "      <td>3.0</td>\n",
       "      <td>1.0</td>\n",
       "      <td>1.0</td>\n",
       "    </tr>\n",
       "  </tbody>\n",
       "</table>\n",
       "</div>"
      ],
      "text/plain": [
       "    gender        full_name           specialization  \\\n",
       "1   female     Abbadi Hajar                      NaN   \n",
       "3     male     Ahmed Fayzan                      NaN   \n",
       "5     male       Angel Axel                      NaN   \n",
       "7   female     Antic Jelena                      NaN   \n",
       "11    male  Antognini Marco  Foundations of Software   \n",
       "\n",
       "                                                minor   status  sciper  ma1  \\\n",
       "1   Mineur en Management, technologie et entrepren...  Présent  238067  NaN   \n",
       "3                        Mineur en Neuroprosthétiques  Présent  235799  NaN   \n",
       "5                                                 NaN    Stage  201284  NaN   \n",
       "7                                                 NaN    Stage  233437  NaN   \n",
       "11                                                NaN  Présent  194182  NaN   \n",
       "\n",
       "          ma2        ma3     projma  count_ma1  count_ma2  count_ma3  \\\n",
       "1   2013-2014  2014-2015        NaN        1.0        1.0        1.0   \n",
       "3   2013-2014  2014-2015        NaN        1.0        1.0        1.0   \n",
       "5         NaN  2014-2015        NaN        1.0        1.0        1.0   \n",
       "7         NaN  2014-2015        NaN        1.0        1.0        1.0   \n",
       "11  2015-2016  2015-2016  2016-2017        2.0        3.0        1.0   \n",
       "\n",
       "    count_projma  \n",
       "1            0.0  \n",
       "3            0.0  \n",
       "5            0.0  \n",
       "7            0.0  \n",
       "11           1.0  "
      ]
     },
     "execution_count": 36,
     "metadata": {},
     "output_type": "execute_result"
    }
   ],
   "source": [
    "masters_df = pd.merge(ma1_df_concat, ma2_df_concat, how='outer')\n",
    "masters_df = pd.merge(masters_df, ma3_df_concat, how='outer')\n",
    "masters_df = pd.merge(masters_df, projma_df_concat, how='outer')\n",
    "\n",
    "masters_df = pd.merge(masters_df, count_ma1, how='outer')\n",
    "masters_df['count_ma1'] = masters_df['count_ma1'].fillna(value=0)\n",
    "masters_df = pd.merge(masters_df, count_ma2, how='outer')\n",
    "masters_df['count_ma2'] = masters_df['count_ma2'].fillna(value=0)\n",
    "masters_df = pd.merge(masters_df, count_ma3, how='outer')\n",
    "masters_df['count_ma3'] = masters_df['count_ma3'].fillna(value=0)\n",
    "masters_df = pd.merge(masters_df, count_projma, how='outer')\n",
    "masters_df['count_projma'] = masters_df['count_projma'].fillna(value=0)\n",
    "\n",
    "masters_df_all = masters_df.drop_duplicates(['sciper'], keep='last').copy()\n",
    "\n",
    "masters_df_all.head()"
   ]
  },
  {
   "cell_type": "markdown",
   "metadata": {
    "collapsed": true
   },
   "source": [
    "### Compute time spent in Master  (so far)"
   ]
  },
  {
   "cell_type": "code",
   "execution_count": 37,
   "metadata": {
    "collapsed": false
   },
   "outputs": [
    {
     "data": {
      "text/plain": [
       "array([ 18.,  42.,  36.,  24.,  30.,  12.,   6.,  48.])"
      ]
     },
     "execution_count": 37,
     "metadata": {},
     "output_type": "execute_result"
    }
   ],
   "source": [
    "columns = ['count_ma1', 'count_ma2', 'count_ma3', 'count_projma']\n",
    "masters_df_all['duration'] = masters_df_all.apply(compute_duration, axis=1, args=(columns,))\n",
    "msc_duration = masters_df_all['duration']\n",
    "msc_duration.unique()"
   ]
  },
  {
   "cell_type": "code",
   "execution_count": 38,
   "metadata": {
    "collapsed": false
   },
   "outputs": [
    {
     "data": {
      "text/plain": [
       "<matplotlib.text.Text at 0x10ada6f60>"
      ]
     },
     "execution_count": 38,
     "metadata": {},
     "output_type": "execute_result"
    },
    {
     "data": {
      "image/png": "[encoded data removed]",
      "text/plain": [
       "<matplotlib.figure.Figure at 0x10abc6518>"
      ]
     },
     "metadata": {},
     "output_type": "display_data"
    }
   ],
   "source": [
    "sns.distplot(msc_duration,kde=False,axlabel='Months spent in master - so far')\n",
    "plt.ylabel('num. of students')"
   ]
  },
  {
   "cell_type": "markdown",
   "metadata": {},
   "source": [
    "### Some stats\n",
    "\n",
    "We can know have some stats, about all students first :"
   ]
  },
  {
   "cell_type": "code",
   "execution_count": 39,
   "metadata": {
    "collapsed": false
   },
   "outputs": [
    {
     "data": {
      "text/plain": [
       "count    977.000000\n",
       "mean      17.312180\n",
       "std        7.832375\n",
       "min        6.000000\n",
       "25%       12.000000\n",
       "50%       18.000000\n",
       "75%       24.000000\n",
       "max       48.000000\n",
       "Name: duration, dtype: float64"
      ]
     },
     "execution_count": 39,
     "metadata": {},
     "output_type": "execute_result"
    }
   ],
   "source": [
    "msc_duration.describe()"
   ]
  },
  {
   "cell_type": "markdown",
   "metadata": {},
   "source": [
    "So the \"average stay\" for a master student at EPFL would be around 18 months.\n",
    "\n",
    "Now let's extract students with a specialization :"
   ]
  },
  {
   "cell_type": "code",
   "execution_count": 45,
   "metadata": {
    "collapsed": false,
    "scrolled": true
   },
   "outputs": [
    {
     "data": {
      "text/html": [
       "<div>\n",
       "<table border=\"1\" class=\"dataframe\">\n",
       "  <thead>\n",
       "    <tr style=\"text-align: right;\">\n",
       "      <th></th>\n",
       "      <th>gender</th>\n",
       "      <th>full_name</th>\n",
       "      <th>specialization</th>\n",
       "      <th>minor</th>\n",
       "      <th>status</th>\n",
       "      <th>sciper</th>\n",
       "      <th>ma1</th>\n",
       "      <th>ma2</th>\n",
       "      <th>ma3</th>\n",
       "      <th>projma</th>\n",
       "      <th>count_ma1</th>\n",
       "      <th>count_ma2</th>\n",
       "      <th>count_ma3</th>\n",
       "      <th>count_projma</th>\n",
       "      <th>duration</th>\n",
       "    </tr>\n",
       "  </thead>\n",
       "  <tbody>\n",
       "    <tr>\n",
       "      <th>11</th>\n",
       "      <td>male</td>\n",
       "      <td>Antognini Marco</td>\n",
       "      <td>Foundations of Software</td>\n",
       "      <td>NaN</td>\n",
       "      <td>Présent</td>\n",
       "      <td>194182</td>\n",
       "      <td>NaN</td>\n",
       "      <td>2015-2016</td>\n",
       "      <td>2015-2016</td>\n",
       "      <td>2016-2017</td>\n",
       "      <td>2.0</td>\n",
       "      <td>3.0</td>\n",
       "      <td>1.0</td>\n",
       "      <td>1.0</td>\n",
       "      <td>42.0</td>\n",
       "    </tr>\n",
       "    <tr>\n",
       "      <th>17</th>\n",
       "      <td>male</td>\n",
       "      <td>Ardelean Alexandru</td>\n",
       "      <td>Internet computing</td>\n",
       "      <td>NaN</td>\n",
       "      <td>Présent</td>\n",
       "      <td>238168</td>\n",
       "      <td>NaN</td>\n",
       "      <td>2013-2014</td>\n",
       "      <td>2014-2015</td>\n",
       "      <td>NaN</td>\n",
       "      <td>1.0</td>\n",
       "      <td>1.0</td>\n",
       "      <td>1.0</td>\n",
       "      <td>0.0</td>\n",
       "      <td>18.0</td>\n",
       "    </tr>\n",
       "    <tr>\n",
       "      <th>24</th>\n",
       "      <td>male</td>\n",
       "      <td>Bastin Cédric</td>\n",
       "      <td>Foundations of Software</td>\n",
       "      <td>NaN</td>\n",
       "      <td>Stage</td>\n",
       "      <td>204179</td>\n",
       "      <td>NaN</td>\n",
       "      <td>NaN</td>\n",
       "      <td>2014-2015</td>\n",
       "      <td>NaN</td>\n",
       "      <td>1.0</td>\n",
       "      <td>2.0</td>\n",
       "      <td>1.0</td>\n",
       "      <td>0.0</td>\n",
       "      <td>24.0</td>\n",
       "    </tr>\n",
       "    <tr>\n",
       "      <th>31</th>\n",
       "      <td>male</td>\n",
       "      <td>Beguet Eric</td>\n",
       "      <td>Foundations of Software</td>\n",
       "      <td>NaN</td>\n",
       "      <td>Stage</td>\n",
       "      <td>204103</td>\n",
       "      <td>NaN</td>\n",
       "      <td>2014-2015</td>\n",
       "      <td>NaN</td>\n",
       "      <td>NaN</td>\n",
       "      <td>1.0</td>\n",
       "      <td>2.0</td>\n",
       "      <td>1.0</td>\n",
       "      <td>0.0</td>\n",
       "      <td>24.0</td>\n",
       "    </tr>\n",
       "    <tr>\n",
       "      <th>36</th>\n",
       "      <td>male</td>\n",
       "      <td>Berdat Johan</td>\n",
       "      <td>Signals, Images and Interfaces</td>\n",
       "      <td>NaN</td>\n",
       "      <td>Stage</td>\n",
       "      <td>204393</td>\n",
       "      <td>NaN</td>\n",
       "      <td>NaN</td>\n",
       "      <td>2016-2017</td>\n",
       "      <td>NaN</td>\n",
       "      <td>2.0</td>\n",
       "      <td>3.0</td>\n",
       "      <td>2.0</td>\n",
       "      <td>0.0</td>\n",
       "      <td>42.0</td>\n",
       "    </tr>\n",
       "  </tbody>\n",
       "</table>\n",
       "</div>"
      ],
      "text/plain": [
       "   gender           full_name                  specialization minor   status  \\\n",
       "11   male     Antognini Marco         Foundations of Software   NaN  Présent   \n",
       "17   male  Ardelean Alexandru              Internet computing   NaN  Présent   \n",
       "24   male       Bastin Cédric         Foundations of Software   NaN    Stage   \n",
       "31   male         Beguet Eric         Foundations of Software   NaN    Stage   \n",
       "36   male        Berdat Johan  Signals, Images and Interfaces   NaN    Stage   \n",
       "\n",
       "    sciper  ma1        ma2        ma3     projma  count_ma1  count_ma2  \\\n",
       "11  194182  NaN  2015-2016  2015-2016  2016-2017        2.0        3.0   \n",
       "17  238168  NaN  2013-2014  2014-2015        NaN        1.0        1.0   \n",
       "24  204179  NaN        NaN  2014-2015        NaN        1.0        2.0   \n",
       "31  204103  NaN  2014-2015        NaN        NaN        1.0        2.0   \n",
       "36  204393  NaN        NaN  2016-2017        NaN        2.0        3.0   \n",
       "\n",
       "    count_ma3  count_projma  duration  \n",
       "11        1.0           1.0      42.0  \n",
       "17        1.0           0.0      18.0  \n",
       "24        1.0           0.0      24.0  \n",
       "31        1.0           0.0      24.0  \n",
       "36        2.0           0.0      42.0  "
      ]
     },
     "execution_count": 45,
     "metadata": {},
     "output_type": "execute_result"
    }
   ],
   "source": [
    "masters_df_spe = masters_df[masters_df.specialization.notnull()]\n",
    "masters_df_spe = masters_df_spe.drop_duplicates(['sciper'], keep='last')\n",
    "masters_df_spe['duration'] = masters_df_spe.apply(compute_duration, axis=1, args=(columns,))\n",
    "masters_df_spe.head()"
   ]
  },
  {
   "cell_type": "markdown",
   "metadata": {},
   "source": [
    "Then we can compute the \"average stay\" per specialization :"
   ]
  },
  {
   "cell_type": "code",
   "execution_count": 55,
   "metadata": {
    "collapsed": false
   },
   "outputs": [
    {
     "data": {
      "text/html": [
       "<div>\n",
       "<table border=\"1\" class=\"dataframe\">\n",
       "  <thead>\n",
       "    <tr style=\"text-align: right;\">\n",
       "      <th></th>\n",
       "      <th>count_ma1</th>\n",
       "      <th>count_ma2</th>\n",
       "      <th>count_ma3</th>\n",
       "      <th>count_projma</th>\n",
       "      <th>duration</th>\n",
       "    </tr>\n",
       "    <tr>\n",
       "      <th>specialization</th>\n",
       "      <th></th>\n",
       "      <th></th>\n",
       "      <th></th>\n",
       "      <th></th>\n",
       "      <th></th>\n",
       "    </tr>\n",
       "  </thead>\n",
       "  <tbody>\n",
       "    <tr>\n",
       "      <th>Biocomputing</th>\n",
       "      <td>0.333333</td>\n",
       "      <td>0.583333</td>\n",
       "      <td>1.166667</td>\n",
       "      <td>0.166667</td>\n",
       "      <td>13.500000</td>\n",
       "    </tr>\n",
       "    <tr>\n",
       "      <th>Computer Engineering - SP</th>\n",
       "      <td>1.000000</td>\n",
       "      <td>1.363636</td>\n",
       "      <td>1.045455</td>\n",
       "      <td>0.090909</td>\n",
       "      <td>21.000000</td>\n",
       "    </tr>\n",
       "    <tr>\n",
       "      <th>Computer Science Theory</th>\n",
       "      <td>1.000000</td>\n",
       "      <td>1.000000</td>\n",
       "      <td>1.000000</td>\n",
       "      <td>0.000000</td>\n",
       "      <td>18.000000</td>\n",
       "    </tr>\n",
       "    <tr>\n",
       "      <th>Data Analytics</th>\n",
       "      <td>1.125000</td>\n",
       "      <td>0.750000</td>\n",
       "      <td>0.500000</td>\n",
       "      <td>0.000000</td>\n",
       "      <td>14.250000</td>\n",
       "    </tr>\n",
       "    <tr>\n",
       "      <th>Foundations of Software</th>\n",
       "      <td>1.014493</td>\n",
       "      <td>1.478261</td>\n",
       "      <td>1.101449</td>\n",
       "      <td>0.101449</td>\n",
       "      <td>22.173913</td>\n",
       "    </tr>\n",
       "    <tr>\n",
       "      <th>Information Security - SP</th>\n",
       "      <td>1.000000</td>\n",
       "      <td>1.285714</td>\n",
       "      <td>1.000000</td>\n",
       "      <td>0.285714</td>\n",
       "      <td>21.428571</td>\n",
       "    </tr>\n",
       "    <tr>\n",
       "      <th>Internet Information Systems</th>\n",
       "      <td>1.000000</td>\n",
       "      <td>1.000000</td>\n",
       "      <td>1.000000</td>\n",
       "      <td>0.000000</td>\n",
       "      <td>18.000000</td>\n",
       "    </tr>\n",
       "    <tr>\n",
       "      <th>Internet computing</th>\n",
       "      <td>0.898148</td>\n",
       "      <td>1.407407</td>\n",
       "      <td>1.148148</td>\n",
       "      <td>0.101852</td>\n",
       "      <td>21.333333</td>\n",
       "    </tr>\n",
       "    <tr>\n",
       "      <th>Service science</th>\n",
       "      <td>1.000000</td>\n",
       "      <td>1.333333</td>\n",
       "      <td>1.000000</td>\n",
       "      <td>0.000000</td>\n",
       "      <td>20.000000</td>\n",
       "    </tr>\n",
       "    <tr>\n",
       "      <th>Signals, Images and Interfaces</th>\n",
       "      <td>0.868421</td>\n",
       "      <td>1.368421</td>\n",
       "      <td>1.157895</td>\n",
       "      <td>0.052632</td>\n",
       "      <td>20.684211</td>\n",
       "    </tr>\n",
       "    <tr>\n",
       "      <th>Software Systems</th>\n",
       "      <td>1.000000</td>\n",
       "      <td>1.222222</td>\n",
       "      <td>0.888889</td>\n",
       "      <td>0.111111</td>\n",
       "      <td>19.333333</td>\n",
       "    </tr>\n",
       "  </tbody>\n",
       "</table>\n",
       "</div>"
      ],
      "text/plain": [
       "                                count_ma1  count_ma2  count_ma3  count_projma  \\\n",
       "specialization                                                                  \n",
       "Biocomputing                     0.333333   0.583333   1.166667      0.166667   \n",
       "Computer Engineering - SP        1.000000   1.363636   1.045455      0.090909   \n",
       "Computer Science Theory          1.000000   1.000000   1.000000      0.000000   \n",
       "Data Analytics                   1.125000   0.750000   0.500000      0.000000   \n",
       "Foundations of Software          1.014493   1.478261   1.101449      0.101449   \n",
       "Information Security - SP        1.000000   1.285714   1.000000      0.285714   \n",
       "Internet Information Systems     1.000000   1.000000   1.000000      0.000000   \n",
       "Internet computing               0.898148   1.407407   1.148148      0.101852   \n",
       "Service science                  1.000000   1.333333   1.000000      0.000000   \n",
       "Signals, Images and Interfaces   0.868421   1.368421   1.157895      0.052632   \n",
       "Software Systems                 1.000000   1.222222   0.888889      0.111111   \n",
       "\n",
       "                                 duration  \n",
       "specialization                             \n",
       "Biocomputing                    13.500000  \n",
       "Computer Engineering - SP       21.000000  \n",
       "Computer Science Theory         18.000000  \n",
       "Data Analytics                  14.250000  \n",
       "Foundations of Software         22.173913  \n",
       "Information Security - SP       21.428571  \n",
       "Internet Information Systems    18.000000  \n",
       "Internet computing              21.333333  \n",
       "Service science                 20.000000  \n",
       "Signals, Images and Interfaces  20.684211  \n",
       "Software Systems                19.333333  "
      ]
     },
     "execution_count": 55,
     "metadata": {},
     "output_type": "execute_result"
    }
   ],
   "source": [
    "masters_df_spe_grp = masters_df_spe.groupby(masters_df_spe.specialization).mean()\n",
    "masters_df_spe_grp"
   ]
  },
  {
   "cell_type": "code",
   "execution_count": null,
   "metadata": {
    "collapsed": true
   },
   "outputs": [],
   "source": []
  }
 ],
 "metadata": {
  "anaconda-cloud": {},
  "kernelspec": {
   "display_name": "Python 3",
   "language": "python",
   "name": "python3"
  },
  "language_info": {
   "codemirror_mode": {
    "name": "ipython",
    "version": 3
   },
   "file_extension": ".py",
   "mimetype": "text/x-python",
   "name": "python",
   "nbconvert_exporter": "python",
   "pygments_lexer": "ipython3",
   "version": "3.5.2"
  }
 },
 "nbformat": 4,
 "nbformat_minor": 0
}
