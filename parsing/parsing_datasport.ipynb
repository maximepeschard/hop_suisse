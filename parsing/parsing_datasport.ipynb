{
 "cells": [
  {
   "cell_type": "markdown",
   "metadata": {},
   "source": [
    "# Parsing Data from [datasport.com](https://www.datasport.com/en/)"
   ]
  },
  {
   "cell_type": "markdown",
   "metadata": {},
   "source": [
    "We use postman to understand the parameters used by the url request, asked for the exercise.\n",
    "\n",
    "(However, notice that there are equivalent tools for other browser - for instance, for firefox:\n",
    "http://stackoverflow.com/questions/28997326/postman-addons-like-in-firefox)"
   ]
  },
  {
   "cell_type": "code",
   "execution_count": 1,
   "metadata": {
    "collapsed": true
   },
   "outputs": [],
   "source": [
    "# important modules for this HW\n",
    "import bs4 # doc: https://www.crummy.com/software/BeautifulSoup/bs4/doc/\n",
    "import requests as rq \n",
    "\n",
    "\n",
    "# previous useful modules\n",
    "%matplotlib inline\n",
    "import pandas as pd\n",
    "import numpy as np\n",
    "import matplotlib.pyplot as plt\n",
    "import seaborn as sns\n",
    "sns.set_context('notebook')"
   ]
  },
  {
   "cell_type": "code",
   "execution_count": 2,
   "metadata": {
    "collapsed": false
   },
   "outputs": [],
   "source": [
    "form_source = rq.get(\"https://www.datasport.com/en/\")\n",
    "form_soup = bs4.BeautifulSoup(form_source.text, \"html.parser\")\n",
    "# print(form_soup.prettify())"
   ]
  },
  {
   "cell_type": "markdown",
   "metadata": {},
   "source": [
    "Let's get all the `select` menus of the page, using the `find_all` method of *BeautifulSoup* which allows to search for all tags of a certain type."
   ]
  },
  {
   "cell_type": "code",
   "execution_count": 4,
   "metadata": {
    "collapsed": false
   },
   "outputs": [
    {
     "name": "stdout",
     "output_type": "stream",
     "text": [
      "4\n"
     ]
    }
   ],
   "source": [
    "selectors = form_soup.find_all('select')\n",
    "print(len(selectors))"
   ]
  },
  {
   "cell_type": "markdown",
   "metadata": {},
   "source": [
    "Most importantly, we can find out what each tag is about by printing the its `name` attribute :"
   ]
  },
  {
   "cell_type": "code",
   "execution_count": 5,
   "metadata": {
    "collapsed": false
   },
   "outputs": [
    {
     "name": "stdout",
     "output_type": "stream",
     "text": [
      "Select n°0 : etyp\n",
      "Select n°1 : eventmonth\n",
      "Select n°2 : eventyear\n",
      "Select n°3 : eventlocation\n"
     ]
    }
   ],
   "source": [
    "for num, s in enumerate(selectors):\n",
    "    print(\"Select n°{} : {}\".format(num, s.attrs['name']))"
   ]
  },
  {
   "cell_type": "code",
   "execution_count": 10,
   "metadata": {
    "collapsed": false,
    "scrolled": true
   },
   "outputs": [
    {
     "name": "stdout",
     "output_type": "stream",
     "text": [
      "etyp:\n",
      "- All [all]\n",
      "- ---- [all]\n",
      "- Cross-Country-Skiing [Cross-Country-Skiing]\n",
      "- Cycling [Cycling]\n",
      "- Cycling,MTB [Cycling,MTB]\n",
      "- Cycling,Others [Cycling,Others]\n",
      "- Duathlon [Duathlon]\n",
      "- Inline [Inline]\n",
      "- MTB [MTB]\n",
      "- MTB,Cycling [MTB,Cycling]\n",
      "- MTB,Cycling,Others [MTB,Cycling,Others]\n",
      "- MTB,Others [MTB,Others]\n",
      "- MTB,X-Hours [MTB,X-Hours]\n",
      "- Others [Others]\n",
      "- Others,Inline,Running,MTB [Others,Inline,Running,MTB]\n",
      "- Running [Running]\n",
      "- Running,Inline [Running,Inline]\n",
      "- Running,MTB [Running,MTB]\n",
      "- Running,MTB,Others [Running,MTB,Others]\n",
      "- Running,Skiing/Snowboard [Running,Skiing/Snowboard]\n",
      "- Running,Waffenlauf [Running,Waffenlauf]\n",
      "- Running,Walking [Running,Walking]\n",
      "- Running,Walking,MTB [Running,Walking,MTB]\n",
      "- Running,Walking,Others [Running,Walking,Others]\n",
      "- Running,X-Hours [Running,X-Hours]\n",
      "- Skiing/Snowboard [Skiing/Snowboard]\n",
      "- Triathlon [Triathlon]\n",
      "- Triathlon,Duathlon [Triathlon,Duathlon]\n",
      "- Triathlon,Others [Triathlon,Others]\n",
      "- Waffenlauf [Waffenlauf]\n",
      "- Walking [Walking]\n",
      "- X-Hours [X-Hours]\n",
      "- X-Hours,MTB [X-Hours,MTB]\n",
      "eventmonth:\n",
      "- All [all]\n",
      "- ---- [all]\n",
      "- 01 [01]\n",
      "- 02 [02]\n",
      "- 03 [03]\n",
      "- 04 [04]\n",
      "- 05 [05]\n",
      "- 06 [06]\n",
      "- 07 [07]\n",
      "- 08 [08]\n",
      "- 09 [09]\n",
      "- 10 [10]\n",
      "- 11 [11]\n",
      "- 12 [12]\n",
      "eventyear:\n",
      "- All [all]\n",
      "- ---- [all]\n",
      "- 2017 [2017]\n",
      "- 2016 [2016]\n",
      "- 2015 [2015]\n",
      "- 2014 [2014]\n",
      "- 2013 [2013]\n",
      "- 2012 [2012]\n",
      "- 2011 [2011]\n",
      "- 2010 [2010]\n",
      "- 2009 [2009]\n",
      "- 2008 [2008]\n",
      "- 2007 [2007]\n",
      "- 2006 [2006]\n",
      "- 2005 [2005]\n",
      "- 2004 [2004]\n",
      "- 2003 [2003]\n",
      "- 2002 [2002]\n",
      "- 2001 [2001]\n",
      "- 2000 [2000]\n",
      "- 1999 [1999]\n",
      "eventlocation:\n",
      "- All [all]\n",
      "- ---- [all]\n",
      "- Aargau [RCH-AG]\n",
      "- Appenzell Innerhoden [RCH-AI]\n",
      "- Bern [RCH-BE]\n",
      "- Basel-Landschaft [RCH-BL]\n",
      "- Basel-Stadt [RCH-BS]\n",
      "- Fribourg [RCH-FR]\n",
      "- Geneva [RCH-GE]\n",
      "- Glarus [RCH-GL]\n",
      "- Graubünden [RCH-GR]\n",
      "- Lucerne [RCH-LU]\n",
      "- Neuchâtel [RCH-NE]\n",
      "- Nidwalden [RCH-NW]\n",
      "- Obwalden [RCH-OW]\n",
      "- St. Gallen [RCH-SG]\n",
      "- Schaffhausen [RCH-SH]\n",
      "- Solothurn [RCH-SO]\n",
      "- Schwyz [RCH-SZ]\n",
      "- Thurgau [RCH-TG]\n",
      "- Ticino [RCH-TI]\n",
      "- Uri [RCH-UR]\n",
      "- Vaud [RCH-VD]\n",
      "- Valais [RCH-VS]\n",
      "- Zug [RCH-ZG]\n",
      "- Zurich [RCH-ZH]\n",
      "- Vienna [RA-W]\n",
      "- Upper Austria [RA-O]\n",
      "- Salzburg [RA-SA]\n",
      "- Tyrol [RA-T]\n",
      "- Vorarlberg [RA-V]\n",
      "- Styria [RA-ST]\n",
      "- Carinthia [RA-K]\n",
      "- Baden-Württemberg [RD-BW]\n",
      "- Bavaria [RD-BY]\n",
      "- Berlin [RD-BE]\n",
      "- Hamburg [RD-HH]\n",
      "- Hesse [RD-HE]\n",
      "- Lower Saxony [RD-NI]\n",
      "- North Rhine-Westphalia [RD-NW]\n",
      "- Rhineland-Palatinate [RD-RP]\n",
      "- Saarland [RD-SL]\n",
      "- Saxony-Anhalt [RD-ST]\n",
      "- Schleswig-Holstein [RD-SH]\n",
      "- Franche-Comté [RF-I]\n",
      "- Languedoc-Roussillon [RF-K]\n",
      "- Nord - Pas-De-Calais [RF-O]\n",
      "- Poitou-Charentes [RF-T]\n",
      "- Rhône-Alpes [RF-V]\n",
      "- French Islands [RF-W]\n",
      "- Lombardy [RI-LOM]\n",
      "- Piedmont [RI-PMN]\n",
      "- Trentino South Tyrol [RI-TAA]\n",
      "- Veneto [RI-VEN]\n",
      "- Flevoland [RNL-FL]\n",
      "- Friesland [RNL-FR]\n",
      "- Gelderland [RNL-GE]\n",
      "- Groningen [RNL-GR]\n",
      "- Zuid Holland [RNL-ZH]\n",
      "- Blekinge län [RS-K]\n",
      "- Dalarnas län [RS-W]\n",
      "- Gotlands län [RS-I]\n",
      "- Örebro län [RS-T]\n",
      "- Västra Götalands län [RS-O]\n",
      "- ---- [all]\n",
      "- Austria [CA]\n",
      "- Belgium [CB]\n",
      "- Canada [CCAN]\n",
      "- France [CF]\n",
      "- Germany [CD]\n",
      "- Italy [CI]\n",
      "- Liechtenstein [CFL]\n",
      "- Norway [CN]\n",
      "- Switzerland [CCH]\n",
      "- United States [CUSA]\n"
     ]
    }
   ],
   "source": [
    "for s in selectors:\n",
    "    options = s.find_all('option')\n",
    "    options_desc_values = [(o.text, o.attrs['value']) for o in options]\n",
    "    print(s.attrs['name'] + ':')\n",
    "    for (d,v) in options_desc_values:\n",
    "        print(\"- {} [{}]\".format(d,v))"
   ]
  },
  {
   "cell_type": "markdown",
   "metadata": {},
   "source": [
    "## Get all tables"
   ]
  },
  {
   "cell_type": "code",
   "execution_count": 25,
   "metadata": {
    "collapsed": false,
    "scrolled": true
   },
   "outputs": [
    {
     "name": "stdout",
     "output_type": "stream",
     "text": [
      "['http://services.datasport.com/1999/zkb/maennedorf', 'http://services.datasport.com/1999/lauf/kerzers', 'http://services.datasport.com/1999/lauf/luzern', 'http://services.datasport.com/1999/lauf/km20', 'http://services.datasport.com/1999/lauf/kehrsatz', 'http://services.datasport.com/1999/zkb/zumiker', 'http://services.datasport.com/1999/lauf/schwyz', 'http://services.datasport.com/1999/zkb/duebi', 'http://services.datasport.com/1999/lauf/muri', 'http://services.datasport.com/1999/lauf/blenio', 'http://services.datasport.com/1999/lauf/eiken', 'http://services.datasport.com/1999/lauf/langthun', 'http://services.datasport.com/1999/zkb/winterthur', 'http://services.datasport.com/1999/lauf/wohlen', 'http://services.datasport.com/1999/tdcn/neuchatel', 'http://services.datasport.com/1999/lauf/grüningen', 'http://services.datasport.com/1999/zkb/kloten', 'http://services.datasport.com/1999/waffenlauf/Wiedlisbach', 'http://services.datasport.com/1999/zkb/wyland', 'http://services.datasport.com/1999/lauf/frauenlauf', 'http://services.datasport.com/1999/lauf/biel', 'http://services.datasport.com/1999/velo/appen', 'http://services.datasport.com/1999/zkb/sihlwald', 'http://services.datasport.com/1999/lauf/nachtlau', 'http://services.datasport.com/1999/lauf/adelboden', 'http://services.datasport.com/1999/lauf/thunstadt', 'http://services.datasport.com/1999/lauf/engadin', 'http://services.datasport.com/1999/zkb/affoltern', 'http://services.datasport.com/1999/lauf/bielcity', 'http://services.datasport.com/1999/lauf/inferno', 'http://services.datasport.com/1999/lauf/defi', 'http://services.datasport.com/1999/lauf/zinal', 'http://services.datasport.com/1999/lauf/thyon', 'http://services.datasport.com/1999/lauf/madetswil', 'http://services.datasport.com/1999/lauf/altstaeter', 'http://services.datasport.com/1999/lauf/romont', 'http://services.datasport.com/1999/lauf/Greifenseelauf', 'http://services.datasport.com/1999/lauf/burgdorf', 'http://services.datasport.com/1999/lauf/gommer', 'http://services.datasport.com/1999/lauf/muensingen', 'http://services.datasport.com/1999/lauf/gallen', 'http://services.datasport.com/1999/lauf/zolikerberg', 'http://services.datasport.com/1999/zkb/panorama', 'http://services.datasport.com/1999/lauf/jungfrau', 'http://services.datasport.com/1999/lauf/bex', 'http://services.datasport.com/1999/lauf/baden', 'http://services.datasport.com/1999/lauf/lamara', 'http://services.datasport.com/1999/zkb/uetliberg', 'http://services.datasport.com/1999/lauf/brienzer', 'http://services.datasport.com/1999/lauf/schloss', 'http://services.datasport.com/1999/lauf/hallwil', 'http://services.datasport.com/1999/zkb/pfaeffikersee', 'http://services.datasport.com/1999/lauf/laufenburg', 'http://services.datasport.com/1999/lauf/morat/rangliste', 'http://services.datasport.com/1999/lauf/basel', 'http://services.datasport.com/1999/lauf/langenthal', 'http://services.datasport.com/1999/lauf/tenero', 'http://services.datasport.com/1999/lauf/glarus', 'http://services.datasport.com/1999/lauf/kyburg', 'http://services.datasport.com/1999/lauf/wallisellen', 'http://services.datasport.com/1999/lauf/gurten', 'http://services.datasport.com/1999/lauf/gippingen', 'http://services.datasport.com/1999/lauf/steinhlzli', 'http://services.datasport.com/1999/lauf/sion', 'http://services.datasport.com/1999/lauf/escalade', 'http://services.datasport.com/1999/lauf/gossau', 'http://services.datasport.com/2000/zkb/zhneujahr', 'http://services.datasport.com/2000/zkb/maennedorf', 'http://services.datasport.com/2000/lauf/kerzers', 'http://services.datasport.com/2000/lauf/km20', 'http://services.datasport.com/2000/lauf/kehrsatz', 'http://services.datasport.com/2000/lauf/tdcn', 'http://services.datasport.com/2000/lauf/muri', 'http://services.datasport.com/2000/lauf/blenio', 'http://services.datasport.com/2000/lauf/eiken', 'http://services.datasport.com/2000/lauf/tdcn', 'http://services.datasport.com/2000/lauf/schwyz', 'http://services.datasport.com/2000/zkb/zumiker', 'http://services.datasport.com/2000/zkb/gpduebendorf', 'http://services.datasport.com/2000/lauf/erlenbach', 'http://services.datasport.com/2000/lauf/winterthur', 'http://services.datasport.com/2000/lauf/langthun', 'http://services.datasport.com/2000/lauf/tdcn', 'http://services.datasport.com/2000/lauf/lenzburg', 'http://services.datasport.com/2000/lauf/tdcn', 'http://services.datasport.com/2000/lauf/chur', 'http://services.datasport.com/2000/lauf/tdcn', 'http://services.datasport.com/2000/waffenlauf/Wiedlisbach', 'http://services.datasport.com/2000/lauf/luzern', 'http://services.datasport.com/2000/lauf/tdcn', 'http://services.datasport.com/2000/lauf/toess', 'http://services.datasport.com/2000/zkb/wyland', 'http://services.datasport.com/2000/lauf/frauenlauf', 'http://services.datasport.com/2000/zkb/sihlwald', 'http://services.datasport.com/2000/lauf/biel', 'http://services.datasport.com/2000/lauf/wohlen', 'http://services.datasport.com/2000/velo/appen', 'http://services.datasport.com/2000/lauf/gruninger', 'http://services.datasport.com/2000/zkb/flughafen', 'http://services.datasport.com/2000/lauf/adelboden', 'http://services.datasport.com/2000/lauf/nachtlau', 'http://services.datasport.com/2000/lauf/thunstadt', 'http://services.datasport.com/2000/lauf/engadin', 'http://services.datasport.com/2000/lauf/bielcity', 'http://services.datasport.com/2000/lauf/inferno', 'http://services.datasport.com/2000/lauf/defi', 'http://services.datasport.com/2000/lauf/zinal', 'http://services.datasport.com/2000/lauf/thyon', 'http://services.datasport.com/2000/lauf/madetswil', 'http://services.datasport.com/2000/zkb/winterthur', 'http://services.datasport.com/2000/lauf/altstaeter', 'http://services.datasport.com/2000/lauf/burgdorf', 'http://services.datasport.com/2000/lauf/romont', 'http://services.datasport.com/2000/lauf/Greifenseelauf', 'http://services.datasport.com/2000/lauf/gommer', 'http://services.datasport.com/2000/lauf/gallen', 'http://services.datasport.com/2000/lauf/muensingen', 'http://services.datasport.com/2000/zkb/affoltern', 'http://services.datasport.com/2000/lauf/zolikerberg', 'http://services.datasport.com/2000/zkb/panorama', 'http://services.datasport.com/2000/lauf/jungfrau', 'http://services.datasport.com/2000/lauf/bex', 'http://services.datasport.com/2000/lauf/lamara', 'http://services.datasport.com/2000/zkb/uetliberg', 'http://services.datasport.com/2000/lauf/brienzer', 'http://services.datasport.com/2000/lauf/schloss', 'http://services.datasport.com/2000/lauf/hallwil', 'http://services.datasport.com/2000/zkb/pfaeffikersee', 'http://services.datasport.com/2000/lauf/laufenburg', 'http://services.datasport.com/2000/lauf/morat', 'http://services.datasport.com/2000/lauf/basel', 'http://services.datasport.com/2000/lauf/langenthal', 'http://services.datasport.com/2000/lauf/tenero', 'http://services.datasport.com/2000/lauf/glarus', 'http://services.datasport.com/2000/lauf/kyburg', 'http://services.datasport.com/2000/lauf/wallisellen', 'http://services.datasport.com/2000/lauf/gurten', 'http://services.datasport.com/2000/lauf/gippingen', 'http://services.datasport.com/2000/lauf/steinhlzli', 'http://services.datasport.com/2000/lauf/sion', 'http://services.datasport.com/2000/lauf/escalade', 'http://services.datasport.com/2000/lauf/gossau', 'http://services.datasport.com/2001/zkb/zhneujahr', 'http://services.datasport.com/2001/zkb/zumiker', 'http://services.datasport.com/2001/lauf/baden', 'http://services.datasport.com/2001/zkb/maennedorf', 'http://services.datasport.com/2001/lauf/kerzers', 'http://services.datasport.com/2001/lauf/cross-sm', 'http://services.datasport.com/2001/lauf/luzern', 'http://services.datasport.com/2001/lauf/kehrsatz', 'http://services.datasport.com/2001/lauf/tdcn/etape2', 'http://services.datasport.com/2001/lauf/tdcn/etape1', 'http://services.datasport.com/2001/lauf/muri', 'http://services.datasport.com/2001/lauf/blenio', 'http://services.datasport.com/2001/lauf/eiken', 'http://services.datasport.com/2001/zkb/gpduebendorf', 'http://services.datasport.com/2001/lauf/langthun', 'http://services.datasport.com/2001/zkb/flughafen', 'http://services.datasport.com/2001/lauf/tdcn/etape6', 'http://services.datasport.com/2001/lauf/winterthur', 'http://services.datasport.com/2001/lauf/lenzburg', 'http://services.datasport.com/2001/lauf/tdcn/etape5', 'http://services.datasport.com/2001/lauf/tdcn/etape4', 'http://services.datasport.com/2001/waffenlauf/wiedlisbach', 'http://services.datasport.com/2001/zkb/winterthur', 'http://services.datasport.com/2001/lauf/tdcn/etape3', 'http://services.datasport.com/2001/lauf/sempach', 'http://services.datasport.com/2001/lauf/toess', 'http://services.datasport.com/2001/lauf/montreux', 'http://services.datasport.com/2001/zkb/wyland', 'http://services.datasport.com/2001/lauf/frauenlauf', 'http://services.datasport.com/2001/zkb/sihlwald', 'http://services.datasport.com/2001/lauf/km20', 'http://services.datasport.com/2001/lauf/biel', 'http://services.datasport.com/2001/lauf/chur', 'http://services.datasport.com/2001/lauf/wohlen', 'http://services.datasport.com/2001/lauf/zuerimeitli', 'http://services.datasport.com/2001/lauf/adelboden', 'http://services.datasport.com/2001/lauf/nachtlauf', 'http://services.datasport.com/2001/lauf/jmprolog', 'http://services.datasport.com/2001/lauf/engadin', 'http://services.datasport.com/2001/lauf/thunstadt', 'http://services.datasport.com/2001/lauf/defi', 'http://services.datasport.com/2001/lauf/matterhorn', 'http://services.datasport.com/2001/lauf/inferno', 'http://services.datasport.com/2001/lauf/zinal', 'http://services.datasport.com/2001/lauf/thyon', 'http://services.datasport.com/2001/zkb/pfaeffiker', 'http://services.datasport.com/2001/lauf/bielcity', 'http://services.datasport.com/2001/lauf/Greifenseelauf', 'http://services.datasport.com/2001/lauf/altstaeter', 'http://services.datasport.com/2001/lauf/romont', 'http://services.datasport.com/2001/lauf/burgdorf', 'http://services.datasport.com/2001/lauf/herbstlauf', 'http://services.datasport.com/2001/lauf/gommer', 'http://services.datasport.com/2001/lauf/gallen', 'http://services.datasport.com/2001/lauf/muensingen', 'http://services.datasport.com/2001/zkb/affoltern', 'http://services.datasport.com/2001/zkb/panorama', 'http://services.datasport.com/2001/lauf/jungfrau', 'http://services.datasport.com/2001/lauf/lamara', 'http://services.datasport.com/2001/zkb/uetliberg', 'http://services.datasport.com/2001/lauf/brienzer', 'http://services.datasport.com/2001/lauf/schloss', 'http://services.datasport.com/2001/lauf/hallwil', 'http://services.datasport.com/2001/lauf/morat', 'http://services.datasport.com/2001/lauf/basel', 'http://services.datasport.com/2001/waffenlauf/frauenfeld', 'http://services.datasport.com/2001/lauf/langenthal', 'http://services.datasport.com/2001/lauf/tenero', 'http://services.datasport.com/2001/lauf/glarus', 'http://services.datasport.com/2001/lauf/kyburg', 'http://services.datasport.com/2001/lauf/wallisellen', 'http://services.datasport.com/2001/lauf/gurten', 'http://services.datasport.com/2001/lauf/gippingen', 'http://services.datasport.com/2001/lauf/silvester', 'http://services.datasport.com/2001/lauf/sion', 'http://services.datasport.com/2001/lauf/steinhlzli', 'http://services.datasport.com/2001/lauf/escalade', 'http://services.datasport.com/2001/lauf/gossau', 'http://services.datasport.com/2002/zkb/zhneujahr', 'http://services.datasport.com/2002/lauf/reuss', 'http://services.datasport.com/2002/lauf/brittnau', 'http://services.datasport.com/2002/lauf/eiken', 'http://services.datasport.com/2002/diverse/RollstuhlA5', 'http://services.datasport.com/2002/lauf/baden', 'http://services.datasport.com/2002/zkb/maennedorf', 'http://services.datasport.com/2002/lauf/kerzers', 'http://services.datasport.com/2002/lauf/cross-sm', 'http://services.datasport.com/2002/lauf/luzern', 'http://services.datasport.com/2002/lauf/km20', 'http://services.datasport.com/2002/lauf/kehrsatz', 'http://services.datasport.com/2002/lauf/tdcn/etape2', 'http://services.datasport.com/2002/lauf/tdcn/etape1', 'http://services.datasport.com/2002/zkb/zumiker', 'http://services.datasport.com/2002/zkb/gpduebendorf', 'http://services.datasport.com/2002/lauf/blenio', 'http://services.datasport.com/2002/lauf/winterthur', 'http://services.datasport.com/2002/lauf/langthun', 'http://services.datasport.com/2002/lauf/lenzburg', 'http://services.datasport.com/2002/lauf/tdcn/etape6', 'http://services.datasport.com/2002/lauf/wohlen', 'http://services.datasport.com/2002/lauf/tdcn/etape5', 'http://services.datasport.com/2002/zkb/flughafen', 'http://services.datasport.com/2002/lauf/tdcn/etape4', 'http://services.datasport.com/2002/waffenlauf/WL05', 'http://services.datasport.com/2002/zkb/winterthur', 'http://services.datasport.com/2002/lauf/tdcn/etape3', 'http://services.datasport.com/2002/lauf/montreux', 'http://services.datasport.com/2002/lauf/sempach', 'http://services.datasport.com/2002/lauf/toess', 'http://services.datasport.com/2002/zkb/wyland', 'http://services.datasport.com/2002/lauf/biel', 'http://services.datasport.com/2002/lauf/frauenlauf', 'http://services.datasport.com/2002/lauf/chur', 'http://services.datasport.com/2002/zkb/sihlwald', 'http://services.datasport.com/2002/lauf/nachtlauf', 'http://services.datasport.com/2002/lauf/zuerimeitli', 'http://services.datasport.com/2002/diverse/runs/weinfelden', 'http://services.datasport.com/2002/diverse/runs/samedan', 'http://services.datasport.com/2002/diverse/runs/lausanne', 'http://services.datasport.com/2002/lauf/zermattmarathon', 'http://services.datasport.com/2002/lauf/tdpv/etape3', 'http://services.datasport.com/2002/lauf/engadin', 'http://services.datasport.com/2002/lauf/frauenfeld', 'http://services.datasport.com/2002/lauf/tdpv/etape2', 'http://services.datasport.com/2002/lauf/matterhorn', 'http://services.datasport.com/2002/lauf/defi', 'http://services.datasport.com/2002/lauf/inferno', 'http://services.datasport.com/2002/lauf/defi_kids', 'http://services.datasport.com/2002/lauf/tdpv/etape3', 'http://services.datasport.com/2002/lauf/zinal', 'http://services.datasport.com/2002/lauf/thyon', 'http://services.datasport.com/2002/zkb/pfaeffiker', 'http://services.datasport.com/2002/lauf/Greifenseelauf', 'http://services.datasport.com/2002/lauf/altstaeter', 'http://services.datasport.com/2002/lauf/romont', 'http://services.datasport.com/2002/lauf/muensingen', 'http://services.datasport.com/2002/lauf/gallen', 'http://services.datasport.com/2002/zkb/affoltern', 'http://services.datasport.com/2002/lauf/burgdorf', 'http://services.datasport.com/2002/lauf/tdpv/etape5', 'http://services.datasport.com/2002/lauf/gommer', 'http://services.datasport.com/2002/lauf/jungfrau', 'http://services.datasport.com/2002/lauf/herbstlauf', 'http://services.datasport.com/2002/lauf/jmprolog', 'http://services.datasport.com/2002/lauf/tdpv/etape4', 'http://services.datasport.com/2002/lauf/thunstadt', 'http://services.datasport.com/2002/zkb/panorama', 'http://services.datasport.com/2002/zkb/uetliberg', 'http://services.datasport.com/2002/lauf/marathon_sm', 'http://services.datasport.com/2002/lauf/lamara', 'http://services.datasport.com/2002/lauf/brienzer', 'http://services.datasport.com/2002/lauf/schloss', 'http://services.datasport.com/2002/lauf/hallwil', 'http://services.datasport.com/2002/lauf/morat', 'http://services.datasport.com/2002/lauf/grenzlauf', 'http://services.datasport.com/2002/lauf/basel', 'http://services.datasport.com/2002/lauf/langenthal', 'http://services.datasport.com/2002/waffenlauf/WL16', 'http://services.datasport.com/2002/lauf/tenero', 'http://services.datasport.com/2002/lauf/glarus', 'http://services.datasport.com/2002/lauf/kyburg', 'http://services.datasport.com/2002/lauf/wallisellen', 'http://services.datasport.com/2002/lauf/gurten', 'http://services.datasport.com/2002/lauf/gippingen', 'http://services.datasport.com/2002/lauf/silvester', 'http://services.datasport.com/2002/lauf/sion', 'http://services.datasport.com/2002/lauf/escalade', 'http://services.datasport.com/2002/lauf/gossau', 'http://services.datasport.com/2002/lauf/steinhlzli', 'http://services.datasport.com/2003/zkb/zhneujahr', 'http://services.datasport.com/2003/lauf/reuss', 'http://services.datasport.com/2003/zkb/zumiker', 'http://services.datasport.com/2003/lauf/baden', 'http://services.datasport.com/2003/zkb/maennedorf', 'http://services.datasport.com/2003/lauf/kerzers', 'http://services.datasport.com/2003/lauf/sihltaler', 'http://services.datasport.com/2003/zkb/winterthur', 'http://services.datasport.com/2003/lauf/tdcn/etape2', 'http://services.datasport.com/2003/waffenlauf/WL05', 'http://services.datasport.com/2003/lauf/km20', 'http://services.datasport.com/2003/lauf/kehrsatz', 'http://services.datasport.com/2003/lauf/tdcn/etape1', 'http://services.datasport.com/2003/lauf/blenio', 'http://services.datasport.com/2003/lauf/eiken', 'http://services.datasport.com/2003/lauf/zuerich', 'http://services.datasport.com/2003/zkb/gpduebendorf', 'http://services.datasport.com/2003/lauf/lenzburg', 'http://services.datasport.com/2003/zkb/flughafen', 'http://services.datasport.com/2003/lauf/tdcn/etape6', 'http://services.datasport.com/2003/lauf/winterthur', 'http://services.datasport.com/2003/lauf/langthun', 'http://services.datasport.com/2003/lauf/tdcn/etape5', 'http://services.datasport.com/2003/lauf/tdcn/etape4', 'http://services.datasport.com/2003/lauf/tdcn/etape3', 'http://services.datasport.com/2003/lauf/luzern', 'http://services.datasport.com/2003/lauf/montreux', 'http://services.datasport.com/2003/lauf/grmarathon', 'http://services.datasport.com/2003/lauf/sempach', 'http://services.datasport.com/2003/lauf/toess', 'http://services.datasport.com/2003/zkb/wyland', 'http://services.datasport.com/2003/lauf/chur', 'http://services.datasport.com/2003/lauf/frauenlauf', 'http://services.datasport.com/2003/lauf/biel', 'http://services.datasport.com/2003/lauf/wohlen', 'http://services.datasport.com/2003/lauf/nachtlauf', 'http://services.datasport.com/2003/lauf/zermattmarathon', 'http://services.datasport.com/2003/lauf/rheinfall', 'http://services.datasport.com/2003/lauf/frauenfeld', 'http://services.datasport.com/2003/lauf/rubi', 'http://services.datasport.com/2003/lauf/herbstlauf', 'http://services.datasport.com/2003/lauf/tdpv/etape3', 'http://services.datasport.com/2003/lauf/engadin', 'http://services.datasport.com/2003/lauf/grenzlauf', 'http://services.datasport.com/2003/lauf/defi_kids', 'http://services.datasport.com/2003/lauf/defi', 'http://services.datasport.com/2003/lauf/tdpv/etape2', 'http://services.datasport.com/2003/lauf/matterhorn', 'http://services.datasport.com/2003/lauf/inferno', 'http://services.datasport.com/2003/lauf/tdpv/etape3', 'http://services.datasport.com/2003/lauf/zinal', 'http://services.datasport.com/2003/lauf/thyon', 'http://services.datasport.com/2003/zkb/pfaeffiker', 'http://services.datasport.com/2003/lauf/sensm03/', 'http://services.datasport.com/2003/lauf/romont', 'http://services.datasport.com/2003/lauf/Greifenseelauf', 'http://services.datasport.com/2003/lauf/gallen', 'http://services.datasport.com/2003/lauf/altstaeter', 'http://services.datasport.com/2003/lauf/gommer', 'http://services.datasport.com/2003/lauf/muensingen', 'http://services.datasport.com/2003/lauf/burgdorf', 'http://services.datasport.com/2003/zkb/affoltern', 'http://services.datasport.com/2003/lauf/tdpv/etape5', 'http://services.datasport.com/2003/zkb/panorama', 'http://services.datasport.com/2003/lauf/jungfrau', 'http://services.datasport.com/2003/lauf/jmprolog', 'http://services.datasport.com/2003/lauf/tdpv/etape4', 'http://services.datasport.com/2003/lauf/hmsm', 'http://services.datasport.com/2003/lauf/lamara', 'http://services.datasport.com/2003/lauf/bamar', 'http://services.datasport.com/2003/lauf/rer/', 'http://services.datasport.com/2003/zkb/uetliberg', 'http://services.datasport.com/2003/lauf/brienzer', 'http://services.datasport.com/2003/lauf/schloss', 'http://services.datasport.com/2003/lauf/hallwil', 'http://services.datasport.com/2003/lauf/morat', 'http://services.datasport.com/2003/lauf/basel', 'http://services.datasport.com/2003/lauf/langenthal', 'http://services.datasport.com/2003/waffenlauf/WL10', 'http://services.datasport.com/2003/lauf/tenero', 'http://services.datasport.com/2003/lauf/glarus', 'http://services.datasport.com/2003/lauf/kyburg', 'http://services.datasport.com/2003/lauf/wallisellen', 'http://services.datasport.com/2003/lauf/gurten', 'http://services.datasport.com/2003/lauf/gippingen', 'http://services.datasport.com/2003/lauf/silvester', 'http://services.datasport.com/2003/lauf/sion', 'http://services.datasport.com/2003/lauf/steinhlzli', 'http://services.datasport.com/2003/lauf/escalade', 'http://services.datasport.com/2003/lauf/gossau', 'http://services.datasport.com/2004/lauf/crossmeilen', 'http://services.datasport.com/2004/zkb/zhneujahr', 'http://services.datasport.com/2004/lauf/reuss', 'http://services.datasport.com/2004/zkb/zumiker', 'http://services.datasport.com/2004/lauf/baden', 'http://services.datasport.com/2004/lauf/kerzers', 'http://services.datasport.com/2004/zkb/maennedorf', 'http://services.datasport.com/2004/zkb/winterthur', 'http://services.datasport.com/2004/lauf/tdcn/etape2', 'http://services.datasport.com/2004/waffenlauf/wiedlisbacher', 'http://services.datasport.com/2004/lauf/luzern', 'http://services.datasport.com/2004/lauf/km20', 'http://services.datasport.com/2004/lauf/kehrsatz', 'http://services.datasport.com/2004/lauf/tdcn/etape1', 'http://services.datasport.com/2004/lauf/blenio', 'http://services.datasport.com/2004/lauf/eiken', 'http://services.datasport.com/2004/lauf/zuerich', 'http://services.datasport.com/2004/zkb/gpduebendorf', 'http://services.datasport.com/2004/lauf/wohlen', 'http://services.datasport.com/2004/lauf/tdcn/etape6', 'http://services.datasport.com/2004/lauf/lenzburg', 'http://services.datasport.com/2004/lauf/langthun', 'http://services.datasport.com/2004/zkb/flughafen', 'http://services.datasport.com/2004/lauf/tdcn/etape5', 'http://services.datasport.com/2004/lauf/winterthur', 'http://services.datasport.com/2004/lauf/flaeckelauf', 'http://services.datasport.com/2004/lauf/tdcn/etape4', 'http://services.datasport.com/2004/lauf/tdcn/etape3', 'http://services.datasport.com/2004/lauf/sihltaler', 'http://services.datasport.com/2004/lauf/gletscherlauf', 'http://services.datasport.com/2004/lauf/grmarathon', 'http://services.datasport.com/2004/lauf/sempach', 'http://services.datasport.com/2004/lauf/toess', 'http://services.datasport.com/2004/zkb/wyland', 'http://services.datasport.com/2004/lauf/frauenlauf', 'http://services.datasport.com/2004/lauf/biel', 'http://services.datasport.com/2004/lauf/chur', 'http://services.datasport.com/2004/lauf/aegeri', 'http://services.datasport.com/2004/lauf/zermattmarathon', 'http://services.datasport.com/2004/lauf/engadin', 'http://services.datasport.com/2004/lauf/rheinfall', 'http://services.datasport.com/2004/lauf/frauenfeld', 'http://services.datasport.com/2004/lauf/herbstlauf', 'http://services.datasport.com/2004/lauf/rubi', 'http://services.datasport.com/2004/lauf/tdpv/etape2', 'http://services.datasport.com/2004/lauf/matterhorn', 'http://services.datasport.com/2004/lauf/grenzlauf', 'http://services.datasport.com/2004/tri/inferno', 'http://services.datasport.com/2004/lauf/defi_kids', 'http://services.datasport.com/2004/lauf/defi', 'http://services.datasport.com/2004/lauf/tdpv/etape1', 'http://services.datasport.com/2004/lauf/zinal', 'http://services.datasport.com/2004/lauf/thyon', 'http://services.datasport.com/2004/zkb/pfaeffiker', 'http://services.datasport.com/2004/lauf/saxon', 'http://services.datasport.com/2004/lauf/carouge', 'http://services.datasport.com/2004/lauf/romont', 'http://services.datasport.com/2004/lauf/Greifenseelauf', 'http://services.datasport.com/2004/lauf/gallen', 'http://services.datasport.com/2004/lauf/tdpv/etape5', 'http://services.datasport.com/2004/lauf/gommer', 'http://services.datasport.com/2004/lauf/jungfrau', 'http://services.datasport.com/2004/lauf/muensingen', 'http://services.datasport.com/2004/lauf/altstaeter', 'http://services.datasport.com/2004/lauf/burgdorf', 'http://services.datasport.com/2004/zkb/affoltern', 'http://services.datasport.com/2004/lauf/jmprolog', 'http://services.datasport.com/2004/lauf/tdpv/etape4', 'http://services.datasport.com/2004/lauf/thunstadt', 'http://services.datasport.com/2004/zkb/panorama', 'http://services.datasport.com/2004/lauf/tdpv/etape3', 'http://services.datasport.com/2004/lauf/bamar', 'http://services.datasport.com/2004/lauf/lamara', 'http://services.datasport.com/2004/lauf/rer/', 'http://services.datasport.com/2004/zkb/uetliberg', 'http://services.datasport.com/2004/lauf/brienzer', 'http://services.datasport.com/2004/lauf/schloss', 'http://services.datasport.com/2004/lauf/hallwil', 'http://services.datasport.com/2004/lauf/morat', 'http://services.datasport.com/2004/lauf/bielercross', 'http://services.datasport.com/2004/lauf/pavees', 'http://services.datasport.com/2004/lauf/basel', 'http://services.datasport.com/2004/waffenlauf/frauenfelder', 'http://services.datasport.com/2004/lauf/langenthal', 'http://services.datasport.com/2004/lauf/tenero', 'http://services.datasport.com/2004/lauf/glarus', 'http://services.datasport.com/2004/lauf/gurten', 'http://services.datasport.com/2004/lauf/wallisellen', 'http://services.datasport.com/2004/lauf/kyburg', 'http://services.datasport.com/2004/lauf/gippingen', 'http://services.datasport.com/2004/lauf/silvester', 'http://services.datasport.com/2004/lauf/steinhlzli', 'http://services.datasport.com/2004/lauf/escalade', 'http://services.datasport.com/2004/lauf/gossau', 'http://services.datasport.com/2005/lauf/solidar', 'http://services.datasport.com/2005/zkb/zhneujahr', 'http://services.datasport.com/2005/lauf/neujahrsmarathon/', 'http://services.datasport.com/2005/lauf/reuss', 'http://services.datasport.com/2005/lauf/blenio', 'http://services.datasport.com/2005/lauf/eiken', 'http://services.datasport.com/2005/lauf/kerzers', 'http://services.datasport.com/2005/zkb/maennedorf', 'http://services.datasport.com/2005/zkb/winterthur', 'http://services.datasport.com/2005/lauf/luzern', 'http://services.datasport.com/2005/lauf/tdcn/etape2', 'http://services.datasport.com/2005/waffenlauf/wiedlisbacher', 'http://services.datasport.com/2005/lauf/km20', 'http://services.datasport.com/2005/lauf/kehrsatz', 'http://services.datasport.com/2005/lauf/tdcn/etape1', 'http://services.datasport.com/2005/zkb/gpduebendorf', 'http://services.datasport.com/2005/lauf/rotsee', 'http://services.datasport.com/2005/lauf/baden', 'http://services.datasport.com/2005/lauf/zuerich', 'http://services.datasport.com/2005/lauf/2bains', 'http://services.datasport.com/2005/lauf/lburger', 'http://services.datasport.com/2005/lauf/tdcn/etape6', 'http://services.datasport.com/2005/zkb/zumiker', 'http://services.datasport.com/2005/lauf/flaeckelauf', 'http://services.datasport.com/2005/lauf/tdcn/etape5', 'http://services.datasport.com/2005/lauf/wohlen', 'http://services.datasport.com/2005/lauf/tdcn/etape4', 'http://services.datasport.com/2005/zkb/flughafen', 'http://services.datasport.com/2005/lauf/tdcn/etape3', 'http://services.datasport.com/2005/lauf/sihltaler', 'http://services.datasport.com/2005/lauf/gletscherlauf', 'http://services.datasport.com/2005/lauf/montreux', 'http://services.datasport.com/2005/lauf/grmarathon', 'http://services.datasport.com/2005/lauf/sempach', 'http://services.datasport.com/2005/zkb/wyland', 'http://services.datasport.com/2005/lauf/biel', 'http://services.datasport.com/2005/lauf/frauenlauf', 'http://services.datasport.com/2005/lauf/innerschweiz', 'http://services.datasport.com/2005/lauf/chur', 'http://services.datasport.com/2005/lauf/aegeri', 'http://services.datasport.com/2005/diverse/trophy', 'http://services.datasport.com/2005/lauf/zermattmarathon', 'http://services.datasport.com/2005/lauf/tdpv/etape5', 'http://services.datasport.com/2005/lauf/baselcitymarathon', 'http://services.datasport.com/2005/lauf/thunstadt', 'http://services.datasport.com/2005/lauf/engadin', 'http://services.datasport.com/2005/lauf/maraalp/', 'http://services.datasport.com/2005/lauf/rheinfall', 'http://services.datasport.com/2005/lauf/frauenfeld', 'http://services.datasport.com/2005/lauf/herbstlauf', 'http://services.datasport.com/2005/lauf/rubi', 'http://services.datasport.com/2005/lauf/tdpv/lemont/', 'http://services.datasport.com/2005/lauf/matterhorn', 'http://services.datasport.com/2005/tri/inferno', 'http://services.datasport.com/2005/lauf/defi', 'http://services.datasport.com/2005/lauf/tdpv/payerne', 'http://services.datasport.com/2005/lauf/zinal', 'http://services.datasport.com/2005/lauf/muensingen', 'http://services.datasport.com/2005/lauf/thyon', 'http://services.datasport.com/2005/zkb/pfaeffiker', 'http://services.datasport.com/2005/lauf/zueriwalkt', 'http://services.datasport.com/2005/lauf/ewalk/', 'http://services.datasport.com/2005/lauf/smbiel', 'http://services.datasport.com/2005/lauf/carouge', 'http://services.datasport.com/2005/lauf/romont', 'http://services.datasport.com/2005/lauf/Greifenseelauf', 'http://services.datasport.com/2005/lauf/gallen', 'http://services.datasport.com/2005/lauf/tdpv-printanier/etape4', 'http://services.datasport.com/2005/lauf/gommer', 'http://services.datasport.com/2005/lauf/jungfrau', 'http://services.datasport.com/2005/lauf/altstaeter', 'http://services.datasport.com/2005/lauf/burgdorf', 'http://services.datasport.com/2005/zkb/affoltern', 'http://services.datasport.com/2005/lauf/jmprolog', 'http://services.datasport.com/2005/lauf/tdpv/chavornay', 'http://services.datasport.com/2005/zkb/panorama', 'http://services.datasport.com/2005/lauf/grenzlauf', 'http://services.datasport.com/2005/lauf/bamar', 'http://services.datasport.com/2005/lauf/lamara', 'http://services.datasport.com/2005/zkb/uetliberg', 'http://services.datasport.com/2005/lauf/brienzer', 'http://services.datasport.com/2005/lauf/hallwil', 'http://services.datasport.com/2005/lauf/schloss', 'http://services.datasport.com/2005/lauf/morat', 'http://services.datasport.com/2005/lauf/neerach', 'http://services.datasport.com/2005/lauf/bielercross', 'http://services.datasport.com/2005/lauf/basel', 'http://services.datasport.com/2005/waffenlauf/frauenfelder', 'http://services.datasport.com/2005/lauf/corrida', 'http://services.datasport.com/2005/lauf/langenthal', 'http://services.datasport.com/2005/lauf/derupe', 'http://services.datasport.com/2005/lauf/tenero', 'http://services.datasport.com/2005/lauf/glarus', 'http://services.datasport.com/2005/lauf/kyburg', 'http://services.datasport.com/2005/lauf/wallisellen', 'http://services.datasport.com/2005/lauf/gurten', 'http://services.datasport.com/2005/lauf/gippingen', 'http://services.datasport.com/2005/lauf/silvester', 'http://services.datasport.com/2005/lauf/sion', 'http://services.datasport.com/2005/lauf/steinhlzli', 'http://services.datasport.com/2005/lauf/escalade', 'http://services.datasport.com/2005/lauf/gossau', 'http://services.datasport.com/2006/zkb/zhneujahr', 'http://services.datasport.com/2006/lauf/arosa', 'http://services.datasport.com/2006/lauf/neujahrsmarathon/', 'http://services.datasport.com/2006/lauf/reuss', 'http://services.datasport.com/2006/lauf/snowwalk', 'http://services.datasport.com/2006/lauf/benken', 'http://services.datasport.com/2006/zkb/zumiker', 'http://services.datasport.com/2006/lauf/baden', 'http://services.datasport.com/2006/lauf/kerzers', 'http://services.datasport.com/2006/zkb/maennedorf', 'http://services.datasport.com/2006/lauf/onex', 'http://services.datasport.com/2006/zkb/winterthur', 'http://services.datasport.com/2006/waffenlauf/wiedlisbacher', 'http://services.datasport.com/2006/lauf/luzern', 'http://services.datasport.com/2006/lauf/kehrsatz', 'http://services.datasport.com/2006/lauf/tdcn/etape1', 'http://services.datasport.com/2006/lauf/km20', 'http://services.datasport.com/2006/lauf/blenio', 'http://services.datasport.com/2006/lauf/eiken', 'http://services.datasport.com/2006/lauf/zuerich', 'http://services.datasport.com/2006/zkb/gpduebendorf', 'http://services.datasport.com/2006/lauf/midnight', 'http://services.datasport.com/2006/lauf/rotsee', 'http://services.datasport.com/2006/lauf/birslauffr', 'http://services.datasport.com/2006/lauf/tdcn/etape6', 'http://services.datasport.com/2006/lauf/lburger', 'http://services.datasport.com/2006/zkb/flughafen', 'http://services.datasport.com/2006/lauf/tdcn/etape5', 'http://services.datasport.com/2006/lauf/flaeckelauf', 'http://services.datasport.com/2006/lauf/tdcn/etape4', 'http://services.datasport.com/2006/lauf/tdcn/etape3', 'http://services.datasport.com/2006/lauf/tdcn/etape2', 'http://services.datasport.com/2006/lauf/sihltaler', 'http://services.datasport.com/2006/lauf/derendingen', 'http://services.datasport.com/2006/lauf/gletscherlauf', 'http://services.datasport.com/2006/lauf/innerschweiz', 'http://services.datasport.com/2006/diverse/trophy', 'http://services.datasport.com/2006/lauf/murilauf', 'http://services.datasport.com/2006/lauf/montreux', 'http://services.datasport.com/2006/lauf/grmarathon', 'http://services.datasport.com/2006/zkb/wyland', 'http://services.datasport.com/2006/lauf/toess', 'http://services.datasport.com/2006/lauf/frauenlauf', 'http://services.datasport.com/2006/lauf/biel', 'http://services.datasport.com/2006/lauf/chur', 'http://services.datasport.com/2006/lauf/wohlen', 'http://services.datasport.com/2006/lauf/aegeri', 'http://services.datasport.com/2006/lauf/zermattmarathon', 'http://services.datasport.com/2006/lauf/sempach', 'http://services.datasport.com/2006/lauf/tdpv/aubonne/', 'http://services.datasport.com/2006/lauf/thunstadt', 'http://services.datasport.com/2006/lauf/engadin', 'http://services.datasport.com/2006/lauf/rheinfall', 'http://services.datasport.com/2006/lauf/maraalp/', 'http://services.datasport.com/2006/lauf/frauenfeld', 'http://services.datasport.com/2006/lauf/herbstlauf', 'http://services.datasport.com/2006/lauf/rubi', 'http://services.datasport.com/2006/lauf/birslaufhe', 'http://services.datasport.com/2006/lauf/defi', 'http://services.datasport.com/2006/lauf/tdpv/payerne', 'http://services.datasport.com/2006/lauf/matterhorn', 'http://services.datasport.com/2006/tri/inferno', 'http://services.datasport.com/2006/lauf/tdpv/lemont/', 'http://services.datasport.com/2006/lauf/zinal', 'http://services.datasport.com/2006/lauf/muensingen', 'http://services.datasport.com/2006/lauf/thyon', 'http://services.datasport.com/2006/lauf/morat', 'http://services.datasport.com/2006/zkb/pfaeffiker', 'http://services.datasport.com/2006/lauf/zueriwalkt', 'http://services.datasport.com/2006/lauf/neerach', 'http://services.datasport.com/2006/lauf/2bains', 'http://services.datasport.com/2006/lauf/2bainswm', 'http://services.datasport.com/2006/lauf/carouge', 'http://services.datasport.com/2006/lauf/gallen', 'http://services.datasport.com/2006/lauf/smbenken', 'http://services.datasport.com/2006/lauf/ewalk/', 'http://services.datasport.com/2006/lauf/Greifenseelauf', 'http://services.datasport.com/2006/lauf/tdpv/etape5', 'http://services.datasport.com/2006/lauf/jungfrau', 'http://services.datasport.com/2006/lauf/altstaeter', 'http://services.datasport.com/2006/zkb/affoltern', 'http://services.datasport.com/2006/lauf/burgdorf', 'http://services.datasport.com/2006/lauf/jmprolog', 'http://services.datasport.com/2006/lauf/tdpv/chavornay', 'http://services.datasport.com/2006/lauf/baselcitymarathon', 'http://services.datasport.com/2006/zkb/panorama', 'http://services.datasport.com/2006/lauf/grenzlauf', 'http://services.datasport.com/2006/lauf/glarus', 'http://services.datasport.com/2006/lauf/bamar', 'http://services.datasport.com/2006/lauf/lamara', 'http://services.datasport.com/2006/zkb/uetliberg', 'http://services.datasport.com/2006/lauf/brienzer', 'http://services.datasport.com/2006/lauf/hallwil', 'http://services.datasport.com/2006/lauf/schloss', 'http://services.datasport.com/2006/lauf/attiswil', 'http://services.datasport.com/2006/lauf/morat', 'http://services.datasport.com/2006/lauf/bielercross', 'http://services.datasport.com/2006/lauf/basel', 'http://services.datasport.com/2006/waffenlauf/frauenfelder', 'http://services.datasport.com/2006/lauf/corrida', 'http://services.datasport.com/2006/lauf/langenthal', 'http://services.datasport.com/2006/lauf/tenero', 'http://services.datasport.com/2006/lauf/kyburg', 'http://services.datasport.com/2006/lauf/wallisellen', 'http://services.datasport.com/2006/lauf/gurten', 'http://services.datasport.com/2006/lauf/gippingen', 'http://services.datasport.com/2006/lauf/corrne', 'http://services.datasport.com/2006/lauf/silvester', 'http://services.datasport.com/2006/lauf/sion', 'http://services.datasport.com/2006/lauf/steinhlzli', 'http://services.datasport.com/2006/lauf/escalade', 'http://services.datasport.com/2006/lauf/gossau', 'http://services.datasport.com/2007/zkb/zhneujahr', 'http://services.datasport.com/2007/lauf/arosa', 'http://services.datasport.com/2007/lauf/neujahrsmarathon/', 'http://services.datasport.com/2007/lauf/reuss', 'http://services.datasport.com/2007/lauf/kidsmarathon', 'http://services.datasport.com/2007/zkb/zumiker', 'http://services.datasport.com/2007/lauf/baden', 'http://services.datasport.com/2007/lauf/birslauffr', 'http://services.datasport.com/2007/lauf/kerzers', 'http://services.datasport.com/2007/zkb/maennedorf', 'http://services.datasport.com/2007/lauf/tower', 'http://services.datasport.com/2007/zkb/winterthur', 'http://services.datasport.com/2007/waffenlauf/wiedlisbacher', 'http://services.datasport.com/2007/lauf/luzern', 'http://services.datasport.com/2007/lauf/km20', 'http://services.datasport.com/2007/lauf/kehrsatz', 'http://services.datasport.com/2007/lauf/tdcn/etape1', 'http://services.datasport.com/2007/lauf/rotsee', 'http://services.datasport.com/2007/lauf/lugano', 'http://services.datasport.com/2007/zkb/gpduebendorf', 'http://services.datasport.com/2007/lauf/blenio', 'http://services.datasport.com/2007/lauf/eiken', 'http://services.datasport.com/2007/lauf/zuerich', 'http://services.datasport.com/2007/diverse/tzampata', 'http://services.datasport.com/2007/lauf/tdcn/etape6', 'http://services.datasport.com/2007/lauf/wohlen', 'http://services.datasport.com/2007/lauf/tdcn/etape5', 'http://services.datasport.com/2007/lauf/winterthur', 'http://services.datasport.com/2007/lauf/dreilaender', 'http://services.datasport.com/2007/lauf/lburger', 'http://services.datasport.com/2007/zkb/flughafen', 'http://services.datasport.com/2007/lauf/tdcn/etape4', 'http://services.datasport.com/2007/lauf/tdcn/etape3', 'http://services.datasport.com/2007/lauf/flaeckelauf', 'http://services.datasport.com/2007/lauf/tdcn/etape2', 'http://services.datasport.com/2007/lauf/sihltaler', 'http://services.datasport.com/2007/lauf/sempach', 'http://services.datasport.com/2007/diverse/trophy', 'http://services.datasport.com/2007/lauf/derendingen', 'http://services.datasport.com/2007/lauf/gletscherlauf', 'http://services.datasport.com/2007/lauf/montreux', 'http://services.datasport.com/2007/lauf/murilauf', 'http://services.datasport.com/2007/lauf/full', 'http://services.datasport.com/2007/lauf/grmarathon', 'http://services.datasport.com/2007/lauf/fetene', 'http://services.datasport.com/2007/zkb/wyland', 'http://services.datasport.com/2007/lauf/defi', 'http://services.datasport.com/2007/lauf/biel', 'http://services.datasport.com/2007/lauf/toess', 'http://services.datasport.com/2007/lauf/frauenlauf', 'http://services.datasport.com/2007/lauf/sierremontana', 'http://services.datasport.com/2007/lauf/chur', 'http://services.datasport.com/2007/lauf/baldegger', 'http://services.datasport.com/2007/diverse/tzampata', 'http://services.datasport.com/2007/lauf/alpages', 'http://services.datasport.com/2007/lauf/aegeri', 'http://services.datasport.com/2007/lauf/zermattmarathon', 'http://services.datasport.com/2007/lauf/tdpv/aubonne/', 'http://services.datasport.com/2007/lauf/liestal', 'http://services.datasport.com/2007/lauf/thunstadt', 'http://services.datasport.com/2007/lauf/engadin', 'http://services.datasport.com/2007/lauf/fitevent', 'http://services.datasport.com/2007/lauf/moehlin', 'http://services.datasport.com/2007/lauf/rheinfall', 'http://services.datasport.com/2007/lauf/maraalp/', 'http://services.datasport.com/2007/lauf/frauenfeld', 'http://services.datasport.com/2007/lauf/herbstlauf', 'http://services.datasport.com/2007/lauf/rubi', 'http://services.datasport.com/2007/lauf/tdpv/payerne', 'http://services.datasport.com/2007/lauf/emme', 'http://services.datasport.com/2007/lauf/matterhorn', 'http://services.datasport.com/2007/tri/inferno', 'http://services.datasport.com/2007/lauf/tdpv/lemont/', 'http://services.datasport.com/2007/lauf/zinal', 'http://services.datasport.com/2007/lauf/muensingen', 'http://services.datasport.com/2007/lauf/thyon', 'http://services.datasport.com/2007/zkb/pfaeffiker', 'http://services.datasport.com/2007/lauf/neerach', 'http://services.datasport.com/2007/lauf/neerach/Ausschreibung.pdf', 'http://services.datasport.com/2007/lauf/carouge', 'http://services.datasport.com/2007/lauf/zueriwalkt', 'http://services.datasport.com/2007/lauf/zueriwalkt', 'http://services.datasport.com/2007/lauf/stralugano', 'http://services.datasport.com/2007/lauf/Greifenseelauf', 'http://services.datasport.com/2007/lauf/gallen', 'http://services.datasport.com/2007/lauf/cmm', 'http://services.datasport.com/2007/lauf/burgdorf', 'http://services.datasport.com/2007', 'http://services.datasport.com/2007/lauf/tdpv/lasarraz', 'http://services.datasport.com/2007/lauf/jungfrau', 'http://services.datasport.com/2007/lauf/altstaeter', 'http://services.datasport.com/2007/zkb/affoltern', 'http://services.datasport.com/2007/lauf/birslaufhe', 'http://services.datasport.com/2007/lauf/mmc', 'http://services.datasport.com/2007/lauf/jmprolog', 'http://services.datasport.com/2007/lauf/tdpv/chavornay', 'http://services.datasport.com/2007/zkb/panorama', 'http://services.datasport.com/2007/lauf/lucernemarathon', 'http://services.datasport.com/2007/lauf/glarus', 'http://services.datasport.com/2007/lauf/bamar', 'http://services.datasport.com/2007/lauf/lamara', 'http://services.datasport.com/2007/zkb/uetliberg', 'http://services.datasport.com/2007/lauf/attiswil', 'http://services.datasport.com/2007/lauf/bueren', 'http://services.datasport.com/2007/lauf/brienzer', 'http://services.datasport.com/2007/lauf/hallwil', 'http://services.datasport.com/2007/lauf/schloss', 'http://services.datasport.com/2007/lauf/morat', 'http://services.datasport.com/2007/lauf/bielercross', 'http://services.datasport.com/2007/lauf/basel', 'http://services.datasport.com/2007/waffenlauf/frauenfelder', 'http://services.datasport.com/2007/lauf/corrida', 'http://services.datasport.com/2007/lauf/langenthal', 'http://services.datasport.com/2007/lauf/tenero', 'http://services.datasport.com/2007/lauf/kyburg', 'http://services.datasport.com/2007/lauf/wallisellen', 'http://services.datasport.com/2007/lauf/gurten', 'http://services.datasport.com/2007/lauf/gippingen', 'http://services.datasport.com/2007/lauf/midnight', 'http://services.datasport.com/2007/lauf/silvester', 'http://services.datasport.com/2007/lauf/corrne', 'http://services.datasport.com/2007/lauf/sion', 'http://services.datasport.com/2007/lauf/steinhlzli', 'http://services.datasport.com/2007/lauf/escalade', 'http://services.datasport.com/2007/lauf/gossau', 'http://services.datasport.com/2007/lauf/chlaus', 'http://services.datasport.com/2008/zkb/zhneujahr', 'http://services.datasport.com/2008/lauf/arosa', 'http://services.datasport.com/2008/lauf/neujahrsmarathon/', 'http://services.datasport.com/2008/lauf/reuss', 'http://services.datasport.com/2008/lauf/CISM', 'http://services.datasport.com/2008/lauf/tower', 'http://services.datasport.com/2008/lauf/baden', 'http://services.datasport.com/2008/lauf/blenio', 'http://services.datasport.com/2008/lauf/eiken', 'http://services.datasport.com/2008/lauf/presinge', 'http://services.datasport.com/2008/lauf/kerzers', 'http://services.datasport.com/2008/zkb/maennedorf', 'http://services.datasport.com/2008/lauf/crosssm', 'http://services.datasport.com/2008/lauf/vkerzers', 'http://services.datasport.com/2008/zkb/winterthur', 'http://services.datasport.com/2008/lauf/tdcn/etape2', 'http://services.datasport.com/2008/waffenlauf/wiedlisbacher', 'http://services.datasport.com/2008/lauf/luzern', 'http://services.datasport.com/2008/lauf/km20', 'http://services.datasport.com/2008/lauf/kehrsatz', 'http://services.datasport.com/2008/lauf/buendner', 'http://services.datasport.com/2008/lauf/tdcn/etape1', 'http://services.datasport.com/2008/lauf/zuerich', 'http://services.datasport.com/2008/lauf/rotsee', 'http://services.datasport.com/2008/lauf/lugano', 'http://services.datasport.com/2008/lauf/traines', 'http://services.datasport.com/2008/zkb/gpduebendorf', 'http://services.datasport.com/2008/lauf/birslauffr', 'http://services.datasport.com/2008/diverse/tzampata', 'http://services.datasport.com/2008/lauf/baldegger', 'http://services.datasport.com/2008/lauf/chur', 'http://services.datasport.com/2008/lauf/bolligen', 'http://services.datasport.com/2008/lauf/tdcn/etape6', 'http://services.datasport.com/2008/lauf/bluemlisalp', 'http://services.datasport.com/2008/zkb/zumiker', 'http://services.datasport.com/2008/lauf/lburger', 'http://services.datasport.com/2008/lauf/tdcn/etape5', 'http://services.datasport.com/2008/lauf/winterthur', 'http://services.datasport.com/2008/lauf/dreilaender', 'http://services.datasport.com/2008/lauf/flaeckelauf', 'http://services.datasport.com/2008/lauf/zofinger', 'http://services.datasport.com/2008/lauf/tdcn/etape4', 'http://services.datasport.com/2008/lauf/wohlen', 'http://services.datasport.com/2008/lauf/tdcn/etape3', 'http://services.datasport.com/2008/zkb/flughafen', 'http://services.datasport.com/2008/lauf/sihltaler', 'http://services.datasport.com/2008/lauf/gletscherlauf', 'http://services.datasport.com/2008/lauf/murilauf', 'http://services.datasport.com/2008/lauf/montreux', 'http://services.datasport.com/2008/lauf/grmarathon', 'http://services.datasport.com/2008/lauf/sempach', 'http://services.datasport.com/2008/diverse/trophy', 'http://services.datasport.com/2008/lauf/derendingen', 'http://services.datasport.com/2008/lauf/defi', 'http://services.datasport.com/2008/lauf/cuorsadilrein', 'http://services.datasport.com/2008/zkb/wyland', 'http://services.datasport.com/2008/lauf/biel', 'http://services.datasport.com/2008/lauf/toess', 'http://services.datasport.com/2008/lauf/gempen', 'http://services.datasport.com/2008/lauf/frauenlauf', 'http://services.datasport.com/2008/lauf/aegeri', 'http://services.datasport.com/2008/lauf/zermattmarathon', 'http://services.datasport.com/2008/lauf/fitevent', 'http://services.datasport.com/2008/lauf/frauenfeld', 'http://services.datasport.com/2008/lauf/maraalp/', 'http://services.datasport.com/2008/lauf/herbstlauf', 'http://services.datasport.com/2008/lauf/mandement', 'http://services.datasport.com/2008/lauf/attiswil', 'http://services.datasport.com/2008/lauf/tdpv/aubonne/', 'http://services.datasport.com/2008/lauf/liestal', 'http://services.datasport.com/2008/lauf/engadin', 'http://services.datasport.com/2008/lauf/thunstadt', 'http://services.datasport.com/2008/lauf/laufen', 'http://services.datasport.com/2008/lauf/matterhorn', 'http://services.datasport.com/2008/tri/inferno', 'http://services.datasport.com/2008/lauf/emme', 'http://services.datasport.com/2008/lauf/tdpv/genolier', 'http://services.datasport.com/2008/lauf/tdpv/lemont/', 'http://services.datasport.com/2008/lauf/zinal', 'http://services.datasport.com/2008/lauf/muensingen', 'http://services.datasport.com/2008/lauf/glacier3000', 'http://services.datasport.com/2008/lauf/thyon', 'http://services.datasport.com/2008/zkb/pfaeffiker', 'http://services.datasport.com/2008/lauf/gallen', 'http://services.datasport.com/2008/lauf/stralugano', 'http://services.datasport.com/2008/lauf/Greifenseelauf', 'http://services.datasport.com/2008/lauf/carouge', 'http://services.datasport.com/2008/lauf/sierremontana', 'http://services.datasport.com/2008/lauf/neerach', 'http://services.datasport.com/2008/lauf/neerach/Ausschreibung08.pdf', 'http://services.datasport.com/2008/lauf/altstaeter', 'http://services.datasport.com/2008/lauf/burgdorf', 'http://services.datasport.com/2008/zkb/affoltern', 'http://services.datasport.com/2008/lauf/tdpv/lasarraz', 'http://services.datasport.com/2008/lauf/jungfrau', 'http://services.datasport.com/2008/zkb/rueti', 'http://services.datasport.com/2008/lauf/mmc', 'http://services.datasport.com/2008/lauf/birslaufhe', 'http://services.datasport.com/2008/lauf/jmprolog', 'http://services.datasport.com/2008/lauf/tdpv/chavornay', 'http://services.datasport.com/2008/lauf/lamara', 'http://services.datasport.com/2008/lauf/lucernemarathon', 'http://services.datasport.com/2008/lauf/glarus', 'http://services.datasport.com/2008/lauf/bamar', 'http://services.datasport.com/2008/lauf/burgherbst', 'http://services.datasport.com/2008/lauf/bremgarten', 'http://services.datasport.com/2008/zkb/uetliberg', 'http://services.datasport.com/2008/lauf/bueren', 'http://services.datasport.com/2008/lauf/brienzer', 'http://services.datasport.com/2008/lauf/schloss', 'http://services.datasport.com/2008/lauf/hallwil', 'http://services.datasport.com/2008/lauf/morat', 'http://services.datasport.com/2008/lauf/bielercross', 'http://services.datasport.com/2008/lauf/basel', 'http://services.datasport.com/2008/lauf/langenthal', 'http://services.datasport.com/2008/waffenlauf/frauenfelder', 'http://services.datasport.com/2008/lauf/corrida', 'http://services.datasport.com/2008/lauf/tenero', 'http://services.datasport.com/2008/lauf/kyburg', 'http://services.datasport.com/2008/lauf/wallisellen', 'http://services.datasport.com/2008/lauf/gurten', 'http://services.datasport.com/2008/lauf/gippingen', 'http://services.datasport.com/2008/lauf/midnight', 'http://services.datasport.com/2008/lauf/trotteuse', 'http://services.datasport.com/2008/lauf/silvester', 'http://services.datasport.com/2008/lauf/sion', 'http://services.datasport.com/2008/lauf/leysin', 'http://services.datasport.com/2008/lauf/steinhlzli', 'http://services.datasport.com/2008/lauf/escalade', 'http://services.datasport.com/2008/lauf/gossau', 'http://services.datasport.com/2008/lauf/chlaus', 'http://services.datasport.com/2009/zkb/zhneujahr', 'http://services.datasport.com/2009/lauf/arosa', 'http://services.datasport.com/2009/lauf/neujahrsmarathon/', 'http://services.datasport.com/2009/lauf/reuss', 'http://services.datasport.com/2009/lauf/tower', 'http://services.datasport.com/2009/zkb/zumiker', 'http://services.datasport.com/2009/lauf/baden', 'http://services.datasport.com/2009/lauf/sm10km09', 'http://services.datasport.com/2009/lauf/presinge', 'http://services.datasport.com/2009/lauf/kerzers', 'http://services.datasport.com/2009/zkb/maennedorf', 'http://services.datasport.com/2009/zkb/winterthur', 'http://services.datasport.com/2009/lauf/smcross', 'http://services.datasport.com/2009/lauf/tdcn/etape2', 'http://services.datasport.com/2009/lauf/zuerich', 'http://services.datasport.com/2009/lauf/tunnel', 'http://services.datasport.com/2009/lauf/luzern', 'http://services.datasport.com/2009/lauf/km20', 'http://services.datasport.com/2009/lauf/buendner', 'http://services.datasport.com/2009/lauf/tdcn/etape1', 'http://services.datasport.com/2009/lauf/lugano', 'http://services.datasport.com/2009/lauf/blenio', 'http://services.datasport.com/2009/lauf/eiken', 'http://services.datasport.com/2009/zkb/gpduebendorf', 'http://services.datasport.com/2009/lauf/kehrsatz', 'http://services.datasport.com/2009/lauf/traines', 'http://services.datasport.com/2009/lauf/rotsee', 'http://services.datasport.com/2009/lauf/birslauffr', 'http://services.datasport.com/2009/lauf/bluemlisalp', 'http://services.datasport.com/2009/lauf/wohlen', 'http://services.datasport.com/2009/lauf/tdcn/etape6', 'http://services.datasport.com/2009/lauf/winterthur', 'http://services.datasport.com/2009/lauf/lburger', 'http://services.datasport.com/2009/zkb/flughafen', 'http://services.datasport.com/2009/lauf/tdcn/etape5', 'http://services.datasport.com/2009/lauf/dreilaender', 'http://services.datasport.com/2009/lauf/flaeckelauf', 'http://services.datasport.com/2009/lauf/zofinger', 'http://services.datasport.com/2009/lauf/minitrotteuse', 'http://services.datasport.com/2009/lauf/tdcn/etape4', 'http://services.datasport.com/2009/lauf/crossrun', 'http://services.datasport.com/2009/lauf/tdcn/etape3', 'http://services.datasport.com/2009/lauf/bischofszell', 'http://services.datasport.com/2009/lauf/sihltaler', 'http://services.datasport.com/2009/lauf/gletscherlauf', 'http://services.datasport.com/2009/lauf/murilauf', 'http://services.datasport.com/2009/lauf/grmarathon', 'http://services.datasport.com/2009/lauf/sempach', 'http://services.datasport.com/2009/lauf/derendingen', 'http://services.datasport.com/2009/lauf/maennlichen', 'http://services.datasport.com/2009/lauf/appenzellerlauf', 'http://services.datasport.com/2009/diverse/trophy', 'http://services.datasport.com/2009/zkb/wyland', 'http://services.datasport.com/2009/lauf/defi', 'http://services.datasport.com/2009/lauf/defi', 'http://services.datasport.com/2009/lauf/frauenlauf', 'http://services.datasport.com/2009/lauf/biel', 'http://services.datasport.com/2009/lauf/toess', 'http://services.datasport.com/2009/lauf/cuorsadilrein', 'http://services.datasport.com/2009/lauf/baldegger', 'http://services.datasport.com/2009/lauf/chur', 'http://services.datasport.com/2009/lauf/gempen', 'http://services.datasport.com/2009/lauf/aegeri', 'http://services.datasport.com/2009/lauf/montreux', 'http://services.datasport.com/2009/lauf/zermattmarathon', 'http://services.datasport.com/2009/lauf/verbier', 'http://services.datasport.com/2009/lauf/rheinfall', 'http://services.datasport.com/2009/lauf/fitevent', 'http://services.datasport.com/2009/lauf/frauenfeld', 'http://services.datasport.com/2009/lauf/mandement', 'http://services.datasport.com/2009/lauf/liestal', 'http://services.datasport.com/2009/lauf/tdpv/etape4', 'http://services.datasport.com/2009/lauf/engadin', 'http://services.datasport.com/2009/lauf/thunstadt', 'http://services.datasport.com/2009/lauf/laufen', 'http://services.datasport.com/2009/lauf/matterhorn', 'http://services.datasport.com/2009/tri/inferno', 'http://services.datasport.com/2009/lauf/tdpv/etape2', 'http://services.datasport.com/2009/lauf/emme', 'http://services.datasport.com/2009/lauf/tdpv/etape3', 'http://services.datasport.com/2009/lauf/zinal', 'http://services.datasport.com/2009/lauf/muensingen', 'http://services.datasport.com/2009/lauf/glacier3000', 'http://services.datasport.com/2009/lauf/thyon', 'http://services.datasport.com/2009/zkb/pfaeffiker', 'http://services.datasport.com/2009/lauf/carouge', 'http://services.datasport.com/2009/lauf/stralugano', 'http://services.datasport.com/2009/lauf/Greifenseelauf', 'http://services.datasport.com/2009/lauf/gantrisch', 'http://services.datasport.com/2009/lauf/neerach', 'http://services.datasport.com/2009/lauf/altstaeter', 'http://services.datasport.com/2009/lauf/burgdorf', 'http://services.datasport.com/2009/zkb/affoltern', 'http://services.datasport.com/2009/lauf/tdpv/etape1', 'http://services.datasport.com/2009/lauf/jungfrau', 'http://services.datasport.com/2009/lauf/birslaufhe', 'http://services.datasport.com/2009/zkb/rueti', 'http://services.datasport.com/2009/lauf/mmc', 'http://services.datasport.com/2009/lauf/jmprolog', 'http://services.datasport.com/2009/lauf/tdpv/etape4', 'http://services.datasport.com/2009/lauf/lamara', 'http://services.datasport.com/2009/lauf/lucernemarathon', 'http://services.datasport.com/2009/lauf/glarus', 'http://services.datasport.com/2009/lauf/burgherbst', 'http://services.datasport.com/2009/lauf/bremgarten', 'http://services.datasport.com/2009/zkb/uetliberg', 'http://services.datasport.com/2009/lauf/bueren', 'http://services.datasport.com/2009/lauf/brienzer', 'http://services.datasport.com/2009/lauf/schloss', 'http://services.datasport.com/2009/lauf/hallwil', 'http://services.datasport.com/2009/lauf/morat', 'http://services.datasport.com/2009/lauf/bielercross', 'http://services.datasport.com/2009/lauf/YverdonNoel', 'http://services.datasport.com/2009/lauf/basel', 'http://services.datasport.com/2009/lauf/corrida', 'http://services.datasport.com/2009/lauf/langenthal', 'http://services.datasport.com/2009/waffenlauf/frauenfelder', 'http://services.datasport.com/2009/lauf/tenero', 'http://services.datasport.com/2009/lauf/kyburg', 'http://services.datasport.com/2009/lauf/wallisellen', 'http://services.datasport.com/2009/lauf/gurten', 'http://services.datasport.com/2009/lauf/gippingen', 'http://services.datasport.com/2009/lauf/gersau', 'http://services.datasport.com/2009/lauf/midnight', 'http://services.datasport.com/2009/lauf/trotteuse', 'http://services.datasport.com/2009/lauf/silvester', 'http://services.datasport.com/2009/lauf/sion', 'http://services.datasport.com/2009/lauf/leysin', 'http://services.datasport.com/2009/lauf/steinhlzli', 'http://services.datasport.com/2009/lauf/escalade', 'http://services.datasport.com/2009/lauf/gossau', 'http://services.datasport.com/2009/lauf/chlaus', 'http://services.datasport.com/2010/zkb/zhneujahr', 'http://services.datasport.com/2010/lauf/arosa', 'http://services.datasport.com/2010/lauf/neujahrsmarathon/', 'http://services.datasport.com/2010/lauf/reuss', 'http://services.datasport.com/2010/lauf/tower', 'http://services.datasport.com/2010/lauf/baden', 'http://services.datasport.com/2010/zkb/maennedorf', 'http://services.datasport.com/2010/lauf/sm10km09', 'http://services.datasport.com/2010/lauf/birslauffr', 'http://services.datasport.com/2010/lauf/strongmanrun_ch', 'http://services.datasport.com/2010/lauf/presinge', 'http://services.datasport.com/2010/lauf/kerzers', 'http://services.datasport.com/2010/zkb/winterthur', 'http://services.datasport.com/2010/lauf/crosssm', 'http://services.datasport.com/2010/lauf/tdcn/etape2', 'http://services.datasport.com/2010/lauf/TourDuChablais/etappe4', 'http://services.datasport.com/2010/lauf/luzern', 'http://services.datasport.com/2010/lauf/km20', 'http://services.datasport.com/2010/lauf/tdcn/etape1', 'http://services.datasport.com/2010/lauf/TourDuChablais/etappe3', 'http://services.datasport.com/2010/lauf/lugano', 'http://services.datasport.com/2010/zkb/gpduebendorf', 'http://services.datasport.com/2010/lauf/buendner', 'http://services.datasport.com/2010/lauf/rotsee', 'http://services.datasport.com/2010/lauf/TourDuChablais/etappe2', 'http://services.datasport.com/2010/lauf/zuerich', 'http://services.datasport.com/2010/lauf/traines', 'http://services.datasport.com/2010/lauf/TourDuChablais/etappe1', 'http://services.datasport.com/2010/lauf/blenio', 'http://services.datasport.com/2010/lauf/eiken', 'http://services.datasport.com/2010/lauf/bluemlisalp', 'http://services.datasport.com/2010/lauf/lburger', 'http://services.datasport.com/2010/lauf/tdcn/etape6', 'http://services.datasport.com/2010/lauf/wohlen', 'http://services.datasport.com/2010/lauf/faido', 'http://services.datasport.com/2010/lauf/tdcn/etape5', 'http://services.datasport.com/2010/lauf/winterthur', 'http://services.datasport.com/2010/lauf/dreilaender', 'http://services.datasport.com/2010/lauf/flaeckelauf', 'http://services.datasport.com/2010/lauf/zofinger', 'http://services.datasport.com/2010/zkb/flughafen', 'http://services.datasport.com/2010/lauf/tdcn/etape4', 'http://services.datasport.com/2010/lauf/TourDuChablais/etappe6', 'http://services.datasport.com/2010/lauf/kehrsatz', 'http://services.datasport.com/2010/lauf/sempacherseelauf', 'http://services.datasport.com/2010/lauf/tdcn/etape3', 'http://services.datasport.com/2010/lauf/TourDuChablais/etappe5', 'http://services.datasport.com/2010/lauf/bischofszell', 'http://services.datasport.com/2010/lauf/sihltaler', 'http://services.datasport.com/2010/lauf/gletscherlauf', 'http://services.datasport.com/2010/lauf/murilauf', 'http://services.datasport.com/2010/lauf/grmarathon', 'http://services.datasport.com/2010/lauf/sempach', 'http://services.datasport.com/2010/lauf/derendingen', 'http://services.datasport.com/2010/lauf/maennlichen', 'http://services.datasport.com/2010/zkb/wyland', 'http://services.datasport.com/2010/lauf/defi', 'http://services.datasport.com/2010/lauf/frauenlauf', 'http://services.datasport.com/2010/lauf/chur', 'http://services.datasport.com/2010/lauf/biel', 'http://services.datasport.com/2010/lauf/toess', 'http://services.datasport.com/2010/lauf/cuorsadilrein', 'http://services.datasport.com/2010/zkb/zumiker', 'http://services.datasport.com/2010/lauf/baldegger', 'http://services.datasport.com/2010/diverse/trophy', 'http://services.datasport.com/2010/lauf/appenzellerlauf', 'http://services.datasport.com/2010/lauf/gempen', 'http://services.datasport.com/2010/lauf/aegeri', 'http://services.datasport.com/2010/lauf/montreux', 'http://services.datasport.com/2010/lauf/zermattmarathon', 'http://services.datasport.com/2010/lauf/verbier', 'http://services.datasport.com/2010/lauf/rheinfall', 'http://services.datasport.com/2010/lauf/fitevent', 'http://services.datasport.com/2010/lauf/frauenfeld', 'http://services.datasport.com/2010/lauf/tdpv/etape4', 'http://services.datasport.com/2010/lauf/liestal', 'http://services.datasport.com/2010/lauf/engadin', 'http://services.datasport.com/2010/lauf/thunstadt', 'http://services.datasport.com/2010/lauf/laufen', 'http://services.datasport.com/2010/lauf/matterhorn', 'http://services.datasport.com/2010/lauf/mountainman', 'http://services.datasport.com/2010/lauf/tdpv/etape2', 'http://services.datasport.com/2010/lauf/emme', 'http://services.datasport.com/2010/lauf/crossrun', 'http://services.datasport.com/2010/lauf/muensingen', 'http://services.datasport.com/2010/lauf/tdpv/etape3', 'http://services.datasport.com/2010/lauf/zinal', 'http://services.datasport.com/2010/lauf/glacier3000', 'http://services.datasport.com/2010/lauf/thyon', 'http://services.datasport.com/2010/zkb/pfaeffiker', 'http://services.datasport.com/2010/lauf/stralugano', 'http://services.datasport.com/2010/lauf/neerach', 'http://services.datasport.com/2010/lauf/carouge', 'http://services.datasport.com/2010/lauf/willisau', 'http://services.datasport.com/2010/lauf/Greifenseelauf', 'http://services.datasport.com/2010/lauf/runtothebeat', 'http://services.datasport.com/2010/lauf/jungfrau', 'http://services.datasport.com/2010/lauf/altstaeter', 'http://services.datasport.com/2010/zkb/affoltern', 'http://services.datasport.com/2010/lauf/burgdorf', 'http://services.datasport.com/2010/lauf/mmc', 'http://services.datasport.com/2010/lauf/jmprolog', 'http://services.datasport.com/2010/lauf/tdpv/etape1', 'http://services.datasport.com/2010/zkb/rueti', 'http://services.datasport.com/2010/lauf/tdpv/etape4', 'http://services.datasport.com/2010/lauf/lamara', 'http://services.datasport.com/2010/lauf/lucernemarathon', 'http://services.datasport.com/2010/lauf/glarus', 'http://services.datasport.com/2010/zkb/uetliberg', 'http://services.datasport.com/2010/lauf/burgherbst', 'http://services.datasport.com/2010/lauf/brienzer', 'http://services.datasport.com/2010/lauf/bremgarten', 'http://services.datasport.com/2010/lauf/hallwil', 'http://services.datasport.com/2010/lauf/bueren', 'http://services.datasport.com/2010/lauf/schloss', 'http://services.datasport.com/2010/lauf/morat', 'http://services.datasport.com/2010/lauf/YverdonNoel', 'http://services.datasport.com/2010/lauf/basel', 'http://services.datasport.com/2010/lauf/meyrin', 'http://services.datasport.com/2010/lauf/frauenfelder', 'http://services.datasport.com/2010/lauf/corrida', 'http://services.datasport.com/2010/lauf/langenthal', 'http://services.datasport.com/2010/lauf/tenero', 'http://services.datasport.com/2010/lauf/bielercross', 'http://services.datasport.com/2010/lauf/kyburg', 'http://services.datasport.com/2010/lauf/wallisellen', 'http://services.datasport.com/2010/lauf/gurten', 'http://services.datasport.com/2010/lauf/gippingen', 'http://services.datasport.com/2010/lauf/gersau', 'http://services.datasport.com/2010/lauf/midnight', 'http://services.datasport.com/2010/lauf/trotteuse', 'http://services.datasport.com/2010/lauf/silvester', 'http://services.datasport.com/2010/lauf/sion', 'http://services.datasport.com/2010/lauf/steinhlzli', 'http://services.datasport.com/2010/lauf/escalade', 'http://services.datasport.com/2010/lauf/gossau', 'http://services.datasport.com/2010/lauf/chlaus', 'http://services.datasport.com/2011/zkb/zhneujahr', 'http://services.datasport.com/2011/lauf/arosa', 'http://services.datasport.com/2011/lauf/neujahrsmarathon/', 'http://services.datasport.com/2011/lauf/reuss', 'http://services.datasport.com/2011/lauf/tower', 'http://services.datasport.com/2011/lauf/strongmanrun_ch', 'http://services.datasport.com/2011/lauf/baden', 'http://services.datasport.com/2011/zkb/maennedorf', 'http://services.datasport.com/2011/lauf/birslauffr', 'http://services.datasport.com/2011/lauf/presinge', 'http://services.datasport.com/2011/lauf/kerzers', 'http://services.datasport.com/2011/zkb/winterthur', 'http://services.datasport.com/2011/lauf/cross-sion', 'http://services.datasport.com/2011/lauf/km20', 'http://services.datasport.com/2011/lauf/kehrsatz', 'http://services.datasport.com/2011/lauf/tdcn/etape2', 'http://services.datasport.com/2011/lauf/TourDuChablais/etappe1', 'http://services.datasport.com/2011/lauf/blenio', 'http://services.datasport.com/2011/lauf/eiken', 'http://services.datasport.com/2011/lauf/tdcn/etape1', 'http://services.datasport.com/2011/lauf/zuerich', 'http://services.datasport.com/2011/lauf/payerne', 'http://services.datasport.com/2011/lauf/buendner', 'http://services.datasport.com/2011/lauf/rotsee', 'http://services.datasport.com/2011/zkb/gpduebendorf', 'http://services.datasport.com/2011/lauf/traines', 'http://services.datasport.com/2011/lauf/highheel-bern', 'http://services.datasport.com/2011/lauf/lugano', 'http://services.datasport.com/2011/zkb/zumiker', 'http://services.datasport.com/2011/lauf/lyss10km', 'http://services.datasport.com/2011/lauf/winterthur', 'http://services.datasport.com/2011/lauf/bluemlisalp', 'http://services.datasport.com/2011/lauf/lburger', 'http://services.datasport.com/2011/lauf/tdcn/etape6', 'http://services.datasport.com/2011/lauf/TourDuChablais/etappe5', 'http://services.datasport.com/2011/lauf/dreilaender', 'http://services.datasport.com/2011/lauf/sempacherseelauf', 'http://services.datasport.com/2011/lauf/faido', 'http://services.datasport.com/2011/lauf/tdcn/etape5', 'http://services.datasport.com/2011/lauf/TourDuChablais/etappe4', 'http://services.datasport.com/2011\\\\lauf\\\\telltrophy', 'http://services.datasport.com/2011/lauf/zofinger', 'http://services.datasport.com/2011/lauf/tdcn/etape4', 'http://services.datasport.com/2011/lauf/TourDuChablais/etappe3', 'http://services.datasport.com/2011/lauf/luzern', 'http://services.datasport.com/2011/lauf/tdcn/etape3', 'http://services.datasport.com/2011/lauf/TourDuChablais/etappe2', 'http://services.datasport.com/2011/lauf/sihltaler', 'http://services.datasport.com/2011/lauf/gletscherlauf', 'http://services.datasport.com/2011/lauf/grmarathon', 'http://services.datasport.com/2011/lauf/sempach', 'http://services.datasport.com/2011/lauf/derendingen', 'http://services.datasport.com/2011/lauf/chrischonalauf', 'http://services.datasport.com/2011/lauf/frauenlauf', 'http://services.datasport.com/2011/zkb/wyland', 'http://services.datasport.com/2011/lauf/appenzellerlauf', 'http://services.datasport.com/2011/lauf/chur', 'http://services.datasport.com/2011/lauf/biel', 'http://services.datasport.com/2011/lauf/wohlen', 'http://services.datasport.com/2011/lauf/gempen', 'http://services.datasport.com/2011/lauf/toess', 'http://services.datasport.com/2011/lauf/cuorsadilrein', 'http://services.datasport.com/2011/lauf/maennlichen', 'http://services.datasport.com/2011/lauf/baldegger', 'http://services.datasport.com/2011/zkb/flughafen', 'http://services.datasport.com/2011/lauf/TourDuChablais/etappe6', 'http://services.datasport.com/2011/lauf/aegeri', 'http://services.datasport.com/2011/lauf/montreux', 'http://services.datasport.com/2011/lauf/zermattmarathon', 'http://services.datasport.com/2011/lauf/murilauf', 'http://services.datasport.com/2011/lauf/laufen', 'http://services.datasport.com/2011/lauf/tdpv/etape4', 'http://services.datasport.com/2011/lauf/liestal', 'http://services.datasport.com/2011/lauf/thunstadt', 'http://services.datasport.com/2011/lauf/fitevent', 'http://services.datasport.com/2011/lauf/crossrun', 'http://services.datasport.com/2011/lauf/frauenfeld', 'http://services.datasport.com/2011/lauf/tdpv/etape4', 'http://services.datasport.com/2011/lauf/engadin', 'http://services.datasport.com/2011/lauf/rheinfall', 'http://services.datasport.com/2011/lauf/matterhorn', 'http://services.datasport.com/2011/tri/inferno', 'http://services.datasport.com/2011/lauf/mountainman', 'http://services.datasport.com/2011/lauf/emme', 'http://services.datasport.com/2011/lauf/tdpv/etape2', 'http://services.datasport.com/2011/lauf/zinal', 'http://services.datasport.com/2011/lauf/bruggelauf', 'http://services.datasport.com/2011/lauf/muensingen', 'http://services.datasport.com/2011/lauf/tdpv/etape3', 'http://services.datasport.com/2011/lauf/thyon', 'http://services.datasport.com/2011/lauf/glacier3000', 'http://services.datasport.com/2011/zkb/pfaeffiker', 'http://services.datasport.com/2011/lauf/stralugano', 'http://services.datasport.com/2011/lauf/neerach', 'http://services.datasport.com/2011/lauf/carouge', 'http://services.datasport.com/2011/lauf/willisau', 'http://services.datasport.com/2011/lauf/Greifenseelauf', 'http://services.datasport.com/2011/lauf/SGPP', 'http://services.datasport.com/2011/lauf/tdpv/etape6', 'http://services.datasport.com/2011/lauf/runtothebeat', 'http://services.datasport.com/2011/lauf/jungfrau', 'http://services.datasport.com/2011/lauf/altstaeter', 'http://services.datasport.com/2011/zkb/affoltern', 'http://services.datasport.com/2011/lauf/jmprolog', 'http://services.datasport.com/2011/lauf/tdpv/etape1', 'http://services.datasport.com/2011/zkb/rueti', 'http://services.datasport.com/2011/lauf/collontrek', 'http://services.datasport.com/2011/lauf/sommer-gommer', 'http://services.datasport.com/2011/lauf/lamara', 'http://services.datasport.com/2011/lauf/lucernemarathon', 'http://services.datasport.com/2011/lauf/glarus', 'http://services.datasport.com/2011/lauf/bremgarten', 'http://services.datasport.com/2011/zkb/uetliberg', 'http://services.datasport.com/2011/lauf/burgherbst', 'http://services.datasport.com/2011/lauf/brienzer', 'http://services.datasport.com/2011/lauf/hallwil', 'http://services.datasport.com/2011/lauf/bueren', 'http://services.datasport.com/2011/lauf/schloss', 'http://services.datasport.com/2011/lauf/mmc', 'http://services.datasport.com/2011/lauf/morat', 'http://services.datasport.com/2011/lauf/YverdonNoel', 'http://services.datasport.com/2011/lauf/basel', 'http://services.datasport.com/2011/lauf/meyrin', 'http://services.datasport.com/2011/lauf/frauenfelder', 'http://services.datasport.com/2011/lauf/corrida', 'http://services.datasport.com/2011/lauf/langenthal', 'http://services.datasport.com/2011/lauf/tenero', 'http://services.datasport.com/2011/lauf/bielercross', 'http://services.datasport.com/2011\\\\lauf\\\\augusta-raurica', 'http://services.datasport.com/2011/lauf/kyburg', 'http://services.datasport.com/2011/lauf/wallisellen', 'http://services.datasport.com/2011/lauf/gurten', 'http://services.datasport.com/2011/lauf/gippingen', 'http://services.datasport.com/2011/lauf/gersau', 'http://services.datasport.com/2011/lauf/midnight', 'http://services.datasport.com/2011/lauf/trotteuse', 'http://services.datasport.com/2011/lauf/silvester', 'http://services.datasport.com/2011/lauf/sion', 'http://services.datasport.com/2011/lauf/steinhlzli', 'http://services.datasport.com/2011/lauf/escalade', 'http://services.datasport.com/2011/lauf/gossau', 'http://services.datasport.com/2012/zkb/zhneujahr', 'http://services.datasport.com/2012/lauf/arosa', 'http://services.datasport.com/2012/lauf/neujahrsmarathon/', 'http://services.datasport.com/2012/lauf/reuss', 'http://services.datasport.com/2012/zkb/maennedorf', 'http://services.datasport.com/2012/lauf/lyss10km', 'http://services.datasport.com/2012/lauf/birslauffr', 'http://services.datasport.com/2012/lauf/lugano', 'http://services.datasport.com/2012/lauf/baden', 'http://services.datasport.com/2012/lauf/presinge', 'http://services.datasport.com/2012/lauf/kerzers', 'http://services.datasport.com/2012/lauf/strongmanrun_ch', 'http://services.datasport.com/2012/lauf/payerne', 'http://services.datasport.com/2012/lauf/smcross', 'http://services.datasport.com/2012/zkb/winterthur', 'http://services.datasport.com/2012/lauf/luzern', 'http://services.datasport.com/2012/lauf/km20', 'http://services.datasport.com/2012/lauf/kehrsatz', 'http://services.datasport.com/2012/lauf/tdcn/etape1', 'http://services.datasport.com/2012/lauf/TourDuChablais/etappe3', 'http://services.datasport.com/2012/lauf/6weeks/etappe2', 'http://services.datasport.com/2012/lauf/zuerich', 'http://services.datasport.com/2012/lauf/tower', 'http://services.datasport.com/2012/lauf/rotsee', 'http://services.datasport.com/2012/lauf/6weeks/etappe1', 'http://services.datasport.com/2012/lauf/TourDuChablais/etappe2', 'http://services.datasport.com/2012/zkb/gpduebendorf', 'http://services.datasport.com/2012/lauf/traines', 'http://services.datasport.com/2012/lauf/buendner', 'http://services.datasport.com/2012/lauf/TourDuChablais/etappe1', 'http://services.datasport.com/2012/lauf/blenio', 'http://services.datasport.com/2012/lauf/eiken', 'http://services.datasport.com/2012/lauf/tdcn/etape6', 'http://services.datasport.com/2012/lauf/tdpv-printanier/etape1', 'http://services.datasport.com/2012/lauf/bluemlisalp', 'http://services.datasport.com/2012/lauf/wohlen', 'http://services.datasport.com/2012/lauf/tdcn/etape5', 'http://services.datasport.com/2012/lauf/6weeks/etappe6', 'http://services.datasport.com/2012/lauf/dreilaender', 'http://services.datasport.com/2012/lauf/faido', 'http://services.datasport.com/2012/zkb/flughafen', 'http://services.datasport.com/2012/lauf/tdcn/etape4', 'http://services.datasport.com/2012/lauf/TourDuChablais/etappe6', 'http://services.datasport.com/2012/lauf/6weeks/etappe5', 'http://services.datasport.com/2012/lauf/lburger', 'http://services.datasport.com/2012/lauf/tdcn/etape3', 'http://services.datasport.com/2012/lauf/TourDuChablais/etappe5', 'http://services.datasport.com/2012/lauf/6weeks/etappe4', 'http://services.datasport.com/2012/lauf/winterthur', 'http://services.datasport.com/2012/lauf/sempacherseelauf', 'http://services.datasport.com/2012/lauf/tdcn/etape2', 'http://services.datasport.com/2012/lauf/6weeks/etappe3', 'http://services.datasport.com/2012/lauf/TourDuChablais/etappe4', 'http://services.datasport.com/2012/lauf/sihltaler', 'http://services.datasport.com/2012/lauf/tour-du-lac-de-joux', 'http://services.datasport.com/2012/lauf/derendingen', 'http://services.datasport.com/2012/lauf/lauerzerseelauf', 'http://services.datasport.com/2012/lauf/gletscherlauf', 'http://services.datasport.com/2012/lauf/sempach', 'http://services.datasport.com/2012/lauf/grmarathon', 'http://services.datasport.com/2012/lauf/froburg', 'http://services.datasport.com/2012/lauf/chrischonalauf', 'http://services.datasport.com/2012/lauf/laufen', 'http://services.datasport.com/2012/zkb/wyland', 'http://services.datasport.com/2012/lauf/toess', 'http://services.datasport.com/2012/lauf/frauenlauf', 'http://services.datasport.com/2012/zkb/zumiker', 'http://services.datasport.com/2012/lauf/biel', 'http://services.datasport.com/2012/lauf/gempen', 'http://services.datasport.com/2012/lauf/tdpv-printanier/etape2', 'http://services.datasport.com/2012/lauf/kapoag', 'http://services.datasport.com/2012/lauf/cuorsadilrein', 'http://services.datasport.com/2012/lauf/maennlichen', 'http://services.datasport.com/2012/lauf/baldegger', 'http://services.datasport.com/2012/lauf/aegeri', 'http://services.datasport.com/2012/lauf/montreux', 'http://services.datasport.com/2012/lauf/zermattmarathon', 'http://services.datasport.com/2012/lauf/irontrail', 'http://services.datasport.com/2012/lauf/murilauf', 'http://services.datasport.com/2012/lauf/tdpv/etape4', 'http://services.datasport.com/2012/lauf/liestal', 'http://services.datasport.com/2012/lauf/groupe-e-tour/etape1', 'http://services.datasport.com/2012/lauf/thunstadt', 'http://services.datasport.com/2012/lauf/montheysanne', 'http://services.datasport.com/2012/lauf/matterhorn', 'http://services.datasport.com/2012/lauf/tdpv/etape3', 'http://services.datasport.com/2012/lauf/rheinfall', 'http://services.datasport.com/2012/tri/inferno', 'http://services.datasport.com/2012/lauf/emme', 'http://services.datasport.com/2012/lauf/tdpv/etape2', 'http://services.datasport.com/2012/lauf/zinal', 'http://services.datasport.com/2012/lauf/bruggelauf', 'http://services.datasport.com/2012/lauf/muensingen', 'http://services.datasport.com/2012/lauf/tdpv/etape1', 'http://services.datasport.com/2012/lauf/thyon', 'http://services.datasport.com/2012/lauf/glacier3000', 'http://services.datasport.com/2012/zkb/pfaeffiker', 'http://services.datasport.com/2012/lauf/stralugano', 'http://services.datasport.com/2012/lauf/chandolin', 'http://services.datasport.com/2012/lauf/groupe-e-tour/etape5', 'http://services.datasport.com/2012/lauf/runtothebeat', 'http://services.datasport.com/2012/lauf/neerach', 'http://services.datasport.com/2012/lauf/wr1000x42195', 'http://services.datasport.com/2012/lauf/Greifenseelauf', 'http://services.datasport.com/2012/lauf/willisau', 'http://services.datasport.com/2012/lauf/renens', 'http://services.datasport.com/2012/lauf/groupe-e-tour/etape4', 'http://services.datasport.com/2012/lauf/burgdorf', 'http://services.datasport.com/2012/lauf/sardona', 'http://services.datasport.com/2012/lauf/groupe-e-tour/etape3', 'http://services.datasport.com/2012/lauf/jungfrau', 'http://services.datasport.com/2012/zkb/affoltern', 'http://services.datasport.com/2012/lauf/jmprolog', 'http://services.datasport.com/2012/lauf/groupe-e-tour/etape2', 'http://services.datasport.com/2012/lauf/tdpv/etape6', 'http://services.datasport.com/2012/lauf/crossrun', 'http://services.datasport.com/2012/lauf/sommer-gommer', 'http://services.datasport.com/2012/zkb/rueti', 'http://services.datasport.com/2012/lauf/lamara', 'http://services.datasport.com/2012/lauf/lucernemarathon', 'http://services.datasport.com/2012/lauf/muttenz', 'http://services.datasport.com/2012/lauf/glarus', 'http://services.datasport.com/2012/lauf/riehen', 'http://services.datasport.com/2012/lauf/transviamala', 'http://services.datasport.com/2012/lauf/bremgarten', 'http://services.datasport.com/2012/lauf/brienzer', 'http://services.datasport.com/2012/lauf/hallwil', 'http://services.datasport.com/2012/lauf/bueren', 'http://services.datasport.com/2012/lauf/schloss', 'http://services.datasport.com/2012/lauf/morat', 'http://services.datasport.com/2012/lauf/Avent', 'http://services.datasport.com/2012/lauf/basel', 'http://services.datasport.com/2012/lauf/meyrin', 'http://services.datasport.com/2012/lauf/frauenfelder', 'http://services.datasport.com/2012/lauf/corrida', 'http://services.datasport.com/2012/lauf/langenthal', 'http://services.datasport.com/2012/lauf/tenero', 'http://services.datasport.com/2012/lauf/bielercross', 'http://services.datasport.com/2012\\\\lauf\\\\augusta-raurica', 'http://services.datasport.com/2012/lauf/kyburg', 'http://services.datasport.com/2012/lauf/wallisellen', 'http://services.datasport.com/2012/lauf/gurten', 'http://services.datasport.com/2012/lauf/gippingen', 'http://services.datasport.com/2012/lauf/gersau', 'http://services.datasport.com/2012/lauf/silvester', 'http://services.datasport.com/2012/lauf/midnight', 'http://services.datasport.com/2012/lauf/sion', 'http://services.datasport.com/2012/lauf/trotteuse', 'http://services.datasport.com/2012/lauf/steinhlzli', 'http://services.datasport.com/2012/lauf/escalade', 'http://services.datasport.com/2012/lauf/gossau', 'http://services.datasport.com/2013/zkb/zhneujahr', 'http://services.datasport.com/2013/lauf/arosa', 'http://services.datasport.com/2013/lauf/neujahrsmarathon/', 'http://services.datasport.com/2013/lauf/reuss', 'http://services.datasport.com/2013/lauf/eiken', 'http://services.datasport.com/2013/zkb/maennedorf', 'http://services.datasport.com/2013/lauf/sm10km', 'http://services.datasport.com/2013/lauf/presinge', 'http://services.datasport.com/2013/lauf/kerzers', 'http://services.datasport.com/2013/lauf/baden', 'http://services.datasport.com/2013/lauf/survival', 'http://services.datasport.com/2013/lauf/payerne', 'http://services.datasport.com/2013/lauf/smcross', 'http://services.datasport.com/2013/lauf/tower', 'http://services.datasport.com/2013/zkb/winterthur', 'http://services.datasport.com/2013/lauf/aargauer-volkslauf', 'http://services.datasport.com/2013/lauf/luzern', 'http://services.datasport.com/2013/lauf/km20', 'http://services.datasport.com/2013/lauf/tdcn/etape1', 'http://services.datasport.com/2013/lauf/TourDuChablais/etappe4', 'http://services.datasport.com/2013/lauf/6weeks/etappe2', 'http://services.datasport.com/2013/lauf/buendner', 'http://services.datasport.com/2013/lauf/rotsee', 'http://services.datasport.com/2013/lauf/TourDuChablais/etappe3', 'http://services.datasport.com/2013/lauf/6weeks/etappe1', 'http://services.datasport.com/2013/lauf/knoli-oetwil', 'http://services.datasport.com/2013/lauf/traines', 'http://services.datasport.com/2013/lauf/TourDuChablais/etappe2', 'http://services.datasport.com/2013/lauf/zuerich', 'http://services.datasport.com/2013/lauf/lugano', 'http://services.datasport.com/2013/lauf/birslauffr', 'http://services.datasport.com/2013/lauf/TourDuChablais/etappe1', 'http://services.datasport.com/2013/lauf/blenio', 'http://services.datasport.com/2013/lauf/tdcn/etape6', 'http://services.datasport.com/2013/lauf/gempen', 'http://services.datasport.com/2013/lauf/tdpv-printanier/etape1', 'http://services.datasport.com/2013/lauf/winterthur', 'http://services.datasport.com/2013/lauf/dreilaender', 'http://services.datasport.com/2013/lauf/bluemlisalp', 'http://services.datasport.com/2013/lauf/lburger', 'http://services.datasport.com/2013/lauf/faido', 'http://services.datasport.com/2013/lauf/tdcn/etape5', 'http://services.datasport.com/2013/lauf/6weeks/etappe6', 'http://services.datasport.com/2013/lauf/wohlen', 'http://services.datasport.com/2013/lauf/tdcn/etape4', 'http://services.datasport.com/2013/lauf/defivignoble', 'http://services.datasport.com/2013/lauf/6weeks/etappe5', 'http://services.datasport.com/2013/lauf/sempacherseelauf', 'http://services.datasport.com/2013/zkb/flughafen', 'http://services.datasport.com/2013/lauf/tdcn/etape3', 'http://services.datasport.com/2013/lauf/6weeks/etappe4', 'http://services.datasport.com/2013/lauf/TourDuChablais/etappe6', 'http://services.datasport.com/2013/lauf/kehrsatz', 'http://services.datasport.com/2013/lauf/knoli-urdorf', 'http://services.datasport.com/2013/lauf/barjotrun', 'http://services.datasport.com/2013/lauf/tdcn/etape2', 'http://services.datasport.com/2013/lauf/sihltaler', 'http://services.datasport.com/2013/lauf/TourDuChablais/etappe5', 'http://services.datasport.com/2013/lauf/6weeks/etappe3', 'http://services.datasport.com/2013/lauf/gletscherlauf', 'http://services.datasport.com/2013/lauf/sempach', 'http://services.datasport.com/2013/lauf/grmarathon', 'http://services.datasport.com/2013/lauf/derendingen', 'http://services.datasport.com/2013/lauf/lauerzerseelauf', 'http://services.datasport.com/2013/lauf/kapoag', 'http://services.datasport.com/2013/lauf/semi-marathon-fribourg', 'http://services.datasport.com/2013/lauf/chrischonalauf', 'http://services.datasport.com/2013/lauf/ticino-running', 'http://services.datasport.com/2013/lauf/laufen', 'http://services.datasport.com/2013/zkb/wyland', 'http://services.datasport.com/2013/lauf/tdpv-printanier/etape3', 'http://services.datasport.com/2013/lauf/toess', 'http://services.datasport.com/2013/lauf/frauenlauf', 'http://services.datasport.com/2013/lauf/cuorsadilrein', 'http://services.datasport.com/2013/lauf/maennlichen', 'http://services.datasport.com/2013/lauf/trail-event-des-paccots', 'http://services.datasport.com/2013/zkb/zumiker', 'http://services.datasport.com/2013/lauf/biel', 'http://services.datasport.com/2013/lauf/tdpv-printanier/etape2', 'http://services.datasport.com/2013/lauf/strongmanrun_ch', 'http://services.datasport.com/2013/lauf/baldegger', 'http://services.datasport.com/2013/lauf/knoli-dietikon', 'http://services.datasport.com/2013/lauf/eiger-trail', 'http://services.datasport.com/2013/lauf/aegeri', 'http://services.datasport.com/2013/lauf/montreux', 'http://services.datasport.com/2013/lauf/zermattmarathon', 'http://services.datasport.com/2013/lauf/tour-du-lac-de-joux', 'http://services.datasport.com/2013/zkb/affoltern', 'http://services.datasport.com/2013/lauf/sommer-gommer', 'http://services.datasport.com/2013/lauf/groupe-e-tour/etape2', 'http://services.datasport.com/2013/lauf/liestal', 'http://services.datasport.com/2013/lauf/tdpv/etape3', 'http://services.datasport.com/2013/lauf/thunstadt', 'http://services.datasport.com/2013/lauf/montheysanne', 'http://services.datasport.com/2013/zkb/rueti', 'http://services.datasport.com/2013/lauf/matterhorn-ultraks', 'http://services.datasport.com/2013/lauf/groupe-e-tour/etape1', 'http://services.datasport.com/2013/lauf/tdpv/etape2', 'http://services.datasport.com/2013/lauf/emme', 'http://services.datasport.com/2013/lauf/rheinfall', 'http://services.datasport.com/2013/tri/inferno', 'http://services.datasport.com/2013/lauf/mountainman', 'http://services.datasport.com/2013/lauf/knoli-aesch', 'http://services.datasport.com/2013/lauf/tdpv/etape1', 'http://services.datasport.com/2013/lauf/zinal', 'http://services.datasport.com/2013/lauf/bruggelauf', 'http://services.datasport.com/2013/lauf/muensingen', 'http://services.datasport.com/2013/lauf/glacier3000', 'http://services.datasport.com/2013/lauf/irontrail', 'http://services.datasport.com/2013/lauf/thyon', 'http://services.datasport.com/2013/zkb/pfaeffiker', 'http://services.datasport.com/2013/lauf/stralugano', 'http://services.datasport.com/2013/lauf/chandolin', 'http://services.datasport.com/2013/lauf/runtothebeat', 'http://services.datasport.com/2013/lauf/neerach', 'http://services.datasport.com/2013/lauf/Greifenseelauf', 'http://services.datasport.com/2013/lauf/willisau', 'http://services.datasport.com/2013/lauf/renens', 'http://services.datasport.com/2013/lauf/humanitrail', 'http://services.datasport.com/2013/lauf/groupe-e-tour/etape5', 'http://services.datasport.com/2013/lauf/jungfrau', 'http://services.datasport.com/2013/lauf/extremerun', 'http://services.datasport.com/2013/lauf/burgdorf', 'http://services.datasport.com/2013/lauf/sardona', 'http://services.datasport.com/2013/lauf/jmprolog', 'http://services.datasport.com/2013/lauf/groupe-e-tour/etape4', 'http://services.datasport.com/2013/lauf/tdpv/etape6', 'http://services.datasport.com/2013/zkb/bachtel', 'http://services.datasport.com/2013/lauf/semi-orbe', 'http://services.datasport.com/2013/lauf/collontrek', 'http://services.datasport.com/2013/lauf/groupe-e-tour/etape3', 'http://services.datasport.com/2013/lauf/tdpv/etape4', 'http://services.datasport.com/2013/lauf/crossrun', 'http://services.datasport.com/2013/lauf/lamara', 'http://services.datasport.com/2013/lauf/lucerne', 'http://services.datasport.com/2013/lauf/muttenz', 'http://services.datasport.com/2013/lauf/glarus', 'http://services.datasport.com/2013/lauf/riehen', 'http://services.datasport.com/2013/lauf/transviamala', 'http://services.datasport.com/2013/lauf/bremgarten', 'http://services.datasport.com/2013/lauf/hallwil', 'http://services.datasport.com/2013/lauf/brienzer', 'http://services.datasport.com/2013/lauf/bueren', 'http://services.datasport.com/2013/lauf/schloss', 'http://services.datasport.com/2013/lauf/morat', 'http://services.datasport.com/2013/lauf/sigriswiler-brueckenlauf', 'http://services.datasport.com/2013/lauf/basel', 'http://services.datasport.com/2013/lauf/meyrin', 'http://services.datasport.com/2013/lauf/Avent', 'http://services.datasport.com/2013/lauf/langenthal', 'http://services.datasport.com/2013/lauf/frauenfelder', 'http://services.datasport.com/2013/lauf/corrida', 'http://services.datasport.com/2013/lauf/tenero', 'http://services.datasport.com/2013/lauf/bielercross', 'http://services.datasport.com/2013\\\\lauf\\\\augusta-raurica', 'http://services.datasport.com/2013/lauf/kyburg', 'http://services.datasport.com/2013/lauf/wallisellen', 'http://services.datasport.com/2013/lauf/gurten', 'http://services.datasport.com/2013/lauf/gippingen', 'http://services.datasport.com/2013/lauf/gersau', 'http://services.datasport.com/2013/lauf/silvester', 'http://services.datasport.com/2013/lauf/sion', 'http://services.datasport.com/2013/lauf/midnight', 'http://services.datasport.com/2013/lauf/trotteuse', 'http://services.datasport.com/2013/lauf/escalade', 'http://services.datasport.com/2013/lauf/gossau', 'http://services.datasport.com/2014/lauf/caslano', 'http://services.datasport.com/2014/zkb/zhneujahr', 'http://services.datasport.com/2014/lauf/neujahrsmarathon/', 'http://services.datasport.com/2014/lauf/reuss', 'http://services.datasport.com/2014/lauf/baden', 'http://services.datasport.com/2014/zkb/maennedorf', 'http://services.datasport.com/2014/lauf/presinge', 'http://services.datasport.com/2014/lauf/kerzers', 'http://services.datasport.com/2014/lauf/survival', 'http://services.datasport.com/2014/lauf/payerne', 'http://services.datasport.com/2014/lauf/smcross', 'http://services.datasport.com/2014/zkb/winterthur', 'http://services.datasport.com/2014/lauf/tdcn/etape2', 'http://services.datasport.com/2014/lauf/6weeks/etappe2', 'http://services.datasport.com/2014/lauf/kapoag', 'http://services.datasport.com/2014/lauf/TourDuChablais/etappe2', 'http://services.datasport.com/2014/lauf/lugano', 'http://services.datasport.com/2014/lauf/aargauer-volkslauf', 'http://services.datasport.com/2014/lauf/km20', 'http://services.datasport.com/2014/lauf/kehrsatz', 'http://services.datasport.com/2014/lauf/tdcn/etape1', 'http://services.datasport.com/2014/lauf/TourDuChablais/etappe1', 'http://services.datasport.com/2014/lauf/6weeks/etappe1', 'http://services.datasport.com/2014/lauf/blenio', 'http://services.datasport.com/2014/zkb/gpduebendorf', 'http://services.datasport.com/2014/lauf/traines', 'http://services.datasport.com/2014/lauf/buendner', 'http://services.datasport.com/2014/lauf/barjotrun', 'http://services.datasport.com/2014/lauf/rotsee', 'http://services.datasport.com/2014/lauf/zuerich', 'http://services.datasport.com/2014/lauf/birslauffr', 'http://services.datasport.com/2014/lauf/baldegger', 'http://services.datasport.com/2014/lauf/faido', 'http://services.datasport.com/2014/lauf/auffahrtslauf', 'http://services.datasport.com/2014/zkb/flughafen', 'http://services.datasport.com/2014/lauf/tdcn/etape6', 'http://services.datasport.com/2014/lauf/6weeks/etappe6', 'http://services.datasport.com/2014/lauf/TourDuChablais/etappe6', 'http://services.datasport.com/2014/lauf/dreilaender', 'http://services.datasport.com/2014/lauf/bluemlisalp', 'http://services.datasport.com/2014/lauf/sempacherseelauf', 'http://services.datasport.com/2014/lauf/lburger', 'http://services.datasport.com/2014/lauf/tdcn/etape5', 'http://services.datasport.com/2014/lauf/TourDuChablais/etappe5', 'http://services.datasport.com/2014/lauf/6weeks/etappe5', 'http://services.datasport.com/2014/lauf/zofinger', 'http://services.datasport.com/2014/lauf/tdcn/etape4', 'http://services.datasport.com/2014/lauf/TourDuChablais/etappe4', 'http://services.datasport.com/2014/lauf/6weeks/etappe4', 'http://services.datasport.com/2014/lauf/defivignoble', 'http://services.datasport.com/2014/zkb/zumiker', 'http://services.datasport.com/2014/lauf/tdcn/etape3', 'http://services.datasport.com/2014/lauf/TourDuChablais/etappe3', 'http://services.datasport.com/2014/lauf/6weeks/etappe3', 'http://services.datasport.com/2014/lauf/luzern', 'http://services.datasport.com/2014/lauf/sihltaler', 'http://services.datasport.com/2014/lauf/gletscherlauf', 'http://services.datasport.com/2014/zkb/bachtel', 'http://services.datasport.com/2014/lauf/grmarathon', 'http://services.datasport.com/2014/lauf/derendingen', 'http://services.datasport.com/2014/lauf/fete-jeunesse-Chaux-de-Fonds', 'http://services.datasport.com/2014/lauf/lauerzerseelauf', 'http://services.datasport.com/2014/lauf/chrischonalauf', 'http://services.datasport.com/2014/lauf/laufen', 'http://services.datasport.com/2014/lauf/tdpv-printanier/etape3', 'http://services.datasport.com/2014/lauf/toess', 'http://services.datasport.com/2014/lauf/frauenlauf', 'http://services.datasport.com/2014/lauf/sempach', 'http://services.datasport.com/2014/zkb/wyland', 'http://services.datasport.com/2014/lauf/biel', 'http://services.datasport.com/2014/lauf/tdpv-printanier/etape2', 'http://services.datasport.com/2014/lauf/strongmanrun_ch', 'http://services.datasport.com/2014/lauf/wohlen', 'http://services.datasport.com/2014/lauf/tdpv-printanier/etape1', 'http://services.datasport.com/2014/lauf/gempen', 'http://services.datasport.com/2014/lauf/winterthur', 'http://services.datasport.com/2014/lauf/cuorsadilrein', 'http://services.datasport.com/2014/lauf/semi-marathon-fribourg', 'http://services.datasport.com/2014/lauf/girolaghiamo', 'http://services.datasport.com/2014/lauf/eiger-trail', 'http://services.datasport.com/2014/lauf/aegeri', 'http://services.datasport.com/2014/lauf/montreux', 'http://services.datasport.com/2014/lauf/zermattmarathon', 'http://services.datasport.com/2014/lauf/tour-du-lac-de-joux', 'http://services.datasport.com/2014/lauf/swiss-management-run', 'http://services.datasport.com/2014/lauf/crossrun', 'http://services.datasport.com/2014/lauf/sommer-gommer', 'http://services.datasport.com/2014/zkb/affoltern', 'http://services.datasport.com/2014/lauf/tdpv/etape3', 'http://services.datasport.com/2014/lauf/liestal', 'http://services.datasport.com/2014/lauf/groupe-e-tour/etape2', 'http://services.datasport.com/2014/lauf/thunstadt', 'http://services.datasport.com/2014/lauf/rheinfall', 'http://services.datasport.com/2014/lauf/montheysanne', 'http://services.datasport.com/2014/tri/inferno', 'http://services.datasport.com/2014/lauf/matterhorn-ultraks', 'http://services.datasport.com/2014/lauf/emme', 'http://services.datasport.com/2014/lauf/groupe-e-tour/etape1', 'http://services.datasport.com/2014/lauf/tdpv/etape2', 'http://services.datasport.com/2014/lauf/bruggelauf', 'http://services.datasport.com/2014/lauf/mountainman', 'http://services.datasport.com/2014/lauf/irontrail', 'http://services.datasport.com/2014/lauf/tdpv/etape1', 'http://services.datasport.com/2014/lauf/zinal', 'http://services.datasport.com/2014/lauf/muensingen', 'http://services.datasport.com/2014/lauf/glacier3000', 'http://services.datasport.com/2014/lauf/thyon', 'http://services.datasport.com/2014/zkb/pfaeffiker', 'http://services.datasport.com/2014/lauf/runtothebeat', 'http://services.datasport.com/2014/lauf/stralugano', 'http://services.datasport.com/2014/lauf/carouge', 'http://services.datasport.com/2014/lauf/renens', 'http://services.datasport.com/2014/lauf/chandolin', 'http://services.datasport.com/2014/lauf/neerach', 'http://services.datasport.com/2014/lauf/Greifenseelauf', 'http://services.datasport.com/2014/lauf/willisau', 'http://services.datasport.com/2014/lauf/arosa-trailrun', 'http://services.datasport.com/2014/lauf/b2run-zurich', 'http://services.datasport.com/2014/lauf/groupe-e-tour/etape5', 'http://services.datasport.com/2014/lauf/semi-cote', 'http://services.datasport.com/2014/lauf/ticino-running', 'http://services.datasport.com/2014/lauf/jungfrau', 'http://services.datasport.com/2014/lauf/burgdorf', 'http://services.datasport.com/2014/zkb/rueti', 'http://services.datasport.com/2014/lauf/semi-orbe', 'http://services.datasport.com/2014/lauf/jmprolog', 'http://services.datasport.com/2014/lauf/groupe-e-tour/etape4', 'http://services.datasport.com/2014/lauf/tdpv/etape6', 'http://services.datasport.com/2014/lauf/switzerland', 'http://services.datasport.com/2014/lauf/groupe-e-tour/etape3', 'http://services.datasport.com/2014/lauf/tdpv/etape4', 'http://services.datasport.com/2014/lauf/lamara', 'http://services.datasport.com/2014/lauf/lucerne', 'http://services.datasport.com/2014/lauf/muttenz', 'http://services.datasport.com/2014/lauf/glarus', 'http://services.datasport.com/2014/lauf/schloss', 'http://services.datasport.com/2014/lauf/riehen', 'http://services.datasport.com/2014/lauf/bremgarten', 'http://services.datasport.com/2014/lauf/transviamala', 'http://services.datasport.com/2014/lauf/hallwil', 'http://services.datasport.com/2014/lauf/brienzer', 'http://services.datasport.com/2014/lauf/bueren', 'http://services.datasport.com/2014/lauf/morat', 'http://services.datasport.com/2014/lauf/basel', 'http://services.datasport.com/2014/lauf/meyrin', 'http://services.datasport.com/2014/lauf/Avent', 'http://services.datasport.com/2014/lauf/langenthal', 'http://services.datasport.com/2014/lauf/frauenfelder', 'http://services.datasport.com/2014/lauf/corrida', 'http://services.datasport.com/2014/lauf/bielercross', 'http://services.datasport.com/2014\\\\lauf\\\\augusta-raurica', 'http://services.datasport.com/2014/lauf/nightrun-morges', 'http://services.datasport.com/2014/lauf/kyburg', 'http://services.datasport.com/2014/lauf/isst', 'http://services.datasport.com/2014/lauf/wallisellen', 'http://services.datasport.com/2014/lauf/gurten', 'http://services.datasport.com/2014/lauf/noviodurun', 'http://services.datasport.com/2014/lauf/gippingen', 'http://services.datasport.com/2014/lauf/gersau', 'http://services.datasport.com/2014/lauf/silvester', 'http://services.datasport.com/2014/lauf/sion', 'http://services.datasport.com/2014/lauf/midnight', 'http://services.datasport.com/2014/lauf/trotteuse', 'http://services.datasport.com/2014/lauf/escalade', 'http://services.datasport.com/2014/lauf/gossau', 'http://services.datasport.com/2014/lauf/aigle', 'http://services.datasport.com/2015/lauf/reppischtallauf', 'http://services.datasport.com/2015/lauf/cross-malcantone', 'http://services.datasport.com/2015/zkb/zhneujahr', 'http://services.datasport.com/2015/lauf/neujahrsmarathon/', 'http://services.datasport.com/2015/lauf/reuss', 'http://services.datasport.com/2015/lauf/baden', 'http://services.datasport.com/2015/zkb/maennedorf', 'http://services.datasport.com/2015/lauf/birslauffr', 'http://services.datasport.com/2015/lauf/sm10km', 'http://services.datasport.com/2015/lauf/kerzers', 'http://services.datasport.com/2015/lauf/presinge', 'http://services.datasport.com/2015/zkb/winterthur', 'http://services.datasport.com/2015/lauf/payerne', 'http://services.datasport.com/2015/lauf/6weeks/etappe2', 'http://services.datasport.com/2015/lauf/kapoag', 'http://services.datasport.com/2015/lauf/TourDuChablais/etappe4', 'http://services.datasport.com/2015/lauf/lugano', 'http://services.datasport.com/2015/lauf/aargauer-volkslauf', 'http://services.datasport.com/2015/lauf/luzern', 'http://services.datasport.com/2015/lauf/km20', 'http://services.datasport.com/2015/lauf/kehrsatz', 'http://services.datasport.com/2015/lauf/6weeks/etappe1', 'http://services.datasport.com/2015/lauf/TourDuChablais/etappe3', 'http://services.datasport.com/2015/lauf/zuerich', 'http://services.datasport.com/2015/lauf/traines', 'http://services.datasport.com/2015/lauf/rotsee', 'http://services.datasport.com/2015/lauf/TourDuChablais/etappe2', 'http://services.datasport.com/2015/zkb/gpduebendorf', 'http://services.datasport.com/2015/lauf/buendner', 'http://services.datasport.com/2015/lauf/TourDuChablais/etappe1', 'http://services.datasport.com/2015/lauf/blenio', 'http://services.datasport.com/2015/lauf/melser-seez', 'http://services.datasport.com/2015/lauf/winterthur', 'http://services.datasport.com/2015/lauf/lburger', 'http://services.datasport.com/2015/lauf/faido', 'http://services.datasport.com/2015/lauf/6weeks/etappe6', 'http://services.datasport.com/2015/lauf/tdpv-printanier/etape2', 'http://services.datasport.com/2015/lauf/bluemlisalp', 'http://services.datasport.com/2015/lauf/sempacherseelauf', 'http://services.datasport.com/2015/lauf/tdpv-printanier/etape1', 'http://services.datasport.com/2015/lauf/6weeks/etappe5', 'http://services.datasport.com/2015/lauf/defivignoble', 'http://services.datasport.com/2015/lauf/dreilaender', 'http://services.datasport.com/2015/lauf/zofinger', 'http://services.datasport.com/2015/lauf/auffahrtslauf', 'http://services.datasport.com/2015/zkb/flughafen', 'http://services.datasport.com/2015/lauf/6weeks/etappe4', 'http://services.datasport.com/2015/lauf/TourDuChablais/etappe6', 'http://services.datasport.com/2015/lauf/6weeks/etappe3', 'http://services.datasport.com/2015/lauf/TourDuChablais/etappe5', 'http://services.datasport.com/2015/lauf/sihltaler', 'http://services.datasport.com/2015/lauf/gletscherlauf', 'http://services.datasport.com/2015/zkb/bachtel', 'http://services.datasport.com/2015/lauf/sempach', 'http://services.datasport.com/2015/lauf/laufen', 'http://services.datasport.com/2015/lauf/lauerzerseelauf', 'http://services.datasport.com/2015/lauf/derendingen', 'http://services.datasport.com/2015/lauf/chrischonalauf', 'http://services.datasport.com/2015/zkb/wyland', 'http://services.datasport.com/2015/lauf/frauenlauf', 'http://services.datasport.com/2015/lauf/girolaghiamo', 'http://services.datasport.com/2015/diverse/destilac', 'http://services.datasport.com/2015/lauf/biel', 'http://services.datasport.com/2015/lauf/tdpv-printanier/etape4', 'http://services.datasport.com/2015/lauf/toess', 'http://services.datasport.com/2015/lauf/semi-marathon-fribourg', 'http://services.datasport.com/2015/lauf/cuorsadilrein', 'http://services.datasport.com/2015/zkb/zumiker', 'http://services.datasport.com/2015/lauf/baldegger', 'http://services.datasport.com/2015/lauf/gempen', 'http://services.datasport.com/2015/lauf/tdpv-printanier/etape3', 'http://services.datasport.com/2015/lauf/aegeri', 'http://services.datasport.com/2015/lauf/eiger-trail', 'http://services.datasport.com/2015/lauf/montreux', 'http://services.datasport.com/2015/lauf/zermattmarathon', 'http://services.datasport.com/2015/lauf/tour-du-lac-de-joux', 'http://services.datasport.com/2015/lauf/crossrun', 'http://services.datasport.com/2015/lauf/sommer-gommer', 'http://services.datasport.com/2015/zkb/affoltern', 'http://services.datasport.com/2015/lauf/bellinzona-go-and-run', 'http://services.datasport.com/2015/lauf/tdpv/etape3', 'http://services.datasport.com/2015/lauf/liestal', 'http://services.datasport.com/2015/lauf/engadin', 'http://services.datasport.com/2015/lauf/rheinfall', 'http://services.datasport.com/2015/lauf/montheysanne', 'http://services.datasport.com/2015/tri/inferno', 'http://services.datasport.com/2015/lauf/rock-run-atzmaennig', 'http://services.datasport.com/2015/lauf/vullyrun', 'http://services.datasport.com/2015/lauf/swiss-management-run', 'http://services.datasport.com/2015/lauf/tdpv/etape2', 'http://services.datasport.com/2015/lauf/emme', 'http://services.datasport.com/2015/lauf/bruggelauf', 'http://services.datasport.com/2015/lauf/thunstadt', 'http://services.datasport.com/2015/lauf/irontrail', 'http://services.datasport.com/2015/lauf/tdpv/etape1', 'http://services.datasport.com/2015/lauf/zinal', 'http://services.datasport.com/2015/lauf/muensingen', 'http://services.datasport.com/2015/lauf/glacier3000', 'http://services.datasport.com/2015/lauf/thyon', 'http://services.datasport.com/2015/zkb/pfaeffiker', 'http://services.datasport.com/2015/lauf/runtothebeat', 'http://services.datasport.com/2015/lauf/stralugano', 'http://services.datasport.com/2015/lauf/carouge', 'http://services.datasport.com/2015/lauf/renens', 'http://services.datasport.com/2015/lauf/chandolin', 'http://services.datasport.com/2015/lauf/neerach', 'http://services.datasport.com/2015/lauf/vidy-lakeshore', 'http://services.datasport.com/2015/lauf/Greifenseelauf', 'http://services.datasport.com/2015/lauf/willisau', 'http://services.datasport.com/2015/lauf/traildm', 'http://services.datasport.com/2015/lauf/arosa-trailrun', 'http://services.datasport.com/2015/lauf/tdpv/etape6', 'http://services.datasport.com/2015/lauf/semi-cote', 'http://services.datasport.com/2015/lauf/jungfrau', 'http://services.datasport.com/2015/lauf/burgdorf', 'http://services.datasport.com/2015/lauf/semi-orbe', 'http://services.datasport.com/2015/zkb/rueti', 'http://services.datasport.com/2015/lauf/jmprolog', 'http://services.datasport.com/2015/lauf/tdpv/etape5', 'http://services.datasport.com/2015/lauf/switzerland', 'http://services.datasport.com/2015/lauf/chavannaise', 'http://services.datasport.com/2015/lauf/collontrek', 'http://services.datasport.com/2015/lauf/tdpv/etape4', 'http://services.datasport.com/2015/lauf/noviodurun', 'http://services.datasport.com/2015/lauf/lucerne', 'http://services.datasport.com/2015/lauf/muttenz', 'http://services.datasport.com/2015/lauf/lamara', 'http://services.datasport.com/2015/lauf/glarus', 'http://services.datasport.com/2015/lauf/transviamala', 'http://services.datasport.com/2015/lauf/ascona-locarno-marathon', 'http://services.datasport.com/2015/lauf/bremgarten', 'http://services.datasport.com/2015/lauf/schloss', 'http://services.datasport.com/2015/lauf/bueren', 'http://services.datasport.com/2015/lauf/hallwil', 'http://services.datasport.com/2015/lauf/brienzer', 'http://services.datasport.com/2015/lauf/morat', 'http://services.datasport.com/2015/lauf/basel', 'http://services.datasport.com/2015/lauf/meyrin', 'http://services.datasport.com/2015/lauf/corrida', 'http://services.datasport.com/2015/lauf/frauenfelder', 'http://services.datasport.com/2015/lauf/langenthal', 'http://services.datasport.com/2015/lauf/nightrun-morges', 'http://services.datasport.com/2015/lauf/isst', 'http://services.datasport.com/2015\\\\lauf\\\\augusta-raurica', 'http://services.datasport.com/2015/lauf/bielercross', 'http://services.datasport.com/2015/lauf/kyburg', 'http://services.datasport.com/2015/lauf/wallisellen', 'http://services.datasport.com/2015/lauf/gurten', 'http://services.datasport.com/2015/lauf/gippingen', 'http://services.datasport.com/2015/lauf/gersau', 'http://services.datasport.com/2015/lauf/silvester', 'http://services.datasport.com/2015/lauf/sion', 'http://services.datasport.com/2015/lauf/midnight', 'http://services.datasport.com/2015/lauf/trotteuse', 'http://services.datasport.com/2015/lauf/escalade', 'http://services.datasport.com/2015/lauf/gossau', 'http://services.datasport.com/2015/lauf/aigle']\n"
     ]
    }
   ],
   "source": [
    "list_url = []\n",
    "\n",
    "etyp = 'Running'\n",
    "eventlocation = 'CCH'\n",
    "eventservice = 'all'\n",
    "\n",
    "eventmonth = []\n",
    "for month in range(12):\n",
    "    eventmonth.append(str(month+1).zfill(2))\n",
    "eventyear = []\n",
    "for year in range(1999,2016):\n",
    "    eventyear.append(str(year).zfill(4))\n",
    "\n",
    "for year in eventyear:\n",
    "    for month in eventmonth:\n",
    "        d = {'etyp': etyp, 'eventlocation': eventlocation, \n",
    "             'eventmonth': month, 'eventservice': eventservice,\n",
    "             'eventyear': year}\n",
    "        post_source = rq.post('https://www.datasport.com/fr/calendrier/',data=d)\n",
    "        form = bs4.BeautifulSoup(post_source.text, \"html.parser\")\n",
    "        #print(form.prettify())\n",
    "        find_a = form.find_all('a')\n",
    "        for a in find_a:\n",
    "            if (a['href']).startswith('http://services.datasport.com/') :\n",
    "                list_url.append(a['href'])\n",
    "\n",
    "print(list_url)"
   ]
  },
  {
   "cell_type": "code",
   "execution_count": 29,
   "metadata": {
    "collapsed": false
   },
   "outputs": [
    {
     "ename": "AttributeError",
     "evalue": "'list' object has no attribute 'to_csv'",
     "output_type": "error",
     "traceback": [
      "\u001b[1;31m---------------------------------------------------------------------------\u001b[0m",
      "\u001b[1;31mAttributeError\u001b[0m                            Traceback (most recent call last)",
      "\u001b[1;32m<ipython-input-29-7fa1947ad60b>\u001b[0m in \u001b[0;36m<module>\u001b[1;34m()\u001b[0m\n\u001b[1;32m----> 1\u001b[1;33m \u001b[0mlist_url\u001b[0m\u001b[1;33m.\u001b[0m\u001b[0mto_csv\u001b[0m\u001b[1;33m(\u001b[0m\u001b[1;34m'url.csv'\u001b[0m\u001b[1;33m)\u001b[0m\u001b[1;33m\u001b[0m\u001b[0m\n\u001b[0m",
      "\u001b[1;31mAttributeError\u001b[0m: 'list' object has no attribute 'to_csv'"
     ]
    }
   ],
   "source": [
    "thefile = open('url_list.txt', 'w')\n",
    "for item in list_url:\n",
    "  thefile.write(\"%s\\n\" % item)"
   ]
  },
  {
   "cell_type": "markdown",
   "metadata": {},
   "source": [
    "## Let's get some data\n",
    "\n",
    "In order to get started, we can now start collecting the results from the Lausanne marathone, one of the main early event in Switzerland.  "
   ]
  },
  {
   "cell_type": "markdown",
   "metadata": {},
   "source": [
    "Understand the html of the main page, and __extract the relevant parameters__ to query:"
   ]
  },
  {
   "cell_type": "code",
   "execution_count": 60,
   "metadata": {
    "collapsed": false
   },
   "outputs": [
    {
     "name": "stdout",
     "output_type": "stream",
     "text": [
      "number of categories in the main page: 119\n"
     ]
    }
   ],
   "source": [
    "laus_mar_url = 'https://services.datasport.com/2016/lauf/lamara/'\n",
    "result_html = rq.get(laus_mar_url)\n",
    "\n",
    "# use BS to get the classes in which the data is devided:\n",
    "\n",
    "result_soup = bs4.BeautifulSoup(result_html.text, \"lxml\")\n",
    "result_font = result_soup.find_all('font')\n",
    "\n",
    "print('number of categories in the main page:', len(result_font))"
   ]
  },
  {
   "cell_type": "code",
   "execution_count": 144,
   "metadata": {
    "collapsed": false
   },
   "outputs": [
    {
     "name": "stdout",
     "output_type": "stream",
     "text": [
      "Marathon Dames Overall (220 classées)\n",
      "Semi Marathon Hommes Overall (2934 classés)\n",
      "Semi Marathon Dames Overall (1480 classées)\n",
      "10km Hommes Overall (2769 classés)\n",
      "10km Dames Overall (2747 classées)\n"
     ]
    }
   ],
   "source": [
    "# we look for the ones containing \n",
    "# '*** Overall ***', as they are the most general categories \n",
    "\n",
    "# this is indeed probably a GENERAL KEYWORD, as it's indeed found also in\n",
    "# events in other laungauges, \n",
    "# like https://services.datasport.com/2016/lauf/ascona-locarno-marathon/\n",
    "\n",
    "good_fonts_num = []\n",
    "\n",
    "for n_font, font in enumerate(result_font):\n",
    "    \n",
    "    if 'Overall' in font.findChild().get_text():\n",
    "            \n",
    "        good_fonts_num.append(n_font)\n",
    "        print(font.findChild().get_text())\n",
    "        \n",
    "        \n",
    "good_fonts_num = np.asarray(good_fonts_num)        \n",
    "        \n",
    "#  S***** -.- THERE IS A PROBLEM with the marathon hommes : \n",
    "# they are not in the same 'html shape' .. -.-"
   ]
  },
  {
   "cell_type": "code",
   "execution_count": 145,
   "metadata": {
    "collapsed": false
   },
   "outputs": [
    {
     "data": {
      "text/plain": [
       "array([ 3,  5,  7,  9, 11])"
      ]
     },
     "execution_count": 145,
     "metadata": {},
     "output_type": "execute_result"
    }
   ],
   "source": [
    "good_fonts_num"
   ]
  },
  {
   "cell_type": "code",
   "execution_count": 146,
   "metadata": {
    "collapsed": true
   },
   "outputs": [],
   "source": [
    "# we have to get all: href=RANG*** b\n",
    "\n",
    "rang_to_query = []\n",
    "\n",
    "for i in range(len(good_fonts_num)-1):\n",
    "        \n",
    "    my_font = result_font[good_fonts_num[i] + 1]\n",
    "    a_tag = my_font.find_all('a')\n",
    "    \n",
    "    for t in a_tag:\n",
    "    \n",
    "        if 'RANG' in t['href']:\n",
    "            \n",
    "            rang_to_query.append(t['href'])\n",
    "        \n",
    "#             print(t['href'])"
   ]
  },
  {
   "cell_type": "markdown",
   "metadata": {},
   "source": [
    "Query the datasport.com with the right parameters and finally get the __tables__:"
   ]
  },
  {
   "cell_type": "code",
   "execution_count": 155,
   "metadata": {
    "collapsed": false
   },
   "outputs": [
    {
     "data": {
      "text/plain": [
       "'https://services.datasport.com/2016/lauf/lamara/RANG092-001.HTM'"
      ]
     },
     "execution_count": 155,
     "metadata": {},
     "output_type": "execute_result"
    }
   ],
   "source": [
    "base_url = \"https://services.datasport.com/2016/lauf/lamara\"\n",
    "base_url + '/' + rang_to_query[0]"
   ]
  },
  {
   "cell_type": "code",
   "execution_count": 157,
   "metadata": {
    "collapsed": false
   },
   "outputs": [],
   "source": [
    "# Get raw HTML response\n",
    "result_html = rq.get(base_url, params=rang_to_query[0])\n",
    "\n",
    "# Use BeautifulSoup and extract the first (and only) HTML table\n",
    "result_soup = bs4.BeautifulSoup(result_html.text, \"lxml\")\n",
    "# result_table = result_soup.find_all('table')[0]\n",
    "\n",
    "# print(result_table.prettify())\n",
    "\n",
    "df_trail = pd.read_html(result_soup.decode())"
   ]
  },
  {
   "cell_type": "code",
   "execution_count": null,
   "metadata": {
    "collapsed": true
   },
   "outputs": [],
   "source": [
    "df_trail."
   ]
  },
  {
   "cell_type": "code",
   "execution_count": null,
   "metadata": {
    "collapsed": true
   },
   "outputs": [],
   "source": []
  },
  {
   "cell_type": "code",
   "execution_count": null,
   "metadata": {
    "collapsed": true
   },
   "outputs": [],
   "source": []
  },
  {
   "cell_type": "markdown",
   "metadata": {},
   "source": [
    "# ******* ******* ******* ******* *******  \n",
    "# OLD CODE \n",
    "# ******* ******* ******* ******* ******* ******* "
   ]
  },
  {
   "cell_type": "code",
   "execution_count": null,
   "metadata": {
    "collapsed": false
   },
   "outputs": [],
   "source": [
    "df = pd.read_html(result_table.decode())[0]\n",
    "df.head()"
   ]
  },
  {
   "cell_type": "code",
   "execution_count": null,
   "metadata": {
    "collapsed": false
   },
   "outputs": [],
   "source": [
    "df.columns = df.loc[1]                # use row 2 as column names\n",
    "df = df.drop([0, 1])                  # drop useless first rows\n",
    "df = df.drop([np.nan], axis=1)        # drop useless nan column\n",
    "df.index = df['No Sciper']            # use sciper column as index\n",
    "\n",
    "# Drop some columns\n",
    "df = df.drop(['Orientation Bachelor', 'Orientation Master', 'Filière opt.', 'Type Echange', 'Ecole Echange'], axis=1)\n",
    "\n",
    "# Do some renaming\n",
    "df.index.name = 'sciper'\n",
    "df.columns = ['gender', 'full_name', 'specialization', 'minor', 'status', 'sciper']\n",
    "\n",
    "# Map gender to more standard names\n",
    "dict_gender = {'Monsieur': 'male','Madame': 'female'}\n",
    "df.gender.replace(dict_gender, inplace=True)\n",
    "df.head()"
   ]
  },
  {
   "cell_type": "markdown",
   "metadata": {},
   "source": [
    "## Some tools\n",
    "\n",
    "We can define a helper function which, given a base URL and a dictionary of parameters, will fetch the data and fill a DataFrame with it."
   ]
  },
  {
   "cell_type": "code",
   "execution_count": null,
   "metadata": {
    "collapsed": false
   },
   "outputs": [],
   "source": [
    "def get_data(base_url, params_dict):\n",
    "    \"\"\"Get data from IS-Academia in a pandas DataFrame\"\"\"\n",
    "    \n",
    "    # Same sequence of operations of above, with a check if the result_table is empty\n",
    "    \n",
    "    result_html = rq.get(base_url,params=params_dict)\n",
    "    result_soup = bs4.BeautifulSoup(result_html.text, \"lxml\")\n",
    "    result_table = result_soup.find_all('table')[0]\n",
    "    \n",
    "    if (result_table.text == ''):\n",
    "        # Return empty dataframe\n",
    "        df = pd.DataFrame()\n",
    "    else:\n",
    "        # Build a DataFrame containing the data, with SCIPER as index\n",
    "        df = pd.read_html(result_table.decode())[0]\n",
    "        try:\n",
    "            df.columns = df.loc[1]                # use 2nd row as column names\n",
    "            df = df.drop([0, 1])                  # drop useless first rows\n",
    "            df = df.drop([np.nan], axis=1)        # drop useless nan column\n",
    "            df.index = df['No Sciper']            # use sciper column as index\n",
    "        \n",
    "            # Drop some columns\n",
    "            df = df.drop(['Orientation Bachelor', 'Orientation Master', 'Filière opt.', 'Type Echange', 'Ecole Echange'], axis=1)\n",
    "            # Do some renaming\n",
    "            df.index.name = 'sciper'\n",
    "            df.columns = ['gender', 'full_name', 'specialization', 'minor', 'status', 'sciper']\n",
    "            # Map gender to more standard names\n",
    "            dict_gender = {'Monsieur': 'male','Madame': 'female'}\n",
    "            df.gender.replace(dict_gender, inplace=True)\n",
    "        except:\n",
    "            df = pd.DataFrame()\n",
    "    \n",
    "    return df"
   ]
  },
  {
   "cell_type": "markdown",
   "metadata": {},
   "source": [
    "The following lines test this function with hardcoded values :"
   ]
  },
  {
   "cell_type": "code",
   "execution_count": null,
   "metadata": {
    "collapsed": false,
    "scrolled": true
   },
   "outputs": [],
   "source": [
    "base_url = \"http://isa.epfl.ch/imoniteur_ISAP/!GEDPUBLICREPORTS.html?\"\n",
    "params_dict = {\n",
    "    'ww_x_GPS': 2021043255,\n",
    "    'ww_i_reportModel': 133685247,\n",
    "    'ww_i_reportModelXsl': 133685270,\n",
    "    'ww_x_UNITE_ACAD': 249847,\n",
    "    'ww_x_PERIODE_ACAD': 355925344,\n",
    "    'ww_x_PERIODE_PEDAGO': 249108,\n",
    "    'ww_x_HIVERETE':2936286\n",
    "}\n",
    "\n",
    "get_data(base_url, params_dict).head()"
   ]
  },
  {
   "cell_type": "markdown",
   "metadata": {},
   "source": [
    "Finally let's get all the possible values in a cleaner way and keep them in variables that we will use throughout this notebook."
   ]
  },
  {
   "cell_type": "code",
   "execution_count": null,
   "metadata": {
    "collapsed": false,
    "scrolled": false
   },
   "outputs": [],
   "source": [
    "acad_period = {}\n",
    "level = {}\n",
    "semester = {}\n",
    "acad_unit = {}\n",
    "\n",
    "for s in selectors:\n",
    "    options = s.find_all('option')\n",
    "    options_desc_values = [(o.text, o.attrs['value']) for o in options]\n",
    "    s_name = s.attrs['name']\n",
    "    choices = {d: int(v) for (d,v) in options_desc_values if d!=''}\n",
    "    \n",
    "    if s_name == 'ww_x_PERIODE_ACAD':\n",
    "        acad_period = choices\n",
    "    elif s_name == 'ww_x_PERIODE_PEDAGO':\n",
    "        level = choices\n",
    "    elif s_name == 'ww_x_HIVERETE':\n",
    "        for (d,v) in options_desc_values:\n",
    "            if 'automne' in d:\n",
    "                semester['automne'] = int(v)\n",
    "            elif 'printemps' in d:\n",
    "                semester['printemps'] =int(v)\n",
    "    elif s_name == 'ww_x_UNITE_ACAD':\n",
    "        acad_unit = choices\n",
    "\n",
    "# Example of result\n",
    "acad_period"
   ]
  },
  {
   "cell_type": "markdown",
   "metadata": {},
   "source": [
    "### Store data locally"
   ]
  },
  {
   "cell_type": "code",
   "execution_count": null,
   "metadata": {
    "collapsed": false
   },
   "outputs": [],
   "source": [
    "# Get bachelor data for every year and store it if it's not empty\n",
    "import os\n",
    "local_dir = '.local-data'\n",
    "try:\n",
    "    os.mkdir(local_dir)\n",
    "except FileExistsError:\n",
    "    # directory exists\n",
    "    print(\"Using existing '\" + local_dir + \"' directory\")"
   ]
  },
  {
   "cell_type": "code",
   "execution_count": null,
   "metadata": {
    "collapsed": false
   },
   "outputs": [],
   "source": [
    "# Fixed values\n",
    "params_dict = {\n",
    "    'ww_x_GPS': -1,\n",
    "    'ww_i_reportModel': 133685247,\n",
    "    'ww_i_reportModelXsl': 133685270,\n",
    "    'ww_x_UNITE_ACAD': acad_unit['Informatique']\n",
    "}\n",
    "\n",
    "# Iterate over all the varying params and keep only data for bachelors\n",
    "for year_key, year_value in acad_period.items():\n",
    "    for level_key, level_value in level.items():\n",
    "        for semester_key, semester_value in semester.items():\n",
    "            if 'bachelor' in level_key.lower():\n",
    "                params_dict['ww_x_PERIODE_ACAD'] = year_value\n",
    "                params_dict['ww_x_PERIODE_PEDAGO'] = level_value\n",
    "                params_dict['ww_x_HIVERETE'] = semester_value\n",
    "                \n",
    "                df = get_data(base_url, params_dict)\n",
    "                if not df.empty:\n",
    "                    # Persist dataframe locally with pickle\n",
    "                    filename = year_key + '-' + level_key.replace(' ', '-').lower() + '-' + semester_key\n",
    "                    df.to_pickle(local_dir + '/' + filename)"
   ]
  },
  {
   "cell_type": "code",
   "execution_count": null,
   "metadata": {
    "collapsed": false
   },
   "outputs": [],
   "source": [
    "# the previous cell should download 60 files!, as you can check with this command:\n",
    "print(len([name for name in os.listdir(local_dir)]))"
   ]
  },
  {
   "cell_type": "markdown",
   "metadata": {},
   "source": [
    "We hereby show an example of dataframe laoded from the files previously download:"
   ]
  },
  {
   "cell_type": "code",
   "execution_count": null,
   "metadata": {
    "collapsed": false,
    "scrolled": false
   },
   "outputs": [],
   "source": [
    "df_example = pd.read_pickle(local_dir + '/2007-2008-bachelor-semestre-6-printemps')\n",
    "df_example.head()"
   ]
  }
 ],
 "metadata": {
  "anaconda-cloud": {},
  "kernelspec": {
   "display_name": "Python [Root]",
   "language": "python",
   "name": "Python [Root]"
  },
  "language_info": {
   "codemirror_mode": {
    "name": "ipython",
    "version": 3
   },
   "file_extension": ".py",
   "mimetype": "text/x-python",
   "name": "python",
   "nbconvert_exporter": "python",
   "pygments_lexer": "ipython3",
   "version": "3.5.2"
  }
 },
 "nbformat": 4,
 "nbformat_minor": 0
}
