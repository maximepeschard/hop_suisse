{
 "cells": [
  {
   "cell_type": "code",
   "execution_count": 1,
   "metadata": {
    "collapsed": true
   },
   "outputs": [],
   "source": [
    "# important modules for this HW\n",
    "import bs4 # doc: https://www.crummy.com/software/BeautifulSoup/bs4/doc/\n",
    "import requests as rq \n",
    "import re\n",
    "import time\n",
    "# previous useful modules\n",
    "%matplotlib inline\n",
    "import pandas as pd\n",
    "import numpy as np\n",
    "import matplotlib.pyplot as plt\n",
    "import seaborn as sns\n",
    "sns.set_context('notebook')"
   ]
  },
  {
   "cell_type": "code",
   "execution_count": 2,
   "metadata": {
    "collapsed": true
   },
   "outputs": [],
   "source": [
    "import copy\n",
    "import datetime"
   ]
  },
  {
   "cell_type": "markdown",
   "metadata": {},
   "source": [
    "# Loading the 2 dataset"
   ]
  },
  {
   "cell_type": "code",
   "execution_count": 3,
   "metadata": {
    "collapsed": true
   },
   "outputs": [],
   "source": [
    "df1=pd.read_csv('/home/stefano/Dropbox/Universita/Losanna/Exam/Anno2/DataAnalysis/main_database_1.csv')"
   ]
  },
  {
   "cell_type": "code",
   "execution_count": 4,
   "metadata": {
    "collapsed": true
   },
   "outputs": [],
   "source": [
    "df2=pd.read_csv('/home/stefano/Dropbox/Universita/Losanna/Exam/Anno2/DataAnalysis/main_database_2.csv')"
   ]
  },
  {
   "cell_type": "code",
   "execution_count": 5,
   "metadata": {
    "collapsed": true
   },
   "outputs": [],
   "source": [
    "df=pd.concat([df1,df2],axis=0)"
   ]
  },
  {
   "cell_type": "code",
   "execution_count": 6,
   "metadata": {
    "collapsed": false
   },
   "outputs": [
    {
     "data": {
      "text/html": [
       "<div>\n",
       "<table border=\"1\" class=\"dataframe\">\n",
       "  <thead>\n",
       "    <tr style=\"text-align: right;\">\n",
       "      <th></th>\n",
       "      <th>cat</th>\n",
       "      <th>sex</th>\n",
       "      <th>rang</th>\n",
       "      <th>nom</th>\n",
       "      <th>an</th>\n",
       "      <th>lieu</th>\n",
       "      <th>temps</th>\n",
       "      <th>retard</th>\n",
       "      <th>pace</th>\n",
       "      <th>link</th>\n",
       "    </tr>\n",
       "  </thead>\n",
       "  <tbody>\n",
       "    <tr>\n",
       "      <th>0</th>\n",
       "      <td>M/M30</td>\n",
       "      <td>M</td>\n",
       "      <td>16</td>\n",
       "      <td>Abderhalden Seth</td>\n",
       "      <td>69</td>\n",
       "      <td>Luzern</td>\n",
       "      <td>3:33.32,9</td>\n",
       "      <td>37.38,2</td>\n",
       "      <td>False</td>\n",
       "      <td>http://services.datasport.com/1999/lauf/biel/A...</td>\n",
       "    </tr>\n",
       "    <tr>\n",
       "      <th>1</th>\n",
       "      <td>Klasse8</td>\n",
       "      <td>False</td>\n",
       "      <td>8</td>\n",
       "      <td>Abdirizak Ayanle, Biel/Bienne</td>\n",
       "      <td>84</td>\n",
       "      <td>Schule Sahligut Hinterman</td>\n",
       "      <td>14.02,3</td>\n",
       "      <td>5.06,5</td>\n",
       "      <td>False</td>\n",
       "      <td>http://services.datasport.com/1999/lauf/biel/A...</td>\n",
       "    </tr>\n",
       "    <tr>\n",
       "      <th>2</th>\n",
       "      <td>Klasse8</td>\n",
       "      <td>False</td>\n",
       "      <td>3</td>\n",
       "      <td>Abduli Ajete, Biel/Bienne</td>\n",
       "      <td>84</td>\n",
       "      <td>Schule Sahligut Hinterman</td>\n",
       "      <td>10.50,4</td>\n",
       "      <td>1.54,6</td>\n",
       "      <td>False</td>\n",
       "      <td>http://services.datasport.com/1999/lauf/biel/A...</td>\n",
       "    </tr>\n",
       "    <tr>\n",
       "      <th>3</th>\n",
       "      <td>Klasse8</td>\n",
       "      <td>False</td>\n",
       "      <td>9</td>\n",
       "      <td>Abou Al Nassr Chaled, Biel/Bienne</td>\n",
       "      <td>84</td>\n",
       "      <td>Schule Sahligut Hinterman</td>\n",
       "      <td>14.09,9</td>\n",
       "      <td>5.14,1</td>\n",
       "      <td>False</td>\n",
       "      <td>http://services.datasport.com/1999/lauf/biel/A...</td>\n",
       "    </tr>\n",
       "    <tr>\n",
       "      <th>4</th>\n",
       "      <td>H/M35</td>\n",
       "      <td>M</td>\n",
       "      <td>1</td>\n",
       "      <td>Abplanalp Michael</td>\n",
       "      <td>64</td>\n",
       "      <td>Bern</td>\n",
       "      <td>1:16.53,8</td>\n",
       "      <td>---</td>\n",
       "      <td>False</td>\n",
       "      <td>http://services.datasport.com/1999/lauf/biel/A...</td>\n",
       "    </tr>\n",
       "  </tbody>\n",
       "</table>\n",
       "</div>"
      ],
      "text/plain": [
       "       cat    sex  rang                                 nom  an  \\\n",
       "0    M/M30      M    16                   Abderhalden Seth   69   \n",
       "1  Klasse8  False     8      Abdirizak Ayanle, Biel/Bienne   84   \n",
       "2  Klasse8  False     3          Abduli Ajete, Biel/Bienne   84   \n",
       "3  Klasse8  False     9  Abou Al Nassr Chaled, Biel/Bienne   84   \n",
       "4    H/M35      M     1                  Abplanalp Michael   64   \n",
       "\n",
       "                         lieu      temps   retard   pace  \\\n",
       "0                      Luzern  3:33.32,9  37.38,2  False   \n",
       "1   Schule Sahligut Hinterman    14.02,3   5.06,5  False   \n",
       "2   Schule Sahligut Hinterman    10.50,4   1.54,6  False   \n",
       "3   Schule Sahligut Hinterman    14.09,9   5.14,1  False   \n",
       "4                        Bern  1:16.53,8      ---  False   \n",
       "\n",
       "                                                link  \n",
       "0  http://services.datasport.com/1999/lauf/biel/A...  \n",
       "1  http://services.datasport.com/1999/lauf/biel/A...  \n",
       "2  http://services.datasport.com/1999/lauf/biel/A...  \n",
       "3  http://services.datasport.com/1999/lauf/biel/A...  \n",
       "4  http://services.datasport.com/1999/lauf/biel/A...  "
      ]
     },
     "execution_count": 6,
     "metadata": {},
     "output_type": "execute_result"
    }
   ],
   "source": [
    "df.head()"
   ]
  },
  {
   "cell_type": "code",
   "execution_count": 7,
   "metadata": {
    "collapsed": false
   },
   "outputs": [],
   "source": [
    "df['index'] = np.arange(len(df))\n",
    "df = df.set_index('index')"
   ]
  },
  {
   "cell_type": "markdown",
   "metadata": {},
   "source": [
    "# Links2run integration"
   ]
  },
  {
   "cell_type": "markdown",
   "metadata": {},
   "source": [
    "### Loading links2run"
   ]
  },
  {
   "cell_type": "code",
   "execution_count": 8,
   "metadata": {
    "collapsed": true
   },
   "outputs": [],
   "source": [
    "links2runs=pd.read_csv('../datasets/links2runs.csv')\n",
    "del links2runs['Unnamed: 0']"
   ]
  },
  {
   "cell_type": "code",
   "execution_count": 9,
   "metadata": {
    "collapsed": false
   },
   "outputs": [],
   "source": [
    "links2runs=links2runs.set_index(links2runs.URL)"
   ]
  },
  {
   "cell_type": "code",
   "execution_count": 10,
   "metadata": {
    "collapsed": false,
    "scrolled": true
   },
   "outputs": [
    {
     "data": {
      "text/html": [
       "<div>\n",
       "<table border=\"1\" class=\"dataframe\">\n",
       "  <thead>\n",
       "    <tr style=\"text-align: right;\">\n",
       "      <th></th>\n",
       "      <th>Date</th>\n",
       "      <th>Name</th>\n",
       "      <th>Place</th>\n",
       "      <th>URL</th>\n",
       "    </tr>\n",
       "    <tr>\n",
       "      <th>URL</th>\n",
       "      <th></th>\n",
       "      <th></th>\n",
       "      <th></th>\n",
       "      <th></th>\n",
       "    </tr>\n",
       "  </thead>\n",
       "  <tbody>\n",
       "    <tr>\n",
       "      <th>http://services.datasport.com/1999/zkb/maennedorf</th>\n",
       "      <td>sam. 27.03.1999</td>\n",
       "      <td>Männedörfler Waldlauf</td>\n",
       "      <td>Männedorf</td>\n",
       "      <td>http://services.datasport.com/1999/zkb/maennedorf</td>\n",
       "    </tr>\n",
       "    <tr>\n",
       "      <th>http://services.datasport.com/1999/lauf/kerzers</th>\n",
       "      <td>sam. 20.03.1999</td>\n",
       "      <td>Kerzerslauf</td>\n",
       "      <td>Kerzers</td>\n",
       "      <td>http://services.datasport.com/1999/lauf/kerzers</td>\n",
       "    </tr>\n",
       "    <tr>\n",
       "      <th>http://services.datasport.com/1999/lauf/luzern</th>\n",
       "      <td>sam. 24.04.1999</td>\n",
       "      <td>Luzerner Stadtlauf</td>\n",
       "      <td>Luzern</td>\n",
       "      <td>http://services.datasport.com/1999/lauf/luzern</td>\n",
       "    </tr>\n",
       "  </tbody>\n",
       "</table>\n",
       "</div>"
      ],
      "text/plain": [
       "                                                              Date  \\\n",
       "URL                                                                  \n",
       "http://services.datasport.com/1999/zkb/maennedorf  sam. 27.03.1999   \n",
       "http://services.datasport.com/1999/lauf/kerzers    sam. 20.03.1999   \n",
       "http://services.datasport.com/1999/lauf/luzern     sam. 24.04.1999   \n",
       "\n",
       "                                                                    Name  \\\n",
       "URL                                                                        \n",
       "http://services.datasport.com/1999/zkb/maennedorf  Männedörfler Waldlauf   \n",
       "http://services.datasport.com/1999/lauf/kerzers              Kerzerslauf   \n",
       "http://services.datasport.com/1999/lauf/luzern        Luzerner Stadtlauf   \n",
       "\n",
       "                                                       Place  \\\n",
       "URL                                                            \n",
       "http://services.datasport.com/1999/zkb/maennedorf  Männedorf   \n",
       "http://services.datasport.com/1999/lauf/kerzers      Kerzers   \n",
       "http://services.datasport.com/1999/lauf/luzern        Luzern   \n",
       "\n",
       "                                                                                                 URL  \n",
       "URL                                                                                                   \n",
       "http://services.datasport.com/1999/zkb/maennedorf  http://services.datasport.com/1999/zkb/maennedorf  \n",
       "http://services.datasport.com/1999/lauf/kerzers      http://services.datasport.com/1999/lauf/kerzers  \n",
       "http://services.datasport.com/1999/lauf/luzern        http://services.datasport.com/1999/lauf/luzern  "
      ]
     },
     "execution_count": 10,
     "metadata": {},
     "output_type": "execute_result"
    }
   ],
   "source": [
    "links2runs.head(3)"
   ]
  },
  {
   "cell_type": "code",
   "execution_count": 11,
   "metadata": {
    "collapsed": false
   },
   "outputs": [
    {
     "data": {
      "text/html": [
       "<div>\n",
       "<table border=\"1\" class=\"dataframe\">\n",
       "  <thead>\n",
       "    <tr style=\"text-align: right;\">\n",
       "      <th></th>\n",
       "      <th>Date</th>\n",
       "      <th>Name</th>\n",
       "      <th>Place</th>\n",
       "      <th>URL</th>\n",
       "    </tr>\n",
       "    <tr>\n",
       "      <th>URL</th>\n",
       "      <th></th>\n",
       "      <th></th>\n",
       "      <th></th>\n",
       "      <th></th>\n",
       "    </tr>\n",
       "  </thead>\n",
       "  <tbody>\n",
       "    <tr>\n",
       "      <th>http://services.datasport.com/2000/lauf/tdcn</th>\n",
       "      <td>mer. 26.04.2000</td>\n",
       "      <td>BCN Tour St. Aubin</td>\n",
       "      <td>Chézard-St-Martin</td>\n",
       "      <td>http://services.datasport.com/2000/lauf/tdcn</td>\n",
       "    </tr>\n",
       "    <tr>\n",
       "      <th>http://services.datasport.com/2000/lauf/tdcn</th>\n",
       "      <td>mer. 19.04.2000</td>\n",
       "      <td>BCN Tour Le Landeron</td>\n",
       "      <td>Colombier NE</td>\n",
       "      <td>http://services.datasport.com/2000/lauf/tdcn</td>\n",
       "    </tr>\n",
       "    <tr>\n",
       "      <th>http://services.datasport.com/2000/lauf/tdcn</th>\n",
       "      <td>mer. 24.05.2000</td>\n",
       "      <td>BCN Tour Neuchâtel</td>\n",
       "      <td>Neuchâtel</td>\n",
       "      <td>http://services.datasport.com/2000/lauf/tdcn</td>\n",
       "    </tr>\n",
       "    <tr>\n",
       "      <th>http://services.datasport.com/2000/lauf/tdcn</th>\n",
       "      <td>mer. 17.05.2000</td>\n",
       "      <td>BCN Tour La Sagne</td>\n",
       "      <td>Couvet</td>\n",
       "      <td>http://services.datasport.com/2000/lauf/tdcn</td>\n",
       "    </tr>\n",
       "    <tr>\n",
       "      <th>http://services.datasport.com/2000/lauf/tdcn</th>\n",
       "      <td>mer. 10.05.2000</td>\n",
       "      <td>BCN Tour Dombresson</td>\n",
       "      <td>La Chaux-de-Fonds</td>\n",
       "      <td>http://services.datasport.com/2000/lauf/tdcn</td>\n",
       "    </tr>\n",
       "    <tr>\n",
       "      <th>http://services.datasport.com/2000/lauf/tdcn</th>\n",
       "      <td>mer. 03.05.2000</td>\n",
       "      <td>BCN Tour Noiraigue</td>\n",
       "      <td>Les Ponts-de-Martel</td>\n",
       "      <td>http://services.datasport.com/2000/lauf/tdcn</td>\n",
       "    </tr>\n",
       "  </tbody>\n",
       "</table>\n",
       "</div>"
      ],
      "text/plain": [
       "                                                         Date  \\\n",
       "URL                                                             \n",
       "http://services.datasport.com/2000/lauf/tdcn  mer. 26.04.2000   \n",
       "http://services.datasport.com/2000/lauf/tdcn  mer. 19.04.2000   \n",
       "http://services.datasport.com/2000/lauf/tdcn  mer. 24.05.2000   \n",
       "http://services.datasport.com/2000/lauf/tdcn  mer. 17.05.2000   \n",
       "http://services.datasport.com/2000/lauf/tdcn  mer. 10.05.2000   \n",
       "http://services.datasport.com/2000/lauf/tdcn  mer. 03.05.2000   \n",
       "\n",
       "                                                              Name  \\\n",
       "URL                                                                  \n",
       "http://services.datasport.com/2000/lauf/tdcn    BCN Tour St. Aubin   \n",
       "http://services.datasport.com/2000/lauf/tdcn  BCN Tour Le Landeron   \n",
       "http://services.datasport.com/2000/lauf/tdcn    BCN Tour Neuchâtel   \n",
       "http://services.datasport.com/2000/lauf/tdcn     BCN Tour La Sagne   \n",
       "http://services.datasport.com/2000/lauf/tdcn   BCN Tour Dombresson   \n",
       "http://services.datasport.com/2000/lauf/tdcn    BCN Tour Noiraigue   \n",
       "\n",
       "                                                            Place  \\\n",
       "URL                                                                 \n",
       "http://services.datasport.com/2000/lauf/tdcn    Chézard-St-Martin   \n",
       "http://services.datasport.com/2000/lauf/tdcn         Colombier NE   \n",
       "http://services.datasport.com/2000/lauf/tdcn            Neuchâtel   \n",
       "http://services.datasport.com/2000/lauf/tdcn               Couvet   \n",
       "http://services.datasport.com/2000/lauf/tdcn    La Chaux-de-Fonds   \n",
       "http://services.datasport.com/2000/lauf/tdcn  Les Ponts-de-Martel   \n",
       "\n",
       "                                                                                       URL  \n",
       "URL                                                                                         \n",
       "http://services.datasport.com/2000/lauf/tdcn  http://services.datasport.com/2000/lauf/tdcn  \n",
       "http://services.datasport.com/2000/lauf/tdcn  http://services.datasport.com/2000/lauf/tdcn  \n",
       "http://services.datasport.com/2000/lauf/tdcn  http://services.datasport.com/2000/lauf/tdcn  \n",
       "http://services.datasport.com/2000/lauf/tdcn  http://services.datasport.com/2000/lauf/tdcn  \n",
       "http://services.datasport.com/2000/lauf/tdcn  http://services.datasport.com/2000/lauf/tdcn  \n",
       "http://services.datasport.com/2000/lauf/tdcn  http://services.datasport.com/2000/lauf/tdcn  "
      ]
     },
     "execution_count": 11,
     "metadata": {},
     "output_type": "execute_result"
    }
   ],
   "source": [
    "links2runs.loc['http://services.datasport.com/2000/lauf/tdcn']"
   ]
  },
  {
   "cell_type": "code",
   "execution_count": 12,
   "metadata": {
    "collapsed": false,
    "scrolled": true
   },
   "outputs": [
    {
     "data": {
      "text/plain": [
       "http://services.datasport.com/2000/lauf/tdcn                      6\n",
       "http://services.datasport.com/2002/lauf/tdpv/etape3               2\n",
       "http://services.datasport.com/2011/lauf/tdpv/etape4               2\n",
       "http://services.datasport.com/2007/lauf/zueriwalkt                2\n",
       "http://services.datasport.com/2009/lauf/defi                      2\n",
       "http://services.datasport.com/2009/lauf/tdpv/etape4               2\n",
       "http://services.datasport.com/2003/lauf/tdpv/etape3               2\n",
       "http://services.datasport.com/2007/diverse/tzampata               2\n",
       "http://services.datasport.com/2010/lauf/tdpv/etape4               2\n",
       "http://services.datasport.com/2006/lauf/morat                     2\n",
       "http://services.datasport.com/2011/lauf/willisau                  1\n",
       "http://services.datasport.com/2014/lauf/montreux                  1\n",
       "http://services.datasport.com/2002/lauf/tdcn/etape2               1\n",
       "http://services.datasport.com/2014/lauf/tdpv/etape6               1\n",
       "http://services.datasport.com/2012/lauf/sempach                   1\n",
       "http://services.datasport.com/2010/lauf/langenthal                1\n",
       "http://services.datasport.com/2013/lauf/langenthal                1\n",
       "http://services.datasport.com/2009/lauf/liestal                   1\n",
       "http://services.datasport.com/2011/lauf/appenzellerlauf           1\n",
       "http://services.datasport.com/2011/lauf/collontrek                1\n",
       "http://services.datasport.com/2015/lauf/tdpv/etape1               1\n",
       "http://services.datasport.com/2004/tri/inferno                    1\n",
       "http://services.datasport.com/2001/lauf/kehrsatz                  1\n",
       "http://services.datasport.com/2007/lauf/lugano                    1\n",
       "http://services.datasport.com/2014/lauf/sion                      1\n",
       "http://services.datasport.com/2008/lauf/altstaeter                1\n",
       "http://services.datasport.com/2005/lauf/morat                     1\n",
       "http://services.datasport.com/2014/lauf/tdcn/etape5               1\n",
       "http://services.datasport.com/2009/lauf/toess                     1\n",
       "http://services.datasport.com/2004/lauf/herbstlauf                1\n",
       "                                                                 ..\n",
       "http://services.datasport.com/2012/lauf/kyburg                    1\n",
       "http://services.datasport.com/2015/lauf/midnight                  1\n",
       "http://services.datasport.com/2007/lauf/luzern                    1\n",
       "http://services.datasport.com/2015/lauf/girolaghiamo              1\n",
       "http://services.datasport.com/2005/lauf/zueriwalkt                1\n",
       "http://services.datasport.com/2001/lauf/wallisellen               1\n",
       "http://services.datasport.com/2013/lauf/bielercross               1\n",
       "http://services.datasport.com/2013/zkb/zumiker                    1\n",
       "http://services.datasport.com/2015/lauf/chandolin                 1\n",
       "http://services.datasport.com/2015/lauf/burgdorf                  1\n",
       "http://services.datasport.com/2008/lauf/gallen                    1\n",
       "http://services.datasport.com/2014/lauf/ticino-running            1\n",
       "http://services.datasport.com/1999/lauf/gallen                    1\n",
       "http://services.datasport.com/2007/lauf/defi                      1\n",
       "http://services.datasport.com/2010/lauf/lamara                    1\n",
       "http://services.datasport.com/2009/lauf/dreilaender               1\n",
       "http://services.datasport.com/2012/lauf/neujahrsmarathon/         1\n",
       "http://services.datasport.com/2011/lauf/lugano                    1\n",
       "http://services.datasport.com/2012/lauf/aegeri                    1\n",
       "http://services.datasport.com/2012/lauf/matterhorn                1\n",
       "http://services.datasport.com/2006/lauf/murilauf                  1\n",
       "http://services.datasport.com/2010/lauf/sm10km09                  1\n",
       "http://services.datasport.com/2010/lauf/montreux                  1\n",
       "http://services.datasport.com/2000/lauf/brienzer                  1\n",
       "http://services.datasport.com/2015/zkb/zhneujahr                  1\n",
       "http://services.datasport.com/2015/lauf/TourDuChablais/etappe5    1\n",
       "http://services.datasport.com/2008/lauf/tdpv/lemont/              1\n",
       "http://services.datasport.com/2013/lauf/groupe-e-tour/etape4      1\n",
       "http://services.datasport.com/2014/lauf/kehrsatz                  1\n",
       "http://services.datasport.com/2006/lauf/2bains                    1\n",
       "Name: URL, dtype: int64"
      ]
     },
     "execution_count": 12,
     "metadata": {},
     "output_type": "execute_result"
    }
   ],
   "source": [
    "links2runs.index.value_counts()"
   ]
  },
  {
   "cell_type": "markdown",
   "metadata": {},
   "source": [
    "### Process link"
   ]
  },
  {
   "cell_type": "code",
   "execution_count": 13,
   "metadata": {
    "collapsed": false
   },
   "outputs": [],
   "source": [
    "df.link=df.link.apply(lambda x: '/'.join(x.split('/')[:-1]))"
   ]
  },
  {
   "cell_type": "code",
   "execution_count": 14,
   "metadata": {
    "collapsed": false,
    "scrolled": false
   },
   "outputs": [
    {
     "data": {
      "text/html": [
       "<div>\n",
       "<table border=\"1\" class=\"dataframe\">\n",
       "  <thead>\n",
       "    <tr style=\"text-align: right;\">\n",
       "      <th></th>\n",
       "      <th>cat</th>\n",
       "      <th>sex</th>\n",
       "      <th>rang</th>\n",
       "      <th>nom</th>\n",
       "      <th>an</th>\n",
       "      <th>lieu</th>\n",
       "      <th>temps</th>\n",
       "      <th>retard</th>\n",
       "      <th>pace</th>\n",
       "      <th>link</th>\n",
       "    </tr>\n",
       "    <tr>\n",
       "      <th>index</th>\n",
       "      <th></th>\n",
       "      <th></th>\n",
       "      <th></th>\n",
       "      <th></th>\n",
       "      <th></th>\n",
       "      <th></th>\n",
       "      <th></th>\n",
       "      <th></th>\n",
       "      <th></th>\n",
       "      <th></th>\n",
       "    </tr>\n",
       "  </thead>\n",
       "  <tbody>\n",
       "    <tr>\n",
       "      <th>0</th>\n",
       "      <td>M/M30</td>\n",
       "      <td>M</td>\n",
       "      <td>16</td>\n",
       "      <td>Abderhalden Seth</td>\n",
       "      <td>69</td>\n",
       "      <td>Luzern</td>\n",
       "      <td>3:33.32,9</td>\n",
       "      <td>37.38,2</td>\n",
       "      <td>False</td>\n",
       "      <td>http://services.datasport.com/1999/lauf/biel</td>\n",
       "    </tr>\n",
       "    <tr>\n",
       "      <th>1</th>\n",
       "      <td>Klasse8</td>\n",
       "      <td>False</td>\n",
       "      <td>8</td>\n",
       "      <td>Abdirizak Ayanle, Biel/Bienne</td>\n",
       "      <td>84</td>\n",
       "      <td>Schule Sahligut Hinterman</td>\n",
       "      <td>14.02,3</td>\n",
       "      <td>5.06,5</td>\n",
       "      <td>False</td>\n",
       "      <td>http://services.datasport.com/1999/lauf/biel</td>\n",
       "    </tr>\n",
       "  </tbody>\n",
       "</table>\n",
       "</div>"
      ],
      "text/plain": [
       "           cat    sex  rang                             nom  an  \\\n",
       "index                                                             \n",
       "0        M/M30      M    16               Abderhalden Seth   69   \n",
       "1      Klasse8  False     8  Abdirizak Ayanle, Biel/Bienne   84   \n",
       "\n",
       "                             lieu      temps   retard   pace  \\\n",
       "index                                                          \n",
       "0                          Luzern  3:33.32,9  37.38,2  False   \n",
       "1       Schule Sahligut Hinterman    14.02,3   5.06,5  False   \n",
       "\n",
       "                                               link  \n",
       "index                                                \n",
       "0      http://services.datasport.com/1999/lauf/biel  \n",
       "1      http://services.datasport.com/1999/lauf/biel  "
      ]
     },
     "execution_count": 14,
     "metadata": {},
     "output_type": "execute_result"
    }
   ],
   "source": [
    "df.head(2)"
   ]
  },
  {
   "cell_type": "markdown",
   "metadata": {},
   "source": [
    "### Groupby link"
   ]
  },
  {
   "cell_type": "code",
   "execution_count": 15,
   "metadata": {
    "collapsed": true
   },
   "outputs": [],
   "source": [
    "links=list(df.link.value_counts().index)"
   ]
  },
  {
   "cell_type": "code",
   "execution_count": 16,
   "metadata": {
    "collapsed": false
   },
   "outputs": [],
   "source": [
    "def add_date_name_to_group(x):\n",
    "    link=x.link.iloc[0]\n",
    "#     print(link)\n",
    "#     print('\\n\\n\\n\\n')\n",
    "    row_links2runs=links2runs.loc[link]\n",
    "    try:\n",
    "        row_links2runs.shape[1]\n",
    "        if row_links2runs.shape[0]>1:\n",
    "            row_links2runs=row_links2runs.iloc[0]\n",
    "    except:\n",
    "        pass\n",
    "#     print(row_links2runs.shape)\n",
    "    try:\n",
    "        x['Date']=row_links2runs.Date\n",
    "    except:\n",
    "        print(row_links2runs)\n",
    "        print(x)\n",
    "        raise()\n",
    "    x['Name']=row_links2runs.Name\n",
    "    return x"
   ]
  },
  {
   "cell_type": "code",
   "execution_count": 17,
   "metadata": {
    "collapsed": false
   },
   "outputs": [
    {
     "data": {
      "text/html": [
       "<div>\n",
       "<table border=\"1\" class=\"dataframe\">\n",
       "  <thead>\n",
       "    <tr style=\"text-align: right;\">\n",
       "      <th></th>\n",
       "      <th>cat</th>\n",
       "      <th>sex</th>\n",
       "      <th>rang</th>\n",
       "      <th>nom</th>\n",
       "      <th>an</th>\n",
       "      <th>lieu</th>\n",
       "      <th>temps</th>\n",
       "      <th>retard</th>\n",
       "      <th>pace</th>\n",
       "      <th>link</th>\n",
       "    </tr>\n",
       "    <tr>\n",
       "      <th>index</th>\n",
       "      <th></th>\n",
       "      <th></th>\n",
       "      <th></th>\n",
       "      <th></th>\n",
       "      <th></th>\n",
       "      <th></th>\n",
       "      <th></th>\n",
       "      <th></th>\n",
       "      <th></th>\n",
       "      <th></th>\n",
       "    </tr>\n",
       "  </thead>\n",
       "  <tbody>\n",
       "    <tr>\n",
       "      <th>0</th>\n",
       "      <td>M/M30</td>\n",
       "      <td>M</td>\n",
       "      <td>16</td>\n",
       "      <td>Abderhalden Seth</td>\n",
       "      <td>69</td>\n",
       "      <td>Luzern</td>\n",
       "      <td>3:33.32,9</td>\n",
       "      <td>37.38,2</td>\n",
       "      <td>False</td>\n",
       "      <td>http://services.datasport.com/1999/lauf/biel</td>\n",
       "    </tr>\n",
       "    <tr>\n",
       "      <th>1</th>\n",
       "      <td>Klasse8</td>\n",
       "      <td>False</td>\n",
       "      <td>8</td>\n",
       "      <td>Abdirizak Ayanle, Biel/Bienne</td>\n",
       "      <td>84</td>\n",
       "      <td>Schule Sahligut Hinterman</td>\n",
       "      <td>14.02,3</td>\n",
       "      <td>5.06,5</td>\n",
       "      <td>False</td>\n",
       "      <td>http://services.datasport.com/1999/lauf/biel</td>\n",
       "    </tr>\n",
       "  </tbody>\n",
       "</table>\n",
       "</div>"
      ],
      "text/plain": [
       "           cat    sex  rang                             nom  an  \\\n",
       "index                                                             \n",
       "0        M/M30      M    16               Abderhalden Seth   69   \n",
       "1      Klasse8  False     8  Abdirizak Ayanle, Biel/Bienne   84   \n",
       "\n",
       "                             lieu      temps   retard   pace  \\\n",
       "index                                                          \n",
       "0                          Luzern  3:33.32,9  37.38,2  False   \n",
       "1       Schule Sahligut Hinterman    14.02,3   5.06,5  False   \n",
       "\n",
       "                                               link  \n",
       "index                                                \n",
       "0      http://services.datasport.com/1999/lauf/biel  \n",
       "1      http://services.datasport.com/1999/lauf/biel  "
      ]
     },
     "execution_count": 17,
     "metadata": {},
     "output_type": "execute_result"
    }
   ],
   "source": [
    "df.head(2)"
   ]
  },
  {
   "cell_type": "code",
   "execution_count": 18,
   "metadata": {
    "collapsed": true
   },
   "outputs": [],
   "source": [
    "grouped_link=df.groupby(df.link)"
   ]
  },
  {
   "cell_type": "code",
   "execution_count": 19,
   "metadata": {
    "collapsed": false
   },
   "outputs": [],
   "source": [
    "df=grouped_link.apply(add_date_name_to_group)"
   ]
  },
  {
   "cell_type": "code",
   "execution_count": 20,
   "metadata": {
    "collapsed": false
   },
   "outputs": [],
   "source": [
    "del df['link']"
   ]
  },
  {
   "cell_type": "code",
   "execution_count": 21,
   "metadata": {
    "collapsed": false
   },
   "outputs": [
    {
     "data": {
      "text/html": [
       "<div>\n",
       "<table border=\"1\" class=\"dataframe\">\n",
       "  <thead>\n",
       "    <tr style=\"text-align: right;\">\n",
       "      <th></th>\n",
       "      <th>cat</th>\n",
       "      <th>sex</th>\n",
       "      <th>rang</th>\n",
       "      <th>nom</th>\n",
       "      <th>an</th>\n",
       "      <th>lieu</th>\n",
       "      <th>temps</th>\n",
       "      <th>retard</th>\n",
       "      <th>pace</th>\n",
       "      <th>Date</th>\n",
       "      <th>Name</th>\n",
       "    </tr>\n",
       "    <tr>\n",
       "      <th>index</th>\n",
       "      <th></th>\n",
       "      <th></th>\n",
       "      <th></th>\n",
       "      <th></th>\n",
       "      <th></th>\n",
       "      <th></th>\n",
       "      <th></th>\n",
       "      <th></th>\n",
       "      <th></th>\n",
       "      <th></th>\n",
       "      <th></th>\n",
       "    </tr>\n",
       "  </thead>\n",
       "  <tbody>\n",
       "    <tr>\n",
       "      <th>0</th>\n",
       "      <td>M/M30</td>\n",
       "      <td>M</td>\n",
       "      <td>16</td>\n",
       "      <td>Abderhalden Seth</td>\n",
       "      <td>69</td>\n",
       "      <td>Luzern</td>\n",
       "      <td>3:33.32,9</td>\n",
       "      <td>37.38,2</td>\n",
       "      <td>False</td>\n",
       "      <td>ven. 11.06.1999</td>\n",
       "      <td>Bieler Lauftage, Biel/Bienne</td>\n",
       "    </tr>\n",
       "    <tr>\n",
       "      <th>1</th>\n",
       "      <td>Klasse8</td>\n",
       "      <td>False</td>\n",
       "      <td>8</td>\n",
       "      <td>Abdirizak Ayanle, Biel/Bienne</td>\n",
       "      <td>84</td>\n",
       "      <td>Schule Sahligut Hinterman</td>\n",
       "      <td>14.02,3</td>\n",
       "      <td>5.06,5</td>\n",
       "      <td>False</td>\n",
       "      <td>ven. 11.06.1999</td>\n",
       "      <td>Bieler Lauftage, Biel/Bienne</td>\n",
       "    </tr>\n",
       "  </tbody>\n",
       "</table>\n",
       "</div>"
      ],
      "text/plain": [
       "           cat    sex  rang                             nom  an  \\\n",
       "index                                                             \n",
       "0        M/M30      M    16               Abderhalden Seth   69   \n",
       "1      Klasse8  False     8  Abdirizak Ayanle, Biel/Bienne   84   \n",
       "\n",
       "                             lieu      temps   retard   pace             Date  \\\n",
       "index                                                                           \n",
       "0                          Luzern  3:33.32,9  37.38,2  False  ven. 11.06.1999   \n",
       "1       Schule Sahligut Hinterman    14.02,3   5.06,5  False  ven. 11.06.1999   \n",
       "\n",
       "                               Name  \n",
       "index                                \n",
       "0      Bieler Lauftage, Biel/Bienne  \n",
       "1      Bieler Lauftage, Biel/Bienne  "
      ]
     },
     "execution_count": 21,
     "metadata": {},
     "output_type": "execute_result"
    }
   ],
   "source": [
    "df.head(2)"
   ]
  },
  {
   "cell_type": "markdown",
   "metadata": {},
   "source": [
    "# Delete duplicates\n",
    "Some links of games are counted twice. In this case we check for duplicated rows and we remove them"
   ]
  },
  {
   "cell_type": "code",
   "execution_count": 22,
   "metadata": {
    "collapsed": true
   },
   "outputs": [],
   "source": [
    "df=df.drop_duplicates(keep='first')"
   ]
  },
  {
   "cell_type": "markdown",
   "metadata": {},
   "source": [
    "# Process temps-retards"
   ]
  },
  {
   "cell_type": "code",
   "execution_count": 23,
   "metadata": {
    "collapsed": true
   },
   "outputs": [],
   "source": [
    "class Time:\n",
    "    def __init__(self,time,mseconds=True):\n",
    "        self.hours,self.minutes,self.seconds,self.mseconds=self.parse_time(time,split=True,mseconds=mseconds)\n",
    "        \n",
    "    def parse_time(self,time,check_only=False,split=True,mseconds=True):\n",
    "        ''' Return a parsing of the time\n",
    "        '''\n",
    "        try :\n",
    "            time.hours\n",
    "            return (time.hours,time.minutes,time.seconds,time.mseconds)\n",
    "        except:\n",
    "            pass\n",
    "        if split:\n",
    "            time=time.split(' ')[0]\n",
    "        if time.count(',')==0 and not check_only and mseconds:\n",
    "            raise()\n",
    "        time=re.split(\"[:.,]+\",time)\n",
    "        if not mseconds:\n",
    "            time=time+[0]\n",
    "        while len(time)<4:\n",
    "            time=[0]+time\n",
    "        hours,minutes,seconds,mseconds=[float(x) for x in time]\n",
    "        hours+=int(minutes/60)\n",
    "        minutes=minutes%60\n",
    "        if not check_only:\n",
    "            return (hours,minutes,seconds,mseconds)\n",
    "        \n",
    "    def get_seconds(self):  \n",
    "        return self.hours*3600 + self.minutes*60 + self.seconds + self.mseconds/1000\n",
    "    \n",
    "    def __str__(self):\n",
    "        return str(int(self.hours))+':'+str(int(self.minutes))+'.'+str(int(self.seconds))+','+str(int(self.mseconds))\n",
    "    \n",
    "    def __div__(self,other):\n",
    "        try:\n",
    "            seconds_other=other.get_seconds()\n",
    "        except:\n",
    "            return False\n",
    "        return self.get_seconds()-seconds_other\n",
    "    \n",
    "    def __truediv__(self,other):\n",
    "        try:\n",
    "            seconds_other=other.get_seconds()\n",
    "        except:\n",
    "            return False\n",
    "        return self.get_seconds()/seconds_other\n",
    "    "
   ]
  },
  {
   "cell_type": "code",
   "execution_count": 24,
   "metadata": {
    "collapsed": true
   },
   "outputs": [],
   "source": [
    "dict_problems={}"
   ]
  },
  {
   "cell_type": "code",
   "execution_count": null,
   "metadata": {
    "collapsed": false,
    "scrolled": true
   },
   "outputs": [],
   "source": [
    "re.split(\"[:.]+\",'14.46')"
   ]
  },
  {
   "cell_type": "code",
   "execution_count": null,
   "metadata": {
    "collapsed": true
   },
   "outputs": [],
   "source": [
    "def apply_time(x,mseconds=True):\n",
    "    try:\n",
    "        time=Time(x,mseconds=mseconds)\n",
    "    except:\n",
    "        try:\n",
    "            dict_problems[x]+=1\n",
    "        except:\n",
    "            dict_problems[x]=1\n",
    "        return False\n",
    "    return time"
   ]
  },
  {
   "cell_type": "code",
   "execution_count": null,
   "metadata": {
    "collapsed": false
   },
   "outputs": [],
   "source": [
    "df.temps=df.temps.apply(apply_time)"
   ]
  },
  {
   "cell_type": "code",
   "execution_count": null,
   "metadata": {
    "collapsed": false
   },
   "outputs": [],
   "source": [
    "df.retard=df.retard.apply(apply_time)"
   ]
  },
  {
   "cell_type": "code",
   "execution_count": null,
   "metadata": {
    "collapsed": false,
    "scrolled": true
   },
   "outputs": [],
   "source": [
    "df.pace=df.pace.apply(apply_time,args=(False,))"
   ]
  },
  {
   "cell_type": "code",
   "execution_count": null,
   "metadata": {
    "collapsed": false
   },
   "outputs": [],
   "source": [
    "print(Time('95.12,2'))"
   ]
  },
  {
   "cell_type": "code",
   "execution_count": null,
   "metadata": {
    "collapsed": false
   },
   "outputs": [],
   "source": [
    "a=Time('48.12,2')\n",
    "b=Time('4.30,0')\n",
    "print(a,b)"
   ]
  },
  {
   "cell_type": "code",
   "execution_count": null,
   "metadata": {
    "collapsed": false
   },
   "outputs": [],
   "source": [
    "b.get_seconds()"
   ]
  },
  {
   "cell_type": "code",
   "execution_count": null,
   "metadata": {
    "collapsed": false
   },
   "outputs": [],
   "source": [
    "a.get_seconds()"
   ]
  },
  {
   "cell_type": "code",
   "execution_count": null,
   "metadata": {
    "collapsed": false
   },
   "outputs": [],
   "source": [
    "a/b"
   ]
  },
  {
   "cell_type": "code",
   "execution_count": null,
   "metadata": {
    "collapsed": false
   },
   "outputs": [],
   "source": [
    "df['Distance']=df.temps/df.pace"
   ]
  },
  {
   "cell_type": "code",
   "execution_count": null,
   "metadata": {
    "collapsed": false
   },
   "outputs": [],
   "source": [
    "df.head(2)"
   ]
  },
  {
   "cell_type": "code",
   "execution_count": null,
   "metadata": {
    "collapsed": true
   },
   "outputs": [],
   "source": [
    "df_old=df.copy()"
   ]
  },
  {
   "cell_type": "code",
   "execution_count": null,
   "metadata": {
    "collapsed": true
   },
   "outputs": [],
   "source": [
    "df=df[df.Distance>0]"
   ]
  },
  {
   "cell_type": "code",
   "execution_count": null,
   "metadata": {
    "collapsed": false
   },
   "outputs": [],
   "source": [
    "df_old.shape"
   ]
  },
  {
   "cell_type": "code",
   "execution_count": null,
   "metadata": {
    "collapsed": false
   },
   "outputs": [],
   "source": [
    "df=df_old[df_old.Distance>0]"
   ]
  },
  {
   "cell_type": "code",
   "execution_count": null,
   "metadata": {
    "collapsed": false
   },
   "outputs": [],
   "source": [
    "df.head(3)"
   ]
  },
  {
   "cell_type": "markdown",
   "metadata": {},
   "source": [
    "# Parse Date"
   ]
  },
  {
   "cell_type": "code",
   "execution_count": null,
   "metadata": {
    "collapsed": false
   },
   "outputs": [],
   "source": [
    "df['Year']=df.Date.apply(lambda x: x.split('.')[3])"
   ]
  },
  {
   "cell_type": "code",
   "execution_count": null,
   "metadata": {
    "collapsed": false
   },
   "outputs": [],
   "source": [
    "df['Month']=df.Date.apply(lambda x: x.split('.')[2])"
   ]
  },
  {
   "cell_type": "code",
   "execution_count": null,
   "metadata": {
    "collapsed": false
   },
   "outputs": [],
   "source": [
    "df.head(2)"
   ]
  },
  {
   "cell_type": "markdown",
   "metadata": {},
   "source": [
    "# Sex Male-Female"
   ]
  },
  {
   "cell_type": "markdown",
   "metadata": {},
   "source": [
    "### Get names database"
   ]
  },
  {
   "cell_type": "code",
   "execution_count": null,
   "metadata": {
    "collapsed": false
   },
   "outputs": [],
   "source": [
    "df.shape"
   ]
  },
  {
   "cell_type": "code",
   "execution_count": null,
   "metadata": {
    "collapsed": false
   },
   "outputs": [],
   "source": [
    "df.head(5)"
   ]
  },
  {
   "cell_type": "code",
   "execution_count": null,
   "metadata": {
    "collapsed": true
   },
   "outputs": [],
   "source": [
    "gender_names=pd.read_csv('gender_names.csv')"
   ]
  },
  {
   "cell_type": "code",
   "execution_count": null,
   "metadata": {
    "collapsed": false
   },
   "outputs": [],
   "source": [
    "del gender_names['Unnamed: 0']"
   ]
  },
  {
   "cell_type": "code",
   "execution_count": null,
   "metadata": {
    "collapsed": false
   },
   "outputs": [],
   "source": [
    "gender_names=gender_names.set_index(gender_names.name)"
   ]
  },
  {
   "cell_type": "code",
   "execution_count": null,
   "metadata": {
    "collapsed": true
   },
   "outputs": [],
   "source": [
    "del gender_names['name']"
   ]
  },
  {
   "cell_type": "code",
   "execution_count": null,
   "metadata": {
    "collapsed": false
   },
   "outputs": [],
   "source": [
    "gender_names.head(2)"
   ]
  },
  {
   "cell_type": "markdown",
   "metadata": {},
   "source": [
    "### Category from sex database"
   ]
  },
  {
   "cell_type": "code",
   "execution_count": null,
   "metadata": {
    "collapsed": true
   },
   "outputs": [],
   "source": [
    "category_list=list(df.cat.value_counts().index)"
   ]
  },
  {
   "cell_type": "code",
   "execution_count": null,
   "metadata": {
    "collapsed": false
   },
   "outputs": [],
   "source": [
    "len(category_list)"
   ]
  },
  {
   "cell_type": "code",
   "execution_count": null,
   "metadata": {
    "collapsed": true
   },
   "outputs": [],
   "source": [
    "category_dict_sex={}"
   ]
  },
  {
   "cell_type": "code",
   "execution_count": null,
   "metadata": {
    "collapsed": true
   },
   "outputs": [],
   "source": [
    "cat_to_check=['B','D','F40','F/3','H','12','10-F20']"
   ]
  },
  {
   "cell_type": "code",
   "execution_count": null,
   "metadata": {
    "collapsed": false,
    "scrolled": true
   },
   "outputs": [],
   "source": [
    "for i,cat in enumerate(category_list):\n",
    "    if cat in category_dict_sex:\n",
    "        continue\n",
    "    names=list(df[df.cat==cat].nom.values)\n",
    "    not_found=0\n",
    "    male=0\n",
    "    female=0\n",
    "    for index,name in enumerate(names):\n",
    "        splitted=re.split(\"[- ]+\",name)\n",
    "        found=0\n",
    "        for name in splitted:\n",
    "            try:\n",
    "                row=gender_names.loc[name.lower()]\n",
    "                male+=row.male_prob\n",
    "                female+=row.female_prob\n",
    "                found+=1\n",
    "            except:\n",
    "                pass\n",
    "    if male!=0 or female!=0:\n",
    "        male_perc=male/(male+female)\n",
    "        category_dict_sex[cat]=male_perc\n",
    "        if male_perc<0.85 and male_perc>0.15:\n",
    "            if cat not in cat_to_check:\n",
    "                cat_to_check.append(cat)\n",
    "#             print('Category',cat,'Perc:',male_perc)\n",
    "    if i%100==0:\n",
    "#         print()\n",
    "        print(i)\n",
    "#         print()\n",
    "    if i>7000:\n",
    "        break"
   ]
  },
  {
   "cell_type": "code",
   "execution_count": null,
   "metadata": {
    "collapsed": false
   },
   "outputs": [],
   "source": [
    "len(cat_to_check)"
   ]
  },
  {
   "cell_type": "code",
   "execution_count": null,
   "metadata": {
    "collapsed": false,
    "scrolled": true
   },
   "outputs": [],
   "source": [
    "len(category_dict_sex)"
   ]
  },
  {
   "cell_type": "code",
   "execution_count": null,
   "metadata": {
    "collapsed": true
   },
   "outputs": [],
   "source": [
    "cat_parsed=0\n",
    "for cat in category_dict_sex:\n",
    "    if category_dict_sex[cat]>0.85:\n",
    "        cat_parsed+=1\n",
    "        category_dict_sex[cat]='M'\n",
    "    elif category_dict_sex[cat]<0.15:\n",
    "        cat_parsed+=1\n",
    "        category_dict_sex[cat]='F'"
   ]
  },
  {
   "cell_type": "code",
   "execution_count": null,
   "metadata": {
    "collapsed": true
   },
   "outputs": [],
   "source": [
    "category_dict_sex_copy=copy.deepcopy(category_dict_sex)"
   ]
  },
  {
   "cell_type": "markdown",
   "metadata": {},
   "source": [
    "### Improvements"
   ]
  },
  {
   "cell_type": "code",
   "execution_count": null,
   "metadata": {
    "collapsed": true
   },
   "outputs": [],
   "source": [
    "category_dict_sex=copy.deepcopy(category_dict_sex_copy)"
   ]
  },
  {
   "cell_type": "code",
   "execution_count": null,
   "metadata": {
    "collapsed": true
   },
   "outputs": [],
   "source": [
    "to_exclude=['P-W','D','SM2/D','W','P/W']"
   ]
  },
  {
   "cell_type": "code",
   "execution_count": null,
   "metadata": {
    "collapsed": false,
    "scrolled": true
   },
   "outputs": [],
   "source": [
    "cat_parsed=0\n",
    "for cat in category_dict_sex:\n",
    "    if cat in to_exclude:\n",
    "        continue\n",
    "    if category_dict_sex[cat]=='M' or category_dict_sex[cat]=='F':\n",
    "        cat_parsed+=1\n",
    "        continue\n",
    "    cat_splitted=re.split(\"[-/]+\",cat)\n",
    "    for i in cat_splitted:\n",
    "        if len(i)==3 and (i[0]=='M' or i[0]=='H') and i[1:].isdigit():\n",
    "#             print(cat,category_dict_sex[cat])\n",
    "            category_dict_sex[cat]='M'\n",
    "            cat_parsed+=1\n",
    "            break\n",
    "        elif len(i)==3 and (i[0]=='F' or i[0]=='W')  and i[1:].isdigit():\n",
    "#             print(cat,category_dict_sex[cat])\n",
    "            category_dict_sex[cat]='F'\n",
    "            cat_parsed+=1\n",
    "            break\n",
    "        if 'Fille' in i or 'Women' in i or 'Dam' in i:\n",
    "            print(cat,category_dict_sex[cat])\n",
    "            category_dict_sex[cat]='F'\n",
    "            cat_parsed+=1\n",
    "            break\n",
    "        if 'Gar' in i or 'Men' in i or 'Hom' in i: \n",
    "            print(cat,category_dict_sex[cat])\n",
    "            category_dict_sex[cat]='M'\n",
    "            cat_parsed+=1\n",
    "            break\n",
    "        if i=='W' or i=='D' or i=='H-U20W' or i=='H-WJ':\n",
    "            print(cat,category_dict_sex[cat])\n",
    "            category_dict_sex[cat]='F'\n",
    "            cat_parsed+=1\n",
    "            break\n",
    "cat_parsed"
   ]
  },
  {
   "cell_type": "code",
   "execution_count": null,
   "metadata": {
    "collapsed": false,
    "scrolled": true
   },
   "outputs": [],
   "source": [
    "df[df.cat=='Sch-D-M']"
   ]
  },
  {
   "cell_type": "markdown",
   "metadata": {},
   "source": [
    "### Final classification - accurate"
   ]
  },
  {
   "cell_type": "code",
   "execution_count": null,
   "metadata": {
    "collapsed": true
   },
   "outputs": [],
   "source": [
    "del df['sex']"
   ]
  },
  {
   "cell_type": "code",
   "execution_count": null,
   "metadata": {
    "collapsed": true
   },
   "outputs": [],
   "source": [
    "def add_sex(x):\n",
    "    cat=x.cat.iloc[0]\n",
    "    try:\n",
    "        sex=category_dict_sex[cat]\n",
    "        if sex=='M' or sex=='F':\n",
    "            x['sex']=sex\n",
    "        else:\n",
    "            x['sex']=False\n",
    "    except:\n",
    "        x['sex']=False\n",
    "    return x"
   ]
  },
  {
   "cell_type": "code",
   "execution_count": null,
   "metadata": {
    "collapsed": true
   },
   "outputs": [],
   "source": [
    "grouped=df.groupby(df.cat)"
   ]
  },
  {
   "cell_type": "code",
   "execution_count": null,
   "metadata": {
    "collapsed": false
   },
   "outputs": [],
   "source": [
    "df=grouped.apply(add_sex)"
   ]
  },
  {
   "cell_type": "code",
   "execution_count": null,
   "metadata": {
    "collapsed": false
   },
   "outputs": [],
   "source": [
    "df.sex.value_counts()"
   ]
  },
  {
   "cell_type": "code",
   "execution_count": null,
   "metadata": {
    "collapsed": true
   },
   "outputs": [],
   "source": [
    "df_sex=df[df.sex!=False]"
   ]
  },
  {
   "cell_type": "code",
   "execution_count": null,
   "metadata": {
    "collapsed": false
   },
   "outputs": [],
   "source": [
    "df_sex.head(2)"
   ]
  },
  {
   "cell_type": "code",
   "execution_count": null,
   "metadata": {
    "collapsed": false
   },
   "outputs": [],
   "source": [
    "df.shape"
   ]
  },
  {
   "cell_type": "code",
   "execution_count": null,
   "metadata": {
    "collapsed": false
   },
   "outputs": [],
   "source": [
    "df_sex.shape"
   ]
  },
  {
   "cell_type": "code",
   "execution_count": null,
   "metadata": {
    "collapsed": false
   },
   "outputs": [],
   "source": [
    "min(df.Year)"
   ]
  },
  {
   "cell_type": "code",
   "execution_count": null,
   "metadata": {
    "collapsed": false
   },
   "outputs": [],
   "source": [
    "min(df_sex.Year)"
   ]
  },
  {
   "cell_type": "code",
   "execution_count": null,
   "metadata": {
    "collapsed": true
   },
   "outputs": [],
   "source": [
    "df=df.rename(columns={'Year':'RaceYear','Month':'RaceMonth'})"
   ]
  },
  {
   "cell_type": "code",
   "execution_count": null,
   "metadata": {
    "collapsed": false
   },
   "outputs": [],
   "source": [
    "df.head(2)"
   ]
  },
  {
   "cell_type": "code",
   "execution_count": null,
   "metadata": {
    "collapsed": false
   },
   "outputs": [],
   "source": [
    "df.sex.value_counts()"
   ]
  },
  {
   "cell_type": "markdown",
   "metadata": {},
   "source": [
    "# Parse year (roughly eliminating clearly bad entries)"
   ]
  },
  {
   "cell_type": "code",
   "execution_count": null,
   "metadata": {
    "collapsed": false
   },
   "outputs": [],
   "source": [
    "df.an=df.an.apply(lambda x: False if (x=='??' or x=='????' or x=='xxxx')  else x)"
   ]
  },
  {
   "cell_type": "code",
   "execution_count": null,
   "metadata": {
    "collapsed": false
   },
   "outputs": [],
   "source": [
    "df.an=df.an.apply(lambda x: int(x))"
   ]
  },
  {
   "cell_type": "code",
   "execution_count": null,
   "metadata": {
    "collapsed": false
   },
   "outputs": [],
   "source": [
    "df=df[df.an<2017]"
   ]
  },
  {
   "cell_type": "code",
   "execution_count": null,
   "metadata": {
    "collapsed": false
   },
   "outputs": [],
   "source": [
    "df=df[(df.an>1870) | (df.an<100)]"
   ]
  },
  {
   "cell_type": "markdown",
   "metadata": {},
   "source": [
    "# Columns names"
   ]
  },
  {
   "cell_type": "code",
   "execution_count": null,
   "metadata": {
    "collapsed": false
   },
   "outputs": [],
   "source": [
    "df.head(1)"
   ]
  },
  {
   "cell_type": "code",
   "execution_count": null,
   "metadata": {
    "collapsed": false
   },
   "outputs": [],
   "source": [
    "df.columns.values"
   ]
  },
  {
   "cell_type": "code",
   "execution_count": null,
   "metadata": {
    "collapsed": false
   },
   "outputs": [],
   "source": [
    "df=df[['Name','RaceYear','RaceMonth','Distance','nom','sex','an','lieu','rang','temps','retard','pace']]"
   ]
  },
  {
   "cell_type": "code",
   "execution_count": null,
   "metadata": {
    "collapsed": false,
    "scrolled": true
   },
   "outputs": [],
   "source": [
    "df.head()"
   ]
  },
  {
   "cell_type": "code",
   "execution_count": null,
   "metadata": {
    "collapsed": false
   },
   "outputs": [],
   "source": [
    "df.columns=['Race','RaceYear','RaceMonth','Distance','Name','Sex','Year','LivingPlace','Rank','Time','Delay','Pace']"
   ]
  },
  {
   "cell_type": "code",
   "execution_count": null,
   "metadata": {
    "collapsed": true
   },
   "outputs": [],
   "source": [
    "df=df.reset_index()"
   ]
  },
  {
   "cell_type": "code",
   "execution_count": null,
   "metadata": {
    "collapsed": true
   },
   "outputs": [],
   "source": [
    "del df['index']"
   ]
  },
  {
   "cell_type": "code",
   "execution_count": null,
   "metadata": {
    "collapsed": false
   },
   "outputs": [],
   "source": [
    "df.head(2)"
   ]
  },
  {
   "cell_type": "code",
   "execution_count": null,
   "metadata": {
    "collapsed": false
   },
   "outputs": [],
   "source": [
    "df.shape"
   ]
  },
  {
   "cell_type": "markdown",
   "metadata": {},
   "source": [
    "# Distance"
   ]
  },
  {
   "cell_type": "code",
   "execution_count": null,
   "metadata": {
    "collapsed": false
   },
   "outputs": [],
   "source": [
    "df.Distance=df.Distance.apply(lambda x: float(x))"
   ]
  },
  {
   "cell_type": "code",
   "execution_count": null,
   "metadata": {
    "collapsed": true
   },
   "outputs": [],
   "source": [
    "df['round']=df.Distance.round()"
   ]
  },
  {
   "cell_type": "code",
   "execution_count": null,
   "metadata": {
    "collapsed": false,
    "scrolled": true
   },
   "outputs": [],
   "source": [
    "df.Distance=df.Distance.apply(lambda x: x if (abs(x-round(x)))>0.065 else round(x))"
   ]
  },
  {
   "cell_type": "code",
   "execution_count": null,
   "metadata": {
    "collapsed": false
   },
   "outputs": [],
   "source": [
    "df.Distance=df.Distance.apply(lambda x: 21.0975 if (abs(x-21.0975))<0.1 else x)"
   ]
  },
  {
   "cell_type": "code",
   "execution_count": null,
   "metadata": {
    "collapsed": false
   },
   "outputs": [],
   "source": [
    "df.Distance=df.Distance.apply(lambda x: 42.195 if (abs(x-42.195))<0.1 else x)"
   ]
  },
  {
   "cell_type": "code",
   "execution_count": null,
   "metadata": {
    "collapsed": false,
    "scrolled": true
   },
   "outputs": [],
   "source": [
    "df.Distance.value_counts()"
   ]
  },
  {
   "cell_type": "code",
   "execution_count": null,
   "metadata": {
    "collapsed": true
   },
   "outputs": [],
   "source": [
    "del df['round']"
   ]
  },
  {
   "cell_type": "code",
   "execution_count": null,
   "metadata": {
    "collapsed": false,
    "scrolled": true
   },
   "outputs": [],
   "source": [
    "df.head(5)"
   ]
  },
  {
   "cell_type": "markdown",
   "metadata": {},
   "source": [
    "# Adding weather informations"
   ]
  },
  {
   "cell_type": "code",
   "execution_count": null,
   "metadata": {
    "collapsed": true
   },
   "outputs": [],
   "source": [
    "df=df[df.Sex!=False]"
   ]
  },
  {
   "cell_type": "code",
   "execution_count": null,
   "metadata": {
    "collapsed": true
   },
   "outputs": [],
   "source": [
    "weather_db=pd.read_csv('../datasets/races-information-weather.csv')\n",
    "del weather_db['Unnamed: 0']\n",
    "del weather_db['Unnamed: 0.1']"
   ]
  },
  {
   "cell_type": "code",
   "execution_count": null,
   "metadata": {
    "collapsed": false
   },
   "outputs": [],
   "source": [
    "weather_db.head(2)"
   ]
  },
  {
   "cell_type": "code",
   "execution_count": null,
   "metadata": {
    "collapsed": true
   },
   "outputs": [],
   "source": [
    "weather_db['RaceYear']=weather_db.Date.apply(lambda x: x.split('.')[3])"
   ]
  },
  {
   "cell_type": "code",
   "execution_count": null,
   "metadata": {
    "collapsed": false
   },
   "outputs": [],
   "source": [
    "gr=df.groupby([df.RaceYear,df.Race])"
   ]
  },
  {
   "cell_type": "code",
   "execution_count": null,
   "metadata": {
    "collapsed": false
   },
   "outputs": [],
   "source": [
    "def merge_weather_info(x):\n",
    "    race=x.iloc[0].Race\n",
    "    date=x.iloc[0].RaceYear\n",
    "    weather=weather_db[(weather_db.Name==race) & (weather_db.RaceYear==date)].iloc[0]\n",
    "    x['Place']=weather.Place\n",
    "    x['MinTemp']=weather.min_temp\n",
    "    x['MaxTemp']=weather.max_temp\n",
    "    x['Weather']=weather.weather_desc\n",
    "    x['RaceID']=weather.URL\n",
    "    \n",
    "    return x"
   ]
  },
  {
   "cell_type": "code",
   "execution_count": null,
   "metadata": {
    "collapsed": true
   },
   "outputs": [],
   "source": [
    "df=gr.apply(merge_weather_info)"
   ]
  },
  {
   "cell_type": "code",
   "execution_count": null,
   "metadata": {
    "collapsed": false
   },
   "outputs": [],
   "source": [
    "df.shape"
   ]
  },
  {
   "cell_type": "code",
   "execution_count": null,
   "metadata": {
    "collapsed": false
   },
   "outputs": [],
   "source": [
    "df.head(2)"
   ]
  },
  {
   "cell_type": "markdown",
   "metadata": {},
   "source": [
    "# Parse times and select only meaningful features"
   ]
  },
  {
   "cell_type": "code",
   "execution_count": null,
   "metadata": {
    "collapsed": true
   },
   "outputs": [],
   "source": [
    "full_df=df.copy()"
   ]
  },
  {
   "cell_type": "code",
   "execution_count": null,
   "metadata": {
    "collapsed": false
   },
   "outputs": [],
   "source": [
    "base=datetime.datetime.strptime('0:0.0,0','%H:%M.%S,%f')"
   ]
  },
  {
   "cell_type": "code",
   "execution_count": null,
   "metadata": {
    "collapsed": false
   },
   "outputs": [],
   "source": [
    "full_df.Time=full_df.Time.apply(lambda x:str(x))"
   ]
  },
  {
   "cell_type": "code",
   "execution_count": null,
   "metadata": {
    "collapsed": true
   },
   "outputs": [],
   "source": [
    "full_df.Pace=full_df.Pace.apply(lambda x:str(x))"
   ]
  },
  {
   "cell_type": "code",
   "execution_count": null,
   "metadata": {
    "collapsed": true
   },
   "outputs": [],
   "source": [
    "full_df.Time=full_df.Time.apply(lambda x:Time(x))\n",
    "full_df.Time=full_df.Time.apply(lambda x:str(x))"
   ]
  },
  {
   "cell_type": "code",
   "execution_count": null,
   "metadata": {
    "collapsed": true
   },
   "outputs": [],
   "source": [
    "full_df.Pace=full_df.Pace.apply(lambda x:Time(x))\n",
    "full_df.Pace=full_df.Pace.apply(lambda x:str(x))"
   ]
  },
  {
   "cell_type": "code",
   "execution_count": null,
   "metadata": {
    "collapsed": false
   },
   "outputs": [],
   "source": [
    "full_df['Pace'] = (pd.to_datetime(full_df.Pace, format='%H:%M.%S,%f')-base)"
   ]
  },
  {
   "cell_type": "code",
   "execution_count": null,
   "metadata": {
    "collapsed": false
   },
   "outputs": [],
   "source": [
    "max(full_df.Distance)"
   ]
  },
  {
   "cell_type": "code",
   "execution_count": null,
   "metadata": {
    "collapsed": true
   },
   "outputs": [],
   "source": [
    "full_df=full_df[full_df.Distance<45]"
   ]
  },
  {
   "cell_type": "code",
   "execution_count": null,
   "metadata": {
    "collapsed": false
   },
   "outputs": [],
   "source": [
    "full_df['Time'] = (pd.to_datetime(full_df.Time, format='%H:%M.%S,%f')-base)"
   ]
  },
  {
   "cell_type": "code",
   "execution_count": null,
   "metadata": {
    "collapsed": true
   },
   "outputs": [],
   "source": [
    "del full_df['Delay']"
   ]
  },
  {
   "cell_type": "code",
   "execution_count": null,
   "metadata": {
    "collapsed": false
   },
   "outputs": [],
   "source": [
    "full_df.head()"
   ]
  },
  {
   "cell_type": "markdown",
   "metadata": {},
   "source": [
    "# Better distance processing"
   ]
  },
  {
   "cell_type": "code",
   "execution_count": null,
   "metadata": {
    "collapsed": false,
    "scrolled": true
   },
   "outputs": [],
   "source": [
    "df.Race.value_counts()"
   ]
  },
  {
   "cell_type": "code",
   "execution_count": null,
   "metadata": {
    "collapsed": true
   },
   "outputs": [],
   "source": [
    "b=full_df2[full_df2.Race=='20km de Lausanne']"
   ]
  },
  {
   "cell_type": "code",
   "execution_count": null,
   "metadata": {
    "collapsed": false
   },
   "outputs": [],
   "source": [
    "b.Distance.value_counts().index"
   ]
  },
  {
   "cell_type": "code",
   "execution_count": null,
   "metadata": {
    "collapsed": true
   },
   "outputs": [],
   "source": [
    "full_df2=full_df.copy()"
   ]
  },
  {
   "cell_type": "code",
   "execution_count": null,
   "metadata": {
    "collapsed": true
   },
   "outputs": [],
   "source": [
    "full_df2.Distance=full_df2.Distance.apply(lambda x: x if x<4 or (abs(1-x/round(x)))>0.0055 else round(x))"
   ]
  },
  {
   "cell_type": "code",
   "execution_count": null,
   "metadata": {
    "collapsed": true
   },
   "outputs": [],
   "source": [
    "full_df2.Distance=full_df2.Distance.apply(lambda x: 21.0975 if x>4 and (abs(1-x/21.0975))<0.0055 else x)"
   ]
  },
  {
   "cell_type": "code",
   "execution_count": null,
   "metadata": {
    "collapsed": true
   },
   "outputs": [],
   "source": [
    "full_df2.Distance=full_df2.Distance.apply(lambda x: 42.195 if x>4 and (abs(1-x/42.195))<0.0055 else x)"
   ]
  },
  {
   "cell_type": "code",
   "execution_count": null,
   "metadata": {
    "collapsed": false,
    "scrolled": true
   },
   "outputs": [],
   "source": [
    "full_df2.groupby(full_df2.RaceYear).count()"
   ]
  },
  {
   "cell_type": "code",
   "execution_count": null,
   "metadata": {
    "collapsed": false
   },
   "outputs": [],
   "source": [
    "df=full_df2.copy()"
   ]
  },
  {
   "cell_type": "markdown",
   "metadata": {},
   "source": [
    "# Year - trying to get better data"
   ]
  },
  {
   "cell_type": "code",
   "execution_count": null,
   "metadata": {
    "collapsed": false
   },
   "outputs": [],
   "source": [
    "years_values=df.Year.value_counts().index.values\n",
    "years_values[years_values<120]"
   ]
  },
  {
   "cell_type": "code",
   "execution_count": null,
   "metadata": {
    "collapsed": false
   },
   "outputs": [],
   "source": [
    "df.Year=df.Year.apply(lambda x: 0 if x==2 else x)"
   ]
  },
  {
   "cell_type": "code",
   "execution_count": null,
   "metadata": {
    "collapsed": false
   },
   "outputs": [],
   "source": [
    "df[df.Year>1900].shape"
   ]
  },
  {
   "cell_type": "code",
   "execution_count": null,
   "metadata": {
    "collapsed": false
   },
   "outputs": [],
   "source": [
    "df[df.Year<1900].shape"
   ]
  },
  {
   "cell_type": "code",
   "execution_count": null,
   "metadata": {
    "collapsed": false,
    "scrolled": true
   },
   "outputs": [],
   "source": [
    "reduced_df=df[df.Year<120]"
   ]
  },
  {
   "cell_type": "code",
   "execution_count": null,
   "metadata": {
    "collapsed": false
   },
   "outputs": [],
   "source": [
    "reduced_df[reduced_df.Year==25]"
   ]
  },
  {
   "cell_type": "code",
   "execution_count": null,
   "metadata": {
    "collapsed": false,
    "scrolled": true
   },
   "outputs": [],
   "source": [
    "reduced_df.groupby(reduced_df.Year).count()"
   ]
  },
  {
   "cell_type": "markdown",
   "metadata": {},
   "source": [
    "If in the name a comma is present, it is possible that the year is misunderstood."
   ]
  },
  {
   "cell_type": "code",
   "execution_count": null,
   "metadata": {
    "collapsed": true
   },
   "outputs": [],
   "source": [
    "names=reduced_df.Name\n",
    "list_names=[]\n",
    "for name in names:\n",
    "    if ',' in name:\n",
    "        list_names.append(name)"
   ]
  },
  {
   "cell_type": "code",
   "execution_count": null,
   "metadata": {
    "collapsed": false
   },
   "outputs": [],
   "source": [
    "df['CommaInName']=df.Name.str.contains(',')"
   ]
  },
  {
   "cell_type": "code",
   "execution_count": null,
   "metadata": {
    "collapsed": true
   },
   "outputs": [],
   "source": [
    "df['Less120']=df.Year<120"
   ]
  },
  {
   "cell_type": "code",
   "execution_count": null,
   "metadata": {
    "collapsed": false
   },
   "outputs": [],
   "source": [
    "df['FalseYear']=df.CommaInName & df.Less120"
   ]
  },
  {
   "cell_type": "code",
   "execution_count": null,
   "metadata": {
    "collapsed": true
   },
   "outputs": [],
   "source": [
    "def false_year(x):\n",
    "    if x.iloc[0].FalseYear:\n",
    "        x['Year']=float('nan')\n",
    "    return x"
   ]
  },
  {
   "cell_type": "code",
   "execution_count": null,
   "metadata": {
    "collapsed": false
   },
   "outputs": [],
   "source": [
    "df=df.groupby(df.FalseYear).apply(false_year)"
   ]
  },
  {
   "cell_type": "code",
   "execution_count": null,
   "metadata": {
    "collapsed": true
   },
   "outputs": [],
   "source": [
    "del df['CommaInName']\n",
    "del df['Less120']\n",
    "del df['FalseYear']"
   ]
  },
  {
   "cell_type": "code",
   "execution_count": null,
   "metadata": {
    "collapsed": false,
    "scrolled": true
   },
   "outputs": [],
   "source": [
    "df.head(4)"
   ]
  },
  {
   "cell_type": "code",
   "execution_count": null,
   "metadata": {
    "collapsed": false
   },
   "outputs": [],
   "source": [
    "reduced_df=df[df.Year<120]"
   ]
  },
  {
   "cell_type": "code",
   "execution_count": null,
   "metadata": {
    "collapsed": false,
    "scrolled": true
   },
   "outputs": [],
   "source": [
    "list(reduced_df.Year.value_counts().index)"
   ]
  },
  {
   "cell_type": "code",
   "execution_count": null,
   "metadata": {
    "collapsed": false
   },
   "outputs": [],
   "source": [
    "df.Year=df.Year.apply(lambda x: float('nan') if x<10 else x)"
   ]
  },
  {
   "cell_type": "markdown",
   "metadata": {},
   "source": [
    "# Output\n",
    "First output"
   ]
  },
  {
   "cell_type": "code",
   "execution_count": null,
   "metadata": {
    "collapsed": true
   },
   "outputs": [],
   "source": [
    "df_output=df.copy()"
   ]
  },
  {
   "cell_type": "code",
   "execution_count": null,
   "metadata": {
    "collapsed": false
   },
   "outputs": [],
   "source": [
    "df_output.shape"
   ]
  },
  {
   "cell_type": "code",
   "execution_count": null,
   "metadata": {
    "collapsed": false
   },
   "outputs": [],
   "source": [
    "df_output.head()"
   ]
  },
  {
   "cell_type": "code",
   "execution_count": null,
   "metadata": {
    "collapsed": false,
    "scrolled": true
   },
   "outputs": [],
   "source": [
    "df_output['Name']=df_output.Name.apply(lambda x: x.split(',')[0])"
   ]
  },
  {
   "cell_type": "code",
   "execution_count": null,
   "metadata": {
    "collapsed": false
   },
   "outputs": [],
   "source": [
    "df_output['len_name']=df_output.Name.apply(lambda x: len(x.rstrip().lstrip().split(' ')))"
   ]
  },
  {
   "cell_type": "code",
   "execution_count": null,
   "metadata": {
    "collapsed": false
   },
   "outputs": [],
   "source": [
    "df_output['Name']=df_output.Name.apply(lambda x: x.split('+')[0])"
   ]
  },
  {
   "cell_type": "code",
   "execution_count": null,
   "metadata": {
    "collapsed": false
   },
   "outputs": [],
   "source": [
    "df_output"
   ]
  },
  {
   "cell_type": "code",
   "execution_count": null,
   "metadata": {
    "collapsed": false
   },
   "outputs": [],
   "source": [
    "df_output.len_name.value_counts()"
   ]
  },
  {
   "cell_type": "code",
   "execution_count": null,
   "metadata": {
    "collapsed": false,
    "scrolled": true
   },
   "outputs": [],
   "source": [
    "df_output[df_output.len_name==6]"
   ]
  },
  {
   "cell_type": "code",
   "execution_count": null,
   "metadata": {
    "collapsed": false
   },
   "outputs": [],
   "source": [
    "df_output.groupby(df_output.RaceYear).count()"
   ]
  },
  {
   "cell_type": "code",
   "execution_count": null,
   "metadata": {
    "collapsed": false
   },
   "outputs": [],
   "source": [
    "df.groupby(df.RaceYear).count()"
   ]
  },
  {
   "cell_type": "markdown",
   "metadata": {},
   "source": [
    "# Solve problem 2 runners with same name in the same race"
   ]
  },
  {
   "cell_type": "code",
   "execution_count": null,
   "metadata": {
    "collapsed": true
   },
   "outputs": [],
   "source": [
    "df_output=pd.read_pickle('../datasets/df_year_fixed.pickle')"
   ]
  },
  {
   "cell_type": "code",
   "execution_count": null,
   "metadata": {
    "collapsed": true
   },
   "outputs": [],
   "source": [
    "df_red=df_output[df_output.Race!='Course de l\\'Escalade, Genève']"
   ]
  },
  {
   "cell_type": "code",
   "execution_count": null,
   "metadata": {
    "collapsed": false
   },
   "outputs": [],
   "source": [
    "df_red.shape"
   ]
  },
  {
   "cell_type": "code",
   "execution_count": null,
   "metadata": {
    "collapsed": true
   },
   "outputs": [],
   "source": [
    "grouped=df_red.groupby([df_red.RaceID,df_red.Name,df_output.Year])"
   ]
  },
  {
   "cell_type": "code",
   "execution_count": null,
   "metadata": {
    "collapsed": false
   },
   "outputs": [],
   "source": [
    "cont=0\n",
    "for i,a in grouped:\n",
    "    cont+=1\n",
    "    if cont%100000==0:\n",
    "        print(cont)\n",
    "    if cont>1000000:\n",
    "        if a.shape[0]>1:\n",
    "            print(a)\n",
    "    \n",
    "    "
   ]
  },
  {
   "cell_type": "markdown",
   "metadata": {},
   "source": [
    "# Sex verification"
   ]
  },
  {
   "cell_type": "code",
   "execution_count": null,
   "metadata": {
    "collapsed": false
   },
   "outputs": [],
   "source": [
    "lau=df_output[(df_output.RaceID=='http://services.datasport.com/2007/lauf/Greifenseelauf')&(df_output.Distance>6)]"
   ]
  },
  {
   "cell_type": "code",
   "execution_count": null,
   "metadata": {
    "collapsed": false,
    "scrolled": true
   },
   "outputs": [],
   "source": [
    "lau.Distance.value_counts()"
   ]
  },
  {
   "cell_type": "code",
   "execution_count": null,
   "metadata": {
    "collapsed": false
   },
   "outputs": [],
   "source": [
    "lau.Sex.value_counts()"
   ]
  },
  {
   "cell_type": "code",
   "execution_count": null,
   "metadata": {
    "collapsed": false,
    "scrolled": true
   },
   "outputs": [],
   "source": [
    "df_output.RaceID.value_counts()"
   ]
  },
  {
   "cell_type": "code",
   "execution_count": null,
   "metadata": {
    "collapsed": false
   },
   "outputs": [],
   "source": [
    "df_output"
   ]
  },
  {
   "cell_type": "markdown",
   "metadata": {},
   "source": [
    "# Output to file"
   ]
  },
  {
   "cell_type": "code",
   "execution_count": null,
   "metadata": {
    "collapsed": true
   },
   "outputs": [],
   "source": [
    "df_output.to_pickle('../datasets/df_year_fixed.pickle')"
   ]
  },
  {
   "cell_type": "code",
   "execution_count": null,
   "metadata": {
    "collapsed": false
   },
   "outputs": [],
   "source": [
    "df_output"
   ]
  }
 ],
 "metadata": {
  "anaconda-cloud": {},
  "kernelspec": {
   "display_name": "Python [Root]",
   "language": "python",
   "name": "Python [Root]"
  },
  "language_info": {
   "codemirror_mode": {
    "name": "ipython",
    "version": 3
   },
   "file_extension": ".py",
   "mimetype": "text/x-python",
   "name": "python",
   "nbconvert_exporter": "python",
   "pygments_lexer": "ipython3",
   "version": "3.5.2"
  }
 },
 "nbformat": 4,
 "nbformat_minor": 0
}
