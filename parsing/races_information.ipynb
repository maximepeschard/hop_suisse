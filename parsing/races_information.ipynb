{
 "cells": [
  {
   "cell_type": "markdown",
   "metadata": {},
   "source": [
    "# Races information\n",
    "\n",
    "This notebook describes the steps to get a final table describing the parsed races at a high level."
   ]
  },
  {
   "cell_type": "code",
   "execution_count": 1,
   "metadata": {
    "collapsed": true
   },
   "outputs": [],
   "source": [
    "import numpy as np\n",
    "import pandas as pd"
   ]
  },
  {
   "cell_type": "markdown",
   "metadata": {},
   "source": [
    "## Getting weather\n",
    "\n",
    "We start from the file [`links2runs.csv`](../datasets/links2runs.csv), containing all links to the races/competitions we care about (this same file is also used to get *detailed* information about the results and participants in each race).\n",
    "\n",
    "Using this file and the two scripts [`weather.py`](../weather/weather.py) and [`weather_utils.py`](../weather/weather_utils.py), we can get the weather conditions for half of the races, using the [World Weather Online API](https://developer.worldweatheronline.com/api/). The result is the file [`races-information-weather.csv`](../datasets/races-information-weather.csv)."
   ]
  },
  {
   "cell_type": "code",
   "execution_count": 2,
   "metadata": {
    "collapsed": false
   },
   "outputs": [
    {
     "data": {
      "text/html": [
       "<div>\n",
       "<table border=\"1\" class=\"dataframe\">\n",
       "  <thead>\n",
       "    <tr style=\"text-align: right;\">\n",
       "      <th></th>\n",
       "      <th>Unnamed: 0.1</th>\n",
       "      <th>Date</th>\n",
       "      <th>Name</th>\n",
       "      <th>Place</th>\n",
       "      <th>URL</th>\n",
       "      <th>min_temp</th>\n",
       "      <th>max_temp</th>\n",
       "      <th>uv_index</th>\n",
       "      <th>weather_desc</th>\n",
       "    </tr>\n",
       "  </thead>\n",
       "  <tbody>\n",
       "    <tr>\n",
       "      <th>2003</th>\n",
       "      <td>2003</td>\n",
       "      <td>sam. 12.12.2015</td>\n",
       "      <td>Christmas Midnight Run, Lausanne</td>\n",
       "      <td>Lausanne</td>\n",
       "      <td>http://services.datasport.com/2015/lauf/midnight</td>\n",
       "      <td>6.0</td>\n",
       "      <td>15.0</td>\n",
       "      <td>0.0</td>\n",
       "      <td>Clear</td>\n",
       "    </tr>\n",
       "    <tr>\n",
       "      <th>2004</th>\n",
       "      <td>2004</td>\n",
       "      <td>sam. 12.12.2015</td>\n",
       "      <td>La Trotteuse-Tissot, La Chaux-de-Fonds</td>\n",
       "      <td>La Chaux-de-Fonds</td>\n",
       "      <td>http://services.datasport.com/2015/lauf/trotteuse</td>\n",
       "      <td>2.0</td>\n",
       "      <td>8.0</td>\n",
       "      <td>0.0</td>\n",
       "      <td>Clear</td>\n",
       "    </tr>\n",
       "    <tr>\n",
       "      <th>2005</th>\n",
       "      <td>2005</td>\n",
       "      <td>sam. 05.12.2015</td>\n",
       "      <td>Course de l'Escalade, Genève</td>\n",
       "      <td>Genève</td>\n",
       "      <td>http://services.datasport.com/2015/lauf/escalade</td>\n",
       "      <td>0.0</td>\n",
       "      <td>9.0</td>\n",
       "      <td>0.0</td>\n",
       "      <td>Sunny</td>\n",
       "    </tr>\n",
       "    <tr>\n",
       "      <th>2006</th>\n",
       "      <td>2006</td>\n",
       "      <td>sam. 05.12.2015</td>\n",
       "      <td>Gossauer Weihnachtslauf</td>\n",
       "      <td>Gossau SG</td>\n",
       "      <td>http://services.datasport.com/2015/lauf/gossau</td>\n",
       "      <td>4.0</td>\n",
       "      <td>14.0</td>\n",
       "      <td>0.0</td>\n",
       "      <td>Clear</td>\n",
       "    </tr>\n",
       "    <tr>\n",
       "      <th>2007</th>\n",
       "      <td>2007</td>\n",
       "      <td>sam. 05.12.2015</td>\n",
       "      <td>Course à Travers Aigle</td>\n",
       "      <td>Aigle</td>\n",
       "      <td>http://services.datasport.com/2015/lauf/aigle</td>\n",
       "      <td>NaN</td>\n",
       "      <td>NaN</td>\n",
       "      <td>NaN</td>\n",
       "      <td>NaN</td>\n",
       "    </tr>\n",
       "  </tbody>\n",
       "</table>\n",
       "</div>"
      ],
      "text/plain": [
       "      Unnamed: 0.1             Date                                    Name  \\\n",
       "2003          2003  sam. 12.12.2015        Christmas Midnight Run, Lausanne   \n",
       "2004          2004  sam. 12.12.2015  La Trotteuse-Tissot, La Chaux-de-Fonds   \n",
       "2005          2005  sam. 05.12.2015            Course de l'Escalade, Genève   \n",
       "2006          2006  sam. 05.12.2015                 Gossauer Weihnachtslauf   \n",
       "2007          2007  sam. 05.12.2015                  Course à Travers Aigle   \n",
       "\n",
       "                  Place                                                URL  \\\n",
       "2003           Lausanne   http://services.datasport.com/2015/lauf/midnight   \n",
       "2004  La Chaux-de-Fonds  http://services.datasport.com/2015/lauf/trotteuse   \n",
       "2005             Genève   http://services.datasport.com/2015/lauf/escalade   \n",
       "2006          Gossau SG     http://services.datasport.com/2015/lauf/gossau   \n",
       "2007              Aigle      http://services.datasport.com/2015/lauf/aigle   \n",
       "\n",
       "      min_temp  max_temp  uv_index weather_desc  \n",
       "2003       6.0      15.0       0.0        Clear  \n",
       "2004       2.0       8.0       0.0        Clear  \n",
       "2005       0.0       9.0       0.0        Sunny  \n",
       "2006       4.0      14.0       0.0        Clear  \n",
       "2007       NaN       NaN       NaN          NaN  "
      ]
     },
     "execution_count": 2,
     "metadata": {},
     "output_type": "execute_result"
    }
   ],
   "source": [
    "races_weather = pd.read_csv('../datasets/races-information-weather.csv', index_col=0)\n",
    "races_weather.tail()"
   ]
  },
  {
   "cell_type": "markdown",
   "metadata": {},
   "source": [
    "Despite some effort on our weather scripts, we added a dummy column as a side effect, let's remove it."
   ]
  },
  {
   "cell_type": "code",
   "execution_count": 3,
   "metadata": {
    "collapsed": false,
    "scrolled": true
   },
   "outputs": [
    {
     "name": "stdout",
     "output_type": "stream",
     "text": [
      "(2004, 8)\n"
     ]
    },
    {
     "data": {
      "text/html": [
       "<div>\n",
       "<table border=\"1\" class=\"dataframe\">\n",
       "  <thead>\n",
       "    <tr style=\"text-align: right;\">\n",
       "      <th></th>\n",
       "      <th>date</th>\n",
       "      <th>name</th>\n",
       "      <th>location</th>\n",
       "      <th>url</th>\n",
       "      <th>min_temp</th>\n",
       "      <th>max_temp</th>\n",
       "      <th>uv_index</th>\n",
       "      <th>weather_desc</th>\n",
       "    </tr>\n",
       "  </thead>\n",
       "  <tbody>\n",
       "    <tr>\n",
       "      <th>1999</th>\n",
       "      <td>sam. 12.12.2015</td>\n",
       "      <td>Christmas Midnight Run, Lausanne</td>\n",
       "      <td>Lausanne</td>\n",
       "      <td>http://services.datasport.com/2015/lauf/midnight</td>\n",
       "      <td>6.0</td>\n",
       "      <td>15.0</td>\n",
       "      <td>0.0</td>\n",
       "      <td>Clear</td>\n",
       "    </tr>\n",
       "    <tr>\n",
       "      <th>2000</th>\n",
       "      <td>sam. 12.12.2015</td>\n",
       "      <td>La Trotteuse-Tissot, La Chaux-de-Fonds</td>\n",
       "      <td>La Chaux-de-Fonds</td>\n",
       "      <td>http://services.datasport.com/2015/lauf/trotteuse</td>\n",
       "      <td>2.0</td>\n",
       "      <td>8.0</td>\n",
       "      <td>0.0</td>\n",
       "      <td>Clear</td>\n",
       "    </tr>\n",
       "    <tr>\n",
       "      <th>2001</th>\n",
       "      <td>sam. 05.12.2015</td>\n",
       "      <td>Course de l'Escalade, Genève</td>\n",
       "      <td>Genève</td>\n",
       "      <td>http://services.datasport.com/2015/lauf/escalade</td>\n",
       "      <td>0.0</td>\n",
       "      <td>9.0</td>\n",
       "      <td>0.0</td>\n",
       "      <td>Sunny</td>\n",
       "    </tr>\n",
       "    <tr>\n",
       "      <th>2002</th>\n",
       "      <td>sam. 05.12.2015</td>\n",
       "      <td>Gossauer Weihnachtslauf</td>\n",
       "      <td>Gossau SG</td>\n",
       "      <td>http://services.datasport.com/2015/lauf/gossau</td>\n",
       "      <td>4.0</td>\n",
       "      <td>14.0</td>\n",
       "      <td>0.0</td>\n",
       "      <td>Clear</td>\n",
       "    </tr>\n",
       "    <tr>\n",
       "      <th>2003</th>\n",
       "      <td>sam. 05.12.2015</td>\n",
       "      <td>Course à Travers Aigle</td>\n",
       "      <td>Aigle</td>\n",
       "      <td>http://services.datasport.com/2015/lauf/aigle</td>\n",
       "      <td>NaN</td>\n",
       "      <td>NaN</td>\n",
       "      <td>NaN</td>\n",
       "      <td>NaN</td>\n",
       "    </tr>\n",
       "  </tbody>\n",
       "</table>\n",
       "</div>"
      ],
      "text/plain": [
       "                 date                                    name  \\\n",
       "1999  sam. 12.12.2015        Christmas Midnight Run, Lausanne   \n",
       "2000  sam. 12.12.2015  La Trotteuse-Tissot, La Chaux-de-Fonds   \n",
       "2001  sam. 05.12.2015            Course de l'Escalade, Genève   \n",
       "2002  sam. 05.12.2015                 Gossauer Weihnachtslauf   \n",
       "2003  sam. 05.12.2015                  Course à Travers Aigle   \n",
       "\n",
       "               location                                                url  \\\n",
       "1999           Lausanne   http://services.datasport.com/2015/lauf/midnight   \n",
       "2000  La Chaux-de-Fonds  http://services.datasport.com/2015/lauf/trotteuse   \n",
       "2001             Genève   http://services.datasport.com/2015/lauf/escalade   \n",
       "2002          Gossau SG     http://services.datasport.com/2015/lauf/gossau   \n",
       "2003              Aigle      http://services.datasport.com/2015/lauf/aigle   \n",
       "\n",
       "      min_temp  max_temp  uv_index weather_desc  \n",
       "1999       6.0      15.0       0.0        Clear  \n",
       "2000       2.0       8.0       0.0        Clear  \n",
       "2001       0.0       9.0       0.0        Sunny  \n",
       "2002       4.0      14.0       0.0        Clear  \n",
       "2003       NaN       NaN       NaN          NaN  "
      ]
     },
     "execution_count": 3,
     "metadata": {},
     "output_type": "execute_result"
    }
   ],
   "source": [
    "races_weather_clean = races_weather.drop('Unnamed: 0.1', axis=1).drop_duplicates().reset_index(drop=True)\n",
    "races_weather_clean.columns = ['date','name','location','url','min_temp','max_temp','uv_index','weather_desc']\n",
    "print(races_weather_clean.shape)\n",
    "races_weather_clean.tail()"
   ]
  },
  {
   "cell_type": "markdown",
   "metadata": {},
   "source": [
    "## Getting coordinates\n",
    "\n",
    "At this point we can also add coordinates that were retrieved in [`geography.csv`](../datasets/geography.csv)."
   ]
  },
  {
   "cell_type": "code",
   "execution_count": 5,
   "metadata": {
    "collapsed": false,
    "scrolled": true
   },
   "outputs": [
    {
     "name": "stdout",
     "output_type": "stream",
     "text": [
      "(11247, 3)\n"
     ]
    },
    {
     "data": {
      "text/html": [
       "<div>\n",
       "<table border=\"1\" class=\"dataframe\">\n",
       "  <thead>\n",
       "    <tr style=\"text-align: right;\">\n",
       "      <th></th>\n",
       "      <th>location</th>\n",
       "      <th>latitude</th>\n",
       "      <th>longitude</th>\n",
       "    </tr>\n",
       "  </thead>\n",
       "  <tbody>\n",
       "    <tr>\n",
       "      <th>0</th>\n",
       "      <td>St-Légier-La Chiésaz</td>\n",
       "      <td>46.47171849999999</td>\n",
       "      <td>6.876770899999999</td>\n",
       "    </tr>\n",
       "    <tr>\n",
       "      <th>1</th>\n",
       "      <td>St-Légier</td>\n",
       "      <td>46.47171849999999</td>\n",
       "      <td>6.876770899999999</td>\n",
       "    </tr>\n",
       "    <tr>\n",
       "      <th>3</th>\n",
       "      <td>Ernen</td>\n",
       "      <td>46.39850010000001</td>\n",
       "      <td>8.1457733</td>\n",
       "    </tr>\n",
       "    <tr>\n",
       "      <th>4</th>\n",
       "      <td>Lausanne</td>\n",
       "      <td>46.5196535</td>\n",
       "      <td>6.6322734</td>\n",
       "    </tr>\n",
       "    <tr>\n",
       "      <th>5</th>\n",
       "      <td>Pully</td>\n",
       "      <td>46.5092681</td>\n",
       "      <td>6.6654949</td>\n",
       "    </tr>\n",
       "  </tbody>\n",
       "</table>\n",
       "</div>"
      ],
      "text/plain": [
       "               location           latitude          longitude\n",
       "0  St-Légier-La Chiésaz  46.47171849999999  6.876770899999999\n",
       "1             St-Légier  46.47171849999999  6.876770899999999\n",
       "3                 Ernen  46.39850010000001          8.1457733\n",
       "4              Lausanne         46.5196535          6.6322734\n",
       "5                 Pully         46.5092681          6.6654949"
      ]
     },
     "execution_count": 5,
     "metadata": {},
     "output_type": "execute_result"
    }
   ],
   "source": [
    "geography = pd.read_csv('../datasets/geography.csv', encoding='latin1', index_col=0)\n",
    "geography.columns = ['location','latitude','longitude']\n",
    "print(geography.shape)\n",
    "geography.head()"
   ]
  },
  {
   "cell_type": "markdown",
   "metadata": {},
   "source": [
    "We merge the dataframes to build a more complete one :"
   ]
  },
  {
   "cell_type": "code",
   "execution_count": 6,
   "metadata": {
    "collapsed": false
   },
   "outputs": [
    {
     "name": "stdout",
     "output_type": "stream",
     "text": [
      "(2004, 10)\n"
     ]
    },
    {
     "data": {
      "text/html": [
       "<div>\n",
       "<table border=\"1\" class=\"dataframe\">\n",
       "  <thead>\n",
       "    <tr style=\"text-align: right;\">\n",
       "      <th></th>\n",
       "      <th>date</th>\n",
       "      <th>name</th>\n",
       "      <th>location</th>\n",
       "      <th>url</th>\n",
       "      <th>min_temp</th>\n",
       "      <th>max_temp</th>\n",
       "      <th>uv_index</th>\n",
       "      <th>weather_desc</th>\n",
       "      <th>latitude</th>\n",
       "      <th>longitude</th>\n",
       "    </tr>\n",
       "  </thead>\n",
       "  <tbody>\n",
       "    <tr>\n",
       "      <th>1999</th>\n",
       "      <td>sam. 12.12.2015</td>\n",
       "      <td>Christmas Midnight Run, Lausanne</td>\n",
       "      <td>Lausanne</td>\n",
       "      <td>http://services.datasport.com/2015/lauf/midnight</td>\n",
       "      <td>6.0</td>\n",
       "      <td>15.0</td>\n",
       "      <td>0.0</td>\n",
       "      <td>Clear</td>\n",
       "      <td>46.5196535</td>\n",
       "      <td>6.6322734</td>\n",
       "    </tr>\n",
       "    <tr>\n",
       "      <th>2000</th>\n",
       "      <td>sam. 12.12.2015</td>\n",
       "      <td>La Trotteuse-Tissot, La Chaux-de-Fonds</td>\n",
       "      <td>La Chaux-de-Fonds</td>\n",
       "      <td>http://services.datasport.com/2015/lauf/trotteuse</td>\n",
       "      <td>2.0</td>\n",
       "      <td>8.0</td>\n",
       "      <td>0.0</td>\n",
       "      <td>Clear</td>\n",
       "      <td>47.1034892</td>\n",
       "      <td>6.832783800000001</td>\n",
       "    </tr>\n",
       "    <tr>\n",
       "      <th>2001</th>\n",
       "      <td>sam. 05.12.2015</td>\n",
       "      <td>Course de l'Escalade, Genève</td>\n",
       "      <td>Genève</td>\n",
       "      <td>http://services.datasport.com/2015/lauf/escalade</td>\n",
       "      <td>0.0</td>\n",
       "      <td>9.0</td>\n",
       "      <td>0.0</td>\n",
       "      <td>Sunny</td>\n",
       "      <td>46.2043907</td>\n",
       "      <td>6.1431577</td>\n",
       "    </tr>\n",
       "    <tr>\n",
       "      <th>2002</th>\n",
       "      <td>sam. 05.12.2015</td>\n",
       "      <td>Gossauer Weihnachtslauf</td>\n",
       "      <td>Gossau SG</td>\n",
       "      <td>http://services.datasport.com/2015/lauf/gossau</td>\n",
       "      <td>4.0</td>\n",
       "      <td>14.0</td>\n",
       "      <td>0.0</td>\n",
       "      <td>Clear</td>\n",
       "      <td>47.4155608</td>\n",
       "      <td>9.248852</td>\n",
       "    </tr>\n",
       "    <tr>\n",
       "      <th>2003</th>\n",
       "      <td>sam. 05.12.2015</td>\n",
       "      <td>Course à Travers Aigle</td>\n",
       "      <td>Aigle</td>\n",
       "      <td>http://services.datasport.com/2015/lauf/aigle</td>\n",
       "      <td>NaN</td>\n",
       "      <td>NaN</td>\n",
       "      <td>NaN</td>\n",
       "      <td>NaN</td>\n",
       "      <td>46.3190253</td>\n",
       "      <td>6.970566</td>\n",
       "    </tr>\n",
       "  </tbody>\n",
       "</table>\n",
       "</div>"
      ],
      "text/plain": [
       "                 date                                    name  \\\n",
       "1999  sam. 12.12.2015        Christmas Midnight Run, Lausanne   \n",
       "2000  sam. 12.12.2015  La Trotteuse-Tissot, La Chaux-de-Fonds   \n",
       "2001  sam. 05.12.2015            Course de l'Escalade, Genève   \n",
       "2002  sam. 05.12.2015                 Gossauer Weihnachtslauf   \n",
       "2003  sam. 05.12.2015                  Course à Travers Aigle   \n",
       "\n",
       "               location                                                url  \\\n",
       "1999           Lausanne   http://services.datasport.com/2015/lauf/midnight   \n",
       "2000  La Chaux-de-Fonds  http://services.datasport.com/2015/lauf/trotteuse   \n",
       "2001             Genève   http://services.datasport.com/2015/lauf/escalade   \n",
       "2002          Gossau SG     http://services.datasport.com/2015/lauf/gossau   \n",
       "2003              Aigle      http://services.datasport.com/2015/lauf/aigle   \n",
       "\n",
       "      min_temp  max_temp  uv_index weather_desc    latitude          longitude  \n",
       "1999       6.0      15.0       0.0        Clear  46.5196535          6.6322734  \n",
       "2000       2.0       8.0       0.0        Clear  47.1034892  6.832783800000001  \n",
       "2001       0.0       9.0       0.0        Sunny  46.2043907          6.1431577  \n",
       "2002       4.0      14.0       0.0        Clear  47.4155608           9.248852  \n",
       "2003       NaN       NaN       NaN          NaN  46.3190253           6.970566  "
      ]
     },
     "execution_count": 6,
     "metadata": {},
     "output_type": "execute_result"
    }
   ],
   "source": [
    "races_gps = pd.merge(races_weather_clean, geography, on='location', how='left').drop_duplicates()\n",
    "races_gps = races_gps.reset_index(drop=True)\n",
    "print(races_gps.shape)\n",
    "races_gps.tail()"
   ]
  },
  {
   "cell_type": "markdown",
   "metadata": {},
   "source": [
    "## Parsing dates\n",
    "\n",
    "Final step : we can parse the dates, in case it's useful later.."
   ]
  },
  {
   "cell_type": "code",
   "execution_count": 7,
   "metadata": {
    "collapsed": true
   },
   "outputs": [],
   "source": [
    "races_final = races_gps.copy()"
   ]
  },
  {
   "cell_type": "code",
   "execution_count": 8,
   "metadata": {
    "collapsed": true
   },
   "outputs": [],
   "source": [
    "week_dict = {\n",
    "    'lun': 'monday',\n",
    "    'mar': 'tuesday',\n",
    "    'mer': 'wednesday',\n",
    "    'jeu': 'thursday',\n",
    "    'ven': 'friday',\n",
    "    'sam': 'saturday',\n",
    "    'dim': 'sunday'\n",
    "}"
   ]
  },
  {
   "cell_type": "code",
   "execution_count": 9,
   "metadata": {
    "collapsed": false
   },
   "outputs": [],
   "source": [
    "races_final['weekday'] = races_final.date.apply(lambda x: week_dict[x.split('.')[0].strip()])\n",
    "races_final['day'] = races_final.date.apply(lambda x: int(x.split('.')[1].strip()))\n",
    "races_final['month'] = races_final.date.apply(lambda x: int(x.split('.')[2].strip()))\n",
    "races_final['year'] = races_final.date.apply(lambda x: int(x.split('.')[3].strip()))"
   ]
  },
  {
   "cell_type": "code",
   "execution_count": 10,
   "metadata": {
    "collapsed": false
   },
   "outputs": [
    {
     "data": {
      "text/html": [
       "<div>\n",
       "<table border=\"1\" class=\"dataframe\">\n",
       "  <thead>\n",
       "    <tr style=\"text-align: right;\">\n",
       "      <th></th>\n",
       "      <th>date</th>\n",
       "      <th>name</th>\n",
       "      <th>location</th>\n",
       "      <th>url</th>\n",
       "      <th>min_temp</th>\n",
       "      <th>max_temp</th>\n",
       "      <th>uv_index</th>\n",
       "      <th>weather_desc</th>\n",
       "      <th>latitude</th>\n",
       "      <th>longitude</th>\n",
       "      <th>weekday</th>\n",
       "      <th>day</th>\n",
       "      <th>month</th>\n",
       "      <th>year</th>\n",
       "    </tr>\n",
       "  </thead>\n",
       "  <tbody>\n",
       "    <tr>\n",
       "      <th>0</th>\n",
       "      <td>sam. 27.03.1999</td>\n",
       "      <td>Männedörfler Waldlauf</td>\n",
       "      <td>Männedorf</td>\n",
       "      <td>http://services.datasport.com/1999/zkb/maennedorf</td>\n",
       "      <td>NaN</td>\n",
       "      <td>NaN</td>\n",
       "      <td>NaN</td>\n",
       "      <td>NaN</td>\n",
       "      <td>47.2574625</td>\n",
       "      <td>8.6946733</td>\n",
       "      <td>saturday</td>\n",
       "      <td>27</td>\n",
       "      <td>3</td>\n",
       "      <td>1999</td>\n",
       "    </tr>\n",
       "    <tr>\n",
       "      <th>1</th>\n",
       "      <td>sam. 20.03.1999</td>\n",
       "      <td>Kerzerslauf</td>\n",
       "      <td>Kerzers</td>\n",
       "      <td>http://services.datasport.com/1999/lauf/kerzers</td>\n",
       "      <td>NaN</td>\n",
       "      <td>NaN</td>\n",
       "      <td>NaN</td>\n",
       "      <td>NaN</td>\n",
       "      <td>46.97488999999999</td>\n",
       "      <td>7.1954365</td>\n",
       "      <td>saturday</td>\n",
       "      <td>20</td>\n",
       "      <td>3</td>\n",
       "      <td>1999</td>\n",
       "    </tr>\n",
       "    <tr>\n",
       "      <th>2</th>\n",
       "      <td>sam. 24.04.1999</td>\n",
       "      <td>Luzerner Stadtlauf</td>\n",
       "      <td>Luzern</td>\n",
       "      <td>http://services.datasport.com/1999/lauf/luzern</td>\n",
       "      <td>NaN</td>\n",
       "      <td>NaN</td>\n",
       "      <td>NaN</td>\n",
       "      <td>NaN</td>\n",
       "      <td>47.05016819999999</td>\n",
       "      <td>8.3093072</td>\n",
       "      <td>saturday</td>\n",
       "      <td>24</td>\n",
       "      <td>4</td>\n",
       "      <td>1999</td>\n",
       "    </tr>\n",
       "    <tr>\n",
       "      <th>3</th>\n",
       "      <td>sam. 24.04.1999</td>\n",
       "      <td>20km de Lausanne</td>\n",
       "      <td>Lausanne</td>\n",
       "      <td>http://services.datasport.com/1999/lauf/km20</td>\n",
       "      <td>NaN</td>\n",
       "      <td>NaN</td>\n",
       "      <td>NaN</td>\n",
       "      <td>NaN</td>\n",
       "      <td>46.5196535</td>\n",
       "      <td>6.6322734</td>\n",
       "      <td>saturday</td>\n",
       "      <td>24</td>\n",
       "      <td>4</td>\n",
       "      <td>1999</td>\n",
       "    </tr>\n",
       "    <tr>\n",
       "      <th>4</th>\n",
       "      <td>sam. 24.04.1999</td>\n",
       "      <td>Chäsitzerlouf, Kehrsatz</td>\n",
       "      <td>Kehrsatz</td>\n",
       "      <td>http://services.datasport.com/1999/lauf/kehrsatz</td>\n",
       "      <td>NaN</td>\n",
       "      <td>NaN</td>\n",
       "      <td>NaN</td>\n",
       "      <td>NaN</td>\n",
       "      <td>NaN</td>\n",
       "      <td>NaN</td>\n",
       "      <td>saturday</td>\n",
       "      <td>24</td>\n",
       "      <td>4</td>\n",
       "      <td>1999</td>\n",
       "    </tr>\n",
       "  </tbody>\n",
       "</table>\n",
       "</div>"
      ],
      "text/plain": [
       "              date                     name   location  \\\n",
       "0  sam. 27.03.1999    Männedörfler Waldlauf  Männedorf   \n",
       "1  sam. 20.03.1999              Kerzerslauf    Kerzers   \n",
       "2  sam. 24.04.1999       Luzerner Stadtlauf     Luzern   \n",
       "3  sam. 24.04.1999         20km de Lausanne   Lausanne   \n",
       "4  sam. 24.04.1999  Chäsitzerlouf, Kehrsatz   Kehrsatz   \n",
       "\n",
       "                                                 url  min_temp  max_temp  \\\n",
       "0  http://services.datasport.com/1999/zkb/maennedorf       NaN       NaN   \n",
       "1    http://services.datasport.com/1999/lauf/kerzers       NaN       NaN   \n",
       "2     http://services.datasport.com/1999/lauf/luzern       NaN       NaN   \n",
       "3       http://services.datasport.com/1999/lauf/km20       NaN       NaN   \n",
       "4   http://services.datasport.com/1999/lauf/kehrsatz       NaN       NaN   \n",
       "\n",
       "   uv_index weather_desc           latitude  longitude   weekday  day  month  \\\n",
       "0       NaN          NaN         47.2574625  8.6946733  saturday   27      3   \n",
       "1       NaN          NaN  46.97488999999999  7.1954365  saturday   20      3   \n",
       "2       NaN          NaN  47.05016819999999  8.3093072  saturday   24      4   \n",
       "3       NaN          NaN         46.5196535  6.6322734  saturday   24      4   \n",
       "4       NaN          NaN                NaN        NaN  saturday   24      4   \n",
       "\n",
       "   year  \n",
       "0  1999  \n",
       "1  1999  \n",
       "2  1999  \n",
       "3  1999  \n",
       "4  1999  "
      ]
     },
     "execution_count": 10,
     "metadata": {},
     "output_type": "execute_result"
    }
   ],
   "source": [
    "races_final.head()"
   ]
  },
  {
   "cell_type": "markdown",
   "metadata": {},
   "source": [
    "## Exporting"
   ]
  },
  {
   "cell_type": "code",
   "execution_count": 11,
   "metadata": {
    "collapsed": true
   },
   "outputs": [],
   "source": [
    "races_final.to_csv('../datasets/races-information.csv')"
   ]
  }
 ],
 "metadata": {
  "kernelspec": {
   "display_name": "Python 3",
   "language": "python",
   "name": "python3"
  },
  "language_info": {
   "codemirror_mode": {
    "name": "ipython",
    "version": 3
   },
   "file_extension": ".py",
   "mimetype": "text/x-python",
   "name": "python",
   "nbconvert_exporter": "python",
   "pygments_lexer": "ipython3",
   "version": "3.5.2"
  }
 },
 "nbformat": 4,
 "nbformat_minor": 1
}
